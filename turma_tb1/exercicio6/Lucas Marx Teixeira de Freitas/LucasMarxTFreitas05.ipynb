{
 "cells": [
  {
   "cell_type": "markdown",
   "metadata": {},
   "source": [
    "Lucas Marx T. Freitas 2018015570 "
   ]
  },
  {
   "cell_type": "markdown",
   "metadata": {},
   "source": [
    "Exercicio 1"
   ]
  },
  {
   "cell_type": "markdown",
   "metadata": {},
   "source": [
    "#programa recursivo para calcular o fatorial (não modificado)\n",
    "def fatorial(n):\n",
    "    resultado = 0\n",
    "    if n >= 0:\n",
    "        if n == 0:\n",
    "            resultado = 1\n",
    "        else:\n",
    "            resultado = n*fatorial(n-1)\n",
    "        return resultado\n",
    "\n",
    "#programa iterativo para calcular o fatorial (não modificado)\n",
    "def fatorial(n):\n",
    "    resultado = 0\n",
    "    if n >= 0:\n",
    "        resultado = 1\n",
    "        while (n > 1):\n",
    "            resultado = resultado * n\n",
    "            n = n - 1\n",
    "    return resultado\n"
   ]
  },
  {
   "cell_type": "code",
   "execution_count": null,
   "metadata": {},
   "outputs": [],
   "source": [
    "#programa recursivo refeito \n",
    "def fatorial(n):\n",
    "    result = 0\n",
    "    if n >= 0:\n",
    "        if n == 0:\n",
    "            result = 1\n",
    "    else:\n",
    "        result = (n - (n - 1))*fatorial(n + 1)  #\"A chamada recursiva irá aumentar o argumento do termo em vez de diminuir.\"\n",
    "        while result == n:       #\"O caso de base agora muda para testar se o termo é igual ao argumento n, o natural cujo fatorial se quer calcular.\"\n",
    "            break \n",
    "    return result\n",
    "\n",
    "#programa iterativo refeito\n",
    "def fatorial(n):\n",
    "    result = 0\n",
    "    if n >= 0 or n >= 1:\n",
    "        result = 1\n",
    "        while (n > 1):\n",
    "            result = result * (n - (n -1))\n",
    "            n = n + 1\n",
    "    return result"
   ]
  },
  {
   "cell_type": "markdown",
   "metadata": {},
   "source": [
    "Exercicio 2"
   ]
  },
  {
   "cell_type": "code",
   "execution_count": null,
   "metadata": {},
   "outputs": [],
   "source": [
    "#programa recursivo para calcular a função harmônica (modificado apenas para calcular a função harmônica com sinais alterados)\n",
    "def harmonicaR(n):\n",
    "    if n >= 1 or n <= -1:\n",
    "        if n == 1:\n",
    "            resultado = 1\n",
    "        if n == -1:\n",
    "            resultado = -1\n",
    "        if n > 1:\n",
    "            resultado = 1/n + harmonicaR(n-1)*(-1) # sendo um valor positivo, a primeira iteração será (-1) , a segunda, (1) e assim por diante.\n",
    "        if n < -1:\n",
    "            resultado = 1/n + harmonicaR(n-1)*(-1)*(-1)  # sendo um valor negativo, a primeira iteração será (1) , a segunda, (-1) e assim por diante.\n",
    "        return resultado"
   ]
  },
  {
   "cell_type": "markdown",
   "metadata": {},
   "source": [
    "Exercicio 3"
   ]
  },
  {
   "cell_type": "code",
   "execution_count": null,
   "metadata": {},
   "outputs": [],
   "source": [
    "import math\n",
    "math.e"
   ]
  },
  {
   "cell_type": "markdown",
   "metadata": {},
   "source": [
    "Exercicio 4"
   ]
  },
  {
   "cell_type": "code",
   "execution_count": 8,
   "metadata": {},
   "outputs": [
    {
     "ename": "NameError",
     "evalue": "name 'exercicio_4_1_1' is not defined",
     "output_type": "error",
     "traceback": [
      "\u001b[1;31m---------------------------------------------------------------------------\u001b[0m",
      "\u001b[1;31mNameError\u001b[0m                                 Traceback (most recent call last)",
      "\u001b[1;32m<ipython-input-8-b2ec799f91d9>\u001b[0m in \u001b[0;36m<module>\u001b[1;34m\u001b[0m\n\u001b[1;32m----> 1\u001b[1;33m \u001b[0mexercicio_4_1_1\u001b[0m\u001b[1;33m\u001b[0m\u001b[1;33m\u001b[0m\u001b[0m\n\u001b[0m\u001b[0;32m      2\u001b[0m \u001b[1;33m\u001b[0m\u001b[0m\n\u001b[0;32m      3\u001b[0m \u001b[0mexercicio_4_1_2\u001b[0m\u001b[1;33m\u001b[0m\u001b[1;33m\u001b[0m\u001b[0m\n\u001b[0;32m      4\u001b[0m \u001b[1;33m\u001b[0m\u001b[0m\n\u001b[0;32m      5\u001b[0m \u001b[0mexercicio_4_1_3\u001b[0m\u001b[1;33m\u001b[0m\u001b[1;33m\u001b[0m\u001b[0m\n",
      "\u001b[1;31mNameError\u001b[0m: name 'exercicio_4_1_1' is not defined"
     ]
    }
   ],
   "source": [
    "#exercicio_4_1_1\n",
    "import math\n",
    "\n",
    "def neper_homI(term,denom): \n",
    "    result = math.inf \n",
    "    while (term = 1**1/2): \n",
    "        result = denom + 1**1/2 \n",
    "        term = term + denom\n",
    "    return result\n",
    "\n",
    "#exercicio_4_1_2\n",
    "def neper_homR(term,denom):\n",
    "    if (term == 1**1/2):\n",
    "        result = denom + neper_homR(termos + 1**1/2, denom) \n",
    "    return result\n",
    "#############################################\n",
    "\n",
    "exercicio_4_2_1\n",
    "\n",
    "#exercicio_4_2_2\n",
    "def neper_homR(term,denom): \n",
    "    result = 1\n",
    "    if term = n \n",
    "        result = + 1/(n-1)\n",
    "    return result\n",
    "\n",
    "#############################################\n",
    "\n",
    "exercicio_4_3_1\n",
    "\n",
    "exercicio_4_3_2\n",
    "\n",
    "#############################################\n",
    "\n",
    "exercicio_4_4_1\n",
    "\n",
    "exercicio_4_4_2\n",
    "\n",
    "#############################################\n",
    "\n",
    "exercicio_4_5_1\n",
    "\n",
    "exercicio_4_5_2\n",
    "\n",
    "#############################################\n",
    "\n",
    "exercicio_4_6_1\n",
    "\n",
    "exercicio_4_6_2\n",
    "\n",
    "#############################################\n",
    "\n",
    "#exercicio_4_7_1\n",
    "import math \n",
    "def neper_homI(term,denom): \n",
    "    import math\n",
    "    if term = 0\n",
    "        result = 0\n",
    "    if term = 1\n",
    "        result = 1\n",
    "    while (term > 1): \n",
    "        result = math.inf\n",
    "        term = denom(term − 1) + denom(term − 2)\n",
    "        denom = denom \n",
    "    return result\n",
    "\n",
    "#exercicio_4_7_2\n",
    "def neper_homR(term,denom): \n",
    "    if term = 0\n",
    "        result = 0\n",
    "    if term = 1\n",
    "        result = 1\n",
    "    else: \n",
    "        result = denom(term − 1) + denom(term − 2)\n",
    "    return result\n",
    "\n",
    "#############################################\n",
    "\n",
    "exercicio_4_8_1\n",
    "\n",
    "exercicio_4_8_2\n",
    "\n",
    "#############################################\n",
    "\n",
    "exercicio_4_9_1\n",
    "\n",
    "exercicio_4_9_2\n",
    "\n",
    "#############################################\n",
    "\n",
    "exercicio_4_10_1\n",
    "\n",
    "exercicio_4_10_2\n",
    "\n",
    "#############################################\n",
    "\n",
    "exercicio_4_11_1\n",
    "\n",
    "exercicio_4_11_2\n",
    "\n",
    "#############################################\n",
    "\n",
    "exercicio_4_12_1\n",
    "\n",
    "exercicio_4_12_2\n"
   ]
  }
 ],
 "metadata": {
  "kernelspec": {
   "display_name": "Python 3",
   "language": "python",
   "name": "python3"
  },
  "language_info": {
   "codemirror_mode": {
    "name": "ipython",
    "version": 3
   },
   "file_extension": ".py",
   "mimetype": "text/x-python",
   "name": "python",
   "nbconvert_exporter": "python",
   "pygments_lexer": "ipython3",
   "version": "3.7.1"
  }
 },
 "nbformat": 4,
 "nbformat_minor": 2
}
