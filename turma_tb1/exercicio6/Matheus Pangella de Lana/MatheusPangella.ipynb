{
 "cells": [
  {
   "cell_type": "markdown",
   "metadata": {},
   "source": [
    "# Matheus Pangella de Lana 2017106857"
   ]
  },
  {
   "cell_type": "code",
   "execution_count": null,
   "metadata": {},
   "outputs": [],
   "source": [
    "def exercicio1_1(f,n):\n",
    "    \"\"\"Essa função calcula o fatorial de um numero natural n passado como argumento recusivamente\"\"\"\n",
    "    if n<0:\n",
    "        resultado=0\n",
    "    elif n==0:\n",
    "        resultado=1\n",
    "    elif f == n:\n",
    "        resultado = n\n",
    "    elif f<n:\n",
    "        resultado = f*exercicio1_1(f+1,n)\n",
    "    return resultado\n",
    "\n",
    "def exercicio1_2(f,n):\n",
    "    \"\"\"Essa função calcula o fatorial de um numero natural n passado como argumento iterativamente com o comando enquanto\"\"\"\n",
    "    resultado = 0\n",
    "    if n >= 0:\n",
    "        resultado = 1\n",
    "        while (f <= n):\n",
    "            resultado = resultado * f\n",
    "            f = f +1\n",
    "    return resultado"
   ]
  },
  {
   "cell_type": "code",
   "execution_count": null,
   "metadata": {},
   "outputs": [],
   "source": [
    "def exercicio_2(n):\n",
    "    if n == 1:\n",
    "        resultado = 1\n",
    "    elif (n%2==0):\n",
    "        resultado = -1/n + exercicio_2(n-1)\n",
    "    elif (n!=0):\n",
    "        resultado = 1/n + exercicio_2(n-1)\n",
    "    return resultado"
   ]
  },
  {
   "cell_type": "code",
   "execution_count": null,
   "metadata": {},
   "outputs": [],
   "source": []
  },
  {
   "cell_type": "code",
   "execution_count": null,
   "metadata": {},
   "outputs": [],
   "source": []
  },
  {
   "cell_type": "code",
   "execution_count": null,
   "metadata": {},
   "outputs": [],
   "source": []
  },
  {
   "cell_type": "code",
   "execution_count": null,
   "metadata": {},
   "outputs": [],
   "source": []
  },
  {
   "cell_type": "code",
   "execution_count": null,
   "metadata": {},
   "outputs": [],
   "source": []
  },
  {
   "cell_type": "code",
   "execution_count": null,
   "metadata": {},
   "outputs": [],
   "source": []
  },
  {
   "cell_type": "code",
   "execution_count": null,
   "metadata": {},
   "outputs": [],
   "source": []
  },
  {
   "cell_type": "code",
   "execution_count": null,
   "metadata": {},
   "outputs": [],
   "source": []
  },
  {
   "cell_type": "code",
   "execution_count": null,
   "metadata": {},
   "outputs": [],
   "source": []
  }
 ],
 "metadata": {
  "kernelspec": {
   "display_name": "Python 3",
   "language": "python",
   "name": "python3"
  },
  "language_info": {
   "codemirror_mode": {
    "name": "ipython",
    "version": 3
   },
   "file_extension": ".py",
   "mimetype": "text/x-python",
   "name": "python",
   "nbconvert_exporter": "python",
   "pygments_lexer": "ipython3",
   "version": "3.6.7"
  }
 },
 "nbformat": 4,
 "nbformat_minor": 2
}
