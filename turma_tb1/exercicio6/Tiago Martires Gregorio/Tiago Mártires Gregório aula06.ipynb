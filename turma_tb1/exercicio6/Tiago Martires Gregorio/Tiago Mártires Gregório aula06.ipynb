{
 "cells": [
  {
   "cell_type": "markdown",
   "metadata": {},
   "source": [
    "# Exercício_1"
   ]
  },
  {
   "cell_type": "code",
   "execution_count": 5,
   "metadata": {},
   "outputs": [
    {
     "ename": "UnboundLocalError",
     "evalue": "local variable 'resultado' referenced before assignment",
     "output_type": "error",
     "traceback": [
      "\u001b[0;31m---------------------------------------------------------------------------\u001b[0m",
      "\u001b[0;31mUnboundLocalError\u001b[0m                         Traceback (most recent call last)",
      "\u001b[0;32m<ipython-input-5-84be34e76a4e>\u001b[0m in \u001b[0;36m<module>\u001b[0;34m\u001b[0m\n\u001b[1;32m     11\u001b[0m \u001b[0mt\u001b[0m\u001b[0;34m=\u001b[0m\u001b[0;36m10\u001b[0m\u001b[0;34m\u001b[0m\u001b[0;34m\u001b[0m\u001b[0m\n\u001b[1;32m     12\u001b[0m \u001b[0mn\u001b[0m\u001b[0;34m=\u001b[0m\u001b[0;36m1\u001b[0m\u001b[0;34m\u001b[0m\u001b[0;34m\u001b[0m\u001b[0m\n\u001b[0;32m---> 13\u001b[0;31m \u001b[0mprint\u001b[0m\u001b[0;34m(\u001b[0m\u001b[0mExercício_1_1\u001b[0m\u001b[0;34m(\u001b[0m\u001b[0mt\u001b[0m\u001b[0;34m,\u001b[0m\u001b[0mn\u001b[0m\u001b[0;34m)\u001b[0m\u001b[0;34m)\u001b[0m\u001b[0;34m\u001b[0m\u001b[0;34m\u001b[0m\u001b[0m\n\u001b[0m",
      "\u001b[0;32m<ipython-input-5-84be34e76a4e>\u001b[0m in \u001b[0;36mExercício_1_1\u001b[0;34m(t, n)\u001b[0m\n\u001b[1;32m      5\u001b[0m         \u001b[0mresultado\u001b[0m\u001b[0;34m=\u001b[0m\u001b[0;36m1\u001b[0m\u001b[0;34m\u001b[0m\u001b[0;34m\u001b[0m\u001b[0m\n\u001b[1;32m      6\u001b[0m     \u001b[0;32mwhile\u001b[0m \u001b[0mt\u001b[0m\u001b[0;34m>=\u001b[0m\u001b[0;36m2\u001b[0m\u001b[0;34m:\u001b[0m\u001b[0;34m\u001b[0m\u001b[0;34m\u001b[0m\u001b[0m\n\u001b[0;32m----> 7\u001b[0;31m         \u001b[0mresultado\u001b[0m\u001b[0;34m=\u001b[0m\u001b[0mresultado\u001b[0m\u001b[0;34m*\u001b[0m\u001b[0;34m(\u001b[0m\u001b[0mn\u001b[0m\u001b[0;34m+\u001b[0m\u001b[0;36m1\u001b[0m\u001b[0;34m)\u001b[0m\u001b[0;34m\u001b[0m\u001b[0;34m\u001b[0m\u001b[0m\n\u001b[0m\u001b[1;32m      8\u001b[0m         \u001b[0mn\u001b[0m\u001b[0;34m=\u001b[0m\u001b[0mn\u001b[0m\u001b[0;34m+\u001b[0m\u001b[0;36m1\u001b[0m\u001b[0;34m\u001b[0m\u001b[0;34m\u001b[0m\u001b[0m\n\u001b[1;32m      9\u001b[0m         \u001b[0mt\u001b[0m\u001b[0;34m+=\u001b[0m\u001b[0;36m1\u001b[0m\u001b[0;34m\u001b[0m\u001b[0;34m\u001b[0m\u001b[0m\n",
      "\u001b[0;31mUnboundLocalError\u001b[0m: local variable 'resultado' referenced before assignment"
     ]
    }
   ],
   "source": [
    "def Exercício_1_1(t,n):\n",
    "    ## Calcula o fatorial progredindo até n\n",
    "    n=1\n",
    "    if n==t:\n",
    "        resultado=1\n",
    "    while t>=2:\n",
    "        resultado=resultado*(n+1)\n",
    "        n=n+1\n",
    "        t+=1\n",
    "    return resultado\n",
    "t=10\n",
    "n=1\n",
    "print(Exercício_1_1(t,n))"
   ]
  },
  {
   "cell_type": "code",
   "execution_count": null,
   "metadata": {},
   "outputs": [],
   "source": []
  },
  {
   "cell_type": "markdown",
   "metadata": {},
   "source": [
    "## Exercício_2"
   ]
  },
  {
   "cell_type": "markdown",
   "metadata": {},
   "source": [
    "Digite o valor de k:\n",
    "\n",
    "sinal ← -1\n",
    "\n",
    "função harmônica_alternada(k,sinal):\n",
    "calcula o valor  da harmônica alternada\n",
    " \n",
    "     se k=1:\n",
    "  \n",
    "         resultado é 1\n",
    " \n",
    "     se k é ímpar:\n",
    "  \n",
    "        resultado=-sinal/k + -sinal/k-1\n",
    " \n",
    "     se k é par:\n",
    "  \n",
    "        resultado=sinal/k + -sinal/k-1\n",
    " \n",
    "     retorne resultado\n",
    "\n",
    "printe: Harmônica_alternada "
   ]
  },
  {
   "cell_type": "code",
   "execution_count": 9,
   "metadata": {},
   "outputs": [
    {
     "data": {
      "text/plain": [
       "-0.0111111111111111"
      ]
     },
     "execution_count": 9,
     "metadata": {},
     "output_type": "execute_result"
    }
   ],
   "source": [
    "def exercício_2_2(k,sinal):\n",
    "    ## calcula a série harmônica alternada\n",
    "    if k==1:\n",
    "        resultado=1\n",
    "    elif k%2!=0:    \n",
    "        resultado=-sinal/k + (-1*sinal/(k-1))\n",
    "    else:\n",
    "        resultado= sinal/k + (-sinal/(k-1))\n",
    "    return resultado\n",
    "\n",
    "exercício_2_2(10,1)"
   ]
  },
  {
   "cell_type": "markdown",
   "metadata": {},
   "source": [
    "## Exercício_3_1"
   ]
  },
  {
   "cell_type": "markdown",
   "metadata": {},
   "source": [
    "def neper_homR(termos,denom):\n",
    " \n",
    " if termos==1:\n",
    "  \n",
    "  res=denom\n",
    "\n",
    " else:\n",
    "  \n",
    "  res=denom + 1/neper(termos-1,denom+4)\n",
    "\n",
    "O programa para se calcular a parte homegênea da função neper para 4 termos se enquadraria na parte do else:\n",
    "\n",
    "\n",
    "res=6+ 1/neper(3,10). Neste caso, como o número de termos ainda é superior a 1, se enquadra no else e o denom passa a ser 10:\n",
    "\n",
    "\n",
    "res=10+1/neper(2,14). Neste caso, como o número de termos ainda é superior a 1, se enquadra no else e o denom passa a ser 14:\n",
    "\n",
    "\n",
    "res=14+1/neper(1,18). Neste caso, como o número de termos é igual a 1, se enquadra no if:\n",
    "\n",
    "\n",
    "res=denom=18.\n"
   ]
  },
  {
   "cell_type": "markdown",
   "metadata": {},
   "source": [
    "## Exercício_3_2"
   ]
  },
  {
   "cell_type": "markdown",
   "metadata": {},
   "source": [
    "def neper_homI(termos,denom):\n",
    "\n",
    "     import math\n",
    " \n",
    "     res=math.inf\n",
    " \n",
    "     while termos>0:\n",
    "  \n",
    "        denom=1/res\n",
    "  \n",
    "        termos=termos-1\n",
    "  \n",
    "        denom=denom+4\n",
    "\n",
    "return resultado  \n",
    "\n",
    "Quero calcular com 4 termos, então se enquadra no while:\n",
    "\n",
    "termos=3 e denom=6. Ainda é maior que 0, ainda se enquadra no while:\n",
    "\n",
    "termos=2 e denom=10. Ainda é maior que 0, ainda se enquadra no while:\n",
    "\n",
    "termos=1 e denom=14. Ainda é maior que 0, ainda se enquadra no while:\n",
    "\n",
    "termos=0 e denom=18"
   ]
  },
  {
   "cell_type": "markdown",
   "metadata": {},
   "source": [
    "## Exercício_4_1"
   ]
  },
  {
   "cell_type": "code",
   "execution_count": 11,
   "metadata": {},
   "outputs": [
    {
     "name": "stdout",
     "output_type": "stream",
     "text": [
      "1.6180165422314876\n",
      "1.6180165422314876\n",
      "1.6180165422314876\n"
     ]
    }
   ],
   "source": [
    "def Exercício_4_1_1(n):\n",
    "    ## Calcula uma série formada por raízes de 1 recursivamente\n",
    "    if n==1:\n",
    "        resultado=n**0.5\n",
    "    if n>=2:\n",
    "        resultado=(1+Exercício_4_1_1(n-1))**0.5\n",
    "    return resultado\n",
    "def Exercício_4_1_2(n):\n",
    "    ## Calcula uma série formada por raízes de 1 iterativamente\n",
    "    if n>=0:\n",
    "        resultado=1\n",
    "    while n>1:\n",
    "        resultado=(resultado+1**0.5)**0.5\n",
    "        n=n-1\n",
    "    return resultado\n",
    "def Exercício_4_1_3(n):\n",
    "    ## Calcula uma série formada por raízes de 1 utilizando while True.\n",
    "    if n<0:\n",
    "        resultado=0\n",
    "    else:\n",
    "        resultado=1\n",
    "        while True:\n",
    "            resultado=(resultado+1**0.5)**0.5\n",
    "            n=n-1\n",
    "            if n<2:\n",
    "                break\n",
    "    return resultado\n",
    "\n",
    "print(Exercício_4_1_1(10))\n",
    "print(Exercício_4_1_2(10))\n",
    "print(Exercício_4_1_3(10))"
   ]
  },
  {
   "cell_type": "markdown",
   "metadata": {},
   "source": [
    "## Exercício_4_2"
   ]
  },
  {
   "cell_type": "code",
   "execution_count": 12,
   "metadata": {},
   "outputs": [
    {
     "name": "stdout",
     "output_type": "stream",
     "text": [
      "1.6181818181818182\n",
      "1.5\n"
     ]
    },
    {
     "ename": "UnboundLocalError",
     "evalue": "local variable 'resultado' referenced before assignment",
     "output_type": "error",
     "traceback": [
      "\u001b[0;31m---------------------------------------------------------------------------\u001b[0m",
      "\u001b[0;31mUnboundLocalError\u001b[0m                         Traceback (most recent call last)",
      "\u001b[0;32m<ipython-input-12-8bd33d675d1f>\u001b[0m in \u001b[0;36m<module>\u001b[0;34m\u001b[0m\n\u001b[1;32m     31\u001b[0m \u001b[0mprint\u001b[0m\u001b[0;34m(\u001b[0m\u001b[0mExercício_4_2_1\u001b[0m\u001b[0;34m(\u001b[0m\u001b[0;36m10\u001b[0m\u001b[0;34m)\u001b[0m\u001b[0;34m)\u001b[0m\u001b[0;34m\u001b[0m\u001b[0;34m\u001b[0m\u001b[0m\n\u001b[1;32m     32\u001b[0m \u001b[0mprint\u001b[0m\u001b[0;34m(\u001b[0m\u001b[0mExercício_4_2_2\u001b[0m\u001b[0;34m(\u001b[0m\u001b[0;36m10\u001b[0m\u001b[0;34m)\u001b[0m\u001b[0;34m)\u001b[0m\u001b[0;34m\u001b[0m\u001b[0;34m\u001b[0m\u001b[0m\n\u001b[0;32m---> 33\u001b[0;31m \u001b[0mprint\u001b[0m\u001b[0;34m(\u001b[0m\u001b[0mExercício_4_2_3\u001b[0m\u001b[0;34m(\u001b[0m\u001b[0;36m10\u001b[0m\u001b[0;34m)\u001b[0m\u001b[0;34m)\u001b[0m\u001b[0;34m\u001b[0m\u001b[0;34m\u001b[0m\u001b[0m\n\u001b[0m",
      "\u001b[0;32m<ipython-input-12-8bd33d675d1f>\u001b[0m in \u001b[0;36mExercício_4_2_3\u001b[0;34m(n)\u001b[0m\n\u001b[1;32m     25\u001b[0m         \u001b[0mresultado\u001b[0m\u001b[0;34m=\u001b[0m \u001b[0;36m1\u001b[0m\u001b[0;34m+\u001b[0m\u001b[0;34m(\u001b[0m\u001b[0;36m1\u001b[0m\u001b[0;34m/\u001b[0m\u001b[0;36m1\u001b[0m\u001b[0;34m)\u001b[0m\u001b[0;34m\u001b[0m\u001b[0;34m\u001b[0m\u001b[0m\n\u001b[1;32m     26\u001b[0m         \u001b[0;32mwhile\u001b[0m \u001b[0;32mTrue\u001b[0m\u001b[0;34m:\u001b[0m\u001b[0;34m\u001b[0m\u001b[0;34m\u001b[0m\u001b[0m\n\u001b[0;32m---> 27\u001b[0;31m             \u001b[0mresultado\u001b[0m\u001b[0;34m=\u001b[0m\u001b[0;36m1\u001b[0m\u001b[0;34m+\u001b[0m\u001b[0;36m1\u001b[0m\u001b[0;34m/\u001b[0m\u001b[0mExercício_4_2_3\u001b[0m\u001b[0;34m(\u001b[0m\u001b[0mn\u001b[0m\u001b[0;34m-\u001b[0m\u001b[0;36m1\u001b[0m\u001b[0;34m)\u001b[0m\u001b[0;34m\u001b[0m\u001b[0;34m\u001b[0m\u001b[0m\n\u001b[0m\u001b[1;32m     28\u001b[0m             \u001b[0mn\u001b[0m\u001b[0;34m=\u001b[0m\u001b[0mn\u001b[0m\u001b[0;34m-\u001b[0m\u001b[0;36m2\u001b[0m\u001b[0;34m\u001b[0m\u001b[0;34m\u001b[0m\u001b[0m\n\u001b[1;32m     29\u001b[0m     \u001b[0;32mreturn\u001b[0m \u001b[0mresultado\u001b[0m\u001b[0;34m\u001b[0m\u001b[0;34m\u001b[0m\u001b[0m\n",
      "\u001b[0;32m<ipython-input-12-8bd33d675d1f>\u001b[0m in \u001b[0;36mExercício_4_2_3\u001b[0;34m(n)\u001b[0m\n\u001b[1;32m     25\u001b[0m         \u001b[0mresultado\u001b[0m\u001b[0;34m=\u001b[0m \u001b[0;36m1\u001b[0m\u001b[0;34m+\u001b[0m\u001b[0;34m(\u001b[0m\u001b[0;36m1\u001b[0m\u001b[0;34m/\u001b[0m\u001b[0;36m1\u001b[0m\u001b[0;34m)\u001b[0m\u001b[0;34m\u001b[0m\u001b[0;34m\u001b[0m\u001b[0m\n\u001b[1;32m     26\u001b[0m         \u001b[0;32mwhile\u001b[0m \u001b[0;32mTrue\u001b[0m\u001b[0;34m:\u001b[0m\u001b[0;34m\u001b[0m\u001b[0;34m\u001b[0m\u001b[0m\n\u001b[0;32m---> 27\u001b[0;31m             \u001b[0mresultado\u001b[0m\u001b[0;34m=\u001b[0m\u001b[0;36m1\u001b[0m\u001b[0;34m+\u001b[0m\u001b[0;36m1\u001b[0m\u001b[0;34m/\u001b[0m\u001b[0mExercício_4_2_3\u001b[0m\u001b[0;34m(\u001b[0m\u001b[0mn\u001b[0m\u001b[0;34m-\u001b[0m\u001b[0;36m1\u001b[0m\u001b[0;34m)\u001b[0m\u001b[0;34m\u001b[0m\u001b[0;34m\u001b[0m\u001b[0m\n\u001b[0m\u001b[1;32m     28\u001b[0m             \u001b[0mn\u001b[0m\u001b[0;34m=\u001b[0m\u001b[0mn\u001b[0m\u001b[0;34m-\u001b[0m\u001b[0;36m2\u001b[0m\u001b[0;34m\u001b[0m\u001b[0;34m\u001b[0m\u001b[0m\n\u001b[1;32m     29\u001b[0m     \u001b[0;32mreturn\u001b[0m \u001b[0mresultado\u001b[0m\u001b[0;34m\u001b[0m\u001b[0;34m\u001b[0m\u001b[0m\n",
      "\u001b[0;32m<ipython-input-12-8bd33d675d1f>\u001b[0m in \u001b[0;36mExercício_4_2_3\u001b[0;34m(n)\u001b[0m\n\u001b[1;32m     25\u001b[0m         \u001b[0mresultado\u001b[0m\u001b[0;34m=\u001b[0m \u001b[0;36m1\u001b[0m\u001b[0;34m+\u001b[0m\u001b[0;34m(\u001b[0m\u001b[0;36m1\u001b[0m\u001b[0;34m/\u001b[0m\u001b[0;36m1\u001b[0m\u001b[0;34m)\u001b[0m\u001b[0;34m\u001b[0m\u001b[0;34m\u001b[0m\u001b[0m\n\u001b[1;32m     26\u001b[0m         \u001b[0;32mwhile\u001b[0m \u001b[0;32mTrue\u001b[0m\u001b[0;34m:\u001b[0m\u001b[0;34m\u001b[0m\u001b[0;34m\u001b[0m\u001b[0m\n\u001b[0;32m---> 27\u001b[0;31m             \u001b[0mresultado\u001b[0m\u001b[0;34m=\u001b[0m\u001b[0;36m1\u001b[0m\u001b[0;34m+\u001b[0m\u001b[0;36m1\u001b[0m\u001b[0;34m/\u001b[0m\u001b[0mExercício_4_2_3\u001b[0m\u001b[0;34m(\u001b[0m\u001b[0mn\u001b[0m\u001b[0;34m-\u001b[0m\u001b[0;36m1\u001b[0m\u001b[0;34m)\u001b[0m\u001b[0;34m\u001b[0m\u001b[0;34m\u001b[0m\u001b[0m\n\u001b[0m\u001b[1;32m     28\u001b[0m             \u001b[0mn\u001b[0m\u001b[0;34m=\u001b[0m\u001b[0mn\u001b[0m\u001b[0;34m-\u001b[0m\u001b[0;36m2\u001b[0m\u001b[0;34m\u001b[0m\u001b[0;34m\u001b[0m\u001b[0m\n\u001b[1;32m     29\u001b[0m     \u001b[0;32mreturn\u001b[0m \u001b[0mresultado\u001b[0m\u001b[0;34m\u001b[0m\u001b[0;34m\u001b[0m\u001b[0m\n",
      "\u001b[0;32m<ipython-input-12-8bd33d675d1f>\u001b[0m in \u001b[0;36mExercício_4_2_3\u001b[0;34m(n)\u001b[0m\n\u001b[1;32m     25\u001b[0m         \u001b[0mresultado\u001b[0m\u001b[0;34m=\u001b[0m \u001b[0;36m1\u001b[0m\u001b[0;34m+\u001b[0m\u001b[0;34m(\u001b[0m\u001b[0;36m1\u001b[0m\u001b[0;34m/\u001b[0m\u001b[0;36m1\u001b[0m\u001b[0;34m)\u001b[0m\u001b[0;34m\u001b[0m\u001b[0;34m\u001b[0m\u001b[0m\n\u001b[1;32m     26\u001b[0m         \u001b[0;32mwhile\u001b[0m \u001b[0;32mTrue\u001b[0m\u001b[0;34m:\u001b[0m\u001b[0;34m\u001b[0m\u001b[0;34m\u001b[0m\u001b[0m\n\u001b[0;32m---> 27\u001b[0;31m             \u001b[0mresultado\u001b[0m\u001b[0;34m=\u001b[0m\u001b[0;36m1\u001b[0m\u001b[0;34m+\u001b[0m\u001b[0;36m1\u001b[0m\u001b[0;34m/\u001b[0m\u001b[0mExercício_4_2_3\u001b[0m\u001b[0;34m(\u001b[0m\u001b[0mn\u001b[0m\u001b[0;34m-\u001b[0m\u001b[0;36m1\u001b[0m\u001b[0;34m)\u001b[0m\u001b[0;34m\u001b[0m\u001b[0;34m\u001b[0m\u001b[0m\n\u001b[0m\u001b[1;32m     28\u001b[0m             \u001b[0mn\u001b[0m\u001b[0;34m=\u001b[0m\u001b[0mn\u001b[0m\u001b[0;34m-\u001b[0m\u001b[0;36m2\u001b[0m\u001b[0;34m\u001b[0m\u001b[0;34m\u001b[0m\u001b[0m\n\u001b[1;32m     29\u001b[0m     \u001b[0;32mreturn\u001b[0m \u001b[0mresultado\u001b[0m\u001b[0;34m\u001b[0m\u001b[0;34m\u001b[0m\u001b[0m\n",
      "\u001b[0;32m<ipython-input-12-8bd33d675d1f>\u001b[0m in \u001b[0;36mExercício_4_2_3\u001b[0;34m(n)\u001b[0m\n\u001b[1;32m     25\u001b[0m         \u001b[0mresultado\u001b[0m\u001b[0;34m=\u001b[0m \u001b[0;36m1\u001b[0m\u001b[0;34m+\u001b[0m\u001b[0;34m(\u001b[0m\u001b[0;36m1\u001b[0m\u001b[0;34m/\u001b[0m\u001b[0;36m1\u001b[0m\u001b[0;34m)\u001b[0m\u001b[0;34m\u001b[0m\u001b[0;34m\u001b[0m\u001b[0m\n\u001b[1;32m     26\u001b[0m         \u001b[0;32mwhile\u001b[0m \u001b[0;32mTrue\u001b[0m\u001b[0;34m:\u001b[0m\u001b[0;34m\u001b[0m\u001b[0;34m\u001b[0m\u001b[0m\n\u001b[0;32m---> 27\u001b[0;31m             \u001b[0mresultado\u001b[0m\u001b[0;34m=\u001b[0m\u001b[0;36m1\u001b[0m\u001b[0;34m+\u001b[0m\u001b[0;36m1\u001b[0m\u001b[0;34m/\u001b[0m\u001b[0mExercício_4_2_3\u001b[0m\u001b[0;34m(\u001b[0m\u001b[0mn\u001b[0m\u001b[0;34m-\u001b[0m\u001b[0;36m1\u001b[0m\u001b[0;34m)\u001b[0m\u001b[0;34m\u001b[0m\u001b[0;34m\u001b[0m\u001b[0m\n\u001b[0m\u001b[1;32m     28\u001b[0m             \u001b[0mn\u001b[0m\u001b[0;34m=\u001b[0m\u001b[0mn\u001b[0m\u001b[0;34m-\u001b[0m\u001b[0;36m2\u001b[0m\u001b[0;34m\u001b[0m\u001b[0;34m\u001b[0m\u001b[0m\n\u001b[1;32m     29\u001b[0m     \u001b[0;32mreturn\u001b[0m \u001b[0mresultado\u001b[0m\u001b[0;34m\u001b[0m\u001b[0;34m\u001b[0m\u001b[0m\n",
      "\u001b[0;32m<ipython-input-12-8bd33d675d1f>\u001b[0m in \u001b[0;36mExercício_4_2_3\u001b[0;34m(n)\u001b[0m\n\u001b[1;32m     25\u001b[0m         \u001b[0mresultado\u001b[0m\u001b[0;34m=\u001b[0m \u001b[0;36m1\u001b[0m\u001b[0;34m+\u001b[0m\u001b[0;34m(\u001b[0m\u001b[0;36m1\u001b[0m\u001b[0;34m/\u001b[0m\u001b[0;36m1\u001b[0m\u001b[0;34m)\u001b[0m\u001b[0;34m\u001b[0m\u001b[0;34m\u001b[0m\u001b[0m\n\u001b[1;32m     26\u001b[0m         \u001b[0;32mwhile\u001b[0m \u001b[0;32mTrue\u001b[0m\u001b[0;34m:\u001b[0m\u001b[0;34m\u001b[0m\u001b[0;34m\u001b[0m\u001b[0m\n\u001b[0;32m---> 27\u001b[0;31m             \u001b[0mresultado\u001b[0m\u001b[0;34m=\u001b[0m\u001b[0;36m1\u001b[0m\u001b[0;34m+\u001b[0m\u001b[0;36m1\u001b[0m\u001b[0;34m/\u001b[0m\u001b[0mExercício_4_2_3\u001b[0m\u001b[0;34m(\u001b[0m\u001b[0mn\u001b[0m\u001b[0;34m-\u001b[0m\u001b[0;36m1\u001b[0m\u001b[0;34m)\u001b[0m\u001b[0;34m\u001b[0m\u001b[0;34m\u001b[0m\u001b[0m\n\u001b[0m\u001b[1;32m     28\u001b[0m             \u001b[0mn\u001b[0m\u001b[0;34m=\u001b[0m\u001b[0mn\u001b[0m\u001b[0;34m-\u001b[0m\u001b[0;36m2\u001b[0m\u001b[0;34m\u001b[0m\u001b[0;34m\u001b[0m\u001b[0m\n\u001b[1;32m     29\u001b[0m     \u001b[0;32mreturn\u001b[0m \u001b[0mresultado\u001b[0m\u001b[0;34m\u001b[0m\u001b[0;34m\u001b[0m\u001b[0m\n",
      "\u001b[0;32m<ipython-input-12-8bd33d675d1f>\u001b[0m in \u001b[0;36mExercício_4_2_3\u001b[0;34m(n)\u001b[0m\n\u001b[1;32m     25\u001b[0m         \u001b[0mresultado\u001b[0m\u001b[0;34m=\u001b[0m \u001b[0;36m1\u001b[0m\u001b[0;34m+\u001b[0m\u001b[0;34m(\u001b[0m\u001b[0;36m1\u001b[0m\u001b[0;34m/\u001b[0m\u001b[0;36m1\u001b[0m\u001b[0;34m)\u001b[0m\u001b[0;34m\u001b[0m\u001b[0;34m\u001b[0m\u001b[0m\n\u001b[1;32m     26\u001b[0m         \u001b[0;32mwhile\u001b[0m \u001b[0;32mTrue\u001b[0m\u001b[0;34m:\u001b[0m\u001b[0;34m\u001b[0m\u001b[0;34m\u001b[0m\u001b[0m\n\u001b[0;32m---> 27\u001b[0;31m             \u001b[0mresultado\u001b[0m\u001b[0;34m=\u001b[0m\u001b[0;36m1\u001b[0m\u001b[0;34m+\u001b[0m\u001b[0;36m1\u001b[0m\u001b[0;34m/\u001b[0m\u001b[0mExercício_4_2_3\u001b[0m\u001b[0;34m(\u001b[0m\u001b[0mn\u001b[0m\u001b[0;34m-\u001b[0m\u001b[0;36m1\u001b[0m\u001b[0;34m)\u001b[0m\u001b[0;34m\u001b[0m\u001b[0;34m\u001b[0m\u001b[0m\n\u001b[0m\u001b[1;32m     28\u001b[0m             \u001b[0mn\u001b[0m\u001b[0;34m=\u001b[0m\u001b[0mn\u001b[0m\u001b[0;34m-\u001b[0m\u001b[0;36m2\u001b[0m\u001b[0;34m\u001b[0m\u001b[0;34m\u001b[0m\u001b[0m\n\u001b[1;32m     29\u001b[0m     \u001b[0;32mreturn\u001b[0m \u001b[0mresultado\u001b[0m\u001b[0;34m\u001b[0m\u001b[0;34m\u001b[0m\u001b[0m\n",
      "\u001b[0;32m<ipython-input-12-8bd33d675d1f>\u001b[0m in \u001b[0;36mExercício_4_2_3\u001b[0;34m(n)\u001b[0m\n\u001b[1;32m     25\u001b[0m         \u001b[0mresultado\u001b[0m\u001b[0;34m=\u001b[0m \u001b[0;36m1\u001b[0m\u001b[0;34m+\u001b[0m\u001b[0;34m(\u001b[0m\u001b[0;36m1\u001b[0m\u001b[0;34m/\u001b[0m\u001b[0;36m1\u001b[0m\u001b[0;34m)\u001b[0m\u001b[0;34m\u001b[0m\u001b[0;34m\u001b[0m\u001b[0m\n\u001b[1;32m     26\u001b[0m         \u001b[0;32mwhile\u001b[0m \u001b[0;32mTrue\u001b[0m\u001b[0;34m:\u001b[0m\u001b[0;34m\u001b[0m\u001b[0;34m\u001b[0m\u001b[0m\n\u001b[0;32m---> 27\u001b[0;31m             \u001b[0mresultado\u001b[0m\u001b[0;34m=\u001b[0m\u001b[0;36m1\u001b[0m\u001b[0;34m+\u001b[0m\u001b[0;36m1\u001b[0m\u001b[0;34m/\u001b[0m\u001b[0mExercício_4_2_3\u001b[0m\u001b[0;34m(\u001b[0m\u001b[0mn\u001b[0m\u001b[0;34m-\u001b[0m\u001b[0;36m1\u001b[0m\u001b[0;34m)\u001b[0m\u001b[0;34m\u001b[0m\u001b[0;34m\u001b[0m\u001b[0m\n\u001b[0m\u001b[1;32m     28\u001b[0m             \u001b[0mn\u001b[0m\u001b[0;34m=\u001b[0m\u001b[0mn\u001b[0m\u001b[0;34m-\u001b[0m\u001b[0;36m2\u001b[0m\u001b[0;34m\u001b[0m\u001b[0;34m\u001b[0m\u001b[0m\n\u001b[1;32m     29\u001b[0m     \u001b[0;32mreturn\u001b[0m \u001b[0mresultado\u001b[0m\u001b[0;34m\u001b[0m\u001b[0;34m\u001b[0m\u001b[0m\n",
      "\u001b[0;32m<ipython-input-12-8bd33d675d1f>\u001b[0m in \u001b[0;36mExercício_4_2_3\u001b[0;34m(n)\u001b[0m\n\u001b[1;32m     25\u001b[0m         \u001b[0mresultado\u001b[0m\u001b[0;34m=\u001b[0m \u001b[0;36m1\u001b[0m\u001b[0;34m+\u001b[0m\u001b[0;34m(\u001b[0m\u001b[0;36m1\u001b[0m\u001b[0;34m/\u001b[0m\u001b[0;36m1\u001b[0m\u001b[0;34m)\u001b[0m\u001b[0;34m\u001b[0m\u001b[0;34m\u001b[0m\u001b[0m\n\u001b[1;32m     26\u001b[0m         \u001b[0;32mwhile\u001b[0m \u001b[0;32mTrue\u001b[0m\u001b[0;34m:\u001b[0m\u001b[0;34m\u001b[0m\u001b[0;34m\u001b[0m\u001b[0m\n\u001b[0;32m---> 27\u001b[0;31m             \u001b[0mresultado\u001b[0m\u001b[0;34m=\u001b[0m\u001b[0;36m1\u001b[0m\u001b[0;34m+\u001b[0m\u001b[0;36m1\u001b[0m\u001b[0;34m/\u001b[0m\u001b[0mExercício_4_2_3\u001b[0m\u001b[0;34m(\u001b[0m\u001b[0mn\u001b[0m\u001b[0;34m-\u001b[0m\u001b[0;36m1\u001b[0m\u001b[0;34m)\u001b[0m\u001b[0;34m\u001b[0m\u001b[0;34m\u001b[0m\u001b[0m\n\u001b[0m\u001b[1;32m     28\u001b[0m             \u001b[0mn\u001b[0m\u001b[0;34m=\u001b[0m\u001b[0mn\u001b[0m\u001b[0;34m-\u001b[0m\u001b[0;36m2\u001b[0m\u001b[0;34m\u001b[0m\u001b[0;34m\u001b[0m\u001b[0m\n\u001b[1;32m     29\u001b[0m     \u001b[0;32mreturn\u001b[0m \u001b[0mresultado\u001b[0m\u001b[0;34m\u001b[0m\u001b[0;34m\u001b[0m\u001b[0m\n",
      "\u001b[0;32m<ipython-input-12-8bd33d675d1f>\u001b[0m in \u001b[0;36mExercício_4_2_3\u001b[0;34m(n)\u001b[0m\n\u001b[1;32m     27\u001b[0m             \u001b[0mresultado\u001b[0m\u001b[0;34m=\u001b[0m\u001b[0;36m1\u001b[0m\u001b[0;34m+\u001b[0m\u001b[0;36m1\u001b[0m\u001b[0;34m/\u001b[0m\u001b[0mExercício_4_2_3\u001b[0m\u001b[0;34m(\u001b[0m\u001b[0mn\u001b[0m\u001b[0;34m-\u001b[0m\u001b[0;36m1\u001b[0m\u001b[0;34m)\u001b[0m\u001b[0;34m\u001b[0m\u001b[0;34m\u001b[0m\u001b[0m\n\u001b[1;32m     28\u001b[0m             \u001b[0mn\u001b[0m\u001b[0;34m=\u001b[0m\u001b[0mn\u001b[0m\u001b[0;34m-\u001b[0m\u001b[0;36m2\u001b[0m\u001b[0;34m\u001b[0m\u001b[0;34m\u001b[0m\u001b[0m\n\u001b[0;32m---> 29\u001b[0;31m     \u001b[0;32mreturn\u001b[0m \u001b[0mresultado\u001b[0m\u001b[0;34m\u001b[0m\u001b[0;34m\u001b[0m\u001b[0m\n\u001b[0m\u001b[1;32m     30\u001b[0m \u001b[0;34m\u001b[0m\u001b[0m\n\u001b[1;32m     31\u001b[0m \u001b[0mprint\u001b[0m\u001b[0;34m(\u001b[0m\u001b[0mExercício_4_2_1\u001b[0m\u001b[0;34m(\u001b[0m\u001b[0;36m10\u001b[0m\u001b[0;34m)\u001b[0m\u001b[0;34m)\u001b[0m\u001b[0;34m\u001b[0m\u001b[0;34m\u001b[0m\u001b[0m\n",
      "\u001b[0;31mUnboundLocalError\u001b[0m: local variable 'resultado' referenced before assignment"
     ]
    }
   ],
   "source": [
    "def Exercício_4_2_1(n):\n",
    "    ## Calcula uma série de sucessivas divisões por 1/1 recursivamente\n",
    "    if n==1:\n",
    "        resultado=1\n",
    "    if n==2:\n",
    "        resultado= 1+(1/1)\n",
    "    if n>2:\n",
    "        resultado=1+1/Exercício_4_2_1(n-1)\n",
    "    return resultado\n",
    "def Exercício_4_2_2(n):\n",
    "    ## Calcula uma série de sucessivas divisões por 1/1 iterativamente\n",
    "    if n==1:\n",
    "        resultado=1\n",
    "    elif n==2:\n",
    "        resultado= 1+(1/1)\n",
    "    while n>2:\n",
    "        resultado=1+1/Exercício_4_2_2(n-1)\n",
    "        n=n-1\n",
    "    return resultado\n",
    "def Exercício_4_2_3(n):\n",
    "     ## Calcula uma série de sucessivas divisões por 1/1 utilizando while True\n",
    "    if n==1:\n",
    "        resultado=1\n",
    "    elif n>=2:\n",
    "        resultado= 1+(1/1)\n",
    "        while True:\n",
    "            resultado=1+1/Exercício_4_2_3(n-1)\n",
    "            n=n-2\n",
    "    return resultado\n",
    "\n",
    "print(Exercício_4_2_1(10))\n",
    "print(Exercício_4_2_2(10))\n",
    "print(Exercício_4_2_3(10))"
   ]
  },
  {
   "cell_type": "markdown",
   "metadata": {},
   "source": [
    "## 4_3"
   ]
  },
  {
   "cell_type": "code",
   "execution_count": 13,
   "metadata": {},
   "outputs": [
    {
     "name": "stdout",
     "output_type": "stream",
     "text": [
      "2.9289682539682538\n"
     ]
    },
    {
     "ename": "UnboundLocalError",
     "evalue": "local variable 'n' referenced before assignment",
     "output_type": "error",
     "traceback": [
      "\u001b[0;31m---------------------------------------------------------------------------\u001b[0m",
      "\u001b[0;31mUnboundLocalError\u001b[0m                         Traceback (most recent call last)",
      "\u001b[0;32m<ipython-input-13-9bea9a4a772e>\u001b[0m in \u001b[0;36m<module>\u001b[0;34m\u001b[0m\n\u001b[1;32m     27\u001b[0m \u001b[0;34m\u001b[0m\u001b[0m\n\u001b[1;32m     28\u001b[0m \u001b[0mprint\u001b[0m\u001b[0;34m(\u001b[0m\u001b[0mExercício_4_3_1\u001b[0m\u001b[0;34m(\u001b[0m\u001b[0;36m10\u001b[0m\u001b[0;34m)\u001b[0m\u001b[0;34m)\u001b[0m\u001b[0;34m\u001b[0m\u001b[0;34m\u001b[0m\u001b[0m\n\u001b[0;32m---> 29\u001b[0;31m \u001b[0mprint\u001b[0m\u001b[0;34m(\u001b[0m\u001b[0mExercício_4_3_2\u001b[0m\u001b[0;34m(\u001b[0m\u001b[0;36m10\u001b[0m\u001b[0;34m)\u001b[0m\u001b[0;34m)\u001b[0m\u001b[0;34m\u001b[0m\u001b[0;34m\u001b[0m\u001b[0m\n\u001b[0m\u001b[1;32m     30\u001b[0m \u001b[0mprint\u001b[0m\u001b[0;34m(\u001b[0m\u001b[0mExercício_4_3_3\u001b[0m\u001b[0;34m(\u001b[0m\u001b[0;36m10\u001b[0m\u001b[0;34m)\u001b[0m\u001b[0;34m)\u001b[0m\u001b[0;34m\u001b[0m\u001b[0;34m\u001b[0m\u001b[0m\n",
      "\u001b[0;32m<ipython-input-13-9bea9a4a772e>\u001b[0m in \u001b[0;36mExercício_4_3_2\u001b[0;34m(k)\u001b[0m\n\u001b[1;32m     12\u001b[0m     \u001b[0;32mwhile\u001b[0m \u001b[0mk\u001b[0m\u001b[0;34m>\u001b[0m\u001b[0;36m1\u001b[0m\u001b[0;34m:\u001b[0m\u001b[0;34m\u001b[0m\u001b[0;34m\u001b[0m\u001b[0m\n\u001b[1;32m     13\u001b[0m         \u001b[0mresultado\u001b[0m\u001b[0;34m=\u001b[0m\u001b[0;36m1\u001b[0m\u001b[0;34m/\u001b[0m\u001b[0mk\u001b[0m \u001b[0;34m+\u001b[0m \u001b[0mExercício_4_3_1\u001b[0m\u001b[0;34m(\u001b[0m\u001b[0mk\u001b[0m\u001b[0;34m-\u001b[0m\u001b[0;36m1\u001b[0m\u001b[0;34m)\u001b[0m\u001b[0;34m\u001b[0m\u001b[0;34m\u001b[0m\u001b[0m\n\u001b[0;32m---> 14\u001b[0;31m         \u001b[0mn\u001b[0m\u001b[0;34m=\u001b[0m\u001b[0mn\u001b[0m\u001b[0;34m-\u001b[0m\u001b[0;36m1\u001b[0m\u001b[0;34m\u001b[0m\u001b[0;34m\u001b[0m\u001b[0m\n\u001b[0m\u001b[1;32m     15\u001b[0m     \u001b[0;32mreturn\u001b[0m \u001b[0mresultado\u001b[0m\u001b[0;34m\u001b[0m\u001b[0;34m\u001b[0m\u001b[0m\n\u001b[1;32m     16\u001b[0m \u001b[0;32mdef\u001b[0m \u001b[0mExercício_4_3_3\u001b[0m\u001b[0;34m(\u001b[0m\u001b[0mk\u001b[0m\u001b[0;34m)\u001b[0m\u001b[0;34m:\u001b[0m\u001b[0;34m\u001b[0m\u001b[0;34m\u001b[0m\u001b[0m\n",
      "\u001b[0;31mUnboundLocalError\u001b[0m: local variable 'n' referenced before assignment"
     ]
    }
   ],
   "source": [
    "def Exercício_4_3_1(k):\n",
    "    ## Calcula o valor série harmônica fatorial recursivamente\n",
    "    if k==1:\n",
    "           resultado=1        \n",
    "    elif k>0:\n",
    "           resultado=1/k + Exercício_4_3_1(k-1)\n",
    "    return resultado\n",
    "def Exercício_4_3_2(k):\n",
    "     ## Calcula o valor da série harmônica fatorial iterativamente\n",
    "    if k==1:\n",
    "        resultado=1\n",
    "    while k>1:\n",
    "        resultado=1/k + Exercício_4_3_1(k-1)\n",
    "        n=n-1\n",
    "    return resultado\n",
    "def Exercício_4_3_3(k):\n",
    "     ## Calcula o valor da série harmônica fatorial, utilizando While True\n",
    "    if k==1:\n",
    "        resultado=1\n",
    "    if k>1:\n",
    "        resultado=1\n",
    "        while True:\n",
    "            resultado=1/k + Exercício_4_3_1(k-1)\n",
    "            if k<=1:\n",
    "                break\n",
    "    return resultado\n",
    "\n",
    "print(Exercício_4_3_1(10))\n",
    "print(Exercício_4_3_2(10))\n",
    "print(Exercício_4_3_3(10))"
   ]
  },
  {
   "cell_type": "code",
   "execution_count": null,
   "metadata": {},
   "outputs": [],
   "source": []
  },
  {
   "cell_type": "markdown",
   "metadata": {},
   "source": [
    "## 4.4"
   ]
  },
  {
   "cell_type": "code",
   "execution_count": 16,
   "metadata": {},
   "outputs": [
    {
     "name": "stdout",
     "output_type": "stream",
     "text": [
      "10.0\n",
      "10.0\n",
      "10.0\n"
     ]
    }
   ],
   "source": [
    "def Exercício_4_4_1(x,k):\n",
    "    ## Calcula o valor da série x^k/k! recursivamente\n",
    "    if k==0:\n",
    "        resultado=1\n",
    "    if k>=1:\n",
    "        resultado=x**k/Exercício_4_4_1(x,k-1)\n",
    "    return resultado \n",
    "def Exercício_4_4_2(x,k):\n",
    "    ## Calcula o valor da série x^k/k! iterativamente\n",
    "    if k==0:\n",
    "        resultado=1\n",
    "    while k>=1:\n",
    "        resultado=x**k/Exercício_4_4_1(x,k-1)\n",
    "        k=k-1\n",
    "        if k<1:\n",
    "            break\n",
    "    return resultado      \n",
    "def Exercício_4_4_3(x,k):\n",
    "    ## Calcula o valor da série x^k/k! utilizando while True\n",
    "    if k==0:\n",
    "        resultado=1\n",
    "    if k>=1:\n",
    "        resultado=1\n",
    "        while True:\n",
    "            resultado=x**k/Exercício_4_4_3(x,k-1)\n",
    "            k=k-1\n",
    "            if k<1:\n",
    "                break\n",
    "    return resultado    \n",
    "print(Exercício_4_4_1(10,1))\n",
    "print(Exercício_4_4_2(10,1))\n",
    "print(Exercício_4_4_3(10,1))"
   ]
  },
  {
   "cell_type": "markdown",
   "metadata": {},
   "source": [
    "## 4.5"
   ]
  },
  {
   "cell_type": "code",
   "execution_count": 21,
   "metadata": {},
   "outputs": [],
   "source": [
    "def Exercício_4_5_1(k):\n",
    "    ## Calcula recursivamente o valor da série harmônica alternada\n",
    "    if k==0:\n",
    "        resultado=1\n",
    "    else:\n",
    "        resultado= 1/k + 1*(-1)**k/Exercício_4_5_1(k-1)\n",
    "    return resultado\n",
    "def Exercício_4_5_2(k):\n",
    "    ## Calcula iterativamente o valor da série harmônica alternada\n",
    "    if k==0:\n",
    "        resultado=1\n",
    "    while k>0:\n",
    "        resultado= 1/k + 1*(-1)**k/Exercício_4_5_2(k-1)\n",
    "        k=k-1\n",
    "    return resultado\n",
    "def Exercício_4_5_3(k):\n",
    "    ## Calcula,utilizando while True, o valor da série harmônica alternada\n",
    "    if k==0:\n",
    "        resultado=1\n",
    "    if k>0:\n",
    "        resultado=1\n",
    "        while True:\n",
    "            resultado= 1/k + 1*(-1)**k/Exercício_4_5_3(k-1)\n",
    "            k=k-1\n",
    "            if k<=0:\n",
    "                break\n",
    "    return resultado"
   ]
  },
  {
   "cell_type": "markdown",
   "metadata": {},
   "source": [
    "## 4.6"
   ]
  },
  {
   "cell_type": "code",
   "execution_count": 22,
   "metadata": {},
   "outputs": [
    {
     "name": "stdout",
     "output_type": "stream",
     "text": [
      "3.141839618929402\n",
      "3.1333333333333333\n",
      "3.1666666666666665\n"
     ]
    }
   ],
   "source": [
    "def Exercício_4_6_1(n):\n",
    "    ## Calcula uma aproximação para o valor de pi recursivamente\n",
    "    if n==1:\n",
    "        resultado=3\n",
    "    if n==2:\n",
    "        resultado=3 + ((-1)**n * 4)/((n)*(n+1)*(n+2))\n",
    "    if n>2:\n",
    "        resultado = Exercício_4_6_1(n-1) + ((-1)**n *4)/((2*n -2)*(2*n-1)*(2*n))\n",
    "    return resultado\n",
    "def Exercício_4_6_2(n):\n",
    "    ## Calcula uma aproximação para o valor de pi iterativamente\n",
    "    if n==1:\n",
    "        resultado=3\n",
    "    if n==2:\n",
    "        resultado=3 + ((-1)**n * 4)/((n)*(n+1)*(n+2))\n",
    "    while n>2:\n",
    "        resultado = Exercício_4_6_2(n-1) + ((-1)**n *4)/((2*n -2)*(2*n-1)*(2*n))\n",
    "        n=n-1\n",
    "    return resultado\n",
    "def Exercício_4_6_3(n):\n",
    "    ## Calcula uma aproximação para o valor de pi, utilizando while True\n",
    "    if n==1:\n",
    "        resultado=3\n",
    "    if n==2:\n",
    "        resultado=3 + ((-1)**n * 4)/((n)*(n+1)*(n+2))\n",
    "    if n>2:\n",
    "        while True:\n",
    "            resultado = Exercício_4_6_3(n-1) + ((-1)**n *4)/((2*n -2)*(2*n-1)*(2*n))\n",
    "            n=n-1\n",
    "            if n<2:\n",
    "                break\n",
    "    return resultado\n",
    "\n",
    "print(Exercício_4_6_1(10))\n",
    "print(Exercício_4_6_2(10))\n",
    "print(Exercício_4_6_3(10))"
   ]
  },
  {
   "cell_type": "markdown",
   "metadata": {},
   "source": [
    "## 4_7"
   ]
  },
  {
   "cell_type": "code",
   "execution_count": 23,
   "metadata": {},
   "outputs": [
    {
     "name": "stdout",
     "output_type": "stream",
     "text": [
      "0\n",
      "0\n",
      "0\n"
     ]
    }
   ],
   "source": [
    "def Exercício_4_7_1(n):\n",
    "    ## Calcula o valor da função F recursivamente\n",
    "    if n==0:\n",
    "        resultado=0\n",
    "    if n==1:\n",
    "        resultado=1\n",
    "    if n>1:\n",
    "        t=n-1\n",
    "        resultado=Exercício_4_7_1(t)*Exercício_4_7_1(t-1)\n",
    "    return resultado\n",
    "def Exercício_4_7_2(n):\n",
    "     ## Calcula o valor da função F iterativamente\n",
    "    if n==0:\n",
    "        resultado=0\n",
    "    if n==1:\n",
    "        resultado=1\n",
    "    while n>1:\n",
    "        t=n-1\n",
    "        resultado=Exercício_4_7_2(t)*Exercício_4_7_2(t-1)\n",
    "        n=n-1\n",
    "    return resultado\n",
    "def Exercício_4_7_3(n):\n",
    "     ## Calcula o valor da função F utilizando while true\n",
    "    if n==0:\n",
    "        resultado=0\n",
    "    if n==1:\n",
    "        resultado=1\n",
    "    if n>1:\n",
    "        while True:\n",
    "            t=n-1\n",
    "            resultado=Exercício_4_7_3(t)*Exercício_4_7_3(t-1)\n",
    "            n=n-1\n",
    "            if n<=1:\n",
    "                break\n",
    "    return resultado\n",
    "\n",
    "print(Exercício_4_7_1(10))\n",
    "print(Exercício_4_7_2(10))\n",
    "print(Exercício_4_7_3(10))\n"
   ]
  },
  {
   "cell_type": "markdown",
   "metadata": {},
   "source": [
    "## 4_8"
   ]
  },
  {
   "cell_type": "code",
   "execution_count": 24,
   "metadata": {},
   "outputs": [
    {
     "name": "stdout",
     "output_type": "stream",
     "text": [
      "11.000000000000002\n"
     ]
    }
   ],
   "source": [
    "def exercício_4_8_1(n):\n",
    "    if n==1:\n",
    "        resultado=1\n",
    "    if n==2:\n",
    "        resultado=1 + 1/1\n",
    "    if n>=3:\n",
    "        resultado=1 + 1/(1+(1/n-1))\n",
    "    return resultado\n",
    "\n",
    "print(exercício_4_8_1(10))"
   ]
  },
  {
   "cell_type": "markdown",
   "metadata": {},
   "source": [
    "## 4_9"
   ]
  },
  {
   "cell_type": "code",
   "execution_count": null,
   "metadata": {},
   "outputs": [],
   "source": [
    "def exercício_4_1(n,denom):\n",
    "    ## Função que calcula recursivamente uma aproximação para raiz de 2 a partir do número de termos\n",
    "    if n==1:\n",
    "        resultado=1\n",
    "    else:\n",
    "        resultado=1+exercício_4_1(n,denom)\n",
    "    return resultado       \n",
    "\n",
    "print(exercício_4_1(10,1))"
   ]
  },
  {
   "cell_type": "markdown",
   "metadata": {},
   "source": [
    "## 4_10"
   ]
  },
  {
   "cell_type": "code",
   "execution_count": 26,
   "metadata": {},
   "outputs": [
    {
     "ename": "UnboundLocalError",
     "evalue": "local variable 'resultado' referenced before assignment",
     "output_type": "error",
     "traceback": [
      "\u001b[0;31m---------------------------------------------------------------------------\u001b[0m",
      "\u001b[0;31mUnboundLocalError\u001b[0m                         Traceback (most recent call last)",
      "\u001b[0;32m<ipython-input-26-62da561fe749>\u001b[0m in \u001b[0;36m<module>\u001b[0;34m\u001b[0m\n\u001b[1;32m     15\u001b[0m     \u001b[0;32mreturn\u001b[0m \u001b[0mresultado\u001b[0m\u001b[0;34m\u001b[0m\u001b[0;34m\u001b[0m\u001b[0m\n\u001b[1;32m     16\u001b[0m \u001b[0;34m\u001b[0m\u001b[0m\n\u001b[0;32m---> 17\u001b[0;31m \u001b[0mprint\u001b[0m\u001b[0;34m(\u001b[0m\u001b[0mexercício_4_10_1\u001b[0m\u001b[0;34m(\u001b[0m\u001b[0;36m10\u001b[0m\u001b[0;34m)\u001b[0m\u001b[0;34m)\u001b[0m\u001b[0;34m\u001b[0m\u001b[0;34m\u001b[0m\u001b[0m\n\u001b[0m",
      "\u001b[0;32m<ipython-input-26-62da561fe749>\u001b[0m in \u001b[0;36mexercício_4_10_1\u001b[0;34m(termos)\u001b[0m\n\u001b[1;32m     13\u001b[0m     \u001b[0;32mif\u001b[0m \u001b[0mtermos\u001b[0m\u001b[0;34m==\u001b[0m\u001b[0;36m6\u001b[0m\u001b[0;34m:\u001b[0m\u001b[0;34m\u001b[0m\u001b[0;34m\u001b[0m\u001b[0m\n\u001b[1;32m     14\u001b[0m         \u001b[0mresultado\u001b[0m\u001b[0;34m=\u001b[0m\u001b[0;36m5\u001b[0m\u001b[0;34m+\u001b[0m\u001b[0;36m1\u001b[0m\u001b[0;34m/\u001b[0m\u001b[0;34m(\u001b[0m\u001b[0;36m2\u001b[0m\u001b[0;34m+\u001b[0m\u001b[0;34m(\u001b[0m\u001b[0;36m1\u001b[0m\u001b[0;34m/\u001b[0m\u001b[0;34m(\u001b[0m\u001b[0;36m3\u001b[0m\u001b[0;34m+\u001b[0m\u001b[0;36m1\u001b[0m\u001b[0;34m/\u001b[0m\u001b[0;34m(\u001b[0m\u001b[0;36m5\u001b[0m\u001b[0;34m+\u001b[0m\u001b[0;34m(\u001b[0m\u001b[0;36m1\u001b[0m\u001b[0;34m/\u001b[0m\u001b[0;36m2\u001b[0m\u001b[0;34m+\u001b[0m\u001b[0;34m(\u001b[0m\u001b[0;36m1\u001b[0m\u001b[0;34m/\u001b[0m\u001b[0;36m127\u001b[0m\u001b[0;34m)\u001b[0m\u001b[0;34m)\u001b[0m\u001b[0;34m)\u001b[0m\u001b[0;34m)\u001b[0m\u001b[0;34m)\u001b[0m\u001b[0;34m)\u001b[0m\u001b[0;34m\u001b[0m\u001b[0;34m\u001b[0m\u001b[0m\n\u001b[0;32m---> 15\u001b[0;31m     \u001b[0;32mreturn\u001b[0m \u001b[0mresultado\u001b[0m\u001b[0;34m\u001b[0m\u001b[0;34m\u001b[0m\u001b[0m\n\u001b[0m\u001b[1;32m     16\u001b[0m \u001b[0;34m\u001b[0m\u001b[0m\n\u001b[1;32m     17\u001b[0m \u001b[0mprint\u001b[0m\u001b[0;34m(\u001b[0m\u001b[0mexercício_4_10_1\u001b[0m\u001b[0;34m(\u001b[0m\u001b[0;36m10\u001b[0m\u001b[0;34m)\u001b[0m\u001b[0;34m)\u001b[0m\u001b[0;34m\u001b[0m\u001b[0;34m\u001b[0m\u001b[0m\n",
      "\u001b[0;31mUnboundLocalError\u001b[0m: local variable 'resultado' referenced before assignment"
     ]
    }
   ],
   "source": [
    "def exercício_4_10_1(termos):\n",
    "    ## Função que calcula o valor ou uma aproximação para 5,4321.\n",
    "    if termos==1:\n",
    "        resultado=5\n",
    "    elif termos==2:\n",
    "        resultado=5+1/2\n",
    "    elif termos==3:\n",
    "        5+1/(2+(1/3))\n",
    "    elif termos==4:\n",
    "        resultado=5+1/(2+(1/(3+1/5)))\n",
    "    elif termos==5:\n",
    "        resultado=5+1/(2+(1/(3+1/(5+(1/2)))))\n",
    "    if termos==6:\n",
    "        resultado=5+1/(2+(1/(3+1/(5+(1/2+(1/127))))))\n",
    "    return resultado     \n",
    "\n",
    "print(exercício_4_10_1(10))"
   ]
  },
  {
   "cell_type": "markdown",
   "metadata": {},
   "source": [
    "## 4_11"
   ]
  },
  {
   "cell_type": "code",
   "execution_count": 27,
   "metadata": {},
   "outputs": [
    {
     "ename": "NameError",
     "evalue": "name 'x' is not defined",
     "output_type": "error",
     "traceback": [
      "\u001b[0;31m---------------------------------------------------------------------------\u001b[0m",
      "\u001b[0;31mNameError\u001b[0m                                 Traceback (most recent call last)",
      "\u001b[0;32m<ipython-input-27-4defaeb2567f>\u001b[0m in \u001b[0;36m<module>\u001b[0;34m\u001b[0m\n\u001b[1;32m      9\u001b[0m     \u001b[0;32mreturn\u001b[0m \u001b[0mres\u001b[0m\u001b[0;34m\u001b[0m\u001b[0;34m\u001b[0m\u001b[0m\n\u001b[1;32m     10\u001b[0m \u001b[0;34m\u001b[0m\u001b[0m\n\u001b[0;32m---> 11\u001b[0;31m \u001b[0mprint\u001b[0m\u001b[0;34m(\u001b[0m\u001b[0mexercício_4_11_1\u001b[0m\u001b[0;34m(\u001b[0m\u001b[0;36m10\u001b[0m\u001b[0;34m,\u001b[0m\u001b[0;36m4\u001b[0m\u001b[0;34m)\u001b[0m\u001b[0;34m)\u001b[0m\u001b[0;34m\u001b[0m\u001b[0;34m\u001b[0m\u001b[0m\n\u001b[0m",
      "\u001b[0;32m<ipython-input-27-4defaeb2567f>\u001b[0m in \u001b[0;36mexercício_4_11_1\u001b[0;34m(termos, denom)\u001b[0m\n\u001b[1;32m      5\u001b[0m         \u001b[0mres\u001b[0m\u001b[0;34m=\u001b[0m\u001b[0;36m1\u001b[0m\u001b[0;34m/\u001b[0m\u001b[0mdenom\u001b[0m\u001b[0;34m\u001b[0m\u001b[0;34m\u001b[0m\u001b[0m\n\u001b[1;32m      6\u001b[0m     \u001b[0;32melse\u001b[0m\u001b[0;34m:\u001b[0m\u001b[0;34m\u001b[0m\u001b[0;34m\u001b[0m\u001b[0m\n\u001b[0;32m----> 7\u001b[0;31m         \u001b[0mdenom\u001b[0m\u001b[0;34m=\u001b[0m\u001b[0;36m1\u001b[0m\u001b[0;34m/\u001b[0m\u001b[0mx\u001b[0m\u001b[0;34m-\u001b[0m\u001b[0mexercício_4_11_1\u001b[0m\u001b[0;34m(\u001b[0m\u001b[0mtermos\u001b[0m\u001b[0;34m,\u001b[0m\u001b[0mdenom\u001b[0m\u001b[0;34m*\u001b[0m\u001b[0;36m3\u001b[0m\u001b[0;34m)\u001b[0m\u001b[0;34m\u001b[0m\u001b[0;34m\u001b[0m\u001b[0m\n\u001b[0m\u001b[1;32m      8\u001b[0m         \u001b[0mres\u001b[0m\u001b[0;34m=\u001b[0m\u001b[0;36m1\u001b[0m\u001b[0;34m/\u001b[0m\u001b[0mdenom\u001b[0m\u001b[0;34m\u001b[0m\u001b[0;34m\u001b[0m\u001b[0m\n\u001b[1;32m      9\u001b[0m     \u001b[0;32mreturn\u001b[0m \u001b[0mres\u001b[0m\u001b[0;34m\u001b[0m\u001b[0;34m\u001b[0m\u001b[0m\n",
      "\u001b[0;31mNameError\u001b[0m: name 'x' is not defined"
     ]
    }
   ],
   "source": [
    "def exercício_4_11_1(termos,denom):\n",
    "    ## Calcula recursivamente a tan(x) por meio de uma série \n",
    "    if termos==1:\n",
    "        denom=1/x\n",
    "        res=1/denom\n",
    "    else:\n",
    "        denom=1/x-exercício_4_11_1(termos,denom*3)\n",
    "        res=1/denom\n",
    "    return res\n",
    "\n",
    "print(exercício_4_11_1(10,4))"
   ]
  },
  {
   "cell_type": "markdown",
   "metadata": {},
   "source": [
    "## 4_12"
   ]
  },
  {
   "cell_type": "code",
   "execution_count": 32,
   "metadata": {},
   "outputs": [
    {
     "name": "stdout",
     "output_type": "stream",
     "text": [
      "0.01171875\n"
     ]
    }
   ],
   "source": [
    "def exercício_4_12_1(termos,denom):\n",
    "    ## Calcula recursivamente o valor de e\n",
    "    if termos==1:\n",
    "        res=2\n",
    "    if termos==2:\n",
    "        denom=0\n",
    "        res=2+(termos/2+denom)\n",
    "    else:\n",
    "        res=exercício_4_12_1(termos-1,denom)/(denom+1)\n",
    "    return res    \n",
    "\n",
    "print(exercício_4_12_1(10,1))"
   ]
  },
  {
   "cell_type": "code",
   "execution_count": null,
   "metadata": {},
   "outputs": [],
   "source": []
  }
 ],
 "metadata": {
  "kernelspec": {
   "display_name": "Python 3",
   "language": "python",
   "name": "python3"
  },
  "language_info": {
   "codemirror_mode": {
    "name": "ipython",
    "version": 3
   },
   "file_extension": ".py",
   "mimetype": "text/x-python",
   "name": "python",
   "nbconvert_exporter": "python",
   "pygments_lexer": "ipython3",
   "version": "3.7.1"
  }
 },
 "nbformat": 4,
 "nbformat_minor": 2
}
