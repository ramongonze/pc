{
 "cells": [
  {
   "cell_type": "markdown",
   "metadata": {},
   "source": [
    "### Exercício 1"
   ]
  },
  {
   "cell_type": "code",
   "execution_count": 1,
   "metadata": {},
   "outputs": [
    {
     "name": "stdout",
     "output_type": "stream",
     "text": [
      "  10\n"
     ]
    }
   ],
   "source": [
    "n = int(input(\"  \"))\n",
    "def fatorial(n):\n",
    "    \"\"\"Calcula o fatorial do natural n \n",
    "       usando \"enquanto\". Retorna 0 se n < 0.\n",
    "    \"\"\"\n",
    "    resultado = 0\n",
    "    if n >= 0:\n",
    "        resultado = 1\n",
    "    while (n > 1):\n",
    "        resultado = resultado * n\n",
    "        n = n - 1\n",
    "    return resultado\n",
    "    print(fatorial(n))"
   ]
  },
  {
   "cell_type": "code",
   "execution_count": null,
   "metadata": {},
   "outputs": [],
   "source": []
  }
 ],
 "metadata": {
  "kernelspec": {
   "display_name": "Python 3",
   "language": "python",
   "name": "python3"
  },
  "language_info": {
   "codemirror_mode": {
    "name": "ipython",
    "version": 3
   },
   "file_extension": ".py",
   "mimetype": "text/x-python",
   "name": "python",
   "nbconvert_exporter": "python",
   "pygments_lexer": "ipython3",
   "version": "3.7.1"
  }
 },
 "nbformat": 4,
 "nbformat_minor": 2
}
