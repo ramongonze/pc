{
 "cells": [
  {
   "cell_type": "markdown",
   "metadata": {},
   "source": [
    "Exercício 1"
   ]
  },
  {
   "cell_type": "code",
   "execution_count": 1,
   "metadata": {},
   "outputs": [
    {
     "name": "stdout",
     "output_type": "stream",
     "text": [
      "Digite um natural 10\n",
      "O fatorial de 10 é 3628800\n"
     ]
    }
   ],
   "source": [
    "n = int(input(\"Digite um natural \"))\n",
    "n == False\n",
    "while n == False:\n",
    "    try:\n",
    "        if n >= 0:\n",
    "            n = True\n",
    "    except ValueError:\n",
    "            print(\"Digite um natural \")\n",
    "def fatorial(n,c):    \n",
    "    if n == 0:\n",
    "        res = 1\n",
    "    else:\n",
    "        res = (c) * fatorial(n-1,c+1)\n",
    "    return res\n",
    "print(\"O fatorial de %d é %d\"%(n,fatorial(n,1)))"
   ]
  },
  {
   "cell_type": "markdown",
   "metadata": {},
   "source": [
    "Exercício 2"
   ]
  },
  {
   "cell_type": "markdown",
   "metadata": {},
   "source": [
    "def funcao(a): Definir a função \n",
    "    res = 0 -> Primeiro resultado\n",
    "    sinal_para_alternada = -1 -> Sinal necessário para a série alternada\n",
    "    Enquanto n > 0:\n",
    "        res = (1/n)*sinal_para_alternada + res\n",
    "        a = a - 1\n",
    "        sinal_para_alternada = (-1)*sinal_para_alternada\n",
    "    retorna res\n",
    "funcao(a)"
   ]
  },
  {
   "cell_type": "code",
   "execution_count": null,
   "metadata": {},
   "outputs": [],
   "source": [
    "def funcao(a):\n",
    "    res = 0 \n",
    "    sinal_para_alternada = -1 \n",
    "    while n > 0:\n",
    "        res = (1/n)*sinal_para_alternada + res\n",
    "        a = a - 1\n",
    "        sinal_para_alternada = (-1)*sinal_para_alternada\n",
    "    return res\n",
    "\n",
    "print(funcao(10))"
   ]
  },
  {
   "cell_type": "markdown",
   "metadata": {},
   "source": [
    "Exercício 3"
   ]
  },
  {
   "cell_type": "code",
   "execution_count": 1,
   "metadata": {},
   "outputs": [],
   "source": [
    "def neper_homR(termos,denom):\n",
    "    if (termos == 4):\n",
    "        res = denom\n",
    "    else:\n",
    "        res = denom + 1/neper_homR(termos-1,denom+4)\n",
    "    return res\n",
    "\n",
    "neper_ho"
   ]
  },
  {
   "cell_type": "code",
   "execution_count": 3,
   "metadata": {},
   "outputs": [
    {
     "ename": "NameError",
     "evalue": "name 'res' is not defined",
     "output_type": "error",
     "traceback": [
      "\u001b[1;31m---------------------------------------------------------------------------\u001b[0m",
      "\u001b[1;31mNameError\u001b[0m                                 Traceback (most recent call last)",
      "\u001b[1;32mcell_name\u001b[0m in \u001b[0;36masync-def-wrapper\u001b[1;34m()\u001b[0m\n",
      "\u001b[1;31mNameError\u001b[0m: name 'res' is not defined"
     ]
    }
   ],
   "source": [
    "def neper_homI(termos,denom):\n",
    "    import math\n",
    "    res = math.inf\n",
    "    while (termos > 0):\n",
    "        res = denom + 1/res\n",
    "        termos = termos-1\n",
    "        denom = denom+4\n",
    "return res"
   ]
  },
  {
   "cell_type": "code",
   "execution_count": null,
   "metadata": {},
   "outputs": [],
   "source": []
  }
 ],
 "metadata": {
  "kernelspec": {
   "display_name": "Python 3",
   "language": "python",
   "name": "python3"
  },
  "language_info": {
   "codemirror_mode": {
    "name": "ipython",
    "version": 3
   },
   "file_extension": ".py",
   "mimetype": "text/x-python",
   "name": "python",
   "nbconvert_exporter": "python",
   "pygments_lexer": "ipython3",
   "version": "3.7.1"
  }
 },
 "nbformat": 4,
 "nbformat_minor": 2
}
