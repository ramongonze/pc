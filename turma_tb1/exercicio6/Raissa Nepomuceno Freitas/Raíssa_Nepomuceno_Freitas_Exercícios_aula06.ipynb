{
 "cells": [
  {
   "cell_type": "markdown",
   "metadata": {},
   "source": [
    "Programação de computadores\n",
    "Exercícios aula 06\n",
    "Aluna: Raíssa Nepomuceno Freitas\n",
    "Matrícula: 2017104013"
   ]
  },
  {
   "cell_type": "code",
   "execution_count": null,
   "metadata": {},
   "outputs": [],
   "source": [
    "#Exercício 1 - Recursiva\n",
    "\n",
    "def fatorial(n,k):\n",
    "        if k == 0:\n",
    "            return 1\n",
    "        if n == k:\n",
    "            return k\n",
    "        else:\n",
    "            return n*fatorial(n+1,k)\n",
    "n=1\n",
    "k=0\n",
    "fatorial(n,k)"
   ]
  },
  {
   "cell_type": "code",
   "execution_count": null,
   "metadata": {},
   "outputs": [],
   "source": [
    "#Exercício 1 - Iterativa\n",
    "def fatorial(n,k):\n",
    "    resultado = 0\n",
    "    if n >=0:\n",
    "        resultado = 1\n",
    "        while (n>=k):\n",
    "            resultado = resultado*k\n",
    "            k = k+1\n",
    "        return resultado\n",
    "n=5\n",
    "k=1\n",
    "fatorial(n,k)"
   ]
  },
  {
   "cell_type": "code",
   "execution_count": null,
   "metadata": {},
   "outputs": [],
   "source": [
    "#Exercício 2\n",
    "def harmonica(n):\n",
    "    if n == 1:\n",
    "        resultado = 1\n",
    "    else:\n",
    "        resultado = (((-1)**(n+1)*(1/n)) + (harmonica(n-1)))\n",
    "    return resultado\n",
    "\n",
    "n=5\n",
    "harmonica(n)"
   ]
  },
  {
   "cell_type": "code",
   "execution_count": null,
   "metadata": {},
   "outputs": [],
   "source": [
    "#Exercício 4.1\n",
    "def fi(n):\n",
    "    if n == 1:\n",
    "        resultado = 1\n",
    "    else: \n",
    "        resultado = (1+fi(n-1))**(1/2)\n",
    "    return resultado\n",
    "fi(3)"
   ]
  },
  {
   "cell_type": "code",
   "execution_count": null,
   "metadata": {},
   "outputs": [],
   "source": [
    "def k(n):\n",
    "    resultado =0\n",
    "    while n>=1 :\n",
    "        resultado = (resultado +  1 ) **(1/2)\n",
    "        n = n-1\n",
    "    return resultado \n",
    "k(3)"
   ]
  },
  {
   "cell_type": "code",
   "execution_count": null,
   "metadata": {},
   "outputs": [],
   "source": [
    "#Exercício 4.2\n",
    "def fi(n):\n",
    "    if n == 1:\n",
    "        resultado = 1\n",
    "    else: \n",
    "        resultado = 1+(1/(1+fi(n-1)))\n",
    "    return resultado\n",
    "fi(3)"
   ]
  },
  {
   "cell_type": "code",
   "execution_count": null,
   "metadata": {},
   "outputs": [],
   "source": [
    "#Exercício 4.3\n",
    "def fatorial(n):\n",
    "    if(n==1):\n",
    "        resultado = 1\n",
    "    else:\n",
    "            resultado = 1/(n*(fatorial(n-1)))\n",
    "    return resultado\n",
    "    \n",
    "n=3\n",
    "fatorial(n)"
   ]
  },
  {
   "cell_type": "code",
   "execution_count": null,
   "metadata": {},
   "outputs": [],
   "source": [
    "def fatorial (n):\n",
    "    resultado = 0\n",
    "    while n > 0:\n",
    "        resultado =  1 +  1/n + resultado\n",
    "        n = n - 1\n",
    "        return resultado\n",
    "fatorial(3)"
   ]
  },
  {
   "cell_type": "code",
   "execution_count": null,
   "metadata": {},
   "outputs": [],
   "source": [
    "#Exercício 3.4\n",
    "def fatorial(n):\n",
    "    if(n==1):\n",
    "        resultado = 1\n",
    "    else:\n",
    "        resultado = ((x**n)/n*(fatorial(n-1)))\n",
    "    return resultado\n",
    "\n",
    "n= 3\n",
    "x= 1\n",
    "fatorial(n)"
   ]
  },
  {
   "cell_type": "code",
   "execution_count": null,
   "metadata": {},
   "outputs": [],
   "source": [
    "# Exercício 4.5 \n",
    "def fatorial1(n) :\n",
    "    if n == 1 :\n",
    "         resultado = 1 \n",
    "    else :\n",
    "         resultado = 1 + ((-1)**n)/(fatorial1(n-1)) \n",
    "    return  resultado \n",
    "fatorial1(30)"
   ]
  },
  {
   "cell_type": "code",
   "execution_count": null,
   "metadata": {},
   "outputs": [],
   "source": [
    " # Exercício 4.6 \n",
    "def pi(termos) :\n",
    "    if  termos == 1 :\n",
    "        resultado = 3\n",
    "    else :\n",
    "        resultado = 3 + pi2(1,1,termos)\n",
    "    return resultado \n",
    "        \n",
    "def pi2(iteração,sinal,termos) :\n",
    "    if iteração == termos - 1 : \n",
    "        k=2*iteração \n",
    "        resultado = (sinal*4)/((k)*(k+1)*(k+2))\n",
    "    else :\n",
    "        k=2*iteração \n",
    "        resultado = (sinal*4)/((k)*(k+1)*(k+2)) + pi2(iteração + 1,(-1)*sinal,termos)\n",
    "    return resultado \n",
    "\n",
    "pi(100)"
   ]
  },
  {
   "cell_type": "code",
   "execution_count": null,
   "metadata": {},
   "outputs": [],
   "source": [
    "# Exercício 4.7\n",
    "def fatorial (n): \n",
    "    if n == 0 :\n",
    "         resultado = 0\n",
    "    elif  n == 1 :\n",
    "        resultado = 1 \n",
    "    elif  n > 1 :\n",
    "         resultado = fatorial(n-1) + fatorial (n-2)\n",
    "    return  resultado \n",
    "fatorial(4) "
   ]
  }
 ],
 "metadata": {
  "kernelspec": {
   "display_name": "Python 3",
   "language": "python",
   "name": "python3"
  },
  "language_info": {
   "codemirror_mode": {
    "name": "ipython",
    "version": 3
   },
   "file_extension": ".py",
   "mimetype": "text/x-python",
   "name": "python",
   "nbconvert_exporter": "python",
   "pygments_lexer": "ipython3",
   "version": "3.7.1"
  }
 },
 "nbformat": 4,
 "nbformat_minor": 2
}
