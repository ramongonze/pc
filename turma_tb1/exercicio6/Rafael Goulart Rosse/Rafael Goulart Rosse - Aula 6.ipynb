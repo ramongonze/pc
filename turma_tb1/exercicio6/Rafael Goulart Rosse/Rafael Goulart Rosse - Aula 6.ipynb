{
 "cells": [
  {
   "cell_type": "markdown",
   "metadata": {},
   "source": [
    "# Aula 5 - Exercícios"
   ]
  },
  {
   "cell_type": "markdown",
   "metadata": {},
   "source": [
    "# Questão 1"
   ]
  },
  {
   "cell_type": "code",
   "execution_count": 25,
   "metadata": {},
   "outputs": [
    {
     "name": "stdout",
     "output_type": "stream",
     "text": [
      "1\n"
     ]
    }
   ],
   "source": [
    "def exercício_1(n):\n",
    "    condicao_de_parada = y\n",
    "    resultado = 0\n",
    "    if n >= 0:\n",
    "        resultado = 1\n",
    "    while (n>1 and n<=y):\n",
    "        resultado = resultado * n\n",
    "        n = n -1\n",
    "    return resultado"
   ]
  },
  {
   "cell_type": "markdown",
   "metadata": {},
   "source": [
    "# Questão 2"
   ]
  },
  {
   "cell_type": "code",
   "execution_count": 74,
   "metadata": {},
   "outputs": [],
   "source": [
    "def exercício_2(n,sinal):\n",
    "    \"Esse programa corresponde ao somatório de n termos com uma razão de 1/k multiplicado por -1 elevado a k+1.\\\n",
    "    definimos o resultado para n sendo 1 e depois indicamos a fórmula.\"\n",
    "    if n == 1:\n",
    "        resultado = 1\n",
    "    else:\n",
    "        sinal = -1**n\n",
    "        resultado = ((1/n) * sinal + exercício_2(n-1,sinal))\n",
    "    return resultado"
   ]
  },
  {
   "cell_type": "markdown",
   "metadata": {},
   "source": [
    "# Questão 3"
   ]
  },
  {
   "cell_type": "code",
   "execution_count": 21,
   "metadata": {},
   "outputs": [],
   "source": [
    "def exercício_3_1(termos,denom):\n",
    "    if (termos == 1):\n",
    "        resultado = denom\n",
    "    else:\n",
    "        resultado = denom + 1/exercício_3_1(termos-1,denom+4)\n",
    "    return resultado\n",
    "\n",
    "termos = 4\n",
    "denom = 1\n",
    "\n",
    "def exercício_3_2(termos,denom):\n",
    "    import math\n",
    "    resultado = math.inf\n",
    "    denom = 6 + (termos-1) * 4\n",
    "    while (termos > 0):\n",
    "        resultado = denom + 1/resultado\n",
    "        termos = termos - 1\n",
    "        denom = denom - 4\n",
    "    return resultado\n",
    "\n",
    "termos = 4\n",
    "denom = 1"
   ]
  }
 ],
 "metadata": {
  "kernelspec": {
   "display_name": "Python 3",
   "language": "python",
   "name": "python3"
  },
  "language_info": {
   "codemirror_mode": {
    "name": "ipython",
    "version": 3
   },
   "file_extension": ".py",
   "mimetype": "text/x-python",
   "name": "python",
   "nbconvert_exporter": "python",
   "pygments_lexer": "ipython3",
   "version": "3.7.1"
  }
 },
 "nbformat": 4,
 "nbformat_minor": 2
}
