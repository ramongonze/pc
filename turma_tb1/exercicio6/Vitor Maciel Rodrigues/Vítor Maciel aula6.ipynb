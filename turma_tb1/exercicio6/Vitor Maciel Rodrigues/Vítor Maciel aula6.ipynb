{
 "cells": [
  {
   "cell_type": "markdown",
   "metadata": {},
   "source": [
    "# Exercício 1"
   ]
  },
  {
   "cell_type": "markdown",
   "metadata": {},
   "source": [
    "Recursivo"
   ]
  },
  {
   "cell_type": "code",
   "execution_count": 4,
   "metadata": {},
   "outputs": [
    {
     "data": {
      "text/plain": [
       "3628800"
      ]
     },
     "execution_count": 4,
     "metadata": {},
     "output_type": "execute_result"
    }
   ],
   "source": [
    "def fatorial(n): \n",
    "    if n == 0: \n",
    "        return 1  \n",
    "    else: \n",
    "        return n*fatorial(n+1) \n",
    "fatorial (10)"
   ]
  },
  {
   "cell_type": "markdown",
   "metadata": {},
   "source": [
    "Iterativo"
   ]
  },
  {
   "cell_type": "code",
   "execution_count": 20,
   "metadata": {},
   "outputs": [
    {
     "ename": "SyntaxError",
     "evalue": "'break' outside loop (cell_name, line 18)",
     "output_type": "error",
     "traceback": [
      "\u001b[1;36m  File \u001b[1;32m\"cell_name\"\u001b[1;36m, line \u001b[1;32m18\u001b[0m\n\u001b[1;31mSyntaxError\u001b[0m\u001b[1;31m:\u001b[0m 'break' outside loop\n"
     ]
    }
   ],
   "source": [
    "def fatorial(n):\n",
    "    \"\"\"Calcula o fatorial do inteiro n, usando \"repita...até\". \n",
    "    Retorna 0 se n < 0. \n",
    "    \"\"\" \n",
    "    if n < 0: \n",
    "            resultado = 0 \n",
    "    elif n == 0: \n",
    "            resultado = 1 \n",
    "    else: \n",
    "            resultado = 1 \n",
    "            while True: \n",
    "                resultado = resultado * n \n",
    "            n = n - 1 \n",
    "            if n < 2: \n",
    "                break \n",
    "return resultado \n",
    "n = int(input(\"Entre com n: \")) \n",
    "print(\"O fatorial de %d é %d\"%(n,fatorial(n)))\n",
    "\n"
   ]
  },
  {
   "cell_type": "markdown",
   "metadata": {},
   "source": [
    "# Exercício 2"
   ]
  },
  {
   "cell_type": "markdown",
   "metadata": {},
   "source": [
    "Recursivo"
   ]
  },
  {
   "cell_type": "code",
   "execution_count": null,
   "metadata": {},
   "outputs": [],
   "source": [
    " def harmonicaR(n): \n",
    "        if n == 1: \n",
    "            resultado = 1 \n",
    "            else: \n",
    "                resultado = 1/n + harmonicaR(n-1) \n",
    "                return resultado\n"
   ]
  },
  {
   "cell_type": "code",
   "execution_count": null,
   "metadata": {},
   "outputs": [],
   "source": [
    "Iterativo"
   ]
  },
  {
   "cell_type": "code",
   "execution_count": null,
   "metadata": {},
   "outputs": [],
   "source": [
    "def harmonicaI(n): \n",
    "    resultado = 0 \n",
    "    while n > 0: \n",
    "        resultado = \\ \n",
    "        1/n + resultado \n",
    "        n = n - 1 \n",
    "        return resultado\n"
   ]
  },
  {
   "cell_type": "markdown",
   "metadata": {},
   "source": [
    "# Exercício 3"
   ]
  },
  {
   "cell_type": "markdown",
   "metadata": {},
   "source": [
    "Recursivo"
   ]
  },
  {
   "cell_type": "code",
   "execution_count": null,
   "metadata": {},
   "outputs": [],
   "source": [
    "def neper_homR(termos,denom): \n",
    "    if (termos == 1): \n",
    "        res = denom \n",
    "        else: \n",
    "            res = denom + 1/neper_homR(termos-1,denom+4) \n",
    "            return res "
   ]
  },
  {
   "cell_type": "markdown",
   "metadata": {},
   "source": [
    "Iterativo"
   ]
  },
  {
   "cell_type": "code",
   "execution_count": null,
   "metadata": {},
   "outputs": [],
   "source": [
    "def neper_homI(termos,denom): \n",
    "    import math \n",
    "    res = math.inf \n",
    "    while (termos > 0): \n",
    "        res = denom + 1/res \n",
    "        termos = termos-1 \n",
    "        denom = denom+4 \n",
    "        return res\n"
   ]
  }
 ],
 "metadata": {
  "kernelspec": {
   "display_name": "Python 3",
   "language": "python",
   "name": "python3"
  },
  "language_info": {
   "codemirror_mode": {
    "name": "ipython",
    "version": 3
   },
   "file_extension": ".py",
   "mimetype": "text/x-python",
   "name": "python",
   "nbconvert_exporter": "python",
   "pygments_lexer": "ipython3",
   "version": "3.7.1"
  }
 },
 "nbformat": 4,
 "nbformat_minor": 2
}
