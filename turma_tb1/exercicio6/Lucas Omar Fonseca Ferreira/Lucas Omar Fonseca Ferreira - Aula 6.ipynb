{
 "cells": [
  {
   "cell_type": "code",
   "execution_count": null,
   "metadata": {},
   "outputs": [],
   "source": [
    "# 1\n",
    "\n",
    "# def fatorial(n):\n",
    "#    resultado = 0\n",
    "#    cont = 1\n",
    "#    if n >= 0:\n",
    "#        if n == 0 or n == 1:\n",
    "#            resultado = 1\n",
    "#        else:\n",
    "#            resultado = 2 * fatorial(cont+1)\n",
    "#    return resultado\n",
    "#print(\"%d\" %fatorial(n))\n",
    "\n",
    "# 1 Recursivo\n",
    "n = int(input(\"Digite um número: \"))\n",
    "def fatorial (m, n):\n",
    "    if m == n:\n",
    "        resultado = m\n",
    "    else:\n",
    "        resultado = m*fatorial(m+1,n)\n",
    "    return resultado\n",
    "print(\"%d\" %fatorial(1,n))"
   ]
  },
  {
   "cell_type": "code",
   "execution_count": 7,
   "metadata": {},
   "outputs": [
    {
     "name": "stdout",
     "output_type": "stream",
     "text": [
      "Digite um número para calcular seu fatorial: 4\n",
      "24\n"
     ]
    }
   ],
   "source": [
    "# 1 Iterativo ao contrário\n",
    "#n = int(input(\"Digite um valor: \"))\n",
    "#def fatorial(m,n):\n",
    "#    resultado = 0\n",
    "#   if n >= 0:\n",
    "#       resultado = 1\n",
    "#       while (n > m):\n",
    "#           resultado *= n\n",
    "#           m += 1\n",
    "#   return resultado\n",
    "#print(\"%d\" %fatorial(1,n))\n",
    "n = int(input(\"Digite um número para calcular seu fatorial: \"))\n",
    "def fatorial(n):\n",
    "    m=0\n",
    "    if n<0:\n",
    "          resultado = 0\n",
    "    else:\n",
    "        resultado = 1\n",
    "        while m < n:\n",
    "            m+=1\n",
    "            resultado *= m\n",
    "    return resultado\n",
    "print(\"%d\" %fatorial(n))"
   ]
  },
  {
   "cell_type": "code",
   "execution_count": null,
   "metadata": {},
   "outputs": [],
   "source": []
  },
  {
   "cell_type": "code",
   "execution_count": null,
   "metadata": {},
   "outputs": [],
   "source": []
  },
  {
   "cell_type": "code",
   "execution_count": 4,
   "metadata": {},
   "outputs": [
    {
     "name": "stdout",
     "output_type": "stream",
     "text": [
      "Entre com o número inicial: 2\n",
      "1\n"
     ]
    }
   ],
   "source": [
    "# 4.7\n",
    "n = int(input(\"Entre com o número de termos da sequência: \"))\n",
    "def fibonacci(lim,m,n):\n",
    "     if lim > 0:\n",
    "        return 1\n",
    "     elif n == 0:\n",
    "        return 1\n",
    "     else\n",
    "        resultado = fibonacci(n-1) + fibonacci(n-2)\n",
    "        \n",
    "print(\"%d\" %fibonacci(n))    "
   ]
  },
  {
   "cell_type": "code",
   "execution_count": null,
   "metadata": {},
   "outputs": [],
   "source": []
  },
  {
   "cell_type": "code",
   "execution_count": null,
   "metadata": {},
   "outputs": [],
   "source": []
  },
  {
   "cell_type": "code",
   "execution_count": null,
   "metadata": {},
   "outputs": [],
   "source": []
  },
  {
   "cell_type": "code",
   "execution_count": null,
   "metadata": {},
   "outputs": [],
   "source": []
  }
 ],
 "metadata": {
  "kernelspec": {
   "display_name": "Python 3",
   "language": "python",
   "name": "python3"
  },
  "language_info": {
   "codemirror_mode": {
    "name": "ipython",
    "version": 3
   },
   "file_extension": ".py",
   "mimetype": "text/x-python",
   "name": "python",
   "nbconvert_exporter": "python",
   "pygments_lexer": "ipython3",
   "version": "3.7.1"
  }
 },
 "nbformat": 4,
 "nbformat_minor": 2
}
