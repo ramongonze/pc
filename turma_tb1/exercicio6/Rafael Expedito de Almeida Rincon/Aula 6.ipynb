{
 "cells": [
  {
   "cell_type": "code",
   "execution_count": null,
   "metadata": {},
   "outputs": [],
   "source": [
    "def exercicio_1_1 (p,n):\n",
    "    #Essa função calcula fatorial recursivamente\n",
    "    if p<=n: \n",
    "        resultado= p*exercicio_1_1(p+1,n)\n",
    "    elif:\n",
    "      resultado = 1\n",
    "    if n<0:\n",
    "        return \"Esse número não é permitido para a função\"\n",
    "    return resultado \n",
    "\n",
    "\n",
    "#n=int(input(\"De qual valor desejas calcular o fatorial?\"))\n",
    "#print (exercicio_1_1(1,n))\n",
    "\n",
    "def exercicio_1_2(n,p)\n",
    " #Essa função calcula fatorial iterativamente usando recurso enquanto\n",
    "   if p<0:\n",
    "    resultado = 0 \n",
    "    else p==0 \n",
    "    resultado = 1 \n",
    "    else:\n",
    "        resultado = 1 \n",
    "        While True \n",
    "        resultado = resultado*n\n",
    "        n = n+1\n",
    "        if p<n \n",
    "        break \n",
    "    return resultado\n",
    "#p = int(input(\"Coloque um número\"))\n",
    "\n",
    "#print (\"O fatorial de %d é %str\")"
   ]
  }
 ],
 "metadata": {
  "kernelspec": {
   "display_name": "Python 3",
   "language": "python",
   "name": "python3"
  },
  "language_info": {
   "codemirror_mode": {
    "name": "ipython",
    "version": 3
   },
   "file_extension": ".py",
   "mimetype": "text/x-python",
   "name": "python",
   "nbconvert_exporter": "python",
   "pygments_lexer": "ipython3",
   "version": "3.7.1"
  }
 },
 "nbformat": 4,
 "nbformat_minor": 2
}
