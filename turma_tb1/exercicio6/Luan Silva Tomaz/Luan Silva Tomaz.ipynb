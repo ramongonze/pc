{
 "cells": [
  {
   "cell_type": "markdown",
   "metadata": {},
   "source": [
    "# Luan Silva Tomaz"
   ]
  },
  {
   "cell_type": "markdown",
   "metadata": {},
   "source": [
    "# Lista aula 06"
   ]
  },
  {
   "cell_type": "markdown",
   "metadata": {},
   "source": [
    "# Exercício 01\n",
    "\n",
    "## 1- Refaça os algoritmos e os programas recursivo e iterativo para calcular o fatorial do menor valor até o valor passado como argumento. \n",
    "\n",
    "### Dicas: \n",
    "### 1.1 - A função terá mais um argumento para indicar o termo que se quer calcular. Qual valor esse argumento deve ter quando a função é chamada?\n",
    "\n",
    "### 1.2 - O caso de base agora muda para testar se o termo é igual ao argumento n, o natural cujo fatorial se quer calcular.\n",
    "\n",
    "### 1.3 -  A chamada recursiva irá aumentar o argumento do termo em vez de diminuir."
   ]
  },
  {
   "cell_type": "markdown",
   "metadata": {},
   "source": [
    "### Algoritmo "
   ]
  },
  {
   "cell_type": "markdown",
   "metadata": {
    "collapsed": true
   },
   "source": [
    "*receber valor\n",
    "\n",
    "*validar valor recebido\n",
    "\n",
    "*criar função\n",
    "\n",
    "    enquanto o número de voltas for menor que o número que deseja calcular o fatorial\n",
    "\n",
    "        somatorio do resultado vezes o numero de voltas\n",
    "\n",
    "        retornar o resultado\n",
    "\n",
    "*apresentar o resultado para o usuário"
   ]
  },
  {
   "cell_type": "markdown",
   "metadata": {},
   "source": [
    "### Iteração"
   ]
  },
  {
   "cell_type": "code",
   "execution_count": 26,
   "metadata": {},
   "outputs": [
    {
     "name": "stdout",
     "output_type": "stream",
     "text": [
      "Achar fatorial de: 5\n",
      "5! é igual a 120\n"
     ]
    }
   ],
   "source": [
    "#Validador\n",
    "Validador_n = False\n",
    "while Validador_n == False:\n",
    "    n = int(input('Achar fatorial de: '))\n",
    "    if n >= 0:\n",
    "        Validador_n = True\n",
    "    else:\n",
    "        print('Favor digitar um número natural!')\n",
    "\n",
    "#Função fatorial\n",
    "def exercicio_1_1_1(n):\n",
    "    resultado = 1\n",
    "    contador = 1\n",
    "    while contador < n + 1:\n",
    "        resultado *= contador\n",
    "        contador += 1\n",
    "    return resultado    \n",
    "print('{}! é igual a {}'.format(n,exercicio_1_1_1(n)))"
   ]
  },
  {
   "cell_type": "markdown",
   "metadata": {},
   "source": [
    "### Recursão\n"
   ]
  },
  {
   "cell_type": "code",
   "execution_count": 29,
   "metadata": {},
   "outputs": [
    {
     "name": "stdout",
     "output_type": "stream",
     "text": [
      "Achar o fatorial de: 5\n",
      "5! é igual a 120\n"
     ]
    }
   ],
   "source": [
    "#Validador de entrada\n",
    "Validador_Num = False\n",
    "while Validador_Num == False:\n",
    "    try:\n",
    "        Num = int(input('Achar o fatorial de: '))\n",
    "        if Num >= 0:\n",
    "            Validador_Num = True\n",
    "    except ValueError:\n",
    "        print('Favor digitar um número natural!')   \n",
    "#Função\n",
    "def exercicio_1_2_1(Num,contador):\n",
    "    if Num == 0:\n",
    "        resultado = 1\n",
    "    else:\n",
    "        resultado =  (contador) * exercicio_1_2_1(Num-1,contador+1)\n",
    "        \n",
    "    return resultado    \n",
    "    \n",
    "#print saída do resultado\n",
    "print('{}! é igual a {}'.format(Num,exercicio_1_2_1(Num,1)))"
   ]
  },
  {
   "cell_type": "markdown",
   "metadata": {},
   "source": [
    "# Exercício 02\n",
    "\n",
    "## Faça o algoritmo e o programa para calcular a função harmônica com sinais alternados.\n"
   ]
  },
  {
   "cell_type": "markdown",
   "metadata": {},
   "source": [
    "### Algoritimo"
   ]
  },
  {
   "cell_type": "markdown",
   "metadata": {},
   "source": [
    "#### Validador\n",
    "*validador de entrada\n",
    "   \n",
    "    receber qual a posição do termo\n",
    "     \n",
    "#### Função\n",
    "\n",
    "*O primeiro denominador é 1\n",
    "\n",
    "*enquanto o denominador for menor que posição + 1\n",
    "\n",
    "    somar no acumulador (1/denominador)*(sinal)\n",
    "    \n",
    "    denominador ganha mais um\n",
    "    \n",
    "    o sinal é multipicado por -1 para que ele alterne a cada volta\n",
    "\n",
    "*retornar o valor acumulado\n",
    "\n",
    "*imprimir o resultado do somatório"
   ]
  },
  {
   "cell_type": "markdown",
   "metadata": {},
   "source": [
    "### Exemplo Função Harmonica"
   ]
  },
  {
   "cell_type": "code",
   "execution_count": 30,
   "metadata": {},
   "outputs": [
    {
     "name": "stdout",
     "output_type": "stream",
     "text": [
      "Favor digitar o número de termos: 5\n",
      "o resultado é 0.7833333333333332\n"
     ]
    }
   ],
   "source": [
    "#Validador de entrada\n",
    "Validador_posição = False\n",
    "while Validador_posição == False:\n",
    "    try:\n",
    "        posição = int(input('Favor digitar o número de termos: '))\n",
    "        if posição >= 0:\n",
    "            Validador_posição = True\n",
    "    except ValueError:\n",
    "        print('Favor digitar um número natural!')\n",
    "\n",
    "#Função\n",
    "def exercicio_2_1_1(posição):\n",
    "    Cond_fim = 1\n",
    "    somatório = 0\n",
    "    sinal = 1\n",
    "    while Cond_fim < posição + 1:\n",
    "        somatório = somatório + (1/Cond_fim)*(sinal)\n",
    "        Cond_fim = Cond_fim + 1\n",
    "        sinal = sinal * (-1)\n",
    "    return somatório\n",
    "print('o resultado é {}'.format(exercicio_2_1_1(posição)))"
   ]
  },
  {
   "cell_type": "markdown",
   "metadata": {},
   "source": [
    "# Exercício 03\n",
    "\n",
    "## Execute à mão as funções iterativas e recursivas neper_homR e neper_homI para a parte homogênea que calcula a fração contínua para o número de Euler e para 4 termos (exceto os 2 primeiros que não são calculados por essas funções).\n"
   ]
  },
  {
   "cell_type": "markdown",
   "metadata": {},
   "source": [
    "### Neper_homl - Iterativa código"
   ]
  },
  {
   "cell_type": "code",
   "execution_count": 31,
   "metadata": {},
   "outputs": [
    {
     "name": "stdout",
     "output_type": "stream",
     "text": [
      "Favor digitar o número de termos: 5\n",
      "1.1956880644848014\n"
     ]
    }
   ],
   "source": [
    "#Validador de entrada\n",
    "Validador_posição = False\n",
    "while Validador_posição == False:\n",
    "    try:\n",
    "        termos = int(input('Favor digitar o número de termos: '))\n",
    "        if termos >= 0:\n",
    "            Validador_posição = True\n",
    "    except ValueError:\n",
    "        print('Favor digitar um número natural!')\n",
    "        \n",
    "#Função\n",
    "def exercicio_3_1_1(termos,denom):\n",
    "    import math\n",
    "    res = math.inf\n",
    "    denom = 1+(termos-1)*4\n",
    "    while (termos > 0):\n",
    "        res = denom + 1/res\n",
    "        termos = termos - 1\n",
    "        denom = denom - 4\n",
    "    return res\n",
    "print(exercicio_3_1_1(termos,1))"
   ]
  },
  {
   "cell_type": "markdown",
   "metadata": {},
   "source": [
    "### neper_homI - Iterativa a mão\n",
    "\n",
    "#### Recebe\n",
    "termos = 4\n",
    "\n",
    "-------------------------------------------------------------------------------------------------------------------------------\n",
    "\n",
    "##### validador\n",
    "termos maior ou igual a 0? Sim\n",
    "\n",
    "Teste verificado:\n",
    "proxima linha depois do teste\n",
    "\n",
    "-------------------------------------------------------------------------------------------------------------------------------\n",
    "\n",
    "#### Definir denominador\n",
    "\n",
    "denom = 1+(4-1)*4\n",
    "\n",
    "denom = 13\n",
    "\n",
    "-------------------------------------------------------------------------------------------------------------------------------\n",
    "\n",
    "#### enquanto termos maior que 0:\n",
    "\n",
    "res = 13 + 1/inf\n",
    "\n",
    "res = 13\n",
    "\n",
    "\n",
    "termos = 4 - 1\n",
    "\n",
    "termos = 3\n",
    "\n",
    "\n",
    "denom = 13 - 4\n",
    "\n",
    "denom = 9\n",
    "\n",
    "-------------------------------------------------------------------------------------------------------------------------------\n",
    "\n",
    "##### termos maior que 0? Sim\n",
    "repete\n",
    "\n",
    "\n",
    "res = 9 + 1/13\n",
    "\n",
    "res = 9,076923077,,,\n",
    "\n",
    "\n",
    "termos = 3 - 1\n",
    "\n",
    "termos = 2\n",
    "\n",
    "\n",
    "denom = 9 - 4\n",
    "\n",
    "denom = 5\n",
    "\n",
    "-------------------------------------------------------------------------------------------------------------------------------\n",
    "\n",
    "##### termos maior que 0? Sim\n",
    "\n",
    "repete\n",
    "\n",
    "\n",
    "res = 5 + 1/9,076923077...\n",
    "\n",
    "res = 5,110169491...\n",
    "\n",
    "\n",
    "termos = 2 - 1\n",
    "\n",
    "termos = 1\n",
    "\n",
    "\n",
    "denom = 5 - 4\n",
    "\n",
    "denom = 1\n",
    "\n",
    "-------------------------------------------------------------------------------------------------------------------------------\n",
    "\n",
    "##### termos maior que 0? Sim\n",
    "repete\n",
    "\n",
    "res = 1 + 1/5,110169491...\n",
    "res = 1.195688225...\n",
    "\n",
    "termos = 1 - 1\n",
    "termos = 0\n",
    "\n",
    "denom = 1 - 4\n",
    "denom = -3\n",
    "\n",
    "-------------------------------------------------------------------------------------------------------------------------------\n",
    "\n",
    "##### Termos maior que 0? Não\n",
    "Quebrar looping\n",
    "\n",
    "-------------------------------------------------------------------------------------------------------------------------------\n",
    "\n",
    "##### Retornar o valor de res\n",
    "\n",
    "-------------------------------------------------------------------------------------------------------------------------------\n",
    "\n",
    "#### Fim da função\n",
    "\n",
    "-------------------------------------------------------------------------------------------------------------------------------\n",
    "\n",
    "#### imprimir o valor agregado a função\n",
    "\n",
    "saída = 1.195688225...\n"
   ]
  },
  {
   "cell_type": "markdown",
   "metadata": {},
   "source": [
    "### neper_homR - Recursiva código"
   ]
  },
  {
   "cell_type": "code",
   "execution_count": 33,
   "metadata": {},
   "outputs": [
    {
     "name": "stdout",
     "output_type": "stream",
     "text": [
      "Favor digitar o número de termos: 5\n",
      "1.1956880644848014\n"
     ]
    }
   ],
   "source": [
    "#Validador de entrada\n",
    "Validador_posição = False\n",
    "while Validador_posição == False:\n",
    "    try:\n",
    "        termos = int(input('Favor digitar o número de termos: '))\n",
    "        if termos >= 0:\n",
    "            Validador_posição = True\n",
    "    except ValueError:\n",
    "        print('Favor digitar um número natural!')\n",
    "\n",
    "#Função\n",
    "def exercicio_3_2_1(termos,denom):\n",
    "    if (termos == 1):\n",
    "        res = denom\n",
    "    else:\n",
    "        res = denom + 1/neper_homR(termos-1,denom+4)\n",
    "    return res\n",
    "print(exercicio_3_2_1(termos,1))"
   ]
  },
  {
   "cell_type": "markdown",
   "metadata": {},
   "source": [
    "### neper_homR - Recursiva a mão"
   ]
  },
  {
   "cell_type": "markdown",
   "metadata": {},
   "source": [
    "Termos = 4\n",
    "denom = 1\n",
    "\n",
    "##### Termos igual a 1? Não\n",
    "\n",
    "##### Res\n",
    "\n",
    "re1 = denom\n",
    "\n",
    "\n",
    "$$ re1 = 1$$\n",
    "\n",
    "-------------------------------------------------------------------------------------------------------------------------------\n",
    "\n",
    "##### Denom\n",
    "\n",
    "denom = denom + 4 \n",
    "\n",
    "denom = 5\n",
    "\n",
    "##### Termos\n",
    "\n",
    "termos = termos - 1\n",
    "\n",
    "termos = 3\n",
    "\n",
    "##### Res\n",
    "\n",
    "res2 = 1 + 1/(denom)\n",
    "\n",
    "res2 = 1 + 1/(5)\n",
    "\n",
    "\n",
    "$$ re2 = 1+{1\\over5}$$\n",
    "\n",
    "-------------------------------------------------------------------------------------------------------------------------------\n",
    "\n",
    "##### Denom\n",
    "\n",
    "denom = denom + 4\n",
    "\n",
    "denom = 9\n",
    "\n",
    "##### Termos\n",
    "\n",
    "termos = termos - 1\n",
    "\n",
    "termos = 2\n",
    "\n",
    "##### Res\n",
    "\n",
    "res3 = 1 + 1/(5 + 1/(denom)) \n",
    "\n",
    "res3 = 1 + 1/(5 + 1/(9))\n",
    "\n",
    "\n",
    "$$ re3 = 1+{1\\over5+{1\\over9}}$$\n",
    "\n",
    "-------------------------------------------------------------------------------------------------------------------------------\n",
    "\n",
    "##### Denom\n",
    "\n",
    "denom = denom + 4\n",
    "\n",
    "denom = 13\n",
    "\n",
    "##### Termos\n",
    "\n",
    "termos = termos - 1\n",
    "\n",
    "termos = 1\n",
    "\n",
    "##### Res\n",
    "\n",
    "res4 = 1 + 1/(5 + 1/(9 + 1/(denom)))\n",
    "\n",
    "res4 = 1 + 1/(5 + 1/(9 + 1/(13)))\n",
    "\n",
    "\n",
    "$$ re4 = 1+{1\\over5+{1\\over9+{1\\over13}}} $$\n",
    "\n",
    "-------------------------------------------------------------------------------------------------------------------------------\n",
    "\n",
    "#### Termos igual a 1? Sim\n",
    "\n",
    "quebrar looping\n",
    "\n",
    "-------------------------------------------------------------------------------------------------------------------------------\n",
    "\n",
    "##### Retornar o valor de res\n",
    "\n",
    "-------------------------------------------------------------------------------------------------------------------------------\n",
    "\n",
    "#### Fim da função\n",
    "\n",
    "-------------------------------------------------------------------------------------------------------------------------------\n",
    "\n",
    "#### imprimir o valor agregado a função\n",
    "\n",
    "saída = 1.1956882255389718\n"
   ]
  },
  {
   "cell_type": "markdown",
   "metadata": {},
   "source": [
    "# Exercício 04\n",
    "\n",
    "## Faça programas Python recursivos e iterativos com enquanto e repita...até para as seguintes frações contínuas e séries:"
   ]
  },
  {
   "cell_type": "markdown",
   "metadata": {},
   "source": [
    "## 4.1\n",
    "$$φ = \\sqrt{1 + \\sqrt{1 + \\sqrt{1 + \\sqrt{1 + ...}}}}$$\n",
    "\n"
   ]
  },
  {
   "cell_type": "markdown",
   "metadata": {},
   "source": []
  },
  {
   "cell_type": "code",
   "execution_count": null,
   "metadata": {},
   "outputs": [],
   "source": [
    "from math import sqrt\n",
    "x = 0\n",
    "\n",
    "while True:\n",
    "    n = sqrt(1 + x)\n",
    "    x = n\n",
    "\n",
    "print(n)"
   ]
  },
  {
   "cell_type": "markdown",
   "metadata": {},
   "source": [
    "## 4.2\n",
    "\n",
    "$$ 1+{1\\over1+{1\\over1+...}} $$"
   ]
  },
  {
   "cell_type": "markdown",
   "metadata": {},
   "source": [
    "### 4.2.1 - Iterativa"
   ]
  },
  {
   "cell_type": "code",
   "execution_count": 12,
   "metadata": {},
   "outputs": [
    {
     "name": "stdout",
     "output_type": "stream",
     "text": [
      "Digite a quantidade de termos: 15\n",
      "1.6180327868852458\n"
     ]
    }
   ],
   "source": [
    "#Validador de entrada\n",
    "Validador_Num = False\n",
    "while Validador_Num == False:\n",
    "    try:\n",
    "        termos = int(input('Digite a quantidade de termos: '))\n",
    "        if termos >= 0:\n",
    "            Validador_Num = True\n",
    "            denom = 1\n",
    "    except ValueError:\n",
    "        print('Favor digitar um número natural!')\n",
    "\n",
    "#função\n",
    "def exercicio_4_2_1(termos,denom):\n",
    "    import math\n",
    "    res = math.inf\n",
    "    while (termos > 0):\n",
    "        res = denom + 1/res\n",
    "        termos -= 1\n",
    "    return res\n",
    "print(exercicio_4_2_1(termos,denom))"
   ]
  },
  {
   "cell_type": "markdown",
   "metadata": {},
   "source": [
    "### 4.2.1 - Recursão"
   ]
  },
  {
   "cell_type": "code",
   "execution_count": 34,
   "metadata": {},
   "outputs": [
    {
     "name": "stdout",
     "output_type": "stream",
     "text": [
      "Digite a quantidade de termos: 15\n",
      "1.8363385312012968\n"
     ]
    }
   ],
   "source": [
    "#Validador de entrada\n",
    "Validador_Num = False\n",
    "while Validador_Num == False:\n",
    "    try:\n",
    "        termos = int(input('Digite a quantidade de termos: '))\n",
    "        if termos >= 0:\n",
    "            Validador_Num = True\n",
    "            denom = 1\n",
    "    except ValueError:\n",
    "        print('Favor digitar um número natural!')\n",
    "'''\n",
    "#função\n",
    "def neper_homI(termos,denom):\n",
    "    import math\n",
    "    res = math.inf\n",
    "    while (termos > 0):\n",
    "        res = denom + 1/res\n",
    "        termos -= 1\n",
    "    return res\n",
    "print(neper_homI(termos,denom))\n",
    "'''\n",
    "#Função\n",
    "def exercicio_4_2_2(termos,denom):\n",
    "    if (termos == 1):\n",
    "        res = denom\n",
    "    else:\n",
    "        res = denom + 1/neper_homR(termos-1,denom)\n",
    "    return res\n",
    "print(exercicio_4_2_2(termos,1))\n"
   ]
  },
  {
   "cell_type": "markdown",
   "metadata": {},
   "source": [
    "## 4.3\n",
    "\n",
    "$$\\sum_{k=0}^{\\infty}{1\\over k!}$$"
   ]
  },
  {
   "cell_type": "markdown",
   "metadata": {},
   "source": [
    "### 4.3.1 - Iteração"
   ]
  },
  {
   "cell_type": "code",
   "execution_count": 53,
   "metadata": {},
   "outputs": [
    {
     "name": "stdout",
     "output_type": "stream",
     "text": [
      "Digite o valor de n: 25\n",
      "o resultado é 1.7182818284590455\n"
     ]
    }
   ],
   "source": [
    "#Validador de entrada\n",
    "Validador_Num = False\n",
    "while Validador_Num == False:\n",
    "    try:\n",
    "        Num = int(input('Digite o valor de n: '))\n",
    "        if Num >= 0:\n",
    "            Validador_Num = True\n",
    "    except ValueError:\n",
    "        print('Favor digitar um número natural!')\n",
    "\n",
    "#função fatorial\n",
    "\n",
    "def exercicio_4_3_1(n):\n",
    "    if n == 0:\n",
    "        resultado = 1\n",
    "    else:\n",
    "        resultado = n * exercicio_4_3_1(n-1)\n",
    "    return resultado\n",
    "\n",
    "#Função da somatória\n",
    "def exercicio_4_3_1(Num):\n",
    "    k = 1\n",
    "    somatório = 0\n",
    "    while k < Num + 1:\n",
    "        somatório = somatório + (1/(fatorial(k)))\n",
    "        k = k + 1\n",
    "    return somatório\n",
    "print('o resultado é {}'.format(exercicio_4_3_1(Num)))"
   ]
  },
  {
   "cell_type": "markdown",
   "metadata": {},
   "source": [
    "### 4.3.2 - Recursão"
   ]
  },
  {
   "cell_type": "code",
   "execution_count": 37,
   "metadata": {},
   "outputs": [
    {
     "name": "stdout",
     "output_type": "stream",
     "text": [
      "Digite o valor de n: 15\n",
      "o resultado é 1.7182818284589947\n"
     ]
    }
   ],
   "source": [
    "Num = int(input('Digite o valor de n: '))\n",
    "\n",
    "#função fatorial\n",
    "def exercicio_4_3_2(n):\n",
    "    resultado = 1\n",
    "    while n > 0:\n",
    "        resultado = resultado * n\n",
    "        n = n - 1\n",
    "    return resultado\n",
    "\n",
    "#Função da somatória\n",
    "def exercicio_4_3_2(Num):\n",
    "    k = 1\n",
    "    somatório = 0\n",
    "    while k < Num + 1:\n",
    "        somatório = somatório + (1/(fatorial(k)))\n",
    "        k = k + 1\n",
    "    return somatório\n",
    "print('o resultado é {}'.format(exercicio_4_3_2(Num)))"
   ]
  },
  {
   "cell_type": "markdown",
   "metadata": {},
   "source": [
    "## 4.4\n",
    "\n",
    "$$\\sum_{k=0}^{\\infty}{x^k\\over k!}$$"
   ]
  },
  {
   "cell_type": "markdown",
   "metadata": {},
   "source": [
    "### 4.4.1 - Iteração"
   ]
  },
  {
   "cell_type": "code",
   "execution_count": 54,
   "metadata": {},
   "outputs": [
    {
     "name": "stdout",
     "output_type": "stream",
     "text": [
      "Digite o valor de n: 5\n",
      "Digite o valor de x: 6\n"
     ]
    },
    {
     "ename": "RecursionError",
     "evalue": "maximum recursion depth exceeded in comparison",
     "output_type": "error",
     "traceback": [
      "\u001b[1;31m---------------------------------------------------------------------------\u001b[0m",
      "\u001b[1;31mRecursionError\u001b[0m                            Traceback (most recent call last)",
      "\u001b[1;32m<ipython-input-54-35135c326189>\u001b[0m in \u001b[0;36m<module>\u001b[1;34m\u001b[0m\n\u001b[0;32m     27\u001b[0m         \u001b[0mk\u001b[0m \u001b[1;33m=\u001b[0m \u001b[0mk\u001b[0m \u001b[1;33m+\u001b[0m \u001b[1;36m1\u001b[0m\u001b[1;33m\u001b[0m\u001b[1;33m\u001b[0m\u001b[0m\n\u001b[0;32m     28\u001b[0m     \u001b[1;32mreturn\u001b[0m \u001b[0msomatório\u001b[0m\u001b[1;33m\u001b[0m\u001b[1;33m\u001b[0m\u001b[0m\n\u001b[1;32m---> 29\u001b[1;33m \u001b[0mprint\u001b[0m\u001b[1;33m(\u001b[0m\u001b[1;34m'o resultado é {}'\u001b[0m\u001b[1;33m.\u001b[0m\u001b[0mformat\u001b[0m\u001b[1;33m(\u001b[0m\u001b[0mexercicio_4_4_1\u001b[0m\u001b[1;33m(\u001b[0m\u001b[0mNum\u001b[0m\u001b[1;33m)\u001b[0m\u001b[1;33m)\u001b[0m\u001b[1;33m)\u001b[0m\u001b[1;33m\u001b[0m\u001b[1;33m\u001b[0m\u001b[0m\n\u001b[0m",
      "\u001b[1;32m<ipython-input-54-35135c326189>\u001b[0m in \u001b[0;36mexercicio_4_4_1\u001b[1;34m(Num)\u001b[0m\n\u001b[0;32m     24\u001b[0m     \u001b[0msomatório\u001b[0m \u001b[1;33m=\u001b[0m \u001b[1;36m0\u001b[0m\u001b[1;33m\u001b[0m\u001b[1;33m\u001b[0m\u001b[0m\n\u001b[0;32m     25\u001b[0m     \u001b[1;32mwhile\u001b[0m \u001b[0mk\u001b[0m \u001b[1;33m<\u001b[0m \u001b[0mNum\u001b[0m \u001b[1;33m+\u001b[0m \u001b[1;36m1\u001b[0m\u001b[1;33m:\u001b[0m\u001b[1;33m\u001b[0m\u001b[1;33m\u001b[0m\u001b[0m\n\u001b[1;32m---> 26\u001b[1;33m         \u001b[0msomatório\u001b[0m \u001b[1;33m=\u001b[0m \u001b[0msomatório\u001b[0m \u001b[1;33m+\u001b[0m \u001b[1;33m(\u001b[0m\u001b[1;33m(\u001b[0m\u001b[0mx\u001b[0m\u001b[1;33m**\u001b[0m\u001b[0mk\u001b[0m\u001b[1;33m)\u001b[0m\u001b[1;33m/\u001b[0m\u001b[1;33m(\u001b[0m\u001b[0mexercicio_4_4_1\u001b[0m\u001b[1;33m(\u001b[0m\u001b[0mk\u001b[0m\u001b[1;33m)\u001b[0m\u001b[1;33m)\u001b[0m\u001b[1;33m)\u001b[0m\u001b[1;33m\u001b[0m\u001b[1;33m\u001b[0m\u001b[0m\n\u001b[0m\u001b[0;32m     27\u001b[0m         \u001b[0mk\u001b[0m \u001b[1;33m=\u001b[0m \u001b[0mk\u001b[0m \u001b[1;33m+\u001b[0m \u001b[1;36m1\u001b[0m\u001b[1;33m\u001b[0m\u001b[1;33m\u001b[0m\u001b[0m\n\u001b[0;32m     28\u001b[0m     \u001b[1;32mreturn\u001b[0m \u001b[0msomatório\u001b[0m\u001b[1;33m\u001b[0m\u001b[1;33m\u001b[0m\u001b[0m\n",
      "... last 1 frames repeated, from the frame below ...\n",
      "\u001b[1;32m<ipython-input-54-35135c326189>\u001b[0m in \u001b[0;36mexercicio_4_4_1\u001b[1;34m(Num)\u001b[0m\n\u001b[0;32m     24\u001b[0m     \u001b[0msomatório\u001b[0m \u001b[1;33m=\u001b[0m \u001b[1;36m0\u001b[0m\u001b[1;33m\u001b[0m\u001b[1;33m\u001b[0m\u001b[0m\n\u001b[0;32m     25\u001b[0m     \u001b[1;32mwhile\u001b[0m \u001b[0mk\u001b[0m \u001b[1;33m<\u001b[0m \u001b[0mNum\u001b[0m \u001b[1;33m+\u001b[0m \u001b[1;36m1\u001b[0m\u001b[1;33m:\u001b[0m\u001b[1;33m\u001b[0m\u001b[1;33m\u001b[0m\u001b[0m\n\u001b[1;32m---> 26\u001b[1;33m         \u001b[0msomatório\u001b[0m \u001b[1;33m=\u001b[0m \u001b[0msomatório\u001b[0m \u001b[1;33m+\u001b[0m \u001b[1;33m(\u001b[0m\u001b[1;33m(\u001b[0m\u001b[0mx\u001b[0m\u001b[1;33m**\u001b[0m\u001b[0mk\u001b[0m\u001b[1;33m)\u001b[0m\u001b[1;33m/\u001b[0m\u001b[1;33m(\u001b[0m\u001b[0mexercicio_4_4_1\u001b[0m\u001b[1;33m(\u001b[0m\u001b[0mk\u001b[0m\u001b[1;33m)\u001b[0m\u001b[1;33m)\u001b[0m\u001b[1;33m)\u001b[0m\u001b[1;33m\u001b[0m\u001b[1;33m\u001b[0m\u001b[0m\n\u001b[0m\u001b[0;32m     27\u001b[0m         \u001b[0mk\u001b[0m \u001b[1;33m=\u001b[0m \u001b[0mk\u001b[0m \u001b[1;33m+\u001b[0m \u001b[1;36m1\u001b[0m\u001b[1;33m\u001b[0m\u001b[1;33m\u001b[0m\u001b[0m\n\u001b[0;32m     28\u001b[0m     \u001b[1;32mreturn\u001b[0m \u001b[0msomatório\u001b[0m\u001b[1;33m\u001b[0m\u001b[1;33m\u001b[0m\u001b[0m\n",
      "\u001b[1;31mRecursionError\u001b[0m: maximum recursion depth exceeded in comparison"
     ]
    }
   ],
   "source": [
    "#Validador de entrada\n",
    "Validador_Num = False\n",
    "while Validador_Num == False:\n",
    "    try:\n",
    "        Num = int(input('Digite o valor de n: '))\n",
    "        x = float(input('Digite o valor de x: '))\n",
    "        if Num >= 0:\n",
    "            Validador_Num = True\n",
    "            break\n",
    "    except ValueError:\n",
    "        print('Favor digitar um número natural!')\n",
    "\n",
    "#função fatorial\n",
    "def fatorial(n):\n",
    "    if n == 0:\n",
    "        resultado = 1\n",
    "    else:\n",
    "        resultado= n*fatorial(n-1)\n",
    "    return resultado\n",
    "\n",
    "#Função da somatória\n",
    "def harmonica(Num):\n",
    "    k = 0\n",
    "    somatório = 0\n",
    "    while k < Num + 1:\n",
    "        somatório = somatório + ((x**k)/(fatorial(k)))\n",
    "        k = k + 1\n",
    "    return somatório\n",
    "print('o resultado é {}'.format(harmonica(Num)))"
   ]
  },
  {
   "cell_type": "markdown",
   "metadata": {},
   "source": [
    "### 4.4.2 - Recursão"
   ]
  },
  {
   "cell_type": "code",
   "execution_count": null,
   "metadata": {},
   "outputs": [],
   "source": []
  },
  {
   "cell_type": "markdown",
   "metadata": {},
   "source": [
    "## 4.5\n",
    "\n",
    "$$p_n = \\sum_{k=0}^{n}{(-1)^k\\over k!}$$"
   ]
  },
  {
   "cell_type": "markdown",
   "metadata": {},
   "source": [
    "### Iterativa"
   ]
  },
  {
   "cell_type": "code",
   "execution_count": null,
   "metadata": {},
   "outputs": [],
   "source": [
    "#Validador de entrada\n",
    "Validador_Num = False\n",
    "while Validador_Num == False:\n",
    "    try:\n",
    "        Num = int(input('Digite o valor de n: '))\n",
    "        if Num >= 0:\n",
    "            Validador_Num = True\n",
    "    except ValueError:\n",
    "        print('Favor digitar um número natural!')\n",
    "\n",
    "#função fatorial        \n",
    "def fatorial(n):\n",
    "    resultado = 1\n",
    "    while n > 0:\n",
    "        resultado = resultado * n\n",
    "        n = n - 1\n",
    "    return resultado\n",
    "\n",
    "#Função da somatória\n",
    "def harmonica(Num):\n",
    "    k = 0\n",
    "    somatório = 0\n",
    "    while k < Num + 1:\n",
    "        somatório = somatório + (((-1)**k)/(fatorial(k)))\n",
    "        k = k + 1\n",
    "    return somatório\n",
    "print('o resultado é {}'.format(harmonica(Num)))\n"
   ]
  },
  {
   "cell_type": "markdown",
   "metadata": {},
   "source": [
    "### Recursiva"
   ]
  },
  {
   "cell_type": "code",
   "execution_count": null,
   "metadata": {},
   "outputs": [],
   "source": [
    "#Validador de entrada\n",
    "Validador_Num = False\n",
    "while Validador_Num == False:\n",
    "    try:\n",
    "        Num = int(input('Digite o valor de n: '))\n",
    "        if Num >= 0:\n",
    "            Validador_Num = True\n",
    "    except ValueError:\n",
    "        print('Favor digitar um número natural!')\n",
    "\n",
    "#função fatorial\n",
    "def fatorial(n):\n",
    "    if n == 0:\n",
    "        resultado = 1\n",
    "    else:\n",
    "        resultado= n*fatorial(n-1)\n",
    "    return resultado\n",
    "\n",
    "#Função da somatória\n",
    "def harmonica(Num):\n",
    "    k = 0\n",
    "    somatório = 0\n",
    "    while k < Num + 1:\n",
    "        somatório = somatório + (((-1)**k)/(fatorial(k)))\n",
    "        k = k + 1\n",
    "    return somatório\n",
    "print('o resultado é {}'.format(harmonica(Num)))"
   ]
  },
  {
   "cell_type": "markdown",
   "metadata": {},
   "source": [
    "## 4.6\n",
    "\n",
    "$$\\pi = 3 + {4\\over \\mbox{2x3x4}} - {4\\over \\mbox{4x5x6}} + {4\\over \\mbox{6x7x8}} - {4\\over \\mbox{8x9x10}} + ...$$"
   ]
  },
  {
   "cell_type": "markdown",
   "metadata": {},
   "source": [
    "### 4.6.1 - Iterativa"
   ]
  },
  {
   "cell_type": "code",
   "execution_count": null,
   "metadata": {
    "scrolled": true
   },
   "outputs": [],
   "source": [
    "#Validador de entrada\n",
    "Validador_Num = False\n",
    "while Validador_Num == False:\n",
    "    try:\n",
    "        Num = int(input('obs: quanto maior o valor de n, mais exato será o resultado! \\n'\n",
    "        'obs: quanto maior o n, mais demorado será a resposta, então use com moderação\\n'\n",
    "                       'Digite o valor de n: \\n'))\n",
    "        if Num >= 0:\n",
    "            Validador_Num = True\n",
    "    except ValueError:\n",
    "        print('Favor digitar um número natural!')\n",
    "\n",
    "#Função\n",
    "def harmonica(Num):\n",
    "    k = 2\n",
    "    somatório = 3\n",
    "    sinal = 1\n",
    "    while k < Num:\n",
    "        somatório = somatório + (4/((k)*(k+1)*(k+2)))*(sinal)\n",
    "        k = k + 2\n",
    "        sinal = sinal * (-1)\n",
    "    return somatório\n",
    "print('pi é aproximadamente {}'.format(harmonica(Num)))"
   ]
  },
  {
   "cell_type": "markdown",
   "metadata": {},
   "source": [
    "### 4.6.2 - Recursão"
   ]
  },
  {
   "cell_type": "markdown",
   "metadata": {},
   "source": [
    "## 4.7\n",
    "\n",
    "$$F(n) = \\left \\{ \\begin{matrix} 0, & \\mbox{n = 0} \\\\ 1, & \\mbox{n = 1} \\\\ F(n-1)+F(n-2), & \\mbox n>1 \\end{matrix} \\right.$$"
   ]
  },
  {
   "cell_type": "markdown",
   "metadata": {},
   "source": [
    "### 4.7.1 - Iteração"
   ]
  },
  {
   "cell_type": "code",
   "execution_count": 21,
   "metadata": {},
   "outputs": [
    {
     "name": "stdout",
     "output_type": "stream",
     "text": [
      "obs: Favor digitar um número positivo!\n",
      "Qual posição você deseja? 5\n",
      "3\n"
     ]
    }
   ],
   "source": [
    "#Validador de entrada\n",
    "Validador_Num = False\n",
    "while Validador_Num == False:\n",
    "    try:\n",
    "        Num = int(input('obs: Favor digitar um número positivo!\\n'\n",
    "                        'Qual posição você deseja? '))\n",
    "        if Num > 0:\n",
    "            Validador_Num = True\n",
    "    except ValueError:\n",
    "        print('Favor digitar um número positivo!')\n",
    "\n",
    "#função\n",
    "def fibonacci(Num):\n",
    "    k = Num\n",
    "    a = 0 \n",
    "    b = 1\n",
    "    if k == 1:\n",
    "        resultado = 0\n",
    "    elif k == 2:\n",
    "        resultado = 1\n",
    "    else:\n",
    "        k = k - 2\n",
    "        while k > 0:   \n",
    "            c = a + b\n",
    "            a = b \n",
    "            b = c\n",
    "            k = k - 1\n",
    "            resultado = c\n",
    "    return resultado\n",
    "print(fibonacci(Num))"
   ]
  },
  {
   "cell_type": "markdown",
   "metadata": {},
   "source": [
    "### 4.7.2 - Recursão"
   ]
  },
  {
   "cell_type": "code",
   "execution_count": 20,
   "metadata": {},
   "outputs": [
    {
     "name": "stdout",
     "output_type": "stream",
     "text": [
      "obs: Favor digitar um número natural\n",
      "Qual posição você deseja? 5\n",
      "7\n"
     ]
    }
   ],
   "source": [
    "#Validador de entrada\n",
    "Validador_Num = False\n",
    "while Validador_Num == False:\n",
    "    try:\n",
    "        Num = int(input('obs: Favor digitar um número natural\\n'\n",
    "                        'Qual posição você deseja? '))\n",
    "        if Num >= 0:\n",
    "            Validador_Num = True\n",
    "            break\n",
    "    except ValueError:\n",
    "        print('Favor digitar um número positivo!')\n",
    "\n",
    "#função\n",
    "def fibonacci(Num):\n",
    "    if Num == 0:\n",
    "        res = 0\n",
    "    elif Num == 1:\n",
    "        res = 1\n",
    "    elif Num > 1:\n",
    "        res = (Num-1) + (Num-2)\n",
    "    return res\n",
    "print(fibonacci(Num))   "
   ]
  },
  {
   "cell_type": "markdown",
   "metadata": {},
   "source": [
    "## 4.8\n",
    "\n",
    "$$ \\sqrt{3} = 1+{1\\over 1+{1\\over 2+{1\\over 1+{ 1\\over{2+...}}}}} $$"
   ]
  },
  {
   "cell_type": "markdown",
   "metadata": {},
   "source": [
    "ta errado"
   ]
  },
  {
   "cell_type": "code",
   "execution_count": null,
   "metadata": {},
   "outputs": [],
   "source": [
    "#Validador de entrada\n",
    "Validador_Num = False\n",
    "while Validador_Num == False:\n",
    "    try:\n",
    "        termos = int(input('Digite a quantidade de termos: '))\n",
    "        if termos >= 0:\n",
    "            Validador_Num = True\n",
    "            denom = 2\n",
    "    except ValueError:\n",
    "        print('Favor digitar um número natural!')\n",
    "\n",
    "#Função\n",
    "def função(termos,denom):\n",
    "    import math\n",
    "    contador = 0\n",
    "    res = math.inf\n",
    "    resultado = 0\n",
    "    while (termos > 0):\n",
    "        res = denom + 1/res\n",
    "        termos = termos-1\n",
    "        contador = contador + 1\n",
    "        if contador % 2 == 0:\n",
    "            denom = denom + 1\n",
    "        else:\n",
    "            denom = denom - 1\n",
    "        if 1 < res < 2:\n",
    "            resultado = res\n",
    "    res = res - 1\n",
    "    return resultado\n",
    "print(função(termos,denom))"
   ]
  },
  {
   "cell_type": "markdown",
   "metadata": {},
   "source": [
    "## 4.9\n",
    "\n",
    "$$\\sqrt{2} = 1 + {1\\over 2+{1\\over 2+{1\\over 2+{1\\over 2+{1\\over 2+...}}}}}$$"
   ]
  },
  {
   "cell_type": "markdown",
   "metadata": {},
   "source": [
    "### 4.9.1 - Iterativa"
   ]
  },
  {
   "cell_type": "code",
   "execution_count": null,
   "metadata": {},
   "outputs": [],
   "source": [
    "#Validador de entrada\n",
    "Validador_Num = False\n",
    "while Validador_Num == False:\n",
    "    try:\n",
    "        termos = int(input('Digite a quantidade de termos: '))\n",
    "        if termos >= 0:\n",
    "            Validador_Num = True\n",
    "            denom = 2\n",
    "    except ValueError:\n",
    "        print('Favor digitar um número natural!')\n",
    "\n",
    "#Função\n",
    "def função(termos,denom):\n",
    "    import math\n",
    "    res = math.inf\n",
    "    while (termos > 0):\n",
    "        res = denom + 1/res\n",
    "        termos = termos-1\n",
    "    res = res - 1\n",
    "    return res\n",
    "print(função(termos,denom))"
   ]
  },
  {
   "cell_type": "markdown",
   "metadata": {},
   "source": [
    "## 4.10\n",
    "\n",
    "$$5,4321 = 5+{1\\over 2+{1\\over 3+{1\\over 5+{1\\over 2 + {1\\over 127}}}}}$$"
   ]
  },
  {
   "cell_type": "markdown",
   "metadata": {},
   "source": []
  },
  {
   "cell_type": "code",
   "execution_count": null,
   "metadata": {},
   "outputs": [],
   "source": []
  },
  {
   "cell_type": "markdown",
   "metadata": {},
   "source": [
    "## 4.11\n",
    "\n",
    "$${tan(x)} = {1\\over {1\\over x} - {1\\over {3\\over x} - {1\\over {5\\over x} - ...}}}$$"
   ]
  },
  {
   "cell_type": "markdown",
   "metadata": {},
   "source": []
  },
  {
   "cell_type": "code",
   "execution_count": null,
   "metadata": {},
   "outputs": [],
   "source": []
  },
  {
   "cell_type": "markdown",
   "metadata": {},
   "source": [
    "## 4.12\n",
    "\n",
    "$$e = 2+{2\\over 2+{3\\over 3+{4\\over 4+{5\\over 5+...}}}} $$"
   ]
  },
  {
   "cell_type": "markdown",
   "metadata": {},
   "source": []
  },
  {
   "cell_type": "markdown",
   "metadata": {},
   "source": []
  },
  {
   "cell_type": "code",
   "execution_count": 51,
   "metadata": {},
   "outputs": [
    {
     "name": "stdout",
     "output_type": "stream",
     "text": [
      "Digite a quantidade de termos: 2\n",
      "3.5\n"
     ]
    }
   ],
   "source": [
    "#Validador de entrada\n",
    "Validador_Num = False\n",
    "while Validador_Num == False:\n",
    "    try:\n",
    "        termos = int(input('Digite a quantidade de termos: '))\n",
    "        if termos >= 0:\n",
    "            Validador_Num = True\n",
    "            denom = 2\n",
    "    except ValueError:\n",
    "        print('Favor digitar um número natural!')\n",
    "\n",
    "#função\n",
    "def exercicio_4_2_1(termos,denom):\n",
    "    import math\n",
    "    res = math.inf\n",
    "    while (termos > 0):\n",
    "        res = denom + (denom+1)/res\n",
    "        termos -= 1\n",
    "    return res\n",
    "print(exercicio_4_2_1(termos,denom))"
   ]
  },
  {
   "cell_type": "code",
   "execution_count": null,
   "metadata": {},
   "outputs": [],
   "source": []
  }
 ],
 "metadata": {
  "kernelspec": {
   "display_name": "Python 3",
   "language": "python",
   "name": "python3"
  },
  "language_info": {
   "codemirror_mode": {
    "name": "ipython",
    "version": 3
   },
   "file_extension": ".py",
   "mimetype": "text/x-python",
   "name": "python",
   "nbconvert_exporter": "python",
   "pygments_lexer": "ipython3",
   "version": "3.7.1"
  }
 },
 "nbformat": 4,
 "nbformat_minor": 2
}
