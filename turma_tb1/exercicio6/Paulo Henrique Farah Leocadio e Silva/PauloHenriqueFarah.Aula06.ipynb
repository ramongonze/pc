{
 "cells": [
  {
   "cell_type": "markdown",
   "metadata": {
    "scrolled": true
   },
   "source": [
    "## EXERCÍCIO 1"
   ]
  },
  {
   "cell_type": "code",
   "execution_count": 13,
   "metadata": {
    "scrolled": true
   },
   "outputs": [],
   "source": [
    "def exercicio1_1(n,i):\n",
    "    if i<=n:\n",
    "        resultado = i*exercicio1_1(n,i+1)\n",
    "    else:\n",
    "        resultado = 1\n",
    "    return resultado\n",
    "\n",
    "\n",
    "def exercicio1_2(p,h):#Aqui temos um cálculo de fatorial iterativamente\n",
    "    if h <0:\n",
    "        res = 0 \n",
    "    elif h==0:\n",
    "        res = 1\n",
    "    else:\n",
    "        res = 1\n",
    "        while True:\n",
    "            res = res*p\n",
    "            p=p+1\n",
    "            if h<p:\n",
    "                break\n",
    "        return res"
   ]
  },
  {
   "cell_type": "markdown",
   "metadata": {
    "scrolled": true
   },
   "source": [
    "## EXERCÍCIO 2"
   ]
  },
  {
   "cell_type": "markdown",
   "metadata": {},
   "source": [
    "    def exercicio_2(n): ---> O primeiro passo é definir a função.\n",
    "       resultado = 0  -----> Começar com um resultado incial, que neste caso será 0.\n",
    "       sinal = -1 ------> Como quero calcular a harmônica alternada, tenho de acrescentar que o sinal inicial seria de '-1'.\n",
    "       while n > 0:------> Iterativamnete, pode se calcular o somatório da série harmônica alternada.\n",
    "            resultado =( 1/n)*sinal + resultado -----> O resultado será este, levando em consideração que agora temos a existência de um sinal que influenciará no somatório.\n",
    "            n = n - 1 -----> Utilizamos isto para ir diminuindo o 'n'.\n",
    "            sinal = (-1)*sinal ------> Consideremos o sinal que irá variar a cada iteração.\n",
    "       return resultado -----> 'return' para retornar o resultado que se quer obter.\n",
    "    exercicio_2(3)"
   ]
  },
  {
   "cell_type": "code",
   "execution_count": 12,
   "metadata": {
    "scrolled": true
   },
   "outputs": [
    {
     "data": {
      "text/plain": [
       "-0.8333333333333333"
      ]
     },
     "execution_count": 12,
     "metadata": {},
     "output_type": "execute_result"
    }
   ],
   "source": [
    "def exercicio2(n):\n",
    "    resultado = 0\n",
    "    sinal = -1\n",
    "    while n > 0:\n",
    "        resultado =( 1/n)*sinal + resultado\n",
    "        n = n - 1\n",
    "        sinal = (-1)*sinal\n",
    "    return resultado\n",
    "exercicio2(3)\n"
   ]
  },
  {
   "cell_type": "markdown",
   "metadata": {},
   "source": [
    "## EXERCÍCIO 3"
   ]
  },
  {
   "cell_type": "markdown",
   "metadata": {},
   "source": [
    "       def neper_homogeneo(termos,denom)\n",
    "      if (termos == 1)\n",
    "             res= denom \n",
    "      else:\n",
    "            res= denom +1/neper_homogeneo(termos-1,denom+4)\n",
    "    def neper(termos):\n",
    "      if(termos == 1 ):\n",
    "        e = 1\n",
    "      elif (termos == 2 ):\n",
    "        e= 1+ 2/1\n",
    "      else: #termos >=3\n",
    "        e = 1 + 2/(1+1/neper_homogeneo(termos-2,6)\n",
    "\n",
    "    \n",
    "      Aqui, o objetivo é calcular,à mão e recursivamente, os 4 primeiros números da parte homogênea(exceto os dois primerios que não são calculados pela parte homogênea) do número de Euler('e'). O  termo a ser calculado pela parte homogênea seria o sexto de um modo geral. Assim, quero 'def neper_homogeneo(4,denom)' e será dado por:\n",
    "      if (termos == 1)\n",
    "             res= denom \n",
    "      else:\n",
    "            res= 6 +1/neper_homogeneo(4-1,6+4) ESTA PARTE É IGUAL A ( 6 + 1/10)\n",
    "      if (termos == 1)\n",
    "             res= denom \n",
    "      else:\n",
    "            res= 10 +1/neper_homogeneo(3-1,10+4) ESTA PARTE, JUNTA DA OUTRA, É IGUAL A ( 6+1/(10+1/14))\n",
    "      if (termos == 1)\n",
    "             res= denom \n",
    "      else:\n",
    "            res= 14 +1/neper_homogeneo(2-1,14+4) ESTA PARTE, JUNTA DAS DEMAIS, É IGUAL A ( 6+1/(10+1/(14+ 1/18)))\n",
    "            E COMO CHEGUEI A NÚMERO DE TERMOS == 1, O PROGRAMA ENCONTROU SUA PARADA E TERÍAMOS:\n",
    "\n",
    "      if (termos == 1)\n",
    "             res= 18 ---> EXECUTARIA ESTA PARTE.\n",
    "      else:\n",
    "            res= 18 +1/neper_homogeneo(1-1,18+4)\n",
    "\n",
    "\n"
   ]
  },
  {
   "cell_type": "markdown",
   "metadata": {},
   "source": [
    "    def neper_homI(termos,denom):\n",
    "       import math\n",
    "       res = math.inf\n",
    "       denom = 6 + (termos-1)*4\n",
    "     while (termos > 0):\n",
    "        res = denom + 1/res\n",
    "        termos = termos-1\n",
    "        denom = denom-4\n",
    "     return res\n",
    "\n",
    "\n",
    "       Aqui o objetivo é calcular,à mão e iterativamente, os 4 primeiros números da parte homogênea(exceto os dois primerios que não são calculados pela parte homogênea) do número de Euler('e'). Assim, quero 'def neper_homI(4,denom)' e será dado por:\n",
    "       while (termos > 0):\n",
    "        res = 6 + 1/res\n",
    "        termos = 4-1\n",
    "        denom = 6+4\n",
    "    return res --------> esta parte retornará 6 + 1/10\n",
    "       while (termos > 0):\n",
    "        res = 10 + 1/res\n",
    "        termos = 3-1\n",
    "        denom = 10+4\n",
    "    return res --------> esta parte, junta a outra, retornará 6 + 1/(10+ 1/14)\n",
    "       while (termos > 0):\n",
    "        res = 14 + 1/res\n",
    "        termos = 2-1\n",
    "        denom = 14+4\n",
    "    return res ---------> Agora, teremos 6 + 1/(10+ 1/(14 + 1/18))\n",
    "        while (termos > 0):\n",
    "        res = denom + 1/res\n",
    "        termos = 0\n",
    "        denom = denom+4\n",
    "    return res -------> 6 + 1/(10+ 1/(14 + 1/18))\n",
    "\n"
   ]
  },
  {
   "cell_type": "markdown",
   "metadata": {},
   "source": [
    "## EXERCÍCIO 4"
   ]
  },
  {
   "cell_type": "code",
   "execution_count": 10,
   "metadata": {
    "scrolled": true
   },
   "outputs": [
    {
     "data": {
      "text/plain": [
       "1.5980531824786175"
      ]
     },
     "execution_count": 10,
     "metadata": {},
     "output_type": "execute_result"
    }
   ],
   "source": [
    "def exercicio4_1_1(n):\n",
    "    if (n==1):\n",
    "        res = n**0.5\n",
    "    if n>=2:\n",
    "        res=(1 + exercicio_4_1(n-1))**0.5\n",
    "    return res\n",
    "exercicio_4_1(4)\n"
   ]
  },
  {
   "cell_type": "code",
   "execution_count": null,
   "metadata": {
    "scrolled": false
   },
   "outputs": [],
   "source": [
    "def exercicio4_1_2(n):\n",
    "    resultado = 1\n",
    "    while n > 1:\n",
    "        resultado = (1 + (resultado))**0.5\n",
    "        n= n-1\n",
    "    return resultado\n",
    "exercicio_4_2(3)"
   ]
  }
 ],
 "metadata": {
  "kernelspec": {
   "display_name": "Python 3",
   "language": "python",
   "name": "python3"
  },
  "language_info": {
   "codemirror_mode": {
    "name": "ipython",
    "version": 3
   },
   "file_extension": ".py",
   "mimetype": "text/x-python",
   "name": "python",
   "nbconvert_exporter": "python",
   "pygments_lexer": "ipython3",
   "version": "3.7.1"
  }
 },
 "nbformat": 4,
 "nbformat_minor": 2
}
