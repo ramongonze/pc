{
 "cells": [
  {
   "cell_type": "markdown",
   "metadata": {},
   "source": [
    "## Exercício 1"
   ]
  },
  {
   "cell_type": "code",
   "execution_count": 1,
   "metadata": {},
   "outputs": [],
   "source": [
    "def exercicio_1_1(p,n):\n",
    "#Essa função calcula fatorial recursivamente\n",
    "    if p<=n:\n",
    "        resultado=p*exercicio_1_1(p+1,n)\n",
    "    else:\n",
    "        resultado=1\n",
    "    if n<0:\n",
    "        return 'Número não admitido para essa função' \n",
    "    return resultado\n",
    "\n",
    "#n=int(input('Digite um valor do qual deseja calcular o fatorial: '))\n",
    "#print(exercicio_1_1(1,n))\n",
    "\n",
    "def exercicio_1_2(p,n):\n",
    "#Essa função calcula fatorial iterativamente\n",
    "    if n < 0:\n",
    "        resultado=0\n",
    "    elif n==0:\n",
    "        resultado=1\n",
    "    else:\n",
    "        resultado=1\n",
    "        while True:\n",
    "            resultado=resultado*p\n",
    "            p=p+1\n",
    "            if n<p:\n",
    "                break\n",
    "    return resultado\n",
    "#n = int(input(\"Entre com n: \"))\n",
    "#print(\"O fatorial de %d é %d\" %(n,exercicio_1_2(1,n)))"
   ]
  },
  {
   "cell_type": "markdown",
   "metadata": {},
   "source": [
    "## Exercício 2"
   ]
  },
  {
   "cell_type": "markdown",
   "metadata": {},
   "source": [
    "Atribui resultado inicial como 0, faz a soma do termo n reduzindo 1 em 1 até n==1, pois 0 no denominador não é definido.\n",
    "Adiciona uma outra variável 's' para representar o sinal, insere-se o sinal do primeiro termo, e multiplica por (-1) a cada\n",
    "operação."
   ]
  },
  {
   "cell_type": "code",
   "execution_count": 9,
   "metadata": {},
   "outputs": [
    {
     "name": "stdout",
     "output_type": "stream",
     "text": [
      "Entre com n: 5\n",
      "Entre com o 1 ou -1 para o sinal do primeiro termo: -1\n",
      "A soma até o termo da posição 5 é -0.783333\n"
     ]
    }
   ],
   "source": [
    "def exercicio_2(s,n):\n",
    "#Essa função calcula o somatório da série alternada\n",
    "    resultado = 0\n",
    "    while n>0:\n",
    "        resultado=1/n*s + resultado\n",
    "        n=n-1\n",
    "        s=s*(-1)\n",
    "    return resultado\n",
    "\n",
    "#n= int(input(\"Entre com n: \"))\n",
    "#s= int(input('Entre com o 1 ou -1 para o sinal do primeiro termo: '))\n",
    "#print(\"A soma até o termo da posição %d é %f\" %(n,exercicio_2(s,n)))"
   ]
  },
  {
   "cell_type": "markdown",
   "metadata": {},
   "source": [
    "## Exercício 3"
   ]
  },
  {
   "cell_type": "markdown",
   "metadata": {},
   "source": [
    "### Recursivo"
   ]
  },
  {
   "cell_type": "markdown",
   "metadata": {},
   "source": [
    "No programa recursivo, deve-se entrar com número de termos igual a 6, para que haja 4 termos na função homogênea.\n",
    "Sendo assim, o programa leria que termos >= 3 e daria e como, 1+2/(1+1/\"chama a função neper_homogêneo(termos-1,denom+4\"), até que termos seja igual a 1, que é o comando de parada.\n",
    "\n",
    "Isto é a parte fixa: e=1+2/(1+/ ... com as chamadas da parte homogênea: ...  6+1/ (10+1/ (14+1/ 18))\n",
    "Sendo assim, e = 2.718281828735696"
   ]
  },
  {
   "cell_type": "markdown",
   "metadata": {},
   "source": [
    "### Iterativo"
   ]
  },
  {
   "cell_type": "markdown",
   "metadata": {},
   "source": [
    "O programa iterativo faz o caminho contrário, ele começa a soma a partir do último termo. Para que os 4 termos da parte homogênea sejam calculados, é necessário que o número de termos seja igual a 6, asim como no exercício anterior. Então calculamos a parte homogênea. O cálculo vai continuar até que ele sai do while, o que acontece quando termos = 0. O resultado inicialmente é infinito e o denominador recebe 6+(termos-1)*4\n",
    "\n",
    "Isto é a parte fixa: e=1+2/(1+/ ... acrescido do resultado da parte homogênea, que é contade de trás para frente, logo:\n",
    "Parte homogênea:\n",
    "\n",
    "res= 6+(4-1)*4  + 1/infinito = 18\n",
    "termos= 4-1=3\n",
    "denom=18-4=14\n",
    ".\n",
    ".\n",
    ".\n",
    "res= 14 + 1/18\n",
    "termos=3-1=2\n",
    "denom=14-4=10\n",
    ".\n",
    ".\n",
    ".\n",
    "res= 10 + 1/ (14+1/18)\n",
    "termos=2-1=1\n",
    "denom=10-4=6\n",
    ".\n",
    ".\n",
    ".\n",
    "res= 6 + 1/(10+1/(14+1/18))\n",
    "termos=1-1=0\n",
    "denom=6-4=2\n",
    "\n",
    "Termos agora é igual a zero, o que me leva para fora do while e retorna res = 6 + 1/(10+1/(14+1/18))\n",
    "Então e= 1+2/(1+/ 6 + 1/(10+1/(14+1/18)))\n"
   ]
  },
  {
   "cell_type": "code",
   "execution_count": 60,
   "metadata": {},
   "outputs": [
    {
     "ename": "NameError",
     "evalue": "name 'denom' is not defined",
     "output_type": "error",
     "traceback": [
      "\u001b[1;31m---------------------------------------------------------------------------\u001b[0m",
      "\u001b[1;31mNameError\u001b[0m                                 Traceback (most recent call last)",
      "\u001b[1;32m<ipython-input-60-65c6155c3a89>\u001b[0m in \u001b[0;36m<module>\u001b[1;34m\u001b[0m\n\u001b[0;32m     17\u001b[0m         \u001b[0mdenom\u001b[0m \u001b[1;33m=\u001b[0m \u001b[0mdenom\u001b[0m \u001b[1;33m-\u001b[0m \u001b[1;36m4\u001b[0m\u001b[1;33m\u001b[0m\u001b[1;33m\u001b[0m\u001b[0m\n\u001b[0;32m     18\u001b[0m     \u001b[1;32mreturn\u001b[0m \u001b[0mres\u001b[0m\u001b[1;33m\u001b[0m\u001b[1;33m\u001b[0m\u001b[0m\n\u001b[1;32m---> 19\u001b[1;33m \u001b[0mprint\u001b[0m \u001b[1;33m(\u001b[0m\u001b[0mneper\u001b[0m\u001b[1;33m(\u001b[0m\u001b[1;36m6\u001b[0m\u001b[1;33m)\u001b[0m\u001b[1;33m)\u001b[0m\u001b[1;33m\u001b[0m\u001b[1;33m\u001b[0m\u001b[0m\n\u001b[0m",
      "\u001b[1;32m<ipython-input-60-65c6155c3a89>\u001b[0m in \u001b[0;36mneper\u001b[1;34m(termos)\u001b[0m\n\u001b[0;32m      5\u001b[0m         \u001b[0me\u001b[0m \u001b[1;33m=\u001b[0m \u001b[1;36m1\u001b[0m\u001b[1;33m+\u001b[0m\u001b[1;36m2\u001b[0m\u001b[1;33m/\u001b[0m\u001b[1;36m1\u001b[0m\u001b[1;33m\u001b[0m\u001b[1;33m\u001b[0m\u001b[0m\n\u001b[0;32m      6\u001b[0m     \u001b[1;32melse\u001b[0m\u001b[1;33m:\u001b[0m \u001b[1;31m# termos >= 3\u001b[0m\u001b[1;33m\u001b[0m\u001b[1;33m\u001b[0m\u001b[0m\n\u001b[1;32m----> 7\u001b[1;33m         \u001b[0me\u001b[0m \u001b[1;33m=\u001b[0m \u001b[1;36m1\u001b[0m\u001b[1;33m+\u001b[0m\u001b[1;36m2\u001b[0m\u001b[1;33m/\u001b[0m\u001b[1;33m(\u001b[0m\u001b[1;36m1\u001b[0m \u001b[1;33m+\u001b[0m \u001b[1;36m1\u001b[0m\u001b[1;33m/\u001b[0m\u001b[0mneper_homI\u001b[0m\u001b[1;33m(\u001b[0m\u001b[1;36m4\u001b[0m\u001b[1;33m,\u001b[0m\u001b[0mdenom\u001b[0m\u001b[1;33m)\u001b[0m\u001b[1;33m)\u001b[0m\u001b[1;33m\u001b[0m\u001b[1;33m\u001b[0m\u001b[0m\n\u001b[0m\u001b[0;32m      8\u001b[0m     \u001b[1;32mreturn\u001b[0m \u001b[0me\u001b[0m\u001b[1;33m\u001b[0m\u001b[1;33m\u001b[0m\u001b[0m\n\u001b[0;32m      9\u001b[0m \u001b[1;33m\u001b[0m\u001b[0m\n",
      "\u001b[1;31mNameError\u001b[0m: name 'denom' is not defined"
     ]
    }
   ],
   "source": [
    "def neper(termos):\n",
    "    if (termos == 1):\n",
    "        e = 1\n",
    "    elif (termos == 2):\n",
    "        e = 1+2/1\n",
    "    else: # termos >= 3\n",
    "        e = 1+2/(1 + 1/neper_homI(4,denom))\n",
    "    return e\n",
    "\n",
    "def neper_homI(termos,denom):\n",
    "    import math\n",
    "    res = math.inf\n",
    "    denom = 6+(termos-1)*4\n",
    "    while (termos > 0):\n",
    "        res = denom + 1/res\n",
    "        termos = termos - 1\n",
    "        denom = denom - 4\n",
    "    return res\n",
    "print (neper(6))"
   ]
  },
  {
   "cell_type": "code",
   "execution_count": null,
   "metadata": {},
   "outputs": [],
   "source": []
  }
 ],
 "metadata": {
  "kernelspec": {
   "display_name": "Python 3",
   "language": "python",
   "name": "python3"
  },
  "language_info": {
   "codemirror_mode": {
    "name": "ipython",
    "version": 3
   },
   "file_extension": ".py",
   "mimetype": "text/x-python",
   "name": "python",
   "nbconvert_exporter": "python",
   "pygments_lexer": "ipython3",
   "version": "3.7.1"
  }
 },
 "nbformat": 4,
 "nbformat_minor": 2
}
