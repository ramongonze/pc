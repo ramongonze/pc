{
 "cells": [
  {
   "cell_type": "markdown",
   "metadata": {},
   "source": [
    "## Exercício 1"
   ]
  },
  {
   "cell_type": "code",
   "execution_count": 15,
   "metadata": {},
   "outputs": [
    {
     "name": "stdout",
     "output_type": "stream",
     "text": [
      "8092\n"
     ]
    }
   ],
   "source": [
    "m= '2018092132'\n",
    "print(m[3:7])"
   ]
  },
  {
   "cell_type": "markdown",
   "metadata": {},
   "source": [
    "O fatiamento vai pegar o intervalo [3;7) das posições do string."
   ]
  },
  {
   "cell_type": "code",
   "execution_count": 3,
   "metadata": {},
   "outputs": [
    {
     "name": "stdout",
     "output_type": "stream",
     "text": [
      "180921\n"
     ]
    }
   ],
   "source": [
    "m= '2018092132'\n",
    "print(m[2:-2])"
   ]
  },
  {
   "cell_type": "markdown",
   "metadata": {},
   "source": [
    "O fatiamento vai pegar o intervalo [2;-2) das posições do string, pois o - conta as posições de trás para frente."
   ]
  },
  {
   "cell_type": "code",
   "execution_count": 4,
   "metadata": {},
   "outputs": [
    {
     "name": "stdout",
     "output_type": "stream",
     "text": [
      "921\n"
     ]
    }
   ],
   "source": [
    "m= '2018092132'\n",
    "print(m[-5:-2])"
   ]
  },
  {
   "cell_type": "markdown",
   "metadata": {},
   "source": [
    "O fatiamento vai pegar o intervalo [-5;-2) das posições do string, pois o - conta as posições de trás para frente."
   ]
  },
  {
   "cell_type": "code",
   "execution_count": 11,
   "metadata": {},
   "outputs": [
    {
     "name": "stdout",
     "output_type": "stream",
     "text": [
      "92\n"
     ]
    }
   ],
   "source": [
    "m= '2018092132'\n",
    "print(m[-5:7])"
   ]
  },
  {
   "cell_type": "markdown",
   "metadata": {},
   "source": [
    "O fatiamento vai pegar o intervalo [-5;7) das posições do string, pois o - conta as posições de trás para frente."
   ]
  },
  {
   "cell_type": "code",
   "execution_count": 19,
   "metadata": {},
   "outputs": [
    {
     "name": "stdout",
     "output_type": "stream",
     "text": [
      "018092132\n"
     ]
    }
   ],
   "source": [
    "m= '2018092132'\n",
    "print(m[-9:])"
   ]
  },
  {
   "cell_type": "markdown",
   "metadata": {},
   "source": [
    "O fatiamento vai pegar o intervalo [-9;10) das posições do string, pois o - conta as posições de trás para frente, e o vazio indica que é até o fim/desde o começo."
   ]
  },
  {
   "cell_type": "code",
   "execution_count": 4,
   "metadata": {},
   "outputs": [
    {
     "name": "stdout",
     "output_type": "stream",
     "text": [
      "201809\n"
     ]
    }
   ],
   "source": [
    "m= '2018092132'\n",
    "print(m[:6])"
   ]
  },
  {
   "cell_type": "markdown",
   "metadata": {},
   "source": [
    "O fatiamento vai pegar o intervalo [0;6) das posições do string, o vazio indica que é até o fim/desde o começo."
   ]
  },
  {
   "cell_type": "code",
   "execution_count": 5,
   "metadata": {},
   "outputs": [
    {
     "name": "stdout",
     "output_type": "stream",
     "text": [
      "2018092132\n"
     ]
    }
   ],
   "source": [
    "m= '2018092132'\n",
    "print(m[0:])"
   ]
  },
  {
   "cell_type": "markdown",
   "metadata": {},
   "source": [
    "O fatiamento vai pegar o intervalo [0;10) das posições do string, o vazio indica que é até o fim/desde o começo."
   ]
  },
  {
   "cell_type": "code",
   "execution_count": 9,
   "metadata": {},
   "outputs": [
    {
     "name": "stdout",
     "output_type": "stream",
     "text": [
      "201809\n"
     ]
    }
   ],
   "source": [
    "m= '2018092132'\n",
    "print(m[:-4])"
   ]
  },
  {
   "cell_type": "markdown",
   "metadata": {},
   "source": [
    "O fatiamento vai pegar o intervalo [0;-4) das posições do string, pois o - conta as posições de trás para frente, e o vazio indica que é até o fim/desde o começo."
   ]
  },
  {
   "cell_type": "code",
   "execution_count": 22,
   "metadata": {},
   "outputs": [
    {
     "name": "stdout",
     "output_type": "stream",
     "text": [
      "21980\n"
     ]
    }
   ],
   "source": [
    "m= '2018092132'\n",
    "print(m[::-2])"
   ]
  },
  {
   "cell_type": "markdown",
   "metadata": {},
   "source": [
    "O fatiamento vai pegar o intervalo [0;10), porém o - indica para contar de trás para frente e os ::2 indica o salto de duas casas."
   ]
  },
  {
   "cell_type": "code",
   "execution_count": 24,
   "metadata": {},
   "outputs": [
    {
     "name": "stdout",
     "output_type": "stream",
     "text": [
      "203\n"
     ]
    }
   ],
   "source": [
    "m= '2018092132'\n",
    "print(m[::4])"
   ]
  },
  {
   "cell_type": "markdown",
   "metadata": {},
   "source": [
    "O fatiamento vai pegar o intervalo [0;10), porém os ::4 indica o salto de quatro casas."
   ]
  },
  {
   "cell_type": "markdown",
   "metadata": {},
   "source": [
    "## Exercício 2"
   ]
  },
  {
   "cell_type": "code",
   "execution_count": 5,
   "metadata": {},
   "outputs": [
    {
     "name": "stdout",
     "output_type": "stream",
     "text": [
      "H\n"
     ]
    }
   ],
   "source": [
    "s='ABCDEFGHI'\n",
    "print(s[-2:-1])"
   ]
  },
  {
   "cell_type": "code",
   "execution_count": 13,
   "metadata": {},
   "outputs": [
    {
     "name": "stdout",
     "output_type": "stream",
     "text": [
      "H\n"
     ]
    }
   ],
   "source": [
    "s='ABCDEFGHI'\n",
    "print(s[-2:-3:-1])"
   ]
  },
  {
   "cell_type": "markdown",
   "metadata": {},
   "source": [
    "## Exercício 3"
   ]
  },
  {
   "cell_type": "code",
   "execution_count": 10,
   "metadata": {},
   "outputs": [
    {
     "name": "stdout",
     "output_type": "stream",
     "text": [
      "Insira o string: Ana\n",
      "O string é o mesmo de trás para frente\n"
     ]
    }
   ],
   "source": [
    "S=str(input('Insira o string: '))\n",
    "S1=S.lower().replace(\" \",\"\")\n",
    "\n",
    "if S1==S1[::-1]:\n",
    "    print('O string é o mesmo de trás para frente')\n",
    "if S1!=S1[::-1]:\n",
    "    print('O string não é o mesmo de trás para frente')"
   ]
  },
  {
   "cell_type": "markdown",
   "metadata": {},
   "source": [
    "## Exercício 4"
   ]
  },
  {
   "cell_type": "code",
   "execution_count": null,
   "metadata": {},
   "outputs": [],
   "source": [
    "\n",
    "h1=str(input('Insira a primeira hora: '))\n",
    "h2=str(input('Insira a segunda hora: '))\n",
    "\n",
    "h=int(h1[-5:-3])\n",
    "s1=int(h*3600)\n",
    "m1=int(h*60)\n",
    "m=int(h1[-2:])\n",
    "s2=int(m*60)\n",
    "\n",
    "hh=int(h2[-5:-3])\n",
    "ss1=int(hh*3600)\n",
    "mm1=int(hh*60)\n",
    "mm=int(h2[-2:])\n",
    "ss2=int(mm*60)\n",
    "\n",
    "ds=abs(int((s1+s2)-(ss1+ss2)))\n",
    "dm=abs(int((m1+m)-(mm1+mm)))\n",
    "a=int(dm/60)\n",
    "b=int(dm%60)\n",
    "print('A diferença de horas é %02d:%02d' %(a,b))\n",
    "print('A diferença em minutos é %d' %dm)\n",
    "print('A diferença em segundos é %d' %ds)"
   ]
  },
  {
   "cell_type": "markdown",
   "metadata": {},
   "source": [
    "## Exercício 5"
   ]
  },
  {
   "cell_type": "code",
   "execution_count": 6,
   "metadata": {},
   "outputs": [
    {
     "name": "stdout",
     "output_type": "stream",
     "text": [
      "Insira a diagonal x: 20\n",
      "Insira a diagonal y: 30\n",
      "Insira a diagonal z: 23\n",
      "A diagonal principal mede 42.77\n",
      "A diagonal 1 mede 36.06\n",
      "A diagonal 2 mede 37.80\n",
      "A diagonal 3 mede 30.48\n"
     ]
    }
   ],
   "source": [
    "a=float(input('Insira a diagonal x: '))\n",
    "b=float(input('Insira a diagonal y: '))\n",
    "c=float(input('Insira a diagonal z: '))\n",
    "\n",
    "L1=(a**2+b**2)**(1/2)\n",
    "L2=(b**2+c**2)**(1/2)\n",
    "L3=(a**2+c**2)**(1/2)\n",
    "D=(L1**2+c**2)**(1/2)\n",
    "\n",
    "print('A diagonal principal mede %.2f' %D)\n",
    "print('A diagonal 1 mede %.2f' %L1)\n",
    "print('A diagonal 2 mede %.2f' %L2)\n",
    "print('A diagonal 3 mede %.2f' %L3)"
   ]
  },
  {
   "cell_type": "code",
   "execution_count": null,
   "metadata": {},
   "outputs": [],
   "source": []
  }
 ],
 "metadata": {
  "kernelspec": {
   "display_name": "Python 3",
   "language": "python",
   "name": "python3"
  },
  "language_info": {
   "codemirror_mode": {
    "name": "ipython",
    "version": 3
   },
   "file_extension": ".py",
   "mimetype": "text/x-python",
   "name": "python",
   "nbconvert_exporter": "python",
   "pygments_lexer": "ipython3",
   "version": "3.7.1"
  }
 },
 "nbformat": 4,
 "nbformat_minor": 2
}
