{
 "cells": [
  {
   "cell_type": "markdown",
   "metadata": {},
   "source": [
    "# Aula 5 - Exercícios"
   ]
  },
  {
   "cell_type": "markdown",
   "metadata": {},
   "source": [
    "# Questão 1"
   ]
  },
  {
   "cell_type": "code",
   "execution_count": 1,
   "metadata": {},
   "outputs": [
    {
     "name": "stdout",
     "output_type": "stream",
     "text": [
      "FAELRO\n"
     ]
    }
   ],
   "source": [
    "s = \"RAFAELROSSE\"\n",
    "print(s[2:8])"
   ]
  },
  {
   "cell_type": "markdown",
   "metadata": {},
   "source": [
    " Nesse exemplo, fatiamos o string utilizando números positivos. O intervalo recortado é fechado para o primeiro número, nesse caso \"2\" e aberto para o segundo \"8\". Levando em conta que a contagem inicia-se no 0, pelo primeiro número, imprimiu-se então do terceiro algarismo da sequência (0, 1, 2) até o oitavo (0, 1, 2, 3, 4, 5, 6, 7)."
   ]
  },
  {
   "cell_type": "code",
   "execution_count": 2,
   "metadata": {},
   "outputs": [
    {
     "name": "stdout",
     "output_type": "stream",
     "text": [
      "AFAEL\n"
     ]
    }
   ],
   "source": [
    "s = \"RAFAELROSSE\"\n",
    "print(s[1:-5])"
   ]
  },
  {
   "cell_type": "markdown",
   "metadata": {},
   "source": [
    " No caso acima, o segundo número que indica o intervalo a ser fatiado é negativo. Consideramos novamente o intervalo fechado para o primeiro número e aberto para o segundo. Com o valor negativo, começa-se a contar, do último algarismo ao primeiro, na ordem \"-1, -2, -3, -4...\". A primeira letra recortada então é a de número \"1\" (0, 1) e última é a letra anterior à de valor \"-5\" (-1, -2, -3, -4, -5, -6)."
   ]
  },
  {
   "cell_type": "code",
   "execution_count": 4,
   "metadata": {},
   "outputs": [
    {
     "name": "stdout",
     "output_type": "stream",
     "text": [
      "FAELROSSE\n"
     ]
    }
   ],
   "source": [
    "s = \"RAFAELROSSE\"\n",
    "print(s[-9:11])"
   ]
  },
  {
   "cell_type": "markdown",
   "metadata": {},
   "source": [
    " Utilizamos o primeiro número do intervalo como negativo, ou seja, conta-se de trás pra frente (-1, -2, -3, -4, -5, -6, -7, -8, -9), e, como é fechado para o primeiro número, recorta-se o de posição \"-9\". O segundo número, em intervalo aberto, é positivo, recortando normalmente até o décimo primeiro algarismo (0, 1, 2, 3, 4, 5, 6, 7, 8, 9, 10)."
   ]
  },
  {
   "cell_type": "code",
   "execution_count": 6,
   "metadata": {},
   "outputs": [
    {
     "name": "stdout",
     "output_type": "stream",
     "text": [
      "ELRO\n"
     ]
    }
   ],
   "source": [
    "s = \"RAFAELROSSE\"\n",
    "print(s[-7:-3])"
   ]
  },
  {
   "cell_type": "markdown",
   "metadata": {},
   "source": [
    " Os dois números representativos do intervalo são negativos, diferenciando apenas pelo primeiro ser em intervalo fechado e o segundo em intervalo aberto. Pega-se o primeiro algarismo, de posição \"-7\" (-1, -2, -3, -4, -5, -6, -7), e o último algarismo, de posição anterior ao \"-3\" (-1, -2, -3, -4)."
   ]
  },
  {
   "cell_type": "code",
   "execution_count": 7,
   "metadata": {},
   "outputs": [
    {
     "name": "stdout",
     "output_type": "stream",
     "text": [
      "RAFAELRO\n"
     ]
    }
   ],
   "source": [
    "s = \"RAFAELROSSE\"\n",
    "print(s[:8])"
   ]
  },
  {
   "cell_type": "markdown",
   "metadata": {},
   "source": [
    " Quando o primeiro número do intervalo não é representado, significa que o ínicio do fatiamento será o início do string, de forma que, nesse caso, inicia-se então do \"0\" e termina no \"7\" (0, 1, 2, 3, 4, 5, 6, 7)."
   ]
  },
  {
   "cell_type": "code",
   "execution_count": 8,
   "metadata": {},
   "outputs": [
    {
     "name": "stdout",
     "output_type": "stream",
     "text": [
      "LROSSE\n"
     ]
    }
   ],
   "source": [
    "s = \"RAFAELROSSE\"\n",
    "print(s[-6:])"
   ]
  },
  {
   "cell_type": "markdown",
   "metadata": {},
   "source": [
    " Quando o segundo número do intervalo não é representado, significa que o final do fatiamento será o final do string. No caso acima, o intervalo inicia fechado no \"-6\" (-1, -2, -3, -4, -5, -6) e termina na última letra do string."
   ]
  },
  {
   "cell_type": "code",
   "execution_count": 11,
   "metadata": {},
   "outputs": [
    {
     "name": "stdout",
     "output_type": "stream",
     "text": [
      "RAGLT\n"
     ]
    }
   ],
   "source": [
    "s = \"RAFAELGOULART\"\n",
    "print(s[::3])"
   ]
  },
  {
   "cell_type": "markdown",
   "metadata": {},
   "source": [
    "No exemplo acima, utilizamos \"saltos\" para fatiar o string. Representado dessa forma, o programa entende que queremos \"saltar\" o número de posições indicadas por último no intervalo, \"3\" nesse exemplo. Com essa representação, sendo o número final positivo, sempre se inicia do começo do string, demarcando os \"saltos\" pelo valor do algarismo. Pega-se o primeiro (0), conta-se 3 (4, 5, 6), sendo o terceiro selecionado, depois novamente mais 3 (7, 8, 9), seleciona-se o terceiro, e assim por diante."
   ]
  },
  {
   "cell_type": "code",
   "execution_count": 12,
   "metadata": {},
   "outputs": [
    {
     "name": "stdout",
     "output_type": "stream",
     "text": [
      "TUER\n"
     ]
    }
   ],
   "source": [
    "s = \"RAFAELGOULART\"\n",
    "print(s[::-4])"
   ]
  },
  {
   "cell_type": "markdown",
   "metadata": {},
   "source": [
    " Nesse caso, o número representativo no intervalo ainda representa o tamanho do \"salto\", mas o fato de ser negativo indica que a sequência a ser selecionada começa na última letra do string e \"corre\" de trás para frente. Assim, o programa imprimiu, pelo exemplo acima, a última letra (-1), \"saltou\" 4 posições (-2, -3, -4, -5), selecionou a letra, \"saltou\" mais 4 posições (-6, -7, -8, -9), selecionou a letra, e assim por diante."
   ]
  },
  {
   "cell_type": "code",
   "execution_count": 13,
   "metadata": {},
   "outputs": [
    {
     "name": "stdout",
     "output_type": "stream",
     "text": [
      "R\n"
     ]
    }
   ],
   "source": [
    "s = \"RAFAELGOULART\"\n",
    "print(s[::13])"
   ]
  },
  {
   "cell_type": "markdown",
   "metadata": {},
   "source": [
    " Nesse exemplo, como o valor do \"salto\" é maior do que o tamanho do string, apenas a primeira letra é imprimida. Como se começa a contar do \"0\" as letras do string, \"RAFAELGOULART\" termina em \"12\", não possuindo um décimo terceiro valor."
   ]
  },
  {
   "cell_type": "code",
   "execution_count": 14,
   "metadata": {},
   "outputs": [
    {
     "name": "stdout",
     "output_type": "stream",
     "text": [
      "G\n"
     ]
    }
   ],
   "source": [
    "s = \"RAFAELGOULART\"\n",
    "print(s[6:-6])"
   ]
  },
  {
   "cell_type": "markdown",
   "metadata": {},
   "source": [
    "O intervalo determinado acima coincidiu a posição do primeiro e último valor indicado. A sexta letra é \"G\", começando a contagem do \"0\", no início, e a letra de posição \"-7\", uma anterior ao \"-6\", começando a contagem do final, também é o \"G\"."
   ]
  },
  {
   "cell_type": "markdown",
   "metadata": {},
   "source": [
    "# Questão 2"
   ]
  },
  {
   "cell_type": "code",
   "execution_count": 36,
   "metadata": {},
   "outputs": [
    {
     "name": "stdout",
     "output_type": "stream",
     "text": [
      "H\n"
     ]
    }
   ],
   "source": [
    "s = \"ABCDEFGHI\"\n",
    "print(s[-2:6:-1])"
   ]
  },
  {
   "cell_type": "markdown",
   "metadata": {},
   "source": [
    "# Questão 3"
   ]
  },
  {
   "cell_type": "code",
   "execution_count": 25,
   "metadata": {},
   "outputs": [
    {
     "name": "stdout",
     "output_type": "stream",
     "text": [
      "Digite um string: ogaloeolago\n",
      "O string é um palíndromo\n"
     ]
    }
   ],
   "source": [
    "a = input(\"Digite um string: \")\n",
    "if a[::1] == a[::-1]:\n",
    "    print(\"O string é um palíndromo\")\n",
    "if a[::1] != a[::-1]:\n",
    "    print(\"O string NÃO é um palíndromo\")"
   ]
  },
  {
   "cell_type": "markdown",
   "metadata": {},
   "source": [
    "# Questão 4"
   ]
  },
  {
   "cell_type": "code",
   "execution_count": 2,
   "metadata": {},
   "outputs": [
    {
     "name": "stdout",
     "output_type": "stream",
     "text": [
      "Digite uma hora: erewr\n",
      "Digite outra hora: 23423\n",
      "Erro! Digite uma hora válida!\n",
      "Digite uma hora: f\n",
      "Digite outra hora: er\n",
      "Erro! Digite uma hora válida!\n",
      "Digite uma hora: 34\n",
      "Digite outra hora: 23\n",
      "Erro! Digite uma hora válida!\n",
      "Digite uma hora: 10:50\n",
      "Digite outra hora: 13:48\n",
      "A diferença entre horários é de: 2:58 em horas e minutos, 178 em minutos, 10680 em segundos\n"
     ]
    }
   ],
   "source": [
    "while True:\n",
    "    try:\n",
    "        a = str(input(\"Digite uma hora: \"))\n",
    "        b = str(input(\"Digite outra hora: \"))\n",
    "\n",
    "        c = int(a[:2]) * 60\n",
    "        d = int(b[:2]) * 60\n",
    "        minutos1 = int(a[3:5]) + c \n",
    "        minutos2 = int(b[3:5]) + d\n",
    "        segundos1 = minutos1 * 60\n",
    "        segundos2 = minutos2 * 60\n",
    "        break\n",
    "    except ValueError:\n",
    "        print(\"Erro! Digite uma hora válida!\")\n",
    "        \n",
    "if minutos1 > minutos2:\n",
    "    diferença_minutos = minutos1 - minutos2\n",
    "    diferença_segundos = segundos1 - segundos2\n",
    "    hora1 = diferença_minutos // 60\n",
    "    minutos_hora1 = (diferença_minutos / 60) - hora1\n",
    "    minora1 = minutos_hora1 * 60\n",
    "    print(\"A diferença entre horários é de: %d:%d em horas e minutos, %d em minutos, %d em segundos\" % (hora1,minora1,diferença_minutos,diferença_segundos))\n",
    "if minutos2 > minutos1:\n",
    "    diferença_minutos = minutos2 - minutos1\n",
    "    diferença_segundos = segundos2 - segundos1\n",
    "    hora2 = diferença_minutos // 60\n",
    "    minutos_hora2 = (diferença_minutos / 60) - hora2\n",
    "    minora2 = minutos_hora2 * 60\n",
    "    print(\"A diferença entre horários é de: %d:%d em horas e minutos, %d em minutos, %d em segundos\" % (hora2,minora2,diferença_minutos,diferença_segundos))"
   ]
  },
  {
   "cell_type": "markdown",
   "metadata": {},
   "source": [
    "# Questão 5"
   ]
  },
  {
   "cell_type": "code",
   "execution_count": 16,
   "metadata": {},
   "outputs": [
    {
     "name": "stdout",
     "output_type": "stream",
     "text": [
      "Digite o comprimento do paralelepípedo: rwe\n",
      "Erro! Digite um valor númerico!\n",
      "Digite o comprimento do paralelepípedo: 90\n",
      "Digite a largura do paralelepípedo: 4\n",
      "Digite a altura do paralelepípedo: sdr\n",
      "Erro! Digite um valor númerico!\n",
      "Digite o comprimento do paralelepípedo: 12\n",
      "Digite a largura do paralelepípedo: 7\n",
      "Digite a altura do paralelepípedo: 24\n",
      "27.73 é o valor da diagonal principal do paralelepípedo\n",
      "13.89 é o valor da diagonal da face comprimento x largura do paralelepípedo\n",
      "25.00 é o valor da diagonal da face largura x altura do paralelepípedo\n",
      "26.83 é o valor da diagonal da face comprimento x altura do paralelepípedo\n"
     ]
    }
   ],
   "source": [
    "while True:\n",
    "    try:\n",
    "        a = float(input(\"Digite o comprimento do paralelepípedo: \"))\n",
    "        b = float(input(\"Digite a largura do paralelepípedo: \"))\n",
    "        c = float(input(\"Digite a altura do paralelepípedo: \"))\n",
    "        L1 = (a * a + b * b) ** 0.5\n",
    "        L2 = (b * b + c * c) ** 0.5\n",
    "        L3 = (a * a + c * c) ** 0.5\n",
    "        D = (L1 * L1 + c * c) ** 0.5\n",
    "        break  \n",
    "    except ValueError:\n",
    "        print(\"Erro! Digite um valor númerico!\")\n",
    "if a > 0 and b > 0 and c > 0:\n",
    "    print(\"%.2f é o valor da diagonal principal do paralelepípedo\" % D)\n",
    "    print(\"%.2f é o valor da diagonal da face comprimento x largura do paralelepípedo\" % L1)\n",
    "    print(\"%.2f é o valor da diagonal da face largura x altura do paralelepípedo\" % L2)\n",
    "    print(\"%.2f é o valor da diagonal da face comprimento x altura do paralelepípedo\" % L3)\n",
    "else:\n",
    "    print(\"Erro! Digite valores numéricos positivos!\")"
   ]
  }
 ],
 "metadata": {
  "kernelspec": {
   "display_name": "Python 3",
   "language": "python",
   "name": "python3"
  },
  "language_info": {
   "codemirror_mode": {
    "name": "ipython",
    "version": 3
   },
   "file_extension": ".py",
   "mimetype": "text/x-python",
   "name": "python",
   "nbconvert_exporter": "python",
   "pygments_lexer": "ipython3",
   "version": "3.6.8"
  }
 },
 "nbformat": 4,
 "nbformat_minor": 2
}
