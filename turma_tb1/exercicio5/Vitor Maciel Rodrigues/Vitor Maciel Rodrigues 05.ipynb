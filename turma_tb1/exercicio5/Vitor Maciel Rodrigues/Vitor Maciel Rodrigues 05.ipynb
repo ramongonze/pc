{
 "cells": [
  {
   "cell_type": "code",
   "execution_count": 1,
   "metadata": {},
   "outputs": [
    {
     "name": "stdout",
     "output_type": "stream",
     "text": [
      "Vi\n",
      "Vitor\n",
      "Maciel\n",
      "Rodrigues\n",
      "r\n",
      "Rodrigues\n",
      "MacielRodrigues\n",
      "Vitor\n",
      "VitorMaciel\n",
      "acielRodr\n",
      "VMli\n",
      "Vi\n",
      "Vl\n",
      "Vi\n",
      "icds\n",
      "V\n"
     ]
    }
   ],
   "source": [
    "#Exercicio 1\n",
    "s = \"VitorMacielRodrigues\"\n",
    "print(s[0:2])\n",
    "print(s[0:5])\n",
    "print(s[5:11])\n",
    "print(s[11:20])\n",
    "print(s[4:5])\n",
    "print(s[-9:])\n",
    "print(s[-15:])\n",
    "print(s[:5])\n",
    "print(s[:-9])\n",
    "print(s[6:-5])\n",
    "print(s[::5])\n",
    "print(s[::15])\n",
    "print(s[::10])\n",
    "print(s[:2:])\n",
    "print(s[1::6])\n",
    "print(s[:11:20])"
   ]
  },
  {
   "cell_type": "code",
   "execution_count": 3,
   "metadata": {},
   "outputs": [
    {
     "name": "stdout",
     "output_type": "stream",
     "text": [
      "H\n"
     ]
    }
   ],
   "source": [
    "#Exercicio 2\n",
    "s = \"ABCDEFGHI\"\n",
    "print(s[7:6:-1])"
   ]
  },
  {
   "cell_type": "code",
   "execution_count": 5,
   "metadata": {},
   "outputs": [
    {
     "name": "stdout",
     "output_type": "stream",
     "text": [
      "ovo\n",
      "b = 1\n",
      "c = 1\n",
      "ovo\n"
     ]
    }
   ],
   "source": [
    "#Exercicio 3\n",
    "a = \"ovo\"\n",
    "print(a)\n",
    "b = input(\"b = \")\n",
    "c = input(\"c = \")\n",
    "if b == c:\n",
    "    print(a[0:3])\n",
    "if b != c:\n",
    "    print(a[-3:])"
   ]
  },
  {
   "cell_type": "code",
   "execution_count": 19,
   "metadata": {},
   "outputs": [
    {
     "name": "stdout",
     "output_type": "stream",
     "text": [
      "Coloque o primeiro horário com as horas e os minutos: 12:30\n",
      "Coloque o segundo horário com as horas e os minutos: 12:00\n",
      "12\n",
      "12\n",
      "30\n",
      "0\n",
      "0\n",
      "30\n",
      "1800\n"
     ]
    }
   ],
   "source": [
    "#Exercicio 4\n",
    "a = input(\"Coloque o primeiro horário com as horas e os minutos: \")\n",
    "b = input(\"Coloque o segundo horário com as horas e os minutos: \")\n",
    "h1 = int(a[:-3])\n",
    "h2 = int(b[:-3])\n",
    "m1 = int(a[-2:])\n",
    "m2 = int(b[-2:])\n",
    "print(h1)\n",
    "print(h2)\n",
    "print(m1)\n",
    "print(m2)\n",
    "p = h1-h2\n",
    "print(p)\n",
    "q = m1-m2\n",
    "print (q)\n",
    "r = q*60\n",
    "print(r)"
   ]
  },
  {
   "cell_type": "code",
   "execution_count": null,
   "metadata": {},
   "outputs": [],
   "source": []
  }
 ],
 "metadata": {
  "kernelspec": {
   "display_name": "Python 3",
   "language": "python",
   "name": "python3"
  },
  "language_info": {
   "codemirror_mode": {
    "name": "ipython",
    "version": 3
   },
   "file_extension": ".py",
   "mimetype": "text/x-python",
   "name": "python",
   "nbconvert_exporter": "python",
   "pygments_lexer": "ipython3",
   "version": "3.7.1"
  }
 },
 "nbformat": 4,
 "nbformat_minor": 2
}
