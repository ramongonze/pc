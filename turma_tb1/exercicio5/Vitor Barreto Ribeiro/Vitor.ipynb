{
 "cells": [
  {
   "cell_type": "markdown",
   "metadata": {},
   "source": [
    "Exercício 3"
   ]
  },
  {
   "cell_type": "code",
   "execution_count": 4,
   "metadata": {},
   "outputs": [
    {
     "name": "stdout",
     "output_type": "stream",
     "text": [
      "Qual a sequencia? 852365\n",
      "A sequencia 563258 não é igual quando invertida! \n"
     ]
    }
   ],
   "source": [
    "string = str(input(\"Qual a sequencia? \"))\n",
    "Contstring = (string[::-1])\n",
    "if Contstring == string:\n",
    "    print(\"A sequencia %s permanece igual quando invertida! \" % Contstring)\n",
    "else:\n",
    "    print(\"A sequencia %s não é igual quando invertida! \" % Contstring)\n"
   ]
  },
  {
   "cell_type": "markdown",
   "metadata": {},
   "source": [
    "Exercício 4"
   ]
  },
  {
   "cell_type": "code",
   "execution_count": 8,
   "metadata": {},
   "outputs": [
    {
     "name": "stdout",
     "output_type": "stream",
     "text": [
      "Qual o horário 1? 13:46\n",
      "Qual o horário 2? 04:29\n",
      "9.283333333333333\n",
      "557\n",
      "33420\n"
     ]
    }
   ],
   "source": [
    "hora1 = str(input(\"Qual o horário 1? \"))\n",
    "hora2 = str(input(\"Qual o horário 2? \")) \n",
    "#Sempre no formato HH:MM\n",
    "HoraH1 = int(hora1[:2])\n",
    "HoraH2 = int(hora2[:2])\n",
    "min1 = int(hora1[3:])\n",
    "min2 = int(hora2[3:])\n",
    "\n",
    "dif_horas = HoraH1 - HoraH2\n",
    "dif_min = min1 - min2\n",
    "\n",
    "TotalH = dif_horas + (dif_min/60)\n",
    "TotalM = (dif_horas *60) + dif_min\n",
    "TotalS = TotalM * 60\n",
    "print(TotalH)\n",
    "print(TotalM)\n",
    "print(TotalS)"
   ]
  },
  {
   "cell_type": "markdown",
   "metadata": {},
   "source": [
    "Exercício 5"
   ]
  },
  {
   "cell_type": "code",
   "execution_count": 6,
   "metadata": {},
   "outputs": [
    {
     "name": "stdout",
     "output_type": "stream",
     "text": [
      "Qual o tamanho do lado a? 2\n",
      "Qual o tamanho do lado b? 3\n",
      "Qual o tamanho do lado c? 4\n",
      "A diagonal A é 3.606 \n",
      "A diagonal B é 5.000 \n",
      "A diagonal C é 4.472 \n",
      "A diagonal principal é 5.385\n"
     ]
    }
   ],
   "source": [
    "a = float(input(\"Qual o tamanho do lado a? \"))\n",
    "b = float(input(\"Qual o tamanho do lado b? \"))\n",
    "c = float(input(\"Qual o tamanho do lado c? \"))\n",
    "\n",
    "diagA = ((a**2)+(b**2))**0.5\n",
    "diagB = ((b**2)+(c**2))**0.5\n",
    "diagC = ((a**2)+(c**2))**0.5\n",
    "print(\"A diagonal A é %.3f \" % diagA)\n",
    "print(\"A diagonal B é %.3f \" % diagB)\n",
    "print(\"A diagonal C é %.3f \" % diagC)\n",
    "\n",
    "diagP = ((diagA**2)+(c**2))**0.5\n",
    "print(\"A diagonal principal é %.3f\" % diagP)"
   ]
  }
 ],
 "metadata": {
  "kernelspec": {
   "display_name": "Python 3",
   "language": "python",
   "name": "python3"
  }
 },
 "nbformat": 4,
 "nbformat_minor": 2
}
