{
 "cells": [
  {
   "cell_type": "code",
   "execution_count": 68,
   "metadata": {},
   "outputs": [
    {
     "data": {
      "text/plain": [
       "'na'"
      ]
     },
     "execution_count": 68,
     "metadata": {},
     "output_type": "execute_result"
    }
   ],
   "source": [
    "# 1\n",
    "s = \"uma\"\n",
    "s[0:3]\n",
    "# Com esse comando eu vou exibir a palavra normalmente, uma vez que o 0 no ínicio e o 3 ao final indicam que\n",
    "# 0 (u), 1 (m) e 2 (a) serão exibidos.\n",
    "\n",
    "ss = \"arara\"\n",
    "ss[::-1]\n",
    "# Com esse fatiamento é possível dar saltos entre as letras.\n",
    "# Como o valor selecionado foi -1, ele não irá saltar pois irá saltando de 1 a 1 remetendo a uma escrita comum.\n",
    "# Por estar negativo ele irá apenas inverter a palavras e como ela é igual quando invertida, será escrita da mesma forma.\n",
    "\n",
    "sss = \"eucurtoprog\"\n",
    "sss[0:7]\n",
    "# Com esse fatiamento, podemos escolher até onde na palavra queremos exibir. Quando coloco o 0 no ínicio e o 7 no final,\n",
    "# indico que as letras começaram a serem exibidas do 0 (primeiro valor) até o 6 (sétimo valor).\n",
    "\n",
    "ssss = \"eunaocurtoprog\"\n",
    "ssss[5:14]\n",
    "# Selecionei as letras ao meio da palavra que me interessavam começando no 5 (sexto valor) e terminando no 14 (décimo terceiro valor)\n",
    "\n",
    "sssss = \"elefante\"\n",
    "sssss[-1:]\n",
    "# queria apenas a última letra e para isso a peguei através da contagem inversa.\n",
    "# Em um caso onde fossem muitas letras, ajudaria muito apenas indicar que o necessário é a última letra.\n",
    "\n",
    "ssssss = \"residencia\"\n",
    "ssssss[:-2]\n",
    "# Nesse caso, ele vai até a antepenúltima letra apenas, pois como o python interpreta o comando como sendo\n",
    "# em 'lingugem matemática' [x,y), ele para no c\n",
    "\n",
    "sssssss = \"alto\"\n",
    "sssssss[1:-1]\n",
    "# também é possível ir dos números positivos para os negativos e vice versa\n",
    "\n",
    "ssssssss = \"garagem\"\n",
    "ssssssss[0:-4]\n",
    "# mesma explicação acima\n",
    "\n",
    "sssssssss = \"carruagem\"\n",
    "sssssssss[::-2]\n",
    "# saltando algumas letras\n",
    "\n",
    "ssssssssss = \"na\"\n",
    "ssssssssss[0:2]\n",
    "# mesma explicação da primeira"
   ]
  },
  {
   "cell_type": "code",
   "execution_count": 10,
   "metadata": {},
   "outputs": [
    {
     "name": "stdout",
     "output_type": "stream",
     "text": [
      "H\n"
     ]
    }
   ],
   "source": [
    "# 2\n",
    "s = \"ABCDEFGHI\"\n",
    "print(s[7:6:-1])"
   ]
  },
  {
   "cell_type": "code",
   "execution_count": 51,
   "metadata": {},
   "outputs": [
    {
     "name": "stdout",
     "output_type": "stream",
     "text": [
      "Digite uma string: ogaloeolago\n",
      "A palavra ao contrário é igual a escrita linear! ogaloeolago = ogaloeolago\n"
     ]
    }
   ],
   "source": [
    "# 3\n",
    "string1 = input(\"Digite uma string: \")\n",
    "if string1 == string1[::-1]:\n",
    "    print(\"A palavra ao contrário é igual a escrita linear! %s = %s\" % (string1,string1[::-1]))\n",
    "else:\n",
    "        print(\"A palavra não é igual ao contrário :(\")"
   ]
  },
  {
   "cell_type": "code",
   "execution_count": 46,
   "metadata": {},
   "outputs": [
    {
     "name": "stdout",
     "output_type": "stream",
     "text": [
      "Digite horário: 12:07\n",
      "Digite o segundo horário: 13:00\n",
      "A subtração em horas é: -1:7\n",
      "A subtração em minutos é: -53\n",
      "A subtração em segundos é: -3180\n"
     ]
    }
   ],
   "source": [
    "# 4.1\n",
    "horario = input(\"Digite horário: \")\n",
    "horario2 = input(\"Digite o segundo horário: \")\n",
    "horas = 0\n",
    "horas2 = 0\n",
    "minutos = 0\n",
    "minutos2 = 0\n",
    "horasminutos = 0\n",
    "horasminutos2 = 0\n",
    "horas_min_seg = 0\n",
    "horas_min_seg2 = 0\n",
    "resultadohora1 = 0\n",
    "resultadohora2 = 0\n",
    "resultadomin = 0\n",
    "resultadoseg = 0\n",
    "if len(horario) == 5 and len(horario2) == 5:\n",
    "    horas = int(horario[0:2])\n",
    "    minutos = int(horario[3:5])\n",
    "    horasminutos = minutos + horas * 60\n",
    "    horas_min_seg = horasminutos * 60\n",
    "    \n",
    "    horas2 = int(horario2[0:2])\n",
    "    minutos2 = int(horario2[3:5])\n",
    "    horasminutos2 = minutos2 + horas2 * 60\n",
    "    horas_min_seg2 = horasminutos2 * 60\n",
    "    resultadohora1 = horas - horas2\n",
    "    resultadohora2 = minutos - minutos2\n",
    "    resultadomin = horasminutos - horasminutos2\n",
    "    resultadoseg = horas_min_seg - horas_min_seg2\n",
    "\n",
    "    print(\"A subtração em horas é: %d:%d\" %(resultadohora1,resultadohora2))\n",
    "    print(\"A subtração em minutos é: %d\" % resultadomin)\n",
    "    print(\"A subtração em segundos é: %d\" % resultadoseg)\n",
    "    \n",
    "else:\n",
    "    print(\"Digite um números válidos no seguinte formato: 00:00\")"
   ]
  },
  {
   "cell_type": "code",
   "execution_count": 50,
   "metadata": {},
   "outputs": [
    {
     "name": "stdout",
     "output_type": "stream",
     "text": [
      "Digite a largura: 3\n",
      "Digite a profundidade: 4\n",
      "Digite a altura: 5\n",
      "O valor de L1 é: 5\n",
      "O valor de L2 é: 6\n",
      "O valor de L3 é: 5\n",
      "O valor de d é: 7\n"
     ]
    }
   ],
   "source": [
    "# 4.2\n",
    "\n",
    "a = int(input(\"Digite a largura: \"))\n",
    "b = int(input(\"Digite a profundidade: \"))\n",
    "c = int(input(\"Digite a altura: \"))\n",
    "\n",
    "if a > 0 and b > 0 and c > 0:\n",
    "    l1 = a**2 + b**2\n",
    "    l1 = l1**0.5\n",
    "    l2 = b**2 + c**2\n",
    "    l2 = l2**0.5\n",
    "    l3 = a**2 + c**2\n",
    "    l3 = l3**0.5\n",
    "    d = l1**2 + c**2\n",
    "    d = d**0.5\n",
    "    print(\"O valor de L1 é: %d\" % l1)\n",
    "    print(\"O valor de L2 é: %d\" % l2)\n",
    "    print(\"O valor de L3 é: %d\" % l3)\n",
    "    print(\"O valor de d é: %d\" % d)\n",
    "else:\n",
    "    print(\"Digite um valor válido!\")"
   ]
  },
  {
   "cell_type": "code",
   "execution_count": null,
   "metadata": {},
   "outputs": [],
   "source": [
    "##### "
   ]
  },
  {
   "cell_type": "code",
   "execution_count": null,
   "metadata": {},
   "outputs": [],
   "source": []
  },
  {
   "cell_type": "code",
   "execution_count": null,
   "metadata": {},
   "outputs": [],
   "source": []
  }
 ],
 "metadata": {
  "kernelspec": {
   "display_name": "Python 3",
   "language": "python",
   "name": "python3"
  },
  "language_info": {
   "codemirror_mode": {
    "name": "ipython",
    "version": 3
   },
   "file_extension": ".py",
   "mimetype": "text/x-python",
   "name": "python",
   "nbconvert_exporter": "python",
   "pygments_lexer": "ipython3",
   "version": "3.7.1"
  }
 },
 "nbformat": 4,
 "nbformat_minor": 2
}
