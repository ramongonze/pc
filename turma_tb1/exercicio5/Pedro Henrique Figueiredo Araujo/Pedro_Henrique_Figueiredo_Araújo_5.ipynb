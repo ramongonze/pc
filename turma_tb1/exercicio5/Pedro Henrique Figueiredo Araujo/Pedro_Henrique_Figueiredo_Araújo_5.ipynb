{
 "cells": [
  {
   "cell_type": "code",
   "execution_count": 2,
   "metadata": {},
   "outputs": [
    {
     "name": "stdout",
     "output_type": "stream",
     "text": [
      "Exercícios Programação de Computadores 2019/01\n",
      "Aluno: Pedro Henrique Figueiredo Araujo\n",
      "Matrícula: 2017051920\n",
      "Atividade: 05\n"
     ]
    }
   ],
   "source": [
    "print (\"Exercícios Programação de Computadores 2019/01\")\n",
    "print (\"Aluno: Pedro Henrique Figueiredo Araujo\")\n",
    "print (\"Matrícula: 2017051920\")\n",
    "print (\"Atividade: 05\")"
   ]
  },
  {
   "cell_type": "code",
   "execution_count": 3,
   "metadata": {},
   "outputs": [
    {
     "name": "stdout",
     "output_type": "stream",
     "text": [
      "Exercício 1\n",
      "\n",
      "20\n",
      "0\n",
      "0170\n",
      "0519\n",
      "201\n",
      "2017\n",
      "0291507102\n",
      "02\n",
      "\n",
      "0\n"
     ]
    }
   ],
   "source": [
    "print(\"Exercício 1\")\n",
    "print(\"\")\n",
    "s = \"2017051920\"\n",
    "print (s[0:2]) #printa os numeros que estão na primeira casa (memória 0) até a segunda casa (memória 1), ou seja,\n",
    "               # as duas primeiras casas, vulgarmente printa o conjunto [x,y) da memória.\n",
    "\n",
    "print (s[1:2]) #printa o numero que está na segunda casa (memória 1),vulgarmente printa o conjunto [x,y) da memória.\n",
    "\n",
    "print (s[1:-5])#printa os numeros que estão na primeira casa (memória 0) até a casa 4, devido o :-5 que contabiliza as casas\n",
    "               # da memória no sentido contrário e subtrae da seguencia também.\n",
    "    \n",
    "print (s[4:-2])#printa os numeros que estão na quinta casa (memória 4) até a casa 6 (memória 5), devido o :-2 que contabiliza as casas\n",
    "               # da memória no sentido contrário e subtrae da seguencia também.\n",
    "\n",
    "print (s[:-7]) #printa os numeros que estão nas tres primeiras casas, e para devido o :-7, que retira as sete memórias no sentido contrário.\n",
    "\n",
    "print (s[:4])  #printa os valores da memória 0 até a memória 4.\n",
    "\n",
    "print (s[::-1])#printa o inverso da string, ou seja, o caractere na última mémoria vai para a primeria, o penúltimo para a segunda...\n",
    "\n",
    "print (s[::-9])#printa a string em sequencia invertida, sem os 8 primeiros algarismos devido a inversão e ao :-9, que retira os 8 algarismos das memórias 0 a 8. \n",
    "\n",
    "print (s[5:-5])#printa o algarismo da memória 5, menos os algarismos das ultimas 5 memórias, portanto não printa nada.\n",
    "\n",
    "print (s[4:-5])#printa o algarismo da memória 4 (0), menos os algarismos das ultimas 5 memórias. "
   ]
  },
  {
   "cell_type": "code",
   "execution_count": 4,
   "metadata": {},
   "outputs": [
    {
     "name": "stdout",
     "output_type": "stream",
     "text": [
      "Exercício 2\n",
      "\n",
      "H\n",
      "H\n"
     ]
    }
   ],
   "source": [
    "print(\"Exercício 2\")\n",
    "print(\"\")\n",
    "s = \"ABCDEFGHI\"\n",
    "print (s[-2:-1]) #fatiamento do exercício\n",
    "#logo, precisamos encontrar valores de x e y onde s[x:y:-1] seja igual a s[-2:-1]\n",
    "#portanto x = -2 e y = 6, pois a sequencia vai se inverter e mostrar somente o caractére que está na memória -1 (8 na sequencia original)\n",
    "print (s[-2:6:-1])"
   ]
  },
  {
   "cell_type": "code",
   "execution_count": null,
   "metadata": {},
   "outputs": [
    {
     "name": "stdout",
     "output_type": "stream",
     "text": [
      "Exercício 3\n",
      "\n"
     ]
    }
   ],
   "source": [
    "print(\"Exercício 3\")\n",
    "print(\"\")\n",
    "L = input(\"Digite aqui a sequência: \")\n",
    "                                                         # exemplo s = \"1234321\" ou \"ogaloeolago\"\n",
    "T = L[::-1]\n",
    "if L == T:\n",
    "    print(\"A sequêcia %s permanece idêntica caso invertida!\" % T)\n",
    "else:\n",
    "    print(\"A sequência não é igual caso invertida!\", (L[::-1])) "
   ]
  },
  {
   "cell_type": "code",
   "execution_count": 1,
   "metadata": {
    "scrolled": true
   },
   "outputs": [
    {
     "name": "stdout",
     "output_type": "stream",
     "text": [
      "Exercício 4\n",
      "\n",
      "Qual o primeiro horário? 15:46\n",
      "Qual o segundo horário? 12:11\n",
      "A diferença entre o primeiro horário e o segundo é de -3 horas e -35 minutos\n",
      "ou seja\n",
      "3.5833333333333335 Horas\n",
      "215 Minutos\n",
      "12900 Segundos\n"
     ]
    }
   ],
   "source": [
    "print(\"Exercício 4\")\n",
    "print(\"\")\n",
    "Horário1 = (input(\"Qual o primeiro horário? \"))  #no formato HH:MM\n",
    "Horário2 = (input(\"Qual o segundo horário? \"))\n",
    "Hora1 = int(Horário1 [:2])\n",
    "Hora2 = int(Horário2 [:2])    #Divisão dos valores de minutos e segundos\n",
    "Min1 = int(Horário1 [3:])\n",
    "Min2 = int(Horário2 [3:])\n",
    "#print (Hora1)\n",
    "#print (Hora2)\n",
    "#print (Min1) #Para visualização e organização do código\n",
    "#print (Min2)\n",
    "Diferença_das_Horas = Hora1 - Hora2\n",
    "Diferença_dos_Minutos = Min1 - Min2\n",
    "print(\"A diferença entre o primeiro horário e o segundo é de\", - Diferença_das_Horas,\"horas e\",- Diferença_dos_Minutos, \"minutos\")\n",
    "print(\"ou seja\")\n",
    "Total_Horas = Diferença_das_Horas + (Diferença_dos_Minutos/60)\n",
    "Total_Minutos = Diferença_dos_Minutos + (Diferença_das_Horas*60)\n",
    "Total_Seg = Total_Minutos*60\n",
    "print(Total_Horas, \"Horas\")\n",
    "print(Total_Minutos, \"Minutos\")\n",
    "print(Total_Seg, \"Segundos\")\n"
   ]
  },
  {
   "cell_type": "code",
   "execution_count": null,
   "metadata": {
    "scrolled": true
   },
   "outputs": [
    {
     "name": "stdout",
     "output_type": "stream",
     "text": [
      "Exercício 5\n",
      "\n"
     ]
    }
   ],
   "source": [
    "print(\"Exercício 5\")\n",
    "print(\"\")\n",
    "LadoA = float(input(\"Qual o tamanho da aresta A? \"))\n",
    "LadoB = float(input(\"Qual o tamanho da aresta B? \"))\n",
    "LadoC = float(input(\"Qual o tamanho da aresta C? \"))\n",
    "print(\"\")\n",
    "Diagonal_LA = ((LadoA*LadoA) + (LadoB*LadoB))**0.5\n",
    "Diagonal_LB = ((LadoB*LadoB) + (LadoC*LadoC))**0.5\n",
    "Diagonal_LC = ((LadoA*LadoA) + (LadoC*LadoC))**0.5\n",
    "Diagonal_Principal = ((Diagonal_LA*Diagonal_LA)+ (LadoC*LadoC))**0.5\n",
    "print(\"\")\n",
    "print(\"A Diagonal do lado A é = %.3f\" % Diagonal_LA)\n",
    "print(\"A Diagonal do lado B é = %.3f\" % Diagonal_LB)\n",
    "print(\"A Diagonal do lado C é = %.3f\" % Diagonal_LC)\n",
    "print(\"A Diagonal Principal é = %.3f\" % Diagonal_Principal)"
   ]
  },
  {
   "cell_type": "code",
   "execution_count": null,
   "metadata": {},
   "outputs": [],
   "source": []
  }
 ],
 "metadata": {
  "kernelspec": {
   "display_name": "Python 3",
   "language": "python",
   "name": "python3"
  },
  "language_info": {
   "codemirror_mode": {
    "name": "ipython",
    "version": 3
   },
   "file_extension": ".py",
   "mimetype": "text/x-python",
   "name": "python",
   "nbconvert_exporter": "python",
   "pygments_lexer": "ipython3",
   "version": "3.7.1"
  }
 },
 "nbformat": 4,
 "nbformat_minor": 2
}
