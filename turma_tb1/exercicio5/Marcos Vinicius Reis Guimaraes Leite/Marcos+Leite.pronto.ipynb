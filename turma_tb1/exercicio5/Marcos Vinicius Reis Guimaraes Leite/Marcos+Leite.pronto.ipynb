{
 "cells": [
  {
   "cell_type": "markdown",
   "metadata": {},
   "source": [
    "Nome: Marcos Vinicius Reis Guimaraes Leite Mat: 2018085870"
   ]
  },
  {
   "cell_type": "markdown",
   "metadata": {},
   "source": [
    "Exercicio de Fatiamento: \n",
    "    Jutificativa: O string fatiado se da quando definimos um intervalo para imprimir trechos de um conjunto de letras,\n",
    "esse intervalo pode ser positivo ou negativo, sendo que nos positivos a leitura é feita da esquerda para direito e o \n",
    "negativo ao contrario, ou seja, da direita para a esquerda.\n",
    "    Dessa forma, é impresso de acordo com o interalo definido.\n",
    "Neste caso, utilizei de intervalos com valores estabelecidos, onde inicia do valor dado e subtrai os que nao sao \n",
    "expressados no intervalo."
   ]
  },
  {
   "cell_type": "code",
   "execution_count": 18,
   "metadata": {},
   "outputs": [
    {
     "name": "stdout",
     "output_type": "stream",
     "text": [
      "MARCOS\n",
      "COSMOS\n",
      "MOSCA\n",
      "OSMOS\n"
     ]
    }
   ],
   "source": [
    "s = \"MARCOSMOSCA\"\n",
    "print (s[0:6])\n",
    "print (s[3:9])\n",
    "print (s[6:11])\n",
    "print (s[4:-2])"
   ]
  },
  {
   "cell_type": "markdown",
   "metadata": {},
   "source": [
    "Exercicio de Fatiamento: \n",
    "    Jutificativa: Neste caso, houve um fatiamento em que nao há um valor estabelecido em alguns dos extremos, quando \n",
    "isso ocorre, podemos dizer que o resultado tem como inicio ou final o valor do caracter ignorado. Sendo similar os\n",
    "valores positivos dos negativos, tendo como diferenca apenas na ordem de leitura como mostrado no exercicio anterior."
   ]
  },
  {
   "cell_type": "code",
   "execution_count": 19,
   "metadata": {},
   "outputs": [
    {
     "name": "stdout",
     "output_type": "stream",
     "text": [
      "MARCOS\n",
      "MOSCA\n",
      "COSMOS\n"
     ]
    }
   ],
   "source": [
    "s = \"MARCOSMOSCA\"\n",
    "print (s[:6])\n",
    "print (s[6:])\n",
    "print (s[-8:-2])"
   ]
  },
  {
   "cell_type": "markdown",
   "metadata": {},
   "source": [
    "Exercicio de Fatiamento:\n",
    "    Jutificativa: Neste caso, houve um fatiamento com saltos, devido a presenca de espaços vazios no comando. Quando \n",
    "isso ocorre, podemos dizer que os caracteres que estiverem no ''espaço vazio'' não serão expressados no momento da \n",
    "leitura."
   ]
  },
  {
   "cell_type": "code",
   "execution_count": 20,
   "metadata": {},
   "outputs": [
    {
     "name": "stdout",
     "output_type": "stream",
     "text": [
      "MM\n",
      "ASM\n",
      "CC\n"
     ]
    }
   ],
   "source": [
    "s = \"MARCOSMOSCA\"\n",
    "print (s[0::6])\n",
    "print (s[::-5])\n",
    "print (s[-2::-6])"
   ]
  },
  {
   "cell_type": "markdown",
   "metadata": {},
   "source": [
    "Exercicio 2"
   ]
  },
  {
   "cell_type": "code",
   "execution_count": 31,
   "metadata": {},
   "outputs": [
    {
     "name": "stdout",
     "output_type": "stream",
     "text": [
      "H\n",
      "H\n"
     ]
    }
   ],
   "source": [
    "s = \"ABCDEFGHI\"\n",
    "print (s[-2:-1])\n",
    "print (s[7:-3:-1])"
   ]
  },
  {
   "cell_type": "markdown",
   "metadata": {},
   "source": [
    "Exercicio 3"
   ]
  },
  {
   "cell_type": "code",
   "execution_count": 43,
   "metadata": {},
   "outputs": [
    {
     "name": "stdout",
     "output_type": "stream",
     "text": [
      "marcosocram\n",
      "O string é o mesmo lido de frente para tras ou vice-versa\n"
     ]
    }
   ],
   "source": [
    "s = \"marcosocram\"\n",
    "print(s[::-1])\n",
    "if s == s[::-1]:\n",
    "    print(\"O string é o mesmo lido de frente para tras ou vice-versa\")\n",
    "else: \n",
    "    print(\"O string NÃO é o mesmo lido de frente para tras ou vice-versa\")"
   ]
  },
  {
   "cell_type": "markdown",
   "metadata": {},
   "source": [
    "Exercicio 4"
   ]
  },
  {
   "cell_type": "code",
   "execution_count": 3,
   "metadata": {},
   "outputs": [
    {
     "name": "stdout",
     "output_type": "stream",
     "text": [
      "727.0\n"
     ]
    }
   ],
   "source": [
    "from datetime import datetime\n",
    "a = '09:34'\n",
    "b = '21:41'\n",
    "f = '%H:%M'\n",
    "dif = 727%(datetime.strptime(b, f) - datetime.strptime(a, f)).total_seconds()%3600\n",
    "print(dif)"
   ]
  },
  {
   "cell_type": "code",
   "execution_count": 12,
   "metadata": {},
   "outputs": [
    {
     "name": "stdout",
     "output_type": "stream",
     "text": [
      "43620.0\n"
     ]
    }
   ],
   "source": [
    "from datetime import datetime\n",
    "a = '09:34'\n",
    "b = '21:41'\n",
    "f = '%H:%M'\n",
    "dif = (datetime.strptime(b, f) - datetime.strptime(a, f)).total_seconds()\n",
    "print(dif)"
   ]
  },
  {
   "cell_type": "code",
   "execution_count": 9,
   "metadata": {},
   "outputs": [
    {
     "name": "stdout",
     "output_type": "stream",
     "text": [
      "12:07:00\n"
     ]
    }
   ],
   "source": [
    "from datetime import datetime\n",
    "a = '09:34'\n",
    "b = '21:41'\n",
    "f = '%H:%M'\n",
    "dif = (datetime.strptime(b, f) - datetime.strptime(a, f))\n",
    "print(dif)"
   ]
  },
  {
   "cell_type": "markdown",
   "metadata": {},
   "source": [
    "Exercicio 5"
   ]
  },
  {
   "cell_type": "code",
   "execution_count": 48,
   "metadata": {},
   "outputs": [
    {
     "name": "stdout",
     "output_type": "stream",
     "text": [
      "Insira o valor da aresta a: 11\n",
      "Insira o valor da aresta b: 22\n",
      "Insira o valor da aresta c: 33\n",
      "24.596747752497688 39.66106403010388 34.785054261852174 41.15823125451335\n"
     ]
    }
   ],
   "source": [
    "a = int(input(\"Insira o valor da aresta a: \"))\n",
    "b = int(input(\"Insira o valor da aresta b: \"))\n",
    "c = int(input(\"Insira o valor da aresta c: \"))\n",
    "import math\n",
    "L1 = math.sqrt(a**2 + b**2)\n",
    "L2 = math.sqrt(b**2 + c**2)\n",
    "L3 = math.sqrt(a**2 + c**2)\n",
    "D = math.sqrt(L1**2 + c**2)\n",
    "print(L1, L2, L3, D)"
   ]
  }
 ],
 "metadata": {
  "kernelspec": {
   "display_name": "Python 3",
   "language": "python",
   "name": "python3"
  },
  "language_info": {
   "codemirror_mode": {
    "name": "ipython",
    "version": 3
   },
   "file_extension": ".py",
   "mimetype": "text/x-python",
   "name": "python",
   "nbconvert_exporter": "python",
   "pygments_lexer": "ipython3",
   "version": "3.7.1"
  }
 },
 "nbformat": 4,
 "nbformat_minor": 2
}
