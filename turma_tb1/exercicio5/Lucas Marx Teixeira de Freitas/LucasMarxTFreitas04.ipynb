{
 "cells": [
  {
   "cell_type": "raw",
   "metadata": {},
   "source": [
    "Lucas Marx T. Freitas 2018015570 "
   ]
  },
  {
   "cell_type": "markdown",
   "metadata": {},
   "source": [
    "Exercicio 1 "
   ]
  },
  {
   "cell_type": "code",
   "execution_count": 18,
   "metadata": {},
   "outputs": [
    {
     "name": "stdout",
     "output_type": "stream",
     "text": [
      "0155\n",
      "201801\n",
      "55\n",
      "207\n",
      "05180\n",
      "015570\n",
      "20180\n",
      "2018015570\n",
      "1\n",
      "5\n"
     ]
    }
   ],
   "source": [
    "s = (\"2018015570\")\n",
    "print(s[4:8])  #0 155 uma vez que o string é fatiado de 4 a 8 os valores selecionados são os em posição 4 5 6 7 e 8\n",
    "print(s[0:-4]) # 201801 uma vez que a fatia selecionada se inicia no valor em posição 0 e se subtrai 4 casas para encontar a casa na posição final (1)\n",
    "print(s[-4:8]) # 55 o string começa na posição -4 (subtraindo 4 casas do final) e termina na oitava casa\n",
    "print(s[::4])  # 207 pois a fatia [::4] determina um salto de  4 casas entre os prints do string\n",
    "print(s[::-2]) # 05180 pois o salto ocorre de trás para frente de 2 em 2 casas\n",
    "print(s[4:])   # 015570 considerando o inicio após 4 casas e o final (quando vazio [x:]) determinado pelo final do string\n",
    "print(s[:-5])  # 20180 sabendo que a fatia se inicia no vazio ([:x]) e o fim é a subtração de 5 do final do string\n",
    "print(s[:])    # 2018015570 uma vez que a falta de de fatias ([:]) leva a impressão do string completo\n",
    "print(s[5])    # 1 uma vez que o unico valor a ser impresso é o quinto de acordo com a fatia [5]\n",
    "print(s[-4])   # 5 uma vez que o unico valor a ser impresso é o quarto a partir do fim do string de acordo com a fatia [-4]"
   ]
  },
  {
   "cell_type": "markdown",
   "metadata": {},
   "source": [
    "Exercicio 2"
   ]
  },
  {
   "cell_type": "code",
   "execution_count": 24,
   "metadata": {},
   "outputs": [
    {
     "name": "stdout",
     "output_type": "stream",
     "text": [
      "H\n",
      "H\n"
     ]
    }
   ],
   "source": [
    "s = (\"ABCDEFGHI\")\n",
    "print (s[-2:-1])\n",
    "print (s[7:6:-1])\n",
    "# x= 7 e y= 6"
   ]
  },
  {
   "cell_type": "markdown",
   "metadata": {},
   "source": [
    "Exercicio 3"
   ]
  },
  {
   "cell_type": "code",
   "execution_count": 101,
   "metadata": {},
   "outputs": [
    {
     "name": "stdin",
     "output_type": "stream",
     "text": [
      "Insira um string qualquer 2018015570 \n"
     ]
    },
    {
     "name": "stdout",
     "output_type": "stream",
     "text": [
      "esse string não pode ser lido de trás pra frente\n"
     ]
    }
   ],
   "source": [
    "string = (input(\"Insira um string qualquer\"))\n",
    "if (string[0:] == string[::-1]):\n",
    "    print(\"esse string pode ser lido de trás pra frente\")\n",
    "if (string[0:] != string[::-1]):\n",
    "    print(\"esse string não pode ser lido de trás pra frente\")"
   ]
  },
  {
   "cell_type": "markdown",
   "metadata": {},
   "source": [
    "Exercicio 4"
   ]
  },
  {
   "cell_type": "code",
   "execution_count": 100,
   "metadata": {},
   "outputs": [
    {
     "name": "stdin",
     "output_type": "stream",
     "text": [
      "insira o primeiro horario 25:34\n",
      "insira o segundo horario 22:10\n"
     ]
    },
    {
     "name": "stdout",
     "output_type": "stream",
     "text": [
      "não é possivel representar um horario com mais de 24 horas ou 60 minutos\n"
     ]
    }
   ],
   "source": [
    "horario1 = (input(\"insira o primeiro horario\"))\n",
    "horario2 = (input(\"insira o segundo horario\"))\n",
    "Hr1 = int(horario1[:-3])\n",
    "Hr2 = int(horario2[:-3])\n",
    "Min1 = int(horario1[-2:])\n",
    "Min2 = int(horario2[-2:])\n",
    "HrM1 = Hr1*60\n",
    "HrM2 = Hr2*60\n",
    "if (Hr1 < 0 or Hr2 < 0 or Min1 < 0 or Min2 < 0):\n",
    "    print(\"um dos valores digitados é negativo e não pode representar um horario\")\n",
    "if (Hr1 > 24 or Hr2 > 24 or Min1 > 60 or Min2 > 60):\n",
    "    print(\"não é possivel representar um horario com mais de 24 horas ou 60 minutos\")\n",
    "else:\n",
    "    if (Hr1 >= Hr2 and Min1 >= Min2):\n",
    "        print(\"A diferença dos horarios é %d:%d\" % (Hr1-Hr2 , Min1-Min2))\n",
    "        print(\"Em minutos, a diferença é %d\" % ((((Hr1-Hr2)*60) + Min1-Min2)))\n",
    "        print(\"em segundos, a diferença é de %d\" % ((HrM1-HrM2 + Min1-Min2)*60))\n",
    "    if (Hr1 >= Hr2 and Min1 <= Min2):\n",
    "        print(\"A diferença dos horarios é %d:%d\" % (Hr1-Hr2 , Min2-Min1))\n",
    "        print(\"Em minutos, a diferença é %d\" % ((((Hr1-Hr2)*60) + Min2-Min1)))\n",
    "        print(\"em segundos, a diferença é de %d\" % ((HrM1-HrM2 + Min2-Min1)*60))\n",
    "    if (Hr1 <= Hr2 and Min1 >= Min2):\n",
    "        print(\"A diferença dos horarios é %d:%d\" % (Hr2-Hr1 , Min1-Min2))\n",
    "        print(\"Em minutos, a diferença é %d\" % ((((Hr2-Hr1)*60) + Min1-Min2)))\n",
    "        print(\"em segundos, a diferença é de %d\" % ((HrM2-HrM1 + Min1-Min2)*60))\n",
    "    if (Hr1 <= Hr2 and Min1 <= Min2):\n",
    "        print(\"A diferença dos horarios é %d:%d\" % (Hr2-Hr1 , Min2-Min1))\n",
    "        print(\"Em minutos, a diferença é %d\" % ((((Hr2-Hr1)*60) + Min2-Min1)))\n",
    "        print(\"em segundos, a diferença é de %d\" % ((HrM2-HrM1 + Min2-Min1)*60))"
   ]
  },
  {
   "cell_type": "markdown",
   "metadata": {},
   "source": [
    "Exercicio 5"
   ]
  },
  {
   "cell_type": "code",
   "execution_count": 26,
   "metadata": {},
   "outputs": [
    {
     "name": "stdin",
     "output_type": "stream",
     "text": [
      "digite o primeiro lado 0.8\n"
     ]
    },
    {
     "name": "stdout",
     "output_type": "stream",
     "text": [
      "Erro! Você deve entrar um inteiro!\n"
     ]
    },
    {
     "name": "stdin",
     "output_type": "stream",
     "text": [
      "digite o primeiro lado 5\n",
      "digite o segundo lado 0.7\n"
     ]
    },
    {
     "name": "stdout",
     "output_type": "stream",
     "text": [
      "Erro! Você deve entrar um inteiro!\n"
     ]
    },
    {
     "name": "stdin",
     "output_type": "stream",
     "text": [
      "digite o primeiro lado 3\n",
      "digite o segundo lado 3\n",
      "digite o terceiro lado -4\n"
     ]
    },
    {
     "name": "stdout",
     "output_type": "stream",
     "text": [
      "os valores digitados não geram um paralelepipedo\n"
     ]
    }
   ],
   "source": [
    "a = int(input(\"digite o primeiro lado do paralelepipedo\"))\n",
    "b = int(input(\"digite o segundo lado do paralelepipedo\"))\n",
    "c = int(input(\"digite o terceiro lado do paralelepipedo\"))\n",
    "L1 = (a**2 + b**2)**(1/2)\n",
    "L2 = (b**2 + c**2)**(1/2)\n",
    "L3 = (a**2 + c**2)**(1/2)\n",
    "D = (L1**2 + c**2)**(1/2)\n",
    "if (a > 0 and b> 0 and c > 0):\n",
    "    print(\"D é igual a %s u.m\" % D) #(u.m = unidade de medida)\n",
    "    print(\"L1 é igual a %s u.m\" % L1)\n",
    "    print(\"L2 é igual a %s u.m\" % L2)\n",
    "    print(\"L3 é igual a %s u.m\" % L3)\n",
    "else:\n",
    "    print(\"Os valores digitados não geram um paralelepipedo\")"
   ]
  }
 ],
 "metadata": {
  "kernelspec": {
   "display_name": "Python 3",
   "language": "python",
   "name": "python3"
  },
  "language_info": {
   "codemirror_mode": {
    "name": "ipython",
    "version": 3
   },
   "file_extension": ".py",
   "mimetype": "text/x-python",
   "name": "python",
   "nbconvert_exporter": "python",
   "pygments_lexer": "ipython3",
   "version": "3.7.1"
  }
 },
 "nbformat": 4,
 "nbformat_minor": 2
}
