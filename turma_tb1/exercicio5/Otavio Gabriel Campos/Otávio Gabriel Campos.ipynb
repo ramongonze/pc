{
 "cells": [
  {
   "cell_type": "markdown",
   "metadata": {},
   "source": [
    "Exercício 1"
   ]
  },
  {
   "cell_type": "code",
   "execution_count": 32,
   "metadata": {
    "scrolled": false
   },
   "outputs": [
    {
     "name": "stdout",
     "output_type": "stream",
     "text": [
      "TAVIOCAMPO\n"
     ]
    }
   ],
   "source": [
    "s = \"OTAVIOCAMPOS\"\n",
    "print(s[1:-1])"
   ]
  },
  {
   "cell_type": "markdown",
   "metadata": {},
   "source": [
    "No caso acima, o primeiro número é positivo (dessa forma começa-se a contar do 0 e da esquerda para direita), com isso o primeiro número (1) vai até a primeira letra \"T\", considerando-a porque o intervalo é fechado, já o segundo número é negativo (-1), dessa forma começa-se a contar da direita pra esquerda e sem o número 0, e vai até a letra \"S\", desconsiderando-a pois o intervalo é aberto, nesse caso tirando a primeira letra (O) e a última letra (S)."
   ]
  },
  {
   "cell_type": "code",
   "execution_count": 45,
   "metadata": {
    "scrolled": true
   },
   "outputs": [
    {
     "name": "stdout",
     "output_type": "stream",
     "text": [
      "AVIOCA\n"
     ]
    }
   ],
   "source": [
    "s = \"OTAVIOCAMPOS\"\n",
    "print(s[-10:-4])"
   ]
  },
  {
   "cell_type": "markdown",
   "metadata": {},
   "source": [
    "Nesse caso, os dois números são negativos, então os 2 começam a contar da direita para a esquerda a partir do -1, com isso o primeiro número (-10) vai até a primeira letra \"A\", considerando-a porque o intervalo é fechado, já o segundo número (-4) vai até a letra \"M\", desconsiderando-a pois o intervalo é aberto, nesse caso tirando as 2 primeiras letras (OT) e as 4 últimas letras (MPOS)."
   ]
  },
  {
   "cell_type": "code",
   "execution_count": 49,
   "metadata": {},
   "outputs": [
    {
     "name": "stdout",
     "output_type": "stream",
     "text": [
      "IOCAMP\n"
     ]
    }
   ],
   "source": [
    "s = \"OTAVIOCAMPOS\"\n",
    "print(s[4:10])"
   ]
  },
  {
   "cell_type": "markdown",
   "metadata": {},
   "source": [
    "Nesse caso, os dois números são positivos, então os 2 começam a contar da esquerda para a direita a partir do número 0, com isso o primeiro número (4) vai até a letra \"I\", entrando no print porque é o intervalo fechado, já o segundo número (10) vai até a terceira letra \"O\", saindo do print porque é o intervalo aberto, nesse caso tirando as 4 primeiras letras (OTAV) e as 2 últimas letras (OS).\n"
   ]
  },
  {
   "cell_type": "code",
   "execution_count": 50,
   "metadata": {},
   "outputs": [
    {
     "name": "stdout",
     "output_type": "stream",
     "text": [
      "IOCAMPO\n"
     ]
    }
   ],
   "source": [
    "s = \"OTAVIOCAMPOS\"\n",
    "print(s[-8:-1])"
   ]
  },
  {
   "cell_type": "markdown",
   "metadata": {},
   "source": [
    "Nesse caso, os dois números são negativos, então os 2 começam a contar da direita para a esquerda a partir do -1, com isso o primeiro número (-8) vai até a letra \"I\", considerando-a porque o intervalo é fechado, já o segundo número (-1) vai até a letra \"S\", desconsiderando-a pois o intervalo é aberto, nesse caso tirando as 4 primeiras letras (OTAV) e a última letra (S)."
   ]
  },
  {
   "cell_type": "code",
   "execution_count": 51,
   "metadata": {},
   "outputs": [
    {
     "name": "stdout",
     "output_type": "stream",
     "text": [
      "AMPO\n"
     ]
    }
   ],
   "source": [
    "s = \"OTAVIOCAMPOS\"\n",
    "print(s[7:11])"
   ]
  },
  {
   "cell_type": "markdown",
   "metadata": {},
   "source": [
    "Nesse caso, os dois números são positivos, então os 2 começam a contar da esquerda para a direita a partir do número 0, com isso o primeiro número (7) vai até a segunda letra \"A\", entrando no print porque é o intervalo fechado, já o segundo número (11) vai até a letra \"S\", saindo do print porque é o intervalo aberto, nesse caso tirando as 4 primeiras letras (OTAVIOC) e a última letra (S)."
   ]
  },
  {
   "cell_type": "code",
   "execution_count": 53,
   "metadata": {},
   "outputs": [
    {
     "name": "stdout",
     "output_type": "stream",
     "text": [
      "OTAVI\n"
     ]
    }
   ],
   "source": [
    "s = \"OTAVIOCAMPOS\"\n",
    "print(s[0:5])"
   ]
  },
  {
   "cell_type": "markdown",
   "metadata": {},
   "source": [
    "Nesse caso, os dois números são positivos, então os 2 começam a contar da esquerda para a direita a partir do número 0, com isso o primeiro número (0) é a primeira letra \"O\", entrando no print porque é o intervalo fechado, já o segundo número (5) vai até a segunda letra \"O\", saindo do print porque é o intervalo aberto, nesse caso tirando apenas as 7 últimas letras (OCAMPOS)."
   ]
  },
  {
   "cell_type": "code",
   "execution_count": 55,
   "metadata": {},
   "outputs": [
    {
     "name": "stdout",
     "output_type": "stream",
     "text": [
      "T\n"
     ]
    }
   ],
   "source": [
    "s = \"OTAVIOCAMPOS\"\n",
    "print(s[-11:-10])"
   ]
  },
  {
   "cell_type": "markdown",
   "metadata": {},
   "source": [
    "Nesse caso, os dois números são negativos, então os 2 começam a contar da direita para a esquerda a partir do -1, com isso o primeiro número (-11) vai até a letra \"T\", considerando-a porque o intervalo é fechado, já o segundo número (-10) vai até a primeira letra \"A\", desconsiderando-a pois o intervalo é aberto, nesse caso tirando a primeira letra (O) e todas as outras depois do \"T\" (AVIOCAMPOS)."
   ]
  },
  {
   "cell_type": "code",
   "execution_count": 58,
   "metadata": {},
   "outputs": [
    {
     "name": "stdout",
     "output_type": "stream",
     "text": [
      "VIO\n"
     ]
    }
   ],
   "source": [
    "s = \"OTAVIOCAMPOS\"\n",
    "print(s[3:-6])"
   ]
  },
  {
   "cell_type": "markdown",
   "metadata": {},
   "source": [
    "Nesse caso, o primeiro número é positivo (dessa forma começa-se a contar do 0 e da esquerda para direita), com isso o primeiro número (3) vai até a letra \"V\", considerando-a porque o intervalo é fechado, já o segundo número é negativo (-6), dessa forma começa-se a contar da direita pra esquerda e sem o número 0, e vai até a letra \"C\", desconsiderando-a pois o intervalo é aberto, nesse caso tirando as 3 primeiras letras (OTA) e as 6 últimas letras (CAMPOS)."
   ]
  },
  {
   "cell_type": "code",
   "execution_count": 61,
   "metadata": {},
   "outputs": [
    {
     "name": "stdout",
     "output_type": "stream",
     "text": [
      "TAVIOC\n"
     ]
    }
   ],
   "source": [
    "s = \"OTAVIOCAMPOS\"\n",
    "print(s[1:-5])"
   ]
  },
  {
   "cell_type": "markdown",
   "metadata": {},
   "source": [
    "Nesse caso, o primeiro número é positivo (dessa forma começa-se a contar do 0 e da esquerda para direita), com isso o primeiro número (1) vai até a letra \"T\", considerando-a porque o intervalo é fechado, já o segundo número é negativo (-5), dessa forma começa-se a contar da direita pra esquerda e sem o número 0, e vai até a segunda letra \"A\", desconsiderando-a pois o intervalo é aberto, nesse caso tirando a primeira letra (O) e as 5 últimas letras (AMPOS)."
   ]
  },
  {
   "cell_type": "code",
   "execution_count": 63,
   "metadata": {},
   "outputs": [
    {
     "name": "stdout",
     "output_type": "stream",
     "text": [
      "AM\n"
     ]
    }
   ],
   "source": [
    "s = \"OTAVIOCAMPOS\"\n",
    "print(s[7:9])"
   ]
  },
  {
   "cell_type": "markdown",
   "metadata": {},
   "source": [
    "Nesse caso, os dois números são positivos, então os 2 começam a contar da esquerda para a direita a partir do número 0, com isso o primeiro número (7) vai até a segunda letra \"A\", entrando no print porque é o intervalo fechado, já o segundo número (9) vai até a letra \"P\", saindo do print porque é o intervalo aberto, nesse caso tirando as 7 primeiras letras (OTAVIOC) e as 3 últimas letras (POS)."
   ]
  },
  {
   "cell_type": "markdown",
   "metadata": {},
   "source": [
    "Exercício 2"
   ]
  },
  {
   "cell_type": "markdown",
   "metadata": {},
   "source": [
    "s = \"ABCDEFGHI\"\n",
    "print(s[-2:-1])\n",
    "print(s[x:y:-1])\n",
    "x = -2\n",
    "y = 6"
   ]
  },
  {
   "cell_type": "code",
   "execution_count": 40,
   "metadata": {},
   "outputs": [
    {
     "name": "stdout",
     "output_type": "stream",
     "text": [
      "H\n",
      "H\n"
     ]
    }
   ],
   "source": [
    "s = \"ABCDEFGHI\"\n",
    "print(s[-2:-1])\n",
    "print(s[-2:6:-1])"
   ]
  },
  {
   "cell_type": "markdown",
   "metadata": {},
   "source": [
    "Exercício 3"
   ]
  },
  {
   "cell_type": "code",
   "execution_count": 2,
   "metadata": {},
   "outputs": [
    {
     "name": "stdout",
     "output_type": "stream",
     "text": [
      "Digite uma palavra ou frase sem espaço: luzazul\n",
      "Digite uma palavra ou frase sem espaço: luzazul\n",
      "São palindromos\n"
     ]
    }
   ],
   "source": [
    "A = input(\"Digite uma palavra ou frase sem espaço: \")\n",
    "B = input(\"Digite uma palavra ou frase sem espaço: \")\n",
    "\n",
    "\n",
    "if (A[::1]) == (B[::-1]) and (B[::1]) == (A[::-1]):\n",
    "    print(\"São palindromos\")\n",
    "elif (A[::1]) != (B[::-1]) or (B[::1]) != (A[::-1]):\n",
    "    print(\"Não são palindromos\")"
   ]
  },
  {
   "cell_type": "markdown",
   "metadata": {},
   "source": [
    "Exercício 4"
   ]
  },
  {
   "cell_type": "code",
   "execution_count": 8,
   "metadata": {},
   "outputs": [
    {
     "name": "stdout",
     "output_type": "stream",
     "text": [
      "Digite um horário adma\n",
      "Digite um horário adas\n",
      "Erro, digite outro horário ou no formato hh:mm\n",
      "Digite um horário asda\n",
      "Digite um horário asda\n",
      "Erro, digite outro horário ou no formato hh:mm\n",
      "Digite um horário 10:50\n",
      "Digite um horário 4:35\n",
      "Erro, digite outro horário ou no formato hh:mm\n",
      "Digite um horário 10:50\n",
      "Digite um horário 04:35\n",
      "A difrença é de: 6:15 em horas e minutos, 375 em min, 22500 em s\n"
     ]
    }
   ],
   "source": [
    "while True:\n",
    "    try:\n",
    "        r = input(\"Digite um horário \")\n",
    "        s = input(\"Digite um horário \")\n",
    "        \n",
    "        t = int(r[:2]) * 60\n",
    "        u = int(s[:2]) * 60\n",
    "        min1 = int(r[3:5]) + t\n",
    "        min2 = int(s[3:5]) + u\n",
    "        seg1 = min1 * 60\n",
    "        seg2 = min2 * 60\n",
    "        break\n",
    "    except ValueError:\n",
    "        print(\"Erro, digite outro horário ou no formato hh:mm\")\n",
    "\n",
    "if min1 > min2:\n",
    "    dif_min = min1 - min2\n",
    "    dif_seg = seg1 - seg2\n",
    "    horario1 = dif_min // 60\n",
    "    min_horario1 = (dif_min / 60) - horario1\n",
    "    min_ora_1 = min_horario1 * 60\n",
    "    print(\"A difrença é de: %d:%d em horas e minutos, %d em min, %d em s\" % (horario1, min_ora_1, dif_min, dif_seg))\n",
    "    \n",
    "if min2 > min1:\n",
    "    dif_min = min2 - min1\n",
    "    dif_seg = seg2 - seg1\n",
    "    horario2 = dif_min // 60\n",
    "    min_horario2 = (dif_min / 60) - horario2\n",
    "    min_ora_2 = min_horario2 * 60\n",
    "    print(\"A difrença é de: %d:%d em horas e minutos, %d em min, %d em s\" % (horario2, min_ora_2, dif_min, dif_seg))"
   ]
  },
  {
   "cell_type": "markdown",
   "metadata": {},
   "source": [
    "Exercício 5"
   ]
  },
  {
   "cell_type": "code",
   "execution_count": 3,
   "metadata": {},
   "outputs": [
    {
     "name": "stdout",
     "output_type": "stream",
     "text": [
      "Digite o comprimento em valores positivos 10\n",
      "Digite a largura em valores positivos 30\n",
      "Digite a altura em valores positivos 50\n",
      "59.16 : valor da diagonal principal D\n",
      "31.62 : valor da diagonal lateral L1\n",
      "58.31 : valor da diagonal lateral L2\n",
      "50.99 : valor da diagonal lateral L3\n"
     ]
    }
   ],
   "source": [
    "while True:\n",
    "    try:\n",
    "        a = float(input(\"Digite o comprimento em valores positivos \"))\n",
    "        b = float(input(\"Digite a largura em valores positivos \"))\n",
    "        c = float(input(\"Digite a altura em valores positivos \"))\n",
    "\n",
    "        L1 = (a * a + b * b) ** (1/2)\n",
    "        L2 = (b * b + c * c) ** (1/2)\n",
    "        L3 = (a * a + c * c) ** (1/2)\n",
    "        D = (L1 * L1 + c * c) ** (1/2)\n",
    "        break\n",
    "    except ValueError:\n",
    "        print(\"Erro\")\n",
    "print(\"%.2f : valor da diagonal principal D\" % D)\n",
    "print(\"%.2f : valor da diagonal lateral L1\" % L1)\n",
    "print(\"%.2f : valor da diagonal lateral L2\" % L2)\n",
    "print(\"%.2f : valor da diagonal lateral L3\" % L3)"
   ]
  },
  {
   "cell_type": "code",
   "execution_count": null,
   "metadata": {},
   "outputs": [],
   "source": []
  }
 ],
 "metadata": {
  "kernelspec": {
   "display_name": "Python 3",
   "language": "python",
   "name": "python3"
  },
  "language_info": {
   "codemirror_mode": {
    "name": "ipython",
    "version": 3
   },
   "file_extension": ".py",
   "mimetype": "text/x-python",
   "name": "python",
   "nbconvert_exporter": "python",
   "pygments_lexer": "ipython3",
   "version": "3.7.1"
  }
 },
 "nbformat": 4,
 "nbformat_minor": 2
}
