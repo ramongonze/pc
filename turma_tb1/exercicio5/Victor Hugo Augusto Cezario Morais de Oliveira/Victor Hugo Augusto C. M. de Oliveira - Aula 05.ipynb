{
 "cells": [
  {
   "cell_type": "markdown",
   "metadata": {},
   "source": [
    "## Victor Hugo Augusto C. M. de Oliveira - 2018015561 - Aula 5"
   ]
  },
  {
   "cell_type": "markdown",
   "metadata": {},
   "source": [
    "### Exercício 1:"
   ]
  },
  {
   "cell_type": "code",
   "execution_count": 1,
   "metadata": {},
   "outputs": [
    {
     "name": "stdout",
     "output_type": "stream",
     "text": [
      "V\n",
      "VIC\n",
      "CT\n",
      "CTORH\n",
      "HU\n",
      "ORHUG\n",
      "RHUG\n",
      "VICTO\n",
      "0GUHROTCIV\n",
      "0\n",
      "ICT\n"
     ]
    }
   ],
   "source": [
    "s = \"VICTORHUG0\"\n",
    "# 0  1  2  3  4  5  6  7  8  9 \n",
    "# V  I  C  T  O  R  H  U  G  O\n",
    "# 0 -9 -8 -7 -6 -5 -4 -3 -2 -1\n",
    "\n",
    "print(s[0:1])       # Apenas o 1º elemento.\n",
    "print(s[:3])        # Apenas os 3 primeiros elementos. \n",
    "print(s[2:4])       # Apenas o 2º e 3º elemento.\n",
    "print(s[2:-3])      # Apenas do 2º ao 6º elemento.\n",
    "print(s[6:8])       # Apenas o 6º e 7º elemento.\n",
    "print(s[4:-1])      # Apenas do 4º ao 8º elemento.\n",
    "print(s[-5:-1])     # Apenas do 5º ao 8º elemento.\n",
    "print(s[:5])        # Apenas do 1º ao 4º elemento.\n",
    "print(s[::-1])      # Realizza o Anagrama.\n",
    "print(s[-1:])       # Apenas o último elemento.\n",
    "print(s[-9:-6])     # Apenas do 2º elemento ao 4º.\n"
   ]
  },
  {
   "cell_type": "markdown",
   "metadata": {},
   "source": [
    "### Exercício 2:"
   ]
  },
  {
   "cell_type": "code",
   "execution_count": 2,
   "metadata": {},
   "outputs": [
    {
     "name": "stdout",
     "output_type": "stream",
     "text": [
      "H\n",
      "H\n"
     ]
    }
   ],
   "source": [
    "s = \"ABCDEFGHI\"\n",
    "# 0  1  2  3  4  5  6  7  8 \n",
    "# A  B  C  D  E  F  G  H  I\n",
    "# 0 -8 -7 -6 -5 -4 -3 -2 -1\n",
    "\n",
    "print(s[-2:-1])\n",
    "print(s[7:6:-1])"
   ]
  },
  {
   "cell_type": "markdown",
   "metadata": {},
   "source": [
    "### Exercício 3:"
   ]
  },
  {
   "cell_type": "code",
   "execution_count": 3,
   "metadata": {},
   "outputs": [
    {
     "name": "stdout",
     "output_type": "stream",
     "text": [
      "Digite sua sequência:1234321\n",
      "A sequência escolhida é: 1234321\n",
      "A sequência gerada foi: 1234321\n",
      "Sua sequêncua é identica quando invertida\n"
     ]
    }
   ],
   "source": [
    "sequencia = input(\"Digite sua sequência:\")\n",
    "invertida = sequencia[::-1]\n",
    "\n",
    "print(\"A sequência escolhida é: %s\" % sequencia)\n",
    "\n",
    "if sequencia == invertida:\n",
    "    print(\"A sequência gerada foi: %s\" % invertida)\n",
    "    print(\"Sua sequêncua é identica quando invertida\")\n",
    "    \n",
    "else:\n",
    "    print(\"A sequência gerada foi: %s\" % invertida)\n",
    "    print(\"Sua sequênciaé diferente quando invertida\")\n",
    "    "
   ]
  },
  {
   "cell_type": "markdown",
   "metadata": {},
   "source": [
    "### Exercício 4:"
   ]
  },
  {
   "cell_type": "code",
   "execution_count": 7,
   "metadata": {},
   "outputs": [
    {
     "name": "stdout",
     "output_type": "stream",
     "text": [
      "Coloque os horários no formato HH:MM\n",
      "\n",
      "Digite o primeiro horário desejado: 12:40\n",
      "Digite o segundo horário desejado:11:10\n",
      "\n",
      "A diferença em horas e minutos é: 1 : 30\n",
      "A diferença em minutos é: 90\n",
      "A diferença em segundos é: 5400\n"
     ]
    }
   ],
   "source": [
    "print(\"Coloque os horários no formato HH:MM\\n\")\n",
    "\n",
    "horario1 = input(\"Digite o primeiro horário desejado: \")\n",
    "horario2 = input(\"Digite o segundo horário desejado:\")\n",
    "diferenca_hora = 0\n",
    "diferenca_minuto = 0\n",
    "diferenca = 0\n",
    "minutos = 0\n",
    "segundos = 0\n",
    "\n",
    "hora1 = int(horario1[0:2]) \n",
    "hora2 = int(horario2[0:2])\n",
    "minuto1 = int(horario1[3:])\n",
    "minuto2 = int(horario2[3:])\n",
    "\n",
    "diferenca_hora = abs(hora1 - hora2 )        # Realiza a difereça das horas    \n",
    "diferenca_minuto = abs(minuto1 - minuto2)   # Realiza a diferença dos minutos\n",
    "\n",
    "minutos = (diferenca_hora * 60) + diferenca_minuto\n",
    "segundos = minutos * 60\n",
    "\n",
    "print(\"\\nA diferença em horas e minutos é:\",diferenca_hora,\":\",diferenca_minuto)\n",
    "print(\"A diferença em minutos é: %d\" %minutos)\n",
    "print(\"A diferença em segundos é: %d\" %segundos)\n",
    "\n"
   ]
  },
  {
   "cell_type": "markdown",
   "metadata": {},
   "source": [
    "### Exercício 5: "
   ]
  },
  {
   "cell_type": "code",
   "execution_count": 22,
   "metadata": {},
   "outputs": [
    {
     "name": "stdout",
     "output_type": "stream",
     "text": [
      "Digite o valor de a: 3\n",
      "Digite o valor de b: 3\n",
      "Digite o valor de c: 2\n",
      "L1 =  4.24\n",
      "L2 =  3.61\n",
      "L3 =  3.61\n",
      "D =   8.49\n"
     ]
    }
   ],
   "source": [
    "import math as m \n",
    "\n",
    "a = float(input(\"Digite o valor de a: \"))\n",
    "b = float(input(\"Digite o valor de b: \"))\n",
    "c = float(input(\"Digite o valor de c: \"))\n",
    "\n",
    "L1 = m.sqrt((a*a) + (b*b))\n",
    "L2 = m.sqrt((b*b) + (c*c))\n",
    "L3 = m.sqrt((a*a) + (c*c))\n",
    "D = m.sqrt((L1*L1) * (c*c))\n",
    "\n",
    "print(\"L1 =%6.2f\" %L1)\n",
    "print(\"L2 =%6.2f\" %L2)\n",
    "print(\"L3 =%6.2f\" %L3)\n",
    "print(\"D = %6.2f\" %D)"
   ]
  },
  {
   "cell_type": "code",
   "execution_count": null,
   "metadata": {
    "collapsed": true
   },
   "outputs": [],
   "source": []
  }
 ],
 "metadata": {
  "kernelspec": {
   "display_name": "Python 3",
   "language": "python",
   "name": "python3"
  },
  "language_info": {
   "codemirror_mode": {
    "name": "ipython",
    "version": 3
   },
   "file_extension": ".py",
   "mimetype": "text/x-python",
   "name": "python",
   "nbconvert_exporter": "python",
   "pygments_lexer": "ipython3",
   "version": "3.6.3"
  }
 },
 "nbformat": 4,
 "nbformat_minor": 2
}
