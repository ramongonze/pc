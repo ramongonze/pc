{
 "cells": [
  {
   "cell_type": "markdown",
   "metadata": {},
   "source": [
    "# Matheus Pangella de Lana 2017106857"
   ]
  },
  {
   "cell_type": "markdown",
   "metadata": {},
   "source": [
    "# Exercicio 1\n"
   ]
  },
  {
   "cell_type": "code",
   "execution_count": 19,
   "metadata": {},
   "outputs": [
    {
     "name": "stdout",
     "output_type": "stream",
     "text": [
      "IH\n",
      "GF\n",
      "GFEDC\n",
      "EDC\n",
      "BA\n",
      "IHGFEDCB\n",
      "B\n",
      "EDC\n",
      "ABCDEFGHI\n",
      "IGECA\n"
     ]
    }
   ],
   "source": [
    "stri = \"IHGFEDCBA\"\n",
    "\n",
    "print(stri[0:2]) # começa da posição inicial '0' e termina imediatamente antes da posição '2'\n",
    "\n",
    "print(stri[2:4]) # começa da posição '2' e termina imediatamente antes da posição '4'\n",
    "\n",
    "print(stri[2:-2]) # começa da posição '2' passa por todos até chega na posição \"-2\" que seria a posição '1' do string invertido \n",
    "\n",
    "print(stri[4:-2]) # começa da posição '4' passa por todos até chegar na posição \"-2\" que seria a posição '1' do string invertido \n",
    "\n",
    "print(stri[-2:]) # printa a partir da posição \"-2\" que seria a posição '1' do string invertido e vai até o final do string\n",
    "\n",
    "print(stri[:-1]) # printa tudo até imediatamente antes da posição \"-1 \" que seria a posição '0' do string invertido\n",
    "\n",
    "print(stri[-2:-1]) # printa a posição \"-2\" apenas já que devesse contar até imediatamente antes da posição \"-1\", no caso a propria posição \"-2\"\n",
    "\n",
    "print(stri[-5:7]) #printa a partir da posição \"-5\" 'E' e vai até imediatamente antes da posição '7'\n",
    "\n",
    "print(stri[::-1]) # printa o string pulando 0 posição no string invertido, logo é printado o string invertido\n",
    "\n",
    "print(stri[::2]) #Printa pulando 1 posiçao no string sendo a primeira a posição \"1\", logo printa as posições 1-3-5-7-9 "
   ]
  },
  {
   "cell_type": "markdown",
   "metadata": {},
   "source": [
    "# Exercicio 2"
   ]
  },
  {
   "cell_type": "code",
   "execution_count": 1,
   "metadata": {},
   "outputs": [
    {
     "name": "stdout",
     "output_type": "stream",
     "text": [
      "H\n",
      "H\n"
     ]
    }
   ],
   "source": [
    "s =\"ABCDEFGHI\"\n",
    "\n",
    "print(s[-2:-1])\n",
    "\n",
    "print(s[7:6:-1])\n"
   ]
  },
  {
   "cell_type": "markdown",
   "metadata": {},
   "source": [
    "# Exercicio 3"
   ]
  },
  {
   "cell_type": "code",
   "execution_count": 6,
   "metadata": {},
   "outputs": [
    {
     "name": "stdout",
     "output_type": "stream",
     "text": [
      "Digite algo:ogaloeolago\n",
      "O string digitado é o mesmo de trás pra frente\n"
     ]
    }
   ],
   "source": [
    "string = input(\"Digite algo:\")\n",
    "if (string) == (string[::-1]):\n",
    "    print('O string digitado é o mesmo de trás pra frente')\n",
    "if (string) != (string[::-1]):\n",
    "    print('O string digitado não é o mesmo de trás pra frente')"
   ]
  },
  {
   "cell_type": "markdown",
   "metadata": {},
   "source": [
    "# Exercicio 4"
   ]
  },
  {
   "cell_type": "code",
   "execution_count": 11,
   "metadata": {},
   "outputs": [
    {
     "name": "stdout",
     "output_type": "stream",
     "text": [
      "Digite uma hora:9:34\n",
      "Digite uma hora a qual quer calcular a diferença para a hora1:21:41\n",
      "Horas e minutos: 12 : 0 7\n",
      "Minutos: 727\n",
      "Segundos: 43620\n"
     ]
    }
   ],
   "source": [
    "hora1= input('Digite uma hora:')\n",
    "hora2=input('Digite uma hora a qual quer calcular a diferença para a hora1:')\n",
    "s1=int(hora1[:-3])\n",
    "s2=int(hora2[:-3])\n",
    "s3=int(hora1[-2:])\n",
    "s4=int(hora2[-2:])\n",
    "s5=(\":\")\n",
    "s6=('Horas e minutos:')\n",
    "s7=('Minutos:')\n",
    "s8=('Segundos:')\n",
    "s9= (s1*60) + s3\n",
    "s10= (s2*60)+ s4\n",
    "s11=(int(((s9-s10)**2)**0.5))\n",
    "s12= s11%60\n",
    "s13= (s11-(s12))//60\n",
    "s14= s11*60\n",
    "s15= ('0')\n",
    "\n",
    "if s12<10 and s12>=0:\n",
    "    print(s6,s13,s5,s15,s12)\n",
    "    print(s7,s11)\n",
    "    print(s8,s14)\n",
    "elif s12>=10:    \n",
    "    print(s6,s13,s5,s12)\n",
    "    print(s7,s11)\n",
    "    print(s8,s14)\n",
    "    "
   ]
  },
  {
   "cell_type": "markdown",
   "metadata": {},
   "source": [
    "# Exercicio 5"
   ]
  },
  {
   "cell_type": "code",
   "execution_count": 2,
   "metadata": {},
   "outputs": [
    {
     "name": "stdout",
     "output_type": "stream",
     "text": [
      "Entre com um valor para a:3\n",
      "Entre com um valor para b:4\n",
      "Entre com um valor para c:3\n",
      "L1== 5.0\n",
      "L2== 5.0\n",
      "L3== 4.242640687119285\n",
      "D== 5.830951894845301\n"
     ]
    }
   ],
   "source": [
    "a=int(input('Entre com um valor para a:'))\n",
    "b=int(input('Entre com um valor para b:'))\n",
    "c=int(input('Entre com um valor para c:'))\n",
    "\n",
    "L1= ((a*a)+(b*b))**0.5\n",
    "L2 = ((c*c)+(b*b))**0.5\n",
    "L3= ((a*a)+(c*c))**0.5\n",
    "D= ((L1*L1)+(c*c))**0.5\n",
    "s=\"L1==\"\n",
    "s1=\"L2==\"\n",
    "s2=\"L3==\"\n",
    "s3=\"D==\"\n",
    "print(s,L1)\n",
    "print(s1,L2)\n",
    "print(s2,L3)\n",
    "print(s3,D)"
   ]
  },
  {
   "cell_type": "code",
   "execution_count": null,
   "metadata": {},
   "outputs": [],
   "source": []
  },
  {
   "cell_type": "code",
   "execution_count": null,
   "metadata": {},
   "outputs": [],
   "source": []
  },
  {
   "cell_type": "code",
   "execution_count": null,
   "metadata": {},
   "outputs": [],
   "source": []
  }
 ],
 "metadata": {
  "kernelspec": {
   "display_name": "Python 3",
   "language": "python",
   "name": "python3"
  },
  "language_info": {
   "codemirror_mode": {
    "name": "ipython",
    "version": 3
   },
   "file_extension": ".py",
   "mimetype": "text/x-python",
   "name": "python",
   "nbconvert_exporter": "python",
   "pygments_lexer": "ipython3",
   "version": "3.6.7"
  }
 },
 "nbformat": 4,
 "nbformat_minor": 2
}
