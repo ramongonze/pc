{
 "cells": [
  {
   "cell_type": "code",
   "execution_count": null,
   "metadata": {
    "collapsed": true
   },
   "outputs": [],
   "source": [
    "##Questão 1\n",
    "## Número de matrícula 2017074971\n",
    "\n",
    "matricula = \"2017074971\"\n",
    "print(matricula[0:5])\n",
    "print(matricula[::7])\n",
    "print(matricula[2:-2])\n",
    "print(matricula[-3:-1])\n",
    "print(matricula[:-4])\n",
    "print(matricula[-2:])\n",
    "print(matricula[::-1])\n",
    "print(matricula[::2])\n",
    "print(matricula[::-2])\n",
    "print(matricula[-2::])\n",
    "\n",
    "##Questão 2\n",
    "s = \"ABCDEFGHI\"\n",
    "print(s[-2:-1])\n",
    "print(s[7:6:-1])\n",
    "\n",
    "## Questão 3\n",
    "x = input(\"Digite alguma coisa\")\n",
    "if x[::-1] == x:\n",
    "    print(\"O valor é o mesmo de trás pra frente e de frente pra trás\")\n",
    "else:\n",
    "    print(\"O valor não é o mesmo de trás pra frente e de frente pra trás\")\n",
    "    \n",
    "## Questão 4\n",
    "x = input(\"Digite a primeira hora, separando os números por dois pontos\")\n",
    "y = input(\"Digite a segunda hora, separando os números por dois pontos\")\n",
    "\n",
    "horas = int(x[0:2]) - int(y[0:2])\n",
    "minutos = int(x[3:5]) - int(y[3:5])\n",
    "if horas < 0:\n",
    "    horas = horas * -1\n",
    "if minutos < 0:\n",
    "    minutos = minutos * -1\n",
    "difmin = (horas * 60) + minutos\n",
    "difseg = difmin * 60\n",
    "print(\"A diferença entre horas é %d : %d\" %(horas,minutos))\n",
    "print(\"A diferença entre minutos é %d\" % difmin)\n",
    "print(\"A diferença entre segundos é %d \" %difseg)\n",
    "\n",
    "## Questão 5\n",
    "a = float(input(\"Entre com o valor do comprimento do paralelepípedo\"))\n",
    "b = float(input(\"Entre com o valor da largura do paralelepípedo\"))\n",
    "c = float(input(\"Entre com o valor da altura do paralelepípedo\"))\n",
    "\n",
    "l1 = ((a*a) + (b*b))**(1/2)\n",
    "l2 = ((b*b) + (c*c))**(1/2)\n",
    "l3 = ((a*a) + (c*c))**(1/2)\n",
    "D = ((l1*l1) + (c*c))**(1/2)\n",
    "volume = a * b * c\n",
    "\n",
    "print(\"O valor da diagonal da face inferior é %f\" %l1)\n",
    "print(\"O valor da diagonal da face lateral é %f\" %l2)\n",
    "print(\"O valor da diagonal da face posterior é %f\" %l3)\n",
    "print(\"O valor da diagonal que passa por dentro do paralelepípedo é %f\" %D)\n",
    "print(\"O valor do volume do paralelepípedo é %f\" %volume)"
   ]
  },
  {
   "cell_type": "code",
   "execution_count": 17,
   "metadata": {},
   "outputs": [
    {
     "name": "stdout",
     "output_type": "stream",
     "text": [
      "Entre com o valor do comprimento do paralelepípedo3\n",
      "Entre com o valor da largura do paralelepípedo4\n",
      "Entre com o valor da altura do paralelepípedo5\n",
      "O valor da diagonal da face inferior é 5.000000\n",
      "O valor da diagonal da face lateral é 6.403124\n",
      "O valor da diagonal da face posterior é 5.830952\n",
      "O valor da diagonal que passa por dentro do paralelepípedo é 7.071068\n",
      "O valor do volume do paralelepípedo é 60.000000\n"
     ]
    }
   ],
   "source": []
  },
  {
   "cell_type": "code",
   "execution_count": null,
   "metadata": {
    "collapsed": true
   },
   "outputs": [],
   "source": []
  }
 ],
 "metadata": {
  "kernelspec": {
   "display_name": "Python 3",
   "language": "python",
   "name": "python3"
  },
  "language_info": {
   "codemirror_mode": {
    "name": "ipython",
    "version": 3
   },
   "file_extension": ".py",
   "mimetype": "text/x-python",
   "name": "python",
   "nbconvert_exporter": "python",
   "pygments_lexer": "ipython3",
   "version": "3.6.8"
  }
 },
 "nbformat": 4,
 "nbformat_minor": 2
}
