{
 "cells": [
  {
   "cell_type": "code",
   "execution_count": 1,
   "metadata": {},
   "outputs": [
    {
     "name": "stdout",
     "output_type": "stream",
     "text": [
      "celer\n",
      "rid\n",
      "ad\n",
      "dade\n",
      "e\n",
      "eleridade\n",
      "el\n",
      "idad\n",
      "celeridade\n",
      "ci\n"
     ]
    }
   ],
   "source": [
    "#Exercício 1\n",
    "j = \"celeridade\"\n",
    "print(j[0:5])\n",
    "print(j[4:7])\n",
    "print(j[7:9])\n",
    "print(j[-4:])\n",
    "print(j[-1:])\n",
    "print(j[-9:])\n",
    "print(j[-9:-7])\n",
    "print(j[-5:-1])\n",
    "print(j[::1])\n",
    "print(j[::5])"
   ]
  },
  {
   "cell_type": "code",
   "execution_count": 2,
   "metadata": {},
   "outputs": [
    {
     "name": "stdout",
     "output_type": "stream",
     "text": [
      "H\n",
      "H\n"
     ]
    }
   ],
   "source": [
    "#Exercício 2\n",
    "j =\"ABCDEFGHI\"\n",
    "print(j[-2:-1])\n",
    "print(j[7:6:-1])\n",
    "#x = 7 e y = 6"
   ]
  },
  {
   "cell_type": "code",
   "execution_count": 3,
   "metadata": {},
   "outputs": [
    {
     "name": "stdout",
     "output_type": "stream",
     "text": [
      " qualquer coisa 1234\n",
      "não é um palíndromo\n"
     ]
    }
   ],
   "source": [
    "#Exercício 3\n",
    "j = input(\" qualquer coisa \")\n",
    "k = j[::-1]\n",
    "if k == j:\n",
    "    print(\"é um palíndromo\")\n",
    "if k != j:\n",
    "    print(\"não é um palíndromo\")"
   ]
  },
  {
   "cell_type": "code",
   "execution_count": 1,
   "metadata": {},
   "outputs": [
    {
     "name": "stdout",
     "output_type": "stream",
     "text": [
      "um horário qualquer 12:10\n",
      "um horário qualquer 10:20\n",
      "1 : 50\n",
      "110 minutos\n",
      "6600 segundos\n"
     ]
    }
   ],
   "source": [
    "#Exercício 4\n",
    "j = input(\"um horário qualquer \")\n",
    "k = input(\"um horário qualquer \")\n",
    "g = int(j[:-3])\n",
    "h = int(k[:-3])\n",
    "l = (g - h)*60\n",
    "g1 = int(j[-2:])\n",
    "h1 = int(k[-2:])\n",
    "l1 = (g1 - h1)\n",
    "l2 = (l + l1)\n",
    "l3 = l/60\n",
    "if l2 > 60:\n",
    "    l2 = l2 - 60*(l3 - 1)\n",
    "    l3 = l3 - 1\n",
    "    o = str(l3)[:-2]\n",
    "    p = str(l2)[:-2]\n",
    "if g > h:\n",
    "    print(o,\":\",p)\n",
    "    print(l + l1,\"minutos\")\n",
    "    print((l + l1)*60,\"segundos\")"
   ]
  },
  {
   "cell_type": "code",
   "execution_count": 2,
   "metadata": {},
   "outputs": [
    {
     "name": "stdout",
     "output_type": "stream",
     "text": [
      "lado a:1\n",
      "lado b:2\n",
      "lado c:3\n",
      "2.23606797749979\n",
      "3.605551275463989\n",
      "3.1622776601683795\n",
      "3.7416573867739413\n"
     ]
    }
   ],
   "source": [
    "#Exercício 5\n",
    "a = int(input(\"lado a:\"))\n",
    "b = int(input(\"lado b:\"))\n",
    "c = int(input(\"lado c:\"))\n",
    "L1 = (a**2 + b**2)**0.5\n",
    "L2 = (b**2 + c**2)**0.5\n",
    "L3 = (a**2 + c**2)**0.5\n",
    "D = (L1**2 + c**2)**0.5\n",
    "print(L1)\n",
    "print(L2)\n",
    "print(L3)\n",
    "print(D)\n"
   ]
  }
 ],
 "metadata": {
  "kernelspec": {
   "display_name": "Python 3",
   "language": "python",
   "name": "python3"
  },
  "language_info": {
   "codemirror_mode": {
    "name": "ipython",
    "version": 3
   },
   "file_extension": ".py",
   "mimetype": "text/x-python",
   "name": "python",
   "nbconvert_exporter": "python",
   "pygments_lexer": "ipython3",
   "version": "3.7.1"
  }
 },
 "nbformat": 4,
 "nbformat_minor": 2
}
