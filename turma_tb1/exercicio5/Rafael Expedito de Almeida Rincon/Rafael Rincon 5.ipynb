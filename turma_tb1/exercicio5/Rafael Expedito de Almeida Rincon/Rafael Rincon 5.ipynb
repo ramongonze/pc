{
 "cells": [
  {
   "cell_type": "code",
   "execution_count": 1,
   "metadata": {},
   "outputs": [
    {
     "ename": "SyntaxError",
     "evalue": "invalid syntax (<ipython-input-1-686b03b8062c>, line 13)",
     "output_type": "error",
     "traceback": [
      "\u001b[1;36m  File \u001b[1;32m\"<ipython-input-1-686b03b8062c>\"\u001b[1;36m, line \u001b[1;32m13\u001b[0m\n\u001b[1;33m    [-2:] = últimas 2 letras\u001b[0m\n\u001b[1;37m       ^\u001b[0m\n\u001b[1;31mSyntaxError\u001b[0m\u001b[1;31m:\u001b[0m invalid syntax\n"
     ]
    }
   ],
   "source": [
    "s = \"RAFAEL RINCON\" \n",
    "print (s[-2:])\n",
    "print (s[0:1])\n",
    "print (s[1:7])\n",
    "print (s[1:-4])\n",
    "print (s[3:4])\n",
    "print (s[::-1])\n",
    "print (s[::-2])\n",
    "print (s[::8])\n",
    "print (s[::9])\n",
    "print (s[-2::-1])\n",
    "\n",
    "[-2:] = últimas 2 letras\n",
    "[0:1] = primeira letra (abre no 0, fecha no 1)\n",
    "[1:7] = segunda letra até a sexta (abre no 1 e fecha no 7)\n",
    "[1:-4] = segunda letra até o nono string (o -4 faz andar da direita pra esquerda, \"pulando o NOCN\")\n",
    "[3:4] = abre no terceiro e fecha no quarto, só cabe uma letra no espaço, que é o A\n",
    "[::-1] = lê o string ao contrário, isto é, da direita para a esquerda\n",
    "[::-2] = além de ler o string ao contrário, o faz de maneira alternada (lê uma letra e pula a seguinte)\n",
    "[::8] = lê a primeira, pula 8 letras e lê a nona\n",
    "[::9]´= lê a primeira, pula 9 letras e lê a décima\n",
    "[-1::4] = lê a primeira da direita para a esquerda\n",
    "[-2::-1] = começa a partir da segunda letra da direita para a esquerda e inverte o string\n",
    "\n",
    "\n"
   ]
  },
  {
   "cell_type": "code",
   "execution_count": null,
   "metadata": {},
   "outputs": [],
   "source": [
    "s = \"ABCDEFGHI\"\n",
    "\n",
    "print (s[-2:-1])\n",
    "print (s[7:6:-1])\n",
    "\n"
   ]
  },
  {
   "cell_type": "code",
   "execution_count": 8,
   "metadata": {},
   "outputs": [
    {
     "name": "stdout",
     "output_type": "stream",
     "text": [
      "Coloque aqui uma palavra: socorram\n",
      "Sua palavra não é um palíndromo\n"
     ]
    }
   ],
   "source": [
    "palavra = input (\"Coloque aqui uma palavra: \")\n",
    "palavra_contrario = palavra [::-1]\n",
    "if palavra == palavra_contrario:\n",
    " print (\"Sua palavra é um palíndromo\")\n",
    "if palavra != palavra_contrario:\n",
    " print (\"Sua palavra não é um palíndromo\")\n"
   ]
  },
  {
   "cell_type": "code",
   "execution_count": 2,
   "metadata": {},
   "outputs": [
    {
     "name": "stdout",
     "output_type": "stream",
     "text": [
      "Digite um horário: 22:10\n",
      "Digite um segundo horário: 21:40\n",
      "0.5\n",
      "30\n",
      "0.5:30\n",
      "30\n",
      "1800\n"
     ]
    }
   ],
   "source": [
    "\n",
    "hora1 = str(input(\"Digite um horário: \"))\n",
    "hora2 = str(input(\"Digite um segundo horário: \"))\n",
    "\n",
    "\n",
    "\n",
    "min1 = int(hora1[:2])*60 + int(hora1[-2:])\n",
    "min2 = int(hora2[:2])*60 + int(hora2[-2:])\n",
    "\n",
    "if min1 > min2:\n",
    "    q = (min1 - min2)/60\n",
    "    r = (min1 - min2)%60 \n",
    "    print (q)\n",
    "    print (r) \n",
    "    print (str(q)+\":\"+str(r))\n",
    "if min2 > min1:\n",
    "    q = (min2 - min1)/60\n",
    "    r = (min2 - min1)%60\n",
    "    print (str(q)+\":\"+str(r))\n",
    "\n",
    "\n",
    "if min1 > min2: \n",
    " print (min1 - min2)\n",
    "if min2 > min1:\n",
    " print (min2 - min1)\n",
    "    \n",
    "seg1 = int(hora1[:2])*60*60 + int(hora1[-2:])*60\n",
    "seg2 = int(hora2[:2])*60*60 + int(hora2[-2:])*60\n",
    "\n",
    "\n",
    "if seg1 > seg2:\n",
    " print (seg1 - seg2)\n",
    "if seg2 > seg1: \n",
    " print (seg2 - seg1)\n"
   ]
  },
  {
   "cell_type": "code",
   "execution_count": 18,
   "metadata": {},
   "outputs": [
    {
     "name": "stdout",
     "output_type": "stream",
     "text": [
      "Digite um número: 3\n",
      "Digite outro número: 4\n",
      "Digite um terceiro número: 3\n",
      "O primeiro lado mede 5.0\n",
      "O terceiro lado mede 4.242640687119285\n",
      "O segundo lado mede 5.0\n",
      "A diagonal mede 5.830951894845301\n"
     ]
    }
   ],
   "source": [
    "a = int(input(\"Digite um número: \"))\n",
    "b = int(input(\"Digite outro número: \"))\n",
    "c = int(input(\"Digite um terceiro número: \"))\n",
    "\n",
    "L1 = (a**2 + b**2)**(1/2)\n",
    "print (\"O primeiro lado mede %s\" %L1)\n",
    "L3 = (a**2 + c**2)**(1/2)\n",
    "print (\"O terceiro lado mede %s\" % L3)\n",
    "L2 = (b**2 + c**2)**(1/2)\n",
    "print (\"O segundo lado mede %s\" %L2)\n",
    "D = (L1**2 + c**2)**(1/2)\n",
    "print (\"A diagonal mede %s\" %D)\n",
    "\n"
   ]
  },
  {
   "cell_type": "code",
   "execution_count": null,
   "metadata": {},
   "outputs": [],
   "source": []
  },
  {
   "cell_type": "code",
   "execution_count": null,
   "metadata": {},
   "outputs": [],
   "source": []
  },
  {
   "cell_type": "code",
   "execution_count": null,
   "metadata": {},
   "outputs": [],
   "source": []
  }
 ],
 "metadata": {
  "kernelspec": {
   "display_name": "Python 3",
   "language": "python",
   "name": "python3"
  },
  "language_info": {
   "codemirror_mode": {
    "name": "ipython",
    "version": 3
   },
   "file_extension": ".py",
   "mimetype": "text/x-python",
   "name": "python",
   "nbconvert_exporter": "python",
   "pygments_lexer": "ipython3",
   "version": "3.7.1"
  }
 },
 "nbformat": 4,
 "nbformat_minor": 2
}
