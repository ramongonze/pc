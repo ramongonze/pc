{
 "cells": [
  {
   "cell_type": "markdown",
   "metadata": {},
   "source": [
    "\n",
    "# 1. Fatiamento de String\n"
   ]
  },
  {
   "cell_type": "code",
   "execution_count": 19,
   "metadata": {},
   "outputs": [
    {
     "name": "stdout",
     "output_type": "stream",
     "text": [
      "201\n",
      "1585\n",
      "2\n",
      "58\n",
      "15\n",
      "5\n",
      "21\n",
      "5585108102\n",
      "5\n",
      "201801585\n"
     ]
    }
   ],
   "source": [
    "s = \"2018015855\"\n",
    "print (s[0:3]) #Resultado do fatiamento do 1o algarismo até o 3o\n",
    "print (s[5:-1]) #Resultado do fatiamento do 5o algarismo até o penúltimo\n",
    "print (s[0]) #Resultado do fatiamento apenas do 1o algarismo\n",
    "print (s[-4:-2]) #Resultado do fatiamento do 4o algarismo da direita para a esquerda até o antepenúltimo algarismo\n",
    "print (s[-5:7]) #Resultado do fatiamento do 5o algarismo da direita para a esquerda até o 7o algarismo da esquerda para a direita\n",
    "print (s[-2]) #Resultado do fatiamento do 2o algarismo da direita para a esquerda\n",
    "print (s[::5]) #Resultado do fatiamento a partir do 5o algarismo\n",
    "print (s[::-1]) #Resultado do fatiamento do último algarismo até o primeiro da direita para a esquerda\n",
    "print (s[-1]) #Resultado do fatiamento do último algarismo\n",
    "print (s[0:-1]) #Resultado do fatiamento do 1o ao penúltimo algarismo"
   ]
  },
  {
   "cell_type": "markdown",
   "metadata": {
    "collapsed": true
   },
   "source": [
    "# 2. Fatiamento de String 2"
   ]
  },
  {
   "cell_type": "code",
   "execution_count": 25,
   "metadata": {},
   "outputs": [
    {
     "name": "stdout",
     "output_type": "stream",
     "text": [
      "H\n",
      "\n"
     ]
    }
   ],
   "source": [
    "s = \"ABCDFGHI\"\n",
    "print (s[-2:-1])"
   ]
  },
  {
   "cell_type": "code",
   "execution_count": 27,
   "metadata": {},
   "outputs": [
    {
     "name": "stdout",
     "output_type": "stream",
     "text": [
      "H\n"
     ]
    }
   ],
   "source": [
    "s = \"ABCDFGHI\"\n",
    "print (s[-2:-3:-1])"
   ]
  },
  {
   "cell_type": "markdown",
   "metadata": {
    "collapsed": true
   },
   "source": [
    "# 3. String de trás pra frente"
   ]
  },
  {
   "cell_type": "code",
   "execution_count": 23,
   "metadata": {},
   "outputs": [
    {
     "name": "stdout",
     "output_type": "stream",
     "text": [
      "Digite seu string: 5995\n",
      "O string é palíndromo\n"
     ]
    }
   ],
   "source": [
    "s = str(input (\"Digite seu string: \"))\n",
    "\n",
    "if s == (s[::-1]):\n",
    "    print (\"O string é palíndromo\")\n",
    "else:\n",
    "    print (\"O string não é palíndromo\")"
   ]
  },
  {
   "cell_type": "markdown",
   "metadata": {
    "collapsed": true
   },
   "source": [
    "# 4. Diferença entre horas"
   ]
  },
  {
   "cell_type": "code",
   "execution_count": 17,
   "metadata": {},
   "outputs": [
    {
     "name": "stdout",
     "output_type": "stream",
     "text": [
      "Digite o primeiro horário na forma XX:XX :  22:41\n",
      "Digite o segundo horário na forma XX:XX :  21:10\n",
      "1\n",
      "31\n",
      "A diferença em horas é  1\n",
      "A difernça em minutos é 91\n",
      "A diferença em segundos é 5460\n"
     ]
    }
   ],
   "source": [
    "a = str = (input(\"Digite o primeiro horário na forma XX:XX : \" \" \"))\n",
    "b = str = (input(\"Digite o segundo horário na forma XX:XX : \" \" \"))\n",
    "c = int(a[0:2])\n",
    "d = int(b[0:2])\n",
    "e = int(a[3:5])\n",
    "f = int(b[3:5])\n",
    "g = c - d\n",
    "h = e - f\n",
    "\n",
    "if g > 0:\n",
    "    print (g) \n",
    "else:\n",
    "    print (-g)\n",
    "if h > 0:\n",
    "    print (h)\n",
    "else:\n",
    "    print (-h)\n",
    "DiferençaEmHoras = g\n",
    "DiferençaEmMinutos = ((g * 60) + h)\n",
    "DiferençaEmSegundos = (((g*60) + h) * 60)\n",
    "print (\"A diferença em horas é \", DiferençaEmHoras)\n",
    "print (\"A difernça em minutos é \", DiferençaEmMinutos)\n",
    "print (\"A diferença em segundos é \", DiferençaEmSegundos)"
   ]
  },
  {
   "cell_type": "markdown",
   "metadata": {},
   "source": [
    "#  5. Diagonais do paralelepípedo"
   ]
  },
  {
   "cell_type": "code",
   "execution_count": 22,
   "metadata": {},
   "outputs": [
    {
     "name": "stdout",
     "output_type": "stream",
     "text": [
      "Digite o valorr da aresta a: 10\n",
      "Digite o valor da aresta b: 20\n",
      "Digite o valor da aresta c: 30\n",
      "L1 =  500 L2 =  1300 L3 =  1000 D =  500.89919145472777\n"
     ]
    }
   ],
   "source": [
    "import math\n",
    "a = int(input(\"Digite o valorr da aresta a: \"))\n",
    "b = int(input(\"Digite o valor da aresta b: \"))\n",
    "c = int(input(\"Digite o valor da aresta c: \")) \n",
    "L1 = ((a*a) + (b*b))\n",
    "L2 = ((b*b) + (c*c))\n",
    "L3 = ((a*a) + (c*c))\n",
    "D = math.sqrt((L1*L1) + (c*c))\n",
    "print (\"L1 = \", L1 ,\"L2 = \", L2, \"L3 = \", L3 , \"D = \", D)"
   ]
  },
  {
   "cell_type": "code",
   "execution_count": null,
   "metadata": {
    "collapsed": true
   },
   "outputs": [],
   "source": []
  }
 ],
 "metadata": {
  "kernelspec": {
   "display_name": "Python 3",
   "language": "python",
   "name": "python3"
  },
  "language_info": {
   "codemirror_mode": {
    "name": "ipython",
    "version": 3
   },
   "file_extension": ".py",
   "mimetype": "text/x-python",
   "name": "python",
   "nbconvert_exporter": "python",
   "pygments_lexer": "ipython3",
   "version": "3.7.1"
  }
 },
 "nbformat": 4,
 "nbformat_minor": 2
}
