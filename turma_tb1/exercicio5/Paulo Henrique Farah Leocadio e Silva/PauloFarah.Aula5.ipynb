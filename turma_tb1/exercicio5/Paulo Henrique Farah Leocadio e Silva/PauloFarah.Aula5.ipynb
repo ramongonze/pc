{
 "cells": [
  {
   "cell_type": "markdown",
   "metadata": {},
   "source": [
    "## EXERCÍCIO 1"
   ]
  },
  {
   "cell_type": "markdown",
   "metadata": {},
   "source": [
    "s= \"2018071178\"\n",
    "s[1:-1]\n",
    "01807117\n",
    "O '1' à esquerda é fechado e conta-se no sentido esquerda- direita e o '-1' à direita é um intervalo aberto e a contagem é feita da direita para esquerda.\n"
   ]
  },
  {
   "cell_type": "markdown",
   "metadata": {},
   "source": [
    "s= \"2018071178\"\n",
    "s[0:4]\n",
    "2018\n",
    "O '0' à esquerda é fechado e conta-se no sentido esquerda-direita e o '4' à direita é um intervalo aberto e a contagem é feita também no sentido esquerda-direita."
   ]
  },
  {
   "cell_type": "markdown",
   "metadata": {},
   "source": [
    "s= \"2018071178\"\n",
    "s[:-1]\n",
    "201807117\n",
    "Como não há nada antes dos dois pontos e o'-1' após eles, isso indica que este será um intervalo aberto e a contagem da posição do número será feita da direita para a esquerda, ignorando, logo, o último número e selecionando os demais na ordem que estão. \n"
   ]
  },
  {
   "cell_type": "markdown",
   "metadata": {},
   "source": [
    "s= \"2018071178\"\n",
    "s[1:]\n",
    "018071178\n",
    "Como há o '1' antes dos dois pontos e é um intervalo fechado, a contagem da posição do número  será feita da esquerda para a direita; como não há nada depois dos dois pontos, isso indica que serão selecionados todos os números a partir da posição 1."
   ]
  },
  {
   "cell_type": "markdown",
   "metadata": {},
   "source": [
    "s=\"2018071178\"\n",
    "s[::1]\n",
    "2018071178\n",
    "Neste caso, o fatiamento acontece da seguinte forma: é selecionado e escrito ( na ordem da esquerda para a direita, porque o número é positivo ) 1 em 1 número."
   ]
  },
  {
   "cell_type": "markdown",
   "metadata": {},
   "source": [
    "s=\"2018071178\"\n",
    "s[::-2]\n",
    "81780\n",
    "Neste caso, o fatiamento aconteceu da seguinte maneira: foi selecionado e escrito ( na ordem da direita para a esquerda, porque o número é negativo) 2 em 2 números."
   ]
  },
  {
   "cell_type": "markdown",
   "metadata": {},
   "source": [
    "s= \"2018071178\"\n",
    "s[-2:-3]\n",
    "Como não há interseção entre [-2:], que é igual a 78, e [-3], que é igual a 2018071, a solução deste fatiamento é vazia.\n",
    "\n",
    "\n"
   ]
  },
  {
   "cell_type": "markdown",
   "metadata": {},
   "source": [
    "s= \"2018071178\"\n",
    "s[-3:]\n",
    "178\n",
    "Neste fatiamento, como há somente o '-3' antes dos dois pontos,indicando intervalo fechado, realiza-se a leitura do posicionamento da direita para a esquerda e selecionam-se os números que estarão a partir da posição '-3'."
   ]
  },
  {
   "cell_type": "markdown",
   "metadata": {},
   "source": [
    "s= \"2018071178\"\n",
    "s[1:-2]\n",
    "0180711\n",
    "Neste fatiamento, o número '1', que está à esquerda, é um intervalo fechado e conta-se da esquerda para a direita a posição do número e realiza-se interseção com o intervalo [:-2] , que é aberto e conta-se a posição do número da direita para a esquerda selecionando o que está à esquerda.\n"
   ]
  },
  {
   "cell_type": "markdown",
   "metadata": {},
   "source": [
    "s= \"2018071178\"\n",
    "s[::-3]\n",
    "8182\n",
    " Neste fatiamento, o '-3' à direita depois dos dois pontos,vai selecionar, da direita para esquerda, 3 em 3 números."
   ]
  },
  {
   "cell_type": "markdown",
   "metadata": {},
   "source": [
    "## EXERCÍCIO 2"
   ]
  },
  {
   "cell_type": "markdown",
   "metadata": {
    "scrolled": true
   },
   "source": [
    "s= \"ABCDEFGHI\"\n",
    "s[7:6:-1]\n",
    "x= 7\n",
    "y= 6 "
   ]
  },
  {
   "cell_type": "markdown",
   "metadata": {},
   "source": [
    "## EXERCÍCIO 3"
   ]
  },
  {
   "cell_type": "code",
   "execution_count": null,
   "metadata": {
    "scrolled": true
   },
   "outputs": [],
   "source": [
    "n = input(\"Digite uma frase ou uma sequência numérica: \")\n",
    "nSemEspaços = n.replace(\" \", \"\")\n",
    "nMinusculo = nSemEspaços.lower()\n",
    "nInvertido = nMinusculo[::-1]\n",
    "if nInvertido == nMinusculo :\n",
    "    print(\"É um palíndromo\")\n",
    "else:\n",
    "    print(\"Não é um palíndromo\")"
   ]
  },
  {
   "cell_type": "markdown",
   "metadata": {},
   "source": [
    "## EXERCÍCIO 4"
   ]
  },
  {
   "cell_type": "code",
   "execution_count": 6,
   "metadata": {
    "scrolled": true
   },
   "outputs": [
    {
     "name": "stdout",
     "output_type": "stream",
     "text": [
      "Digite um horário  (00:00) : 20:45\n",
      "Digite outro horário (00:00): 09:59\n",
      "A diferença em horas e minutos é 11:14\n",
      "A diferença em minutos é 674 minutos\n",
      "A diferença em segundos é 40440 segundos\n"
     ]
    }
   ],
   "source": [
    "while True:\n",
    "    try:\n",
    "        h1 = input(\"Digite um horário  (00:00) : \")\n",
    "        h2 = input(\"Digite outro horário (00:00): \")\n",
    "        diferença =  abs(int(h1[:2]) - int(h2[:2])) ; minutos = abs(int(h1[3:5]) - int(h2[3:5]))\n",
    "        print(\"A diferença em horas e minutos é %d:%d\"%(diferença, minutos))\n",
    "        p = abs(diferença*60 + minutos)\n",
    "        print(\"A diferença em minutos é %d minutos\" %p)\n",
    "        s = abs(p*60)\n",
    "        print(\"A diferença em segundos é %d segundos\" %s)\n",
    "        break\n",
    "    except ValueError:\n",
    "        print(\"Horário inválido! Tente novamente\")"
   ]
  },
  {
   "cell_type": "markdown",
   "metadata": {},
   "source": [
    "## EXECÍCIO 5"
   ]
  },
  {
   "cell_type": "code",
   "execution_count": null,
   "metadata": {
    "scrolled": false
   },
   "outputs": [],
   "source": [
    "a = float(input(\"Digite o primeiro valor : \"))\n",
    "b = float ( input(\"Digite o segundo valor: \"))\n",
    "c = float (input(\"Digite o terceiro valor:  \"))\n",
    "L1 = (a**2 + b**2)**0.5\n",
    "L2 = (b**2 + c**2)**0.5\n",
    "L3 = (a**2 + c**2)**0.5\n",
    "D = (L1**2 + c**2)**0.5\n",
    "print(\"L1 é igual a %f;\" %L1,     \"L2 é igual a %f;\" %L2,    \"L3 é igual a %f;\" %L3,    \"D é igual a %f.\" %D)"
   ]
  },
  {
   "cell_type": "code",
   "execution_count": null,
   "metadata": {},
   "outputs": [],
   "source": []
  }
 ],
 "metadata": {
  "kernelspec": {
   "display_name": "Python 3",
   "language": "python",
   "name": "python3"
  },
  "language_info": {
   "codemirror_mode": {
    "name": "ipython",
    "version": 3
   },
   "file_extension": ".py",
   "mimetype": "text/x-python",
   "name": "python",
   "nbconvert_exporter": "python",
   "pygments_lexer": "ipython3",
   "version": "3.7.1"
  }
 },
 "nbformat": 4,
 "nbformat_minor": 2
}
