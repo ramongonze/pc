{
 "cells": [
  {
   "cell_type": "markdown",
   "metadata": {},
   "source": [
    "# Questão 1"
   ]
  },
  {
   "cell_type": "code",
   "execution_count": 28,
   "metadata": {},
   "outputs": [
    {
     "name": "stdout",
     "output_type": "stream",
     "text": [
      "cas m\n"
     ]
    }
   ],
   "source": [
    "s=\"lucas millard\"\n",
    "print(s[2:7])"
   ]
  },
  {
   "cell_type": "code",
   "execution_count": 32,
   "metadata": {},
   "outputs": [
    {
     "name": "stdout",
     "output_type": "stream",
     "text": [
      "lucas\n"
     ]
    }
   ],
   "source": [
    "print(s[0:5])"
   ]
  },
  {
   "cell_type": "code",
   "execution_count": 30,
   "metadata": {},
   "outputs": [
    {
     "name": "stdout",
     "output_type": "stream",
     "text": [
      "as millar\n"
     ]
    }
   ],
   "source": [
    "print(s[3:12])"
   ]
  },
  {
   "cell_type": "markdown",
   "metadata": {},
   "source": [
    "Nos exemplos acima, Phyton printou os caracteres inseridos dentro do intervalo do string s, selecionado em [x:y],onde x representa a posição do primeiro caractere e y do último caractere a ser printado."
   ]
  },
  {
   "cell_type": "code",
   "execution_count": 36,
   "metadata": {},
   "outputs": [
    {
     "name": "stdout",
     "output_type": "stream",
     "text": [
      "luca\n"
     ]
    }
   ],
   "source": [
    "print(s[:4])"
   ]
  },
  {
   "cell_type": "markdown",
   "metadata": {},
   "source": [
    "No exemplo acima, os caracteres printados foram equivalantes ao intervalo [0:4], o qual o espaço vazio representa o primeiro caracter do string, sendo representado até o 4º caracter"
   ]
  },
  {
   "cell_type": "code",
   "execution_count": 52,
   "metadata": {},
   "outputs": [
    {
     "name": "stdout",
     "output_type": "stream",
     "text": [
      "millard\n"
     ]
    }
   ],
   "source": [
    "print(s[6:])"
   ]
  },
  {
   "cell_type": "markdown",
   "metadata": {},
   "source": [
    "Similar ao exemplo anterior, o exemplo acima representa o intervalo [6:13], o qual o espaço vazio representa o último caracter do string, sendo o 13."
   ]
  },
  {
   "cell_type": "code",
   "execution_count": 35,
   "metadata": {},
   "outputs": [
    {
     "name": "stdout",
     "output_type": "stream",
     "text": [
      "illar\n"
     ]
    }
   ],
   "source": [
    "print(s[7:-1])"
   ]
  },
  {
   "cell_type": "code",
   "execution_count": 50,
   "metadata": {},
   "outputs": [
    {
     "name": "stdout",
     "output_type": "stream",
     "text": [
      "cas milla\n"
     ]
    }
   ],
   "source": [
    "print(s[2:-2])"
   ]
  },
  {
   "cell_type": "markdown",
   "metadata": {},
   "source": [
    "Nos dois exemplos acima, foi printado o fatiamento do string iniciando o intervalo [x:y] no caracter x, finalizando no caracter -y. O sinal negativo representa que a leitura dos caracteres do string será feita no sentido inverso, sendo os caracteres contados então da direita para esquerda, até o número y."
   ]
  },
  {
   "cell_type": "code",
   "execution_count": 57,
   "metadata": {},
   "outputs": [
    {
     "name": "stdout",
     "output_type": "stream",
     "text": [
      "13579\n"
     ]
    }
   ],
   "source": [
    "x=\"123456789\"\n",
    "print(x[::2])"
   ]
  },
  {
   "cell_type": "code",
   "execution_count": 58,
   "metadata": {},
   "outputs": [
    {
     "name": "stdout",
     "output_type": "stream",
     "text": [
      "987654321\n"
     ]
    }
   ],
   "source": [
    "print(x[::-1])"
   ]
  },
  {
   "cell_type": "code",
   "execution_count": 59,
   "metadata": {},
   "outputs": [
    {
     "name": "stdout",
     "output_type": "stream",
     "text": [
      "93\n"
     ]
    }
   ],
   "source": [
    "print(x[::-6])"
   ]
  },
  {
   "cell_type": "markdown",
   "metadata": {},
   "source": [
    "Nos exemplos acima, foi usado um padrão para o fatiamento. Sendo interpretado  [::x] como a frequência com que será lido o string. No caso [::1], será lido a cada 1 caracter. No caso [::2], será lido a cada 2 caracteres e assim em diante. Já com o uso do sinal negativo, segue a mesma lógica, porém o padrão se inicia no sentido da direita para esquerda. Nos exemplos citados, [::-6] podemos interpretar como o string será lido a cada 6 caracteres, iniciando-se a leitura no caracter x, sendo contado a partir da direita."
   ]
  },
  {
   "cell_type": "markdown",
   "metadata": {},
   "source": [
    "# Questão 2"
   ]
  },
  {
   "cell_type": "code",
   "execution_count": 40,
   "metadata": {},
   "outputs": [
    {
     "name": "stdout",
     "output_type": "stream",
     "text": [
      "H\n",
      "H\n"
     ]
    }
   ],
   "source": [
    "s=\"ABCDEFGHI\"\n",
    "print(s[-2:-1]) \n",
    "print(s[7:6:-1]) "
   ]
  },
  {
   "cell_type": "markdown",
   "metadata": {},
   "source": [
    "# Questão 3"
   ]
  },
  {
   "cell_type": "code",
   "execution_count": 39,
   "metadata": {},
   "outputs": [
    {
     "name": "stdout",
     "output_type": "stream",
     "text": [
      " O string é o mesmo lido de trás pra frente\n"
     ]
    }
   ],
   "source": [
    "a = \"anilina\"\n",
    "if a == a[::-1]:\n",
    "    print(\" O string é o mesmo lido de trás pra frente\")"
   ]
  },
  {
   "cell_type": "markdown",
   "metadata": {},
   "source": [
    "# Questão 4"
   ]
  },
  {
   "cell_type": "code",
   "execution_count": 9,
   "metadata": {},
   "outputs": [
    {
     "name": "stdout",
     "output_type": "stream",
     "text": [
      "Primeiro string: 22:40\n",
      "Segundo string: 11:20\n",
      "20\n",
      "11\n"
     ]
    }
   ],
   "source": [
    "a= input(\"Primeiro string: \")\n",
    "b= input(\"Segundo string: \") \n",
    "\n",
    "horaA= (a[0:2]) \n",
    "horaB= (b[0:2]) \n",
    "min1= (a[3:])\n",
    "min2 = (b[3:])\n",
    "diferença1= int(min1) - int(min2)\n",
    "print(diferença1)\n",
    "diferença2 = int(horaA) - int(horaB)\n",
    "print (diferença2)\n",
    "\n"
   ]
  }
 ],
 "metadata": {
  "kernelspec": {
   "display_name": "Python 3",
   "language": "python",
   "name": "python3"
  }
 },
 "nbformat": 4,
 "nbformat_minor": 2
}
