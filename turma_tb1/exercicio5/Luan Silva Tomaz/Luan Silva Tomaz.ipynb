{
 "cells": [
  {
   "cell_type": "markdown",
   "metadata": {},
   "source": [
    "# Luan Silva Tomaz"
   ]
  },
  {
   "cell_type": "markdown",
   "metadata": {},
   "source": [
    "# Lista aula 05"
   ]
  },
  {
   "cell_type": "markdown",
   "metadata": {},
   "source": [
    "# Exercício 01\n",
    "## Dê 10 exemplos de fatiamento de string, mostrando e explicando os resultados. Os exemplos devem cobrir todas possibilidades de fatiamento vistas."
   ]
  },
  {
   "attachments": {
    "tabela.png": {
     "image/png": "[encoded data removed]"
    }
   },
   "cell_type": "markdown",
   "metadata": {},
   "source": [
    "### String = 'LuanSilva'\n",
    "\n",
    "![tabela.png](attachment:tabela.png)\n",
    "\n",
    "\n"
   ]
  },
  {
   "cell_type": "markdown",
   "metadata": {},
   "source": [
    "#### print(String[0:9:0])\n",
    "\n",
    "#### print(Variável[Slot inicial(inclusive):Slot Final(exclusive):Salto])\n",
    "\n",
    "A variável que utilizamos foi a 'String', dado isso, precisamos colocar o slot inicial, que no caso foi '0', pois **no python o primeiro slot começa com '0'** e colocamos o slot final, pórem é necessário destacar que o slot final é **'exclusive'**, ou seja, ele não é incluido, então se queremos imprimir até n letras precisamos colocar 'n+1' como slot final. \n",
    "**obs: importante lembrar que no python, a contagem começa do 0.**"
   ]
  },
  {
   "cell_type": "markdown",
   "metadata": {},
   "source": [
    "#### print(String[0])\n",
    "\n",
    "O resultado será a letra 'L' pois solicitei que a máquina \n",
    "imprimisse a string localizada na posição de memória '0', ou seja, a primeira \n",
    "leta da string dada."
   ]
  },
  {
   "cell_type": "code",
   "execution_count": 28,
   "metadata": {},
   "outputs": [
    {
     "name": "stdout",
     "output_type": "stream",
     "text": [
      "L\n"
     ]
    }
   ],
   "source": [
    "String = 'LuanSilva'\n",
    "print(String[0])"
   ]
  },
  {
   "cell_type": "markdown",
   "metadata": {},
   "source": [
    "#### print(String[0:9])\n",
    "\n",
    "O resultado será a string 'LuanSilva', pois solicitei que a máquina imprimisse a string do slot de memória '0' até o slot de memória '9-1'."
   ]
  },
  {
   "cell_type": "code",
   "execution_count": 29,
   "metadata": {},
   "outputs": [
    {
     "name": "stdout",
     "output_type": "stream",
     "text": [
      "LuanSilva\n"
     ]
    }
   ],
   "source": [
    "String = 'LuanSilva'\n",
    "print(String[0:9])"
   ]
  },
  {
   "cell_type": "markdown",
   "metadata": {},
   "source": [
    "#### print(String[0:-1])\n",
    "\n",
    "Nesse caso, iniciamos a contagem no slot '0' e finalizamos ela no slot '-1'.\n",
    "O slot '-1' representa que desejamos finalizar na primeira casa contando da direita pra esquerda(lembrando que não é imprimido o ultimo slot), então o print terá como resultado 'LuanSilv', visto que o slot '-1' é preenchido pela letra 'a' e o ela não é representada por ser exclusive)."
   ]
  },
  {
   "cell_type": "code",
   "execution_count": 30,
   "metadata": {},
   "outputs": [
    {
     "name": "stdout",
     "output_type": "stream",
     "text": [
      "LuanSilv\n"
     ]
    }
   ],
   "source": [
    "String = 'LuanSilva'\n",
    "print(String[0:-1])"
   ]
  },
  {
   "cell_type": "markdown",
   "metadata": {},
   "source": [
    "#### print(String[ :4])\n",
    "Outra forma de escrever é deixando em branco, pois assim não é necessário especificar qual é o slot inicial, assim, ele parte do primeiro e vai até o quarto, como solicitamos."
   ]
  },
  {
   "cell_type": "code",
   "execution_count": 23,
   "metadata": {},
   "outputs": [
    {
     "name": "stdout",
     "output_type": "stream",
     "text": [
      "Luan\n"
     ]
    }
   ],
   "source": [
    "String = 'LuanSilva'\n",
    "print(String[ :4])"
   ]
  },
  {
   "cell_type": "markdown",
   "metadata": {},
   "source": [
    "#### print(String[5: ])\n",
    "\n",
    "O mesmo caso ocorre aqui, pois não especificamos o ultimo slot, dessa forma, ele irá imprimir do slot 5 até o ultimo slot, o que é bom para ser utilizado quando não sabemos o tamanho das strings."
   ]
  },
  {
   "cell_type": "code",
   "execution_count": 24,
   "metadata": {},
   "outputs": [
    {
     "name": "stdout",
     "output_type": "stream",
     "text": [
      "ilva\n"
     ]
    }
   ],
   "source": [
    "String = 'LuanSilva'\n",
    "print(String[5: ])"
   ]
  },
  {
   "cell_type": "markdown",
   "metadata": {},
   "source": [
    "#### print(String[-6:7])\n",
    "\n",
    "Temos também o caso no qual colocamos o slot inicial como o sinal negativo(contagem da direita para a esquerda), e o final como um slot da esquera para a direita, assim, a string começa no -6(letra 'n') e vai até o slot 7-1(letra l) e como resultado temos nSil, que representa a intercessão entre até -6 pela direita e até 7 tela esquerda."
   ]
  },
  {
   "cell_type": "code",
   "execution_count": 25,
   "metadata": {},
   "outputs": [
    {
     "name": "stdout",
     "output_type": "stream",
     "text": [
      "nSil\n"
     ]
    }
   ],
   "source": [
    "String = 'LuanSilva'\n",
    "print(String[-6:7])"
   ]
  },
  {
   "cell_type": "markdown",
   "metadata": {},
   "source": [
    "#### print(String[ : : 2])\n",
    "\n",
    "Também tem-se a opção 'Salto' que imprime, a partir do slot inicia escolhido, de m em m casas, nesse caso escolhemos 2. Ou seja, a partir do slot 0, a máquina irá imprimir as casas saltando 1 casa."
   ]
  },
  {
   "cell_type": "code",
   "execution_count": 26,
   "metadata": {},
   "outputs": [
    {
     "name": "stdout",
     "output_type": "stream",
     "text": [
      "LaSla\n"
     ]
    }
   ],
   "source": [
    "String = 'LuanSilva'\n",
    "print(String[ : : 2])"
   ]
  },
  {
   "cell_type": "markdown",
   "metadata": {},
   "source": [
    "#### print(String[ : :-1])\n",
    "\n",
    "Outra opção é o salto negativo que imprime os slots da direita para a esquerda, realizando o salto escolhido, que nesse caso foi o -1. Então, a impressão será casa -1, casa -2, casa -3... e teremos como resultado avliSnauL, que é a inversão da string."
   ]
  },
  {
   "cell_type": "code",
   "execution_count": 27,
   "metadata": {},
   "outputs": [
    {
     "name": "stdout",
     "output_type": "stream",
     "text": [
      "avliSnauL\n"
     ]
    }
   ],
   "source": [
    "String = 'LuanSilva'\n",
    "print(String[ : :-1])"
   ]
  },
  {
   "cell_type": "markdown",
   "metadata": {},
   "source": [
    "#### print(String[3: :-2])\n",
    "\n",
    "Usando o mesmo principio da primeira, também podemos escolher a partir de qual string começará o salto, e mudar o tipo de salto que antes era 1 em 1 e agora é 2 em 2."
   ]
  },
  {
   "cell_type": "code",
   "execution_count": 28,
   "metadata": {},
   "outputs": [
    {
     "name": "stdout",
     "output_type": "stream",
     "text": [
      "nu\n"
     ]
    }
   ],
   "source": [
    "String = 'LuanSilva'\n",
    "print(String[3: :-2])"
   ]
  },
  {
   "cell_type": "markdown",
   "metadata": {},
   "source": [
    "#### print(String[2:7:2])\n",
    "\n",
    "Não podemos esquecer também que é possível escolher até qual slot da string vamos imprimir, nesse caso escolhemos o 7, então, será imprimido de 2 em 2, a partir do slot 2, até o slot 6."
   ]
  },
  {
   "cell_type": "code",
   "execution_count": 29,
   "metadata": {},
   "outputs": [
    {
     "name": "stdout",
     "output_type": "stream",
     "text": [
      "aSl\n"
     ]
    }
   ],
   "source": [
    "String = 'LuanSilva'\n",
    "print(String[2:7:2])"
   ]
  },
  {
   "cell_type": "markdown",
   "metadata": {},
   "source": [
    "# Exercício 02\n",
    "##  Se o fatiamento do string s[-2:-1], onde s =\"ABCDEFGHI\"dá como resultado o string H, quais valores de x e y devemos colocar em [x:y:-1] para obter o mesmo resultado de s[-2:-1]?\n"
   ]
  },
  {
   "cell_type": "markdown",
   "metadata": {},
   "source": [
    "A explicação é a que [-2:-1] imprime a partir da -2 que é H até a -1(porém não é imprimido a ultima, assim, a resposta fica 'H'.\n",
    "\n",
    "Já no caso da [x:y:-1], a condição de salto condiciona da direita pra esquerda, então para imprimir só o slot com a letra 'H', devemos iniciar nela e finalizar no slot da 'H'+1, pois como a ultima n é imprimida, o resultado fica H.\n",
    "\n",
    "Então, para obter [x:y:-1] igual a [-2:-1], devemos colocar x igual a -2 e y igual a -3 ."
   ]
  },
  {
   "cell_type": "code",
   "execution_count": 36,
   "metadata": {},
   "outputs": [
    {
     "name": "stdout",
     "output_type": "stream",
     "text": [
      "H\n"
     ]
    }
   ],
   "source": [
    "s = 'ABCDEFGHI'\n",
    "\n",
    "print(s[-2:-1])"
   ]
  },
  {
   "cell_type": "code",
   "execution_count": 35,
   "metadata": {},
   "outputs": [
    {
     "name": "stdout",
     "output_type": "stream",
     "text": [
      "H\n"
     ]
    }
   ],
   "source": [
    "s = 'ABCDEFGHI'\n",
    "\n",
    "print(s[-2:-3:-1])"
   ]
  },
  {
   "cell_type": "markdown",
   "metadata": {},
   "source": [
    "# Exercício 03\n",
    "## Faça um programa Python que leia um string qualquer e verifique, usando só o comando if e funções de manipulação de string, se o string é o mesmo se lido de frente para trás e de trás para frente. Exemplos: \"ogaloeolago\", \"1234321\", etc"
   ]
  },
  {
   "cell_type": "code",
   "execution_count": 8,
   "metadata": {},
   "outputs": [
    {
     "name": "stdout",
     "output_type": "stream",
     "text": [
      "Digite uma String: ab  ba\n",
      "abba\n",
      "A string ab  ba é palíndromo!\n"
     ]
    }
   ],
   "source": [
    "String_03 = str(input('Digite uma String: '))\n",
    "\n",
    "String_03_spc = String_03.replace(' ','')\n",
    "\n",
    "String_invertida = String_03_spc[::-1]\n",
    "\n",
    "print(String_03_spc)\n",
    "\n",
    "if String_03_spc == String_invertida:\n",
    "    print('A string {} é palíndromo!'.format(String_03))\n",
    "else:\n",
    "    print('A string {} não é palíndromo!'.format(String_03))"
   ]
  },
  {
   "cell_type": "markdown",
   "metadata": {},
   "source": [
    "# Exercício 04\n",
    "## Dados dois strings na entrada, no formato de hora mostrado no exemplo abaixo, fazer um programa Python que calcule quantas horas e minutos, quantos minutos e quantos segundos há de diferença entre eles. Exemplo: sejam os strings \"9:34\"e \"21:41\". O programa deve imprimir a diferença em horas e minutos: 12:07, em minutos: 727, e em segundos: 43620."
   ]
  },
  {
   "cell_type": "code",
   "execution_count": 6,
   "metadata": {},
   "outputs": [
    {
     "name": "stdout",
     "output_type": "stream",
     "text": [
      "Digite a hora 1 no seguinte formato [hh:mm]: 2:53\n",
      "Digite a hora 2 no seguinte formato [hh:mm]: 2:58\n",
      "A diferença é: 00:05 \n",
      "e ao todo: 5 minutos e 300 segundos.\n"
     ]
    }
   ],
   "source": [
    "#Validação e inputs\n",
    "Hora_1_ok = False\n",
    "Hora_2_ok = False\n",
    "\n",
    "while Hora_1_ok == False:\n",
    "    Hora_1 = str(input('Digite a hora 1 no seguinte formato [hh:mm]: '))\n",
    "    if len(Hora_1) == 4 or len(Hora_1) == 5:\n",
    "        Hora_1_ok = True\n",
    "    \n",
    "while Hora_2_ok == False:\n",
    "    Hora_2 = str(input('Digite a hora 2 no seguinte formato [hh:mm]: '))\n",
    "    if len(Hora_2) == 4 or len(Hora_2) == 5:\n",
    "        Hora_2_ok = True\n",
    "\n",
    "#Tranformar a str em int para fazer os calculos\n",
    "if len(Hora_1) == 4:\n",
    "    Horas_1 = int(Hora_1[0])\n",
    "    Minutos_1 = int(Hora_1[2:4])\n",
    "if len(Hora_1) == 5:\n",
    "    Horas_1 = int(Hora_1[0:2])\n",
    "    Minutos_1 = int(Hora_1[3:5])\n",
    "\n",
    "Segundo_total_1 = (Horas_1 * 3600) + (Minutos_1 * 60)\n",
    "\n",
    "#Tranformar a str em int para fazer os calculos\n",
    "if len(Hora_2) == 4:\n",
    "    Horas_2 = int(Hora_2[0])\n",
    "    Minutos_2 = int(Hora_2[2:4])\n",
    "if len(Hora_2) == 5:\n",
    "    Horas_2 = int(Hora_2[0:2])\n",
    "    Minutos_2 = int(Hora_2[3:5])\n",
    "\n",
    "Segundo_total_2 = (Horas_2 * 3600) + (Minutos_2 * 60)\n",
    "\n",
    "#Calculo de segundos.\n",
    "if Segundo_total_1 > Segundo_total_2:\n",
    "    Segundo_total = Segundo_total_1 - Segundo_total_2\n",
    "\n",
    "elif Segundo_total_1 < Segundo_total_2:\n",
    "    Segundo_total = Segundo_total_2 - Segundo_total_1\n",
    "\n",
    "else:\n",
    "    Segundo_total = 0\n",
    "    print('Os 2 horários dados são iguais!')\n",
    "    \n",
    "\n",
    "#Calculo de horas\n",
    "Horas_total = (Segundo_total // 3600)\n",
    "\n",
    "\n",
    "#Calculo de minutos\n",
    "Minutos_total = Segundo_total // 60\n",
    "Minutos_hora = ((Segundo_total - (Horas_total * 3600)) // 60)\n",
    "\n",
    "\n",
    "\n",
    "#Resposta\n",
    "print('A diferença é: {:02}:{:02} \\ne ao todo: {} minutos e {} segundos.'.format(Horas_total, Minutos_hora, Minutos_total, Segundo_total))"
   ]
  },
  {
   "cell_type": "markdown",
   "metadata": {},
   "source": [
    "# Exercício 05\n",
    "##  Faça um programa Python para calcular as diagonais principal e de cada face de um paralelepípedo cujos lados a, b e c são dados na entrada."
   ]
  },
  {
   "attachments": {
    "diag.png": {
     "image/png": "[encoded data removed]"
    }
   },
   "cell_type": "markdown",
   "metadata": {},
   "source": [
    "![diag.png](attachment:diag.png)"
   ]
  },
  {
   "cell_type": "markdown",
   "metadata": {},
   "source": [
    "## Da figura acima, temos que:\n",
    " $$ D = \\sqrt{L1^2 + c^2}$$ \n",
    " $$L1 = \\sqrt{a^2 + b^2}$$ \n",
    " $$L2 = \\sqrt{b^2 + c^2}$$\n",
    " $$L3 = \\sqrt{a^2 + c^2}$$"
   ]
  },
  {
   "cell_type": "code",
   "execution_count": 23,
   "metadata": {},
   "outputs": [
    {
     "name": "stdout",
     "output_type": "stream",
     "text": [
      "Digite o lado a: 5\n",
      "Digite o lado b: 5\n",
      "Digite o lado c: 5\n",
      "A diagonal da face ab mede 7.07u.c\n",
      "A diagonal da face ac mede 7.07u.c\n",
      "A diagonal da face bc mede 7.07u.c\n",
      "A diagonal principal  mede 8.66u.c\n"
     ]
    }
   ],
   "source": [
    "\n",
    "while True:\n",
    "    try:\n",
    "        a = float(input('Digite o lado a: '))\n",
    "        b = float(input('Digite o lado b: '))\n",
    "        c = float(input('Digite o lado c: '))\n",
    "        break\n",
    "    except ValueError:\n",
    "        print('Favor digitar valores válidos!')\n",
    "\n",
    "Diag_face_ab = sqrt(a**2 + b**2)  \n",
    "Diag_face_ac = sqrt(a**2 + c**2)\n",
    "Diag_face_bc = sqrt(b**2 + c**2)\n",
    "\n",
    "Diag_principal = sqrt(Diag_face_ab**2 + c**2)\n",
    "\n",
    "print('A diagonal da face ab mede {:.2f}u.c'.format(Diag_face_ab))\n",
    "print('A diagonal da face ac mede {:.2f}u.c'.format(Diag_face_ac))\n",
    "print('A diagonal da face bc mede {:.2f}u.c'.format(Diag_face_bc))\n",
    "print('A diagonal principal  mede {:.2f}u.c'.format(Diag_principal))\n",
    "        "
   ]
  },
  {
   "cell_type": "code",
   "execution_count": null,
   "metadata": {},
   "outputs": [],
   "source": []
  },
  {
   "cell_type": "code",
   "execution_count": null,
   "metadata": {},
   "outputs": [],
   "source": []
  }
 ],
 "metadata": {
  "kernelspec": {
   "display_name": "Python 3",
   "language": "python",
   "name": "python3"
  },
  "language_info": {
   "codemirror_mode": {
    "name": "ipython",
    "version": 3
   },
   "file_extension": ".py",
   "mimetype": "text/x-python",
   "name": "python",
   "nbconvert_exporter": "python",
   "pygments_lexer": "ipython3",
   "version": "3.7.1"
  }
 },
 "nbformat": 4,
 "nbformat_minor": 2
}
