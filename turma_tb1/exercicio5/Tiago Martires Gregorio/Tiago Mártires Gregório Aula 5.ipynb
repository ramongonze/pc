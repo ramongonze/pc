{
 "cells": [
  {
   "cell_type": "markdown",
   "metadata": {},
   "source": [
    "# Exercício 1"
   ]
  },
  {
   "cell_type": "code",
   "execution_count": 2,
   "metadata": {},
   "outputs": [
    {
     "name": "stdout",
     "output_type": "stream",
     "text": [
      "ruz\n"
     ]
    }
   ],
   "source": [
    "s=\"Cruzeiro\"\n",
    "print(s[1:4])"
   ]
  },
  {
   "cell_type": "markdown",
   "metadata": {},
   "source": [
    "O resultado acima ocorreu, pois cada string é guardada de maneira sucessiva na memória, logo, cada caractere tem uma posição (neste caso: 0,1,2,3,4,5,6,7). Ao digitar o comando, pedi que o programa escrevesse os caracteres da string \"Cruzeiro\" iniciando na posição 1, inclusive o 1, até a posição 4, esta última aberta, por isso, o programa printou a posiçao 1,2 e 3.  "
   ]
  },
  {
   "cell_type": "code",
   "execution_count": 3,
   "metadata": {},
   "outputs": [
    {
     "name": "stdout",
     "output_type": "stream",
     "text": [
      "Cruzei\n"
     ]
    }
   ],
   "source": [
    "s=\"Cruzeiro\"\n",
    "print(s[:6])"
   ]
  },
  {
   "cell_type": "markdown",
   "metadata": {},
   "source": [
    "A explicação é análoga à anterior. A única diferença é o fato de que se nada for escrito no primeiro espaço dos colchetes, o programa entende que é para iniciar da posição 0."
   ]
  },
  {
   "cell_type": "code",
   "execution_count": 4,
   "metadata": {},
   "outputs": [
    {
     "name": "stdout",
     "output_type": "stream",
     "text": [
      "ruzeiro\n"
     ]
    }
   ],
   "source": [
    "s=\"Cruzeiro\"\n",
    "print(s[1:])"
   ]
  },
  {
   "cell_type": "markdown",
   "metadata": {},
   "source": [
    "Neste caso, o que difere é o fato de que se nada for escrito no segundo espaço dos colchetes, o programa entende que é para printar até o final da palavra."
   ]
  },
  {
   "cell_type": "code",
   "execution_count": 5,
   "metadata": {},
   "outputs": [
    {
     "name": "stdout",
     "output_type": "stream",
     "text": [
      "Cruzeiro\n"
     ]
    }
   ],
   "source": [
    "s=\"Cruzeiro\"\n",
    "print(s[:])"
   ]
  },
  {
   "cell_type": "markdown",
   "metadata": {},
   "source": [
    "Ocorreu este resultado devido à junção do exemplo 3 com o exemplo 4, ou seja, printou da posição 0 até o final."
   ]
  },
  {
   "cell_type": "code",
   "execution_count": 6,
   "metadata": {},
   "outputs": [
    {
     "name": "stdout",
     "output_type": "stream",
     "text": [
      "rzio\n"
     ]
    }
   ],
   "source": [
    "s=\"Cruzeiro\"\n",
    "print(s[1::2])"
   ]
  },
  {
   "cell_type": "markdown",
   "metadata": {},
   "source": [
    "Este tipo de fatiamento é chamado \"salto\". O que ocorre é que no primeiro espaço do colchete digo de qual posição o programa começará a printar, incluindo tal posisão. No segundo espaço digo até qual posição será printado, porém excluindo essa posição, afinal o intervalo é aberto nesta extremidade (no caso acima, em que nada foi escrito no segundo espaço, o programa vai até o final da string). Na terceira casa, se encontra o \"tamanho\" do salto, ou seja, saltar de 2 em 2 da posição 1 até o final da string."
   ]
  },
  {
   "cell_type": "code",
   "execution_count": 7,
   "metadata": {},
   "outputs": [
    {
     "name": "stdout",
     "output_type": "stream",
     "text": [
      "Czr\n"
     ]
    }
   ],
   "source": [
    "s=\"Cruzeiro\"\n",
    "print(s[::3])"
   ]
  },
  {
   "cell_type": "markdown",
   "metadata": {},
   "source": [
    "A explicação é semelhante, a diferença reside no fato de o salto agora ser de 3 em 3 e, como não há nada escrito no espaço inicial do colchete, o programa começa da posição 0."
   ]
  },
  {
   "cell_type": "code",
   "execution_count": 8,
   "metadata": {},
   "outputs": [
    {
     "name": "stdout",
     "output_type": "stream",
     "text": [
      "uz\n"
     ]
    }
   ],
   "source": [
    "s=\"Cruzeiro\"\n",
    "print(s[2:4])"
   ]
  },
  {
   "cell_type": "markdown",
   "metadata": {},
   "source": [
    "Exemplo semelhante ao primeiro, porém iniciando da posição 2 até a posição 4, excluindo esta."
   ]
  },
  {
   "cell_type": "code",
   "execution_count": 13,
   "metadata": {},
   "outputs": [
    {
     "name": "stdout",
     "output_type": "stream",
     "text": [
      "ro\n"
     ]
    }
   ],
   "source": [
    "s=\"Cruzeiro\"\n",
    "print(s[-2:])"
   ]
  },
  {
   "cell_type": "markdown",
   "metadata": {},
   "source": [
    "A diferença aqui está no sinal negativo. Ele representa a segunda posição, contando a partir da direita da string. Sabendo disso, o que foi pedido para o programa foi que ele printasse da posição -2 até o final."
   ]
  },
  {
   "cell_type": "code",
   "execution_count": 16,
   "metadata": {},
   "outputs": [
    {
     "name": "stdout",
     "output_type": "stream",
     "text": [
      "Cruzei\n"
     ]
    }
   ],
   "source": [
    "s=\"Cruzeiro\"\n",
    "print(s[-8:-2])"
   ]
  },
  {
   "cell_type": "markdown",
   "metadata": {},
   "source": [
    "Explicação análoga à anterior, porém inicinado na oitava posição contando a partir da direita, incluindo essa posição, até a segunda posição contando a partir da direita, excluindo tal."
   ]
  },
  {
   "cell_type": "code",
   "execution_count": 17,
   "metadata": {},
   "outputs": [
    {
     "name": "stdout",
     "output_type": "stream",
     "text": [
      "Cue\n"
     ]
    }
   ],
   "source": [
    "s=\"Cruzeiro\"\n",
    "print(s[:-2:2])"
   ]
  },
  {
   "cell_type": "markdown",
   "metadata": {},
   "source": [
    "O resultado encontrado é uma junção da utilização do sinal \"-\" e do \"salto\". Foi pedido que o programa printasse a posição 0 e tudo aquilo que ao saltar de 2 em 2 aparecesse até a posição 2 contando a partir da direita, porém excluindo tal posição."
   ]
  },
  {
   "cell_type": "markdown",
   "metadata": {},
   "source": [
    "# Exercício 2"
   ]
  },
  {
   "cell_type": "code",
   "execution_count": 21,
   "metadata": {},
   "outputs": [
    {
     "name": "stdout",
     "output_type": "stream",
     "text": [
      "H\n"
     ]
    }
   ],
   "source": [
    "s=\"ABCDEFGHI\"\n",
    "print(s[-2:-3:-1])"
   ]
  },
  {
   "cell_type": "markdown",
   "metadata": {},
   "source": [
    "Devemos substituir o x por -2 e y por -3."
   ]
  },
  {
   "cell_type": "markdown",
   "metadata": {},
   "source": [
    "# Exercício 3"
   ]
  },
  {
   "cell_type": "code",
   "execution_count": 4,
   "metadata": {},
   "outputs": [
    {
     "name": "stdout",
     "output_type": "stream",
     "text": [
      "Digite caracteres e/ou números para analisar se é lido da mesma forma de frente para trás e de trás para frente: 1234321\n",
      " O string é o mesmo se lido de trás para frente ou de frente para trás!\n"
     ]
    }
   ],
   "source": [
    "s=input(\"Digite caracteres e/ou números para analisar se é lido da mesma forma de frente para trás e de trás para frente: \")\n",
    "if s[:]==s[-1::-1]:\n",
    "    print(\" O string é o mesmo se lido de trás para frente ou de frente para trás!\")\n",
    "else:\n",
    "    print(\"O string é diferente se lido de trás para frente ou de frente para trás!\")"
   ]
  },
  {
   "cell_type": "markdown",
   "metadata": {},
   "source": [
    "# Exercício 4"
   ]
  },
  {
   "cell_type": "code",
   "execution_count": 1,
   "metadata": {},
   "outputs": [
    {
     "name": "stdout",
     "output_type": "stream",
     "text": [
      "Digite o primeiro horário no formato de 2 casas para as horas e 2 para os minutos: 09:34\n",
      "Digite o segundo horário no formato de 2 casas para as horas e duas para os minutos: 21:41\n",
      "A diferença em horas é de 12:07 \n",
      "A diferença em minutos é de 727\n",
      "A diferença em segundos é de 43620\n"
     ]
    }
   ],
   "source": [
    "primeiro_horário=str(input(\"Digite o primeiro horário no formato de 2 casas para as horas e 2 para os minutos: \"))\n",
    "segundo_horário=str(input(\"Digite o segundo horário no formato de 2 casas para as horas e duas para os minutos: \"))\n",
    "hs1=int(primeiro_horário[0:2])\n",
    "hs2=int(segundo_horário[0:2])\n",
    "minu1=int(primeiro_horário[3:])\n",
    "minu2=int(segundo_horário[3:])\n",
    "Diferença_hora=abs(hs1-hs2)\n",
    "Diferença_minutos=abs(minu1-minu2) \n",
    "delta_minutos=Diferença_hora*60 + Diferença_minutos\n",
    "seg=(delta_minutos*60)\n",
    "print(\"A diferença em horas é de %d:%02d \" %(Diferença_hora,Diferença_minutos))\n",
    "print(\"A diferença em minutos é de %d\" %delta_minutos)\n",
    "print(\"A diferença em segundos é de %d\" %seg)"
   ]
  },
  {
   "cell_type": "markdown",
   "metadata": {},
   "source": [
    "# Exercício 5"
   ]
  },
  {
   "cell_type": "code",
   "execution_count": 3,
   "metadata": {},
   "outputs": [
    {
     "name": "stdout",
     "output_type": "stream",
     "text": [
      "Digite o valor do primeiro lado: 3\n",
      "Digite o valor do segundo lado: 4\n",
      "Digite o valor do terceiro lado: 5\n",
      "A diagonal da face ab é 5.000000\n",
      "A diagonal da face bc é 6.403124\n",
      "A diagonal da face ac é 5.830952\n",
      "A diagonal principal é 7.071068\n"
     ]
    }
   ],
   "source": [
    "a=float(input(\"Digite o valor do primeiro lado: \"))\n",
    "b=float(input(\"Digite o valor do segundo lado: \"))\n",
    "c=float(input(\"Digite o valor do terceiro lado: \"))\n",
    "L1=(a**2+b**2)**0.5\n",
    "L2=(b**2+c**2)**0.5\n",
    "L3=(a**2+c**2)**0.5\n",
    "D=(L1**2+c**2)**0.5\n",
    "print(\"A diagonal da face ab é %f\"%L1)\n",
    "print(\"A diagonal da face bc é %f\"%L2)\n",
    "print(\"A diagonal da face ac é %f\"%L3)\n",
    "print(\"A diagonal principal é %f\"%D)"
   ]
  },
  {
   "cell_type": "code",
   "execution_count": null,
   "metadata": {},
   "outputs": [],
   "source": []
  }
 ],
 "metadata": {
  "kernelspec": {
   "display_name": "Python 3",
   "language": "python",
   "name": "python3"
  },
  "language_info": {
   "codemirror_mode": {
    "name": "ipython",
    "version": 3
   },
   "file_extension": ".py",
   "mimetype": "text/x-python",
   "name": "python",
   "nbconvert_exporter": "python",
   "pygments_lexer": "ipython3",
   "version": "3.7.1"
  }
 },
 "nbformat": 4,
 "nbformat_minor": 2
}
