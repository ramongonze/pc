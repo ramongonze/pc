{
 "cells": [
  {
   "cell_type": "markdown",
   "metadata": {},
   "source": [
    "# Aula 4 - Exercícios"
   ]
  },
  {
   "cell_type": "markdown",
   "metadata": {},
   "source": [
    "# Questão 1"
   ]
  },
  {
   "cell_type": "code",
   "execution_count": 4,
   "metadata": {},
   "outputs": [
    {
     "name": "stdout",
     "output_type": "stream",
     "text": [
      "Primeiro valor: 51\n",
      "Segundo valor: 51\n",
      "Os números são iguais\n"
     ]
    }
   ],
   "source": [
    "a = int(input(\"Primeiro valor: \"))\n",
    "b = int(input(\"Segundo valor: \"))\n",
    "if a > b:\n",
    "    print(\"O primeiro número é o maior\")\n",
    "if a < b:\n",
    "    print(\"O segundo número é o maior\")\n",
    "if a == b:\n",
    "    print(\"Os números são iguais\")"
   ]
  },
  {
   "cell_type": "markdown",
   "metadata": {},
   "source": [
    "# Questão 2"
   ]
  },
  {
   "cell_type": "code",
   "execution_count": 3,
   "metadata": {},
   "outputs": [
    {
     "name": "stdout",
     "output_type": "stream",
     "text": [
      "Primeiro valor: -58\n",
      "Segundo valor: -12\n",
      "O segundo número é o maior\n"
     ]
    }
   ],
   "source": [
    "a = int(input(\"Primeiro valor: \"))\n",
    "b = int(input(\"Segundo valor: \"))\n",
    "if a > b:\n",
    "    print(\"O primeiro número é o maior\")\n",
    "if a < b:\n",
    "    print(\"O segundo número é o maior\")\n",
    "if a == b:\n",
    "    print(\"Os números são iguais\")"
   ]
  },
  {
   "cell_type": "markdown",
   "metadata": {},
   "source": [
    " No programa \"número maior\", não há erro em caso de número negativo."
   ]
  },
  {
   "cell_type": "code",
   "execution_count": 12,
   "metadata": {},
   "outputs": [
    {
     "name": "stdout",
     "output_type": "stream",
     "text": [
      "Digite a idade do seu carro, em anos: -2\n",
      "Valor inválido, digite novamente\n"
     ]
    }
   ],
   "source": [
    "idade = int(input(\"Digite a idade do seu carro, em anos: \"))\n",
    "if idade < 0:\n",
    "    print(\"Valor inválido, digite novamente\")\n",
    "else:\n",
    "    if idade <= 3:\n",
    "        print(\"Seu carro é novo\")\n",
    "    if idade > 3:\n",
    "        print(\"Seu carro é velho\")"
   ]
  },
  {
   "cell_type": "markdown",
   "metadata": {},
   "source": [
    " No programa \"carro novo\", digitar um valor negativo é considerado na faixa \"<= 3\", então aparece a mensagem \"Seu carro é novo\". Para corrigir, basta englobar todos os números menores que 0 como \"valores inválidos\"."
   ]
  },
  {
   "cell_type": "markdown",
   "metadata": {},
   "source": [
    "# Questão 3"
   ]
  },
  {
   "cell_type": "markdown",
   "metadata": {},
   "source": [
    "Salário de R$ 1500,00 -> Imposto = 1500 - 1000 = 500 -> 500 * 0.2 (20%) = 100 reais"
   ]
  },
  {
   "cell_type": "code",
   "execution_count": 13,
   "metadata": {},
   "outputs": [
    {
     "name": "stdout",
     "output_type": "stream",
     "text": [
      "Digite o salário para calcular o imposto: 1500\n",
      "O salário de R$1500.00 pagará R$100.00 de impostos.\n"
     ]
    }
   ],
   "source": [
    "salário = float(input(\"Digite o salário para calcular o imposto: \"))\n",
    "base_de_cálculo = salário\n",
    "imposto = 0\n",
    "if base_de_cálculo > 3000:\n",
    "    imposto = imposto + ((base_de_cálculo - 3000) * 0.35)\n",
    "    base_de_cálculo = 3000\n",
    "if base_de_cálculo > 1000:\n",
    "    imposto = imposto + ((base_de_cálculo - 1000) * 0.20)\n",
    "print(\"O salário de R$%6.2f pagará R$%6.2f de impostos.\" % (salário,imposto))"
   ]
  },
  {
   "cell_type": "markdown",
   "metadata": {},
   "source": [
    "Salário de R$ 3000,00 -> Imposto: 3000 - 1000 = 2000 -> 2000 * 0.2 (20%) = 400 reais"
   ]
  },
  {
   "cell_type": "code",
   "execution_count": 14,
   "metadata": {},
   "outputs": [
    {
     "name": "stdout",
     "output_type": "stream",
     "text": [
      "Digite o salário para calcular o imposto: 3000\n",
      "O salário de R$3000.00 pagará R$400.00 de impostos.\n"
     ]
    }
   ],
   "source": [
    "salário = float(input(\"Digite o salário para calcular o imposto: \"))\n",
    "base_de_cálculo = salário\n",
    "imposto = 0\n",
    "if base_de_cálculo > 3000:\n",
    "    imposto = imposto + ((base_de_cálculo - 3000) * 0.35)\n",
    "    base_de_cálculo = 3000\n",
    "if base_de_cálculo > 1000:\n",
    "    imposto = imposto + ((base_de_cálculo - 1000) * 0.20)\n",
    "print(\"O salário de R$%6.2f pagará R$%6.2f de impostos.\" % (salário,imposto))"
   ]
  },
  {
   "cell_type": "markdown",
   "metadata": {},
   "source": [
    "Salário de R$ 5000,00 -> 5000 - 3000 = 2000 -> 2000 * 0.35 (35%) = 700 -> 3000 - 1000 = 2000 -> 2000 * 0.2 (20%) = 400 ->\n",
    "                         700 + 400 = 1100 reais"
   ]
  },
  {
   "cell_type": "code",
   "execution_count": 15,
   "metadata": {},
   "outputs": [
    {
     "name": "stdout",
     "output_type": "stream",
     "text": [
      "Digite o salário para calcular o imposto: 5000\n",
      "O salário de R$5000.00 pagará R$1100.00 de impostos.\n"
     ]
    }
   ],
   "source": [
    "salário = float(input(\"Digite o salário para calcular o imposto: \"))\n",
    "base_de_cálculo = salário\n",
    "imposto = 0\n",
    "if base_de_cálculo > 3000:\n",
    "    imposto = imposto + ((base_de_cálculo - 3000) * 0.35)\n",
    "    base_de_cálculo = 3000\n",
    "if base_de_cálculo > 1000:\n",
    "    imposto = imposto + ((base_de_cálculo - 1000) * 0.20)\n",
    "print(\"O salário de R$%6.2f pagará R$%6.2f de impostos.\" % (salário,imposto))"
   ]
  },
  {
   "cell_type": "markdown",
   "metadata": {},
   "source": [
    "# Questão 4"
   ]
  },
  {
   "cell_type": "code",
   "execution_count": 8,
   "metadata": {},
   "outputs": [
    {
     "name": "stdout",
     "output_type": "stream",
     "text": [
      "Digite a categoria: 7\n",
      "Categoria inválida! Digite um valor entre 1 e 5!\n"
     ]
    }
   ],
   "source": [
    "categoria = int(input(\"Digite a categoria: \"))\n",
    "if categoria == 1:\n",
    "    preço = 10\n",
    "elif categoria == 2:\n",
    "    preço = 18\n",
    "elif categoria == 3:\n",
    "    preço = 23\n",
    "elif categoria == 4:\n",
    "    preço == 26\n",
    "elif categoria == 5:\n",
    "    preço = 31\n",
    "elif categoria < 1 or categoria > 5:\n",
    "    print(\"Categoria inválida! Digite um valor entre 1 e 5!\")\n",
    "if categoria >= 1 and categoria <= 5:\n",
    "    print(\"O preço do produto é R$%6.2f\" % preço)"
   ]
  },
  {
   "cell_type": "markdown",
   "metadata": {},
   "source": [
    "# Questão 5"
   ]
  },
  {
   "cell_type": "markdown",
   "metadata": {},
   "source": [
    " Para calcular o menor número entre três inteiros distintos, deve-se, em ordem: pedir a inserção dos três diferentes números, podendo ou não representá-los, no programa, de forma prática, como \"a, b e c\", do primeiro ao último, respectivamente; estabeler uma comparação entre o primeiro e o segundo, de forma \"a < b\"; se for verdade, outra comparação, agora \"a < c\", dirá se o primeiro número é o menor dos três; ainda no caso de \"a < b\", se a segunda comparação, \"a < c\", não se confirmar, então o terceiro número será o menor dos três; continuando o programa, caso se verifique que \"a < b\" não é verdade, segue-se com a pergunta \"b < c\"; se, de fato, o segundo número for menor que o terceiro, ele será o menor dos três; se c < b, então o teceiro número será o menor dos três."
   ]
  },
  {
   "cell_type": "code",
   "execution_count": 1,
   "metadata": {},
   "outputs": [
    {
     "name": "stdout",
     "output_type": "stream",
     "text": [
      "Digite o primeiro número inteiro: 51\n",
      "Digite o segundo número inteiro: 8\n",
      "Digite o terceiro número inteiro: 21\n",
      "O segundo número é o menor\n"
     ]
    }
   ],
   "source": [
    "a = int(input(\"Digite o primeiro número inteiro: \"))\n",
    "b = int(input(\"Digite o segundo número inteiro, diferente do anterior: \"))\n",
    "c = int(input(\"Digite o terceiro número inteiro, diferente dos anteriores: \"))\n",
    "if a < b:\n",
    "    if a < c:\n",
    "        print(\"O primeiro número é o menor\")\n",
    "    else:\n",
    "        print(\"O terceiro número é o menor\")\n",
    "else:\n",
    "    if b < c:\n",
    "        print(\"O segundo número é o menor\")\n",
    "    else:\n",
    "        print(\"O terceiro número é o menor\")"
   ]
  },
  {
   "cell_type": "markdown",
   "metadata": {},
   "source": [
    "# Questão 6"
   ]
  },
  {
   "cell_type": "markdown",
   "metadata": {},
   "source": [
    " Para calcular o maior número ímpar entre três inteiros, deve-se, primeiro, pedir a inserção de três números, podendo ou não representá-los, no programa, de forma prática, como \"a, b e c\", do primeiro ao último, respectivamente. Criemos condições para quatro casos diferentes, um quando os três números forem ímpares, um quando dois números forem ímpares e um for par, um quando apenas um número for ímpar e outro quando nenhum dos números forem ímpares. Para o caso dos três serem ímpares, precisamos comparar se \"a\", o primeiro, é maior que \"b\", o segundo, e maior que \"c\", o terceiro, sendo então o maior ímpar; em caso negativo, comparar se \"b\" é maior do que \"c\", sendo o maior ímpar se confirmado; em último caso, sendo \"c\" maior do que \"b\", será ele o maior ímpar. Precisamos desconsiderar os casos nos quais existe repetição do maior ímpar, imprimindo uma mensagem para inserir novos valores. O próximo caso é quando dois números são ímpares, devendo então compará-los no caso de: \"a\" e \"b\" sendo ímpares, verificando se \"a\" é maior do que \"b\" ou não, o que dirá quem é o maior ímpar; \"a\" e \"c\" sendo ímpares, verificando se \"a\" é maior do que \"c\" ou não, o que dirá quem é o maior ímpar; \"b\" e \"c\" sendo ímpares, verificando se \"b\" é maior do que \"c\" ou não, o que dirá quem é o maior ímpar. Novamente deve-se desconsiderar os casos nos quais os dois valores ímpares são iguais, imprimindo uma mensagem para digitar outros números. Agora, programamos o caso em que apenas um dos três valores é ímpar, sendo esse, obviamente, o maior ímpar. Por último, se nenhum dos números é ímpar, imprimi-se a mensagem de que os valores são pares e é preciso inserir outros que não caiam nessa condição."
   ]
  },
  {
   "cell_type": "code",
   "execution_count": 24,
   "metadata": {},
   "outputs": [
    {
     "name": "stdout",
     "output_type": "stream",
     "text": [
      "Digite um número inteiro: 42347\n",
      "Digite outro número inteiro: 2349\n",
      "Digite outro número inteiro: 342335\n",
      "O terceiro número é o maior ímpar\n"
     ]
    }
   ],
   "source": [
    "a = int(input(\"Digite um número inteiro: \"))\n",
    "b = int(input(\"Digite outro número inteiro: \"))\n",
    "c= int(input(\"Digite outro número inteiro: \"))\n",
    "\n",
    "if a % 2 != 0 and b % 2 != 0 and c % 2 != 0:\n",
    "    if a > b and a > c:\n",
    "        print(\"O primeiro número é o maior ímpar\")\n",
    "    if b > a and b > c:\n",
    "        print(\"O segundo número é o maior ímpar\")\n",
    "    if c > a and c > b:\n",
    "        print(\"O terceiro número é o maior ímpar\")\n",
    "    if a == b == c or a > c and b > c and a == b or a > b and c > b and a == c or b > a and c > a and b == c:\n",
    "        print(\"Números iguais, digite outros valores\")\n",
    "if a % 2 != 0 and b % 2 != 0 and c % 2 == 0:\n",
    "    if a > b:\n",
    "        print(\"O primeiro número é o maior ímpar\")\n",
    "    if b > a:\n",
    "        print(\"O segundo número é o maior ímpar\")\n",
    "    if b == a:\n",
    "        print(\"Números iguais, digite outros valores\")\n",
    "if a % b != 0 and b % 2 == 0 and c % 2 != 0:\n",
    "    if a > c:\n",
    "        print(\"O primeiro número é o maior ímpar\")\n",
    "    if c > a:\n",
    "        print(\"O terceiro número é o maior ímpar\")\n",
    "    if a == c:\n",
    "        print(\"Números iguais, digite outros valores\")\n",
    "if a % 2 == 0 and b % 2 != 0 and c % 2 != 0:\n",
    "    if b > c:\n",
    "        print(\"O segundo número é o maior ímpar\")\n",
    "    if c > b:\n",
    "        print(\"O terceiro número é o maior ímpar\")\n",
    "    if b == c:\n",
    "        print(\"Números iguais, digite outros valores\")\n",
    "if a % 2 != 0 and b % 2 == 0 and c % 2 == 0:\n",
    "    print(\"O primeiro número é o maior ímpar\")\n",
    "if a % 2 == 0 and b % 2 != 0 and c % 2 == 0:\n",
    "    print(\"O segundo número é o maior ímpar\")\n",
    "if a % 2 == 0 and b % 2 == 0 and c % 2 != 0:\n",
    "    print(\"O terceiro número é o maior ímpar\")\n",
    "if a % 2 == 0 and b % 2 == 0 and c % 2 == 0:\n",
    "    print(\"Não há nenhum número ímpar, digite outros valores\")"
   ]
  },
  {
   "cell_type": "markdown",
   "metadata": {},
   "source": [
    "# Questão 7"
   ]
  },
  {
   "cell_type": "code",
   "execution_count": 3,
   "metadata": {},
   "outputs": [
    {
     "name": "stdout",
     "output_type": "stream",
     "text": [
      "Digite o ano a ser considerado: 2019\n",
      "O ano não é bissexto\n"
     ]
    }
   ],
   "source": [
    "ano = int(input(\"Digite o ano a ser considerado: \"))\n",
    "if ano % 4 == 0 and ano % 100 != 0:\n",
    "    print(\"O ano é bissexto\")\n",
    "elif ano % 400 == 0:\n",
    "    print(\"O ano é bissexto\")\n",
    "else:\n",
    "    print(\"O ano não é bissexto\")"
   ]
  },
  {
   "cell_type": "markdown",
   "metadata": {},
   "source": [
    "# Questão 8"
   ]
  },
  {
   "cell_type": "markdown",
   "metadata": {},
   "source": [
    " O primeiro programa foi genuinamente pensado e criado por mim. O segundo, logo abaixo, foi inspirado com a ajuda do aluno Luan Silva Tomaz."
   ]
  },
  {
   "cell_type": "code",
   "execution_count": 6,
   "metadata": {},
   "outputs": [
    {
     "name": "stdout",
     "output_type": "stream",
     "text": [
      "Digite um número real: 51\n",
      "Seu número não está contido no intervalo −∞ < n ≤ −2\n",
      "Seu número não está contido no intervalo −3 ≤ n < −1\n",
      "Seu número não está contido no intervalo 0 < n < 2\n",
      "Seu número não está contido no intervalo 1 < n ≤ 3\n",
      "Seu número está contido no intervalo 4 ≤ n < ∞\n"
     ]
    }
   ],
   "source": [
    "n = float(input(\"Digite um número real: \"))\n",
    "if float(\"-inf\") < n <= float(\"-2\"):\n",
    "    print(\"Seu número está contido no intervalo −∞ < n ≤ −2\")\n",
    "else:\n",
    "    print(\"Seu número não está contido no intervalo −∞ < n ≤ −2\")\n",
    "if float(\"-3\") <= n < float(\"-1\"):\n",
    "    print(\"Seu número está contido no intervalo −3 ≤ n < −1\")\n",
    "else:\n",
    "    print(\"Seu número não está contido no intervalo −3 ≤ n < −1\")\n",
    "if float(\"0\") < n < float(\"2\"):\n",
    "    print(\"Seu número está contido no intervalo 0 < n < 2\")\n",
    "else:\n",
    "    print(\"Seu número não está contido no intervalo 0 < n < 2\")\n",
    "if float(\"1\") < n <= float(\"3\"):\n",
    "    print(\"Seu número está contido no intervalo 1 < n ≤ 3\")\n",
    "else:\n",
    "    print(\"Seu número não está contido no intervalo 1 < n ≤ 3\")\n",
    "if float(\"4\") <= n < float(\"inf\"):\n",
    "    print(\"Seu número está contido no intervalo 4 ≤ n < ∞\")\n",
    "else:\n",
    "    print(\"Seu número não está contido no intervalo 4 ≤ n < ∞\")"
   ]
  },
  {
   "cell_type": "code",
   "execution_count": 25,
   "metadata": {},
   "outputs": [
    {
     "name": "stdout",
     "output_type": "stream",
     "text": [
      "Digite um número real: 1.5\n",
      "Seu número está contido no intervalo 0 < n < 2\n",
      "Seu número está contido no intervalo 1 < n ≤ 3\n"
     ]
    }
   ],
   "source": [
    "n = float(input(\"Digite um número real: \"))\n",
    "Base = 0\n",
    "\n",
    "if float(\"-inf\") < n <= float(\"-2\"):\n",
    "    print(\"Seu número está contido no intervalo −∞ < n ≤ −2\")\n",
    "    Base = Base + 1\n",
    "if float(\"-3\") <= n < float(\"-1\"):\n",
    "    print(\"Seu número está contido no intervalo −3 ≤ n < −1\")\n",
    "    Base = Base + 1\n",
    "if float(\"0\") < n < float(\"2\"):\n",
    "    print(\"Seu número está contido no intervalo 0 < n < 2\")\n",
    "    Base = Base + 1\n",
    "if float(\"1\") < n <= float(\"3\"):\n",
    "    print(\"Seu número está contido no intervalo 1 < n ≤ 3\")\n",
    "    Base = Base + 1\n",
    "if float(\"4\") <= n < float(\"inf\"):\n",
    "    print(\"Seu número está contido no intervalo 4 ≤ n < ∞\")\n",
    "    Base = Base + 1\n",
    "elif Base == 0:\n",
    "    print(\"Seu número não está contido em nenhum dos intervalos\")\n"
   ]
  }
 ],
 "metadata": {
  "kernelspec": {
   "display_name": "Python 3",
   "language": "python",
   "name": "python3"
  },
  "language_info": {
   "codemirror_mode": {
    "name": "ipython",
    "version": 3
   },
   "file_extension": ".py",
   "mimetype": "text/x-python",
   "name": "python",
   "nbconvert_exporter": "python",
   "pygments_lexer": "ipython3",
   "version": "3.7.1"
  }
 },
 "nbformat": 4,
 "nbformat_minor": 2
}
