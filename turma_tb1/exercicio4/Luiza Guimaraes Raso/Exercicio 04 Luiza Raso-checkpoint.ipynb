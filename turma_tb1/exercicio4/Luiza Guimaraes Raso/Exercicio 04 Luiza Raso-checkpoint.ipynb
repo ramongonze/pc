{
 "cells": [
  {
   "cell_type": "markdown",
   "metadata": {},
   "source": [
    "# 1. Programa do número maior"
   ]
  },
  {
   "cell_type": "code",
   "execution_count": 1,
   "metadata": {},
   "outputs": [
    {
     "name": "stdout",
     "output_type": "stream",
     "text": [
      "Primeiro valor: 55\n",
      "Segundo valor: 55\n",
      "Os valores são iguais\n"
     ]
    }
   ],
   "source": [
    "a = int(input(\"Primeiro valor: \"))\n",
    "b = int(input(\"Segundo valor: \"))\n",
    "if a > b:\n",
    "    print (\"O primeiro valor é maior\")\n",
    "    if a < b:\n",
    "        print (\"O primeiro valor é menor\")\n",
    "else: print (\"Os valores são iguais\")"
   ]
  },
  {
   "cell_type": "markdown",
   "metadata": {},
   "source": [
    "# 2. Programa do carro novo"
   ]
  },
  {
   "cell_type": "code",
   "execution_count": 2,
   "metadata": {},
   "outputs": [
    {
     "name": "stdout",
     "output_type": "stream",
     "text": [
      "Digite aqui a idade do seu carro: 55\n",
      "Seu carro é velho\n"
     ]
    }
   ],
   "source": [
    "idade = int(input(\"Digite aqui a idade do seu carro: \"))\n",
    "if idade<=3:\n",
    "    print (\"Seu carro é novo\")\n",
    "if idade>3:\n",
    "    print (\"Seu carro é velho\")"
   ]
  },
  {
   "cell_type": "markdown",
   "metadata": {},
   "source": [
    "Números negativos serão interpretados como menores que 3 e o resultado será que o carro é novo"
   ]
  },
  {
   "cell_type": "code",
   "execution_count": 3,
   "metadata": {},
   "outputs": [
    {
     "name": "stdout",
     "output_type": "stream",
     "text": [
      "Digite o ano de fabricação do seu carro: 1955\n",
      "Seu carro é velho\n"
     ]
    }
   ],
   "source": [
    "ano_de_fabricação=int(input('Digite o ano de fabricação do seu carro: '))\n",
    "idade=2019-ano_de_fabricação\n",
    "if ano_de_fabricação<0:\n",
    "    print (\"Ano de fabricação inválido\")\n",
    "if ano_de_fabricação>0:\n",
    "    if 0<=idade<=3:\n",
    "        print (\"Seu carro é novo\")\n",
    "    if idade>3:\n",
    "        print (\"Seu carro é velho\")\n",
    "    else:\n",
    "        print (\"Ano de fabricação inválido\")"
   ]
  },
  {
   "cell_type": "markdown",
   "metadata": {},
   "source": [
    "# 3. Impostos"
   ]
  },
  {
   "cell_type": "code",
   "execution_count": 1,
   "metadata": {},
   "outputs": [
    {
     "name": "stdout",
     "output_type": "stream",
     "text": [
      "Digite o salário para calcular o imposto: 3000\n",
      "O salário de R$3000.00 pagará R$400.00 de impostos.\n"
     ]
    }
   ],
   "source": [
    "salário = float(input(\"Digite o salário para calcular\"\n",
    "                      \" o imposto: \"))\n",
    "base_de_cálculo = salário\n",
    "imposto = 0\n",
    "if base_de_cálculo > 3000:\n",
    "    imposto = imposto + ((base_de_cálculo - 3000) * 0.35)\n",
    "    base_de_cálculo = 3000\n",
    "if base_de_cálculo > 1000: imposto = imposto + ((base_de_cálculo - 1000)*0.20)\n",
    "print (\"O salário de R$%6.2f pagará R$%6.2f de \"\n",
    "     \"impostos.\" % (salário, imposto))"
   ]
  },
  {
   "cell_type": "markdown",
   "metadata": {},
   "source": [
    "# 4. Categorias"
   ]
  },
  {
   "cell_type": "code",
   "execution_count": null,
   "metadata": {},
   "outputs": [],
   "source": [
    "categoria = int(input(\"Digite a categoria: \"))\n",
    "if categoria < 1 :\n",
    "    print (\"Categoria inválida! Digite um número de 1 a 5\")\n",
    "if categoria > 5 :\n",
    "    print (\"Categoria inválida! Digite um número entre 1 e 5\")\n",
    "if categoria == 1:\n",
    "    preço = 10\n",
    "    print (\"O preço do produto é R$ %6.2f\" % preço) \n",
    "else:\n",
    "    if categoria == 2:\n",
    "        preço = 18\n",
    "        print (\"O preço do produto é R$ %6.2f\" % preço) \n",
    "    else:\n",
    "        if categoria ==3:\n",
    "            preço = 23\n",
    "            print (\"O preço do produto é R$ %6.2f\" % preço) \n",
    "        else:\n",
    "            if categoria == 4:\n",
    "                preço = 26\n",
    "                print (\"O preço do produto é R$ %6.2f\" % preço) \n",
    "            else:\n",
    "                if categoria == 5:\n",
    "                    preço = 36\n",
    "                    print (\"O preço do produto é R$ %6.2f\" % preço) "
   ]
  },
  {
   "cell_type": "markdown",
   "metadata": {},
   "source": [
    "# 5. Menor número com 3 comparações"
   ]
  },
  {
   "cell_type": "code",
   "execution_count": 2,
   "metadata": {},
   "outputs": [
    {
     "name": "stdout",
     "output_type": "stream",
     "text": [
      "Digite o primeiro valor: 9\n",
      "Digite o segundo valor: 6\n",
      "Digite o terceiro valor: 12\n",
      "12 é o maior valor\n"
     ]
    }
   ],
   "source": [
    "a = int(input(\"Digite o primeiro valor: \"))\n",
    "b = int(input(\"Digite o segundo valor: \"))\n",
    "c = int(input(\"Digite o terceiro valor: \"))\n",
    "if a > b and a > c:\n",
    "    print (\"%i é o maior valor\" % a)\n",
    "else:\n",
    "    if b > a and b > c:\n",
    "        print (\"%i é o maior valor\" % b)\n",
    "    else:\n",
    "        if c > a and c > b:\n",
    "            print (\"%i é o maior valor\" % c)"
   ]
  },
  {
   "cell_type": "markdown",
   "metadata": {},
   "source": [
    "# 6. Maior número ímpar"
   ]
  },
  {
   "cell_type": "code",
   "execution_count": 3,
   "metadata": {},
   "outputs": [
    {
     "name": "stdout",
     "output_type": "stream",
     "text": [
      "Digite o primeiro valor: 57\n",
      "Digite o segundo valor: 51\n",
      "Digite o terceiro valor: 23\n",
      "57 é o maior valor\n"
     ]
    }
   ],
   "source": [
    "a = int(input(\"Digite o primeiro valor: \"))\n",
    "if not a%2==0:\n",
    "   b = int(input(\"Digite o segundo valor: \"))\n",
    "else:\n",
    "    print(\"o número não é ímpar\")\n",
    "if not b%2==0:\n",
    "    c = int(input(\"Digite o terceiro valor: \"))\n",
    "else:\n",
    "    print(\"o número não é ímpar\")\n",
    "if c%2==0:\n",
    "    print (\"o número não é impar\")\n",
    "else:\n",
    "    if a > b and a > c :\n",
    "        print(\"%i é o maior valor\" % a)\n",
    "    else:\n",
    "        if b > a and b > c:\n",
    "            print (\"%i é o maior valor\" % b)\n",
    "        else:\n",
    "            if c > a and c > b:\n",
    "                print (\"%i é o maior valor\" % c)\n"
   ]
  },
  {
   "cell_type": "markdown",
   "metadata": {},
   "source": [
    "# 7. Ano bissexto"
   ]
  },
  {
   "cell_type": "code",
   "execution_count": 7,
   "metadata": {},
   "outputs": [
    {
     "name": "stdout",
     "output_type": "stream",
     "text": [
      "Digite o ano: -96\n",
      "Digite um ano válido\n"
     ]
    }
   ],
   "source": [
    "ano = int(input(\"Digite o ano: \"))\n",
    "if ano < 0:\n",
    "    print (\"Digite um ano válido\")\n",
    "else:\n",
    "    if ano%4==0:\n",
    "        print (\"O ano é bissexto\")\n",
    "    else:\n",
    "        print (\"O ano não é bissexto\")"
   ]
  },
  {
   "cell_type": "markdown",
   "metadata": {},
   "source": [
    "# 8. Número Real"
   ]
  },
  {
   "cell_type": "code",
   "execution_count": 13,
   "metadata": {},
   "outputs": [
    {
     "name": "stdout",
     "output_type": "stream",
     "text": [
      "Digite um número: 2\n",
      "2 está entre 1 e 3\n"
     ]
    }
   ],
   "source": [
    "import math\n",
    "n = int(input(\"Digite um número: \"))\n",
    "if math.inf < n and n <= -2:\n",
    "    print (\"%i está entre infinito e -2\" % n)\n",
    "else:\n",
    "    if -3 < n and n < -1:\n",
    "        print (\"%i está entre -3 e -1\" % n)\n",
    "    else:\n",
    "        if 0 < n and n < 2:\n",
    "            print (\"%i está entre 0 e 2\" % n)\n",
    "        else:\n",
    "            if 1 < n and n <= 3: \n",
    "                print(\"%i está entre 1 e 3\" % n)\n",
    "            else: \n",
    "                if 4 <= n and n < math.inf:\n",
    "                    print(\"%i está entre 4 e infinito\" % n)\n",
    "                else:\n",
    "                    print(\"%i não está em nenhum dos intervalos\" % n)"
   ]
  },
  {
   "cell_type": "code",
   "execution_count": null,
   "metadata": {},
   "outputs": [],
   "source": []
  },
  {
   "cell_type": "code",
   "execution_count": null,
   "metadata": {},
   "outputs": [],
   "source": []
  }
 ],
 "metadata": {
  "kernelspec": {
   "display_name": "Python 3",
   "language": "python",
   "name": "python3"
  },
  "language_info": {
   "codemirror_mode": {
    "name": "ipython",
    "version": 3
   },
   "file_extension": ".py",
   "mimetype": "text/x-python",
   "name": "python",
   "nbconvert_exporter": "python",
   "pygments_lexer": "ipython3",
   "version": "3.7.1"
  }
 },
 "nbformat": 4,
 "nbformat_minor": 2
}
