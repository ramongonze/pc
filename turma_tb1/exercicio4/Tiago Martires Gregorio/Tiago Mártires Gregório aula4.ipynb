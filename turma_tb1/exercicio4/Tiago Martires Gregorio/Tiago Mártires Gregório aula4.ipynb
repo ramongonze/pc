{
 "cells": [
  {
   "cell_type": "markdown",
   "metadata": {},
   "source": [
    "# Exercício 1"
   ]
  },
  {
   "cell_type": "code",
   "execution_count": 3,
   "metadata": {},
   "outputs": [
    {
     "name": "stdout",
     "output_type": "stream",
     "text": [
      "Digite o primeiro valor: 11.4\n",
      "Digite o segundo valor: 11.4\n",
      "Os valores digitados são iguais\n"
     ]
    }
   ],
   "source": [
    "primeiro_valor=float(input(\"Digite o primeiro valor: \"))\n",
    "segundo_valor=float(input(\"Digite o segundo valor: \"))\n",
    "if primeiro_valor>segundo_valor:\n",
    "    print(\"O primeiro valor é o maior.\")\n",
    "elif primeiro_valor<segundo_valor:\n",
    "    print(\"O segundo valor é o maior.\")\n",
    "elif primeiro_valor==segundo_valor:\n",
    "    print(\"Os valores digitados são iguais\")"
   ]
  },
  {
   "cell_type": "markdown",
   "metadata": {},
   "source": [
    "# Exercício 2\n"
   ]
  },
  {
   "cell_type": "code",
   "execution_count": 11,
   "metadata": {},
   "outputs": [
    {
     "name": "stdout",
     "output_type": "stream",
     "text": [
      " Digite o primeiro valor: -1\n",
      " Digite o segundo valor: -3\n",
      "O primeiro número é maior\n"
     ]
    }
   ],
   "source": [
    "a=int(input(\" Digite o primeiro valor: \"))\n",
    "b=int(input(\" Digite o segundo valor: \"))\n",
    "if a>b:\n",
    "    print(\"O primeiro número é maior\")\n",
    "if a<b:\n",
    "    print(\"O segundo número é maior\")\n",
    "    "
   ]
  },
  {
   "cell_type": "code",
   "execution_count": 15,
   "metadata": {},
   "outputs": [
    {
     "name": "stdout",
     "output_type": "stream",
     "text": [
      "Digite a idade do seu carro: -1\n",
      "O valor digitado não é válido, digite um valor maior que 0. \n"
     ]
    }
   ],
   "source": [
    "idade=int(input(\"Digite a idade do seu carro: \"))\n",
    "if 0<idade<=3:\n",
    "    print(\"O seu carro é novo\")\n",
    "elif idade>3:\n",
    "    print(\"O seu carro é velho\")\n",
    "else:\n",
    "    print(\"O valor digitado não é válido, digite um valor maior que 0. \")"
   ]
  },
  {
   "cell_type": "markdown",
   "metadata": {},
   "source": [
    "# Exercício 3"
   ]
  },
  {
   "cell_type": "code",
   "execution_count": 18,
   "metadata": {},
   "outputs": [
    {
     "name": "stdout",
     "output_type": "stream",
     "text": [
      "Digite o salário para calcular o imposto: 1500\n",
      "O salário de 1500.00 pagará 100.00 de impostos\n"
     ]
    }
   ],
   "source": [
    "salário=float(input(\"Digite o salário para calcular o imposto: \"))\n",
    "base_de_cálculo=salário\n",
    "imposto=0\n",
    "if base_de_cálculo>3000:\n",
    "    imposto=imposto+((base_de_cálculo-3000)*0.35)\n",
    "    base_de_cálculo=3000\n",
    "if base_de_cálculo>1000:\n",
    "    imposto=imposto+((base_de_cálculo-1000)*0.20)\n",
    "    base_de_calculo=1000\n",
    "print(\"O salário de %6.2f pagará %6.2f de impostos\" %(salário,imposto))\n",
    "    "
   ]
  },
  {
   "cell_type": "code",
   "execution_count": 19,
   "metadata": {},
   "outputs": [
    {
     "name": "stdout",
     "output_type": "stream",
     "text": [
      "Digite o salário para calcular o imposto: 3000\n",
      "O salário de 3000.00 pagará 400.00 de impostos\n"
     ]
    }
   ],
   "source": [
    "salário=float(input(\"Digite o salário para calcular o imposto: \"))\n",
    "base_de_cálculo=salário\n",
    "imposto=0\n",
    "if base_de_cálculo>3000:\n",
    "    imposto=imposto+((base_de_cálculo-3000)*0.35)\n",
    "    base_de_cálculo=3000\n",
    "if base_de_cálculo>1000:\n",
    "    imposto=imposto+((base_de_cálculo-1000)*0.20)\n",
    "    base_de_calculo=1000\n",
    "print(\"O salário de %6.2f pagará %6.2f de impostos\" %(salário,imposto))\n",
    "    "
   ]
  },
  {
   "cell_type": "code",
   "execution_count": 20,
   "metadata": {},
   "outputs": [
    {
     "name": "stdout",
     "output_type": "stream",
     "text": [
      "Digite o salário para calcular o imposto: 5000\n",
      "O salário de 5000.00 pagará 1100.00 de impostos\n"
     ]
    }
   ],
   "source": [
    "salário=float(input(\"Digite o salário para calcular o imposto: \"))\n",
    "base_de_cálculo=salário\n",
    "imposto=0\n",
    "if base_de_cálculo>3000:\n",
    "    imposto=imposto+((base_de_cálculo-3000)*0.35)\n",
    "    base_de_cálculo=3000\n",
    "if base_de_cálculo>1000:\n",
    "    imposto=imposto+((base_de_cálculo-1000)*0.20)\n",
    "    base_de_calculo=1000\n",
    "print(\"O salário de %6.2f pagará %6.2f de impostos\" %(salário,imposto))\n",
    "    "
   ]
  },
  {
   "cell_type": "markdown",
   "metadata": {},
   "source": [
    "# Exercício 4"
   ]
  },
  {
   "cell_type": "code",
   "execution_count": 29,
   "metadata": {},
   "outputs": [
    {
     "name": "stdout",
     "output_type": "stream",
     "text": [
      "Digite a categoria: -1\n",
      "Categoria inválida, digite um valor entre 1 e 5!\n"
     ]
    }
   ],
   "source": [
    "categoria=int(input(\"Digite a categoria: \"))\n",
    "if categoria==1:\n",
    " preço=10\n",
    "elif categoria==2:\n",
    " preço=18\n",
    "elif categoria==3:\n",
    " preço=23\n",
    "elif categoria==4:\n",
    " preço=26\n",
    "elif categoria==5:\n",
    " preço=31 \n",
    "if categoria!=1 and categoria!=2 and categoria!=3 and categoria!=4 and categoria!=5:\n",
    "    print(\"Categoria inválida, digite um valor entre 1 e 5!\")\n",
    "else:\n",
    "    print(\"O preço do produto é %6.2f\" %preço)"
   ]
  },
  {
   "cell_type": "markdown",
   "metadata": {},
   "source": [
    "# Exercício 5\n"
   ]
  },
  {
   "cell_type": "markdown",
   "metadata": {},
   "source": [
    "## Algoritmo"
   ]
  },
  {
   "cell_type": "markdown",
   "metadata": {},
   "source": [
    "Digite:\"Digite o valor do primeiro número inteiro: \"\n",
    "\n",
    "Armazenar como primeiro_inteiro\n",
    "\n",
    "Digite:\"Digite o valor do segundo número inteiro: \"\n",
    "\n",
    "Armazenar como segundo_inteiro\n",
    "\n",
    "Digite:\"Digite o valor do terceiro número inteiro: \"\n",
    "\n",
    "Armazenar como terceiro_inteiro\n",
    "\n",
    "Comparar\n",
    "\n",
    "1. Se o primeiro inteiro for menor do que o segundo inteiro:\n",
    " \n",
    " \n",
    " 1.1 Se o primeiro inteiro for menor do que o terceiro inteiro:\n",
    " \n",
    " \n",
    "    1.2 Digite:\"O primeiro é o menor.\"\n",
    " \n",
    " \n",
    " 1.3 Do contrário(else)\n",
    " \n",
    " \n",
    "    1.4 Digite:\"O terceiro é o menor.\"\n",
    "\n",
    "\n",
    "2. Se o segundo for menor que o terceiro:\n",
    " \n",
    " \n",
    "       Digite(\"O segundo é o menor)\n",
    "\n",
    "\n",
    "3. Do contrário(else):\n",
    " \n",
    "   \n",
    "       Digite:\"O terceiro é o menor.\"\n"
   ]
  },
  {
   "cell_type": "markdown",
   "metadata": {},
   "source": [
    "## Programa Python"
   ]
  },
  {
   "cell_type": "code",
   "execution_count": 10,
   "metadata": {},
   "outputs": [
    {
     "name": "stdout",
     "output_type": "stream",
     "text": [
      "Digite o valor do primeiro número inteiro: 0\n",
      "Digite o valor do segundo número inteiro: 1\n",
      "Digite o valor do terceiro número inteiro: -1\n",
      "O terceiro é o menor.\n"
     ]
    }
   ],
   "source": [
    "primeiro_inteiro=int(input(\"Digite o valor do primeiro número inteiro: \"))\n",
    "segundo_inteiro=int(input(\"Digite o valor do segundo número inteiro: \"))\n",
    "terceiro_inteiro=int(input(\"Digite o valor do terceiro número inteiro: \"))\n",
    "if primeiro_inteiro<segundo_inteiro:\n",
    "    if primeiro_inteiro<terceiro_inteiro:\n",
    "        print(\"O primeiro é o menor.\")\n",
    "    else:\n",
    "        print(\"O terceiro é o menor.\")\n",
    "elif segundo_inteiro<terceiro_inteiro:\n",
    "    print(\"O segundo é o menor.\")\n",
    "else:    \n",
    "    print(\"O terceiro é o menor.\")\n",
    " \n",
    " "
   ]
  },
  {
   "cell_type": "markdown",
   "metadata": {},
   "source": [
    "# Exercício 6"
   ]
  },
  {
   "cell_type": "markdown",
   "metadata": {},
   "source": [
    "## Algoritmo"
   ]
  },
  {
   "cell_type": "markdown",
   "metadata": {},
   "source": [
    "Digite:\"Digite o primeiro número inteiro: \"\n",
    "\n",
    "Armazenar como primeiro_valor\n",
    "\n",
    "Digite:\"Digite o segundo número inteiro e distinto: \"\n",
    "\n",
    "Armazenar como segundo_valor\n",
    "\n",
    "Digite:\"Digite o terceiro número inteiro e distinto: \"\n",
    "\n",
    "Armazenar como terceiro_valor\n",
    "\n",
    "1. Dividir os números digitados por 2 e multiplicar o quociente desta divisão por 2. Se o resultado for o número inicial digitado este número é par, do contrário, é ímpar.\n",
    "\n",
    "2. Se os três números forem ímpares:\n",
    "  \n",
    "  2.1 Compare os 3 inteiros\n",
    "  \n",
    "  2.2 Se o primeiro valor for maior que o segundo valor e maior que o terceiro:\n",
    "   \n",
    "     \n",
    "      \n",
    "      2.3 Digite:\"O primeiro é o maior inteiro ímpar\"\n",
    " \n",
    " \n",
    " \n",
    " 2.4 Se o primeiro valor for maior do que o segundo valor e menor que o terceiro ou primeiro valor<segundo valor<terceiro valor:\n",
    "    \n",
    "     \n",
    "     2.5 Digite:\"O terceiro é o maior inteiro ímpar\"\n",
    "  \n",
    "  \n",
    "  2.6 Do contrário(else):\n",
    "    \n",
    "    \n",
    "    2.7 Digite:\"O segundo é o maior inteiro ímpar\"\n",
    "\n",
    "3. Se o primeiro e o segundo forem ímpares:\n",
    " \n",
    " 3.1 Compare\n",
    " \n",
    " 3.2 Se o primeiro for maior que o segundo:\n",
    "   \n",
    "   \n",
    "       3.3 Digite:\"O primeiro é o maior inteiro ímpar\"\n",
    " \n",
    " \n",
    " \n",
    " 3.4 Do contrário(else):\n",
    "   \n",
    "   \n",
    "    3.5 Digite:\"O segundo é o maior inteiro ímpar\"\n",
    "\n",
    "\n",
    "4. Se o primeiro e o terceiro forem ímpares:\n",
    " \n",
    " 4.1 Compare\n",
    " \n",
    " 4.2 Se o primeiro for maior que o terceiro:\n",
    "   \n",
    "      \n",
    "      4.3 Digite:\"O primeiro é o maior inteiro ímpar\"\n",
    " \n",
    " \n",
    " 4.4 Do contrário(else):\n",
    "   \n",
    "     \n",
    "     4.5 Digite:\"O terceiro é o maior inteiro ímpar\"\n",
    "\n",
    "\n",
    "5. Se o segundo e o terceiro forem ímpares:\n",
    " \n",
    " 5.1 Compare\n",
    " \n",
    "\n",
    "5.2 Se o segundo for maior que o terceiro:\n",
    "   \n",
    "   \n",
    "   \n",
    "     5.3 Digite:\"O segundo é o maior inteiro ímpar\"\n",
    " \n",
    " \n",
    " \n",
    " 5.4 Do contrário(else):\n",
    "   \n",
    "  \n",
    "    5.5 Digite:\"O terceiro é o maior inteiro ímpar\"\n",
    "\n",
    "\n",
    "6. Se apenas o primeiro for ímpar:\n",
    "  \n",
    "  6.1 Digite:\"O primeiro é o maior interiro ímpar\"\n",
    "\n",
    "7. Se apenas o segundo for ímpar:\n",
    "  \n",
    "  7.1 Digite:\"O segundo é o maior inteiro ímpar\"\n",
    "\n",
    "8. Se apenas o terceiro for ímpar:\n",
    "  \n",
    "  8.1 Digite:\"O terceiro é o maior inteiro ímpar\"\n",
    "\n",
    "9. Se nada anteriormente ocorrer(else):\n",
    "  \n",
    "  9.1 Digite:\"Nenhum dos números é ímpar, logo,não posso compará-los\""
   ]
  },
  {
   "cell_type": "markdown",
   "metadata": {},
   "source": [
    "## Programa python utilizando o algoritmo acima"
   ]
  },
  {
   "cell_type": "code",
   "execution_count": 13,
   "metadata": {},
   "outputs": [
    {
     "name": "stdout",
     "output_type": "stream",
     "text": [
      "Digite o primeiro número inteiro: 1\n",
      "Digite o segundo número inteiro e distinto: 4\n",
      "Digite o terceiro número inteiro e distinto: -5\n",
      "O primeiro é o maior inteiro ímpar\n"
     ]
    }
   ],
   "source": [
    "primeiro_valor=int(input(\"Digite o primeiro número inteiro: \"))\n",
    "segundo_valor=int(input(\"Digite o segundo número inteiro e distinto: \"))\n",
    "terceiro_valor=int(input(\"Digite o terceiro número inteiro e distinto: \"))\n",
    "if (primeiro_valor//2)*2!=primeiro_valor and (segundo_valor//2)*2!=segundo_valor and (terceiro_valor//2)*2!=terceiro_valor:\n",
    " if primeiro_valor>segundo_valor and primeiro_valor>terceiro_valor:\n",
    "  print(\"O primeiro é o maior inteiro ímpar\")\n",
    " elif (primeiro_valor>segundo_valor and primeiro_valor<terceiro_valor) or (primeiro_valor<segundo_valor<terceiro_valor):\n",
    "  print(\"O terceiro é o maior inteiro ímpar\")\n",
    " else:\n",
    "  print(\"O segundo é o maior inteiro ímpar\")\n",
    "elif (primeiro_valor//2)*2!=primeiro_valor and (segundo_valor//2)*2!=segundo_valor and (terceiro_valor//2)*2==terceiro_valor:\n",
    "  if primeiro_valor>segundo_valor:\n",
    "   print(\"O primeiro é o maior inteiro ímpar\")\n",
    "  else:\n",
    "   print(\"O segundo é o maior inteiro ímpar\")\n",
    "elif (primeiro_valor//2)*2!=primeiro_valor and (segundo_valor//2)*2==segundo_valor and (terceiro_valor//2)*2!=terceiro_valor:\n",
    " if primeiro_valor>terceiro_valor:\n",
    "  print(\"O primeiro é o maior inteiro ímpar\")\n",
    " else:\n",
    "  print(\"O terceiro é o maior ímpar.\")\n",
    "elif (primeiro_valor)//2*2==primeiro_valor and (segundo_valor)//2*2!=segundo_valor and (terceiro_valor//2)*2!=terceiro_valor:\n",
    "  if segundo_valor>terceiro_valor:\n",
    "   print(\"O segundo é o maior valor ímpar\")\n",
    "  else:\n",
    "   print(\"O terceiro é o maior inteiro ímpar\")\n",
    "elif (primeiro_valor//2)*2!=primeiro_valor and (segundo_valor//2)*2==segundo_valor and (terceiro_valor//2)*2==terceiro_valor:\n",
    " print(\"O primeiro é o maior inteiro ímpar\")\n",
    "elif (primeiro_valor//2)*2==primeiro_valor and (segundo_valor)//2*2!=segundo_valor and (terceiro_valor//2)*2==terceiro_valor:\n",
    " print(\"O segundo é o maior inteiro ímpar\")\n",
    "elif (primeiro_valor//2)*2==primeiro_valor and (segundo_valor//2)*2==segundo_valor and (terceiro_valor//2)*2!=terceiro_valor:\n",
    "    print(\"O terceiro é o maior inteiro ímpar\")\n",
    "else:\n",
    "    print(\"Nenhum dos números é ímpar, logo, não posso compará-los\")\n",
    "    \n",
    "    \n",
    " "
   ]
  },
  {
   "cell_type": "markdown",
   "metadata": {},
   "source": [
    "# Exercício 7"
   ]
  },
  {
   "cell_type": "code",
   "execution_count": 3,
   "metadata": {},
   "outputs": [
    {
     "name": "stdout",
     "output_type": "stream",
     "text": [
      "Digite o ano para saber se ele é bissexto:2016\n",
      "O ano é bissexto\n"
     ]
    }
   ],
   "source": [
    "ano=int(input(\"Digite o ano para saber se ele é bissexto:\"))\n",
    "if ano%400==0:\n",
    "    print(\"O ano é bissexto.\")\n",
    "elif ano%4==0 and ano%100!=0:\n",
    "    print(\"O ano é bissexto\")\n",
    "else:\n",
    "    print(\"O ano não é bissexto\")    "
   ]
  },
  {
   "cell_type": "markdown",
   "metadata": {},
   "source": [
    "# Exercício 8"
   ]
  },
  {
   "cell_type": "code",
   "execution_count": 4,
   "metadata": {},
   "outputs": [
    {
     "name": "stdout",
     "output_type": "stream",
     "text": [
      "Digite um número para saber em qual ou quais intervalos ele se encontra: -3\n",
      "O número se encontra no intervalo (-∞,-2]\n",
      "O número se encontra no intervalo [-3,-1)\n"
     ]
    }
   ],
   "source": [
    "número_digitado=float(input(\"Digite um número para saber em qual ou quais intervalos ele se encontra: \"))\n",
    "if float(\"-inf\")<número_digitado<=-2:\n",
    "    print(\"O número se encontra no intervalo (-∞,-2]\")\n",
    "if -3<=número_digitado<-1:\n",
    "    print(\"O número se encontra no intervalo [-3,-1)\")\n",
    "if 0<número_digitado<2:\n",
    "    print(\"O número se encontra no intervalo (0,2)\")\n",
    "if 1<número_digitado<=3:\n",
    "    print(\"O número se encontra no intervalo (1,3])\")\n",
    "if 4<=número_digitado<float(\"inf\"):\n",
    "    print(\"O número se encontra no intervalo [4, ∞)\")\n",
    "    \n",
    "        \n"
   ]
  }
 ],
 "metadata": {
  "kernelspec": {
   "display_name": "Python 3",
   "language": "python",
   "name": "python3"
  },
  "language_info": {
   "codemirror_mode": {
    "name": "ipython",
    "version": 3
   },
   "file_extension": ".py",
   "mimetype": "text/x-python",
   "name": "python",
   "nbconvert_exporter": "python",
   "pygments_lexer": "ipython3",
   "version": "3.7.1"
  }
 },
 "nbformat": 4,
 "nbformat_minor": 2
}
