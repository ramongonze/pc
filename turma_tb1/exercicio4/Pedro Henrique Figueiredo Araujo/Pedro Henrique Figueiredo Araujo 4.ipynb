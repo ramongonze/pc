{
 "cells": [
  {
   "cell_type": "code",
   "execution_count": 1,
   "metadata": {
    "scrolled": true
   },
   "outputs": [
    {
     "name": "stdout",
     "output_type": "stream",
     "text": [
      "Exercícios Programação de Computadores 2019/01\n",
      "Aluno: Pedro Henrique Figueiredo Araujo\n",
      "Matrícula: 2017051920\n",
      "Atividade: 04\n"
     ]
    }
   ],
   "source": [
    "print (\"Exercícios Programação de Computadores 2019/01\")\n",
    "print (\"Aluno: Pedro Henrique Figueiredo Araujo\")\n",
    "print (\"Matrícula: 2017051920\")\n",
    "print (\"Atividade: 04\")"
   ]
  },
  {
   "cell_type": "code",
   "execution_count": null,
   "metadata": {},
   "outputs": [
    {
     "name": "stdout",
     "output_type": "stream",
     "text": [
      "Exercício 1\n",
      "\n"
     ]
    }
   ],
   "source": [
    "print (\"Exercício 1\")\n",
    "print (\"\")\n",
    "a = int(input(\"Primeiro Valor = \"))\n",
    "b = int(input(\"Segundo valor = \"))\n",
    "if a == b:\n",
    "    print(\"Os dois valores são iguais!\")\n",
    "elif a > b:\n",
    "    print(\"O primeiro valor é o maior!\")\n",
    "else:\n",
    "    print(\"O segundo valor é o maior!\")"
   ]
  },
  {
   "cell_type": "code",
   "execution_count": null,
   "metadata": {},
   "outputs": [],
   "source": [
    "print (\"Exercício 2\")\n",
    "print(\"\")\n",
    "Ano = int(input(\"Qual o ano de fabricação do seu carro? \"))\n",
    "Idade = (2019 - Ano)\n",
    "if Idade < 0:\n",
    "    print (\"Ano de fabricação inválido!\")\n",
    "else:\n",
    "    print (\"Idade do veículo\",Idade,\"anos\")\n",
    "if 0 <= Idade <= 3:\n",
    "    print(\"Seu carro é novo!\")\n",
    "elif  Idade > 3:\n",
    "    print(\"Seu Carro é Velho!\")\n",
    "elif Idade < 0:\n",
    "    print(\"Ano de fabricação inválido!\")"
   ]
  },
  {
   "cell_type": "code",
   "execution_count": 13,
   "metadata": {},
   "outputs": [
    {
     "name": "stdout",
     "output_type": "stream",
     "text": [
      "Exercício 3\n",
      "\n",
      "           Calculadora de Impostos\n",
      "\n",
      "Digite o valor de seu salário  1300\n",
      "O valor do Imposto a ser pago é 60.0\n"
     ]
    }
   ],
   "source": [
    "print (\"Exercício 3\")\n",
    "print (\"\")\n",
    "print (\"           Calculadora de Impostos\")\n",
    "print (\"\")\n",
    "salário = float(input(\"Digite o valor de seu salário  \"))\n",
    "Base = salário\n",
    "Imposto = 0\n",
    "if Base >= 3000.01:\n",
    "    Imp = Imposto + ((Base - 3001)*0.35)\n",
    "    print (\"O valor do Imposto a ser pago é\", Imp)\n",
    "elif 1000.01 <= Base <=3000:\n",
    "    Imp = Imposto = ((Base - 1000)*0.20)\n",
    "    print (\"O valor do Imposto a ser pago é\", Imp)\n",
    "else:\n",
    "    print (\"O valor do Imposto a ser pago é nulo\")"
   ]
  },
  {
   "cell_type": "code",
   "execution_count": 2,
   "metadata": {},
   "outputs": [
    {
     "name": "stdout",
     "output_type": "stream",
     "text": [
      "Exercício 4\n",
      "\n",
      "Digite a categoria do produto: 8\n",
      "Categoria não existente!\n"
     ]
    }
   ],
   "source": [
    "print (\"Exercício 4\")\n",
    "print (\"\")\n",
    "categoria_produto = int(input(\"Digite a categoria do produto: \"))\n",
    "if categoria_produto == 1:\n",
    "    preço1 = 10\n",
    "    print (\"O preço do produto é: \",preço1, \"R$\")\n",
    "elif categoria_produto == 2:\n",
    "    preço2 = 18\n",
    "    print (\"O preço do produto é: \",preço2, \"R$\")\n",
    "elif categoria_produto == 3:\n",
    "    preço3 = 23\n",
    "    print (\"O preço do produto é: \",preço3, \"R$\")\n",
    "elif categoria_produto == 4:\n",
    "    preço4 = 26 \n",
    "    print (\"O preço do produto é: \",preço4, \"R$\")\n",
    "elif categoria_produto == 5:\n",
    "    preço5 = 31\n",
    "    print (\"O preço do produto é: \",preço5, \"R$\")\n",
    "else:\n",
    "    print (\"Categoria não existente!\")"
   ]
  },
  {
   "cell_type": "code",
   "execution_count": 8,
   "metadata": {},
   "outputs": [
    {
     "name": "stdout",
     "output_type": "stream",
     "text": [
      "Exercício 4\n",
      "\n",
      "Digite o primeiro valor: 60\n",
      "Digite o segundo valor: 70\n",
      "Digite o terceiro valor: 50\n",
      "O maior inteiro é:  70 (Segundo Valor)\n"
     ]
    }
   ],
   "source": [
    "print (\"Exercício 5\")\n",
    "print (\"\")\n",
    "valor1 = int(input(\"Digite o primeiro valor: \"))\n",
    "valor2 = int(input(\"Digite o segundo valor: \"))\n",
    "valor3 = int(input(\"Digite o terceiro valor: \"))\n",
    "if valor1 < valor2 and valor2 < valor3:\n",
    "             print (\"O maior inteiro é: \",valor3,\"(Terceiro Valor)\")\n",
    "elif valor3 < valor2 and valor2 > valor1:\n",
    "             print (\"O maior inteiro é: \",valor2,\"(Segundo Valor)\")\n",
    "elif valor3 < valor1 and valor1 > valor2:\n",
    "             print (\"O maior inteiro é: \",valor1,\"(Primeiro Valor)\")\n",
    "else:\n",
    "             print(\"Existem dois valores iguais!\")"
   ]
  },
  {
   "cell_type": "code",
   "execution_count": 23,
   "metadata": {},
   "outputs": [
    {
     "name": "stdout",
     "output_type": "stream",
     "text": [
      "Exercício 6\n",
      "\n",
      "Digite o primeiro valor: 23\n",
      "Digite o segundo valor: 27\n",
      "Digite o terceiro valor: 59\n",
      "O primeiro valor é impar!\n",
      "O segundo valor é impar!\n",
      "O terceiro valor é impar!\n",
      "O maior valor inserido ímpar é: 59\n"
     ]
    }
   ],
   "source": [
    "print (\"Exercício 6\")\n",
    "print (\"\")\n",
    "valor1 = int(input(\"Digite o primeiro valor: \"))\n",
    "valor2 = int(input(\"Digite o segundo valor: \"))\n",
    "valor3 = int(input(\"Digite o terceiro valor: \"))\n",
    "if valor1 % 2 == 0:\n",
    "    print (\"O primeiro valor é par!\")\n",
    "else:\n",
    "    print (\"O primeiro valor é impar!\")\n",
    "if valor2 % 2 == 0:\n",
    "    print (\"O segundo valor é par!\")\n",
    "else:\n",
    "    print (\"O segundo valor é impar!\")\n",
    "if valor3 % 2 == 0:\n",
    "    print (\"O terceiro valor é par!\")\n",
    "else:\n",
    "    print (\"O terceiro valor é impar!\")\n",
    "if valor1 or valor2 or valor3 % 2 != 0:\n",
    "    list = [valor1,valor2,valor3]\n",
    "    print(\"O maior valor inserido ímpar é:\",(max(list)))\n",
    "\n",
    "    "
   ]
  },
  {
   "cell_type": "code",
   "execution_count": 26,
   "metadata": {},
   "outputs": [
    {
     "name": "stdout",
     "output_type": "stream",
     "text": [
      "Exercício 7\n",
      "\n",
      "Digite o ano: 2019\n",
      "O ano 2019 não é bissexto\n"
     ]
    }
   ],
   "source": [
    "print (\"Exercício 7\")\n",
    "print (\"\")\n",
    "anoestudado = int(input(\"Digite o ano: \"))\n",
    "if anoestudado % 4 == 0:\n",
    "    print (\"O ano\", anoestudado, \"é bissexto\")\n",
    "else:\n",
    "    print (\"O ano\", anoestudado, \"não é bissexto\")"
   ]
  },
  {
   "cell_type": "code",
   "execution_count": 28,
   "metadata": {},
   "outputs": [
    {
     "name": "stdout",
     "output_type": "stream",
     "text": [
      "Exercício 8\n",
      "\n",
      "Digite o valor: 6\n",
      "O numero se encontra no intervalo 4 <= n < infinito\n"
     ]
    }
   ],
   "source": [
    "print (\"Exercício 8\")\n",
    "print (\"\")\n",
    "inteiro = int(input(\"Digite o valor: \"))\n",
    "if inteiro <= -2:\n",
    "    print (\"O numero se encontra no intervalo -inf < n <= -2\")\n",
    "elif -3 <= inteiro < -1:\n",
    "    print (\"O numero se encontra no intervalo -3 < n <= -1\")\n",
    "elif 0 < inteiro < 2:\n",
    "    print (\"O numero se encontra no intervalo 0 < n < 2\")\n",
    "elif 1 < inteiro <= 3:\n",
    "    print (\"O numero se encontra no intervalo 1 < n <= 3\")\n",
    "elif 4 <= inteiro:\n",
    "    print (\"O numero se encontra no intervalo 4 <= n < infinito\")\n",
    "else: \n",
    "    print (\"O numero não se encontra em nenhum intervalo determinado\")\n",
    "    \n"
   ]
  },
  {
   "cell_type": "code",
   "execution_count": null,
   "metadata": {},
   "outputs": [],
   "source": []
  }
 ],
 "metadata": {
  "kernelspec": {
   "display_name": "Python 3",
   "language": "python",
   "name": "python3"
  },
  "language_info": {
   "codemirror_mode": {
    "name": "ipython",
    "version": 3
   },
   "file_extension": ".py",
   "mimetype": "text/x-python",
   "name": "python",
   "nbconvert_exporter": "python",
   "pygments_lexer": "ipython3",
   "version": "3.7.1"
  }
 },
 "nbformat": 4,
 "nbformat_minor": 2
}
