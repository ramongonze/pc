{
 "cells": [
  {
   "cell_type": "markdown",
   "metadata": {},
   "source": [
    "# Lista aula 04 - Luan Silva Tomaz"
   ]
  },
  {
   "cell_type": "markdown",
   "metadata": {},
   "source": [
    "# Exercício 1\n",
    "## Modifique o programa do número maior para que dê uma mensagem distinta para valores iguais.\n"
   ]
  },
  {
   "cell_type": "code",
   "execution_count": null,
   "metadata": {
    "scrolled": true
   },
   "outputs": [],
   "source": [
    "Primeiro_valor = int(input('Digite o primeiro valor: '))\n",
    "Segundo_valor = int(input('Digite o segundo valor: '))\n",
    "\n",
    "if Primeiro_valor > Segundo_valor:\n",
    "    print('O número {} é o maior'.format(Primeiro_valor))\n",
    "elif Primeiro_valor < Segundo_valor:\n",
    "    print('O número {} é o maior'.format(Segundo_valor))\n",
    "else:\n",
    "    print('Os números {} e {} possuem o mesmo valor!'.format(Primeiro_valor, Segundo_valor))\n"
   ]
  },
  {
   "cell_type": "markdown",
   "metadata": {},
   "source": [
    "# Exercício 2\n",
    "## O que acontece se digitamos valores negativos nos programasdo número maior e do carro novo? Refaça os programas acima para resolver os problemas detectados."
   ]
  },
  {
   "cell_type": "markdown",
   "metadata": {},
   "source": [
    "### 2.1: no programa do maior valor, não faz diferença se o número é menor que 0."
   ]
  },
  {
   "cell_type": "markdown",
   "metadata": {},
   "source": [
    "### 2.2: no programa do carro novo, por não haver idade negativa, devemos limitar os inputs do usuário."
   ]
  },
  {
   "cell_type": "code",
   "execution_count": null,
   "metadata": {},
   "outputs": [],
   "source": [
    "Idade_carro = int(input('Digite a idade do seu carro: '))\n",
    "\n",
    "if Idade_carro >= 0:\n",
    "    if Idade_carro <= 3:\n",
    "        print('Seu carro é novo')\n",
    "    else:\n",
    "        print('Seu carro é velho')\n",
    "else:\n",
    "    print('Erro: Não existe idade negativa!')\n"
   ]
  },
  {
   "cell_type": "markdown",
   "metadata": {},
   "source": [
    "# Exercício 3\n",
    "## Calcular os valores do imposto para os seguintes salários: R$1.500,00 (R$ 100,00); R$ 3.000,00 (R$ 400,00); e R$ 5.000,00(R$ 1.100,00).\n"
   ]
  },
  {
   "cell_type": "markdown",
   "metadata": {},
   "source": [
    "### 3.1: R$1500.00"
   ]
  },
  {
   "cell_type": "code",
   "execution_count": 1,
   "metadata": {},
   "outputs": [
    {
     "name": "stdout",
     "output_type": "stream",
     "text": [
      "Com o salário de R$1500.00, você pagará R$100.00 de impostos.\n"
     ]
    }
   ],
   "source": [
    "Salário = float(1500)\n",
    "Impostos = 0\n",
    "Valor_salarial = Salário\n",
    "\n",
    "\n",
    "if Valor_salarial > 3000:\n",
    "    Impostos = Impostos + (0.35 * (Valor_salarial - 3000))\n",
    "    Valor_salarial = 3000\n",
    "if Valor_salarial > 1000:\n",
    "    Impostos = Impostos + (0.20 * (Valor_salarial - 1000))\n",
    "print('Com o salário de R${:.2f}, você pagará R${:.2f} de impostos.'.format(Salário, Impostos))"
   ]
  },
  {
   "cell_type": "markdown",
   "metadata": {},
   "source": [
    "### 3.2: R$3000.00"
   ]
  },
  {
   "cell_type": "code",
   "execution_count": 2,
   "metadata": {},
   "outputs": [
    {
     "name": "stdout",
     "output_type": "stream",
     "text": [
      "Com o salário de R$3000.00, você pagará R$400.00 de impostos.\n"
     ]
    }
   ],
   "source": [
    "Salário = float(3000.00)\n",
    "Impostos = 0\n",
    "Valor_salarial = Salário\n",
    "\n",
    "\n",
    "if Valor_salarial > 3000:\n",
    "    Impostos = Impostos + (0.35 * (Valor_salarial - 3000))\n",
    "    Valor_salarial = 3000\n",
    "if Valor_salarial > 1000:\n",
    "    Impostos = Impostos + (0.20 * (Valor_salarial - 1000))\n",
    "print('Com o salário de R${:.2f}, você pagará R${:.2f} de impostos.'.format(Salário, Impostos))"
   ]
  },
  {
   "cell_type": "markdown",
   "metadata": {},
   "source": [
    "### 3.3: R$5000"
   ]
  },
  {
   "cell_type": "code",
   "execution_count": 8,
   "metadata": {},
   "outputs": [
    {
     "name": "stdout",
     "output_type": "stream",
     "text": [
      "Com o salário de R$5000.00, você pagará R$1100.00 de impostos.\n"
     ]
    }
   ],
   "source": [
    "Salário = float(5000.00)\n",
    "Impostos = 0\n",
    "Valor_salarial = Salário\n",
    "\n",
    "\n",
    "if Valor_salarial > 3000:\n",
    "    Impostos = Impostos + (0.35 * (Valor_salarial - 3000))\n",
    "    Valor_salarial = 3000\n",
    "if Valor_salarial > 1000:\n",
    "    Impostos = Impostos + (0.20 * (Valor_salarial - 1000))\n",
    "print('Com o salário de R${:.2f}, você pagará R${:.2f} de impostos.'.format(Salário, Impostos))"
   ]
  },
  {
   "cell_type": "markdown",
   "metadata": {},
   "source": [
    "# Exercício 4\n",
    "## Corrija o programa de categorias para que não imprima a mensagem de preço se a opção de categoria digitada não existir."
   ]
  },
  {
   "cell_type": "code",
   "execution_count": 10,
   "metadata": {},
   "outputs": [
    {
     "name": "stdout",
     "output_type": "stream",
     "text": [
      "Digite a categoria: 5\n",
      "O preço do produto é R$ 31.00\n"
     ]
    }
   ],
   "source": [
    "Categoria = int(input(\"Digite a categoria: \"))\n",
    "if Categoria == 1:\n",
    "    preço = 10\n",
    "elif Categoria == 2:\n",
    "    preço = 18\n",
    "elif Categoria == 3:\n",
    "    Preço = 23\n",
    "elif Categoria == 4:\n",
    "    Preço == 26\n",
    "elif Categoria == 5:\n",
    "    Preço = 31\n",
    "else:\n",
    "    print(\"Categoria inválida! Digite um valor entre 1 e 5!\")\n",
    "    Preço = -1\n",
    "if Preço != -1:\n",
    "    print('O preço do produto é R$%6.2f' % Preço)\n"
   ]
  },
  {
   "cell_type": "markdown",
   "metadata": {},
   "source": [
    "# Exercício 5\n",
    "## Faça um algoritmo para encontrar o menor de 3 inteiros distintos com, no máximo, 3 comparações.\n"
   ]
  },
  {
   "cell_type": "code",
   "execution_count": 4,
   "metadata": {},
   "outputs": [
    {
     "name": "stdout",
     "output_type": "stream",
     "text": [
      "Digite o primeiro número:5\n",
      "Digite o segundo número: 8\n",
      "Digite o terceiro número: 9\n",
      "O menor número é o 5.00.\n"
     ]
    }
   ],
   "source": [
    "Inteiro_1 = int(input('Digite o primeiro número:'))\n",
    "Inteiro_2 = int(input('Digite o segundo número: '))\n",
    "Inteiro_3 = int(input('Digite o terceiro número: '))\n",
    "\n",
    "Menor = Inteiro_1\n",
    "\n",
    "if Inteiro_2 < Inteiro_1:\n",
    "    Menor = Inteiro_2\n",
    "if Inteiro_3 < Menor:\n",
    "    Menor = Inteiro_3\n",
    "print('O menor número é o %.2f.' % Menor)"
   ]
  },
  {
   "cell_type": "markdown",
   "metadata": {},
   "source": [
    "# Exercício 6\n",
    "## Faça um algoritmo para encontrar o maior ímpar de 3 inteiros.\n"
   ]
  },
  {
   "cell_type": "code",
   "execution_count": 3,
   "metadata": {},
   "outputs": [
    {
     "name": "stdout",
     "output_type": "stream",
     "text": [
      "Digite o primeiro inteiro: 1\n",
      "Digite o segundo inteiro: 2\n",
      "Digite o terceiro inteiro: 56\n",
      "O maior número ímpar é 1\n"
     ]
    }
   ],
   "source": [
    "Menos_infinito = float('-inf')\n",
    "\n",
    "Inteiro_1 = int(input('Digite o primeiro inteiro: '))\n",
    "Inteiro_2 = int(input('Digite o segundo inteiro: '))\n",
    "Inteiro_3 = int(input('Digite o terceiro inteiro: '))\n",
    "\n",
    "Impar = False\n",
    "\n",
    "if (Inteiro_1 % 2) == 1:\n",
    "    Primeiro_impar = Inteiro_1\n",
    "    Impar = True\n",
    "else:\n",
    "    Primeiro_impar = Menos_infinito\n",
    "\n",
    "if (Inteiro_2 % 2) == 1:\n",
    "    Segundo_impar = Inteiro_2\n",
    "    Impar = True\n",
    "else:\n",
    "    Segundo_impar = Menos_infinito\n",
    "\n",
    "if (Inteiro_3 % 2) == 1:\n",
    "    Terceiro_impar = Inteiro_3\n",
    "    Impar = True\n",
    "else:\n",
    "    Terceiro_impar = Menos_infinito\n",
    "    \n",
    "Maior_impar = Primeiro_impar\n",
    "    \n",
    "if Segundo_impar > Maior_impar:\n",
    "    Maior_impar = Segundo_impar\n",
    "if Terceiro_impar > Maior_impar:\n",
    "    Maior_impar = Terceiro_impar\n",
    "    \n",
    "if Impar == False:\n",
    "    print('Nenhum dos números acima é ímpar!')    \n",
    "else:\n",
    "    print('O maior número ímpar é {}'.format(Maior_impar))"
   ]
  },
  {
   "cell_type": "markdown",
   "metadata": {},
   "source": [
    "# Exercício 7\n",
    "## Escreva um programa Python que determine se um ano é bissexto ou não."
   ]
  },
  {
   "cell_type": "code",
   "execution_count": 16,
   "metadata": {},
   "outputs": [
    {
     "name": "stdout",
     "output_type": "stream",
     "text": [
      "Digite o ano: 2079\n",
      "O ano 2079 não é bissexto!\n"
     ]
    }
   ],
   "source": [
    "Ano_usuário = int(input('Digite o ano: '))\n",
    "\n",
    "if (Ano_usuário % 4) == 0:\n",
    "    if (Ano_usuário % 100) == 0:\n",
    "        if (Ano_usuário % 400) == 0:\n",
    "            print('O ano {} é bissexto!'.format(Ano_usuário))\n",
    "        else:\n",
    "            print('O ano {} não é bissexto!'.format(Ano_usuário))\n",
    "    else:\n",
    "        print('O ano {} é bissexto!'.format(Ano_usuário))\n",
    "else:\n",
    "    print('O ano {} não é bissexto!'.format(Ano_usuário))"
   ]
  },
  {
   "cell_type": "markdown",
   "metadata": {},
   "source": [
    "# Exercício 8\n",
    "## Escreva um programa Python para determinar se um número real n está ou não nos seguintes intervalos, imprimindo o(s)intervalo(s) em que se encontra:\n",
    "##    −∞ < n ≤ −2 ∪ −3 ≤ n < −1 ∪ 0 < n < 2 ∪ 1 < n ≤ 3 ∪ 4 ≤ n < ∞"
   ]
  },
  {
   "cell_type": "code",
   "execution_count": 1,
   "metadata": {},
   "outputs": [
    {
     "name": "stdout",
     "output_type": "stream",
     "text": [
      "Digite um valor: -1\n",
      "O valor não está contido em nenhum dos intervalos propostos acima\n"
     ]
    }
   ],
   "source": [
    "import math\n",
    "\n",
    "Variável = float(input('Digite um valor: '))\n",
    "Infinito = float('inf')\n",
    "Menos_Infinito = float('-inf')\n",
    "Contador = False\n",
    "\n",
    "if Menos_Infinito < Variável <= -2:\n",
    "    print('{} está contida no intervalo −∞ < Variável ≤ −2.'.format(Variável))\n",
    "    Contador = True\n",
    "if -3 <= Variável < -1:\n",
    "    print('{} está contida no intervalo −3 ≤ Variável < −1.'.format(Variável))\n",
    "    Contador = True\n",
    "if 0 < Variável < 2:\n",
    "    print('{} está contida no intervalo 0 < Variável < 2.'.format(Variável))\n",
    "    Contador = True\n",
    "if 1 < Variável <= 3:\n",
    "    print('{} está contida no intervalo 1 < Variável ≤ 3.'.format(Variável))\n",
    "    Contador = True\n",
    "if 4 <= Variável < Infinito:\n",
    "    print('{} está contida no intervalo 4 ≤ Variável < ∞.'.format(Variável))\n",
    "    Contador = True\n",
    "if Contador == False:\n",
    "    print('O valor não está contido em nenhum dos intervalos propostos acima')\n"
   ]
  }
 ],
 "metadata": {
  "celltoolbar": "Edit Metadata",
  "kernelspec": {
   "display_name": "Python 3",
   "language": "python",
   "name": "python3"
  },
  "language_info": {
   "codemirror_mode": {
    "name": "ipython",
    "version": 3
   },
   "file_extension": ".py",
   "mimetype": "text/x-python",
   "name": "python",
   "nbconvert_exporter": "python",
   "pygments_lexer": "ipython3",
   "version": "3.7.1"
  }
 },
 "nbformat": 4,
 "nbformat_minor": 2
}
