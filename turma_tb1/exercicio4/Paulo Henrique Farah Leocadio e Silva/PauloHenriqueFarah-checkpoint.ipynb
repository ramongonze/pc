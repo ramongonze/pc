{
 "cells": [
  {
   "cell_type": "markdown",
   "metadata": {},
   "source": [
    "## EXERCÍCIO 1"
   ]
  },
  {
   "cell_type": "code",
   "execution_count": null,
   "metadata": {},
   "outputs": [],
   "source": [
    "a= int(input(\"Primeiro valor: \" ))\n",
    "b= int(input(\"Segundo valor: \" ))\n",
    "if a>b:\n",
    " print(\" O primeiro número é maior\")\n",
    "if a<b:\n",
    "    print(\"O segundo número é maior\")\n",
    "if a==b:\n",
    "    print(\"Os números são iguais\")\n"
   ]
  },
  {
   "cell_type": "markdown",
   "metadata": {},
   "source": [
    "## EXERCÍCIO 2"
   ]
  },
  {
   "cell_type": "code",
   "execution_count": null,
   "metadata": {},
   "outputs": [],
   "source": [
    "a= int(input(\"Primeiro valor: \" ))\n",
    "b= int(input(\"Segundo valor: \" ))\n",
    "if a>b:\n",
    " print(\" O primeiro número é maior\")\n",
    "if a<b:\n",
    "    print(\"O segundo número é maior\")\n",
    "if a==b:\n",
    "    print(\"Os números são iguais\")"
   ]
  },
  {
   "cell_type": "code",
   "execution_count": 1,
   "metadata": {
    "scrolled": true
   },
   "outputs": [
    {
     "name": "stdout",
     "output_type": "stream",
     "text": [
      "Digite a idade do seu carro: -1\n",
      "Inválido! Digite um valor inteiro maior ou igual a 0\n"
     ]
    }
   ],
   "source": [
    "idade = int(input(\"Digite a idade do seu carro: \"))\n",
    "if 0<= idade and idade <=3:\n",
    "    print(\"O seu carro é novo\")\n",
    "if idade >3:\n",
    "    print(\"O seu carro é velho\")\n",
    "if idade <0:\n",
    "    print(\"Inválido! Digite um valor inteiro maior ou igual a 0\")\n",
    "\n",
    "    \n",
    "        \n",
    "\n",
    "    "
   ]
  },
  {
   "cell_type": "markdown",
   "metadata": {},
   "source": [
    "## EXERCÍCIO 3"
   ]
  },
  {
   "cell_type": "code",
   "execution_count": null,
   "metadata": {},
   "outputs": [],
   "source": [
    "Salário de R$1500.00, portanto base de cálculo= 1500.00\n",
    "0 = imposto \n",
    "0 + (1500 - 1000)*0.2 = 100\n",
    "O imposto incidido sob o salário de R$1500.00 é R$100.00"
   ]
  },
  {
   "cell_type": "code",
   "execution_count": null,
   "metadata": {},
   "outputs": [],
   "source": [
    "Salário de R$3000.00, portanto base de cálculo= 3000.00\n",
    "0 = imposto \n",
    "0 + (3000 - 1000)*0.2 = 400\n",
    "O imposto incidido sob o salário de R$3000.00 é R$400.00"
   ]
  },
  {
   "cell_type": "code",
   "execution_count": null,
   "metadata": {},
   "outputs": [],
   "source": [
    "Salário de R$5000.00, portanto base de cálculo= 5000.00\n",
    "0 = imposto \n",
    "0 + (5000 - 3000)*0.35 = 700\n",
    "Agora, a base de cálculo é de 3000:\n",
    "0 + (3000 - 1000)*0.2 = 400\n",
    "O imposto incidido sob o salário de R$5000.00 é R$700.00 + R$400.00 que é R$1100.00"
   ]
  },
  {
   "cell_type": "markdown",
   "metadata": {},
   "source": [
    "## EXERCÍCIO 4"
   ]
  },
  {
   "cell_type": "code",
   "execution_count": 4,
   "metadata": {},
   "outputs": [
    {
     "name": "stdout",
     "output_type": "stream",
     "text": [
      "Digite a categoria: 78\n",
      "Categoria inválida! Digite um valor entre 1 e 5!\n"
     ]
    }
   ],
   "source": [
    "categoria = int(input(\"Digite a categoria: \"))\n",
    "if categoria == 1:\n",
    "    preço = 10\n",
    "elif categoria == 2:\n",
    "    preço = 18    \n",
    "elif categoria == 3:\n",
    "    preço = 23  \n",
    "elif categoria == 4:\n",
    "    preço == 26   \n",
    "elif categoria == 5:\n",
    "    preço = 31\n",
    "elif categoria<1 or categoria>5:\n",
    "    print(\"Categoria inválida! Digite um valor entre 1 e 5!\")\n",
    "if categoria>= 1 and categoria<=5:\n",
    "    print(\"O preço do produto é R$%6.2F\" % preço)\n",
    "    \n"
   ]
  },
  {
   "cell_type": "markdown",
   "metadata": {},
   "source": [
    "## EXERCÍCIO 5"
   ]
  },
  {
   "cell_type": "markdown",
   "metadata": {},
   "source": [
    "    Algoritmo para encontrar o menor número de três inteiros distintos realizando somente 3 comparações:\n",
    "    Primeiro passo: Escrever três números inteiros distintos x, y e z ( sendo que x será o primeiro número, z será o segundo número e z será o terceiro número).\n",
    "    Segundo passo: Analisar, cuidadosamente, cada número.\n",
    "    Terceiro passo: Fazer as seguintes comparações: x<y ( primeira comparação); z<x (segunda comparação); y<z (terceira comparação), substituindo x,y e z pelo primeiro, segundo e terceiro números escritos no primeiro passo, respectivamente.Após isso, dizer, com base nos números escritos, se as comparações sao verdadeiras ou falsas.\n",
    "    Quarto Passo: Agora, basta tirar as conclusões: \n",
    "    Caso a primeira comparação for verdadeira e a segunda falsa, podendo o resultado da terceira ser verdadeiro ou falso, o primeiro número escrito (x) no primeiro passo será o menor dos 3.\n",
    "    Caso a primeira comparacão for falsa e a terceira verdadeira, podendo o resultado da segunda ser verdadeiro ou falso, o segundo número escrito (y) no primeiro passo será o menor dos 3.\n",
    "    Caso a segunda comparação for verdadeira e a última for falsa, podendo o resultado da terceira ser verdadeiro ou falso,o terceiro número escrito(z) no primeiro passo será o menor dos 3. \n",
    "    \n",
    "    "
   ]
  },
  {
   "cell_type": "markdown",
   "metadata": {},
   "source": [
    "## EXERCÍCIO 6"
   ]
  },
  {
   "cell_type": "markdown",
   "metadata": {},
   "source": [
    "Algoritmo para encontrar o maior ímpar de 3 inteiros:\n",
    "Primeiro passo: escrever 3 números;\n",
    "Segundo passo: Analisar o último algarismo significativo de cada número e separar os ímpares ( terminação em 1;3;5;7;9) dos pares( terminação em 0;2;4;6;8);\n",
    "Terceiro passo: Analisar, agora, somente os números ímpares separados anteriormente:\n",
    " -Se houver somente um número ímpar, não haverá um maior devido à existência de somente um número ímpar separado.\n",
    " -Se houver dois ímpares  positivos, será maior aquele que tiver maior quantidade de algarismos significativos.Caso tenham a mesma quantidade de algarismos significativos, será maior aquele cujo último algarismo significativo for maior.\n",
    " -Se houver dois ímpares  negativos, será maior aquele que tiver menor quantidade de algarismos significativos.Caso tenham a mesma quantidade de algarismos significativos será maior aquele cujo último algarismo significativo for menor.\n",
    " -Se houver dois ímpares, um positivo e um negativo, o positivo será maior.\n",
    " -Se houver três ímpares, todos positivos, será maior aquele que tiver maior quantidade de algarismos significativos. Caso tenham a mesma quantidade de algarismos significativos, será  maior aquele cujo último algarismo significativo for maior.\n",
    " -Se houver três ímpares, sendo 2 positivos e 1 negativo, analisa-se somente os positivos e aplica-se o que foi dito para quando houver dois ímpares positivos.\n",
    " -Se houver três ímpares, sendo 1 positivo e 2 negativos, o positivo será maior.\n",
    " -Se houver três ímpares, todos negativos, será maior aquele que tiver a menor quantidade de algarismos significativos.Caso tenham a mesma quantidade de algarismos significativos, será maior aquele cujo último número significativo for menor."
   ]
  },
  {
   "cell_type": "markdown",
   "metadata": {},
   "source": [
    "## EXERCÍCIO 7"
   ]
  },
  {
   "cell_type": "code",
   "execution_count": 3,
   "metadata": {},
   "outputs": [
    {
     "name": "stdout",
     "output_type": "stream",
     "text": [
      "Digite o ano:  1966\n",
      "O ano não é bissexto\n"
     ]
    }
   ],
   "source": [
    "ano = int(input(\"Digite o ano:  \"))\n",
    "if ano%100!=0 and ano%4==0 or ano%400==0:\n",
    "    print(\"O ano é bissexto\")\n",
    "else:\n",
    "    print(\"O ano não é bissexto\")"
   ]
  },
  {
   "cell_type": "markdown",
   "metadata": {},
   "source": [
    "## EXERCÍCIO 8"
   ]
  },
  {
   "cell_type": "code",
   "execution_count": 22,
   "metadata": {
    "scrolled": true
   },
   "outputs": [
    {
     "name": "stdout",
     "output_type": "stream",
     "text": [
      "Digite um número:  100000\n",
      "O número não está no intervalo n<-1\n",
      "O número não está no intervalo 0<n≤3 \n",
      "O número está no intervalo n≥4\n"
     ]
    }
   ],
   "source": [
    "n= float(input(\"Digite um número:  \"))\n",
    "if n<-1:\n",
    "    print(\"O número está no intervalo n<-1 \")\n",
    "else:\n",
    "    print(\"O número não está no intervalo n<-1\")\n",
    "if 0<n and n<=3:\n",
    "    print(\"O número está no intervalo 0<n≤3\")\n",
    "else:\n",
    "    print(\"O número não está no intervalo 0<n≤3 \")\n",
    "if n>=4:\n",
    "    print(\"O número está no intervalo n≥4\")\n",
    "else:\n",
    "    print(\"O número não está no intervalo n≥4\")"
   ]
  }
 ],
 "metadata": {
  "kernelspec": {
   "display_name": "Python 3",
   "language": "python",
   "name": "python3"
  },
  "language_info": {
   "codemirror_mode": {
    "name": "ipython",
    "version": 3
   },
   "file_extension": ".py",
   "mimetype": "text/x-python",
   "name": "python",
   "nbconvert_exporter": "python",
   "pygments_lexer": "ipython3",
   "version": "3.7.1"
  }
 },
 "nbformat": 4,
 "nbformat_minor": 2
}
