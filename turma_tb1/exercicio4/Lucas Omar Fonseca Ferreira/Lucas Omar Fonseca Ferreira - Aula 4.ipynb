{
 "cells": [
  {
   "cell_type": "code",
   "execution_count": 1,
   "metadata": {},
   "outputs": [
    {
     "name": "stdout",
     "output_type": "stream",
     "text": [
      "Primeiro valor: 1\n",
      "Segundo valor: 1\n",
      "Os valores são iguais\n"
     ]
    }
   ],
   "source": [
    "# 1\n",
    "\n",
    "a = int(input(\"Primeiro valor: \"))\n",
    "b = int(input(\"Segundo valor: \"))\n",
    "\n",
    "if a > b:\n",
    "    print(\"O primeiro número é o maior\")\n",
    "elif b > a:\n",
    "    print(\"O segundo número é o maior\")\n",
    "else:\n",
    "        print(\"Os valores são iguais\")"
   ]
  },
  {
   "cell_type": "code",
   "execution_count": null,
   "metadata": {},
   "outputs": [],
   "source": [
    "# 2.1\n",
    "a = int(input(\"Primeiro valor: \"))\n",
    "while a < 0:\n",
    "    print(\"Digite um número positivo\")\n",
    "a = int(input(\"Primeiro valor: \"))\n",
    "\n",
    "b = int(input(\"Segundo valor: \"))\n",
    "if b < 0:\n",
    "    print(\"Digite um número positivo\")\n",
    "    \n",
    "if a > b:\n",
    "    print(\"O primeiro número é o maior\")\n",
    "elif b > a:\n",
    "    print(\"O segundo número é o maior\")\n",
    "else:\n",
    "    print(\"Os valores são iguais\")"
   ]
  },
  {
   "cell_type": "code",
   "execution_count": 1,
   "metadata": {},
   "outputs": [
    {
     "name": "stdout",
     "output_type": "stream",
     "text": [
      "Digite a idade do seu carro: -1\n",
      "Digite um valor positivo: 1\n",
      "Seu carro é novo\n"
     ]
    }
   ],
   "source": [
    "# 2.2\n",
    "idade = int(input(\"Digite a idade do seu carro: \"))\n",
    "while idade < 0:\n",
    "    idade = int(input(\"Digite um valor positivo: \"))\n",
    "if idade <= 3:\n",
    "    print(\"Seu carro é novo\")\n",
    "if idade > 3:\n",
    "    print(\"Seu carro é velho\")"
   ]
  },
  {
   "cell_type": "code",
   "execution_count": null,
   "metadata": {},
   "outputs": [],
   "source": [
    "# 3\n",
    "salário = float(input(\"Digite o salário para calcular o imposto: \"))\n",
    "base_de_cálculo = salário\n",
    "imposto = 0\n",
    "if base_de_cálculo > 3000:\n",
    "imposto = imposto + ((base_de_cálculo - 3000) * 0.35)\n",
    "base_de_cálculo = 3000\n",
    "if base_de_cálculo > 1000:\n",
    "imposto = imposto + ((base_de_cálculo - 1000) * 0.20)\n",
    "print(\"O salário de R$%6.2f pagará R$%6.2f de \"\n",
    "\"impostos.\" % (salário,imposto))"
   ]
  },
  {
   "cell_type": "code",
   "execution_count": null,
   "metadata": {},
   "outputs": [],
   "source": [
    "# 4\n",
    "categoria = int(input(\"Digite a categoria: \"))\n",
    "if categoria == 1:\n",
    "preço = 10\n",
    "elif categoria == 2:\n",
    "preço = 18\n",
    "elif categoria == 3:\n",
    "preço = 23\n",
    "elif categoria == 4:\n",
    "preço == 26\n",
    "elif categoria == 5:\n",
    "preço = 31\n",
    "else:\n",
    "    print(\"Categoria inválida! Digite um valor entre 1 e 5!\"))\n",
    "preço = -1\n",
    "print(\"O preço do produto é R$%6.2f\" % preço) # não consegui resolver"
   ]
  },
  {
   "cell_type": "code",
   "execution_count": null,
   "metadata": {},
   "outputs": [],
   "source": [
    "# 5\n",
    "a = int(input(\"Primeiro número: \"))\n",
    "\n",
    "b = int(input(\"Segundo número: \"))\n",
    "\n",
    "c = int(input(\"Terceiro número: \"))\n",
    "\n",
    "if b < c and b < a:\n",
    "    print(\"O segundo número é o maior\")\n",
    "    \n",
    "elif a < b and a < c:\n",
    "    print(\"O primeiro número é o maior\")\n",
    "elif c < a and c < b:\n",
    "    print(\"O terceiro número é o maior\")\n",
    "else\n",
    "    print(\"Os menores valores são iguais ou inválidos\")"
   ]
  },
  {
   "cell_type": "code",
   "execution_count": null,
   "metadata": {},
   "outputs": [],
   "source": [
    "# 6\n",
    "numero1 = int(input('Digite o primeiro número para saber se é par ou ímpar:'))\n",
    "resto1 = numero1 % 2\n",
    "numero2 = int(input('Digite o segundo número para saber se é par ou ímpar:'))\n",
    "resto2 = numero2 % 2\n",
    "numero3 = int(input('Digite o terceiro número para saber se é par ou ímpar:'))\n",
    "resto3 = numero3 % 2\n",
    "\n",
    "if numero1 > numero2 and numero1 > numero3 and resto1 == 1:\n",
    "    print('O primeiro número é o maior ímpar')\n",
    "elif numero2 > numero1 and numero2 > numero3 and resto2 == 1:\n",
    "    print('O segundo número é o maior ímpar')\n",
    "elif numero3 > numero1 and numero3 > numero2 and resto3 == 1:\n",
    "    print('O terceiro número é o maior ímpar')"
   ]
  },
  {
   "cell_type": "code",
   "execution_count": null,
   "metadata": {},
   "outputs": [],
   "source": [
    "#7\n",
    "ano = int(input('Digite o ano para saber se é bissexto: '))\n",
    "if ano % 100 != 0 and ano % 4 == 0 or ano % 400 == 0:\n",
    "    print('É um ano bissexto')\n",
    "else:\n",
    "    print('Não é bissexto')"
   ]
  },
  {
   "cell_type": "code",
   "execution_count": 8,
   "metadata": {},
   "outputs": [
    {
     "name": "stdout",
     "output_type": "stream",
     "text": [
      "Digite um número: -2\n",
      "O número está em ambos os intervalos\n"
     ]
    }
   ],
   "source": [
    "# 8.1\n",
    "n = float(input('Digite um número: '))\n",
    "\n",
    "if n < -1 and n >= -3 and n <= -2:\n",
    "    print('O número está em ambos os intervalos')\n",
    "elif n < -1 and n >= -3:\n",
    "    print('O número está no intervalo 1')\n",
    "elif n <= -2:\n",
    "    print('O número está no intervalo 2')\n",
    "else:\n",
    "    print('O número não está em nenhum intervalo')"
   ]
  },
  {
   "cell_type": "code",
   "execution_count": null,
   "metadata": {},
   "outputs": [],
   "source": [
    "# 8.2\n",
    "n = float(input('Digite um número: '))\n",
    "\n",
    "if 0 < n and n < 2 and 1 < n <= 3:\n",
    "    print('O número é maior que 0, menor que 2, maior que 1 e menor ou igual a 3')\n",
    "or 1 < n <= 3 \n",
    "elif 0 < n and n < 2:\n",
    "    print('O número pertence ao conjunto maior que zero e menor que 2')\n",
    "elif 1 < n and n <= 3:\n",
    "    print('O número pertence ao conjunto maior que 1 e menor ou igual a 3')\n",
    "elif 4 <= n:\n",
    "    print('O número é maior que 4')"
   ]
  },
  {
   "cell_type": "code",
   "execution_count": null,
   "metadata": {},
   "outputs": [],
   "source": []
  },
  {
   "cell_type": "code",
   "execution_count": null,
   "metadata": {},
   "outputs": [],
   "source": []
  }
 ],
 "metadata": {
  "kernelspec": {
   "display_name": "Python 3",
   "language": "python",
   "name": "python3"
  }
 },
 "nbformat": 4,
 "nbformat_minor": 2
}
