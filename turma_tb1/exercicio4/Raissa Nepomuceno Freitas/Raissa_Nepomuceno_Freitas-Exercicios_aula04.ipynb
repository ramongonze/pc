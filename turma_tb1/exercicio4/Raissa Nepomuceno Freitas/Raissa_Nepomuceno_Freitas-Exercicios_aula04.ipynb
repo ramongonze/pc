{
 "cells": [
  {
   "cell_type": "markdown",
   "metadata": {},
   "source": [
    "Programação de Computadores . \n",
    "Exercícios aula 04 . \n",
    "Aluna: Raíssa Nepomuceno Freitas . \n",
    "Matrícula: 2017104013"
   ]
  },
  {
   "cell_type": "code",
   "execution_count": 1,
   "metadata": {},
   "outputs": [
    {
     "name": "stdout",
     "output_type": "stream",
     "text": [
      "Primeiro valor: 4\n",
      "Segundo valor: 4\n",
      "Os valores são iguais\n"
     ]
    }
   ],
   "source": [
    "#Exercício 1\n",
    "\n",
    "a = int(input(\"Primeiro valor: \")) \n",
    "b = int(input(\"Segundo valor: \")) \n",
    "if a > b: \n",
    "    print(\"O primeiro número é o maior\")\n",
    "if a < b: \n",
    "    print(\"O segundo número é o maior\") \n",
    "if a == b:\n",
    "    print(\"Os valores são iguais\")"
   ]
  },
  {
   "cell_type": "code",
   "execution_count": 2,
   "metadata": {},
   "outputs": [
    {
     "name": "stdout",
     "output_type": "stream",
     "text": [
      "Primeiro valor: -9\n",
      "Segundo valor: 6\n",
      "O segundo número é o maior\n",
      "Digite a idade do seu carro: -2\n",
      "Valor inválido\n"
     ]
    }
   ],
   "source": [
    "#Exercício 2\n",
    "\n",
    "#Número maior\n",
    "a = int(input(\"Primeiro valor: \")) \n",
    "b = int(input(\"Segundo valor: \")) \n",
    "if a > b: \n",
    "    print(\"O primeiro número é o maior\") \n",
    "if a < b: \n",
    "    print(\"O segundo número é o maior\")\n",
    "if a == b:\n",
    "    print(\"Os valores são iguais\")\n",
    "    \n",
    "    \n",
    "#Carro novo     \n",
    "idade = int(input(\"Digite a idade do seu carro: \")) \n",
    "if idade <= 3 and idade >=0: \n",
    "    print(\"Seu carro é novo\") \n",
    "if idade > 3: \n",
    "    print(\"Seu carro é velho\")\n",
    "if idade <0:\n",
    "    print (\"Valor inválido\")"
   ]
  },
  {
   "cell_type": "code",
   "execution_count": 5,
   "metadata": {},
   "outputs": [
    {
     "name": "stdout",
     "output_type": "stream",
     "text": [
      "Digite o salário para calcular o imposto: 5000\n",
      "O salário de R$5000.00 pagará R$1100.00 de impostos.\n"
     ]
    }
   ],
   "source": [
    "#Exercício 3\n",
    "\n",
    "salário = float(input(\"Digite o salário para calcular o imposto: \")) \n",
    "base_de_cálculo = salário \n",
    "imposto = 0 \n",
    "if base_de_cálculo > 3000: \n",
    "    imposto = imposto + ((base_de_cálculo - 3000) * 0.35) \n",
    "    base_de_cálculo = 3000 \n",
    "if base_de_cálculo > 1000: \n",
    "    imposto = imposto + ((base_de_cálculo - 1000) * 0.20) \n",
    "print(\"O salário de R$%6.2f pagará R$%6.2f de \" \"impostos.\" % (salário,imposto))\n"
   ]
  },
  {
   "cell_type": "code",
   "execution_count": 9,
   "metadata": {},
   "outputs": [
    {
     "name": "stdout",
     "output_type": "stream",
     "text": [
      "Digite a categoria: 10\n",
      "Categoria inválida! Digite um valor entre 1 e 5!\n"
     ]
    }
   ],
   "source": [
    "#Número 4\n",
    "categoria = int(input(\"Digite a categoria: \"))\n",
    "if categoria == 1:\n",
    "    preço = 10\n",
    "elif categoria == 2:\n",
    "    preço = 18\n",
    "elif categoria == 3:\n",
    "    preço = 23\n",
    "elif categoria == 4:\n",
    "    preço = 26\n",
    "elif categoria == 5:\n",
    "    preço = 31\n",
    "else:\n",
    "    print (\"Categoria inválida! Digite um valor entre 1 e 5!\")\n",
    "    preço = -1\n",
    "if preço > 0:\n",
    "    print (\"O preço do produto é R$%6.2f\" % preço)"
   ]
  },
  {
   "cell_type": "code",
   "execution_count": 11,
   "metadata": {},
   "outputs": [
    {
     "name": "stdout",
     "output_type": "stream",
     "text": [
      "Digite o 1° numero: 9\n",
      "Digite o 2° numero: 4\n",
      "Digite o 3° numero: 8\n",
      "O primeiro é o maior numero!!\n"
     ]
    }
   ],
   "source": [
    "#Exercício 5\n",
    "\n",
    "a = input(\"Digite o 1° numero: \")\n",
    "b = input(\"Digite o 2° numero: \")\n",
    "c = input(\"Digite o 3° numero: \")\n",
    "\n",
    "def maior(a , b , c):\n",
    "    if a > b and a > c:\n",
    "        print (\"O primeiro é o maior numero!!\")\n",
    "    elif b > a and  b > c:\n",
    "        print (\"O segundo é o maior numero!!\")\n",
    "    elif c > a and c > b:\n",
    "        print (\"O terceiro é o maior numero!!\")\n",
    "    elif a == b and b > c:\n",
    "        print (\"O primeiro é o maior!!\")\n",
    "    elif a == c and c > b:\n",
    "        print (\"O primeiro é o maior!!\")\n",
    "    elif b == c and c > a:\n",
    "        print (\"O segundo é o maior!!\")\n",
    "    elif a == b and a == c:\n",
    "        print (\"todos o numeros são iguais\")\n",
    "        \n",
    "maior(a , b , c)"
   ]
  },
  {
   "cell_type": "code",
   "execution_count": 13,
   "metadata": {},
   "outputs": [
    {
     "name": "stdout",
     "output_type": "stream",
     "text": [
      "Ano: 1996\n",
      "O ano é bissexto\n"
     ]
    }
   ],
   "source": [
    "#Exercício 7\n",
    "\n",
    "ano = int(input(\"Ano: \"))\n",
    "if (ano%4 == 0 and ano%100!= 0) or ano%400 == 0:\n",
    "    print (\"O ano é bissexto\")\n",
    "else:\n",
    "    print (\"O ano não é bissexto\")"
   ]
  },
  {
   "cell_type": "code",
   "execution_count": 14,
   "metadata": {},
   "outputs": [
    {
     "name": "stdout",
     "output_type": "stream",
     "text": [
      "Digite um número real: 8\n",
      "O número real encontra-se no intervalo 4 <= n < ∞\n"
     ]
    }
   ],
   "source": [
    "#Exercício 8 \n",
    "\n",
    "n = int(input(\"Digite um número real: \"))\n",
    "if n > float (\"-inf\") and n <= -2:\n",
    "    print(\"O número real encontra-se no intervalo -∞ < n <= -3\")\n",
    "elif n >= -3 and n <= -1:\n",
    "    print(\"O número real encontra-se no intervalo -2 <= n < -1\")\n",
    "elif n > 0 and n < 2:\n",
    "    print(\"O número real encontra-se no intervalo 0 < n < 2\")\n",
    "elif n > 1 and n <= 3:\n",
    "    print(\"O número real encontra-se no intervalo 1 < n <=3\")\n",
    "elif n >= 4 and n < float(\"inf\"):\n",
    "    print (\"O número real encontra-se no intervalo 4 <= n < ∞\")\n",
    "elif n == 0:\n",
    "    print(\"O número real informado é 0 e, portanto, não está em nenhum dos intervalos\")"
   ]
  }
 ],
 "metadata": {
  "kernelspec": {
   "display_name": "Python 3",
   "language": "python",
   "name": "python3"
  },
  "language_info": {
   "codemirror_mode": {
    "name": "ipython",
    "version": 3
   },
   "file_extension": ".py",
   "mimetype": "text/x-python",
   "name": "python",
   "nbconvert_exporter": "python",
   "pygments_lexer": "ipython3",
   "version": "3.7.1"
  }
 },
 "nbformat": 4,
 "nbformat_minor": 2
}
