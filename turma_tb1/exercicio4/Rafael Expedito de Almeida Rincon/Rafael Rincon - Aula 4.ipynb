{
 "cells": [
  {
   "cell_type": "code",
   "execution_count": 11,
   "metadata": {},
   "outputs": [
    {
     "name": "stdout",
     "output_type": "stream",
     "text": [
      "Primeiro valor: 10\n",
      "Segundo valor: 20\n",
      "O segundo número é maior\n"
     ]
    }
   ],
   "source": [
    "a = int(input(\"Primeiro valor: \"))\n",
    "b = int(input(\"Segundo valor: \"))\n",
    "if a > b:\n",
    " print(\"O primeiro número é o maior\")\n",
    "if a == b:\n",
    " print (\"Os números são iguais\")\n",
    "else:\n",
    " print (\"O segundo número é maior\")"
   ]
  },
  {
   "cell_type": "code",
   "execution_count": 20,
   "metadata": {},
   "outputs": [
    {
     "name": "stdout",
     "output_type": "stream",
     "text": [
      "Digite a idade do seu carro: -2\n",
      "Idade inválida, não são permitidos números negativos\n"
     ]
    }
   ],
   "source": [
    "idade = int(input(\"Digite a idade do seu carro: \"))\n",
    "if idade <= 3 and idade >= 0:\n",
    " print(\"Seu carro é novo\")\n",
    "if idade > 3:\n",
    " print(\"Seu carro é velho\")\n",
    "if idade < 0: \n",
    " print(\"Idade inválida, não são permitidos números negativos\")\n"
   ]
  },
  {
   "cell_type": "code",
   "execution_count": 34,
   "metadata": {},
   "outputs": [
    {
     "name": "stdout",
     "output_type": "stream",
     "text": [
      "Digite o salário para calcular o imposto: 3000\n",
      "O salário de R$3000.00 pagará R$400.00 de impostos.\n"
     ]
    }
   ],
   "source": [
    "salário = float(input(\"Digite o salário para calcular o imposto: \"))\n",
    "base_de_cálculo = salário\n",
    "imposto = 0\n",
    "if base_de_cálculo > 3000:\n",
    " imposto = imposto + ((base_de_cálculo - 3000) * 0.35)\n",
    " base_de_cálculo = 3000\n",
    "if base_de_cálculo > 1000:\n",
    " imposto = imposto + ((base_de_cálculo - 1000) * 0.20)\n",
    " print(\"O salário de R$%6.2f pagará R$%6.2f de \"\n",
    "\"impostos.\" % (salário,imposto))\n",
    "if base_de_cálculo < 1000:\n",
    " print (\"O contribuinte é isento\")\n"
   ]
  },
  {
   "cell_type": "code",
   "execution_count": 84,
   "metadata": {},
   "outputs": [
    {
     "name": "stdout",
     "output_type": "stream",
     "text": [
      "Digite a categoria: 1\n",
      "O preço do produto é R$ 10.00\n"
     ]
    }
   ],
   "source": [
    "categoria = int(input(\"Digite a categoria: \"))\n",
    "if categoria == 1:\n",
    " preço = 10\n",
    " print(\"O preço do produto é R$%6.2f\" % preço)\n",
    "elif categoria == 2:\n",
    " preço = 18\n",
    " print(\"O preço do produto é R$%6.2f\" % preço)\n",
    "elif categoria == 3:\n",
    " preço = 23\n",
    " print(\"O preço do produto é R$%6.2f\" % preço)\n",
    "elif categoria == 4:\n",
    " preço == 26\n",
    " print(\"O preço do produto é R$%6.2f\" % preço)\n",
    "elif categoria == 5:\n",
    " preço = 31\n",
    " print(\"O preço do produto é R$%6.2f\" % preço)\n",
    "else:\n",
    " print(\"Categoria inválida! Digite um valor entre 1 e 5!\")\n",
    "\n",
    "\n"
   ]
  },
  {
   "cell_type": "code",
   "execution_count": null,
   "metadata": {},
   "outputs": [],
   "source": [
    "Algoritmo: \n",
    "geram-se três caixas de texto para a apresentação dos números a serem analisados\n",
    "selecionam-se três números\n",
    "cria-se uma lista com os três números\n",
    "há ordens no Python que permitem que se obtenha o menor número desta lista diretamente, mas a maneira básica pressupõe comparações\n",
    "comparam-se os três números um por um com o (<), aquele que for menor que os outros dois é o menor da lista.\n",
    "\n",
    "n1 = int(input(\"Digite o primeiro número\"))\n",
    "n2 = int(input(\"Digite o segundo número\"))\n",
    "n3 = int(input(\"Digite o terceiro número\"))\n",
    "\n",
    "list = [n1,n2,n3]\n",
    "print (min(list))\n"
   ]
  },
  {
   "cell_type": "code",
   "execution_count": null,
   "metadata": {},
   "outputs": [],
   "source": [
    "Algoritmo: \n",
    "geram-se três caixas de texto para a apresentação dos números a serem analisados\n",
    "selecionam-se três números\n",
    "aplica-se o método comparativo (>) para ver qual dos três é o maior\n",
    "se o resto da divisão por 2 for 0, esse maior deve ser descartado e analisa-se o segundo maior\n",
    "se o resto da divisão do segundo por 2 for 0, esse deve ser descartado e analisa-se o terceiro\n",
    "se o resto da divisão do terceiro por 2 for 0, não há número ímpar dentre os três selecionados\n",
    "se houver um número dentre os três cuja divisão por 2 resulte num resto 1, então esse número é ímpar \n",
    "se houverem mais números ímpares, deve ser aplicado o método comparativo (>) entre eles para obter o maior."
   ]
  },
  {
   "cell_type": "code",
   "execution_count": 3,
   "metadata": {},
   "outputs": [
    {
     "name": "stdout",
     "output_type": "stream",
     "text": [
      "Escolha o ano a ser analisado: 2019\n",
      "O ano NÃO é bissexto\n"
     ]
    }
   ],
   "source": [
    "ano = int(input(\"Escolha o ano a ser analisado: \"))\n",
    "if ano % 4 == 0:\n",
    " print (\"O ano é bissexto\")\n",
    "else:\n",
    " print (\"O ano NÃO é bissexto\")"
   ]
  },
  {
   "cell_type": "code",
   "execution_count": 8,
   "metadata": {},
   "outputs": [
    {
     "name": "stdout",
     "output_type": "stream",
     "text": [
      "Escolha um número e verifique o intervalo: -20\n",
      "O número é menor ou igual a 2.\n"
     ]
    }
   ],
   "source": [
    "número = int(input(\"Escolha um número e verifique o intervalo: \"))\n",
    "if número <= 2:\n",
    " print (\"O número é menor ou igual a 2.\")\n",
    "if número >= -3 and número < 1:\n",
    " print (\"O número é maior ou igual a -3 e menor que 1\")\n",
    "if número > 0 and número < 2:\n",
    " print (\"O número é maior que 0 e menor que 2 \")\n",
    "if número > 1 and número <= 3: \n",
    " print (\"O número é maior que 1 e menor ou igual a 3\")\n",
    "if número >= 4:\n",
    " print (\"O número é maior ou igual a 4\")"
   ]
  },
  {
   "cell_type": "code",
   "execution_count": null,
   "metadata": {},
   "outputs": [],
   "source": []
  },
  {
   "cell_type": "code",
   "execution_count": null,
   "metadata": {},
   "outputs": [],
   "source": []
  }
 ],
 "metadata": {
  "kernelspec": {
   "display_name": "Python 3",
   "language": "python",
   "name": "python3"
  },
  "language_info": {
   "codemirror_mode": {
    "name": "ipython",
    "version": 3
   },
   "file_extension": ".py",
   "mimetype": "text/x-python",
   "name": "python",
   "nbconvert_exporter": "python",
   "pygments_lexer": "ipython3",
   "version": "3.7.1"
  }
 },
 "nbformat": 4,
 "nbformat_minor": 2
}
