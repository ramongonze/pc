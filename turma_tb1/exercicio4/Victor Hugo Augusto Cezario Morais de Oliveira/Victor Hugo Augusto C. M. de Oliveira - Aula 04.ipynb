{
 "cells": [
  {
   "cell_type": "markdown",
   "metadata": {},
   "source": [
    "## Victor Hugo Augusto Cezario Morais de Oliveira - Aula 4 - 2018015561\n"
   ]
  },
  {
   "cell_type": "markdown",
   "metadata": {},
   "source": [
    "### Exercício 1: "
   ]
  },
  {
   "cell_type": "code",
   "execution_count": 2,
   "metadata": {},
   "outputs": [
    {
     "name": "stdout",
     "output_type": "stream",
     "text": [
      "Primeiro valor:  -5\n",
      "Segundo valor:  \u0007-9\n",
      "O Primeiro número é maior\n",
      "\n"
     ]
    }
   ],
   "source": [
    "a = int(input(\"Primeiro valor:  \"))\n",
    "b = int(input(\"Segundo valor:  \\a\"))\n",
    "\n",
    "if a > b:\n",
    "    print(\"O Primeiro número é maior\\n\")\n",
    "\n",
    "if a < b:  \n",
    "    print(\"O segundo número é o maior\\n\")\n",
    "\n",
    "if a == b: \n",
    "    print(\"Os números são iguais\")    "
   ]
  },
  {
   "cell_type": "markdown",
   "metadata": {},
   "source": [
    "### Exercício 2:"
   ]
  },
  {
   "cell_type": "markdown",
   "metadata": {},
   "source": [
    "Não teremos problemas pous a categoria INT abrange numeros inteiros positivos e negativos."
   ]
  },
  {
   "cell_type": "code",
   "execution_count": 1,
   "metadata": {},
   "outputs": [
    {
     "name": "stdout",
     "output_type": "stream",
     "text": [
      "Digite a idade do seu carro: -5\n",
      "Seu carro é novo\n"
     ]
    }
   ],
   "source": [
    "idade = int(input(\"Digite a idade do seu carro: \"))\n",
    "if idade <= 3:\n",
    "    print(\"Seu carro é novo\")\n",
    "if idade > 3:\n",
    "    print(\"Seu carro é velho\")"
   ]
  },
  {
   "cell_type": "code",
   "execution_count": 3,
   "metadata": {},
   "outputs": [
    {
     "name": "stdout",
     "output_type": "stream",
     "text": [
      "Primeiro valor:  -9\n",
      "Segundo valor:  \u00073\n",
      "O segundo número é o maior\n",
      "\n"
     ]
    }
   ],
   "source": [
    "a = int(input(\"Primeiro valor:  \"))\n",
    "b = int(input(\"Segundo valor:  \\a\"))\n",
    "\n",
    "if a > b:\n",
    "    print(\"O Primeiro número é maior\\n\")\n",
    "\n",
    "if a < b:  \n",
    "    print(\"O segundo número é o maior\\n\")\n",
    "\n",
    "if a == b: \n",
    "    print(\"Os números são iguais\")  "
   ]
  },
  {
   "cell_type": "markdown",
   "metadata": {},
   "source": [
    "### Exerício 3\n"
   ]
  },
  {
   "cell_type": "code",
   "execution_count": 2,
   "metadata": {},
   "outputs": [
    {
     "name": "stdout",
     "output_type": "stream",
     "text": [
      "Insira o valor do salário:  1500\n",
      "O salário de R$ 1500.00 pagará R$ 100.00 deimpostos \n"
     ]
    }
   ],
   "source": [
    "salario = float(input(\"Insira o valor do salário:  \"))\n",
    "\n",
    "imposto = 0\n",
    "calculo = salario\n",
    "\n",
    "if calculo > 3000:\n",
    "    \n",
    "    imposto = imposto + ((calculo - 3000) * 0.35)\n",
    "    calculo = 3000\n",
    "\n",
    "if calculo > 1000:\n",
    "    imposto = imposto + ((calculo -1000) * 0.20)\n",
    "    \n",
    "print(\"O salário de R$ %6.2f pagará R$ %6.2f deimpostos \" % (salario,imposto))    "
   ]
  },
  {
   "cell_type": "code",
   "execution_count": 3,
   "metadata": {},
   "outputs": [
    {
     "name": "stdout",
     "output_type": "stream",
     "text": [
      "Insira o valor do salário:  3000\n",
      "O salário de R$ 3000.00 pagará R$ 400.00 deimpostos \n"
     ]
    }
   ],
   "source": [
    "salario = float(input(\"Insira o valor do salário:  \"))\n",
    "\n",
    "imposto = 0\n",
    "calculo = salario\n",
    "\n",
    "if calculo > 3000:\n",
    "    \n",
    "    imposto = imposto + ((calculo - 3000) * 0.35)\n",
    "    calculo = 3000\n",
    "\n",
    "if calculo > 1000:\n",
    "    imposto = imposto + ((calculo -1000) * 0.20)\n",
    "    \n",
    "print(\"O salário de R$ %6.2f pagará R$ %6.2f deimpostos \" % (salario,imposto))    "
   ]
  },
  {
   "cell_type": "code",
   "execution_count": 4,
   "metadata": {},
   "outputs": [
    {
     "name": "stdout",
     "output_type": "stream",
     "text": [
      "Insira o valor do salário:  5000\n",
      "O salário de R$ 5000.00 pagará R$ 1100.00 deimpostos \n"
     ]
    }
   ],
   "source": [
    "salario = float(input(\"Insira o valor do salário:  \"))\n",
    "\n",
    "imposto = 0\n",
    "calculo = salario\n",
    "\n",
    "if calculo > 3000:\n",
    "    \n",
    "    imposto = imposto + ((calculo - 3000) * 0.35)\n",
    "    calculo = 3000\n",
    "\n",
    "if calculo > 1000:\n",
    "    imposto = imposto + ((calculo -1000) * 0.20)\n",
    "    \n",
    "print(\"O salário de R$ %6.2f pagará R$ %6.2f deimpostos \" % (salario,imposto))    "
   ]
  },
  {
   "cell_type": "markdown",
   "metadata": {},
   "source": [
    "### Exercício 4 "
   ]
  },
  {
   "cell_type": "code",
   "execution_count": 15,
   "metadata": {},
   "outputs": [
    {
     "name": "stdout",
     "output_type": "stream",
     "text": [
      "Digite a categoria: 0\n",
      "A categoria escolhida é inválida!\n"
     ]
    }
   ],
   "source": [
    "categoria = int(input(\"Digite a categoria: \"))\n",
    "\n",
    "if 0<categoria<6:\n",
    "    if categoria == 1:\n",
    "        preço = 10\n",
    "    elif categoria == 2:\n",
    "        preço = 18\n",
    "    elif categoria == 3:\n",
    "        preço = 23\n",
    "    elif categoria == 4:\n",
    "        preço == 26\n",
    "    elif categoria == 5:\n",
    "        preço = 31\n",
    "    print(\"O preço do produto é R$%6.2f\" % preço)      \n",
    "else:\n",
    "    print (\"A categoria escolhida é inválida!\")"
   ]
  },
  {
   "cell_type": "markdown",
   "metadata": {},
   "source": [
    "### Exercício 5"
   ]
  },
  {
   "cell_type": "code",
   "execution_count": 3,
   "metadata": {
    "collapsed": true
   },
   "outputs": [
    {
     "name": "stdin",
     "output_type": "stream",
     "text": [
      "Digite o primeiro número  2\n",
      "Digite o segundo número  4\n",
      "Digite o terceiro número  3\n"
     ]
    },
    {
     "name": "stdout",
     "output_type": "stream",
     "text": [
      "o menor número é: 2\n"
     ]
    }
   ],
   "source": [
    "numero1 = int(input(\"Digite o primeiro número \"))\n",
    "numero2 = int(input(\"Digite o segundo número \"))\n",
    "numero3 = int(input(\"Digite o terceiro número \"))\n",
    "menor = 0\n",
    "\n",
    "if numero1<numero2:\n",
    "    menor = numero1\n",
    "else:\n",
    "    menor = numero2\n",
    "    \n",
    "if numero1<numero3:\n",
    "    menor = numero1\n",
    "else:\n",
    "    menor = numero3\n",
    "\n",
    "print(\"o menor número é: %d\" % menor)    "
   ]
  },
  {
   "cell_type": "markdown",
   "metadata": {},
   "source": [
    "### Exercício 6:"
   ]
  },
  {
   "cell_type": "code",
   "execution_count": 24,
   "metadata": {},
   "outputs": [
    {
     "name": "stdin",
     "output_type": "stream",
     "text": [
      "Digite o primeiro número  1\n",
      "Digite o segundo número  5\n",
      "Digite o terceiro número  6\n"
     ]
    },
    {
     "name": "stdout",
     "output_type": "stream",
     "text": [
      "O maior ímpar entre os números digitados é: 1\n"
     ]
    }
   ],
   "source": [
    "numero1 = int(input(\"Digite o primeiro número \"))\n",
    "numero2 = int(input(\"Digite o segundo número \"))\n",
    "numero3 = int(input(\"Digite o terceiro número \"))\n",
    "impar1 = 0\n",
    "impar2 = 0\n",
    "impar3 = 0\n",
    "maior = 0\n",
    "\n",
    "if numero1 % 2 == 0:\n",
    "    impar1 = 0\n",
    "else:\n",
    "    impar1 = numero1\n",
    "\n",
    "if numero2 % 2 == 0:\n",
    "    impar2 = 0\n",
    "else:\n",
    "    impar2 = numero2\n",
    "    \n",
    "if numero3 % 2 == 0:\n",
    "    impar3 = 0\n",
    "else:\n",
    "    impar3 = numero3    \n",
    "\n",
    "if int(impar1 or impar2 or impar3) == 0:\n",
    "    print(\"Todos os números devem ser impar.\")\n",
    "\n",
    "else:    \n",
    "    if impar1>impar2:\n",
    "        maior = impar1\n",
    "    else:\n",
    "        maior = impar2    \n",
    "    if impar1>impar3:\n",
    "        maior = numero1\n",
    "    else:\n",
    "        maior = numero3\n",
    "    print(\"O maior ímpar entre os números digitados é: %d\" % maior)\n",
    "     "
   ]
  },
  {
   "cell_type": "markdown",
   "metadata": {},
   "source": [
    "### Exercício 7:"
   ]
  },
  {
   "cell_type": "code",
   "execution_count": 4,
   "metadata": {},
   "outputs": [
    {
     "name": "stdin",
     "output_type": "stream",
     "text": [
      "Digite o ano desejado:  2054\n"
     ]
    },
    {
     "name": "stdout",
     "output_type": "stream",
     "text": [
      "O ano não é bissexto\n"
     ]
    }
   ],
   "source": [
    "ano = int(input(\"Digite o ano desejado: \"))\n",
    "\n",
    "if (ano % 4 == 0) and (not (ano % 100 == 0)): # condição para que o ano seja bissexto.\n",
    "    print(\"O ano é bissexto.\")\n",
    "\n",
    "else:\n",
    "    print(\"O ano não é bissexto\")"
   ]
  },
  {
   "cell_type": "markdown",
   "metadata": {},
   "source": [
    "### Exercício 8:"
   ]
  },
  {
   "cell_type": "code",
   "execution_count": 9,
   "metadata": {},
   "outputs": [
    {
     "name": "stdin",
     "output_type": "stream",
     "text": [
      "Digite o número  -1\n"
     ]
    },
    {
     "name": "stdout",
     "output_type": "stream",
     "text": [
      "O número não está compreendido em nenhum dos intervalos enunciados. \n"
     ]
    }
   ],
   "source": [
    "numero = int(input(\"Digite o número \"))\n",
    "\n",
    "if float(\"-inf\")< numero <= -2:\n",
    "    print(\"O número digitado está compreendido no intervalo de -inf < número <= 2\")\n",
    "    \n",
    "elif -3 <= numero < -1: \n",
    "    print(\"O número digitado está compreendido no intervalo de -3 <= número < 1\")\n",
    "\n",
    "elif 0 < numero < 2:\n",
    "    print(\"O número digitado está compreendido no intervalo de 0 < número < 2\")\n",
    "\n",
    "elif 1 < numero <= 3:\n",
    "    print(\"O número digitado está compreendido no intervalo de 1 < número <= 3\")\n",
    "    \n",
    "elif 4 <= numero < float(\"inf\"):\n",
    "    print(\"O número digitado está compreendido no intervalo de 4 < número <= inf\")\n",
    "    \n",
    "else:\n",
    "    print(\"O número não está compreendido em nenhum dos intervalos enunciados. \")"
   ]
  },
  {
   "cell_type": "code",
   "execution_count": null,
   "metadata": {},
   "outputs": [],
   "source": []
  }
 ],
 "metadata": {
  "kernelspec": {
   "display_name": "Python 3",
   "language": "python",
   "name": "python3"
  },
  "language_info": {
   "codemirror_mode": {
    "name": "ipython",
    "version": 3
   },
   "file_extension": ".py",
   "mimetype": "text/x-python",
   "name": "python",
   "nbconvert_exporter": "python",
   "pygments_lexer": "ipython3",
   "version": "3.7.1"
  }
 },
 "nbformat": 4,
 "nbformat_minor": 2
}
