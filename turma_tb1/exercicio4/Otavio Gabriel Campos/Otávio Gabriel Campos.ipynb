{
 "cells": [
  {
   "cell_type": "markdown",
   "metadata": {},
   "source": [
    "Exercício 1"
   ]
  },
  {
   "cell_type": "code",
   "execution_count": 7,
   "metadata": {},
   "outputs": [
    {
     "name": "stdout",
     "output_type": "stream",
     "text": [
      "Primeiro valor: 1000\n",
      "Segundo valor: 1000\n",
      "O primeiro valor é igual ao segundo valor\n"
     ]
    }
   ],
   "source": [
    "a = int(input(\"Primeiro valor: \"))\n",
    "b = int(input(\"Segundo valor: \"))\n",
    "if a > b:\n",
    "   print(\"O primeiro valor é o maior\")\n",
    "if a < b:\n",
    "   print(\"O segundo valor é o maior\")\n",
    "if a == b:\n",
    "   print(\"O primeiro valor é igual ao segundo valor\")"
   ]
  },
  {
   "cell_type": "markdown",
   "metadata": {},
   "source": [
    "Exercício 2"
   ]
  },
  {
   "cell_type": "code",
   "execution_count": 85,
   "metadata": {},
   "outputs": [
    {
     "name": "stdout",
     "output_type": "stream",
     "text": [
      "Primeiro valor: -5\n",
      "Segundo valor: -10\n",
      "O primeiro número é o maior\n"
     ]
    }
   ],
   "source": [
    "a = int(input(\"Primeiro valor: \"))\n",
    "b = int(input(\"Segundo valor: \"))\n",
    "if a > b:\n",
    "   print(\"O primeiro número é o maior\")\n",
    "if a < b:\n",
    "   print(\"O segundo número é o maior\")\n",
    "if a == b:\n",
    "   print(\"O primeiro valor é igual ao segundo valor\")"
   ]
  },
  {
   "cell_type": "code",
   "execution_count": 28,
   "metadata": {
    "scrolled": true
   },
   "outputs": [
    {
     "name": "stdout",
     "output_type": "stream",
     "text": [
      "Digite a idade do seu carro: -5\n",
      "Idade não pode ser negativa\n"
     ]
    }
   ],
   "source": [
    "idade = int(input(\"Digite a idade do seu carro: \"))\n",
    "if idade >= 0 and idade <= 3:\n",
    "   print(\"Seu carro é novo\")\n",
    "if idade > 3:\n",
    "   print(\"Seu carro é velho\")\n",
    "if idade < 0:\n",
    "   print(\"Idade não pode ser negativa\")"
   ]
  },
  {
   "cell_type": "markdown",
   "metadata": {},
   "source": [
    "Exercício 3"
   ]
  },
  {
   "cell_type": "code",
   "execution_count": 34,
   "metadata": {},
   "outputs": [
    {
     "name": "stdout",
     "output_type": "stream",
     "text": [
      "Digite o salário para calcular o imposto: 1500\n",
      "O salário de R$1500.00 pagará R$100.00 de impostos.\n"
     ]
    }
   ],
   "source": [
    "salário = float(input(\"Digite o salário para calcular o imposto: \"))\n",
    "base_de_cálculo = salário\n",
    "imposto = 0\n",
    "if base_de_cálculo > 3000:\n",
    " imposto = imposto + ((base_de_cálculo - 3000) * 0.35)\n",
    " base_de_cálculo = 3000\n",
    "if base_de_cálculo > 1000:\n",
    " imposto = imposto + ((base_de_cálculo - 1000) * 0.20)\n",
    "print(\"O salário de R$%6.2f pagará R$%6.2f de impostos.\" % (salário,imposto))"
   ]
  },
  {
   "cell_type": "code",
   "execution_count": 35,
   "metadata": {},
   "outputs": [
    {
     "name": "stdout",
     "output_type": "stream",
     "text": [
      "Digite o salário para calcular o imposto: 3000\n",
      "O salário de R$3000.00 pagará R$400.00 de impostos.\n"
     ]
    }
   ],
   "source": [
    "salário = float(input(\"Digite o salário para calcular o imposto: \"))\n",
    "base_de_cálculo = salário\n",
    "imposto = 0\n",
    "if base_de_cálculo > 3000:\n",
    " imposto = imposto + ((base_de_cálculo - 3000) * 0.35)\n",
    " base_de_cálculo = 3000\n",
    "if base_de_cálculo > 1000:\n",
    " imposto = imposto + ((base_de_cálculo - 1000) * 0.20)\n",
    "print(\"O salário de R$%6.2f pagará R$%6.2f de impostos.\" % (salário,imposto))"
   ]
  },
  {
   "cell_type": "code",
   "execution_count": 37,
   "metadata": {},
   "outputs": [
    {
     "name": "stdout",
     "output_type": "stream",
     "text": [
      "Digite o salário para calcular o imposto: 5000\n",
      "O salário de R$5000.00 pagará R$1100.00 de impostos.\n"
     ]
    }
   ],
   "source": [
    "salário = float(input(\"Digite o salário para calcular o imposto: \"))\n",
    "base_de_cálculo = salário\n",
    "imposto = 0\n",
    "if base_de_cálculo > 3000:\n",
    " imposto = imposto + ((base_de_cálculo - 3000) * 0.35)\n",
    " base_de_cálculo = 3000\n",
    "if base_de_cálculo > 1000:\n",
    " imposto = imposto + ((base_de_cálculo - 1000) * 0.20)\n",
    "print(\"O salário de R$%6.2f pagará R$%6.2f de impostos.\" % (salário,imposto))"
   ]
  },
  {
   "cell_type": "markdown",
   "metadata": {},
   "source": [
    "Exercício 4"
   ]
  },
  {
   "cell_type": "code",
   "execution_count": 5,
   "metadata": {},
   "outputs": [
    {
     "name": "stdout",
     "output_type": "stream",
     "text": [
      "Digite a categoria: 6\n",
      "Categoria inexistente!! Digite um valor entre 1 e 5!!\n"
     ]
    }
   ],
   "source": [
    "categoria = int(input(\"Digite a categoria: \"))\n",
    "if categoria == 1:\n",
    "    preço = 10\n",
    "if categoria == 2:\n",
    "    preço = 18\n",
    "if categoria == 3:\n",
    "    preço = 23\n",
    "if categoria == 4:\n",
    "    preço = 26\n",
    "if categoria == 5:\n",
    "    preço = 31\n",
    "if (categoria < 1) or (categoria > 5):\n",
    "    print(\"Categoria inexistente!! Digite um valor entre 1 e 5!!\")\n",
    "else:\n",
    "    print(\"O preço do produto é R$%6.2f\" % preço)"
   ]
  },
  {
   "cell_type": "markdown",
   "metadata": {},
   "source": [
    "Exercício 5"
   ]
  },
  {
   "cell_type": "code",
   "execution_count": 7,
   "metadata": {
    "scrolled": true
   },
   "outputs": [
    {
     "name": "stdout",
     "output_type": "stream",
     "text": [
      "Primeiro valor: 1\n",
      "Segundo valor: -2\n",
      "Terceiro valor: 3\n",
      "O segundo número é o menor\n"
     ]
    }
   ],
   "source": [
    "a = int(input(\"Primeiro valor: \"))\n",
    "b = int(input(\"Segundo valor: \"))\n",
    "c = int(input(\"Terceiro valor: \"))\n",
    "if a < c and a < b:\n",
    "   print(\"O primeiro número é o menor\")\n",
    "if b < a and b < c:\n",
    "   print(\"O segundo número é o menor\")\n",
    "if c < a and c < b:\n",
    "   print(\"O terceiro número é o menor\")"
   ]
  },
  {
   "cell_type": "markdown",
   "metadata": {},
   "source": [
    "Exercício 6"
   ]
  },
  {
   "cell_type": "markdown",
   "metadata": {},
   "source": [
    "Para fazer o algoritmo, deve-se levar em consideração que pode haver 3 ímpares, 2 pares e 1 ímpar, 2 ímpares e 1 par ou 3 pares na escolha dos números. Com isso, quando for 3 ímpares basta fazer qual número é maior utilizando os sinais:\n",
    "A > C and A > B\n",
    "B > A and B > C\n",
    "C > A and C > B\n",
    "Quando for 2 pares e 1 ímpar, não importa o valor dos pares, visto que o ímpar será sempre o maior ímpar.\n",
    "Considerando que A é ímpar:\n",
    "A > B and A > C\n",
    "Considerando que B é ímpar:\n",
    "B > A and B > C\n",
    "Considerando que C é ímpar:\n",
    "C > A and C > B\n",
    "Quando for 2 ímpares e 1 par, deve-se excluir o par, visto que o valor dele não irá importar.\n",
    "Considerando que A é par:\n",
    "B > C or C > B\n",
    "Considerando que B é par:\n",
    "A > C or C > A\n",
    "Considerando que C é par:\n",
    "A > B or B > A\n",
    "Quando for 3 pares, não existe maior ímpar."
   ]
  },
  {
   "cell_type": "code",
   "execution_count": 3,
   "metadata": {},
   "outputs": [
    {
     "name": "stdout",
     "output_type": "stream",
     "text": [
      "Digite 3 numeros\n",
      "Digite o primeiro numero: 5\n",
      "Digite o segundo numero: 8\n",
      "Digite o terceiro numero: 8\n",
      "O maior número ímpar é: 5\n"
     ]
    }
   ],
   "source": [
    "print(\"Digite 3 numeros\")\n",
    "a = int(input(\"Digite o primeiro numero: \"))\n",
    "b = int(input(\"Digite o segundo numero: \"))\n",
    "c = int(input(\"Digite o terceiro numero: \"))\n",
    "if a > b and a > c and a % 2 == 1:\n",
    "    print(\"O maior número ímpar é: {}\".format (a))\n",
    "elif b > c and b % 2 == 1:\n",
    "    print(\"O maior número ímpar é: {}\".format (b))\n",
    "elif c % 2 == 1:\n",
    "    print(\"O1maior número ímpar é: {}\".format (c))\n",
    "\n",
    "if a % 2 == 1 and b % 2 == 1 and c % 2 == 1:\n",
    "    if a > b and a > c:\n",
    "        print(\"O maior número ímpar é: {}\".format (a))\n",
    "    elif b > c:\n",
    "        print(\"O maior número ímpar é: {}\".format (b))\n",
    "    \n",
    "elif a % 2 == 1 and b % 2 == 1:\n",
    "    if a > b:\n",
    "        print(\"O maior número ímpar é: {}\".format (a))\n",
    "    else:\n",
    "        print(\"O maior número ímpar é: {}\".format (b))\n",
    "elif a % 2 == 1 and c % 2 == 1:\n",
    "    if a > c:\n",
    "        print(\"O1maior número ímpar é: {}\".format (a))\n",
    "    else:\n",
    "        print(\"O maior número ímpar é: {}\".format (c))\n",
    "elif b % 2 == 1 and c % 2 == 1:\n",
    "    if b > c:\n",
    "        print(\"O maior número ímpar é: {}\".format (b))\n",
    "    else:\n",
    "        print(\"O maior número ímpar é: {}\".format (c))\n",
    "elif a % 2 == 1:\n",
    "        print(\"O maior número ímpar é: {}\".format (a))\n",
    "elif b % 2 == 1:\n",
    "        print(\"O 1maior número ímpar é: {}\".format (b))\n",
    "else:\n",
    "    print(\"Não tem maior ímpar\")"
   ]
  },
  {
   "cell_type": "markdown",
   "metadata": {},
   "source": [
    "Exercício 7"
   ]
  },
  {
   "cell_type": "code",
   "execution_count": 20,
   "metadata": {
    "scrolled": true
   },
   "outputs": [
    {
     "name": "stdout",
     "output_type": "stream",
     "text": [
      "Digite o ano:2016\n",
      "Ano bissexto\n"
     ]
    }
   ],
   "source": [
    "ano = int(input(\"Digite o ano:\"))\n",
    "if (ano % 100) != 0 and (ano % 4) == 0 or (ano % 400) == 0:\n",
    " print(\"Ano bissexto\")\n",
    "else:\n",
    " print(\"Não é ano bissexto\")"
   ]
  },
  {
   "cell_type": "markdown",
   "metadata": {},
   "source": [
    "Exercício 8"
   ]
  },
  {
   "cell_type": "code",
   "execution_count": 6,
   "metadata": {},
   "outputs": [
    {
     "name": "stdout",
     "output_type": "stream",
     "text": [
      "Digite um valor: 5\n",
      "Intervalo: 4 <= a < inf\n"
     ]
    }
   ],
   "source": [
    "a = int(input(\"Digite um valor: \"))\n",
    "if float(\"-inf\") < a and a <= -2:\n",
    "   print(\"Intervalo: -inf < n <= -2\")\n",
    "if -3 <= a and a < -1:\n",
    "   print(\"Intervalo: -3 <= a < -1\")\n",
    "if 0 < a and a < 2:\n",
    "   print(\"Intervalo: 0 < a < 2\")\n",
    "if 1 < a and a <= 3:\n",
    "   print(\"Intervalo: 1 < a <= 3\")\n",
    "if 4 <= a and a < float(\"inf\"): \n",
    "   print(\"Intervalo: 4 <= a < inf\")"
   ]
  }
 ],
 "metadata": {
  "kernelspec": {
   "display_name": "Python 3",
   "language": "python",
   "name": "python3"
  },
  "language_info": {
   "codemirror_mode": {
    "name": "ipython",
    "version": 3
   },
   "file_extension": ".py",
   "mimetype": "text/x-python",
   "name": "python",
   "nbconvert_exporter": "python",
   "pygments_lexer": "ipython3",
   "version": "3.7.1"
  }
 },
 "nbformat": 4,
 "nbformat_minor": 2
}
