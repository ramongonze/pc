{
 "cells": [
  {
   "cell_type": "markdown",
   "metadata": {},
   "source": [
    "# Matheus Pangella de Lana 2017106857"
   ]
  },
  {
   "cell_type": "markdown",
   "metadata": {},
   "source": [
    "# Exercicio 1"
   ]
  },
  {
   "cell_type": "code",
   "execution_count": 7,
   "metadata": {},
   "outputs": [
    {
     "name": "stdout",
     "output_type": "stream",
     "text": [
      "Primeiro valor: 10\n",
      "Segundo valor: -50\n",
      "O primeiro número é o maior\n"
     ]
    }
   ],
   "source": [
    "a = int(input(\"Primeiro valor: \"))\n",
    "b = int(input(\"Segundo valor: \"))\n",
    "if a > b:\n",
    "    print(\"O primeiro número é o maior\")\n",
    "if a < b:\n",
    "    print(\"O segundo número é o maior\")\n",
    "if a==b:\n",
    "    print(\"os numeros são iguais\")\n",
    "    "
   ]
  },
  {
   "cell_type": "markdown",
   "metadata": {},
   "source": [
    "# Exercicio 2 "
   ]
  },
  {
   "cell_type": "code",
   "execution_count": 8,
   "metadata": {},
   "outputs": [
    {
     "data": {
      "text/plain": [
       "'o de numero maior funciona mesmo com numeros negativos'"
      ]
     },
     "execution_count": 8,
     "metadata": {},
     "output_type": "execute_result"
    }
   ],
   "source": [
    "\"o de numero maior funciona mesmo com numeros negativos\""
   ]
  },
  {
   "cell_type": "code",
   "execution_count": 14,
   "metadata": {},
   "outputs": [
    {
     "name": "stdout",
     "output_type": "stream",
     "text": [
      "Digite a idade do seu carro: -2\n",
      "Erro:Idade não pode ser negativa\n"
     ]
    }
   ],
   "source": [
    "idade = int(input(\"Digite a idade do seu carro: \"))\n",
    "if idade < 0:\n",
    "    print(\"Erro:Idade não pode ser negativa\")\n",
    "if idade <= 3 and idade >= 0:\n",
    "    print(\"Seu carro é novo\")\n",
    "if idade > 3:\n",
    "    print(\"Seu carro é velho\")"
   ]
  },
  {
   "cell_type": "markdown",
   "metadata": {},
   "source": [
    "# Exercicio 3"
   ]
  },
  {
   "cell_type": "code",
   "execution_count": 15,
   "metadata": {},
   "outputs": [
    {
     "name": "stdout",
     "output_type": "stream",
     "text": [
      "Digite o salário para calcular o imposto: 1500\n",
      "O salário de R$1500.00 pagará R$100.00 de impostos.\n"
     ]
    }
   ],
   "source": [
    "salário = float(input(\"Digite o salário para calcular\" \" o imposto: \"))\n",
    "base_de_cálculo = salário\n",
    "imposto = 0\n",
    "if base_de_cálculo > 3000:\n",
    "    imposto = imposto + ((base_de_cálculo - 3000) * 0.35)\n",
    "    base_de_cálculo = 3000\n",
    "if base_de_cálculo > 1000:\n",
    "    imposto = imposto + ((base_de_cálculo - 1000) * 0.20)\n",
    "    print(\"O salário de R$%6.2f pagará R$%6.2f de \" \"impostos.\" % (salário,imposto))"
   ]
  },
  {
   "cell_type": "code",
   "execution_count": 16,
   "metadata": {},
   "outputs": [
    {
     "name": "stdout",
     "output_type": "stream",
     "text": [
      "Digite o salário para calcular o imposto: 3000\n",
      "O salário de R$3000.00 pagará R$400.00 de impostos.\n"
     ]
    }
   ],
   "source": [
    "salário = float(input(\"Digite o salário para calcular\" \" o imposto: \"))\n",
    "base_de_cálculo = salário\n",
    "imposto = 0\n",
    "if base_de_cálculo > 3000:\n",
    "    imposto = imposto + ((base_de_cálculo - 3000) * 0.35)\n",
    "    base_de_cálculo = 3000\n",
    "if base_de_cálculo > 1000:\n",
    "    imposto = imposto + ((base_de_cálculo - 1000) * 0.20)\n",
    "    print(\"O salário de R$%6.2f pagará R$%6.2f de \" \"impostos.\" % (salário,imposto))"
   ]
  },
  {
   "cell_type": "code",
   "execution_count": 17,
   "metadata": {},
   "outputs": [
    {
     "name": "stdout",
     "output_type": "stream",
     "text": [
      "Digite o salário para calcular o imposto: 5000\n",
      "O salário de R$5000.00 pagará R$1100.00 de impostos.\n"
     ]
    }
   ],
   "source": [
    "salário = float(input(\"Digite o salário para calcular\" \" o imposto: \"))\n",
    "base_de_cálculo = salário\n",
    "imposto = 0\n",
    "if base_de_cálculo > 3000:\n",
    "    imposto = imposto + ((base_de_cálculo - 3000) * 0.35)\n",
    "    base_de_cálculo = 3000\n",
    "if base_de_cálculo > 1000:\n",
    "    imposto = imposto + ((base_de_cálculo - 1000) * 0.20)\n",
    "    print(\"O salário de R$%6.2f pagará R$%6.2f de \" \"impostos.\" % (salário,imposto))"
   ]
  },
  {
   "cell_type": "markdown",
   "metadata": {},
   "source": [
    "# Exercicio 4"
   ]
  },
  {
   "cell_type": "code",
   "execution_count": 1,
   "metadata": {},
   "outputs": [
    {
     "name": "stdout",
     "output_type": "stream",
     "text": [
      "Digite a categoria: 10\n",
      "Categoria inválida! Digite um valor entre 1 e 5!\n"
     ]
    }
   ],
   "source": [
    "categoria = int(input(\"Digite a categoria: \"))\n",
    "if categoria == 1:\n",
    "    preço = 10\n",
    "elif categoria == 2:\n",
    "    preço = 18\n",
    "elif categoria == 3:\n",
    "    preço = 23\n",
    "elif categoria == 4:\n",
    "    preço = 26\n",
    "elif categoria == 5:\n",
    "    preço = 31\n",
    "elif categoria<1 or categoria >5:\n",
    "    print(\"Categoria inválida! Digite um valor entre 1 e 5!\")\n",
    "if categoria <=5 and categoria >=1:\n",
    "    print(\"O preço do produto é R$%6.2f\" % preço)\n",
    "\n"
   ]
  },
  {
   "cell_type": "markdown",
   "metadata": {},
   "source": [
    "# Exercicio 5"
   ]
  },
  {
   "cell_type": "code",
   "execution_count": 1,
   "metadata": {},
   "outputs": [
    {
     "name": "stdout",
     "output_type": "stream",
     "text": [
      "digite um valor para 'a':1\n",
      "digite um valor diferente de 'a' para 'b':2\n",
      "digite um valor diferente de 'a' e 'b' para 'c':3\n",
      "a é o menor inteiro\n"
     ]
    }
   ],
   "source": [
    "a = int(input(\"digite um valor para 'a':\"))\n",
    "b = int(input(\"digite um valor diferente de 'a' para 'b':\"))\n",
    "c = int(input(\"digite um valor diferente de 'a' e 'b' para 'c':\"))\n",
    "if a<b and a<c:\n",
    "    print('a é o menor inteiro')\n",
    "elif b<a and b<c:\n",
    "    print('b é o menor inteiro')\n",
    "else:\n",
    "    print('c é o menor inteiro')"
   ]
  },
  {
   "cell_type": "markdown",
   "metadata": {},
   "source": [
    "# Exercicio 6"
   ]
  },
  {
   "cell_type": "code",
   "execution_count": 20,
   "metadata": {},
   "outputs": [
    {
     "name": "stdout",
     "output_type": "stream",
     "text": [
      "digite um valor para 'a':10\n",
      "digite um valor para 'b':-5\n",
      "digite um valor para 'c':-11\n",
      "b é o maior impar dos 3 inteiros\n"
     ]
    }
   ],
   "source": [
    "a = int(input(\"digite um valor para 'a':\"))\n",
    "b = int(input(\"digite um valor para 'b':\"))\n",
    "c = int(input(\"digite um valor para 'c':\"))\n",
    "if (a%2 != 0) and (b%2 == 0) and (c%2 == 0): \n",
    "    print('a é o maior impar dos 3 inteiros')\n",
    "elif (a%2 == 0) and (b%2 != 0) and (c%2 == 0): \n",
    "    print('b é o maior impar dos 3 inteiros')\n",
    "elif (a%2 == 0) and (b%2 == 0) and (c%2 != 0) :\n",
    "    print('c é o maior impar dos 3 inteiros')\n",
    "elif (a%2 != 0) and (b%2 != 0) and (c%2 != 0):\n",
    "    if a>b and a>c:\n",
    "        print('a é o maior impar dos 3 inteiros')\n",
    "    if b>a and b>c:\n",
    "        print('b é o maior impar dos 3 inteiros')\n",
    "    else:\n",
    "        print('c é o maior impar dos 3 inteiros')\n",
    "elif (a%2 != 0) and (b%2 != 0) and (c%2 == 0):\n",
    "    if a>b :\n",
    "        print('a é o maior impar dos 3 inteiros')\n",
    "    if b>a :\n",
    "        print('b é o maior impar dos 3 inteiros')\n",
    "elif (a%2 != 0) and (b%2 == 0) and (c%2 != 0):\n",
    "    if a>c :\n",
    "        print('a é o maior impar dos 3 inteiros')\n",
    "    if c>a :\n",
    "        print('c é o maior impar dos 3 inteiros')\n",
    "elif (a%2 == 0) and (b%2 != 0) and (c%2 != 0):\n",
    "    if c>b :\n",
    "        print('c é o maior impar dos 3 inteiros')\n",
    "    if b>c :\n",
    "        print('b é o maior impar dos 3 inteiros')\n",
    "else:\n",
    "    print('nenhum dos valores são ímpares')\n",
    "    "
   ]
  },
  {
   "cell_type": "markdown",
   "metadata": {},
   "source": [
    "# Exercicio 7"
   ]
  },
  {
   "cell_type": "code",
   "execution_count": 4,
   "metadata": {},
   "outputs": [
    {
     "name": "stdout",
     "output_type": "stream",
     "text": [
      "Ano que deseja verificar se é bissexto:2016\n",
      "o Ano é bissexto\n"
     ]
    }
   ],
   "source": [
    "Ano = int(input('Ano que deseja verificar se é bissexto:'))\n",
    "if Ano%4 != 0:\n",
    "    print('o Ano não é bissexto')\n",
    "elif Ano%100 != 0:\n",
    "    print('o Ano é bissexto')\n",
    "elif Ano%400 != 0:\n",
    "    print('o Ano não é bissexto')\n",
    "else:\n",
    "    print('o ano é bissexto')\n",
    "    "
   ]
  },
  {
   "cell_type": "markdown",
   "metadata": {},
   "source": [
    "# Exercicio 8"
   ]
  },
  {
   "cell_type": "code",
   "execution_count": 14,
   "metadata": {},
   "outputs": [
    {
     "name": "stdout",
     "output_type": "stream",
     "text": [
      "Numero que deseja verificar o intervalo:6\n",
      "o Numero está no intervalo 4≤ n \n"
     ]
    }
   ],
   "source": [
    "Numero= int(input('Numero que deseja verificar o intervalo:'))\n",
    "if Numero < -1 :\n",
    "    if Numero >=-3 and Numero <=-2:\n",
    "        print('o Numero está nos intervalos −3<= n < −1  e  n <=−2 ' )\n",
    "    else:\n",
    "        print('o Numero está no intervalo n ≤−2 ')\n",
    "elif Numero <=3:\n",
    "    if Numero >1 :\n",
    "        print('o Numero está no intervalo 1 < n <=3 ')\n",
    "    elif Numero ==1  :\n",
    "        print('o Numero está no intervalo 0 < n < 2  ' )\n",
    "elif Numero >=4:\n",
    "    print('o Numero está no intervalo 4≤ n ')\n",
    "else:\n",
    "    print('O Numero não está nos intervalos')\n",
    "    "
   ]
  },
  {
   "cell_type": "code",
   "execution_count": null,
   "metadata": {},
   "outputs": [],
   "source": []
  },
  {
   "cell_type": "code",
   "execution_count": null,
   "metadata": {},
   "outputs": [],
   "source": []
  },
  {
   "cell_type": "code",
   "execution_count": null,
   "metadata": {},
   "outputs": [],
   "source": []
  },
  {
   "cell_type": "code",
   "execution_count": null,
   "metadata": {},
   "outputs": [],
   "source": []
  },
  {
   "cell_type": "code",
   "execution_count": null,
   "metadata": {},
   "outputs": [],
   "source": []
  }
 ],
 "metadata": {
  "kernelspec": {
   "display_name": "Python 3",
   "language": "python",
   "name": "python3"
  },
  "language_info": {
   "codemirror_mode": {
    "name": "ipython",
    "version": 3
   },
   "file_extension": ".py",
   "mimetype": "text/x-python",
   "name": "python",
   "nbconvert_exporter": "python",
   "pygments_lexer": "ipython3",
   "version": "3.6.7"
  }
 },
 "nbformat": 4,
 "nbformat_minor": 2
}
