{
 "cells": [
  {
   "cell_type": "markdown",
   "metadata": {},
   "source": [
    "# Exercicio 1"
   ]
  },
  {
   "cell_type": "code",
   "execution_count": 1,
   "metadata": {},
   "outputs": [
    {
     "name": "stdout",
     "output_type": "stream",
     "text": [
      "Primeiro valor:88\n",
      "Segundo valor:88\n",
      "O primeiro valor é igual ao segundo valor\n"
     ]
    }
   ],
   "source": [
    "a = int(input(\"Primeiro valor:\"))\n",
    "b = int(input(\"Segundo valor:\"))\n",
    "if a>b:\n",
    "    print(\"O primeiro valor é o maior\")\n",
    "if a<b:\n",
    "    print(\"O segundo valor é o maior\")\n",
    "if a==b:\n",
    "    print(\"O primeiro valor é igual ao segundo valor\")"
   ]
  },
  {
   "cell_type": "markdown",
   "metadata": {},
   "source": [
    "# Exercicio 2"
   ]
  },
  {
   "cell_type": "markdown",
   "metadata": {},
   "source": [
    "# Número maior"
   ]
  },
  {
   "cell_type": "code",
   "execution_count": 1,
   "metadata": {},
   "outputs": [
    {
     "name": "stdout",
     "output_type": "stream",
     "text": [
      "Primeiro valor:-88\n",
      "Segundo valor:-89\n",
      "O primeiro valor é o maior\n"
     ]
    }
   ],
   "source": [
    "a = int(input(\"Primeiro valor:\"))\n",
    "b = int(input(\"Segundo valor:\"))\n",
    "if a>b:\n",
    "    print(\"O primeiro valor é o maior\")\n",
    "if a<b:\n",
    "    print(\"O segundo valor é o maior\")"
   ]
  },
  {
   "cell_type": "markdown",
   "metadata": {},
   "source": [
    "## Não acontece nenhum erro se digitarmos um numero negativo."
   ]
  },
  {
   "cell_type": "markdown",
   "metadata": {},
   "source": [
    "# Carro novo"
   ]
  },
  {
   "cell_type": "code",
   "execution_count": 6,
   "metadata": {},
   "outputs": [
    {
     "name": "stdout",
     "output_type": "stream",
     "text": [
      "Digite a idade do seu carro:-88\n",
      "Seu carro é novo!\n"
     ]
    }
   ],
   "source": [
    "Idade=int(input(\"Digite a idade do seu carro:\"))\n",
    "if Idade<=3:\n",
    "    print(\"Seu carro é novo!\")\n",
    "if Idade>3:\n",
    "    print(\"Seu carro é velho!\")"
   ]
  },
  {
   "cell_type": "markdown",
   "metadata": {},
   "source": [
    "## Acontece um erro, pois não existe idade negativa."
   ]
  },
  {
   "cell_type": "code",
   "execution_count": 10,
   "metadata": {},
   "outputs": [
    {
     "name": "stdout",
     "output_type": "stream",
     "text": [
      "Digite a idade do seu carro:-88\n",
      "Idade invalida! Digite um numero positivo\n"
     ]
    }
   ],
   "source": [
    "Idade=int(input(\"Digite a idade do seu carro:\"))\n",
    "if Idade<=3 and Idade>=0:\n",
    "    print(\"Seu carro é novo!\")\n",
    "if Idade>3:\n",
    "    print(\"Seu carro é velho!\")\n",
    "if Idade<0:\n",
    "    print(\"Idade invalida! Digite um numero positivo\")"
   ]
  },
  {
   "cell_type": "markdown",
   "metadata": {},
   "source": [
    "# Exercicio 3"
   ]
  },
  {
   "cell_type": "code",
   "execution_count": 3,
   "metadata": {},
   "outputs": [
    {
     "name": "stdout",
     "output_type": "stream",
     "text": [
      "Digite o salario para calcularo imposto:1500\n",
      "O salario R$1500.00 de pagará R$100.00 de impostos.\n"
     ]
    }
   ],
   "source": [
    "salário=float(input(\"Digite o salario para calcular\"\n",
    "                    \"o imposto:\"))\n",
    "base_de_calculo=salário\n",
    "imposto=0\n",
    "if base_de_calculo>3000:\n",
    "    imposto=imposto + ((base_de_calculo-3000)*0.35)\n",
    "    base_de_calculo=3000\n",
    "if base_de_calculo>1000:\n",
    "    imposto=imposto + ((base_de_calculo-1000)*0.20)\n",
    "print(\"O salario R$%6.2f de pagará R$%6.2f de \"\n",
    "     \"impostos.\" %(salário,imposto))"
   ]
  },
  {
   "cell_type": "code",
   "execution_count": 4,
   "metadata": {},
   "outputs": [
    {
     "name": "stdout",
     "output_type": "stream",
     "text": [
      "Digite o salario para calcularo imposto:3000\n",
      "O salario R$3000.00 de pagará R$400.00 de impostos.\n"
     ]
    }
   ],
   "source": [
    "salário=float(input(\"Digite o salario para calcular\"\n",
    "                    \"o imposto:\"))\n",
    "base_de_calculo=salário\n",
    "imposto=0\n",
    "if base_de_calculo>3000:\n",
    "    imposto=imposto + ((base_de_calculo-3000)*0.35)\n",
    "    base_de_calculo=3000\n",
    "if base_de_calculo>1000:\n",
    "    imposto=imposto + ((base_de_calculo-1000)*0.20)\n",
    "print(\"O salario R$%6.2f de pagará R$%6.2f de \"\n",
    "     \"impostos.\" %(salário,imposto))"
   ]
  },
  {
   "cell_type": "code",
   "execution_count": 6,
   "metadata": {},
   "outputs": [
    {
     "name": "stdout",
     "output_type": "stream",
     "text": [
      "Digite o salario para calcularo imposto:5000\n",
      "O salario R$5000.00 de pagará R$1100.00 de impostos.\n"
     ]
    }
   ],
   "source": [
    "salário=float(input(\"Digite o salario para calcular\"\n",
    "                    \"o imposto:\"))\n",
    "base_de_calculo=salário\n",
    "imposto=0\n",
    "if base_de_calculo>3000:\n",
    "    imposto=imposto + ((base_de_calculo-3000)*0.35)\n",
    "    base_de_calculo=3000\n",
    "if base_de_calculo>1000:\n",
    "    imposto=imposto + ((base_de_calculo-1000)*0.20)\n",
    "print(\"O salario R$%6.2f de pagará R$%6.2f de \"\n",
    "     \"impostos.\" %(salário,imposto))"
   ]
  },
  {
   "cell_type": "markdown",
   "metadata": {},
   "source": [
    "# Exercicio 4"
   ]
  },
  {
   "cell_type": "code",
   "execution_count": 57,
   "metadata": {},
   "outputs": [
    {
     "name": "stdout",
     "output_type": "stream",
     "text": [
      "Digite a categoria:9\n",
      "Categoria invalida! Digite um valor de 1 a 5!\n"
     ]
    }
   ],
   "source": [
    "categoria=int(input(\"Digite a categoria:\"))\n",
    "if categoria==1:\n",
    "    preço=10\n",
    "elif categoria==2:\n",
    "    preço=18\n",
    "elif categoria==3:\n",
    "    preço=23\n",
    "elif categoria==4:\n",
    "    preço=26\n",
    "elif categoria==5:\n",
    "    preço=31\n",
    "elif categoria>5 or categoria<1:\n",
    "    print(\"Categoria invalida! Digite um valor de 1 a 5!\")\n",
    "else:\n",
    "    print(\"O preço do produto é R$%6.2f\" %preço)"
   ]
  },
  {
   "cell_type": "markdown",
   "metadata": {},
   "source": [
    "# Exercicio 5"
   ]
  },
  {
   "cell_type": "code",
   "execution_count": 51,
   "metadata": {},
   "outputs": [
    {
     "name": "stdout",
     "output_type": "stream",
     "text": [
      "Digite a:-88\n",
      "Digite b, sendo b diferente de a:-89\n",
      "Digite c,  sendo c diferente de a e de b:-90\n",
      "O menor entre a, b e c, é o c\n"
     ]
    }
   ],
   "source": [
    "a = int(input(\"Digite a:\"))\n",
    "b = int(input(\"Digite b, sendo b diferente de a:\"))\n",
    "c = int(input(\"Digite c,  sendo c diferente de a e de b:\"))\n",
    "if a>b:\n",
    "    if b>c:\n",
    "        print(\"O menor entre a, b e c, é o c\")\n",
    "    else:\n",
    "        print(\"O menor entre a, b e c, é o b\")\n",
    "if a<c:\n",
    "    print(\"O menor entre a, b e c, é o a\")"
   ]
  },
  {
   "cell_type": "markdown",
   "metadata": {},
   "source": [
    "# Exercicio 6"
   ]
  },
  {
   "cell_type": "code",
   "execution_count": null,
   "metadata": {},
   "outputs": [],
   "source": []
  },
  {
   "cell_type": "markdown",
   "metadata": {},
   "source": [
    "# Exercicio 7"
   ]
  },
  {
   "cell_type": "code",
   "execution_count": null,
   "metadata": {},
   "outputs": [],
   "source": []
  },
  {
   "cell_type": "markdown",
   "metadata": {},
   "source": [
    "# Exercicio 8"
   ]
  },
  {
   "cell_type": "code",
   "execution_count": 8,
   "metadata": {},
   "outputs": [
    {
     "name": "stdout",
     "output_type": "stream",
     "text": [
      "Digite um número real (n):2\n",
      " O numero real n está contido no intervalo: (1<n<=3)\n"
     ]
    }
   ],
   "source": [
    "n = float(input(\"Digite um número real (n):\"))\n",
    "a = float(\"-inf\")\n",
    "b = float(\"inf\")\n",
    "if -3<=n and n<=-2:\n",
    "    print(\" O numero real n está contido nos intervalos: (a<n<=-2) e (-3<=n<-1)\")\n",
    "elif a>n and n<=-2:    \n",
    "    print(\"O numero real n está contido no intervalo:(a<n<=-2)\")\n",
    "elif -3<=n and n<-1:\n",
    "    print(\" O numero real n está contido no intervalo:(-3<=n<-1\")\n",
    "elif 1<n and n<2:\n",
    "    print(\" O numero real n está contido nos intervalos: (0<n<2) e (1<n<=3)\")\n",
    "elif 0<n and n<2:\n",
    "    print(\" O numero real n está contido no intervalo: (0<n<2)\")\n",
    "elif 3<=n and n>=4:\n",
    "    print(\" O numero real n está contido nos intervalos:(1<n<=3) e (4<=n<b), b=float(inf)\")\n",
    "elif 1<n and n<=3:\n",
    "    print(\" O numero real n está contido no intervalo: (1<n<=3)\")\n",
    "elif 4<n and n<b:\n",
    "    print(\" O numero real n está contido no intervalo: (4<=n<b), b=float(inf)\")"
   ]
  }
 ],
 "metadata": {
  "kernelspec": {
   "display_name": "Python 3",
   "language": "python",
   "name": "python3"
  },
  "language_info": {
   "codemirror_mode": {
    "name": "ipython",
    "version": 3
   },
   "file_extension": ".py",
   "mimetype": "text/x-python",
   "name": "python",
   "nbconvert_exporter": "python",
   "pygments_lexer": "ipython3",
   "version": "3.6.7"
  }
 },
 "nbformat": 4,
 "nbformat_minor": 2
}
