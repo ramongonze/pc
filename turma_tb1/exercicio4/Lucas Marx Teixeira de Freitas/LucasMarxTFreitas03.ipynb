{
 "cells": [
  {
   "cell_type": "raw",
   "metadata": {},
   "source": [
    "Lucas Marx T. Freitas 2018015570 "
   ]
  },
  {
   "cell_type": "raw",
   "metadata": {},
   "source": [
    "Exercicio 1"
   ]
  },
  {
   "cell_type": "code",
   "execution_count": 29,
   "metadata": {},
   "outputs": [
    {
     "name": "stdin",
     "output_type": "stream",
     "text": [
      "Primeiro valor:  3\n",
      "Segundo valor:  -3\n"
     ]
    },
    {
     "name": "stdout",
     "output_type": "stream",
     "text": [
      "O primeiro número é o maior\n"
     ]
    }
   ],
   "source": [
    "x = int(input(\"Primeiro valor: \")) \n",
    "y = int(input(\"Segundo valor: \"))\n",
    "if x > y: \n",
    "    print(\"O primeiro número é o maior\") \n",
    "if x < y: \n",
    "    print(\"O segundo número é o maior\")\n",
    "if x == y:\n",
    "    print(\"Os dois números são iguais\")"
   ]
  },
  {
   "cell_type": "raw",
   "metadata": {},
   "source": [
    "Exercicio 2\n",
    "se digitamos valores negativos no programa do número maior, o programa os reconhece corretamente.\n",
    "(ex se x = -570 e y = -155 será definido corretamente que \"O segundo número é o maior\")\n",
    "\n",
    "já no programa do carro novo, digitar um número negativo garante a mensagem \"Seu carro é novo\", mesmo com a impossibilidade de um objeto ter idade negativa.\n",
    "(ex se idade = -570 será definido incorretamente que \"Seu carro é novo\")"
   ]
  },
  {
   "cell_type": "code",
   "execution_count": 2,
   "metadata": {},
   "outputs": [
    {
     "name": "stdin",
     "output_type": "stream",
     "text": [
      "Primeiro valor:  2\n",
      "Segundo valor:  2\n"
     ]
    },
    {
     "name": "stdout",
     "output_type": "stream",
     "text": [
      "Os dois números são iguais\n"
     ]
    },
    {
     "name": "stdin",
     "output_type": "stream",
     "text": [
      "Digite a idade do seu carro:  -3\n"
     ]
    },
    {
     "name": "stdout",
     "output_type": "stream",
     "text": [
      "valor inválido\n"
     ]
    }
   ],
   "source": [
    "#Programa do numero maior\n",
    "x = int(input(\"Primeiro valor: \")) \n",
    "y = int(input(\"Segundo valor: \"))\n",
    "if x > y: \n",
    "    print(\"O primeiro número é o maior\") \n",
    "if x < y: \n",
    "    print(\"O segundo número é o maior\")\n",
    "if x == y:\n",
    "    print(\"Os dois números são iguais\")\n",
    "    \n",
    "    \n",
    "    \n",
    "#programa carro novo\n",
    "idade = int(input(\"Digite a idade do seu carro: \"))\n",
    "if idade > 3: \n",
    "    print(\"Seu carro é velho\") \n",
    "if idade <= 3 and idade >= 0:\n",
    "    print(\"Seu carro é novo\")\n",
    "if idade < 0:\n",
    "    print(\"valor inválido\")\n",
    "    "
   ]
  },
  {
   "cell_type": "raw",
   "metadata": {},
   "source": [
    "Exercicio 3\n",
    "salário 1500: valor do imposto = 100\n",
    "        3000: valor do imposto = 400\n",
    "        5000: valor do imposto = 1100\n",
    "        (o programa da transparência não foi alterado)"
   ]
  },
  {
   "cell_type": "code",
   "execution_count": 30,
   "metadata": {},
   "outputs": [
    {
     "name": "stdin",
     "output_type": "stream",
     "text": [
      "Digite o salário para calcular o imposto:  -5\n"
     ]
    },
    {
     "name": "stdout",
     "output_type": "stream",
     "text": [
      "O salário de R$ -5.00 pagará R$  0.00 de impostos.\n",
      "o valor do salário é inválido\n"
     ]
    }
   ],
   "source": [
    "salário = float(input(\"Digite o salário para calcular o imposto: \")) \n",
    "base_de_cálculo = salário\n",
    "imposto = 0 \n",
    "if base_de_cálculo > 3000: \n",
    "    imposto = imposto + ((base_de_cálculo - 3000) * 0.35) \n",
    "    base_de_cálculo = 3000 \n",
    "if base_de_cálculo > 1000: imposto = imposto + ((base_de_cálculo - 1000) * 0.20) \n",
    "print(\"O salário de R$%6.2f pagará R$%6.2f de \" \"impostos.\" % (salário,imposto))"
   ]
  },
  {
   "cell_type": "raw",
   "metadata": {},
   "source": [
    "Exercicio 4"
   ]
  },
  {
   "cell_type": "code",
   "execution_count": 13,
   "metadata": {},
   "outputs": [
    {
     "name": "stdin",
     "output_type": "stream",
     "text": [
      "Digite a categoria:  6\n"
     ]
    },
    {
     "name": "stdout",
     "output_type": "stream",
     "text": [
      "Categoria inválida! Digite um valor entre 1 e 5!\n"
     ]
    }
   ],
   "source": [
    "categoria = int(input(\"Digite a categoria: \")) \n",
    "if categoria == 1: \n",
    "    preço = 15\n",
    "elif categoria == 2: \n",
    "    preço = 55\n",
    "elif categoria == 3: \n",
    "    preço = 57\n",
    "elif categoria == 4: \n",
    "    preço = 70\n",
    "elif categoria == 5: \n",
    "    preço = 155\n",
    "else: \n",
    "    print(\"Categoria inválida! Digite um valor entre 1 e 5!\") \n",
    "if 1 <= categoria <= 5:\n",
    "    print(\"O preço do produto é R$%6.2f\" % preço)"
   ]
  },
  {
   "cell_type": "raw",
   "metadata": {},
   "source": [
    "Exercicio 5"
   ]
  },
  {
   "cell_type": "code",
   "execution_count": null,
   "metadata": {},
   "outputs": [],
   "source": [
    "Valor1 = int(input(\"digite o primeiro valor\"))\n",
    "Valor2 = int(input(\"digite o segundo valor\"))\n",
    "Valor3 = int(input(\"digite o terceiro valor\"))\n",
    "if (Valor1 < Valor2 and Valor1 < Valor3): #comparação 1\n",
    "     print(\"o primeiro valor é o menor\")\n",
    "else:\n",
    "    if (Valor2 < Valor1 and Valor2 < Valor3): #comparação 2\n",
    "         print(\"o segundo valor é o menor\")\n",
    "    else:\n",
    "        if (Valor3 < Valor1 and Valor3 < Valor2): #comparação 3\n",
    "            print(\"o terceiro valor é o menor\")\n",
    "        else:\n",
    "            print(\"não existe um valor menor que os outros\") \n"
   ]
  },
  {
   "cell_type": "raw",
   "metadata": {},
   "source": [
    "Exercicio 6"
   ]
  },
  {
   "cell_type": "code",
   "execution_count": 11,
   "metadata": {},
   "outputs": [
    {
     "name": "stdin",
     "output_type": "stream",
     "text": [
      "digite o primeiro valor 3\n",
      "digite o segundo valor 2\n",
      "digite o terceiro valor 1\n"
     ]
    },
    {
     "name": "stdout",
     "output_type": "stream",
     "text": [
      "valor1 é o maior ímpar\n"
     ]
    }
   ],
   "source": [
    "valor1 = int(input(\"digite o primeiro valor\"))\n",
    "valor2 = int(input(\"digite o segundo valor\"))\n",
    "valor3 = int(input(\"digite o terceiro valor\"))\n",
    "if valor1 %2 == 0 and valor2 %2 == 0 and valor3 %2 == 0: \n",
    "    print(\"não existe nenhum número ímpar\")\n",
    "if valor1 %2 != 0 and valor2 %2 == 0 and valor3 %2 == 0:\n",
    "    print(\"valor1 é o maior ímpar\")\n",
    "if valor1 %2 == 0 and valor2 %2 != 0 and valor3 %2 == 0:\n",
    "    print(\"valor2 é o maior ímpar\")\n",
    "if valor1 %2 == 0 and valor2 %2 == 0 and valor3 %2 != 0:\n",
    "    print(\"valor3 é o maior ímpar\")\n",
    "if valor1 %2 != 0 and valor2 %2 != 0 and valor3 %2 == 0 and valor1 > valor2:\n",
    "    print(\"valor1 é o maior ímpar\")\n",
    "if valor1 %2 != 0 and valor2 %2 == 0 and valor3 %2 != 0 and valor1 > valor3:\n",
    "    print(\"valor1 é o maior ímpar\")\n",
    "if valor1 %2 != 0 and valor2 %2 != 0 and valor3 %2 == 0 and valor1 < valor2:\n",
    "    print(\"valor2 é o maior ímpar\")\n",
    "if valor1 %2 != 0 and valor2 %2 == 0 and valor3 %2 != 0 and valor1 < valor3:\n",
    "    print(\"valor3 é o maior ímpar\")\n",
    "if valor1 %2 == 0 and valor2 %2 != 0 and valor3 %2 != 0 and valor2 < valor3:\n",
    "    print(\"valor3 é o maior ímpar\")\n",
    "if valor1 %2 == 0 and valor2 %2 != 0 and valor3 %2 != 0 and valor2 > valor3:\n",
    "    print(\"valor2 é o maior ímpar\")\n",
    "if valor1 %2 != 0 and valor2 %2 != 0 and valor3 %2 != 0 and valor1 > valor2 and valor1 > valor3:\n",
    "    print(\"valor1 é o maior ímpar\")\n",
    "if valor1 %2 != 0 and valor2 %2 != 0 and valor3 %2 != 0 and valor1 < valor2 and valor2 > valor3:\n",
    "    print(\"valor2 é o maior ímpar\")\n",
    "if valor1 %2 != 0 and valor2 %2 != 0 and valor3 %2 != 0 and valor3 > valor1 and valor2 < valor3:\n",
    "    print(\"valor3 é o maior ímpar\")\n",
    "if valor1 %2 != 0 and valor2 %2 != 0 and valor3 %2 != 0 and valor3 == valor1 and valor2 == valor3:\n",
    "    print(\"não existe valor maior\")\n",
    "if valor1 %2 != 0 and valor2 %2 != 0 and valor3 %2 != 0 and valor3 == valor1 and valor2 < valor3:\n",
    "    print(\"não existe valor maior\")\n",
    "if valor1 %2 != 0 and valor2 %2 != 0 and valor3 %2 != 0 and valor3 == valor2 and valor1 < valor3:\n",
    "    print(\"não existe valor maior\")    \n",
    "if valor1 %2 != 0 and valor2 %2 != 0 and valor3 %2 != 0 and valor2 == valor1 and valor2 > valor3:\n",
    "    print(\"não existe valor maior\")       \n",
    "if valor1 %2 == 0 and valor2 %2 != 0 and valor3 %2 != 0 and valor2 == valor3:\n",
    "    print(\"não existe valor ímpar maior\")\n",
    "if valor1 %2 != 0 and valor2 %2 == 0 and valor3 %2 != 0 and valor1 == valor3:\n",
    "    print(\"não existe valor ímpar maior\")  \n",
    "if valor1 %2 != 0 and valor2 %2 != 0 and valor3 %2 == 0 and valor2 == valor1:\n",
    "    print(\"não existe valor ímpar maior\")   "
   ]
  },
  {
   "cell_type": "markdown",
   "metadata": {},
   "source": [
    "Exercicio 7"
   ]
  },
  {
   "cell_type": "code",
   "execution_count": 5,
   "metadata": {},
   "outputs": [
    {
     "name": "stdin",
     "output_type": "stream",
     "text": [
      "insira um ano 1900\n"
     ]
    },
    {
     "name": "stdout",
     "output_type": "stream",
     "text": [
      "O ano é bissexto\n"
     ]
    }
   ],
   "source": [
    "Ano = int(input(\"insira um ano\"))\n",
    "if Ano %4 == 0 and Ano %100 != 0 or Ano %400:\n",
    "    print(\"O ano é bissexto\")\n",
    "else:\n",
    "    print(\"O ano não é bissexto\")"
   ]
  },
  {
   "cell_type": "markdown",
   "metadata": {},
   "source": [
    "Exercicio 8"
   ]
  },
  {
   "cell_type": "code",
   "execution_count": 14,
   "metadata": {},
   "outputs": [
    {
     "name": "stdin",
     "output_type": "stream",
     "text": [
      "digite um valor para n 6\n"
     ]
    },
    {
     "name": "stdout",
     "output_type": "stream",
     "text": [
      "n se encontra em um dos intervalos, mais precisamente:\n",
      "n se encontra no intervalo [4,oo)\n"
     ]
    }
   ],
   "source": [
    "n = int(input(\"digite um valor para n\"))\n",
    "if n <= -2 or -3 <= n < -1 or 1 < n <= 3 or 4 <= n:\n",
    "    print(\"n se encontra em um dos intervalos, mais precisamente:\")\n",
    "    if n <= -2:\n",
    "        print(\"n se encontra no intervalo (-oo,-2]\")\n",
    "    if -3 <= n < -1:\n",
    "        print(\"n se encontra no intervalo [-3,-1)\")\n",
    "    if 0 < n < 2:\n",
    "        print(\"n se encontra no intervalo (0,2)\")\n",
    "    if 1 < n <= 3:\n",
    "        print(\"n se encontra no intervalo (1,3]\")\n",
    "    if 4 <= n :\n",
    "        print(\"n se encontra no intervalo [4,oo)\")\n",
    "else:\n",
    "    print(\"n não se encontra em nenhum dos intervalos\")"
   ]
  },
  {
   "cell_type": "code",
   "execution_count": null,
   "metadata": {},
   "outputs": [],
   "source": []
  }
 ],
 "metadata": {
  "kernelspec": {
   "display_name": "Python 3",
   "language": "python",
   "name": "python3"
  },
  "language_info": {
   "codemirror_mode": {
    "name": "ipython",
    "version": 3
   },
   "file_extension": ".py",
   "mimetype": "text/x-python",
   "name": "python",
   "nbconvert_exporter": "python",
   "pygments_lexer": "ipython3",
   "version": "3.7.1"
  }
 },
 "nbformat": 4,
 "nbformat_minor": 2
}
