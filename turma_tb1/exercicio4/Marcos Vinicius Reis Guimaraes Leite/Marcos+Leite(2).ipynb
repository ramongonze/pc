{
 "cells": [
  {
   "cell_type": "markdown",
   "metadata": {},
   "source": [
    "# Nome: Marcos Vinicius Reis Guimaaes Leite Mat: 2018085870\n",
    "Engenharia Ambiental - UFMG"
   ]
  },
  {
   "cell_type": "code",
   "execution_count": 13,
   "metadata": {},
   "outputs": [
    {
     "name": "stdout",
     "output_type": "stream",
     "text": [
      "Exercicio 1\n",
      "Primeiro Valor: 1\n",
      "Segundo Valor: 1\n",
      "Os valores são iguais\n"
     ]
    }
   ],
   "source": [
    "print(\"Exercicio 1\")\n",
    "\n",
    "x= int(input(\"Primeiro Valor: \"))\n",
    "y= int(input(\"Segundo Valor: \"))\n",
    "if x > y:\n",
    "    print(\"O primeiro valor é maior\")\n",
    "elif x < y:\n",
    "    print(\"O segundo valo é maior\")\n",
    "else: \n",
    "    print(\"Os valores são iguais\")"
   ]
  },
  {
   "cell_type": "code",
   "execution_count": 15,
   "metadata": {},
   "outputs": [
    {
     "name": "stdout",
     "output_type": "stream",
     "text": [
      "Exercicio 2\n",
      "Numero Maior\n",
      "Primeiro Valor: -1234\n",
      "Segundo Valor: -12345\n",
      "O primeiro valor é maior\n"
     ]
    }
   ],
   "source": [
    "print(\"Exercicio 2\")\n",
    "print(\"Numero Maior\")\n",
    "x= int(input(\"Primeiro Valor: \"))\n",
    "y= int(input(\"Segundo Valor: \"))\n",
    "if x > y:\n",
    "    print(\"O primeiro valor é maior\")\n",
    "elif x < y:\n",
    "    print(\"O segundo valo é maior\")"
   ]
  },
  {
   "cell_type": "code",
   "execution_count": 53,
   "metadata": {},
   "outputs": [
    {
     "name": "stdout",
     "output_type": "stream",
     "text": [
      "Exercicio 2\n",
      "Carro Novo\n",
      "Insira o ano de fabricação do seu veiculo: -1234\n",
      "Seu veículo é velho\n"
     ]
    }
   ],
   "source": [
    "print(\"Exercicio 2\")\n",
    "print(\"Carro Novo\")\n",
    "\n",
    "ano_de_fabricação = int(input(\"Insira o ano de fabricação do seu veiculo: \"))\n",
    "idade = (2019 - ano_de_fabricação)\n",
    "if 0 <= idade <= 3:\n",
    "    print(\"Seu veículo é novo\")\n",
    "elif idade > 3:\n",
    "    print(\"Seu veículo é velho\")\n",
    "else: \n",
    "    print(\"Ano de fabricação Inválido\")\n"
   ]
  },
  {
   "cell_type": "code",
   "execution_count": 64,
   "metadata": {},
   "outputs": [
    {
     "name": "stdout",
     "output_type": "stream",
     "text": [
      "Exercicio 3\n",
      "Imposto para os salarios: \n",
      "Digite o salario para calcular o imposto: 1500\n",
      "O salario de R$1500.00 pagará R$100.00 de impostos.\n"
     ]
    }
   ],
   "source": [
    "print(\"Exercicio 3\")\n",
    "print(\"Imposto para os salarios: \")\n",
    "\n",
    "salario = float(input(\"Digite o salario para calcular \" \n",
    "                      \"o imposto: \"))\n",
    "base_de_cálculo = salario\n",
    "imposto = 0\n",
    "if base_de_cálculo > 3000:\n",
    "    imposto = imposto + ((base_de_cálculo - 3000) * 0.35)\n",
    "    base_de_cálculo = 3000\n",
    "if base_de_cálculo > 1000:\n",
    "    imposto = imposto + ((base_de_cálculo - 1000) * 0.20)\n",
    "print(\"O salario de R$%6.2f pagará R$%6.2f de \"\n",
    "     \"impostos.\" % (salario,imposto)) \n"
   ]
  },
  {
   "cell_type": "code",
   "execution_count": 66,
   "metadata": {},
   "outputs": [
    {
     "name": "stdout",
     "output_type": "stream",
     "text": [
      "Exercicio 4\n",
      "Digite a categoria: 6\n",
      "Categoria inválida! Digite um valor entre 1 e 5!\n"
     ]
    }
   ],
   "source": [
    "print(\"Exercicio 4\")\n",
    "\n",
    "categoria = int(input(\"Digite a categoria: \"))\n",
    "if categoria == 1:\n",
    "     print(\"preço = 10\")\n",
    "elif categoria == 2:\n",
    "     print(\"preço = 18 \")\n",
    "elif categoria == 3:\n",
    "     print(\"preço = 23 \")\n",
    "elif categoria == 4:\n",
    "     print(\"preço = 26\")\n",
    "elif categoria == 5:\n",
    "     print(\"preço = 31\")\n",
    "else:\n",
    "    print(\"Categoria inválida! Digite um valor entre 1 e 5!\")"
   ]
  },
  {
   "cell_type": "code",
   "execution_count": 68,
   "metadata": {},
   "outputs": [
    {
     "name": "stdout",
     "output_type": "stream",
     "text": [
      "Exercicio 5\n",
      "Primeiro valor: 1\n",
      "Segundo valor: 2\n",
      "Terceiro valor: 3\n",
      "x é  menor valor\n"
     ]
    }
   ],
   "source": [
    "print(\"Exercicio 5\")\n",
    "\n",
    "x = int(input(\"Primeiro valor: \"))\n",
    "y = int(input(\"Segundo valor: \"))\n",
    "z = int(input(\"Terceiro valor: \"))\n",
    "if x < y < z:\n",
    "    print(\"x é  menor valor\")\n",
    "elif x < y < z:\n",
    "    print(\"x é  menor valor\")\n",
    "elif x < y < z:\n",
    "    print(\"x é  menor valor\")\n",
    "                "
   ]
  },
  {
   "cell_type": "code",
   "execution_count": 75,
   "metadata": {},
   "outputs": [
    {
     "name": "stdout",
     "output_type": "stream",
     "text": [
      "Exercicio 6\n",
      "Primeiro valor: 1\n",
      "Segundo valor: 2\n",
      "Terceiro valor: 3\n",
      "x é  menor valor\n"
     ]
    }
   ],
   "source": [
    "print(\"Exercicio 6\")\n",
    "\n",
    "x = int(input(\"Primeiro valor: \"))\n",
    "y = int(input(\"Segundo valor: \"))\n",
    "z = int(input(\"Terceiro valor: \"))\n",
    "if int(x or y or z) % 2 == 0:\n",
    "   print(\"somente numeros impares\")\n",
    "elif x < y < z:\n",
    "    print(\"x é  menor valor\")\n",
    "elif y < x < z:\n",
    "    print(\"x é  menor valor\")\n",
    "elif z < x < y:\n",
    "    print(\"x é  menor valor\")"
   ]
  },
  {
   "cell_type": "code",
   "execution_count": 80,
   "metadata": {},
   "outputs": [
    {
     "name": "stdout",
     "output_type": "stream",
     "text": [
      "Exercicio 7\n",
      "Digite o ano: 2028\n",
      "o ano é bissexto\n"
     ]
    }
   ],
   "source": [
    "print(\"Exercicio 7\")\n",
    "\n",
    "ano = int(input(\"Digite o ano: \"))\n",
    "if int(ano) % 4 == 0 and int(ano) % 100 != 0:\n",
    "    print(\"o ano é bissexto\")\n",
    "else:\n",
    "    if int(ano) % 400 == 0: \n",
    "       print(\"o ano é bissexto\")\n",
    "    else:\n",
    "       print(\"o ano não é bissexto\")"
   ]
  },
  {
   "cell_type": "code",
   "execution_count": 90,
   "metadata": {},
   "outputs": [
    {
     "name": "stdout",
     "output_type": "stream",
     "text": [
      "Exercicio 8\n",
      "Digite um numero para saber em qual intervalo ele se localiza: 3\n",
      "o numero esta no intervalo 1 < x <= 3\n"
     ]
    }
   ],
   "source": [
    "print(\"Exercicio 8\")\n",
    "\n",
    "x= int(input(\"Digite um numero para saber em qual intervalo ele se localiza: \"))\n",
    "if float(\"-inf\") < x <= -2 :\n",
    "    print(\"o numero esta no intervalo -inf < x <= -2\")\n",
    "if -3 <= x < -1 :\n",
    "    print(\"o numero esta no intervalo -3 <= x < -1\")\n",
    "if  0 < x < 2 :\n",
    "    print(\"o numero esta no intervalo  0 < x < 2\")\n",
    "if  1 < x <= 3 :\n",
    "    print(\"o numero esta no intervalo 1 < x <= 3\")\n",
    "if  4 <= x < float (\"inf)\") :\n",
    "    print(\"o numero esta no intervalo 4 <= x < inf\")"
   ]
  },
  {
   "cell_type": "code",
   "execution_count": null,
   "metadata": {
    "collapsed": true
   },
   "outputs": [],
   "source": []
  },
  {
   "cell_type": "code",
   "execution_count": null,
   "metadata": {
    "collapsed": true
   },
   "outputs": [],
   "source": []
  }
 ],
 "metadata": {
  "kernelspec": {
   "display_name": "Python 3",
   "language": "python",
   "name": "python3"
  },
  "language_info": {
   "codemirror_mode": {
    "name": "ipython",
    "version": 3
   },
   "file_extension": ".py",
   "mimetype": "text/x-python",
   "name": "python",
   "nbconvert_exporter": "python",
   "pygments_lexer": "ipython3",
   "version": "3.6.1"
  }
 },
 "nbformat": 4,
 "nbformat_minor": 2
}
