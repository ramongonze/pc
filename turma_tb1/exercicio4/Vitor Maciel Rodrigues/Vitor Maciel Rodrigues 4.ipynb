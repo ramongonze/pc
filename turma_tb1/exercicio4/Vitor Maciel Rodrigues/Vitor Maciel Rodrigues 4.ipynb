{
 "cells": [
  {
   "cell_type": "code",
   "execution_count": null,
   "metadata": {},
   "outputs": [],
   "source": [
    "#Exercicio 1\n",
    "a = int(input(\"primeiro valor: \"))\n",
    "b = int(input(\"Segundo valor: \")) \n",
    "if a > b: \n",
    "    print(\"O primeiro número é o maior\") \n",
    "if a < b: \n",
    "    print(\"O segundo número é o maior\") \n",
    "elif a == b: \n",
    "    print(\"Os números são iguais\")"
   ]
  },
  {
   "cell_type": "code",
   "execution_count": 13,
   "metadata": {},
   "outputs": [
    {
     "name": "stdout",
     "output_type": "stream",
     "text": [
      "Primeiro valor: 1\n",
      "Segundo valor: 1\n",
      "Os números são iguais\n",
      "Digite a idade do seu carro: 1\n",
      "Seu carro é novo\n"
     ]
    }
   ],
   "source": [
    "#Exercicio 2\n",
    "a = int(input(\"Primeiro valor: \"))\n",
    "b = int(input(\"Segundo valor: \")) \n",
    "if a > b: \n",
    "    print(\"O primeiro número é o maior\") \n",
    "if a < b: \n",
    "    print(\"O segundo número é o maior\") \n",
    "elif a == b: \n",
    "    print(\"Os números são iguais\")\n",
    "#No programa acima, podemos digitar tanto valores positivos quanto negativos.\n",
    "idade = int(input(\"Digite a idade do seu carro: \"))\n",
    "if idade > 3: \n",
    "    print(\"Seu carro é velho\")\n",
    "if idade <0:\n",
    "    print(\"Você não tem carro\")\n",
    "elif idade <= 3: \n",
    "    print(\"Seu carro é novo\")\n"
   ]
  },
  {
   "cell_type": "code",
   "execution_count": null,
   "metadata": {},
   "outputs": [],
   "source": [
    "#Exercicio 3\n",
    "salário = float(input(\"Digite o salário para calcular\" \" o imposto: \"))\n",
    "base_de_cálculo = salário\n",
    "imposto = 0 \n",
    "if base_de_cálculo > 3000:\n",
    "    imposto = imposto + ((base_de_cálculo - 3000) * 0.35)\n",
    "    base_de_cálculo = 3000 \n",
    "if base_de_cálculo > 1000:\n",
    "    imposto = imposto + ((base_de_cálculo - 1000) * 0.20)\n",
    "    print(\"O salário de R$%6.2f pagará R$%6.2f de \" \"impostos.\" % (salário,imposto))\n",
    "#Se o salário for 1500,00 o imposto será de 100,00.\n",
    "#Se o salário for 3000,00 o imposto será de 4000,00.\n",
    "#Se o salário for 5000,00 o imposto será de 1100,00."
   ]
  },
  {
   "cell_type": "code",
   "execution_count": null,
   "metadata": {},
   "outputs": [],
   "source": [
    "#Exercicio 4\n",
    "categoria = int(input(\"Digite a categoria: \")) \n",
    "if categoria == 1: \n",
    "    preço = 10 \n",
    "elif categoria == 2: \n",
    "    preço = 18 \n",
    "elif categoria == 3: \n",
    "    preço = 23 \n",
    "elif categoria == 4: \n",
    "    preço == 26 \n",
    "elif categoria == 5: \n",
    "    preço = 31 \n",
    "else: \n",
    "    print(\"Categoria inválida! Digite um valor entre 1 e 5!\") \n",
    "print(\"O preço do produto é R$%6.2f\" % preço)\n"
   ]
  },
  {
   "cell_type": "code",
   "execution_count": null,
   "metadata": {},
   "outputs": [],
   "source": [
    "#Exercicio 5\n",
    "a = int(input(\"Primeiro valor: \"))\n",
    "b = int(input(\"Segundo valor: \"))\n",
    "c = int(input(\"terceiro valor: \"))\n",
    "if a > b and a > c: \n",
    "    print(\"O primeiro número é o maior\") \n",
    "else:\n",
    "        if b > c and b > a: \n",
    "            print(\"O segundo número é o maior\")\n",
    "        else:\n",
    "            if c > a and c > b:\n",
    "                print(\"O terceiro número é o maior\")"
   ]
  },
  {
   "cell_type": "code",
   "execution_count": null,
   "metadata": {},
   "outputs": [],
   "source": [
    "#Exercicio 6\n"
   ]
  },
  {
   "cell_type": "code",
   "execution_count": null,
   "metadata": {},
   "outputs": [],
   "source": [
    "#Exercicio 7\n",
    "ano = int(input('Digite o ano: '))\n",
    "if (ano %4 == 0 and ano % 100 != 0) or (ano % 400 == 0):\n",
    "    print(\"O ano é bissexto\")\n",
    "else:\n",
    "    print(\"O ano não é bissexto\")"
   ]
  },
  {
   "cell_type": "code",
   "execution_count": null,
   "metadata": {},
   "outputs": [],
   "source": [
    "#Exercicio 8\n",
    "a = int(input(\"Insira o valor de a:\"))\n",
    "if (a>=-3) and (a<-1):\n",
    "    print(\"a é maior ou igual a -3 e menor que -1\")\n",
    "elif (a<=2): \n",
    "    print(\"a é menor ou igual a 2\") \n",
    "elif (a>0) and (a<2):\n",
    "    print(\"a é maior que 0 e menor que 2\")\n",
    "elif (a>1) and (a<=3):\n",
    "    print(\"a é maior que 1 e menor que 3\")\n",
    "elif a>4: \n",
    "    print(\"a é maior ou igual a 4\")"
   ]
  }
 ],
 "metadata": {
  "kernelspec": {
   "display_name": "Python 3",
   "language": "python",
   "name": "python3"
  },
  "language_info": {
   "codemirror_mode": {
    "name": "ipython",
    "version": 3
   },
   "file_extension": ".py",
   "mimetype": "text/x-python",
   "name": "python",
   "nbconvert_exporter": "python",
   "pygments_lexer": "ipython3",
   "version": "3.7.1"
  }
 },
 "nbformat": 4,
 "nbformat_minor": 2
}
