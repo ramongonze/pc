{
 "cells": [
  {
   "cell_type": "code",
   "execution_count": 1,
   "metadata": {},
   "outputs": [
    {
     "name": "stdout",
     "output_type": "stream",
     "text": [
      "Primeiro valor: 1\n",
      "Segundo valor: 2\n",
      "O segundo número é o maior\n"
     ]
    }
   ],
   "source": [
    "#1\n",
    "a = int(input(\"Primeiro valor: \")) \n",
    "b = int(input(\"Segundo valor: \")) \n",
    "if a > b: \n",
    "    print(\"O primeiro número é o maior\") \n",
    "elif a < b: \n",
    "    print(\"O segundo número é o maior\")\n",
    "elif a == b:\n",
    "    print(\"É o mesmo número, cara\")"
   ]
  },
  {
   "cell_type": "code",
   "execution_count": null,
   "metadata": {},
   "outputs": [],
   "source": [
    "#2\n",
    "#Número maior:\n",
    "a = int(input(\"Primeiro valor: \")) \n",
    "b = int(input(\"Segundo valor: \")) \n",
    "if a > b: \n",
    "    print(\"O primeiro número é o maior\") \n",
    "if a < b: \n",
    "    print(\"O segundo número é o maior\")\n",
    "if a == b:\n",
    "    print(\"É o mesmo número, cara\")\n",
    "#Digitar números menores que zero neste programa não causa nenhum problema.    "
   ]
  },
  {
   "cell_type": "code",
   "execution_count": null,
   "metadata": {},
   "outputs": [],
   "source": [
    "#2\n",
    "#Carro novo:\n",
    "idade = int(input(\"Digite a idade do seu carro: \")) \n",
    "if idade < 0:\n",
    "    print(\"Seu carro não existe, cara\")\n",
    "elif idade <= 3: \n",
    "    print(\"Seu carro é novo\") \n",
    "elif idade > 3: \n",
    "    print(\"Seu carro é velho\")"
   ]
  },
  {
   "cell_type": "code",
   "execution_count": null,
   "metadata": {},
   "outputs": [],
   "source": [
    "#3\n",
    "salário = 1500\n",
    "base_de_cálculo = salário \n",
    "imposto = 0 \n",
    "if base_de_cálculo > 3000: \n",
    "    imposto = imposto + ((base_de_cálculo - 3000) * 0.35) \n",
    "    base_de_cálculo = 3000 \n",
    "if base_de_cálculo > 1000: \n",
    "    imposto = imposto + ((base_de_cálculo - 1000) * 0.20) \n",
    "    print(\"O salário de R$%6.2f pagará R$%6.2f de \" \"impostos.\" % (salário,imposto))\n",
    "salário = 3000\n",
    "base_de_cálculo = salário \n",
    "imposto = 0 \n",
    "if base_de_cálculo > 3000: \n",
    "    imposto = imposto + ((base_de_cálculo - 3000) * 0.35) \n",
    "    base_de_cálculo = 3000 \n",
    "if base_de_cálculo > 1000: \n",
    "    imposto = imposto + ((base_de_cálculo - 1000) * 0.20) \n",
    "    print(\"O salário de R$%6.2f pagará R$%6.2f de \" \"impostos.\" % (salário,imposto))\n",
    "salário = 5000\n",
    "base_de_cálculo = salário \n",
    "imposto = 0 \n",
    "if base_de_cálculo > 3000: \n",
    "    imposto = imposto + ((base_de_cálculo - 3000) * 0.35) \n",
    "    base_de_cálculo = 3000 \n",
    "if base_de_cálculo > 1000: \n",
    "    imposto = imposto + ((base_de_cálculo - 1000) * 0.20) \n",
    "    print(\"O salário de R$%6.2f pagará R$%6.2f de \" \"impostos.\" % (salário,imposto))"
   ]
  },
  {
   "cell_type": "code",
   "execution_count": null,
   "metadata": {},
   "outputs": [],
   "source": [
    "#4\n",
    "categoria = int(input(\"Digite a categoria: \")) \n",
    "if categoria == 1: \n",
    "    preço = 10 \n",
    "elif categoria == 2: \n",
    "    preço = 18 \n",
    "elif categoria == 3: \n",
    "    preço = 23 \n",
    "elif categoria == 4: \n",
    "    preço == 26 \n",
    "elif categoria == 5: \n",
    "    preço = 31 \n",
    "else: \n",
    "    print(\"Categoria inválida! Digite um valor entre 1 e 5!\")\n",
    "if categoria <= 5 and categoria > 0:\n",
    "    print(\"O preço do produto é R$%6.2f\" % preço)"
   ]
  },
  {
   "cell_type": "code",
   "execution_count": null,
   "metadata": {},
   "outputs": [],
   "source": [
    "#5\n",
    "#Menor de três inteiros\n",
    "a = int(input(\"Primeiro valor: \")) \n",
    "b = int(input(\"Segundo valor: \")) \n",
    "c = int(input(\"Terceiro valor: \")) \n",
    "if a == b and b == c:\n",
    "    print(\"São todos iguais\") \n",
    "elif b > c and a > c: \n",
    "    print(\"c é o menor\") \n",
    "elif c > a and b > a: \n",
    "    print(\"a é o menor\") \n",
    "elif a > b and c > b:\n",
    "    print(\"b é o menor\")\n"
   ]
  },
  {
   "cell_type": "code",
   "execution_count": 5,
   "metadata": {},
   "outputs": [
    {
     "name": "stdout",
     "output_type": "stream",
     "text": [
      "Primeiro valor: 1\n",
      "Segundo valor: 3\n",
      "Terceiro valor: 4\n",
      "algum dos números inseridos é par, tente um número ímpar\n"
     ]
    }
   ],
   "source": [
    "#6\n",
    "#Maior ímpar de três inteiros\n",
    "a = int(input(\"Primeiro valor: \")) \n",
    "b = int(input(\"Segundo valor: \")) \n",
    "c = int(input(\"Terceiro valor: \")) \n",
    "if a/2 == int(a/2) or b/2 == int(b/2) or c/2 == int(c/2):\n",
    "    print(\"algum dos números inseridos é par, tente um número ímpar\")\n",
    "elif a > b and a > c:\n",
    "    print(\"a é o maior número ímpar\")\n",
    "elif b > a and b > c: \n",
    "    print(\"b é o maior número ímpar\")\n",
    "elif c > a and c > b:\n",
    "    print(\"c é o maior número ímpar\")\n"
   ]
  },
  {
   "cell_type": "code",
   "execution_count": 3,
   "metadata": {},
   "outputs": [
    {
     "name": "stdout",
     "output_type": "stream",
     "text": [
      "O ano é: 2000\n",
      "o ano é bissexto\n"
     ]
    }
   ],
   "source": [
    "#7\n",
    "#Ano Bissexto\n",
    "ano = int(input(\"O ano é: \"))\n",
    "if ano/4 == int(ano/4):\n",
    "    print(\"o ano é bissexto\")\n",
    "elif ano/4 != int(ano/4):\n",
    "    print(\"o ano não é bissexto\")"
   ]
  },
  {
   "cell_type": "code",
   "execution_count": 6,
   "metadata": {},
   "outputs": [
    {
     "name": "stdout",
     "output_type": "stream",
     "text": [
      "Número: -3\n",
      "-(float('inf')) < n <= -(2)\n",
      "-(3) <= n < -(1)\n"
     ]
    }
   ],
   "source": [
    "#8\n",
    "#Número n e intervalos\n",
    "n = int(input(\"Número: \"))\n",
    "if n > -(float('inf')) and n <= -(2):\n",
    "    print(\"-(float('inf')) < n <= -(2)\")\n",
    "if n >= -(3) and n < -(1):\n",
    "    print(\"-(3) <= n < -(1)\")\n",
    "if n > 0 and n < 2:\n",
    "    print(\"0 < n < 2\")\n",
    "if n > 1 and n <= 3:\n",
    "    print(\"1 < n <= 3\")\n",
    "if n >= 4 and n < float('inf'):\n",
    "    print(\"4 <= n < float('inf')\")"
   ]
  }
 ],
 "metadata": {
  "kernelspec": {
   "display_name": "Python 3",
   "language": "python",
   "name": "python3"
  },
  "language_info": {
   "codemirror_mode": {
    "name": "ipython",
    "version": 3
   },
   "file_extension": ".py",
   "mimetype": "text/x-python",
   "name": "python",
   "nbconvert_exporter": "python",
   "pygments_lexer": "ipython3",
   "version": "3.7.1"
  }
 },
 "nbformat": 4,
 "nbformat_minor": 2
}
