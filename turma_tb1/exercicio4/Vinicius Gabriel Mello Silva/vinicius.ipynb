{
 "cells": [
  {
   "cell_type": "markdown",
   "metadata": {
    "collapsed": true
   },
   "source": [
    "# exercicio 4\n",
    "vinicius gabriel mello silva \n",
    "2018015820"
   ]
  },
  {
   "cell_type": "markdown",
   "metadata": {},
   "source": [
    "# atividade 1"
   ]
  },
  {
   "cell_type": "code",
   "execution_count": 9,
   "metadata": {},
   "outputs": [
    {
     "name": "stdout",
     "output_type": "stream",
     "text": [
      "Primeiro valor: 2\n",
      "Segundo valor: 2\n",
      "os numeros sao iguais\n"
     ]
    }
   ],
   "source": [
    "a = int(input(\"Primeiro valor: \"))\n",
    "b = int(input(\"Segundo valor: \"))\n",
    "if a > b:\n",
    "    print(\"O primeiro número é o maior\")\n",
    "elif b > a:\n",
    "    print(\"O segundo número é maior ou igual ao primeiro\")\n",
    "elif  a == b:\n",
    "    print(\"os numeros sao iguais\")\n",
    "    "
   ]
  },
  {
   "cell_type": "markdown",
   "metadata": {},
   "source": [
    "# atividade 2 "
   ]
  },
  {
   "cell_type": "markdown",
   "metadata": {},
   "source": [
    "# para maior numero"
   ]
  },
  {
   "cell_type": "markdown",
   "metadata": {},
   "source": [
    "para o programa do numero maior a resposta esta correta sem precisar fazer modificaçoes."
   ]
  },
  {
   "cell_type": "markdown",
   "metadata": {},
   "source": [
    "# para o carro novo"
   ]
  },
  {
   "cell_type": "code",
   "execution_count": 20,
   "metadata": {},
   "outputs": [
    {
     "name": "stdout",
     "output_type": "stream",
     "text": [
      "Digite a idade do seu carro: -2\n",
      "nao tem como seu carro ter idade negativa\n"
     ]
    }
   ],
   "source": [
    "idade = int(input(\"Digite a idade do seu carro: \"))\n",
    "if idade >= 0 and idade <= 3:\n",
    "    print(\"Seu carro é novo\")\n",
    "elif idade > 3:\n",
    "    print(\"Seu carro é velho\")\n",
    "elif idade < 0:\n",
    "    print(\"nao tem como seu carro ter idade negativa\")"
   ]
  },
  {
   "cell_type": "markdown",
   "metadata": {},
   "source": [
    "# atividade 3"
   ]
  },
  {
   "cell_type": "code",
   "execution_count": 25,
   "metadata": {},
   "outputs": [
    {
     "name": "stdout",
     "output_type": "stream",
     "text": [
      "Digite o salário para calcular o imposto: 1500\n",
      "O salário de R$1500.00 pagará R$100.00 de impostos.\n"
     ]
    }
   ],
   "source": [
    "salário = float(input(\"Digite o salário para calcular\"\n",
    "\" o imposto: \"))\n",
    "base_de_cálculo = salário\n",
    "imposto = 0\n",
    "if base_de_cálculo > 3000:\n",
    "    imposto = imposto + ((base_de_cálculo - 3000) * 0.35)\n",
    "    base_de_cálculo = 3000\n",
    "if base_de_cálculo > 1000:\n",
    "    imposto = imposto + ((base_de_cálculo - 1000) * 0.20)\n",
    "print(\"O salário de R$%6.2f pagará R$%6.2f de impostos.\" % (salário,imposto))"
   ]
  },
  {
   "cell_type": "markdown",
   "metadata": {},
   "source": [
    "# 3.1"
   ]
  },
  {
   "cell_type": "code",
   "execution_count": 26,
   "metadata": {},
   "outputs": [
    {
     "name": "stdout",
     "output_type": "stream",
     "text": [
      "Digite o salário para calcular o imposto: 3000\n",
      "O salário de R$3000.00 pagará R$400.00 de impostos.\n"
     ]
    }
   ],
   "source": [
    "salário = float(input(\"Digite o salário para calcular\"\n",
    "\" o imposto: \"))\n",
    "base_de_cálculo = salário\n",
    "imposto = 0\n",
    "if base_de_cálculo > 3000:\n",
    "    imposto = imposto + ((base_de_cálculo - 3000) * 0.35)\n",
    "    base_de_cálculo = 3000\n",
    "if base_de_cálculo > 1000:\n",
    "    imposto = imposto + ((base_de_cálculo - 1000) * 0.20)\n",
    "print(\"O salário de R$%6.2f pagará R$%6.2f de impostos.\" % (salário,imposto))"
   ]
  },
  {
   "cell_type": "markdown",
   "metadata": {},
   "source": [
    "# 3.2"
   ]
  },
  {
   "cell_type": "code",
   "execution_count": 1,
   "metadata": {},
   "outputs": [
    {
     "name": "stdout",
     "output_type": "stream",
     "text": [
      "Digite o salário para calcular o imposto: 5000\n",
      "O salário de R$5000.00 pagará R$1100.00 de impostos.\n"
     ]
    }
   ],
   "source": [
    "salário = float(input(\"Digite o salário para calcular\"\n",
    "\" o imposto: \"))\n",
    "base_de_cálculo = salário\n",
    "imposto = 0\n",
    "if base_de_cálculo > 3000:\n",
    "    imposto = imposto + ((base_de_cálculo - 3000) * 0.35)\n",
    "    base_de_cálculo = 3000\n",
    "if base_de_cálculo > 1000:\n",
    "    imposto = imposto + ((base_de_cálculo - 1000) * 0.20)\n",
    "print(\"O salário de R$%6.2f pagará R$%6.2f de impostos.\" % (salário,imposto))"
   ]
  },
  {
   "cell_type": "markdown",
   "metadata": {},
   "source": [
    "# atividade 4"
   ]
  },
  {
   "cell_type": "code",
   "execution_count": 21,
   "metadata": {},
   "outputs": [
    {
     "name": "stdout",
     "output_type": "stream",
     "text": [
      "Digite a categoria: 8\n",
      "Categoria inválida! Digite um valor entre 1 e 5!\n"
     ]
    }
   ],
   "source": [
    "categoria = int(input(\"Digite a categoria: \"))\n",
    "if categoria == 1:\n",
    "    preço = 10\n",
    "elif categoria == 2:\n",
    "    preço = 18\n",
    "elif categoria == 3:\n",
    "    preço = 23\n",
    "elif categoria == 4:\n",
    "    preço == 26\n",
    "elif categoria == 5:\n",
    "    preço = 31\n",
    "    print(\"O preço do produto é R$%6.2f\" % preço)\n",
    "else:\n",
    "    print(\"Categoria inválida! Digite um valor entre 1 e 5!\")"
   ]
  },
  {
   "cell_type": "markdown",
   "metadata": {
    "collapsed": true
   },
   "source": [
    "# atividade 5"
   ]
  },
  {
   "cell_type": "code",
   "execution_count": 33,
   "metadata": {},
   "outputs": [
    {
     "name": "stdout",
     "output_type": "stream",
     "text": [
      "Digite um numero: 1\n",
      "Digite o segundo numero: 5\n",
      "Digite o terceiro numero: 2\n",
      "o segundo e o maior valor\n",
      "o primeiro e o menor\n"
     ]
    }
   ],
   "source": [
    "x = int(input(\"Digite um numero: \"))\n",
    "y = int(input(\"Digite o segundo numero: \"))\n",
    "z = int(input(\"Digite o terceiro numero: \"))\n",
    "if x>z and x>y and z>y:\n",
    "    print(\"o primeiro valor digitado e o maior\")\n",
    "    print(\"o segundo e o menor\")\n",
    "if y>x and y>z and x>z:\n",
    "    print(\"o segundo e o maior valor\")\n",
    "    print(\"o terceiro e o menor\")\n",
    "if z>x and z>y and x<y:\n",
    "    print(\"o terceiro e o maior\")\n",
    "    print(\"o primero e o menor \")\n",
    "if x>z and x>y and z<y:\n",
    "    print(\"o primeiro valor digitado e o maior\")\n",
    "    print(\"o terceiro e o menor\")\n",
    "if y>x and y>z and x<z:\n",
    "    print(\"o segundo e o maior valor\")\n",
    "    print(\"o primeiro e o menor\")\n",
    "if z>x and z>y and x>y:\n",
    "    print(\"  o segundo e o maior valor\")\n",
    "    print(\"  o segundo e o menor\")"
   ]
  },
  {
   "cell_type": "markdown",
   "metadata": {
    "collapsed": true
   },
   "source": [
    "# atividade 6"
   ]
  },
  {
   "cell_type": "code",
   "execution_count": 26,
   "metadata": {},
   "outputs": [
    {
     "ename": "SyntaxError",
     "evalue": "invalid syntax (<ipython-input-26-82ef7c2c0309>, line 6)",
     "output_type": "error",
     "traceback": [
      "\u001b[1;36m  File \u001b[1;32m\"<ipython-input-26-82ef7c2c0309>\"\u001b[1;36m, line \u001b[1;32m6\u001b[0m\n\u001b[1;33m    if a > b and a > c not (a % 2==0):\u001b[0m\n\u001b[1;37m                           ^\u001b[0m\n\u001b[1;31mSyntaxError\u001b[0m\u001b[1;31m:\u001b[0m invalid syntax\n"
     ]
    }
   ],
   "source": [
    "x= int(input(\"digete o 1 numero \"))\n",
    "y= int(input(\"digite o 2 numero \"))\n",
    "z= int(input(\"digite o 3 numero \"))\n",
    "\n",
    "if float (a or b or c % 2) == 0:\n",
    "    if x > y and x > z:\n",
    "        print(\"O primeiro número é maior\")\n",
    "    elif y > x and y > z:\n",
    "        print(\"O segundo número é maior\")\n",
    "    elif z > x and z > y:\n",
    "        print(\"O terceiro número é maior\")\n",
    "\n"
   ]
  },
  {
   "cell_type": "markdown",
   "metadata": {
    "collapsed": true
   },
   "source": [
    "# atividade 7"
   ]
  },
  {
   "cell_type": "code",
   "execution_count": 5,
   "metadata": {},
   "outputs": [
    {
     "name": "stdout",
     "output_type": "stream",
     "text": [
      "digite o ano desejado: 2016\n",
      "e bissexto\n"
     ]
    }
   ],
   "source": [
    "x= int(input(\"digite o ano desejado: \"))\n",
    "if int(x) % 4 == 0 or (int(x) % 100 == 0):\n",
    "    print (\"e bissexto\")\n",
    "else:\n",
    "    if int(x) % 400 == 0:\n",
    "        print (\"e bissexto\")\n",
    "    else:    \n",
    "        print (\"nao e bissexto\")"
   ]
  },
  {
   "cell_type": "markdown",
   "metadata": {
    "collapsed": true
   },
   "source": [
    "# atividade 8"
   ]
  },
  {
   "cell_type": "code",
   "execution_count": 7,
   "metadata": {},
   "outputs": [
    {
     "name": "stdout",
     "output_type": "stream",
     "text": [
      "digite um numero 2\n",
      "o numero esta entre 0 e 2\n",
      "o numero esta entre 1 e 3\n"
     ]
    }
   ],
   "source": [
    "x= int(input(\"digite um numero \"))\n",
    "if x <=  -2:\n",
    "    print(\"o numero esta entre menos infinito e -2\")\n",
    "if -3 <= x <= -1:\n",
    "    print(\"o numero esta entre -3 e -1\")\n",
    "if 0 <= x <= 2:\n",
    "    print(\"o numero esta entre 0 e 2\")\n",
    "if 1 <= x <= 3:\n",
    "    print(\"o numero esta entre 1 e 3\")\n",
    "if 4 <= x:\n",
    "    print(\"o numero esta entre 4 e infito\")"
   ]
  },
  {
   "cell_type": "code",
   "execution_count": null,
   "metadata": {},
   "outputs": [],
   "source": []
  }
 ],
 "metadata": {
  "kernelspec": {
   "display_name": "Python 3",
   "language": "python",
   "name": "python3"
  },
  "language_info": {
   "codemirror_mode": {
    "name": "ipython",
    "version": 3
   },
   "file_extension": ".py",
   "mimetype": "text/x-python",
   "name": "python",
   "nbconvert_exporter": "python",
   "pygments_lexer": "ipython3",
   "version": "3.7.1"
  }
 },
 "nbformat": 4,
 "nbformat_minor": 2
}
