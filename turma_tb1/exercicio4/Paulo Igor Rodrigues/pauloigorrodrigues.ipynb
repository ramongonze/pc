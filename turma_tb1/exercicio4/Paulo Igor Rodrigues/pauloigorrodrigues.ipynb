{
 "cells": [
  {
   "cell_type": "markdown",
   "metadata": {},
   "source": [
    "## Exercício 1"
   ]
  },
  {
   "cell_type": "code",
   "execution_count": 16,
   "metadata": {},
   "outputs": [
    {
     "name": "stdout",
     "output_type": "stream",
     "text": [
      "Primeiro valor: -32\n",
      "Segundo valor: 13\n",
      "O segundo número é o maior\n"
     ]
    }
   ],
   "source": [
    "a = int(input(\"Primeiro valor: \"))\n",
    "b = int(input(\"Segundo valor: \"))\n",
    "if a == b:\n",
    "    (print (\"Insira números diferentes\"))\n",
    "else:\n",
    "    if a < b:\n",
    "        print (\"O segundo número é o maior\")\n",
    "    if a > b:\n",
    "        print (\"O primeiro número é o maior \")"
   ]
  },
  {
   "cell_type": "markdown",
   "metadata": {},
   "source": [
    "## Exercício 2"
   ]
  },
  {
   "cell_type": "markdown",
   "metadata": {},
   "source": [
    "### 2.1"
   ]
  },
  {
   "cell_type": "markdown",
   "metadata": {},
   "source": [
    "No programa do maior número, não há problemas em digitar número negativo, contanto que seja inteiro, ele irá dizer o maior.\n"
   ]
  },
  {
   "cell_type": "markdown",
   "metadata": {},
   "source": [
    "### 2.2"
   ]
  },
  {
   "cell_type": "code",
   "execution_count": 17,
   "metadata": {},
   "outputs": [
    {
     "name": "stdout",
     "output_type": "stream",
     "text": [
      "Digite a idade do seu carro: -3\n",
      "Digite há quantos anos você comprou o carro\n"
     ]
    }
   ],
   "source": [
    "idade = int(input(\"Digite a idade do seu carro: \"))\n",
    "if idade <=0: print(\"Digite há quantos anos você comprou o carro\")\n",
    "elif idade <= 3:\n",
    "    print(\"Seu carro é novo\")\n",
    "elif idade > 3:\n",
    "    print(\"Seu carro é velho\")"
   ]
  },
  {
   "cell_type": "markdown",
   "metadata": {},
   "source": [
    "## Exercício 3"
   ]
  },
  {
   "cell_type": "code",
   "execution_count": 13,
   "metadata": {},
   "outputs": [
    {
     "name": "stdout",
     "output_type": "stream",
     "text": [
      "Digite o salário para calcular o imposto: 1500\n",
      "O salário de R$1500.00 pagará R$100.00 de impostos.\n"
     ]
    }
   ],
   "source": [
    "salário = float(input(\"Digite o salário para calcular\"\n",
    "\" o imposto: \"))\n",
    "base_de_cálculo = salário\n",
    "imposto = 0\n",
    "if base_de_cálculo > 3000:\n",
    "    imposto = imposto + ((base_de_cálculo - 3000) * 0.35)\n",
    "    base_de_cálculo = 3000\n",
    "if base_de_cálculo > 1000:\n",
    "    imposto = imposto + ((base_de_cálculo - 1000) * 0.20)\n",
    "print(\"O salário de R$%6.2f pagará R$%6.2f de \"\n",
    "\"impostos.\" % (salário,imposto))"
   ]
  },
  {
   "cell_type": "code",
   "execution_count": 14,
   "metadata": {},
   "outputs": [
    {
     "name": "stdout",
     "output_type": "stream",
     "text": [
      "Digite o salário para calcular o imposto: 3000\n",
      "O salário de R$3000.00 pagará R$400.00 de impostos.\n"
     ]
    }
   ],
   "source": [
    "salário = float(input(\"Digite o salário para calcular\"\n",
    "\" o imposto: \"))\n",
    "base_de_cálculo = salário\n",
    "imposto = 0\n",
    "if base_de_cálculo > 3000:\n",
    "    imposto = imposto + ((base_de_cálculo - 3000) * 0.35)\n",
    "    base_de_cálculo = 3000\n",
    "if base_de_cálculo > 1000:\n",
    "    imposto = imposto + ((base_de_cálculo - 1000) * 0.20)\n",
    "print(\"O salário de R$%6.2f pagará R$%6.2f de \"\n",
    "\"impostos.\" % (salário,imposto))"
   ]
  },
  {
   "cell_type": "code",
   "execution_count": 3,
   "metadata": {},
   "outputs": [
    {
     "name": "stdout",
     "output_type": "stream",
     "text": [
      "Digite o salário para calcular o imposto: 5000\n",
      "O salário de R$5000.00 pagará R$1100.00 de impostos.\n"
     ]
    }
   ],
   "source": [
    "salário = float(input(\"Digite o salário para calcular\"\n",
    "\" o imposto: \"))\n",
    "base_de_cálculo = salário\n",
    "imposto = 0\n",
    "if base_de_cálculo > 3000:\n",
    "    imposto = imposto + ((base_de_cálculo - 3000) * 0.35)\n",
    "    base_de_cálculo = 3000\n",
    "if base_de_cálculo > 1000:\n",
    "    imposto = imposto + ((base_de_cálculo - 1000) * 0.20)\n",
    "print(\"O salário de R$%6.2f pagará R$%6.2f de \"\n",
    "\"impostos.\" % (salário,imposto))"
   ]
  },
  {
   "cell_type": "markdown",
   "metadata": {},
   "source": [
    "## Exercício 4"
   ]
  },
  {
   "cell_type": "code",
   "execution_count": null,
   "metadata": {},
   "outputs": [],
   "source": [
    "categoria = int(input(\"Digite a categoria: \"))\n",
    "if categoria == 1:\n",
    "    preço = 10\n",
    "elif categoria == 2:\n",
    "    preço = 18\n",
    "elif categoria == 3:\n",
    "    preço = 20\n",
    "elif categoria == 4:\n",
    "    preço = 26\n",
    "elif categoria == 5:\n",
    "    preço = 31\n",
    "if categoria<1 or categoria>5:\n",
    "    print(\"Categoria inválida! Digite um valor entre 1 e 5!\")\n",
    "if categoria>=1 and categoria<=5:\n",
    "    print(\"O preço do produto é R$%6.2f\" % preço)"
   ]
  },
  {
   "cell_type": "markdown",
   "metadata": {},
   "source": [
    "## Exercício 5"
   ]
  },
  {
   "cell_type": "code",
   "execution_count": 1,
   "metadata": {},
   "outputs": [
    {
     "ename": "SyntaxError",
     "evalue": "invalid syntax (<ipython-input-1-9e9827a2fffb>, line 1)",
     "output_type": "error",
     "traceback": [
      "\u001b[1;36m  File \u001b[1;32m\"<ipython-input-1-9e9827a2fffb>\"\u001b[1;36m, line \u001b[1;32m1\u001b[0m\n\u001b[1;33m    1-Compare o primeiro com o segundo\u001b[0m\n\u001b[1;37m              ^\u001b[0m\n\u001b[1;31mSyntaxError\u001b[0m\u001b[1;31m:\u001b[0m invalid syntax\n"
     ]
    }
   ],
   "source": [
    "1-Compare o primeiro com o segundo\n",
    "    Se forem iguais:\n",
    "        Pule para etapa 2\n",
    "    Se forem diferentes:\n",
    "        Coloque o menor na segunda posição\n",
    "2-Compare o segundo com o terceiro\n",
    "    Se forem iguais:\n",
    "        Compare o primeiro com o terceiro\n",
    "            Se forem iguais, os três números são iguais.\n",
    "            Se forem diferentes, o menor entre eles é o menor inteiro.\n",
    "    Se forem diferentes, o menor entre eles é o menor inteiro."
   ]
  },
  {
   "cell_type": "markdown",
   "metadata": {},
   "source": [
    "## Exercício 6"
   ]
  },
  {
   "cell_type": "code",
   "execution_count": null,
   "metadata": {},
   "outputs": [],
   "source": [
    "Dividir todos os números por 2\n",
    "Descarte os números que tiverem resto igual a 0.\n",
    "    Se todos forem descartados, não há número ímpar\n",
    "    Se só sobrar um, há apenas um ímpar, logo o maior\n",
    "    Se sobrarem dois, compare esses dois números\n",
    "        O maior entre eles é o maior ímpar.\n",
    "    Se sobrarem três, compare o primeiro com o segundo\n",
    "        Se forem iguais, pule para a linha 10\n",
    "        Se forem diferentes, coloque o maior na segunda posição\n",
    "        Compare o segundo com o terceiro\n",
    "            Se forem iguais:\n",
    "                Compare o primeiro com o terceiro\n",
    "                Se forem iguais, os três números são iguais.\n",
    "                Se forem diferentes, o menor entre eles é o maior ímpar.\n",
    "            Se forem diferentes, o maior entre eles é o maior ímpar."
   ]
  },
  {
   "cell_type": "markdown",
   "metadata": {},
   "source": [
    "## Exercício 7"
   ]
  },
  {
   "cell_type": "code",
   "execution_count": 4,
   "metadata": {},
   "outputs": [
    {
     "name": "stdout",
     "output_type": "stream",
     "text": [
      "Digite o ano que deseja saber se é bissexto: 1900\n",
      "O ano não é bissexto\n"
     ]
    }
   ],
   "source": [
    "ano = int(input(\"Digite o ano que deseja saber se é bissexto: \"))\n",
    "base_de_cálculo = ano\n",
    "if (base_de_cálculo % 4)==0 and (base_de_cálculo % 100)!=0:\n",
    "    print (\"O ano é bissexto\")\n",
    "elif (base_de_cálculo % 400)==0 and (base_de_cálculo % 100)==0:\n",
    "    print (\"O ano é bissexto\")\n",
    "else:\n",
    "    print (\"O ano não é bissexto\")"
   ]
  },
  {
   "cell_type": "markdown",
   "metadata": {},
   "source": [
    "## Exercício 8"
   ]
  },
  {
   "cell_type": "code",
   "execution_count": null,
   "metadata": {},
   "outputs": [],
   "source": [
    "n= float(input(\"Insira o número que deseja saber o(s) intervalo(s): \"))\n",
    "if n<-3:\n",
    "    print (\"Esse número está no intervalo -∞ < n <= -2\")\n",
    "elif n>=-3 and n<=-2:\n",
    "    print (\"Esse número está nos intervalos -∞ < n <= -2 e -3 <= n < -1\")\n",
    "elif n>-2 and n<-1:\n",
    "    print (\"Esse número está no intervalo -3 <= n <-1\")\n",
    "elif n>0 and n<=1:\n",
    "    print (\"Esse número está no intervalo 0 < n < 2\")\n",
    "elif n>1 and n<2:\n",
    "    print (\"Esse número está nos intervalos 0 < n < 2 e 1 < n <= 3\")\n",
    "elif n>= 2 and n<=3:\n",
    "    print (\"Esse número está no intervalo 1 < n <= 3\")\n",
    "elif n>=4:\n",
    "    print (\"Esse número está no intervalo 4 <=n < ∞\")\n",
    "else:\n",
    "    print (\"Esse número não está em nenhum dos intervalos propostos.\")"
   ]
  },
  {
   "cell_type": "code",
   "execution_count": null,
   "metadata": {},
   "outputs": [],
   "source": []
  },
  {
   "cell_type": "code",
   "execution_count": null,
   "metadata": {},
   "outputs": [],
   "source": []
  }
 ],
 "metadata": {
  "kernelspec": {
   "display_name": "Python 3",
   "language": "python",
   "name": "python3"
  },
  "language_info": {
   "codemirror_mode": {
    "name": "ipython",
    "version": 3
   },
   "file_extension": ".py",
   "mimetype": "text/x-python",
   "name": "python",
   "nbconvert_exporter": "python",
   "pygments_lexer": "ipython3",
   "version": "3.7.1"
  }
 },
 "nbformat": 4,
 "nbformat_minor": 2
}
