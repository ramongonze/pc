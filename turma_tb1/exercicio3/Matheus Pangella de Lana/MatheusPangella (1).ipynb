{
 "cells": [
  {
   "cell_type": "markdown",
   "metadata": {},
   "source": [
    "Matheus pangella de lana\n",
    "2017106857"
   ]
  },
  {
   "cell_type": "markdown",
   "metadata": {},
   "source": [
    "Exercicio 1"
   ]
  },
  {
   "cell_type": "code",
   "execution_count": 28,
   "metadata": {},
   "outputs": [],
   "source": [
    "import math"
   ]
  },
  {
   "cell_type": "code",
   "execution_count": 45,
   "metadata": {},
   "outputs": [
    {
     "ename": "SyntaxError",
     "evalue": "invalid syntax (<ipython-input-45-88f2b2565ffe>, line 1)",
     "output_type": "error",
     "traceback": [
      "\u001b[0;36m  File \u001b[0;32m\"<ipython-input-45-88f2b2565ffe>\"\u001b[0;36m, line \u001b[0;32m1\u001b[0m\n\u001b[0;31m    1.1 x>=y\u001b[0m\n\u001b[0m        ^\u001b[0m\n\u001b[0;31mSyntaxError\u001b[0m\u001b[0;31m:\u001b[0m invalid syntax\n"
     ]
    }
   ],
   "source": [
    "1.1 x>=y\n",
    "1.2 x<=y\n",
    "1.3 x!=y\n",
    "1.4 0<=x and x<= (math.inf)\n",
    "1.5 x<=0 or y>=0\n",
    "1.6 (x>0 or y>=0) and ( x<=0 or y<0)\n"
   ]
  },
  {
   "cell_type": "markdown",
   "metadata": {},
   "source": [
    "Exercicio 2"
   ]
  },
  {
   "cell_type": "code",
   "execution_count": 17,
   "metadata": {},
   "outputs": [
    {
     "name": "stdout",
     "output_type": "stream",
     "text": [
      "p   q   p>=q\n",
      "0   0   True\n",
      "0   1   False\n",
      "1   0   True\n"
     ]
    }
   ],
   "source": [
    "1.1\n",
    "print(\"p   q   p>=q\") \n",
    "p = 0; q = 0\n",
    "print(p,\" \",q,\" \", p>=q) \n",
    "p = 0; q = 1\n",
    "print(p,\" \",q,\" \", p>=q) \n",
    "p = 1; q = 0\n",
    "print(p,\" \",q, \" \", p>=q) \n"
   ]
  },
  {
   "cell_type": "code",
   "execution_count": 18,
   "metadata": {},
   "outputs": [
    {
     "name": "stdout",
     "output_type": "stream",
     "text": [
      "p   q   p<=q\n",
      "0   0   True\n",
      "0   1   True\n",
      "1   0   False\n"
     ]
    }
   ],
   "source": [
    "1.2\n",
    "print(\"p   q   p<=q\") \n",
    "p = 0; q = 0\n",
    "print(p,\" \",q,\" \", p<=q) \n",
    "p = 0; q = 1\n",
    "print(p,\" \",q,\" \", p<=q) \n",
    "p = 1; q = 0\n",
    "print(p,\" \",q, \" \", p<=q) "
   ]
  },
  {
   "cell_type": "code",
   "execution_count": 21,
   "metadata": {},
   "outputs": [
    {
     "name": "stdout",
     "output_type": "stream",
     "text": [
      "p   q   p!=q\n",
      "0   0   False\n",
      "0   1   True\n"
     ]
    }
   ],
   "source": [
    "1.3\n",
    "print(\"p   q   p!=q\") \n",
    "p = 0; q = 0\n",
    "print(p,\" \",q,\" \", p!=q) \n",
    "p = 0; q = 1\n",
    "print(p,\" \",q,\" \", p!=q) \n"
   ]
  },
  {
   "cell_type": "code",
   "execution_count": 37,
   "metadata": {},
   "outputs": [
    {
     "name": "stdout",
     "output_type": "stream",
     "text": [
      "p      p>=0 and p<= (math.inf) \n",
      "0      True\n",
      "1      True\n",
      "-1     False\n",
      "3000   True\n"
     ]
    }
   ],
   "source": [
    "1.4\n",
    "print(\"p      p>=0 and p<= (math.inf) \") \n",
    "p =  0; \n",
    "print(p,\"    \", p>=0 and p<= (math.inf)) \n",
    "p =  1 ; \n",
    "print(p,\"    \", p>=0 and p<= (math.inf)) \n",
    "p =-1; \n",
    "print(p,\"   \", p>=0 and p<= (math.inf)) \n",
    "p =  3000;\n",
    "print(p,\" \", p>=0 and p<= (math.inf)) "
   ]
  },
  {
   "cell_type": "code",
   "execution_count": 39,
   "metadata": {},
   "outputs": [
    {
     "name": "stdout",
     "output_type": "stream",
     "text": [
      " p q p<=0 or q>=0 \n",
      "0   -1   True\n",
      "2   -2   False\n",
      "0    0   True\n",
      "-2   2   True\n"
     ]
    }
   ],
   "source": [
    "1.5\n",
    "print(\" p q p<=0 or q>=0 \") \n",
    "p = 0; q = -1\n",
    "print(p,\" \",q,\" \", p<=0 or q>=0) \n",
    "p = 2; q = -2\n",
    "print(p,\" \",q,\" \", p<=0 or q>=0) \n",
    "p = 0; q = 0\n",
    "print(p,\"  \",q, \" \", p<=0 or q>=0) \n",
    "p = -2; q = 2\n",
    "print(p,\" \",q,\" \", p<=0 or q>=0) "
   ]
  },
  {
   "cell_type": "code",
   "execution_count": 65,
   "metadata": {},
   "outputs": [
    {
     "name": "stdout",
     "output_type": "stream",
     "text": [
      "p    q   ((not(p<=0) or q>=0) and (not(q>=0) or p<=0)) \n",
      "0   -1   False\n",
      "2   -2   True\n",
      "0    0   True\n",
      "-2   2   True\n"
     ]
    }
   ],
   "source": [
    "1.6\n",
    "print(\"p    q   ((not(p<=0) or q>=0) and (not(q>=0) or p<=0)) \") \n",
    "p = 0; q = -1\n",
    "print(p,\" \",q,\" \", ((not(p<=0) or q>=0) and (not(q>=0) or p<=0))) \n",
    "p = 2; q = -2\n",
    "print(p,\" \",q,\" \", ((not(p<=0) or q>=0) and (not(q>=0) or p<=0))) \n",
    "p = 0; q = 0\n",
    "print(p,\"  \",q, \" \", ((not(p<=0) or q>=0) and (not(q>=0) or p<=0))) \n",
    "p = -2; q = 2\n",
    "print(p,\" \",q,\" \", ((not(p<=0) or q>=0) and (not(q>=0) or p<=0))) "
   ]
  },
  {
   "cell_type": "markdown",
   "metadata": {},
   "source": [
    "Exercicio 3"
   ]
  },
  {
   "cell_type": "code",
   "execution_count": 64,
   "metadata": {},
   "outputs": [
    {
     "name": "stdout",
     "output_type": "stream",
     "text": [
      "p       q       not(p==q)\n",
      "False   False   False\n",
      "False   True    True\n",
      "True    False   True\n",
      "True    True    False\n"
     ]
    }
   ],
   "source": [
    "3.1\n",
    "print(\"p       q       not(p==q)\") \n",
    "p = False; q = False\n",
    "print(p,\" \",q,\" \", not(p==q)) \n",
    "p = False; q = True\n",
    "print(p,\" \",q,\"  \", not(p==q)) \n",
    "p = True; q = False\n",
    "print(p,\"  \",q, \" \", not(p==q)) \n",
    "p = True; q = True\n",
    "print(p,\"  \",q,\"  \", not(p==q)) "
   ]
  },
  {
   "cell_type": "code",
   "execution_count": 13,
   "metadata": {},
   "outputs": [
    {
     "ename": "SyntaxError",
     "evalue": "invalid syntax (<ipython-input-13-f3f6945a6330>, line 1)",
     "output_type": "error",
     "traceback": [
      "\u001b[0;36m  File \u001b[0;32m\"<ipython-input-13-f3f6945a6330>\"\u001b[0;36m, line \u001b[0;32m1\u001b[0m\n\u001b[0;31m    Exercicio 3\u001b[0m\n\u001b[0m              ^\u001b[0m\n\u001b[0;31mSyntaxError\u001b[0m\u001b[0;31m:\u001b[0m invalid syntax\n"
     ]
    }
   ],
   "source": [
    "3.2\n",
    " (p or q) and not(p and q)"
   ]
  },
  {
   "cell_type": "markdown",
   "metadata": {},
   "source": [
    "Exercicio 4"
   ]
  },
  {
   "cell_type": "code",
   "execution_count": 66,
   "metadata": {},
   "outputs": [
    {
     "ename": "SyntaxError",
     "evalue": "invalid syntax (<ipython-input-66-8af14782ba63>, line 3)",
     "output_type": "error",
     "traceback": [
      "\u001b[0;36m  File \u001b[0;32m\"<ipython-input-66-8af14782ba63>\"\u001b[0;36m, line \u001b[0;32m3\u001b[0m\n\u001b[0;31m    vemos que se difere apenas na ultima premissa, o restante se mantém igual\u001b[0m\n\u001b[0m            ^\u001b[0m\n\u001b[0;31mSyntaxError\u001b[0m\u001b[0;31m:\u001b[0m invalid syntax\n"
     ]
    }
   ],
   "source": [
    "vemos que se difere apenas na ultima premissa, o restante se mantém igual "
   ]
  },
  {
   "cell_type": "code",
   "execution_count": 5,
   "metadata": {},
   "outputs": [
    {
     "ename": "SyntaxError",
     "evalue": "invalid syntax (<ipython-input-5-1794f27fa84a>, line 1)",
     "output_type": "error",
     "traceback": [
      "\u001b[0;36m  File \u001b[0;32m\"<ipython-input-5-1794f27fa84a>\"\u001b[0;36m, line \u001b[0;32m1\u001b[0m\n\u001b[0;31m    Exercico 5\u001b[0m\n\u001b[0m             ^\u001b[0m\n\u001b[0;31mSyntaxError\u001b[0m\u001b[0;31m:\u001b[0m invalid syntax\n"
     ]
    }
   ],
   "source": [
    "Exercico 5\n",
    "\n",
    "5.1. not(x) <= y\n",
    "5.2. not(x) > y\n",
    "5.3. (x >= y) and (x < y)\n",
    "5.4. (x <= y) or (x > y)\n",
    "5.5. (0 <= x) and (x <= 10)\n",
    "5.6. not(a or not(b))\n",
    "5.7. a or b\n",
    "5.8. not(not(a) or b)\n",
    "5.9. not(not(a) and (not(b))"
   ]
  },
  {
   "cell_type": "markdown",
   "metadata": {},
   "source": [
    "Exercicio 6"
   ]
  },
  {
   "cell_type": "code",
   "execution_count": 82,
   "metadata": {},
   "outputs": [
    {
     "name": "stdout",
     "output_type": "stream",
     "text": [
      "p       q       not(p) and q \n",
      "False   False   False\n",
      "False   True    True\n",
      "True    False   False\n",
      "True    True    False\n"
     ]
    }
   ],
   "source": [
    "5.6\n",
    "print(\"p       q       not(p) and q \") \n",
    "p = False; q = False\n",
    "print(p,\" \",q,\" \", not(p) and q) \n",
    "p = False; q = True\n",
    "print(p,\" \",q,\"  \", not(p) and q) \n",
    "p = True; q = False\n",
    "print(p,\"  \",q, \" \", not(p) and q) \n",
    "p = True; q = True\n",
    "print(p,\"  \",q,\"  \", not(p) and q) "
   ]
  },
  {
   "cell_type": "code",
   "execution_count": 78,
   "metadata": {},
   "outputs": [
    {
     "name": "stdout",
     "output_type": "stream",
     "text": [
      "p       q       p or q \n",
      "False   False   False\n",
      "False   True    True\n",
      "True    False   True\n",
      "True    True    True\n"
     ]
    }
   ],
   "source": [
    "5.7\n",
    "print(\"p       q       p or q \") \n",
    "p = False; q = False\n",
    "print(p,\" \",q,\" \", p or q) \n",
    "p = False; q = True\n",
    "print(p,\" \",q,\"  \", p or q) \n",
    "p = True; q = False\n",
    "print(p,\"  \",q, \" \", p or q) \n",
    "p = True; q = True\n",
    "print(p,\"  \",q,\"  \", p or q) "
   ]
  },
  {
   "cell_type": "code",
   "execution_count": 79,
   "metadata": {},
   "outputs": [
    {
     "name": "stdout",
     "output_type": "stream",
     "text": [
      "p       q       p and not(q) \n",
      "False   False   False\n",
      "False   True    False\n",
      "True    False   True\n",
      "True    True    False\n"
     ]
    }
   ],
   "source": [
    "5.8\n",
    "print(\"p       q       p and not(q) \") \n",
    "p = False; q = False\n",
    "print(p,\" \",q,\" \", p and not(q)) \n",
    "p = False; q = True\n",
    "print(p,\" \",q,\"  \", p and not(q)) \n",
    "p = True; q = False\n",
    "print(p,\"  \",q, \" \", p and not(q)) \n",
    "p = True; q = True\n",
    "print(p,\"  \",q,\"  \", p and not(q)) "
   ]
  },
  {
   "cell_type": "code",
   "execution_count": 81,
   "metadata": {},
   "outputs": [
    {
     "name": "stdout",
     "output_type": "stream",
     "text": [
      "p       q       p or q \n",
      "False   False   False\n",
      "False   True    True\n",
      "True    False   True\n",
      "True    True    True\n"
     ]
    }
   ],
   "source": [
    "5.9\n",
    "print(\"p       q       p or q \") \n",
    "p = False; q = False\n",
    "print(p,\" \",q,\" \", p or q) \n",
    "p = False; q = True\n",
    "print(p,\" \",q,\"  \", p or q) \n",
    "p = True; q = False\n",
    "print(p,\"  \",q, \" \", p or q) \n",
    "p = True; q = True\n",
    "print(p,\"  \",q,\"  \", p or q) "
   ]
  },
  {
   "cell_type": "markdown",
   "metadata": {},
   "source": [
    "Exercicio 7"
   ]
  },
  {
   "cell_type": "code",
   "execution_count": 105,
   "metadata": {},
   "outputs": [
    {
     "ename": "SyntaxError",
     "evalue": "invalid syntax (<ipython-input-105-afd835ea4022>, line 1)",
     "output_type": "error",
     "traceback": [
      "\u001b[0;36m  File \u001b[0;32m\"<ipython-input-105-afd835ea4022>\"\u001b[0;36m, line \u001b[0;32m1\u001b[0m\n\u001b[0;31m    são equivalentes entre si a 5.7 e 5.9\u001b[0m\n\u001b[0m                   ^\u001b[0m\n\u001b[0;31mSyntaxError\u001b[0m\u001b[0;31m:\u001b[0m invalid syntax\n"
     ]
    }
   ],
   "source": [
    "são equivalentes entre si a 5.7 e 5.9"
   ]
  },
  {
   "cell_type": "markdown",
   "metadata": {},
   "source": [
    "Exercicio 8"
   ]
  },
  {
   "cell_type": "code",
   "execution_count": 93,
   "metadata": {},
   "outputs": [
    {
     "name": "stdout",
     "output_type": "stream",
     "text": [
      "p       q       not(p and q) \n",
      "False   False   True\n",
      "False   True    True\n",
      "True    False   True\n",
      "True    True    False\n"
     ]
    }
   ],
   "source": [
    "\"A negação do “E” é o “OU” das negações:\"\n",
    "  \n",
    "print(\"p       q       not(p and q) \") \n",
    "p = False; q = False\n",
    "print(p,\" \",q,\" \",  not(p and q)) \n",
    "p = False; q = True\n",
    "print(p,\" \",q,\"  \",  not(p and q)) \n",
    "p = True; q = False\n",
    "print(p,\"  \",q, \" \",  not(p and q)) \n",
    "p = True; q = True\n",
    "print(p,\"  \",q,\"  \",  not(p and q)) "
   ]
  },
  {
   "cell_type": "code",
   "execution_count": 98,
   "metadata": {},
   "outputs": [
    {
     "name": "stdout",
     "output_type": "stream",
     "text": [
      "p       q       not(p) or not(q) \n",
      "False   False   True\n",
      "False   True    True\n",
      "True    False   True\n",
      "True    True    False\n"
     ]
    }
   ],
   "source": [
    "print(\"p       q       not(p) or not(q) \") \n",
    "p = False; q = False\n",
    "print(p,\" \",q,\" \",  not(p) or not(q)) \n",
    "p = False; q = True\n",
    "print(p,\" \",q,\"  \",  not(p) or not(q)) \n",
    "p = True; q = False\n",
    "print(p,\"  \",q, \" \",  not(p) or not(q)) \n",
    "p = True; q = True\n",
    "print(p,\"  \",q,\"  \",  not(p) or not(q)) "
   ]
  },
  {
   "cell_type": "code",
   "execution_count": null,
   "metadata": {},
   "outputs": [],
   "source": [
    "logo são equivalentes"
   ]
  },
  {
   "cell_type": "code",
   "execution_count": 101,
   "metadata": {},
   "outputs": [
    {
     "name": "stdout",
     "output_type": "stream",
     "text": [
      "p       q       not(p or q) \n",
      "False   False   True\n",
      "False   True    False\n",
      "True    False   False\n",
      "True    True    False\n"
     ]
    }
   ],
   "source": [
    "\"A negação do “OU” é o “E” das negações:\"\n",
    "print(\"p       q       not(p or q) \") \n",
    "p = False; q = False\n",
    "print(p,\" \",q,\" \",  not(p or q)) \n",
    "p = False; q = True\n",
    "print(p,\" \",q,\"  \",  not(p or q)) \n",
    "p = True; q = False\n",
    "print(p,\"  \",q, \" \",  not(p or q)) \n",
    "p = True; q = True\n",
    "print(p,\"  \",q,\"  \",not(p or q)) "
   ]
  },
  {
   "cell_type": "code",
   "execution_count": 104,
   "metadata": {},
   "outputs": [
    {
     "name": "stdout",
     "output_type": "stream",
     "text": [
      "p       q       not(p) and not(q) \n",
      "False   False   True\n",
      "False   True    False\n",
      "True    False   False\n",
      "True    True    False\n"
     ]
    }
   ],
   "source": [
    "\n",
    "print(\"p       q       not(p) and not(q) \") \n",
    "p = False; q = False\n",
    "print(p,\" \",q,\" \",  not(p) and not(q)) \n",
    "p = False; q = True\n",
    "print(p,\" \",q,\"  \",  not(p) and not(q)) \n",
    "p = True; q = False\n",
    "print(p,\"  \",q, \" \", not(p) and not(q)) \n",
    "p = True; q = True\n",
    "print(p,\"  \",q,\"  \",  not(p) and not(q)) "
   ]
  },
  {
   "cell_type": "code",
   "execution_count": null,
   "metadata": {},
   "outputs": [],
   "source": [
    "logo são equivalentes"
   ]
  },
  {
   "cell_type": "code",
   "execution_count": null,
   "metadata": {},
   "outputs": [],
   "source": []
  },
  {
   "cell_type": "code",
   "execution_count": null,
   "metadata": {},
   "outputs": [],
   "source": []
  },
  {
   "cell_type": "code",
   "execution_count": null,
   "metadata": {},
   "outputs": [],
   "source": []
  }
 ],
 "metadata": {
  "kernelspec": {
   "display_name": "Python 3",
   "language": "python",
   "name": "python3"
  },
  "language_info": {
   "codemirror_mode": {
    "name": "ipython",
    "version": 3
   },
   "file_extension": ".py",
   "mimetype": "text/x-python",
   "name": "python",
   "nbconvert_exporter": "python",
   "pygments_lexer": "ipython3",
   "version": "3.6.7"
  }
 },
 "nbformat": 4,
 "nbformat_minor": 2
}
