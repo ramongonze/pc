{
 "cells": [
  {
   "cell_type": "markdown",
   "metadata": {},
   "source": [
    "# Aula 3 - Exercícios\n",
    "# Questão 1"
   ]
  },
  {
   "cell_type": "markdown",
   "metadata": {},
   "source": [
    "1.1) X > Y ∨ X = Y \n",
    "\n",
    "1.2) X < Y ∨ X = Y\n",
    "\n",
    "1.3) X > Y ∨ X < Y\n",
    "\n",
    "1.4) 0 < X ∨ X = 0 ∧ X < ∞ ∨ X = ∞\n",
    "\n",
    "1.5) X <= 0 ∨ Y >= 0\n",
    "\n",
    "1.6) X > 0 ∨ Y >= O ∧ Y < 0 ∨ X <= 0\n"
   ]
  },
  {
   "cell_type": "markdown",
   "metadata": {},
   "source": [
    "# Questão 2"
   ]
  },
  {
   "cell_type": "code",
   "execution_count": 10,
   "metadata": {},
   "outputs": [
    {
     "name": "stdout",
     "output_type": "stream",
     "text": [
      "p     q     p >= q\n",
      "5     8     False\n",
      "5     1     True\n",
      "0     0     True\n"
     ]
    }
   ],
   "source": [
    "print(\"p     q     p >= q\") \n",
    "p=5; q=8\n",
    "print(p,\"   \",q,\"   \", p >= q) \n",
    "p=5; q=1\n",
    "print(p,\"   \",q,\"   \", p >= q) \n",
    "p=0; q=0\n",
    "print(p,\"   \",q,\"   \", p >= q) "
   ]
  },
  {
   "cell_type": "code",
   "execution_count": 16,
   "metadata": {},
   "outputs": [
    {
     "name": "stdout",
     "output_type": "stream",
     "text": [
      "a       b     a <= b\n",
      "11     51     True\n",
      "8      5      False\n",
      "58     58     True\n"
     ]
    }
   ],
   "source": [
    "print(\"a       b     a <= b\") \n",
    "a=11; b=51\n",
    "print(a,\"   \",b,\"   \", a <= b) \n",
    "a=8; b=5\n",
    "print(a,\"    \",b,\"    \", a <= b) \n",
    "a=58; b=58\n",
    "print(a,\"   \",b,\"   \", a <= b) "
   ]
  },
  {
   "cell_type": "code",
   "execution_count": 40,
   "metadata": {},
   "outputs": [
    {
     "name": "stdout",
     "output_type": "stream",
     "text": [
      "f        g      f ≠ g\n",
      "18      15      True\n",
      "50      85      True\n",
      "1       1       False\n"
     ]
    }
   ],
   "source": [
    "print(\"f        g      f ≠ g\") \n",
    "f=18; g=15\n",
    "print(f,\"    \",g,\"    \", f > g or f < g) \n",
    "f=50; g=85\n",
    "print(f,\"    \",g,\"    \", f > g or f < g) \n",
    "f=1; g=1\n",
    "print(f,\"     \",g,\"     \", f > g or f < g) "
   ]
  },
  {
   "cell_type": "code",
   "execution_count": 39,
   "metadata": {},
   "outputs": [
    {
     "name": "stdout",
     "output_type": "stream",
     "text": [
      "c      0 <= x <= ∞\n",
      "10        True\n",
      "inf       True\n",
      "-5        False\n"
     ]
    }
   ],
   "source": [
    "print(\"c      0 <= x <= ∞\") #cabeçalho\n",
    "c=10\n",
    "print(c,\"      \", 0 < c or c == 0 and c < float(\"inf\") or c == float(\"inf\"))\n",
    "c=float(\"inf\")\n",
    "print(c,\"     \", 0 < c or c == 0 and c < float(\"inf\") or c == float(\"inf\"))\n",
    "c=int(\"-5\")\n",
    "print(c,\"      \", 0 < c or c == 0 and c < float(\"inf\") or c == float(\"inf\"))"
   ]
  },
  {
   "cell_type": "code",
   "execution_count": 4,
   "metadata": {},
   "outputs": [
    {
     "name": "stdout",
     "output_type": "stream",
     "text": [
      "r        g      r > 0 → y >= 0\n",
      "25       12         True\n",
      "-21      12         True\n",
      "-2      -2          True\n"
     ]
    }
   ],
   "source": [
    "print(\"r        g      r > 0 → y >= 0\")\n",
    "r=25; g=12\n",
    "print(r,\"     \",g,\"       \", r <= 0 or g >= 0)\n",
    "r=int(-21); g=int(12)\n",
    "print(r,\"    \",g,\"       \", r <= 0 or g >= 0)\n",
    "r=int(-2); g=int(-2)\n",
    "print(r,\"    \",g,\"        \", r <= 0 or g >= 0)"
   ]
  },
  {
   "cell_type": "code",
   "execution_count": 6,
   "metadata": {},
   "outputs": [
    {
     "name": "stdout",
     "output_type": "stream",
     "text": [
      "a        b         a <= 0 ↔ y >= 0\n",
      "20       11         True\n",
      "-12      -5         True\n",
      "82       82         True\n"
     ]
    }
   ],
   "source": [
    "print(\"a        b         a <= 0 ↔ y >= 0\")\n",
    "a=20; b=11\n",
    "print(a,\"     \",b,\"       \", a > 0 or b >= 0 and b < 0 or a <= 0)\n",
    "a=int(-12); b=int(-5)\n",
    "print(a,\"    \",b,\"       \", a > 0 or b >= 0 and b < 0 or a <= 0)\n",
    "a=82; b=82\n",
    "print(a,\"     \",b,\"       \", a > 0 or b >= 0 and b < 0 or a <= 0)"
   ]
  },
  {
   "cell_type": "markdown",
   "metadata": {},
   "source": [
    "# Questão 3"
   ]
  },
  {
   "cell_type": "code",
   "execution_count": 138,
   "metadata": {},
   "outputs": [
    {
     "name": "stdout",
     "output_type": "stream",
     "text": [
      "A            B          A ⊗ B\n",
      "False      False        False\n",
      "False      True         True\n",
      "True       False        True\n",
      "True       True         False\n"
     ]
    }
   ],
   "source": [
    "print(\"A            B          A ⊗ B\")\n",
    "A=False; B=False\n",
    "print(A,\"    \",B,\"      \", A ^ B)\n",
    "A=False; B=True\n",
    "print(A,\"    \",B,\"       \", A ^ B)\n",
    "A=True; B=False\n",
    "print(A,\"     \",B,\"      \", A ^ B)\n",
    "A=True; B=True\n",
    "print(A,\"     \",B,\"       \", A ^ B)"
   ]
  },
  {
   "cell_type": "code",
   "execution_count": 84,
   "metadata": {},
   "outputs": [
    {
     "name": "stdout",
     "output_type": "stream",
     "text": [
      "A             B          A ⊗ B\n",
      "False        False       False\n",
      "False        True        True\n",
      "True         False       True\n",
      "True         True        False\n"
     ]
    }
   ],
   "source": [
    "print(\"A             B          A ⊗ B\")\n",
    "A=False; B=False\n",
    "print(A,\"      \",B,\"     \", (A and not B) or (not A and B))\n",
    "A=False; B=True\n",
    "print(A,\"      \",B,\"      \", (A and not B) or (not A and B))\n",
    "A=True; B=False\n",
    "print(A,\"       \",B,\"     \", (A and not B) or (not A and B))\n",
    "A= True; B= True\n",
    "print(A,\"       \",B,\"      \", (A and not B) or (not A and B))"
   ]
  },
  {
   "cell_type": "markdown",
   "metadata": {},
   "source": [
    "# Questão 4"
   ]
  },
  {
   "cell_type": "code",
   "execution_count": 145,
   "metadata": {},
   "outputs": [
    {
     "name": "stdout",
     "output_type": "stream",
     "text": [
      "A             B           A ↔ B\n",
      "False        False        True\n",
      "False        True         False\n",
      "True         False        False\n",
      "True         True         True\n"
     ]
    }
   ],
   "source": [
    "print(\"A             B           A ↔ B\")\n",
    "A=False; B=False\n",
    "print(A,\"      \",B,\"      \", (not A or B) and (not B or A))\n",
    "A=False; B=True\n",
    "print(A,\"      \",B,\"       \", (not A or B) and (not B or A))\n",
    "A=True; B=False\n",
    "print(A,\"       \",B,\"      \", (not A or B) and (not B or A))\n",
    "A=True; B=True\n",
    "print(A,\"       \",B,\"       \", (not A or B) and (not B or A))"
   ]
  },
  {
   "cell_type": "markdown",
   "metadata": {},
   "source": [
    " A tabela de verdade do comando A XOR B é exatamente oposta à tabela de verdade do comando A ↔ B."
   ]
  },
  {
   "cell_type": "markdown",
   "metadata": {},
   "source": [
    "# Questão 5"
   ]
  },
  {
   "cell_type": "markdown",
   "metadata": {},
   "source": [
    "5.1) ¬ x <= y == x > y\n",
    "\n",
    "5.2) ¬ x > y == x <= y\n",
    "\n",
    "5.3) x >= y ∧ x < y == ¬ False (Impossível)\n",
    "\n",
    "5.4) x <= y ∨ x > y == True (Sempre acontece)\n",
    "\n",
    "5.5) 0 <= x <= 10 == ¬ (x < 0 ∨ x > 10)\n",
    "\n",
    "5.6) ¬ (a ∨ ¬ b) == ¬ a ∧ b\n",
    "\n",
    "5.7) ¬ a → b == a ∨ b\n",
    "\n",
    "5.8) ¬ (a → b) == ¬ (¬ a ∨ b) == a ∧ ¬ b\n",
    "\n",
    "5.9) ¬ (¬ a ∧ ¬ b) == a ∨ b"
   ]
  },
  {
   "cell_type": "markdown",
   "metadata": {},
   "source": [
    "# Questão 6"
   ]
  },
  {
   "cell_type": "code",
   "execution_count": 109,
   "metadata": {},
   "outputs": [
    {
     "name": "stdout",
     "output_type": "stream",
     "text": [
      "a            b        ¬ (a ∨ ¬ b)\n",
      "False      False       False\n",
      "False      True        True\n",
      "True       False       False\n",
      "True       True        False\n"
     ]
    }
   ],
   "source": [
    "print(\"a            b        ¬ (a ∨ ¬ b)\")\n",
    "a=False; b=False\n",
    "print(a,\"    \",b,\"     \", not (a or not b))\n",
    "a=False; b=True\n",
    "print(a,\"    \",b,\"      \", not (a or not b))\n",
    "a=True; b=False\n",
    "print(a,\"     \",b,\"     \", not (a or not b))\n",
    "a=True; b=True\n",
    "print(a,\"     \",b,\"      \", not (a or not b))"
   ]
  },
  {
   "cell_type": "code",
   "execution_count": 93,
   "metadata": {},
   "outputs": [
    {
     "name": "stdout",
     "output_type": "stream",
     "text": [
      "a            b         ¬ a ∧ b\n",
      "False      False       False\n",
      "False      True        True\n",
      "True       False       False\n",
      "True       True        False\n"
     ]
    }
   ],
   "source": [
    "print(\"a            b         ¬ a ∧ b\")\n",
    "a=False; b=False\n",
    "print(a,\"    \",b,\"     \", not a and b)\n",
    "a=False; b= True \n",
    "print(a,\"    \",b,\"      \", not a and b)\n",
    "a=True; b=False\n",
    "print(a,\"     \",b,\"     \", not a and b)\n",
    "a=True; b=True\n",
    "print(a,\"     \",b,\"      \", not a and b)"
   ]
  },
  {
   "cell_type": "code",
   "execution_count": 112,
   "metadata": {},
   "outputs": [
    {
     "name": "stdout",
     "output_type": "stream",
     "text": [
      "a           b           ¬ a → b\n",
      "False      False        False\n",
      "False      True         True\n",
      "True       False        True\n",
      "True       True         True\n"
     ]
    }
   ],
   "source": [
    "print(\"a           b           ¬ a → b\")\n",
    "a=False; b=False\n",
    "print(a,\"    \",b,\"      \", not not a or b)\n",
    "a=False; b=True\n",
    "print(a,\"    \",b,\"       \", not not a or b)\n",
    "a=True; b=False\n",
    "print(a,\"     \",b,\"      \", not not a or b)\n",
    "a=True; b=True\n",
    "print(a,\"     \",b,\"       \", not not a or b)"
   ]
  },
  {
   "cell_type": "code",
   "execution_count": 99,
   "metadata": {},
   "outputs": [
    {
     "name": "stdout",
     "output_type": "stream",
     "text": [
      "a           b           a ∨ b\n",
      "False      False        False\n",
      "False      True         True\n",
      "True       False        True\n",
      "True       True         True\n"
     ]
    }
   ],
   "source": [
    "print(\"a           b           a ∨ b\")\n",
    "a=False; b=False\n",
    "print(a,\"    \",b,\"      \", a or b)\n",
    "a=False; b=True\n",
    "print(a,\"    \",b,\"       \", a or b)\n",
    "a=True; b=False\n",
    "print(a,\"     \",b,\"      \", a or b)\n",
    "a=True; b=True\n",
    "print(a,\"     \",b,\"       \", a or b)"
   ]
  },
  {
   "cell_type": "code",
   "execution_count": 117,
   "metadata": {},
   "outputs": [
    {
     "name": "stdout",
     "output_type": "stream",
     "text": [
      "a            b          ¬ (a → b)\n",
      "False       False        False\n",
      "False       True         False\n",
      "True        False        True\n",
      "True        True         False\n"
     ]
    }
   ],
   "source": [
    "print(\"a            b          ¬ (a → b)\")\n",
    "a=False; b=False\n",
    "print(a,\"     \",b,\"      \", not (not a or b))\n",
    "a=False; b=True\n",
    "print(a,\"     \",b,\"       \", not (not a or b))\n",
    "a=True; b=False\n",
    "print(a,\"      \",b,\"      \", not (not a or b))\n",
    "a=True; b=True\n",
    "print(a,\"      \",b,\"       \", not (not a or b))"
   ]
  },
  {
   "cell_type": "code",
   "execution_count": 104,
   "metadata": {},
   "outputs": [
    {
     "name": "stdout",
     "output_type": "stream",
     "text": [
      "a            b          a ∧ ¬ b\n",
      "False       False        False\n",
      "False       True         False\n",
      "True        False        True\n",
      "True        True         False\n"
     ]
    }
   ],
   "source": [
    "print(\"a            b          a ∧ ¬ b\")\n",
    "a=False; b=False\n",
    "print(a,\"     \",b,\"      \", a and not b)\n",
    "a=False; b=True\n",
    "print(a,\"     \",b,\"       \", a and not b)\n",
    "a=True; b=False\n",
    "print(a,\"      \",b,\"      \", a and not b)\n",
    "a=True; b=True\n",
    "print(a,\"      \",b,\"       \", a and not b)"
   ]
  },
  {
   "cell_type": "code",
   "execution_count": 120,
   "metadata": {},
   "outputs": [
    {
     "name": "stdout",
     "output_type": "stream",
     "text": [
      "a           b           ¬ (¬ a ∧ ¬ b)\n",
      "False      False         False\n",
      "False      True          True\n",
      "True       False         True\n",
      "True       True          True\n"
     ]
    }
   ],
   "source": [
    "print(\"a           b           ¬ (¬ a ∧ ¬ b)\")\n",
    "a=False; b=False\n",
    "print(a,\"    \",b,\"       \", not (not a and not b))\n",
    "a=False; b=True\n",
    "print(a,\"    \",b,\"        \", not (not a and not b))\n",
    "a=True; b=False\n",
    "print(a,\"     \",b,\"       \", not (not a and not b))\n",
    "a=True; b=True\n",
    "print(a,\"     \",b,\"        \", not (not a and not b))"
   ]
  },
  {
   "cell_type": "code",
   "execution_count": 121,
   "metadata": {},
   "outputs": [
    {
     "name": "stdout",
     "output_type": "stream",
     "text": [
      "a           b           a ∨ b\n",
      "False      False        False\n",
      "False      True         True\n",
      "True       False        True\n",
      "True       True         True\n"
     ]
    }
   ],
   "source": [
    "print(\"a           b           a ∨ b\")\n",
    "a=False; b=False\n",
    "print(a,\"    \",b,\"      \", a or b)\n",
    "a=False; b=True\n",
    "print(a,\"    \",b,\"       \", a or b)\n",
    "a=True; b=False\n",
    "print(a,\"     \",b,\"      \", a or b)\n",
    "a=True; b=True\n",
    "print(a,\"     \",b,\"       \", a or b)"
   ]
  },
  {
   "cell_type": "markdown",
   "metadata": {},
   "source": [
    "# Questão 7"
   ]
  },
  {
   "cell_type": "markdown",
   "metadata": {},
   "source": [
    " As expressões equivalentes são as dos exercícios (5.7. ¬ a → b) e (5.9. ¬ (¬ a ∧ ¬ b)). "
   ]
  },
  {
   "cell_type": "markdown",
   "metadata": {},
   "source": [
    "# Questão 8"
   ]
  },
  {
   "cell_type": "code",
   "execution_count": 144,
   "metadata": {},
   "outputs": [
    {
     "name": "stdout",
     "output_type": "stream",
     "text": [
      "A             B           ¬ (A ∧ B)\n",
      "False        False          True\n",
      "False        True           True\n",
      "True         False          True\n",
      "True         True           False\n"
     ]
    }
   ],
   "source": [
    "print(\"A             B           ¬ (A ∧ B)\")\n",
    "A=False; B=False\n",
    "print(A,\"      \",B,\"        \", not (A and B))\n",
    "A=False; B=True\n",
    "print(A,\"      \",B,\"         \", not (A and B))\n",
    "A=True; B=False\n",
    "print(A,\"       \",B,\"        \", not (A and B))\n",
    "A=True; B=True\n",
    "print(A,\"       \",B,\"         \", not (A and B))"
   ]
  },
  {
   "cell_type": "code",
   "execution_count": 133,
   "metadata": {},
   "outputs": [
    {
     "name": "stdout",
     "output_type": "stream",
     "text": [
      "A              B         (¬ A ∨ ¬ B)\n",
      "False        False          True\n",
      "False        True           True\n",
      "True         False          True\n",
      "True         True           False\n"
     ]
    }
   ],
   "source": [
    "print(\"A              B         (¬ A ∨ ¬ B)\")\n",
    "A=False; B=False\n",
    "print(A,\"      \",B,\"        \", (not A or not B))\n",
    "A=False; B=True\n",
    "print(A,\"      \",B,\"         \", (not A or not B))\n",
    "A=True; B=False\n",
    "print(A,\"       \",B,\"        \", (not A or not B))\n",
    "A=True; B=True\n",
    "print(A,\"       \",B,\"         \", (not A or not B))"
   ]
  },
  {
   "cell_type": "code",
   "execution_count": 135,
   "metadata": {},
   "outputs": [
    {
     "name": "stdout",
     "output_type": "stream",
     "text": [
      "A              B          ¬ (A ∨ B)\n",
      "False        False         True\n",
      "False        True          False\n",
      "True         False         False\n",
      "True         True          False\n"
     ]
    }
   ],
   "source": [
    "print(\"A              B          ¬ (A ∨ B)\")\n",
    "A=False; B=False\n",
    "print(A,\"      \",B,\"       \", not (A or B))\n",
    "A=False; B=True\n",
    "print(A,\"      \",B,\"        \", not (A or B))\n",
    "A=True; B=False\n",
    "print(A,\"       \",B,\"       \", not (A or B))\n",
    "A=True; B=True\n",
    "print(A,\"       \",B,\"        \", not (A or B))"
   ]
  },
  {
   "cell_type": "code",
   "execution_count": 137,
   "metadata": {},
   "outputs": [
    {
     "name": "stdout",
     "output_type": "stream",
     "text": [
      "A              B          (¬ A ∧ ¬ B)\n",
      "False        False         True\n",
      "False        True          False\n",
      "True         False         False\n",
      "True         True          False\n"
     ]
    }
   ],
   "source": [
    "print(\"A              B          (¬ A ∧ ¬ B)\")\n",
    "A=False; B=False\n",
    "print(A,\"      \",B,\"       \", (not A and not B))\n",
    "A=False; B=True\n",
    "print(A,\"      \",B,\"        \", (not A and not B))\n",
    "A=True; B=False\n",
    "print(A,\"       \",B,\"       \", (not A and not B))\n",
    "A=True; B=True\n",
    "print(A,\"       \",B,\"        \", (not A and not B))"
   ]
  }
 ],
 "metadata": {
  "kernelspec": {
   "display_name": "Python 3",
   "language": "python",
   "name": "python3"
  },
  "language_info": {
   "codemirror_mode": {
    "name": "ipython",
    "version": 3
   },
   "file_extension": ".py",
   "mimetype": "text/x-python",
   "name": "python",
   "nbconvert_exporter": "python",
   "pygments_lexer": "ipython3",
   "version": "3.7.1"
  }
 },
 "nbformat": 4,
 "nbformat_minor": 2
}
