{
 "cells": [
  {
   "cell_type": "markdown",
   "metadata": {},
   "source": [
    "\n",
    "## Exercício 1"
   ]
  },
  {
   "cell_type": "code",
   "execution_count": null,
   "metadata": {},
   "outputs": [],
   "source": [
    "x ≥ y = not (x<y)\n",
    "x ≤ y = not (x>y)\n",
    "x != y = (x>y) or (x<y)\n",
    "0 ≤ x ≤ ∞ = (x>0) or (x=0)\n",
    "x > 0 → y ≥ 0 = x<=y\n",
    "x ≤ 0 ↔ y ≥ 0 = (x>0 or y>=0) and (y<0 or x<=0)  \n",
    "\n"
   ]
  },
  {
   "cell_type": "markdown",
   "metadata": {},
   "source": [
    "## Exercício 2"
   ]
  },
  {
   "cell_type": "code",
   "execution_count": 16,
   "metadata": {},
   "outputs": [
    {
     "name": "stdout",
     "output_type": "stream",
     "text": [
      "x       y    x ≥ y \n",
      "21     32    False\n",
      "-21   -32    True\n",
      "21    -32    True\n",
      "-21    32    False\n"
     ]
    }
   ],
   "source": [
    "print(\"x       y    x ≥ y \") #cabeçalho\n",
    "x =  21;   y =32\n",
    "print(x,\"   \",y,\"  \",    not (x<y)) #linha 1\n",
    "x = -21; y = -32\n",
    "print(x,\" \",y,\"  \", not (x<y)) #linha 2\n",
    "x =  21; y = -32\n",
    "print(x,\"  \",y,\"  \", not (x<y)) #linha 3\n",
    "x =  -21; y = 32\n",
    "print(x,\"  \",y,\"  \", not (x<y)) #linha 4"
   ]
  },
  {
   "cell_type": "code",
   "execution_count": 18,
   "metadata": {},
   "outputs": [
    {
     "name": "stdout",
     "output_type": "stream",
     "text": [
      "x       y    x ≤ y \n",
      "21     32    True\n",
      "-21   -32    False\n",
      "21    -32    False\n",
      "-21    32    True\n"
     ]
    }
   ],
   "source": [
    "print(\"x       y    x ≤ y \") #cabeçalho\n",
    "x =  21;   y =32\n",
    "print(x,\"   \",y,\"  \",    not (x>y)) #linha 1\n",
    "x = -21; y = -32\n",
    "print(x,\" \",y,\"  \", not (x>y)) #linha 2\n",
    "x =  21; y = -32\n",
    "print(x,\"  \",y,\"  \", not (x>y)) #linha 3\n",
    "x =  -21; y = 32\n",
    "print(x,\"  \",y,\"  \", not (x>y)) #linha 4"
   ]
  },
  {
   "cell_type": "code",
   "execution_count": 20,
   "metadata": {},
   "outputs": [
    {
     "name": "stdout",
     "output_type": "stream",
     "text": [
      "x       y    x != y \n",
      "21     32    True\n",
      "-21   -32    True\n",
      "21    -32    True\n",
      "-21    32    True\n"
     ]
    }
   ],
   "source": [
    "print(\"x       y    x != y \") #cabeçalho\n",
    "x =  21;   y =32\n",
    "print(x,\"   \",y,\"  \",    (x>y) or (x<y)) #linha 1\n",
    "x = -21; y = -32\n",
    "print(x,\" \",y,\"  \", (x>y) or (x<y)) #linha 2\n",
    "x =  21; y = -32\n",
    "print(x,\"  \",y,\"  \", (x>y) or (x<y)) #linha 3\n",
    "x =  -21; y = 32\n",
    "print(x,\"  \",y,\"  \", (x>y) or (x<y)) #linha 4"
   ]
  },
  {
   "cell_type": "code",
   "execution_count": 31,
   "metadata": {},
   "outputs": [
    {
     "name": "stdout",
     "output_type": "stream",
     "text": [
      "x       y    0 ≤ x ≤ ∞ \n",
      "21     32    True\n",
      "-21   -32    False\n",
      "21    -32    True\n",
      "-21    32    False\n"
     ]
    }
   ],
   "source": [
    "print(\"x       y    0 ≤ x ≤ ∞ \") #cabeçalho\n",
    "x =  21;   y =32;\n",
    "print(x,\"   \",y,\"  \", x>=0) #linha 1\n",
    "x = -21; y = -32\n",
    "print(x,\" \",y,\"  \", x>=0) #linha 2\n",
    "x =  21; y = -32\n",
    "print(x,\"  \",y,\"  \", x>=0) #linha 3\n",
    "x =  -21; y = 32\n",
    "print(x,\"  \",y,\"  \", x>=0) #linha 4"
   ]
  },
  {
   "cell_type": "code",
   "execution_count": 32,
   "metadata": {},
   "outputs": [
    {
     "name": "stdout",
     "output_type": "stream",
     "text": [
      "x       y    x > 0 → y ≥ 0 \n",
      "21     32    True\n",
      "-21   -32    False\n",
      "21    -32    False\n",
      "-21    32    True\n"
     ]
    }
   ],
   "source": [
    "print(\"x       y    x > 0 → y ≥ 0 \") #cabeçalho\n",
    "x =  21;   y =32;\n",
    "print(x,\"   \",y,\"  \", x<=y) #linha 1\n",
    "x = -21; y = -32\n",
    "print(x,\" \",y,\"  \", x<=y) #linha 2\n",
    "x =  21; y = -32\n",
    "print(x,\"  \",y,\"  \", x<=y) #linha 3\n",
    "x =  -21; y = 32\n",
    "print(x,\"  \",y,\"  \", x<=y) #linha 4"
   ]
  },
  {
   "cell_type": "code",
   "execution_count": 34,
   "metadata": {},
   "outputs": [
    {
     "name": "stdout",
     "output_type": "stream",
     "text": [
      "x       y    x ≤ 0 ↔ y ≥ 0 \n",
      "21     32    False\n",
      "-21   -32    False\n",
      "21    -32    True\n",
      "-21    32    True\n"
     ]
    }
   ],
   "source": [
    "print(\"x       y    x ≤ 0 ↔ y ≥ 0 \") #cabeçalho\n",
    "x =  21;   y =32;\n",
    "print(x,\"   \",y,\"  \", (x>0 or y>=0) and (y<0 or x<=0)) #linha 1\n",
    "x = -21; y = -32\n",
    "print(x,\" \",y,\"  \", (x>0 or y>=0) and (y<0 or x<=0)) #linha 2\n",
    "x =  21; y = -32\n",
    "print(x,\"  \",y,\"  \", (x>0 or y>=0) and (y<0 or x<=0)) #linha 3\n",
    "x =  -21; y = 32\n",
    "print(x,\"  \",y,\"  \", (x>0 or y>=0) and (y<0 or x<=0)) #linha 4"
   ]
  },
  {
   "cell_type": "markdown",
   "metadata": {},
   "source": [
    "## Exercício 3"
   ]
  },
  {
   "cell_type": "code",
   "execution_count": 52,
   "metadata": {},
   "outputs": [
    {
     "name": "stdout",
     "output_type": "stream",
     "text": [
      "  x        y      A xor B \n",
      "True     False    True\n",
      "True     True     False\n",
      "False    True     True\n",
      "False    False    False\n"
     ]
    }
   ],
   "source": [
    "print(\"  x        y      A xor B \") #cabeçalho\n",
    "A= True;   B= False;\n",
    "print(A,\"   \",B,\"  \", A^B) #linha 1\n",
    "A= True; B= True\n",
    "print(A,\"   \",B,\"   \", A^B) #linha 2\n",
    "A= False; B= True\n",
    "print(A,\"  \",B,\"   \", A^B) #linha 3\n",
    "A= False; B= False\n",
    "print(A,\"  \",B,\"  \", A^B) #linha 4"
   ]
  },
  {
   "cell_type": "code",
   "execution_count": 57,
   "metadata": {},
   "outputs": [
    {
     "name": "stdout",
     "output_type": "stream",
     "text": [
      "  x        y      A xor B \n",
      "True     False    True\n",
      "True     True     False\n",
      "False    True     True\n",
      "False    False    False\n"
     ]
    }
   ],
   "source": [
    "print(\"  x        y      A xor B \") #cabeçalho\n",
    "A= True;   B= False;\n",
    "print(A,\"   \",B,\"  \", (A and not B) or (B and not A)) #linha 1\n",
    "A= True; B= True\n",
    "print(A,\"   \",B,\"   \", (A and not B) or (B and not A)) #linha 2\n",
    "A= False; B= True\n",
    "print(A,\"  \",B,\"   \", (A and not B) or (B and not A)) #linha 3\n",
    "A= False; B= False\n",
    "print(A,\"  \",B,\"  \", (A and not B) or (B and not A)) #linha 4"
   ]
  },
  {
   "cell_type": "markdown",
   "metadata": {},
   "source": [
    "## Exercício 4"
   ]
  },
  {
   "cell_type": "markdown",
   "metadata": {},
   "source": [
    "A tabela de ↔ com true e false fica:"
   ]
  },
  {
   "cell_type": "code",
   "execution_count": 15,
   "metadata": {},
   "outputs": [
    {
     "name": "stdout",
     "output_type": "stream",
     "text": [
      " x       y      x ↔ y \n",
      "True   False    False\n",
      "True   True     True\n",
      "False  True     False\n",
      "False  False    True\n"
     ]
    }
   ],
   "source": [
    "print(\" x       y      x ↔ y \") #cabeçalho\n",
    "x =  True; y =False;\n",
    "print(x,\" \",y,\"  \", (not x or y) and (not y or x)) #linha 1\n",
    "x = True; y = True\n",
    "print(x,\" \",y,\"   \", (not x or y) and (not y or x)) #linha 2\n",
    "x =  False; y = True\n",
    "print(x,\"\",y,\"   \", (not x or y) and (not y or x)) #linha 3\n",
    "x =  False; y = False\n",
    "print(x,\"\",y,\"  \", (not x or y) and (not y or x)) #linha 4"
   ]
  },
  {
   "cell_type": "raw",
   "metadata": {},
   "source": [
    "Percebe-se então que xor é o comando oposto ao ↔"
   ]
  },
  {
   "cell_type": "markdown",
   "metadata": {},
   "source": [
    "## Exercício 5"
   ]
  },
  {
   "cell_type": "code",
   "execution_count": 16,
   "metadata": {},
   "outputs": [
    {
     "data": {
      "text/plain": [
       "True"
      ]
     },
     "execution_count": 16,
     "metadata": {},
     "output_type": "execute_result"
    }
   ],
   "source": [
    "5.1 x > y\n",
    "5.2 x <= y\n",
    "5.3 False\n",
    "5.4 True\n",
    "5.5 x >= 0 and x <= 10\n",
    "5.6 not a and b\n",
    "5.7 a or b\n",
    "5.8 a and not b\n",
    "5.9 a or b"
   ]
  },
  {
   "cell_type": "markdown",
   "metadata": {},
   "source": [
    "## Exercício 6"
   ]
  },
  {
   "cell_type": "code",
   "execution_count": 8,
   "metadata": {},
   "outputs": [
    {
     "name": "stdout",
     "output_type": "stream",
     "text": [
      " a       b    not(a or not b) \n",
      "True    True    False\n",
      "True    False   False\n",
      "False   True    True\n",
      "False   False   False\n"
     ]
    }
   ],
   "source": [
    "print(\" a       b    not(a or not b) \") #cabeçalho\n",
    "a =  True;   b= True\n",
    "print(a,\"  \",b,\"  \",    not a and b) #linha 1\n",
    "a = True; b = False\n",
    "print(a,\"  \",b,\" \", not a and b) #linha 2\n",
    "a =  False; b = True\n",
    "print(a,\" \",b,\"  \", not a and b) #linha 3\n",
    "a =  False; b = False\n",
    "print(a,\" \",b,\" \", not a and b) #linha 4"
   ]
  },
  {
   "cell_type": "code",
   "execution_count": 11,
   "metadata": {},
   "outputs": [
    {
     "name": "stdout",
     "output_type": "stream",
     "text": [
      " a       b     a or b \n",
      "True    True    True\n",
      "True    False   True\n",
      "False   True    True\n",
      "False   False   False\n"
     ]
    }
   ],
   "source": [
    "print(\" a       b     a or b \") #cabeçalho\n",
    "a =  True;   b= True\n",
    "print(a,\"  \",b,\"  \",    a or b) #linha 1\n",
    "a = True; b = False\n",
    "print(a,\"  \",b,\" \", a or b) #linha 2\n",
    "a =  False; b = True\n",
    "print(a,\" \",b,\"  \", a or b) #linha 3\n",
    "a =  False; b = False\n",
    "print(a,\" \",b,\" \", a or b) #linha 4"
   ]
  },
  {
   "cell_type": "code",
   "execution_count": 17,
   "metadata": {},
   "outputs": [
    {
     "name": "stdout",
     "output_type": "stream",
     "text": [
      " a       b     not(not a or b) \n",
      "True    True    False\n",
      "True    False   True\n",
      "False   True    False\n",
      "False   False   False\n"
     ]
    }
   ],
   "source": [
    "print(\" a       b     not(not a or b) \") #cabeçalho\n",
    "a =  True;   b= True\n",
    "print(a,\"  \",b,\"  \",    a and not b) #linha 1\n",
    "a = True; b = False\n",
    "print(a,\"  \",b,\" \", a and not b) #linha 2\n",
    "a =  False; b = True\n",
    "print(a,\" \",b,\"  \", a and not b) #linha 3\n",
    "a =  False; b = False\n",
    "print(a,\" \",b,\" \", a and not b) #linha 4"
   ]
  },
  {
   "cell_type": "code",
   "execution_count": 13,
   "metadata": {},
   "outputs": [
    {
     "name": "stdout",
     "output_type": "stream",
     "text": [
      " a       b     not(not a and not b)  \n",
      "True    True    True\n",
      "True    False   True\n",
      "False   True    True\n",
      "False   False   False\n"
     ]
    }
   ],
   "source": [
    "print(\" a       b     not(not a and not b)  \") #cabeçalho\n",
    "a =  True;   b= True\n",
    "print(a,\"  \",b,\"  \",    a or b) #linha 1\n",
    "a = True; b = False\n",
    "print(a,\"  \",b,\" \", a or b) #linha 2\n",
    "a =  False; b = True\n",
    "print(a,\" \",b,\"  \", a or b) #linha 3\n",
    "a =  False; b = False\n",
    "print(a,\" \",b,\" \", a or b) #linha 4"
   ]
  },
  {
   "cell_type": "markdown",
   "metadata": {},
   "source": [
    "## Exercício 7"
   ]
  },
  {
   "cell_type": "markdown",
   "metadata": {},
   "source": [
    "As tabelas 5.7 e 5.9 são equivalentes e geram o mesmo resultado."
   ]
  },
  {
   "cell_type": "markdown",
   "metadata": {},
   "source": [
    "## Exercício 8"
   ]
  },
  {
   "cell_type": "code",
   "execution_count": 33,
   "metadata": {},
   "outputs": [
    {
     "name": "stdout",
     "output_type": "stream",
     "text": [
      " a       b     not(a and b)   not a or not b    \n",
      "True    True      False          False\n",
      "True    False     True           True\n",
      "False   True      True           True\n",
      "False   False     True           True\n"
     ]
    }
   ],
   "source": [
    "print(\" a       b     not(a and b)   not a or not b    \") #cabeçalho\n",
    "a =  True;   b= True\n",
    "print(a,\"  \",b,\"    \",    not(a and b),\"        \", not a or not b) #linha 1\n",
    "a = True; b = False\n",
    "print(a,\"  \",b,\"   \", not(a and b),\"         \", not a or not b) #linha 2\n",
    "a =  False; b = True  \n",
    "print(a,\" \",b,\"    \", not(a and b),\"         \", not a or not b) #linha 3\n",
    "a =  False; b = False\n",
    "print(a,\" \",b,\"   \", not(a and b),\"         \", not a or not b) #linha 4"
   ]
  },
  {
   "cell_type": "code",
   "execution_count": 35,
   "metadata": {},
   "outputs": [
    {
     "name": "stdout",
     "output_type": "stream",
     "text": [
      " a       b     not(a or b)   not a and not b    \n",
      "True    True      False           False\n",
      "True    False     False           False\n",
      "False   True      False           False\n",
      "False   False     True            True\n"
     ]
    }
   ],
   "source": [
    "print(\" a       b     not(a or b)   not a and not b    \") #cabeçalho\n",
    "a =  True;   b= True\n",
    "print(a,\"  \",b,\"    \",    not(a or b),\"         \", not a and not b) #linha 1\n",
    "a = True; b = False\n",
    "print(a,\"  \",b,\"   \", not(a or b),\"         \", not a and not b) #linha 2\n",
    "a =  False; b = True  \n",
    "print(a,\" \",b,\"    \", not(a or b),\"         \", not a and not b) #linha 3\n",
    "a =  False; b = False\n",
    "print(a,\" \",b,\"   \", not(a or b),\"          \", not a and not b) #linha 4"
   ]
  },
  {
   "cell_type": "markdown",
   "metadata": {},
   "source": [
    "A equivalência das tabelas mostra a validez do teorema."
   ]
  }
 ],
 "metadata": {
  "kernelspec": {
   "display_name": "Python 3",
   "language": "python",
   "name": "python3"
  },
  "language_info": {
   "codemirror_mode": {
    "name": "ipython",
    "version": 3
   },
   "file_extension": ".py",
   "mimetype": "text/x-python",
   "name": "python",
   "nbconvert_exporter": "python",
   "pygments_lexer": "ipython3",
   "version": "3.7.1"
  }
 },
 "nbformat": 4,
 "nbformat_minor": 2
}
