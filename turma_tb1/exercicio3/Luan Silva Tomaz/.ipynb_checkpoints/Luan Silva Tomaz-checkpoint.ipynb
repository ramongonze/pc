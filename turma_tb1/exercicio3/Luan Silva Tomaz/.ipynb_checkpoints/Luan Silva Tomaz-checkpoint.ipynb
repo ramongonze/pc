{
 "cells": [
  {
   "cell_type": "markdown",
   "metadata": {},
   "source": [
    "# Luan Silva Tomaz"
   ]
  },
  {
   "cell_type": "markdown",
   "metadata": {},
   "source": [
    "# Lista aula 03"
   ]
  },
  {
   "cell_type": "markdown",
   "metadata": {},
   "source": [
    "# Exercício 01\n",
    "## Como expressar as seguintes expressões matemáticas usando apenas >, <, = e operadores lógicos?"
   ]
  },
  {
   "cell_type": "markdown",
   "metadata": {},
   "source": [
    "### 1.1. x ≥ y"
   ]
  },
  {
   "cell_type": "code",
   "execution_count": 46,
   "metadata": {
    "scrolled": true
   },
   "outputs": [
    {
     "ename": "NameError",
     "evalue": "name 'x' is not defined",
     "output_type": "error",
     "traceback": [
      "\u001b[1;31m---------------------------------------------------------------------------\u001b[0m",
      "\u001b[1;31mNameError\u001b[0m                                 Traceback (most recent call last)",
      "\u001b[1;32m<ipython-input-46-fd733073487c>\u001b[0m in \u001b[0;36m<module>\u001b[1;34m\u001b[0m\n\u001b[1;32m----> 1\u001b[1;33m \u001b[0mx\u001b[0m \u001b[1;33m>=\u001b[0m \u001b[0my\u001b[0m\u001b[1;33m\u001b[0m\u001b[1;33m\u001b[0m\u001b[0m\n\u001b[0m",
      "\u001b[1;31mNameError\u001b[0m: name 'x' is not defined"
     ]
    }
   ],
   "source": [
    "x >= y"
   ]
  },
  {
   "cell_type": "markdown",
   "metadata": {},
   "source": [
    "### 1.2. x ≤ y"
   ]
  },
  {
   "cell_type": "code",
   "execution_count": null,
   "metadata": {},
   "outputs": [],
   "source": [
    "x <= y"
   ]
  },
  {
   "cell_type": "markdown",
   "metadata": {},
   "source": [
    "### 1.3. x (diferente de) y"
   ]
  },
  {
   "cell_type": "code",
   "execution_count": 47,
   "metadata": {},
   "outputs": [
    {
     "ename": "NameError",
     "evalue": "name 'x' is not defined",
     "output_type": "error",
     "traceback": [
      "\u001b[1;31m---------------------------------------------------------------------------\u001b[0m",
      "\u001b[1;31mNameError\u001b[0m                                 Traceback (most recent call last)",
      "\u001b[1;32m<ipython-input-47-8b9fd0964c14>\u001b[0m in \u001b[0;36m<module>\u001b[1;34m\u001b[0m\n\u001b[1;32m----> 1\u001b[1;33m \u001b[0mx\u001b[0m \u001b[1;33m!=\u001b[0m \u001b[0my\u001b[0m\u001b[1;33m\u001b[0m\u001b[1;33m\u001b[0m\u001b[0m\n\u001b[0m",
      "\u001b[1;31mNameError\u001b[0m: name 'x' is not defined"
     ]
    }
   ],
   "source": [
    "x != y"
   ]
  },
  {
   "cell_type": "markdown",
   "metadata": {},
   "source": [
    "### 1.4. 0 ≤ x ≤ ∞"
   ]
  },
  {
   "cell_type": "code",
   "execution_count": null,
   "metadata": {},
   "outputs": [],
   "source": [
    "import math\n",
    "\n",
    "Infinito = float('inf')\n",
    "\n",
    "0 <= x <= Infinito"
   ]
  },
  {
   "cell_type": "markdown",
   "metadata": {},
   "source": [
    "### 1.5. x > 0 → y ≥ 0"
   ]
  },
  {
   "cell_type": "code",
   "execution_count": null,
   "metadata": {},
   "outputs": [],
   "source": [
    "not(x > 0) or y >= 0"
   ]
  },
  {
   "cell_type": "markdown",
   "metadata": {},
   "source": [
    "### 1.6. x ≤ 0 ↔ y ≥ 0"
   ]
  },
  {
   "cell_type": "code",
   "execution_count": null,
   "metadata": {},
   "outputs": [],
   "source": [
    "(not(x <= 0) or y >= 0) and (not(y >= 0) or x <= 0)"
   ]
  },
  {
   "cell_type": "markdown",
   "metadata": {},
   "source": [
    "# Exercício 02\n",
    "## Escreva as tabelas de verdade para as expressões acima."
   ]
  },
  {
   "cell_type": "markdown",
   "metadata": {},
   "source": [
    "### 2.1.1. x ≥ y"
   ]
  },
  {
   "cell_type": "code",
   "execution_count": null,
   "metadata": {},
   "outputs": [],
   "source": [
    "  x     y    x >= y\n",
    "  1     2     False  \n",
    "  1    -1     True  \n",
    " -1     1     False  \n",
    " -1    -1     True "
   ]
  },
  {
   "cell_type": "markdown",
   "metadata": {},
   "source": [
    "### 2.1.2. x ≤ y"
   ]
  },
  {
   "cell_type": "code",
   "execution_count": null,
   "metadata": {},
   "outputs": [],
   "source": [
    "  x     y    x >= y\n",
    "  1     2     True  \n",
    "  1    -1     False  \n",
    " -1     1     True  \n",
    " -1    -1     True"
   ]
  },
  {
   "cell_type": "markdown",
   "metadata": {},
   "source": [
    "### 2.1.3. x != y"
   ]
  },
  {
   "cell_type": "code",
   "execution_count": null,
   "metadata": {},
   "outputs": [],
   "source": [
    "  x     y    x != y\n",
    "  1     2     True  \n",
    "  1    -1     True  \n",
    " -1     1     True  \n",
    " -1    -1     False"
   ]
  },
  {
   "cell_type": "markdown",
   "metadata": {},
   "source": [
    "### 2.1.4. 0 ≤ x ≤ ∞"
   ]
  },
  {
   "cell_type": "code",
   "execution_count": null,
   "metadata": {},
   "outputs": [],
   "source": [
    "  x     0 <= x <= Infinito\n",
    "  2         True  \n",
    "  1         True  \n",
    " -1         False  \n",
    " -2         False "
   ]
  },
  {
   "cell_type": "markdown",
   "metadata": {},
   "source": [
    "### 2.1.5. x > 0 → y ≥ 0"
   ]
  },
  {
   "cell_type": "code",
   "execution_count": null,
   "metadata": {},
   "outputs": [],
   "source": [
    "  x     y    not(x > 0) or y >= 0\n",
    "  1     2     True  \n",
    "  1    -1     False  \n",
    " -1     1     True  \n",
    " -1    -1     True "
   ]
  },
  {
   "cell_type": "markdown",
   "metadata": {},
   "source": [
    "### 1.6. x ≤ 0 ↔ y ≥ 0"
   ]
  },
  {
   "cell_type": "code",
   "execution_count": null,
   "metadata": {},
   "outputs": [],
   "source": [
    "  x     y    (not(x <= 0) or y >= 0) and (not(y >= 0) or x <= 0)\n",
    "  1     2          False  \n",
    "  1    -1          True  \n",
    " -1     1          True  \n",
    " -1    -1          False "
   ]
  },
  {
   "cell_type": "markdown",
   "metadata": {},
   "source": [
    "# Exercício 03\n",
    "## Outra operação lógica importante é “OU EXCLUSIVO”,também conhecido como “XOR” (⊗). A ⊗ B só é verdade se A e B NÃO têm o mesmo valor de verdade."
   ]
  },
  {
   "cell_type": "markdown",
   "metadata": {},
   "source": [
    "### 3.1. Escreva a tabela de verdade da operação lógica “XOR”."
   ]
  },
  {
   "cell_type": "code",
   "execution_count": null,
   "metadata": {},
   "outputs": [],
   "source": [
    "    a        b    (not(a) and b) or (a and not(b))\n",
    "  True      True      False  \n",
    "  True      False     True  \n",
    "  False     True      True  \n",
    "  False     False     False  "
   ]
  },
  {
   "cell_type": "markdown",
   "metadata": {},
   "source": [
    "### 3.2. Expresse o “XOR” em termos dos operadores lógicos básicos “E”, “OU” e “NÃO”."
   ]
  },
  {
   "cell_type": "code",
   "execution_count": null,
   "metadata": {},
   "outputs": [],
   "source": [
    "(not(a) and b) or (a and not(b))"
   ]
  },
  {
   "cell_type": "markdown",
   "metadata": {},
   "source": [
    "# Exercício 04\n",
    "## Compare as tabelas de verdade em 3.1 e 3.2 com a tabela de verdade da operação lógica ↔."
   ]
  },
  {
   "cell_type": "markdown",
   "metadata": {},
   "source": [
    "### 4.1 - Tabela de verdade da operação lógica ↔"
   ]
  },
  {
   "cell_type": "code",
   "execution_count": null,
   "metadata": {},
   "outputs": [],
   "source": [
    "    a        b    (not(a) or b) and (not(b) or a)\n",
    "  True      True      True  \n",
    "  True      False     False  \n",
    "  False     True      False  \n",
    "  False     False     True "
   ]
  },
  {
   "cell_type": "markdown",
   "metadata": {},
   "source": [
    "### 4.3.1 - Tabela XOR x Tabela da operação lógica ↔"
   ]
  },
  {
   "cell_type": "markdown",
   "metadata": {},
   "source": [
    "As expressões são bem parecidas, o que difere entre elas é a troca do \"and\" pelo \"or\", e a do \"or\" pelo \"and\", assim, obtendo resultados opostos."
   ]
  },
  {
   "cell_type": "markdown",
   "metadata": {},
   "source": [
    "# Exercício 05\n",
    "## Qual é a expressão equivalente das seguintes expressões:"
   ]
  },
  {
   "cell_type": "markdown",
   "metadata": {},
   "source": [
    "### 5.1. ¬ x ≤ y"
   ]
  },
  {
   "cell_type": "code",
   "execution_count": null,
   "metadata": {},
   "outputs": [],
   "source": [
    "x > y"
   ]
  },
  {
   "cell_type": "markdown",
   "metadata": {},
   "source": [
    "### 5.2. ¬ x > y"
   ]
  },
  {
   "cell_type": "code",
   "execution_count": null,
   "metadata": {},
   "outputs": [],
   "source": [
    "x <= y"
   ]
  },
  {
   "cell_type": "markdown",
   "metadata": {},
   "source": [
    "### 5.3. x ≥ y ∧ x < y"
   ]
  },
  {
   "cell_type": "code",
   "execution_count": 48,
   "metadata": {},
   "outputs": [
    {
     "ename": "NameError",
     "evalue": "name 'x' is not defined",
     "output_type": "error",
     "traceback": [
      "\u001b[1;31m---------------------------------------------------------------------------\u001b[0m",
      "\u001b[1;31mNameError\u001b[0m                                 Traceback (most recent call last)",
      "\u001b[1;32m<ipython-input-48-e52e197f1506>\u001b[0m in \u001b[0;36m<module>\u001b[1;34m\u001b[0m\n\u001b[1;32m----> 1\u001b[1;33m \u001b[0mx\u001b[0m \u001b[1;33m>=\u001b[0m \u001b[0my\u001b[0m \u001b[1;32mand\u001b[0m \u001b[0mx\u001b[0m \u001b[1;33m<\u001b[0m \u001b[0my\u001b[0m\u001b[1;33m\u001b[0m\u001b[1;33m\u001b[0m\u001b[0m\n\u001b[0m",
      "\u001b[1;31mNameError\u001b[0m: name 'x' is not defined"
     ]
    }
   ],
   "source": [
    "x >= y and x < y"
   ]
  },
  {
   "cell_type": "markdown",
   "metadata": {},
   "source": [
    "### 5.4. x ≤ y ∨ x > y"
   ]
  },
  {
   "cell_type": "code",
   "execution_count": null,
   "metadata": {},
   "outputs": [],
   "source": [
    "x <= y or x > y"
   ]
  },
  {
   "cell_type": "markdown",
   "metadata": {},
   "source": [
    "### 5.5. 0 ≤ x ≤ 10"
   ]
  },
  {
   "cell_type": "code",
   "execution_count": null,
   "metadata": {},
   "outputs": [],
   "source": [
    "x >= 0 and x <= 10"
   ]
  },
  {
   "cell_type": "markdown",
   "metadata": {},
   "source": [
    "### 5.6. ¬ (a ∨ ¬ b)"
   ]
  },
  {
   "cell_type": "code",
   "execution_count": null,
   "metadata": {},
   "outputs": [],
   "source": [
    "not(a or not(b))"
   ]
  },
  {
   "cell_type": "markdown",
   "metadata": {},
   "source": [
    "### 5.7. ¬ a → b"
   ]
  },
  {
   "cell_type": "code",
   "execution_count": null,
   "metadata": {},
   "outputs": [],
   "source": [
    "(a or b)"
   ]
  },
  {
   "cell_type": "markdown",
   "metadata": {},
   "source": [
    "### 5.8. ¬( a → b)"
   ]
  },
  {
   "cell_type": "code",
   "execution_count": null,
   "metadata": {},
   "outputs": [],
   "source": [
    "not(not(a) or b)"
   ]
  },
  {
   "cell_type": "markdown",
   "metadata": {},
   "source": [
    "### 5.9. ¬ (¬ a ∧ ¬ b)"
   ]
  },
  {
   "cell_type": "code",
   "execution_count": null,
   "metadata": {},
   "outputs": [],
   "source": [
    "not(not(a) and not(b)"
   ]
  },
  {
   "cell_type": "markdown",
   "metadata": {},
   "source": [
    "# Exercício 06\n",
    "## Faça as tabelas da verdade em Python dos exercícios 5.6, 5.7, 5.8 e 5.9 acima e das suas respostas, para verificar se são idênticas."
   ]
  },
  {
   "cell_type": "markdown",
   "metadata": {},
   "source": [
    "### 6.5.6 - not(a or not(b))"
   ]
  },
  {
   "cell_type": "code",
   "execution_count": 49,
   "metadata": {},
   "outputs": [
    {
     "name": "stdout",
     "output_type": "stream",
     "text": [
      "    a         b    not(a or not(b)  \n",
      "  True      True      False  \n",
      "  True      False     False  \n",
      "  False     True      True  \n",
      "  False     False     False  \n"
     ]
    }
   ],
   "source": [
    "#Cabeçalho\n",
    "print('    a         b    not(a or not(b)  ' )\n",
    "\n",
    "#Resposta_1\n",
    "a = True\n",
    "b = True\n",
    "Resposta_1 = not(a or not(b))\n",
    "print('  {}      {}      {}  '.format(a, b, Resposta_1))\n",
    "\n",
    "#Resposta_2\n",
    "a = True\n",
    "b = False\n",
    "Resposta_2 = not(a or not(b))\n",
    "print('  {}      {}     {}  '.format(a, b, Resposta_2))\n",
    "\n",
    "#Resposta_3\n",
    "a = False\n",
    "b = True\n",
    "Resposta_3 = not(a or not(b))\n",
    "print('  {}     {}      {}  '.format(a, b, Resposta_3))\n",
    "\n",
    "#Resposta_4\n",
    "a = False\n",
    "b = False\n",
    "Resposta_4 = not(a or not(b))\n",
    "print('  {}     {}     {}  '.format(a, b, Resposta_4))"
   ]
  },
  {
   "cell_type": "markdown",
   "metadata": {},
   "source": [
    "### 6.5.7 - (a or b)"
   ]
  },
  {
   "cell_type": "code",
   "execution_count": 50,
   "metadata": {
    "scrolled": true
   },
   "outputs": [
    {
     "name": "stdout",
     "output_type": "stream",
     "text": [
      "    a        b    (a or b)\n",
      "  True      True      True  \n",
      "  True      False     True  \n",
      "  False     True      True  \n",
      "  False     False     False  \n"
     ]
    }
   ],
   "source": [
    "#Cabeçalho\n",
    "print('    a        b    (a or b)')\n",
    "#Resposta_1\n",
    "a = True\n",
    "b = True\n",
    "Resposta_1 = (a or b)\n",
    "print('  {}      {}      {}  '.format(a, b, Resposta_1))\n",
    "\n",
    "#Resposta_2\n",
    "a = True\n",
    "b = False\n",
    "Resposta_2 = (a or b)\n",
    "print('  {}      {}     {}  '.format(a, b, Resposta_2))\n",
    "\n",
    "#Resposta_3\n",
    "a = False\n",
    "b = True\n",
    "Resposta_3 = (a or b)\n",
    "print('  {}     {}      {}  '.format(a, b, Resposta_3))\n",
    "\n",
    "#Resposta_4\n",
    "a = False\n",
    "b = False\n",
    "Resposta_4 = (a or b)\n",
    "print('  {}     {}     {}  '.format(a, b, Resposta_4))"
   ]
  },
  {
   "cell_type": "markdown",
   "metadata": {},
   "source": [
    "### 6.5.8 - not(not(a) or b)"
   ]
  },
  {
   "cell_type": "code",
   "execution_count": 51,
   "metadata": {},
   "outputs": [
    {
     "name": "stdout",
     "output_type": "stream",
     "text": [
      "    a        b     not(not(a) or b)\n",
      "  True      True      False  \n",
      "  True      False     True  \n",
      "  False     True      False  \n",
      "  False     False     False  \n"
     ]
    }
   ],
   "source": [
    "#Cabeçalho\n",
    "print('    a        b     not(not(a) or b)')\n",
    "#Resposta_1\n",
    "a = True\n",
    "b = True\n",
    "Resposta_1 = not(not(a) or b)\n",
    "print('  {}      {}      {}  '.format(a, b, Resposta_1))\n",
    "\n",
    "#Resposta_2\n",
    "a = True\n",
    "b = False\n",
    "Resposta_2 = not(not(a) or b)\n",
    "print('  {}      {}     {}  '.format(a, b, Resposta_2))\n",
    "\n",
    "#Resposta_3\n",
    "a = False\n",
    "b = True\n",
    "Resposta_3 = not(not(a) or b)\n",
    "print('  {}     {}      {}  '.format(a, b, Resposta_3))\n",
    "\n",
    "#Resposta_4\n",
    "a = False\n",
    "b = False\n",
    "Resposta_4 = not(not(a) or b)\n",
    "print('  {}     {}     {}  '.format(a, b, Resposta_4))"
   ]
  },
  {
   "cell_type": "markdown",
   "metadata": {},
   "source": [
    "### 6.5.9 - not(not(a) and not(b))"
   ]
  },
  {
   "cell_type": "code",
   "execution_count": 1,
   "metadata": {},
   "outputs": [
    {
     "name": "stdout",
     "output_type": "stream",
     "text": [
      "    a        b    not(not(a) and not(b))\n",
      "  True      True      True  \n",
      "  True      False     True  \n",
      "  False     True      True  \n",
      "  False     False     False  \n"
     ]
    }
   ],
   "source": [
    "#Cabeçalho\n",
    "print('    a        b    not(not(a) and not(b))')\n",
    "#Resposta_1\n",
    "a = True\n",
    "b = True\n",
    "Resposta_1 = not(not(a) and not(b))\n",
    "print('  {}      {}      {}  '.format(a, b, Resposta_1))\n",
    "\n",
    "#Resposta_2\n",
    "a = True\n",
    "b = False\n",
    "Resposta_2 = not(not(a) and not(b))\n",
    "print('  {}      {}     {}  '.format(a, b, Resposta_2))\n",
    "\n",
    "#Resposta_3\n",
    "a = False\n",
    "b = True\n",
    "Resposta_3 = not(not(a) and not(b))\n",
    "print('  {}     {}      {}  '.format(a, b, Resposta_3))\n",
    "\n",
    "#Resposta_4\n",
    "a = False\n",
    "b = False\n",
    "Resposta_4 = not(not(a) and not(b))\n",
    "print('  {}     {}     {}  '.format(a, b, Resposta_4))"
   ]
  },
  {
   "cell_type": "markdown",
   "metadata": {},
   "source": [
    "# Exercício 07\n",
    "## Quais das expressões dos exercícios 5.6, 5.7, 5.8 e 5.9 acima são equivalentes entre si?\n"
   ]
  },
  {
   "cell_type": "markdown",
   "metadata": {},
   "source": [
    "6.5.7 - (a or b) é equivalente a 6.5.9 - not(not(a) and not(b)), pois com a mesma entrada, obtiveram saídas diferente.\n"
   ]
  },
  {
   "cell_type": "markdown",
   "metadata": {},
   "source": [
    "# Exercício 08\n",
    "## Faça as tabelas de verdade do Teorema de De Morgan em Python e verifique se o Teorema é válido."
   ]
  },
  {
   "cell_type": "markdown",
   "metadata": {},
   "source": [
    "## 8.1 - ¬ (A ∧ B) ↔ (¬ A ∨ ¬ B)"
   ]
  },
  {
   "cell_type": "markdown",
   "metadata": {},
   "source": [
    "### 8.1.1 -  ¬ (A ∧ B)"
   ]
  },
  {
   "cell_type": "code",
   "execution_count": null,
   "metadata": {},
   "outputs": [],
   "source": [
    "    a        b    not(a and b)\n",
    "  True      True      False  \n",
    "  True      False     True  \n",
    "  False     True      True  \n",
    "  False     False     True "
   ]
  },
  {
   "cell_type": "markdown",
   "metadata": {},
   "source": [
    "### 8.1.2 - (¬ A ∨ ¬ B)"
   ]
  },
  {
   "cell_type": "code",
   "execution_count": 53,
   "metadata": {},
   "outputs": [
    {
     "ename": "SyntaxError",
     "evalue": "invalid syntax (<ipython-input-53-d2ea0ed311d2>, line 1)",
     "output_type": "error",
     "traceback": [
      "\u001b[1;36m  File \u001b[1;32m\"<ipython-input-53-d2ea0ed311d2>\"\u001b[1;36m, line \u001b[1;32m1\u001b[0m\n\u001b[1;33m    a        b    not(a) or not(b)\u001b[0m\n\u001b[1;37m             ^\u001b[0m\n\u001b[1;31mSyntaxError\u001b[0m\u001b[1;31m:\u001b[0m invalid syntax\n"
     ]
    }
   ],
   "source": [
    "    a        b    not(a) or not(b)\n",
    "  True      True      False  \n",
    "  True      False     True  \n",
    "  False     True      True  \n",
    "  False     False     True "
   ]
  },
  {
   "cell_type": "markdown",
   "metadata": {},
   "source": [
    "## 8.2 - ¬ (A ∨ B) ↔ (¬ A ∧ ¬ B)"
   ]
  },
  {
   "cell_type": "markdown",
   "metadata": {},
   "source": [
    "### 8.2.1 - ¬ (A ∨ B)"
   ]
  },
  {
   "cell_type": "code",
   "execution_count": null,
   "metadata": {},
   "outputs": [],
   "source": [
    "    a        b    not(a or b)\n",
    "  True      True      False  \n",
    "  True      False     False  \n",
    "  False     True      False  \n",
    "  False     False     True"
   ]
  },
  {
   "cell_type": "markdown",
   "metadata": {},
   "source": [
    "### 8.2.2 - (¬ A ∧ ¬ B)"
   ]
  },
  {
   "cell_type": "code",
   "execution_count": 56,
   "metadata": {},
   "outputs": [
    {
     "ename": "SyntaxError",
     "evalue": "invalid syntax (<ipython-input-56-feb66f2a68e4>, line 1)",
     "output_type": "error",
     "traceback": [
      "\u001b[1;36m  File \u001b[1;32m\"<ipython-input-56-feb66f2a68e4>\"\u001b[1;36m, line \u001b[1;32m1\u001b[0m\n\u001b[1;33m    a        b    not(a) and not(b)\u001b[0m\n\u001b[1;37m             ^\u001b[0m\n\u001b[1;31mSyntaxError\u001b[0m\u001b[1;31m:\u001b[0m invalid syntax\n"
     ]
    }
   ],
   "source": [
    "    a        b    not(a) and not(b)\n",
    "  True      True      False  \n",
    "  True      False     False  \n",
    "  False     True      False  \n",
    "  False     False     True"
   ]
  },
  {
   "cell_type": "markdown",
   "metadata": {},
   "source": [
    "## 8.3 - É válido?"
   ]
  },
  {
   "cell_type": "markdown",
   "metadata": {},
   "source": [
    "Conforme os resultados apresentados nos itens 8.1 e 8.2, chego a conclusão que o Teorema é sim valido, pois satisfazem a expressão apresentada."
   ]
  }
 ],
 "metadata": {
  "kernelspec": {
   "display_name": "Python 3",
   "language": "python",
   "name": "python3"
  },
  "language_info": {
   "codemirror_mode": {
    "name": "ipython",
    "version": 3
   },
   "file_extension": ".py",
   "mimetype": "text/x-python",
   "name": "python",
   "nbconvert_exporter": "python",
   "pygments_lexer": "ipython3",
   "version": "3.7.1"
  }
 },
 "nbformat": 4,
 "nbformat_minor": 2
}
