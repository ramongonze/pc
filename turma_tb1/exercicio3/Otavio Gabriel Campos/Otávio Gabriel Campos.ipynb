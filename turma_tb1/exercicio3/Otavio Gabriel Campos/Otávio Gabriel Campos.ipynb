{
 "cells": [
  {
   "cell_type": "markdown",
   "metadata": {},
   "source": [
    "Exercício 1"
   ]
  },
  {
   "cell_type": "markdown",
   "metadata": {},
   "source": [
    "(1.1)\n",
    "x > y v x = y\n",
    "\n",
    "(1.2)\n",
    "x < y v x = y\n",
    "\n",
    "(1.3)\n",
    "¬x = y\n",
    "\n",
    "(1.4)\n",
    "(x > 0 v x = 0) /\\ (x < ∞ v x = ∞)\n",
    "\n",
    "(1.5)\n",
    "¬(x > 0) v (y > 0 v y = 0)\n",
    "\n",
    "(1.6)\n",
    "{¬(x < 0 v x = 0) v (y > 0 v y = 0)} /\\ {¬(y > 0 v y = 0) v (x < 0 v x = 0)}"
   ]
  },
  {
   "cell_type": "markdown",
   "metadata": {},
   "source": [
    "Exercício 2 - (1.1)"
   ]
  },
  {
   "cell_type": "code",
   "execution_count": 49,
   "metadata": {},
   "outputs": [
    {
     "name": "stdout",
     "output_type": "stream",
     "text": [
      "a   b   a >= b \n",
      "1   6   False\n",
      "6   6   True\n",
      "1   1   True\n",
      "6   1   True\n"
     ]
    }
   ],
   "source": [
    "print(\"a   b   a >= b \")\n",
    "a = 1 ; b = 6\n",
    "print(a,\" \",b,\" \", a == b or a > b)\n",
    "a = 6 ; b = 6\n",
    "print(a,\" \",b,\" \", a == b or a > b)\n",
    "a = 1 ; b = 1\n",
    "print(a,\" \",b,\" \", a == b or a > b)\n",
    "a = 6 ; b = 1\n",
    "print(a,\" \",b,\" \", a == b or a > b)"
   ]
  },
  {
   "cell_type": "markdown",
   "metadata": {},
   "source": [
    "Exercício 2 - (1.2)"
   ]
  },
  {
   "cell_type": "code",
   "execution_count": 50,
   "metadata": {},
   "outputs": [
    {
     "name": "stdout",
     "output_type": "stream",
     "text": [
      "a   b   a <= b \n",
      "1   6   True\n",
      "6   6   True\n",
      "1   1   True\n",
      "6   1   False\n"
     ]
    }
   ],
   "source": [
    "print(\"a   b   a <= b \")\n",
    "a = 1 ; b = 6\n",
    "print(a,\" \",b,\" \", a == b or a < b)\n",
    "a = 6 ; b = 6\n",
    "print(a,\" \",b,\" \", a == b or a < b)\n",
    "a = 1 ; b = 1\n",
    "print(a,\" \",b,\" \", a == b or a < b)\n",
    "a = 6 ; b = 1\n",
    "print(a,\" \",b,\" \", a == b or a < b)"
   ]
  },
  {
   "cell_type": "markdown",
   "metadata": {},
   "source": [
    "Exercício 2 - (1.3)"
   ]
  },
  {
   "cell_type": "code",
   "execution_count": 51,
   "metadata": {
    "scrolled": false
   },
   "outputs": [
    {
     "name": "stdout",
     "output_type": "stream",
     "text": [
      "a   b   a != b \n",
      "1   6   True\n",
      "6   6   False\n",
      "1   1   False\n",
      "6   1   True\n"
     ]
    }
   ],
   "source": [
    "print(\"a   b   a != b \")\n",
    "a = 1 ; b = 6\n",
    "print(a,\" \",b,\" \", not a == b)\n",
    "a = 6 ; b = 6\n",
    "print(a,\" \",b,\" \", not a == b)\n",
    "a = 1 ; b = 1\n",
    "print(a,\" \",b,\" \", not a == b)\n",
    "a = 6 ; b = 1\n",
    "print(a,\" \",b,\" \", not a == b)"
   ]
  },
  {
   "cell_type": "markdown",
   "metadata": {},
   "source": [
    "Exercício 2 - (1.4)"
   ]
  },
  {
   "cell_type": "code",
   "execution_count": 189,
   "metadata": {},
   "outputs": [
    {
     "name": "stdout",
     "output_type": "stream",
     "text": [
      "a \n",
      "1   True\n",
      "-6   False\n",
      "99999999   True\n"
     ]
    }
   ],
   "source": [
    "print(\"a \")\n",
    "a = 1 \n",
    "print(a,\" \", a == 0 or a > 0) and (a,\" \", a == inf or a < inf)\n",
    "a = -6\n",
    "print(a,\" \", a == 0 or a > 0) and (a,\" \", a == inf or a < inf)\n",
    "a = 99999999\n",
    "print(a,\" \", a == 0 or a > 0) and (a,\" \", a == inf or a < inf)"
   ]
  },
  {
   "cell_type": "markdown",
   "metadata": {},
   "source": [
    "Exercício 2 - (1.5)"
   ]
  },
  {
   "cell_type": "code",
   "execution_count": 145,
   "metadata": {},
   "outputs": [
    {
     "name": "stdout",
     "output_type": "stream",
     "text": [
      "a   b   a -> b \n",
      "0   0   [True]\n",
      "0   1   [True]\n",
      "1   0   [False]\n",
      "1   1   [True]\n"
     ]
    }
   ],
   "source": [
    "print(\"a   b   a -> b \")\n",
    "a = 0 ; b = 0\n",
    "print(a,\" \",b,\" \", [not a > 0] or [b >= 0])\n",
    "a = 0 ; b = 1\n",
    "print(a,\" \",b,\" \", [not a > 0] or [b >= 0])\n",
    "a = 1 ; b = 0\n",
    "print(a,\" \",b,\" \", [not a > 0] or [b >= 0])\n",
    "a = 1 ; b = 1\n",
    "print(a,\" \",b,\" \", (not a > 0) or [b >= 0])"
   ]
  },
  {
   "cell_type": "markdown",
   "metadata": {},
   "source": [
    "Exercício 2 - (1.6)"
   ]
  },
  {
   "cell_type": "code",
   "execution_count": 90,
   "metadata": {},
   "outputs": [
    {
     "name": "stdout",
     "output_type": "stream",
     "text": [
      "a   b   a <-> b \n",
      "-1   6   [True]\n",
      "1   6   [False]\n",
      "1   1   [False]\n",
      "-2   1   [True]\n"
     ]
    }
   ],
   "source": [
    "print(\"a   b   a <-> b \")\n",
    "a = -1 ; b = 6\n",
    "print(a,\" \",b,\" \", [not a <= 0 or b >= 0] and [not b >= 0 or a <= 0])\n",
    "a = 1 ; b = 6\n",
    "print(a,\" \",b,\" \", [not a <= 0 or b >= 0] and [not b >= 0 or a <= 0])\n",
    "a = 1 ; b = 1\n",
    "print(a,\" \",b,\" \", [not a <= 0 or b >= 0] and [not b >= 0 or a <= 0])\n",
    "a = -2 ; b = 1\n",
    "print(a,\" \",b,\" \", [not a <= 0 or b >= 0] and [not b >= 0 or a <= 0])"
   ]
  },
  {
   "cell_type": "markdown",
   "metadata": {},
   "source": [
    "Exercício 3 - (3.1) Explicação: Coloquei o bool porque estava aparecendo números."
   ]
  },
  {
   "cell_type": "code",
   "execution_count": 185,
   "metadata": {},
   "outputs": [
    {
     "name": "stdout",
     "output_type": "stream",
     "text": [
      "a   b   a XOR b \n",
      "0   0   False\n",
      "0   1   True\n",
      "1   0   True\n",
      "1   1   False\n"
     ]
    }
   ],
   "source": [
    "print(\"a   b   a XOR b \")\n",
    "a = 0 ; b = 0\n",
    "print(a,\" \",b,\" \", bool (a and (not b) or ((not a) and b)))\n",
    "a = 0 ; b = 1\n",
    "print(a,\" \",b,\" \", bool (a and (not b) or ((not a) and b)))\n",
    "a = 1 ; b = 0\n",
    "print(a,\" \",b,\" \", a and (not b) or ((not a) and b))\n",
    "a = 1 ; b = 1\n",
    "print(a,\" \",b,\" \", a and (not b) or ((not a) and b))"
   ]
  },
  {
   "cell_type": "markdown",
   "metadata": {},
   "source": [
    "Exercício 3 - (3.2)"
   ]
  },
  {
   "cell_type": "markdown",
   "metadata": {},
   "source": [
    "XOR = {a E (NÃO b)} OR {(NÃO a) E b}"
   ]
  },
  {
   "cell_type": "markdown",
   "metadata": {},
   "source": [
    "Exercício 4"
   ]
  },
  {
   "cell_type": "markdown",
   "metadata": {},
   "source": [
    "Comparando a tabela verdade do 3.1 (XOR) com a tabela verdade da operação lógica <->, vejo que elas são opostas. Visto que a operação do XOR pode ser escrita como: {A and (not B)} or {(not A) and B}, já a operação lógica <-> é escrita da seguinte forma: {(not A) or B} and {(not B) or A}, o que mostra além da tabela verdade que elas são completamente opostas."
   ]
  },
  {
   "cell_type": "markdown",
   "metadata": {},
   "source": [
    "Exercício 5"
   ]
  },
  {
   "cell_type": "markdown",
   "metadata": {},
   "source": [
    "(5.1)\n",
    "x > y\n",
    "\n",
    "(5.2)\n",
    "x <= y\n",
    "\n",
    "(5.3)\n",
    "Não existe\n",
    "\n",
    "(5.4)\n",
    "Não existe\n",
    "\n",
    "(5.5)\n",
    "x >= 0 /\\ x =< 10\n",
    "\n",
    "(5.6)\n",
    "¬A /\\ B\n",
    "\n",
    "(5.7)\n",
    "A v B\n",
    "\n",
    "(5.8)\n",
    "A /\\ ¬B\n",
    "\n",
    "(5.9)\n",
    "A v B"
   ]
  },
  {
   "cell_type": "markdown",
   "metadata": {},
   "source": [
    "Exercício 6 - (5.6)  Explicação: ¬(A v ¬B) = ¬A /\\ B\n",
    "                     Explicação: Coloquei o bool porque estava aparecendo números."
   ]
  },
  {
   "cell_type": "code",
   "execution_count": 184,
   "metadata": {},
   "outputs": [
    {
     "name": "stdout",
     "output_type": "stream",
     "text": [
      "a   b   ¬a E b \n",
      "0   0   False\n",
      "0   1   True\n",
      "1   0   False\n",
      "1   1   False\n"
     ]
    }
   ],
   "source": [
    "print(\"a   b   ¬a E b \")\n",
    "a = 0 ; b = 0\n",
    "print(a,\" \",b,\" \", bool ((not a) and b))\n",
    "a = 0 ; b = 1\n",
    "print(a,\" \",b,\" \", bool ((not a) and b))\n",
    "a = 1 ; b = 0\n",
    "print(a,\" \",b,\" \", (not a) and b)\n",
    "a = 1 ; b = 1\n",
    "print(a,\" \",b,\" \", (not a) and b)"
   ]
  },
  {
   "cell_type": "markdown",
   "metadata": {},
   "source": [
    "Exercício 6 - (5.7)  Explicação: ¬A -> B = ¬(¬A) v B = A v B\n",
    "                     Explicação: Coloquei o bool porque estava aparecendo números."
   ]
  },
  {
   "cell_type": "code",
   "execution_count": 186,
   "metadata": {},
   "outputs": [
    {
     "name": "stdout",
     "output_type": "stream",
     "text": [
      "a   b   a OU b \n",
      "0   0   False\n",
      "0   1   True\n",
      "1   0   True\n",
      "1   1   True\n"
     ]
    }
   ],
   "source": [
    "print(\"a   b   a OU b \")\n",
    "a = 0 ; b = 0\n",
    "print(a,\" \",b,\" \", bool (a or b))\n",
    "a = 0 ; b = 1\n",
    "print(a,\" \",b,\" \", bool (a or b))\n",
    "a = 1 ; b = 0\n",
    "print(a,\" \",b,\" \", bool (a or b))\n",
    "a = 1 ; b = 1\n",
    "print(a,\" \",b,\" \", bool (a or b))"
   ]
  },
  {
   "cell_type": "markdown",
   "metadata": {},
   "source": [
    "Exercício 6 - (5.8)  Explicação: ¬(A -> B) = ¬{(¬A) v B} = A /\\ ¬B\n",
    "                     Explicação: Coloquei o bool porque estava aparecendo números."
   ]
  },
  {
   "cell_type": "code",
   "execution_count": 183,
   "metadata": {},
   "outputs": [
    {
     "name": "stdout",
     "output_type": "stream",
     "text": [
      "a   b   a E ¬b \n",
      "0   0   False\n",
      "0   1   False\n",
      "1   0   True\n",
      "1   1   False\n"
     ]
    }
   ],
   "source": [
    "print(\"a   b   a E ¬b \")\n",
    "a = 0 ; b = 0\n",
    "print(a,\" \",b,\" \", bool (a and not b))\n",
    "a = 0 ; b = 1\n",
    "print(a,\" \",b,\" \", bool (a and not b))\n",
    "a = 1 ; b = 0\n",
    "print(a,\" \",b,\" \", a and not b)\n",
    "a = 1 ; b = 1\n",
    "print(a,\" \",b,\" \", a and not b)"
   ]
  },
  {
   "cell_type": "markdown",
   "metadata": {},
   "source": [
    "Exercício 6 - (5.9)  Explicação: ¬(¬A /\\ ¬B) = A v B"
   ]
  },
  {
   "cell_type": "code",
   "execution_count": 168,
   "metadata": {},
   "outputs": [
    {
     "name": "stdout",
     "output_type": "stream",
     "text": [
      "a   b   a OU b \n",
      "0   0   0\n",
      "0   1   1\n",
      "1   0   1\n",
      "1   1   1\n"
     ]
    }
   ],
   "source": [
    "print(\"a   b   a OU b \")\n",
    "a = 0 ; b = 0\n",
    "print(a,\" \",b,\" \", a or b)\n",
    "a = 0 ; b = 1\n",
    "print(a,\" \",b,\" \", a or b)\n",
    "a = 1 ; b = 0\n",
    "print(a,\" \",b,\" \", a or b)\n",
    "a = 1 ; b = 1\n",
    "print(a,\" \",b,\" \", a or b)"
   ]
  },
  {
   "cell_type": "code",
   "execution_count": null,
   "metadata": {
    "collapsed": true
   },
   "outputs": [],
   "source": [
    "Exercício 7"
   ]
  },
  {
   "cell_type": "markdown",
   "metadata": {},
   "source": [
    "Dos acima, o 5.9 e o 5.7 são equivalentes, visto que na resolução final, eles deram a mesma operação (A v B) e a mesma tabela verdade."
   ]
  },
  {
   "cell_type": "markdown",
   "metadata": {},
   "source": [
    "Exercício 8"
   ]
  },
  {
   "cell_type": "code",
   "execution_count": 174,
   "metadata": {},
   "outputs": [
    {
     "name": "stdout",
     "output_type": "stream",
     "text": [
      "a   b   ¬(a E b) \n",
      "0   0   True\n",
      "0   1   True\n",
      "1   0   True\n",
      "1   1   False\n"
     ]
    }
   ],
   "source": [
    "print(\"a   b   ¬(a E b) \")\n",
    "a = 0 ; b = 0\n",
    "print(a,\" \",b,\" \", not (a and b))\n",
    "a = 0 ; b = 1\n",
    "print(a,\" \",b,\" \", not (a and b))\n",
    "a = 1 ; b = 0\n",
    "print(a,\" \",b,\" \", not (a and b))\n",
    "a = 1 ; b = 1\n",
    "print(a,\" \",b,\" \", not (a and b))"
   ]
  },
  {
   "cell_type": "code",
   "execution_count": 175,
   "metadata": {},
   "outputs": [
    {
     "name": "stdout",
     "output_type": "stream",
     "text": [
      "a   b   (¬a OU ¬b) \n",
      "0   0   True\n",
      "0   1   True\n",
      "1   0   True\n",
      "1   1   False\n"
     ]
    }
   ],
   "source": [
    "print(\"a   b   (¬a OU ¬b) \")\n",
    "a = 0 ; b = 0\n",
    "print(a,\" \",b,\" \", (not a) or (not b))\n",
    "a = 0 ; b = 1\n",
    "print(a,\" \",b,\" \", (not a) or (not b))\n",
    "a = 1 ; b = 0\n",
    "print(a,\" \",b,\" \", (not a) or (not b))\n",
    "a = 1 ; b = 1\n",
    "print(a,\" \",b,\" \", (not a) or (not b))"
   ]
  },
  {
   "cell_type": "markdown",
   "metadata": {},
   "source": [
    "Com isso mostra-se que ¬(a E b) <-> (¬a OU ¬b), visto que eles tem a mesma tabela verdade."
   ]
  },
  {
   "cell_type": "code",
   "execution_count": 176,
   "metadata": {},
   "outputs": [
    {
     "name": "stdout",
     "output_type": "stream",
     "text": [
      "a   b   ¬(a OU b) \n",
      "0   0   True\n",
      "0   1   False\n",
      "1   0   False\n",
      "1   1   False\n"
     ]
    }
   ],
   "source": [
    "print(\"a   b   ¬(a OU b) \")\n",
    "a = 0 ; b = 0\n",
    "print(a,\" \",b,\" \", not (a or b))\n",
    "a = 0 ; b = 1\n",
    "print(a,\" \",b,\" \", not (a or b))\n",
    "a = 1 ; b = 0\n",
    "print(a,\" \",b,\" \", not (a or b))\n",
    "a = 1 ; b = 1\n",
    "print(a,\" \",b,\" \", not (a or b))"
   ]
  },
  {
   "cell_type": "code",
   "execution_count": 177,
   "metadata": {},
   "outputs": [
    {
     "name": "stdout",
     "output_type": "stream",
     "text": [
      "a   b   (¬a E ¬b) \n",
      "0   0   True\n",
      "0   1   False\n",
      "1   0   False\n",
      "1   1   False\n"
     ]
    }
   ],
   "source": [
    "print(\"a   b   (¬a E ¬b) \")\n",
    "a = 0 ; b = 0\n",
    "print(a,\" \",b,\" \", (not a) and (not b))\n",
    "a = 0 ; b = 1\n",
    "print(a,\" \",b,\" \", (not a) and (not b))\n",
    "a = 1 ; b = 0\n",
    "print(a,\" \",b,\" \", (not a) and (not b))\n",
    "a = 1 ; b = 1\n",
    "print(a,\" \",b,\" \", (not a) and (not b))"
   ]
  },
  {
   "cell_type": "markdown",
   "metadata": {},
   "source": [
    "Com isso mostra-se que ¬(a OU b) <-> (¬a E ¬b), visto que eles tem a mesma tabela verdade."
   ]
  }
 ],
 "metadata": {
  "kernelspec": {
   "display_name": "Python 2",
   "language": "python",
   "name": "python2"
  },
  "language_info": {
   "codemirror_mode": {
    "name": "ipython",
    "version": 2
   },
   "file_extension": ".py",
   "mimetype": "text/x-python",
   "name": "python",
   "nbconvert_exporter": "python",
   "pygments_lexer": "ipython2",
   "version": "2.7.13"
  }
 },
 "nbformat": 4,
 "nbformat_minor": 2
}
