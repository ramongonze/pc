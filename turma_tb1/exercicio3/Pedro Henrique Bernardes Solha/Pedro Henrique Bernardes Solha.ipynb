{
 "cells": [
  {
   "cell_type": "code",
   "execution_count": 5,
   "metadata": {
    "collapsed": true
   },
   "outputs": [
    {
     "ename": "SyntaxError",
     "evalue": "can't assign to operator (<ipython-input-5-2ea5374e6395>, line 1)",
     "output_type": "error",
     "traceback": [
      "\u001b[1;36m  File \u001b[1;32m\"<ipython-input-5-2ea5374e6395>\"\u001b[1;36m, line \u001b[1;32m1\u001b[0m\n\u001b[1;33m    x > y and x = y\u001b[0m\n\u001b[1;37m                   ^\u001b[0m\n\u001b[1;31mSyntaxError\u001b[0m\u001b[1;31m:\u001b[0m can't assign to operator\n"
     ]
    }
   ],
   "source": [
    "#1.1\n",
    "x > y and x = y"
   ]
  },
  {
   "cell_type": "code",
   "execution_count": 6,
   "metadata": {
    "collapsed": true
   },
   "outputs": [
    {
     "ename": "SyntaxError",
     "evalue": "can't assign to operator (<ipython-input-6-268faa083bb7>, line 1)",
     "output_type": "error",
     "traceback": [
      "\u001b[1;36m  File \u001b[1;32m\"<ipython-input-6-268faa083bb7>\"\u001b[1;36m, line \u001b[1;32m1\u001b[0m\n\u001b[1;33m    x < y and x = y\u001b[0m\n\u001b[1;37m                   ^\u001b[0m\n\u001b[1;31mSyntaxError\u001b[0m\u001b[1;31m:\u001b[0m can't assign to operator\n"
     ]
    }
   ],
   "source": [
    "#1.2\n",
    "x < y and x = y"
   ]
  },
  {
   "cell_type": "code",
   "execution_count": 7,
   "metadata": {
    "collapsed": true
   },
   "outputs": [
    {
     "ename": "NameError",
     "evalue": "name 'x' is not defined",
     "output_type": "error",
     "traceback": [
      "\u001b[1;31m---------------------------------------------------------------------------\u001b[0m",
      "\u001b[1;31mNameError\u001b[0m                                 Traceback (most recent call last)",
      "\u001b[1;32m<ipython-input-7-dc2319d9cc04>\u001b[0m in \u001b[0;36m<module>\u001b[1;34m\u001b[0m\n\u001b[1;32m----> 1\u001b[1;33m \u001b[0mx\u001b[0m \u001b[1;33m>\u001b[0m \u001b[0my\u001b[0m \u001b[1;32mand\u001b[0m \u001b[0mx\u001b[0m \u001b[1;33m<\u001b[0m \u001b[0my\u001b[0m\u001b[1;33m\u001b[0m\u001b[1;33m\u001b[0m\u001b[0m\n\u001b[0m",
      "\u001b[1;31mNameError\u001b[0m: name 'x' is not defined"
     ]
    }
   ],
   "source": [
    "#1.3\n",
    "x > y and x < y"
   ]
  },
  {
   "cell_type": "code",
   "execution_count": 8,
   "metadata": {
    "collapsed": true
   },
   "outputs": [
    {
     "ename": "SyntaxError",
     "evalue": "can't assign to operator (<ipython-input-8-710c32ec016d>, line 1)",
     "output_type": "error",
     "traceback": [
      "\u001b[1;36m  File \u001b[1;32m\"<ipython-input-8-710c32ec016d>\"\u001b[1;36m, line \u001b[1;32m1\u001b[0m\n\u001b[1;33m    0 < x or 0 = x and x < float(inf) or x = float(inf)\u001b[0m\n\u001b[1;37m                                                       ^\u001b[0m\n\u001b[1;31mSyntaxError\u001b[0m\u001b[1;31m:\u001b[0m can't assign to operator\n"
     ]
    }
   ],
   "source": [
    "#1.4\n",
    "0 < x or 0 = x and x < float(inf) or x = float(inf)"
   ]
  },
  {
   "cell_type": "code",
   "execution_count": 9,
   "metadata": {
    "collapsed": true
   },
   "outputs": [
    {
     "ename": "SyntaxError",
     "evalue": "invalid syntax (<ipython-input-9-162018143f06>, line 1)",
     "output_type": "error",
     "traceback": [
      "\u001b[1;36m  File \u001b[1;32m\"<ipython-input-9-162018143f06>\"\u001b[1;36m, line \u001b[1;32m1\u001b[0m\n\u001b[1;33m    if x > 0\u001b[0m\n\u001b[1;37m             ^\u001b[0m\n\u001b[1;31mSyntaxError\u001b[0m\u001b[1;31m:\u001b[0m invalid syntax\n"
     ]
    }
   ],
   "source": [
    "#1.5\n",
    "if x > 0 \n",
    " else y >= 0"
   ]
  },
  {
   "cell_type": "code",
   "execution_count": 10,
   "metadata": {
    "collapsed": true
   },
   "outputs": [
    {
     "ename": "SyntaxError",
     "evalue": "invalid syntax (<ipython-input-10-648a3099d7be>, line 1)",
     "output_type": "error",
     "traceback": [
      "\u001b[1;36m  File \u001b[1;32m\"<ipython-input-10-648a3099d7be>\"\u001b[1;36m, line \u001b[1;32m1\u001b[0m\n\u001b[1;33m    elif x <= 0\u001b[0m\n\u001b[1;37m       ^\u001b[0m\n\u001b[1;31mSyntaxError\u001b[0m\u001b[1;31m:\u001b[0m invalid syntax\n"
     ]
    }
   ],
   "source": [
    "#1.6\n",
    "elif x <= 0 \n",
    " elif x >= 0"
   ]
  },
  {
   "cell_type": "code",
   "execution_count": 27,
   "metadata": {},
   "outputs": [
    {
     "name": "stdout",
     "output_type": "stream",
     "text": [
      "E J E >= J\n",
      "-77  77  True\n",
      "99  -76  False\n",
      "7  7  True\n"
     ]
    }
   ],
   "source": [
    "#2.1\n",
    "print(\"E J E >= J\") #cabeçalho\n",
    "E = 77; J = -77\n",
    "print(J,\"\",E,\"\", E >= J) #linha1\n",
    "E = -76; J = 99\n",
    "print(J,\"\",E,\"\", E >= J) #linha2\n",
    "E = 7; J= 7\n",
    "print(J,\"\",E,\"\", E >= J) #linha3"
   ]
  },
  {
   "cell_type": "code",
   "execution_count": 28,
   "metadata": {},
   "outputs": [
    {
     "name": "stdout",
     "output_type": "stream",
     "text": [
      "E J E <= J\n",
      "-77  77  False\n",
      "99  -76  True\n",
      "7  7  True\n"
     ]
    }
   ],
   "source": [
    "#2.2\n",
    "print(\"E J E <= J\") #cabeçalho\n",
    "E = 77; J = -77\n",
    "print(J,\"\",E,\"\", E <= J) #linha1\n",
    "E = -76; J = 99\n",
    "print(J,\"\",E,\"\", E <= J) #linha2\n",
    "E = 7; J= 7\n",
    "print(J,\"\",E,\"\", E <= J) #linha3"
   ]
  },
  {
   "cell_type": "code",
   "execution_count": 30,
   "metadata": {},
   "outputs": [
    {
     "name": "stdout",
     "output_type": "stream",
     "text": [
      "E J E != J\n",
      "-37  27  True\n",
      "2001  2001  False\n"
     ]
    }
   ],
   "source": [
    "#2.3\n",
    "print(\"E J E != J\") #cabeçalho\n",
    "E = 27; J = -37\n",
    "print(J,\"\",E,\"\", E != J)#linha1\n",
    "E = 2001; J = 2001\n",
    "print(J,\"\",E,\"\", E != J) #linha2"
   ]
  },
  {
   "cell_type": "code",
   "execution_count": 24,
   "metadata": {},
   "outputs": [
    {
     "name": "stdout",
     "output_type": "stream",
     "text": [
      "E J 0<= E <= inf\n",
      "77  -9  True\n",
      "-67  78  False\n",
      "0  90  True\n"
     ]
    }
   ],
   "source": [
    "#2.4 \n",
    "print(\"E J 0<= E <= inf\") #cabeçalho\n",
    "E= 77; J= -9\n",
    "print(E,\"\", J,\"\", 0 <= E <= float(\"inf\")) #linha1\n",
    "E = -67; J = 78\n",
    "print(E,\"\", J,\"\", 0 <= E <= float(\"inf\")) #linha2\n",
    "E = 0; J = 90\n",
    "print(E,\"\", J,\"\", 0 <= E <= float(\"inf\")) #linha3"
   ]
  },
  {
   "cell_type": "code",
   "execution_count": 35,
   "metadata": {},
   "outputs": [
    {
     "name": "stdout",
     "output_type": "stream",
     "text": [
      "J,,E,, ¬(E > 0) ∨ J >= 0\n",
      "J,,E,, ¬(E > 0) ∨ J >= 0\n",
      "J,,E,, ¬(E > 0) ∨ J >= 0\n"
     ]
    }
   ],
   "source": [
    "#2.5\n",
    "print(\"J,\"\",E,\"\", ¬(E > 0) ∨ J >= 0\") #cabeçalho\n",
    "E = 17; J = 0\n",
    "print(\"J,\"\",E,\"\", ¬(E > 0) ∨ J >= 0\")#linha1\n",
    "E = 0; J = -777\n",
    "print(\"J,\"\",E,\"\", ¬(E > 0) ∨ J >= 0\") #linha2"
   ]
  },
  {
   "cell_type": "code",
   "execution_count": 36,
   "metadata": {},
   "outputs": [
    {
     "name": "stdout",
     "output_type": "stream",
     "text": [
      "E J E != J\n",
      "-37  27  True\n",
      "2001  2001  False\n"
     ]
    }
   ],
   "source": [
    "#2.6\n",
    "print(\"E J E != J\") #cabeçalho\n",
    "E = 27; J = -37\n",
    "print(J,\"\",E,\"\", E != J)#linha1\n",
    "E = 2001; J = 2001\n",
    "print(J,\"\",E,\"\", E != J) #linha2"
   ]
  },
  {
   "cell_type": "code",
   "execution_count": 38,
   "metadata": {},
   "outputs": [
    {
     "name": "stdout",
     "output_type": "stream",
     "text": [
      "E J E != J\n",
      "-7777  7091  True\n",
      "-77  -76  True\n",
      "707  707  False\n"
     ]
    }
   ],
   "source": [
    "#3.1\n",
    "print(\"E J E != J\") #cabeçalho\n",
    "E = 7091; J = -7777\n",
    "print(J,\"\",E,\"\", E != J) #linha1\n",
    "E = -76; J = -77\n",
    "print(J,\"\",E,\"\", E != J) #linha2\n",
    "E = 707; J= 707\n",
    "print(J,\"\",E,\"\", E != J) #linha3"
   ]
  },
  {
   "cell_type": "code",
   "execution_count": 41,
   "metadata": {},
   "outputs": [
    {
     "ename": "SyntaxError",
     "evalue": "can't assign to operator (<ipython-input-41-2d487a99fb83>, line 8)",
     "output_type": "error",
     "traceback": [
      "\u001b[1;36m  File \u001b[1;32m\"<ipython-input-41-2d487a99fb83>\"\u001b[1;36m, line \u001b[1;32m8\u001b[0m\n\u001b[1;33m    (E and not J or J and not E) = (E != J)\u001b[0m\n\u001b[1;37m                                           ^\u001b[0m\n\u001b[1;31mSyntaxError\u001b[0m\u001b[1;31m:\u001b[0m can't assign to operator\n"
     ]
    }
   ],
   "source": [
    "#3.2\n",
    "#E xor J = ¬(E↔J)\n",
    "#¬((E→J)∧(J→E))\n",
    "#¬(E→J)∨¬(J→E)\n",
    "#¬(E∨J)∨¬(J∨E)\n",
    "#E∧¬J∨J∧¬E\n",
    "#Logo, E xor J é equivalente a \n",
    "E and not J or J and not E"
   ]
  },
  {
   "cell_type": "code",
   "execution_count": 49,
   "metadata": {},
   "outputs": [
    {
     "name": "stdout",
     "output_type": "stream",
     "text": [
      "707  707  True\n",
      "7001  -7775  False\n",
      "-76  -774  False\n",
      "707  707  True\n"
     ]
    }
   ],
   "source": [
    "#4\n",
    "print(J,\"\",E,\"\", E == J) #cabeçalho\n",
    "E = -7775; J=7001\n",
    "print(J,\"\",E,\"\", E == J) #linha1\n",
    "E = -774; J = -76\n",
    "print(J,\"\",E,\"\", E == J) #linha2\n",
    "E = 707; J = 707\n",
    "print(J,\"\",E,\"\", E == J) #linha3\n",
    "#a partir da tabela acima e da tabela dos itens 3.1 e 3.2, concluímos que as operações são a negação (not) uma da outra."
   ]
  },
  {
   "cell_type": "code",
   "execution_count": 47,
   "metadata": {},
   "outputs": [
    {
     "ename": "NameError",
     "evalue": "name 'x' is not defined",
     "output_type": "error",
     "traceback": [
      "\u001b[1;31m---------------------------------------------------------------------------\u001b[0m",
      "\u001b[1;31mNameError\u001b[0m                                 Traceback (most recent call last)",
      "\u001b[1;32m<ipython-input-47-d98123e804e1>\u001b[0m in \u001b[0;36m<module>\u001b[1;34m\u001b[0m\n\u001b[0;32m      1\u001b[0m \u001b[1;31m#5.1\u001b[0m\u001b[1;33m\u001b[0m\u001b[1;33m\u001b[0m\u001b[1;33m\u001b[0m\u001b[0m\n\u001b[1;32m----> 2\u001b[1;33m \u001b[0mx\u001b[0m \u001b[1;33m>\u001b[0m \u001b[0my\u001b[0m\u001b[1;33m\u001b[0m\u001b[1;33m\u001b[0m\u001b[0m\n\u001b[0m",
      "\u001b[1;31mNameError\u001b[0m: name 'x' is not defined"
     ]
    }
   ],
   "source": [
    "#5.1 \n",
    "x > y"
   ]
  },
  {
   "cell_type": "code",
   "execution_count": 48,
   "metadata": {},
   "outputs": [
    {
     "ename": "NameError",
     "evalue": "name 'x' is not defined",
     "output_type": "error",
     "traceback": [
      "\u001b[1;31m---------------------------------------------------------------------------\u001b[0m",
      "\u001b[1;31mNameError\u001b[0m                                 Traceback (most recent call last)",
      "\u001b[1;32m<ipython-input-48-07084e3190bb>\u001b[0m in \u001b[0;36m<module>\u001b[1;34m\u001b[0m\n\u001b[0;32m      1\u001b[0m \u001b[1;31m#5.2\u001b[0m\u001b[1;33m\u001b[0m\u001b[1;33m\u001b[0m\u001b[1;33m\u001b[0m\u001b[0m\n\u001b[1;32m----> 2\u001b[1;33m \u001b[0mx\u001b[0m \u001b[1;33m<=\u001b[0m \u001b[0my\u001b[0m\u001b[1;33m\u001b[0m\u001b[1;33m\u001b[0m\u001b[0m\n\u001b[0m",
      "\u001b[1;31mNameError\u001b[0m: name 'x' is not defined"
     ]
    }
   ],
   "source": [
    "#5.2 \n",
    "x <= y"
   ]
  },
  {
   "cell_type": "code",
   "execution_count": null,
   "metadata": {},
   "outputs": [],
   "source": [
    "#5.3 \n",
    "x != y"
   ]
  },
  {
   "cell_type": "code",
   "execution_count": null,
   "metadata": {},
   "outputs": [],
   "source": [
    "#5.4 \n"
   ]
  },
  {
   "cell_type": "code",
   "execution_count": null,
   "metadata": {},
   "outputs": [],
   "source": [
    "#5.5 \n",
    "0 < x oor x = 0 andd x < 10 or x = 10"
   ]
  },
  {
   "cell_type": "code",
   "execution_count": null,
   "metadata": {},
   "outputs": [],
   "source": [
    "#5.6 \n",
    "A and B"
   ]
  },
  {
   "cell_type": "code",
   "execution_count": null,
   "metadata": {},
   "outputs": [],
   "source": [
    "#5.7\n",
    "A → ¬B. "
   ]
  },
  {
   "cell_type": "code",
   "execution_count": null,
   "metadata": {},
   "outputs": [],
   "source": [
    "#5.8\n",
    "¬A ∨ B"
   ]
  },
  {
   "cell_type": "code",
   "execution_count": null,
   "metadata": {},
   "outputs": [],
   "source": [
    "#5.9\n",
    "¬(A∨B)"
   ]
  },
  {
   "cell_type": "code",
   "execution_count": null,
   "metadata": {},
   "outputs": [],
   "source": [
    "#6.1\n",
    "print(\"E J E and J\") #cabeçalho\n",
    "E = 7091; J = -7777\n",
    "print(J,\"\",E,\"\", E and J) #linha1\n",
    "E = -76; J = -77\n",
    "print(J,\"\",E,\"\", E and J) #linha2\n",
    "E = 707; J= 707\n",
    "print(J,\"\",E,\"\", E and J) #linha3"
   ]
  },
  {
   "cell_type": "code",
   "execution_count": 53,
   "metadata": {},
   "outputs": [
    {
     "name": "stdout",
     "output_type": "stream",
     "text": [
      "E J not(E or not J)\n",
      "-7700  7881  False\n",
      "-73  -66  False\n",
      "7079  7079  False\n"
     ]
    }
   ],
   "source": [
    "#6.2\n",
    "print(\"E J not(E or not J)\") #cabeçalho\n",
    "E = 7881; J = -7700\n",
    "print(J,\"\",E,\"\", not(E or not J)) #linha1\n",
    "E = -66; J = -73\n",
    "print(J,\"\",E,\"\", not(E or not J)) #linha2\n",
    "E = 7079; J= 7079\n",
    "print(J,\"\",E,\"\", not(E or not J)) #linha3"
   ]
  },
  {
   "cell_type": "code",
   "execution_count": 56,
   "metadata": {},
   "outputs": [
    {
     "name": "stdout",
     "output_type": "stream",
     "text": [
      "E J (not E) or J\n",
      "-7177  7891  -7177\n",
      "-797  -776  -797\n",
      "7074  7074  7074\n"
     ]
    }
   ],
   "source": [
    "#6.3\n",
    "print(\"E J (not E) or J\") #cabeçalho\n",
    "E = 7891; J = -7177\n",
    "print(J,\"\",E,\"\", (not E) or J) #linha1\n",
    "E = -776; J = -797\n",
    "print(J,\"\",E,\"\", (not E) or J) #linha2\n",
    "E = 7074; J= 7074\n",
    "print(J,\"\",E,\"\", (not E) or J) #linha3"
   ]
  },
  {
   "cell_type": "code",
   "execution_count": 54,
   "metadata": {},
   "outputs": [
    {
     "name": "stdout",
     "output_type": "stream",
     "text": [
      "E J not(E or J)\n",
      "-7555  7851  False\n",
      "-772  -736  False\n",
      "7107  7107  False\n"
     ]
    }
   ],
   "source": [
    "#6.4\n",
    "print(\"E J not(E or J)\") #cabeçalho\n",
    "E = 7851; J = -7555\n",
    "print(J,\"\",E,\"\", not(E or J)) #linha1\n",
    "E = -736; J = -772\n",
    "print(J,\"\",E,\"\", not(E or J)) #linha2\n",
    "E = 7107; J= 7107\n",
    "print(J,\"\",E,\"\", not(E or J)) #linha3"
   ]
  },
  {
   "cell_type": "code",
   "execution_count": null,
   "metadata": {},
   "outputs": [],
   "source": [
    "#7 \n",
    "Os exercícios 5.8 e 5.9 tem expressões que são equivalentes."
   ]
  },
  {
   "cell_type": "code",
   "execution_count": 57,
   "metadata": {},
   "outputs": [
    {
     "name": "stdout",
     "output_type": "stream",
     "text": [
      "E J E == J\n",
      "-789  7091  False\n",
      "-770  -770  True\n",
      "7091  -789  False\n"
     ]
    }
   ],
   "source": [
    "#8\n",
    "print(\"E J E == J\") #cabeçalho\n",
    "E = 7091; J = -789\n",
    "print(J,\"\",E,\"\", E == J) #linha1\n",
    "E = -770; J = -770\n",
    "print(J,\"\",E,\"\", E == J) #linha2\n",
    "E = -789; J= 7091\n",
    "print(J,\"\",E,\"\", E == J) #linha3"
   ]
  },
  {
   "cell_type": "code",
   "execution_count": null,
   "metadata": {},
   "outputs": [],
   "source": []
  }
 ],
 "metadata": {
  "kernelspec": {
   "display_name": "Python 3",
   "language": "python",
   "name": "python3"
  },
  "language_info": {
   "codemirror_mode": {
    "name": "ipython",
    "version": 3
   },
   "file_extension": ".py",
   "mimetype": "text/x-python",
   "name": "python",
   "nbconvert_exporter": "python",
   "pygments_lexer": "ipython3",
   "version": "3.7.1"
  }
 },
 "nbformat": 4,
 "nbformat_minor": 2
}
