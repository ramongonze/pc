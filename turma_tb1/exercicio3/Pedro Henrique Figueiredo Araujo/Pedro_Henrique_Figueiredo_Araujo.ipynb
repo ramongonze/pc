{
 "cells": [
  {
   "cell_type": "code",
   "execution_count": 90,
   "metadata": {
    "scrolled": true
   },
   "outputs": [
    {
     "name": "stdout",
     "output_type": "stream",
     "text": [
      "Exercícios Programação de Computadores 2019/01\n",
      "Aluno: Pedro Henrique Figueiredo Araujo\n",
      "Matrícula: 2017051920\n",
      "Atividade: 03\n"
     ]
    }
   ],
   "source": [
    "print (\"Exercícios Programação de Computadores 2019/01\")\n",
    "print (\"Aluno: Pedro Henrique Figueiredo Araujo\")\n",
    "print (\"Matrícula: 2017051920\")\n",
    "print (\"Atividade: 03\")"
   ]
  },
  {
   "cell_type": "code",
   "execution_count": 99,
   "metadata": {
    "scrolled": true
   },
   "outputs": [
    {
     "name": "stdout",
     "output_type": "stream",
     "text": [
      "Exercício 1\n",
      "1.1 X >= Y\n",
      "Temos que: Y < X or Y = X\n",
      "\n",
      "\n",
      "1.2 X =< Y\n",
      "Temos que Y > X or Y = X\n",
      "\n",
      "\n",
      "1.3 X != Y\n",
      "Temos que X < Y or  X > Y\n",
      "\n",
      "\n",
      "1.4 0 =< X =< infinito\n",
      "Temos que: X = 0 or X > 0 and  X < infinito or X = infinito\n",
      " \n",
      " \n",
      "1.5\n",
      "\n",
      "\n",
      "1.6\n"
     ]
    }
   ],
   "source": [
    "print (\"Exercício 1\")\n",
    "print (\"1.1 X >= Y\")\n",
    "print (\"Temos que: Y < X or Y = X\")\n",
    "print (\"\")\n",
    "print (\"\")\n",
    "print (\"1.2 X =< Y\") \n",
    "print(\"Temos que Y > X or Y = X\")\n",
    "print (\"\")\n",
    "print (\"\")\n",
    "print (\"1.3 X != Y\")\n",
    "print(\"Temos que X < Y or  X > Y\")\n",
    "print (\"\")\n",
    "print (\"\")\n",
    "print (\"1.4 0 =< X =< infinito\")\n",
    "print(\"Temos que: X = 0 or X > 0 and  X < infinito or X = infinito\")\n",
    "print (\" \")\n",
    "print (\" \")\n",
    "print (\"1.5\")\n",
    "print (\"\")\n",
    "print (\"\")\n",
    "print (\"1.6\")\n",
    "\n",
    "\n",
    "\n"
   ]
  },
  {
   "cell_type": "code",
   "execution_count": 97,
   "metadata": {
    "scrolled": false
   },
   "outputs": [
    {
     "name": "stdout",
     "output_type": "stream",
     "text": [
      "Exercicio 2\n",
      "Matrícula = 2017051920\n",
      "1.1\n",
      " X       Y      X >= Y\n",
      "92      51     True\n",
      "92      92     True\n",
      "51      92     False\n",
      "51      51     True\n",
      "   \n",
      "   \n",
      "1.2\n",
      " X       Y      X <= Y\n",
      "92      51     False\n",
      "92      92     True\n",
      "51      92     True\n",
      "51      51     True\n",
      "   \n",
      "   \n",
      "1.3\n",
      " X       Y      X != Y\n",
      "92      51     True\n",
      "92      92     False\n",
      "51      92     True\n",
      "51      51     False\n",
      "   \n",
      "   \n",
      "1.4\n",
      " X       Y      0 <= X <= Y\n",
      "92         51    False\n",
      "-51       92        False\n",
      "51920       92     False\n",
      "51         51        True\n",
      "0         51920     True\n",
      "   \n",
      "   \n",
      "1.5\n",
      "   \n",
      "   \n",
      "1.6\n"
     ]
    }
   ],
   "source": [
    "print(\"Exercicio 2\")\n",
    "print(\"Matrícula = 2017051920\")\n",
    "print(\"1.1\")\n",
    "\n",
    "print (\" X       Y      X >= Y\")    #Cabeçalho\n",
    "X = 92; Y = 51\n",
    "print(X,\"    \",Y, \"   \",  X >= Y) #linha1\n",
    "X = 92; Y = 92 \n",
    "print(X,\"    \",Y, \"   \",  X >= Y) #linha2\n",
    "X = 51; Y = 92\n",
    "print(X,\"    \",Y, \"   \",  X >= Y) #linha3\n",
    "X = 51; Y = 51\n",
    "print(X,\"    \",Y, \"   \",  X >= Y) #linha4\n",
    "print (\"   \")\n",
    "print (\"   \")\n",
    "print (\"1.2\")\n",
    "print (\" X       Y      X <= Y\")    #Cabeçalho\n",
    "X = 92; Y = 51\n",
    "print(X,\"    \",Y, \"   \",  X <= Y) #linha1\n",
    "X = 92; Y = 92 \n",
    "print(X,\"    \",Y, \"   \",  X <= Y) #linha2\n",
    "X = 51; Y = 92\n",
    "print(X,\"    \",Y, \"   \",  X <= Y) #linha3\n",
    "X = 51; Y = 51\n",
    "print(X,\"    \",Y, \"   \",  X <= Y) #linha4\n",
    "print (\"   \")\n",
    "print (\"   \")\n",
    "print (\"1.3\")\n",
    "print (\" X       Y      X != Y\")    #Cabeçalho\n",
    "X = 92; Y = 51\n",
    "print(X,\"    \",Y, \"   \",  X != Y) #linha1\n",
    "X = 92; Y = 92 \n",
    "print(X,\"    \",Y, \"   \",  X != Y) #linha2\n",
    "X = 51; Y = 92\n",
    "print(X,\"    \",Y, \"   \",  X != Y) #linha3\n",
    "X = 51; Y = 51\n",
    "print(X,\"    \",Y, \"   \",  X != Y) #linha4\n",
    "print (\"   \")\n",
    "print (\"   \")\n",
    "print (\"1.4\")\n",
    "print (\" X       Y      0 <= X <= Y\")    #Cabeçalho\n",
    "X = 92; Y = 51\n",
    "print(X,\"       \",Y, \"  \",  0 <= X <= Y) #linha1\n",
    "X = -51; Y = 92 \n",
    "print(X,\"     \",Y, \"      \", 0 <= X <= Y) #linha2\n",
    "X = 51920; Y = 92\n",
    "print(X,\"     \",Y, \"   \", 0 <= X <= Y) #linha3\n",
    "X = 51; Y = 51\n",
    "print(X,\"       \",Y, \"      \", 0 <= X <= Y) #linha4\n",
    "X = 0; Y = 51920\n",
    "print(X,\"       \",Y, \"   \", 0 <= X <= Y) #linha5\n",
    "print (\"   \")\n",
    "print (\"   \")\n",
    "print (\"1.5\")\n",
    "print (\"   \")\n",
    "print (\"   \")\n",
    "print (\"1.6\")"
   ]
  },
  {
   "cell_type": "code",
   "execution_count": 93,
   "metadata": {
    "scrolled": true
   },
   "outputs": [
    {
     "name": "stdout",
     "output_type": "stream",
     "text": [
      "Exercício 3\n",
      "3.1\n",
      "X          Y      X XOR Y\n",
      "True    True        False\n",
      "True    False       True\n",
      "False   True        True\n",
      "False   False       False\n",
      " \n",
      "3.2\n",
      "X       Not X\n",
      "True    False\n",
      "False   True\n",
      "\n",
      "Y       Not Y\n",
      "True    False\n",
      "False   True\n",
      " \n",
      "X          Y      X XOR Y\n",
      "True    True        False\n",
      "True    False       True\n",
      "False   True        False\n",
      "False   False       False\n"
     ]
    }
   ],
   "source": [
    "print(\"Exercício 3\")\n",
    "print (\"3.1\")\n",
    "print (\"X          Y      X XOR Y\")\n",
    "X = True; Y = True\n",
    "print (X,\"  \",Y,\"      \", X ^ Y)\n",
    "X = True; Y = False\n",
    "print (X,\"  \",Y,\"     \", X ^ Y)\n",
    "X = False; Y = True\n",
    "print (X,\" \",Y,\"      \", X ^ Y)\n",
    "X = False; Y = False\n",
    "print (X,\" \",Y,\"     \", X ^ Y)\n",
    "print (\" \")\n",
    "print (\"3.2\")\n",
    "print (\"X       Not X\")\n",
    "X = True;\n",
    "print (X,\"  \", not X)\n",
    "print (not X,\" \", X)\n",
    "print (\"\")\n",
    "print (\"Y       Not Y\")\n",
    "Y = True;\n",
    "print (Y,\"  \", not Y)\n",
    "print (not Y,\" \", Y)\n",
    "print (\" \")\n",
    "print (\"X          Y      X XOR Y\")\n",
    "X = True; Y = True\n",
    "print (X,\"  \",Y,\"      \", X and not Y)\n",
    "X = True; Y = False\n",
    "print (X,\"  \",Y,\"     \", X and  not Y)\n",
    "X = False; Y = True\n",
    "print (X,\" \",Y,\"      \", X and not Y)\n",
    "X = False; Y = False\n",
    "print (X,\" \",Y,\"     \", X and not Y)\n"
   ]
  },
  {
   "cell_type": "code",
   "execution_count": 119,
   "metadata": {},
   "outputs": [
    {
     "name": "stdout",
     "output_type": "stream",
     "text": [
      "Exercício 4\n",
      "X    Y    notX   notY  (X → Y)    (Y → X)    (X → Y and Y → X)    (X^Y)\n",
      "T    T     F     F       T          T               T               F\n",
      "T    F     F     T       F          T               F               T\n",
      "F    T     T     F       T          F               F               T\n",
      "F    F     T     T       T          T               T               F\n",
      "\n",
      "Observa-se que o operador lógico xor é equivalente ao not A⇿B\n"
     ]
    }
   ],
   "source": [
    "print (\"Exercício 4\")\n",
    "print (\"X    Y    notX   notY  (X → Y)    (Y → X)    (X → Y and Y → X)    (X^Y)\")\n",
    "print (\"T    T     F     F       T          T               T               F\")\n",
    "print (\"T    F     F     T       F          T               F               T\")\n",
    "print (\"F    T     T     F       T          F               F               T\")\n",
    "print (\"F    F     T     T       T          T               T               F\")\n",
    "print (\"\")\n",
    "print (\"Observa-se que o operador lógico xor é equivalente ao not A⇿B\")"
   ]
  },
  {
   "cell_type": "code",
   "execution_count": 114,
   "metadata": {},
   "outputs": [
    {
     "name": "stdout",
     "output_type": "stream",
     "text": [
      "Exercício 5\n",
      "\n",
      "5.1 notX <= Y\n",
      "Temos que: X > Y\n",
      "\n",
      "5.2 notX > Y\n",
      "Temos que: X < Y or X = Y\n",
      "\n",
      "5.3\n",
      "\n",
      "5.4\n",
      "\n",
      "5.5\n",
      "\n",
      "5.6 not(X ^ notY)\n",
      "Temos que: not X) or Y\n",
      "\n",
      "5.7 notX → Y\n",
      "Temos que: X or Y\n",
      "\n",
      "5.8: not (X → Y)\n",
      "Temos que: X and (not Y)\n",
      "\n",
      "5.9: not (notX ^ notY)\n",
      "Temos que: X or Y\n"
     ]
    }
   ],
   "source": [
    "print (\"Exercício 5\")\n",
    "print (\"\")\n",
    "print (\"5.1 notX <= Y\")\n",
    "print (\"Temos que: X > Y\")\n",
    "print (\"\")\n",
    "print (\"5.2 notX > Y\")\n",
    "print (\"Temos que: X < Y or X = Y\")\n",
    "print (\"\")\n",
    "print (\"5.3\")\n",
    "print (\"\")\n",
    "print (\"5.4\")\n",
    "print (\"\")\n",
    "print (\"5.5\")\n",
    "print (\"\")\n",
    "print(\"5.6 not(X ^ notY)\")\n",
    "print(\"Temos que: not X) or Y\")\n",
    "print (\"\")\n",
    "print (\"5.7 notX → Y\")\n",
    "print (\"Temos que: X or Y\")\n",
    "print (\"\")\n",
    "print (\"5.8: not (X → Y)\")\n",
    "print (\"Temos que: X and (not Y)\")\n",
    "print (\"\")\n",
    "print (\"5.9: not (notX ^ notY)\")\n",
    "print (\"Temos que: X or Y\")\n"
   ]
  },
  {
   "cell_type": "code",
   "execution_count": 103,
   "metadata": {},
   "outputs": [
    {
     "name": "stdout",
     "output_type": "stream",
     "text": [
      "Exercício 6\n"
     ]
    }
   ],
   "source": [
    "print (\"Exercício 6\")\n"
   ]
  },
  {
   "cell_type": "code",
   "execution_count": 104,
   "metadata": {},
   "outputs": [
    {
     "name": "stdout",
     "output_type": "stream",
     "text": [
      "Exercício 7\n"
     ]
    }
   ],
   "source": [
    "print (\"Exercício 7\")\n"
   ]
  },
  {
   "cell_type": "code",
   "execution_count": 105,
   "metadata": {},
   "outputs": [
    {
     "name": "stdout",
     "output_type": "stream",
     "text": [
      "Exercício 8\n",
      "\n",
      "not(X E Y)   not X or not Y\n",
      "True          False\n",
      "False         True\n",
      "True          False\n",
      "False         True\n",
      "\n",
      "\n",
      "not(X or Y)   not X and not Y\n",
      "True          False\n",
      "False         True\n",
      "True          False\n",
      "False         True\n"
     ]
    }
   ],
   "source": [
    "print (\"Exercício 8\")\n",
    "print (\"\")\n",
    "print (\"not(X E Y)   not X or not Y\")\n",
    "X = True;\n",
    "print (X,\"        \", not X)\n",
    "X = True; \n",
    "print (not X,\"       \", X)\n",
    "Y = True; Y = True\n",
    "print (Y,\"        \", not Y)\n",
    "Y = True; Y = True\n",
    "print (not Y,\"       \", Y)\n",
    "print (\"\")\n",
    "print (\"\")\n",
    "print (\"not(X or Y)   not X and not Y\")\n",
    "X = True;\n",
    "print (X,\"        \", not X)\n",
    "X = True; \n",
    "print (not X,\"       \", X)\n",
    "Y = True; Y = True\n",
    "print (Y,\"        \", not Y)\n",
    "Y = True; Y = True\n",
    "print (not Y,\"       \", Y)"
   ]
  },
  {
   "cell_type": "code",
   "execution_count": null,
   "metadata": {},
   "outputs": [],
   "source": []
  }
 ],
 "metadata": {
  "kernelspec": {
   "display_name": "Python 3",
   "language": "python",
   "name": "python3"
  },
  "language_info": {
   "codemirror_mode": {
    "name": "ipython",
    "version": 3
   },
   "file_extension": ".py",
   "mimetype": "text/x-python",
   "name": "python",
   "nbconvert_exporter": "python",
   "pygments_lexer": "ipython3",
   "version": "3.7.1"
  }
 },
 "nbformat": 4,
 "nbformat_minor": 2
}
