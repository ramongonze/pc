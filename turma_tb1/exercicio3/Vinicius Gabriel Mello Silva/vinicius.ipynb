{
 "cells": [
  {
   "cell_type": "markdown",
   "metadata": {},
   "source": [
    "# Lista 2\n",
    "\n",
    "vinicius gabriel mello silva\n",
    "2018015820"
   ]
  },
  {
   "cell_type": "markdown",
   "metadata": {},
   "source": [
    "# exercicio 1"
   ]
  },
  {
   "cell_type": "markdown",
   "metadata": {},
   "source": [
    "x>=y\n",
    "\n",
    "x<=y\n",
    "\n",
    "x!=y\n",
    "\n",
    "0<=x<=inf\n",
    "\n",
    "not(x>o) or y>=0\n",
    "\n",
    "not(x<=0) e y>=0\n"
   ]
  },
  {
   "cell_type": "markdown",
   "metadata": {},
   "source": [
    "# Exercicio 2.1"
   ]
  },
  {
   "cell_type": "code",
   "execution_count": 40,
   "metadata": {},
   "outputs": [
    {
     "name": "stdout",
     "output_type": "stream",
     "text": [
      " p      q      pEq  \n",
      "True    True    True\n",
      "False    False    True\n",
      "False    True    False\n",
      "True    False    True\n"
     ]
    }
   ],
   "source": [
    "print(\" p      q      pEq  \")\n",
    "p = True;q = True\n",
    "print(p,\"  \",q,\"  \",p >= q)\n",
    "p = False; q = False\n",
    "print(p,\"  \",q,\"  \",p >= q)\n",
    "p = False; q = True\n",
    "print(p,\"  \",q,\"  \",p >= q)\n",
    "p = True; q = False\n",
    "print(p,\"  \",q,\"  \",p >= q)\n"
   ]
  },
  {
   "cell_type": "markdown",
   "metadata": {},
   "source": [
    "# Exercicio 2.2"
   ]
  },
  {
   "cell_type": "code",
   "execution_count": 41,
   "metadata": {},
   "outputs": [
    {
     "name": "stdout",
     "output_type": "stream",
     "text": [
      " p      q      pEq  \n",
      "True    True    True\n",
      "False    False    True\n",
      "False    True    True\n",
      "True    False    False\n"
     ]
    }
   ],
   "source": [
    "print(\" p      q      pEq  \")\n",
    "p = True;q = True\n",
    "print(p,\"  \",q,\"  \",p <= q)\n",
    "p = False; q = False\n",
    "print(p,\"  \",q,\"  \",p <= q)\n",
    "p = False; q = True\n",
    "print(p,\"  \",q,\"  \",p <= q)\n",
    "p = True; q = False\n",
    "print(p,\"  \",q,\"  \",p <= q)"
   ]
  },
  {
   "cell_type": "markdown",
   "metadata": {},
   "source": [
    "# Exercicio 2.3"
   ]
  },
  {
   "cell_type": "code",
   "execution_count": 42,
   "metadata": {},
   "outputs": [
    {
     "name": "stdout",
     "output_type": "stream",
     "text": [
      " p      q      pEq  \n",
      "True    True    False\n",
      "False    False    False\n",
      "False    True    True\n",
      "True    False    True\n"
     ]
    }
   ],
   "source": [
    "print(\" p      q      pEq  \")\n",
    "p = True;q = True\n",
    "print(p,\"  \",q,\"  \",p != q)\n",
    "p = False; q = False\n",
    "print(p,\"  \",q,\"  \",p != q)\n",
    "p = False; q = True\n",
    "print(p,\"  \",q,\"  \",p != q)\n",
    "p = True; q = False\n",
    "print(p,\"  \",q,\"  \",p != q)"
   ]
  },
  {
   "cell_type": "markdown",
   "metadata": {},
   "source": [
    "# Exercicio 2.4"
   ]
  },
  {
   "cell_type": "code",
   "execution_count": 43,
   "metadata": {},
   "outputs": [
    {
     "name": "stdout",
     "output_type": "stream",
     "text": [
      " 0      q      infinito  \n",
      "True    True    True\n",
      "False    False    True\n",
      "False    True    False\n",
      "True    False    False\n"
     ]
    }
   ],
   "source": [
    "print(\" 0      q      infinito  \")\n",
    "p = True;q = True\n",
    "print(p,\"  \",q,\"  \",p <= q)\n",
    "p = False; q = False\n",
    "print(p,\"  \",q,\"  \",p <= q)\n",
    "p = False; q = True\n",
    "print(p,\"  \",q,\"  \",p >= q)\n",
    "p = True; q = False\n",
    "print(p,\"  \",q,\"  \",p <= q)"
   ]
  },
  {
   "cell_type": "markdown",
   "metadata": {},
   "source": [
    "# Exercicio 2.5"
   ]
  },
  {
   "cell_type": "code",
   "execution_count": 7,
   "metadata": {},
   "outputs": [
    {
     "name": "stdout",
     "output_type": "stream",
     "text": [
      " p      q      pEq  \n",
      "True    True    True\n",
      "False    False    False\n",
      "False    True    True\n",
      "True    False    True\n"
     ]
    }
   ],
   "source": [
    "print(\" p      q      pEq  \")\n",
    "p = True;q = True\n",
    "print(p,\"  \",q,\"  \",p > 0 or q > 0)\n",
    "p = False; q = False\n",
    "print(p,\"  \",q,\"  \",p > 0 or q > 0)\n",
    "p = False; q = True\n",
    "print(p,\"  \",q,\"  \",p > 0 or q > 0)\n",
    "p = True; q = False\n",
    "print(p,\"  \",q,\"  \",p > 0 or q > 0)"
   ]
  },
  {
   "cell_type": "markdown",
   "metadata": {},
   "source": [
    "# Exercicio 2.6"
   ]
  },
  {
   "cell_type": "code",
   "execution_count": 8,
   "metadata": {},
   "outputs": [
    {
     "name": "stdout",
     "output_type": "stream",
     "text": [
      " p      q      pEq  \n",
      "True    True    False\n",
      "False    False    True\n",
      "False    True    True\n",
      "True    False    False\n"
     ]
    }
   ],
   "source": [
    "print(\" p      q      pEq  \")\n",
    "p = True;q = True\n",
    "print(p,\"  \",q,\"  \",p <= 0 and q >= 0)\n",
    "p = False; q = False\n",
    "print(p,\"  \",q,\"  \",p <= 0 and q >= 0)\n",
    "p = False; q = True\n",
    "print(p,\"  \",q,\"  \",p <= 0 and q >= 0)\n",
    "p = True; q = False\n",
    "print(p,\"  \",q,\"  \",p <= 0 and q >= 0)"
   ]
  },
  {
   "cell_type": "markdown",
   "metadata": {},
   "source": [
    "# exercicio 3"
   ]
  },
  {
   "cell_type": "code",
   "execution_count": 37,
   "metadata": {},
   "outputs": [
    {
     "name": "stdout",
     "output_type": "stream",
     "text": [
      " p     q      pXORq \n",
      "True    True    False\n",
      "False    False    False\n",
      "False    True    True\n",
      "True    False    True\n"
     ]
    }
   ],
   "source": [
    "print(\" p     q      pXORq \")\n",
    "p = True;q = True\n",
    "print(p,\"  \",q,\"  \",p ^ q)\n",
    "p = False; q = False\n",
    "print(p,\"  \",q,\"  \",p ^ q)\n",
    "p = False; q = True\n",
    "print(p,\"  \",q,\"  \",p ^ q)\n",
    "p = True; q = False\n",
    "print(p,\"  \",q,\"  \",q ^ p)"
   ]
  },
  {
   "cell_type": "markdown",
   "metadata": {},
   "source": [
    "# exercicio 3.1"
   ]
  },
  {
   "cell_type": "code",
   "execution_count": 13,
   "metadata": {},
   "outputs": [
    {
     "name": "stdout",
     "output_type": "stream",
     "text": [
      " p      q      pEq  \n",
      "True    True    False\n",
      "False    False   False\n",
      "False    True   True\n",
      "True    False    True\n"
     ]
    }
   ],
   "source": [
    "print(\" p      q      pXORq  \")\n",
    "p = True;q = True\n",
    "print(p,\"  \",q,\"  \",not p and q)\n",
    "p = False; q = False\n",
    "print(p,\"  \",q,\" \",p and q)\n",
    "p = False; q = True\n",
    "print(p,\"  \",q,\" \",p or q)\n",
    "p = True; q = False\n",
    "print(p,\"  \",q,\"  \",p or q)"
   ]
  },
  {
   "cell_type": "markdown",
   "metadata": {},
   "source": [
    "# exercicio 4"
   ]
  },
  {
   "cell_type": "code",
   "execution_count": 15,
   "metadata": {},
   "outputs": [
    {
     "name": "stdout",
     "output_type": "stream",
     "text": [
      " p     q      p<-->q \n",
      "True    True    False\n",
      "False    False    False\n",
      "False    True    False\n",
      "True    False    False\n"
     ]
    }
   ],
   "source": [
    "print(\" p     q      p<-->q \")\n",
    "p = True;q = True\n",
    "print(p,\"  \",q,\"  \",not p and q and not q and p)\n",
    "p = False; q = False\n",
    "print(p,\"  \",q,\"  \",not p and q and not q and p)\n",
    "p = False; q = True\n",
    "print(p,\"  \",q,\"  \",not p and q and not q and p)\n",
    "p = True; q = False\n",
    "print(p,\"  \",q,\"  \",not p and q and not q and p)"
   ]
  },
  {
   "cell_type": "markdown",
   "metadata": {},
   "source": [
    "pode-se perceber a diferença pois a tabela do exercicio 4 é apenas false em quanto as tabelas do exercicio 3 sao mesclas de true e false"
   ]
  },
  {
   "cell_type": "markdown",
   "metadata": {},
   "source": [
    "# exercicio 5"
   ]
  },
  {
   "cell_type": "markdown",
   "metadata": {},
   "source": [
    "x > y .\n",
    "\n",
    "x <= y .\n",
    "\n",
    "x >= y ∧ x < y = false\n",
    "\n",
    "x <= y ∨ x > y  \n",
    "\n",
    "0 ≤ x ≤ 10 = 0<= x <=10\n",
    "\n",
    "¬ (a ∨ ¬ b)= not(a and not b)\n",
    "\n",
    "¬ a → b = not a or b\n",
    "\n",
    "¬( a → b) = not a or not b\n",
    "\n",
    "¬ (¬ a ∧ ¬ b) = not(not a or not b)"
   ]
  },
  {
   "cell_type": "markdown",
   "metadata": {},
   "source": [
    "# exercicio 6"
   ]
  },
  {
   "cell_type": "code",
   "execution_count": 25,
   "metadata": {},
   "outputs": [
    {
     "name": "stdout",
     "output_type": "stream",
     "text": [
      " p     q      ¬ (a ∨ ¬ b) \n",
      "True    True    True\n",
      "False    False    True\n",
      "False    True    True\n",
      "True    False    False\n"
     ]
    }
   ],
   "source": [
    "print(\" p     q      ¬ (a ∨ ¬ b) \")\n",
    "p = True;q = True\n",
    "print(p,\"  \",q,\"  \",not(p and not q))\n",
    "p = False; q = False\n",
    "print(p,\"  \",q,\"  \",not(p and not q))\n",
    "p = False; q = True\n",
    "print(p,\"  \",q,\"  \",not(p and not q))\n",
    "p = True; q = False\n",
    "print(p,\"  \",q,\"  \",not(p and not q))"
   ]
  },
  {
   "cell_type": "markdown",
   "metadata": {},
   "source": [
    "# exercicio 6.1"
   ]
  },
  {
   "cell_type": "code",
   "execution_count": 24,
   "metadata": {},
   "outputs": [
    {
     "name": "stdout",
     "output_type": "stream",
     "text": [
      " p     q      ¬ a → b \n",
      "True    True    True\n",
      "False    False    True\n",
      "False    True    True\n",
      "True    False    False\n"
     ]
    }
   ],
   "source": [
    "print(\" p     q      ¬ a → b \")\n",
    "p = True;q = True\n",
    "print(p,\"  \",q,\"  \",not p or q)\n",
    "p = False; q = False\n",
    "print(p,\"  \",q,\"  \",not p or q)\n",
    "p = False; q = True\n",
    "print(p,\"  \",q,\"  \",not p or q)\n",
    "p = True; q = False\n",
    "print(p,\"  \",q,\"  \",not p or q)"
   ]
  },
  {
   "cell_type": "markdown",
   "metadata": {},
   "source": [
    "# exercicio 6.2"
   ]
  },
  {
   "cell_type": "code",
   "execution_count": 27,
   "metadata": {},
   "outputs": [
    {
     "name": "stdout",
     "output_type": "stream",
     "text": [
      " p     q      ¬ (a ∨ ¬ b) \n",
      "True    True    False\n",
      "False    False    True\n",
      "False    True    True\n",
      "True    False    True\n"
     ]
    }
   ],
   "source": [
    "print(\" p     q      ¬ (a → b) \")\n",
    "p = True;q = True\n",
    "print(p,\"  \",q,\"  \",not p or not q)\n",
    "p = False; q = False\n",
    "print(p,\"  \",q,\"  \",not p or not q)\n",
    "p = False; q = True\n",
    "print(p,\"  \",q,\"  \",not p or not q)\n",
    "p = True; q = False\n",
    "print(p,\"  \",q,\"  \",not p or not q)"
   ]
  },
  {
   "cell_type": "markdown",
   "metadata": {},
   "source": [
    "# exercicio 6.3"
   ]
  },
  {
   "cell_type": "code",
   "execution_count": 29,
   "metadata": {},
   "outputs": [
    {
     "name": "stdout",
     "output_type": "stream",
     "text": [
      " p     q      ¬ (¬ a ∧ ¬ b) \n",
      "True    True    True\n",
      "False    False    False\n",
      "False    True    False\n",
      "True    False    False\n"
     ]
    }
   ],
   "source": [
    "\n",
    "print(\" p     q      ¬ (¬ a ∧ ¬ b) \")\n",
    "p = True;q = True\n",
    "print(p,\"  \",q,\"  \",not(not p or not q))\n",
    "p = False; q = False\n",
    "print(p,\"  \",q,\"  \",not(not p or not q))\n",
    "p = False; q = True\n",
    "print(p,\"  \",q,\"  \",not(not p or not q))\n",
    "p = True; q = False\n",
    "print(p,\"  \",q,\"  \",not(not p or not q))"
   ]
  },
  {
   "cell_type": "markdown",
   "metadata": {},
   "source": [
    "# exercicio 7"
   ]
  },
  {
   "cell_type": "markdown",
   "metadata": {},
   "source": [
    "apenas as tabelas de verdade 6 e 6.1 sao equivalentes, ja a 6.3 e a 6.2 sao inversas"
   ]
  },
  {
   "cell_type": "markdown",
   "metadata": {},
   "source": [
    "# exercicio 8"
   ]
  },
  {
   "cell_type": "code",
   "execution_count": 47,
   "metadata": {},
   "outputs": [
    {
     "name": "stdout",
     "output_type": "stream",
     "text": [
      " p      q        p+q     axb \n",
      "True    True    True True\n",
      "False    False   False False\n",
      "False    True    False True\n",
      "True    False    False True\n"
     ]
    }
   ],
   "source": [
    "print(\" p      q        p+q     axb \")\n",
    "p = True;q = True\n",
    "print(p,\"  \",q,\"  \",p and q,p or q)\n",
    "p = False; q = False\n",
    "print(p,\"  \",q,\" \",p and q,p or q)\n",
    "p = False; q = True\n",
    "print(p,\"  \",q,\"  \",p and q,p or q)\n",
    "p = True; q = False\n",
    "print(p,\"  \",q,\"  \",not(not p or not q))"
   ]
  },
  {
   "cell_type": "code",
   "execution_count": null,
   "metadata": {},
   "outputs": [],
   "source": []
  }
 ],
 "metadata": {
  "kernelspec": {
   "display_name": "Python 3",
   "language": "python",
   "name": "python3"
  },
  "language_info": {
   "codemirror_mode": {
    "name": "ipython",
    "version": 3
   },
   "file_extension": ".py",
   "mimetype": "text/x-python",
   "name": "python",
   "nbconvert_exporter": "python",
   "pygments_lexer": "ipython3",
   "version": "3.7.1"
  }
 },
 "nbformat": 4,
 "nbformat_minor": 2
}
