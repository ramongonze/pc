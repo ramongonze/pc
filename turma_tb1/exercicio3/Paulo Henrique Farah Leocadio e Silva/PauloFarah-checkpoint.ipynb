{
 "cells": [
  {
   "cell_type": "markdown",
   "metadata": {},
   "source": [
    "## EXERCÍCIO 1"
   ]
  },
  {
   "cell_type": "code",
   "execution_count": null,
   "metadata": {},
   "outputs": [],
   "source": [
    "1.1 x>y or x=y\n",
    "1.2 x<y or x=y\n",
    "1.3 x!=y\n",
    "1.4 0<x or x=0 and x>0\n",
    "1.5 (x<0 or x=0) or (y>0 or y=0)\n",
    "1.6 x>0 or y>0 or y=0 and  y<0 or x<=0"
   ]
  },
  {
   "cell_type": "markdown",
   "metadata": {},
   "source": [
    "## EXERCÍCIO 2"
   ]
  },
  {
   "cell_type": "code",
   "execution_count": 5,
   "metadata": {},
   "outputs": [
    {
     "name": "stdout",
     "output_type": "stream",
     "text": [
      "x    y    x>=y\n",
      "7    7    True\n",
      "7    8    False\n",
      "8    8    True\n"
     ]
    }
   ],
   "source": [
    "print(\"x    y    x>=y\")\n",
    "x=7\n",
    "y=7\n",
    "print(x,\"  \",y,\"  \",x>=y)\n",
    "x=7\n",
    "y=8\n",
    "print(x,\"  \",y,\"  \",x>=y)\n",
    "x=8\n",
    "y=8\n",
    "print(x,\"  \",y,\"  \",x>=y)\n"
   ]
  },
  {
   "cell_type": "code",
   "execution_count": 6,
   "metadata": {},
   "outputs": [
    {
     "name": "stdout",
     "output_type": "stream",
     "text": [
      "x    y    x<=y\n",
      "8    7    False\n",
      "4    7    True\n",
      "4    4    True\n"
     ]
    }
   ],
   "source": [
    "print(\"x    y    x<=y\")\n",
    "x=8\n",
    "y=7\n",
    "print(x,\"  \",y,\"  \",x<=y)\n",
    "x=4\n",
    "y=7\n",
    "print(x,\"  \",y,\"  \",x<=y)\n",
    "x=4\n",
    "y=4\n",
    "print(x,\"  \",y,\"  \",x<=y)"
   ]
  },
  {
   "cell_type": "code",
   "execution_count": 7,
   "metadata": {},
   "outputs": [
    {
     "name": "stdout",
     "output_type": "stream",
     "text": [
      "x   y    x!=y\n",
      "8    4    True\n",
      "4    8    True\n",
      "4    4    False\n"
     ]
    }
   ],
   "source": [
    "print(\"x   y    x!=y\")\n",
    "x=8\n",
    "y=4\n",
    "print(x,\"  \",y,\"  \",x!=y)\n",
    "x=4\n",
    "y=8\n",
    "print(x,\"  \",y,\"  \",x!=y)\n",
    "x=4\n",
    "y=4\n",
    "print(x,\"  \",y,\"  \",x!=y)"
   ]
  },
  {
   "cell_type": "code",
   "execution_count": 10,
   "metadata": {},
   "outputs": [
    {
     "name": "stdout",
     "output_type": "stream",
     "text": [
      "x     0 ≤ x ≤ ∞\n",
      "-1     False\n",
      "71178     True\n"
     ]
    }
   ],
   "source": [
    "print(\"x     0 ≤ x ≤ ∞\")\n",
    "x=-1\n",
    "print(x,\"   \",0<=x and x>0)\n",
    "x=71178\n",
    "print(x,\"   \",0<=x and x>0)\n"
   ]
  },
  {
   "cell_type": "code",
   "execution_count": 12,
   "metadata": {},
   "outputs": [
    {
     "name": "stdout",
     "output_type": "stream",
     "text": [
      "x    y   x>0 → y>=0\n",
      "6    5    True\n",
      "5    6    True\n",
      "3    -2    False\n",
      "6    -3    False\n"
     ]
    }
   ],
   "source": [
    "print(\"x    y   x>0 → y>=0\")\n",
    "x=6\n",
    "y=5\n",
    "print(x,\"  \",y,\"  \", not x>0 or y>=0)\n",
    "x=5\n",
    "y=6\n",
    "print(x,\"  \",y,\"  \", not x>0 or y>=0)\n",
    "x= 3\n",
    "y= -2\n",
    "print(x,\"  \",y,\"  \", not x>0 or y>=0)\n",
    "x= 6\n",
    "y=-3\n",
    "print(x,\"  \",y,\"  \", not x>0 or y>=0)"
   ]
  },
  {
   "cell_type": "code",
   "execution_count": 14,
   "metadata": {},
   "outputs": [
    {
     "name": "stdout",
     "output_type": "stream",
     "text": [
      "x     y   x<=0 ↔ y>=0\n",
      "-8    7    True\n",
      "-8   -7    True\n",
      "8    -7    True\n",
      "8     7    True\n"
     ]
    }
   ],
   "source": [
    "print(\"x     y   x<=0 ↔ y>=0\")\n",
    "x=-8\n",
    "y=7\n",
    "print(x,\"  \",y,\"  \",not x<=0 or y>=0 and not y>=0 or x<=0)\n",
    "x=-8\n",
    "y=-7\n",
    "print(x,\" \",y,\"  \",not x<=0 or y>=0 and not y>=0 or x<=0)\n",
    "x=8\n",
    "y=-7\n",
    "print(x,\"  \",y,\"  \",not x<=0 or y>=0 and not y>=0 or x<=0)\n",
    "x= 8\n",
    "y=7\n",
    "print(x,\"   \",y,\"  \",not x<=0 or y>=0 and not y>=0 or x<=0)"
   ]
  },
  {
   "cell_type": "markdown",
   "metadata": {},
   "source": [
    "## EXERCÍCIO 3"
   ]
  },
  {
   "cell_type": "code",
   "execution_count": 10,
   "metadata": {},
   "outputs": [
    {
     "name": "stdout",
     "output_type": "stream",
     "text": [
      "p         h        p ⊗ h\n",
      "True      False     True\n",
      "False     True      True\n",
      "True      True      False\n",
      "False     False     False\n"
     ]
    }
   ],
   "source": [
    "print(\"p         h        p ⊗ h\")\n",
    "p = True\n",
    "h = False\n",
    "print(p,\"    \",h,\"   \", p ^ h)\n",
    "p= False\n",
    "h= True \n",
    "print(p,\"   \",h,\"    \", p ^ h)\n",
    "p= True \n",
    "h= True \n",
    "print(p,\"    \",h,\"    \", p ^ h)\n",
    "p= False\n",
    "h= False \n",
    "print(p,\"   \",h,\"   \", p ^ h)\n"
   ]
  },
  {
   "cell_type": "code",
   "execution_count": 7,
   "metadata": {},
   "outputs": [
    {
     "name": "stdout",
     "output_type": "stream",
     "text": [
      "p        h          p ⊗ h\n",
      "True     False      True\n",
      "False    True       True\n",
      "True     True       False\n",
      "False    False      False\n"
     ]
    }
   ],
   "source": [
    "print(\"p        h          p ⊗ h\")\n",
    "p = True\n",
    "h = False\n",
    "print(p,\"   \",h,\"    \", (p and not h) or (not p and h ))\n",
    "p= False\n",
    "h= True \n",
    "print(p,\"  \",h,\"     \", (p and not h) or (not p and h ))\n",
    "p= True \n",
    "h= True \n",
    "print(p,\"   \",h,\"     \", (p and not h) or (not p and h ))\n",
    "p= False\n",
    "h= False \n",
    "print(p,\"  \",h,\"    \", (p and not h) or (not p and h ))\n"
   ]
  },
  {
   "cell_type": "markdown",
   "metadata": {},
   "source": [
    "## EXERCÍCIO 4 "
   ]
  },
  {
   "cell_type": "code",
   "execution_count": 27,
   "metadata": {},
   "outputs": [
    {
     "name": "stdout",
     "output_type": "stream",
     "text": [
      "x    y     x<=0c y>=0      \n",
      "True    False    True\n",
      "False    True    True\n",
      "True    True    True\n",
      "False    False    True\n",
      " Após resolver a tabela de verdade ↔, atribuindo V e F na mesma sequência para as variáveis, e compará-la com as feitas no exercício anterior, nota-se que são opostas\n"
     ]
    }
   ],
   "source": [
    "print(\"x    y     x<=0 ↔ y>=0      \")\n",
    "x= True\n",
    "y= False\n",
    "print(x,\"  \",y,\"  \",not x or y and not y or x)\n",
    "x= False\n",
    "y= True\n",
    "print(x,\"  \",y,\"  \",not x or y and not y or x)\n",
    "x= True \n",
    "y= True\n",
    "print(x,\"  \",y,\"  \",not x or y and not y or x)\n",
    "x= False \n",
    "y= False\n",
    "print(x,\"  \",y,\"  \",not x or y and not y or x)\n",
    "\n",
    "\n",
    "\n",
    "print(\" Após resolver a tabela de verdade ↔, atribuindo V e F na mesma sequência para as variáveis, e compará-la com as feitas no exercício anterior, nota-se que são opostas\") \n"
   ]
  },
  {
   "cell_type": "markdown",
   "metadata": {},
   "source": [
    "## EXERCÍCIO 5"
   ]
  },
  {
   "cell_type": "code",
   "execution_count": null,
   "metadata": {},
   "outputs": [],
   "source": [
    "5.1 x>y\n",
    "5.2 x<y or x=y\n",
    "5.3 x>y or x=y and x<y False \n",
    "5.4 x<y or x=y or x>y\n",
    "5.5 0<x or x=0 and x<10 or x=10\n",
    "5.6 not a and b \n",
    "5.7 a or b \n",
    "5.8 a and not b\n",
    "5.9 a or b "
   ]
  },
  {
   "cell_type": "markdown",
   "metadata": {},
   "source": [
    "## EXERÍCIO 6 "
   ]
  },
  {
   "cell_type": "code",
   "execution_count": 19,
   "metadata": {},
   "outputs": [
    {
     "name": "stdout",
     "output_type": "stream",
     "text": [
      "a         b       ¬ (a ∨ ¬ b)\n",
      "True      False      False\n",
      "True      True       False\n",
      "False      False     False\n",
      "False      True      True\n"
     ]
    }
   ],
   "source": [
    "print(\"a         b       ¬ (a ∨ ¬ b)\")\n",
    "a= True \n",
    "b= False \n",
    "print(a,\"    \",b,\"    \", not a and b)\n",
    "a= True \n",
    "b= True \n",
    "print(a,\"    \",b,\"     \", not a and b)\n",
    "a= False\n",
    "b= False \n",
    "print(a,\"    \",b,\"   \", not a and b)\n",
    "a= False\n",
    "b= True \n",
    "print(a,\"    \",b,\"    \", not a and b)"
   ]
  },
  {
   "cell_type": "code",
   "execution_count": 33,
   "metadata": {},
   "outputs": [
    {
     "name": "stdout",
     "output_type": "stream",
     "text": [
      "a         b       ¬ a → b\n",
      "True      False      True\n",
      "True      True      True\n",
      "False      False      False\n",
      "False      True      True\n"
     ]
    }
   ],
   "source": [
    "print(\"a         b       ¬ a → b\")\n",
    "a= True \n",
    "b= False \n",
    "print(a,\"    \",b,\"    \", a or b)\n",
    "a= True \n",
    "b= True \n",
    "print(a,\"    \",b,\"    \", a or b)\n",
    "a= False\n",
    "b= False \n",
    "print(a,\"    \",b,\"    \", a or b)\n",
    "a= False\n",
    "b= True \n",
    "print(a,\"    \",b,\"    \", a or b)"
   ]
  },
  {
   "cell_type": "code",
   "execution_count": 20,
   "metadata": {},
   "outputs": [
    {
     "name": "stdout",
     "output_type": "stream",
     "text": [
      "a      b          ¬( a → b)\n",
      "True      False      True\n",
      "True      True      False\n",
      "False      False      False\n",
      "False      True      False\n"
     ]
    }
   ],
   "source": [
    "print(\"a      b          ¬( a → b)\")\n",
    "a= True \n",
    "b= False \n",
    "print(a,\"    \",b,\"    \", a and not b)\n",
    "a= True \n",
    "b= True \n",
    "print(a,\"    \",b,\"    \", a and not b)\n",
    "a= False\n",
    "b= False \n",
    "print(a,\"    \",b,\"    \", a and not b)\n",
    "a= False\n",
    "b= True \n",
    "print(a,\"    \",b,\"    \", a and not b)\n"
   ]
  },
  {
   "cell_type": "code",
   "execution_count": 22,
   "metadata": {},
   "outputs": [
    {
     "name": "stdout",
     "output_type": "stream",
     "text": [
      "a         b      ¬ (¬ a ∧ ¬ b)\n",
      "True      False      True\n",
      "True      True       True\n",
      "False      False     False\n",
      "False      True      True\n"
     ]
    }
   ],
   "source": [
    "print(\"a         b      ¬ (¬ a ∧ ¬ b)\")\n",
    "a= True \n",
    "b= False \n",
    "print(a,\"    \",b,\"    \", a or b)\n",
    "a= True \n",
    "b= True \n",
    "print(a,\"    \",b,\"     \", a or b)\n",
    "a= False\n",
    "b= False \n",
    "print(a,\"    \",b,\"   \", a or b)\n",
    "a= False\n",
    "b= True \n",
    "print(a,\"    \",b,\"    \", a or b)"
   ]
  },
  {
   "cell_type": "markdown",
   "metadata": {},
   "source": [
    "## EXERCÍCIO 7 "
   ]
  },
  {
   "cell_type": "markdown",
   "metadata": {},
   "source": [
    "São equivalentes entre si as expressões 5.7 e 5.9"
   ]
  },
  {
   "cell_type": "markdown",
   "metadata": {},
   "source": [
    "## EXERCÍCIO 8"
   ]
  },
  {
   "cell_type": "code",
   "execution_count": 43,
   "metadata": {},
   "outputs": [
    {
     "name": "stdout",
     "output_type": "stream",
     "text": [
      "A           B      ¬ (A ∧ B) ↔ (¬ A ∨ ¬ B)\n",
      "True       True       False\n",
      "True       False       True\n",
      "False       True       True\n",
      "False       True       True\n"
     ]
    }
   ],
   "source": [
    "print(\"A           B      ¬ (A ∧ B) ↔ (¬ A ∨ ¬ B)\")\n",
    "A= True \n",
    "B= True \n",
    "print(A,\"     \", B,\"     \", not A or not B )\n",
    "A= True \n",
    "B= False\n",
    "print(A,\"     \", B,\"     \", not A or not B )\n",
    "A= False\n",
    "B= True \n",
    "print(A,\"     \", B,\"     \", not A or not B )\n",
    "A= False\n",
    "b= False\n",
    "print(A,\"     \", B,\"     \", not A or not B )"
   ]
  },
  {
   "cell_type": "code",
   "execution_count": 44,
   "metadata": {},
   "outputs": [
    {
     "name": "stdout",
     "output_type": "stream",
     "text": [
      "A           B      ¬ (A ∧ B) ↔ (¬ A ∨ ¬ B)\n",
      "True       True       False\n",
      "True       False       True\n",
      "False       True       True\n",
      "False       True       True\n"
     ]
    }
   ],
   "source": [
    "print(\"A           B      ¬ (A ∧ B) ↔ (¬ A ∨ ¬ B)\")\n",
    "A= True \n",
    "B= True \n",
    "print(A,\"     \", B,\"     \", not (A and  B))\n",
    "A= True \n",
    "B= False\n",
    "print(A,\"     \", B,\"     \", not (A and  B))\n",
    "A= False\n",
    "B= True \n",
    "print(A,\"     \", B,\"     \", not (A and  B))\n",
    "A= False\n",
    "b= False\n",
    "print(A,\"     \", B,\"     \", not (A and  B))"
   ]
  },
  {
   "cell_type": "code",
   "execution_count": 48,
   "metadata": {},
   "outputs": [
    {
     "name": "stdout",
     "output_type": "stream",
     "text": [
      "A           B     ¬ (A ∨ B) ↔ (¬ A ∧ ¬ B)\n",
      "True       True       False\n",
      "True       False       False\n",
      "False       True       False\n",
      "False       True       False\n"
     ]
    }
   ],
   "source": [
    "print(\"A           B     ¬ (A ∨ B) ↔ (¬ A ∧ ¬ B)\")\n",
    "A= True \n",
    "B= True \n",
    "print(A,\"     \", B,\"     \", not (A or B))\n",
    "A= True \n",
    "B= False\n",
    "print(A,\"     \", B,\"     \", not (A or  B))\n",
    "A= False\n",
    "B= True \n",
    "print(A,\"     \", B,\"     \", not (A or  B))\n",
    "A= False\n",
    "b= False\n",
    "print(A,\"     \", B,\"     \", not (A or B))"
   ]
  },
  {
   "cell_type": "code",
   "execution_count": 49,
   "metadata": {},
   "outputs": [
    {
     "name": "stdout",
     "output_type": "stream",
     "text": [
      "A           B     ¬ (A ∨ B) ↔ (¬ A ∧ ¬ B)\n",
      "True       True       False\n",
      "True       False       False\n",
      "False       True       False\n",
      "False       True       False\n"
     ]
    }
   ],
   "source": [
    "print(\"A           B     ¬ (A ∨ B) ↔ (¬ A ∧ ¬ B)\")\n",
    "A= True \n",
    "B= True \n",
    "print(A,\"     \", B,\"     \", not A and not B)\n",
    "A= True \n",
    "B= False\n",
    "print(A,\"     \", B,\"     \", not A and not B)\n",
    "A= False\n",
    "B= True \n",
    "print(A,\"     \", B,\"     \", not A and not  B)\n",
    "A= False\n",
    "b= False\n",
    "print(A,\"     \", B,\"     \", not A and not B)"
   ]
  },
  {
   "cell_type": "markdown",
   "metadata": {},
   "source": [
    "Através da comparação das tabelas de verdade acima, verifica-se que o Teorema de De Morgan é válido."
   ]
  },
  {
   "cell_type": "code",
   "execution_count": null,
   "metadata": {},
   "outputs": [],
   "source": []
  }
 ],
 "metadata": {
  "kernelspec": {
   "display_name": "Python 3",
   "language": "python",
   "name": "python3"
  },
  "language_info": {
   "codemirror_mode": {
    "name": "ipython",
    "version": 3
   },
   "file_extension": ".py",
   "mimetype": "text/x-python",
   "name": "python",
   "nbconvert_exporter": "python",
   "pygments_lexer": "ipython3",
   "version": "3.7.1"
  }
 },
 "nbformat": 4,
 "nbformat_minor": 2
}
