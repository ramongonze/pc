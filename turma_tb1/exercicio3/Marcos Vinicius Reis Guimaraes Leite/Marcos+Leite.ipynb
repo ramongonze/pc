{
 "cells": [
  {
   "cell_type": "markdown",
   "metadata": {
    "collapsed": true
   },
   "source": [
    "# Aluno: Marcos Vinicius Reis Guimaraes Leite  MAT: 2018085870\n",
    "Turma: TB1 Engenharia Ambiental"
   ]
  },
  {
   "cell_type": "code",
   "execution_count": 19,
   "metadata": {},
   "outputs": [
    {
     "name": "stdout",
     "output_type": "stream",
     "text": [
      "Exercicio 1\n",
      "1.1)x    y     x>=y\n",
      "1.2)x    y     x<=y\n",
      "1.3)x    y     x!=y\n",
      "1.4)x    y     x>=0 or x<=infinito\n",
      "1.5)x    y     a=x>0; b=y>0, not a or b\n",
      "1.6)x    y     a=x<=0; b=y>=0, not a or b and not b or a\n"
     ]
    }
   ],
   "source": [
    "print(\"Exercicio 1\")\n",
    "print(\"1.1)x    y     x>=y\")\n",
    "print(\"1.2)x    y     x<=y\")\n",
    "print(\"1.3)x    y     x!=y\")\n",
    "print(\"1.4)x    y     x>=0 or x<=infinito\")\n",
    "print(\"1.5)x    y     a=x>0; b=y>0, not a or b\")\n",
    "print(\"1.6)x    y     a=x<=0; b=y>=0, not a or b and not b or a\")"
   ]
  },
  {
   "cell_type": "code",
   "execution_count": 57,
   "metadata": {},
   "outputs": [
    {
     "name": "stdout",
     "output_type": "stream",
     "text": [
      "Exercicio 2.1\n",
      " x    y     x>=y \n",
      "750   218   True\n",
      "750   750   True\n",
      "218   750   False\n",
      "218   218   True\n"
     ]
    }
   ],
   "source": [
    "print (\"Exercicio 2.1\")\n",
    "print ( \" x    y     x>=y \")\n",
    "x = 750; y = 218 \n",
    "print (x, \" \" ,y, \" \" , x>=y)\n",
    "x = 750; y = 750 \n",
    "print (x, \" \" ,y, \" \" , x>=y)\n",
    "x = 218; y = 750\n",
    "print (x, \" \" ,y, \" \" , x>=y)\n",
    "x = 218; y = 218\n",
    "print (x, \" \" ,y, \" \" , x>=y)"
   ]
  },
  {
   "cell_type": "code",
   "execution_count": 58,
   "metadata": {},
   "outputs": [
    {
     "name": "stdout",
     "output_type": "stream",
     "text": [
      "Exercicio 2.2\n",
      " x    y     x<=y \n",
      "750   218   False\n",
      "750   750   True\n",
      "218   750   True\n",
      "218   218   True\n"
     ]
    }
   ],
   "source": [
    "print (\"Exercicio 2.2\")\n",
    "print ( \" x    y     x<=y \")\n",
    "x = 750; y = 218 \n",
    "print (x, \" \" ,y, \" \" , x<=y)\n",
    "x = 750; y = 750 \n",
    "print (x, \" \" ,y, \" \" , x<=y)\n",
    "x = 218; y = 750\n",
    "print (x, \" \" ,y, \" \" , x<=y)\n",
    "x = 218; y = 218\n",
    "print (x, \" \" ,y, \" \" , x<=y)"
   ]
  },
  {
   "cell_type": "code",
   "execution_count": 59,
   "metadata": {},
   "outputs": [
    {
     "name": "stdout",
     "output_type": "stream",
     "text": [
      "Exercicio 2.3\n",
      " x    y     x!=y \n",
      "750   218   True\n",
      "750   750   False\n",
      "218   750   True\n",
      "218   218   False\n"
     ]
    }
   ],
   "source": [
    "print (\"Exercicio 2.3\")\n",
    "print ( \" x    y     x!=y \")\n",
    "x = 750; y = 218 \n",
    "print (x, \" \" ,y, \" \" , x!=y)\n",
    "x = 750; y = 750 \n",
    "print (x, \" \" ,y, \" \" , x!=y)\n",
    "x = 218; y = 750\n",
    "print (x, \" \" ,y, \" \" , x!=y)\n",
    "x = 218; y = 218\n",
    "print (x, \" \" ,y, \" \" , x!=y)"
   ]
  },
  {
   "cell_type": "code",
   "execution_count": 60,
   "metadata": {},
   "outputs": [
    {
     "name": "stdout",
     "output_type": "stream",
     "text": [
      "Exercicio 2.4\n",
      " x    y     x>=0 or x<=infinito \n",
      "750   218   True\n",
      "750   750   True\n",
      "218   750   True\n",
      "218   218   True\n"
     ]
    }
   ],
   "source": [
    "print (\"Exercicio 2.4\")\n",
    "print ( \" x    y     x>=0 or x<=infinito \")\n",
    "x = 750; y = 218 \n",
    "print (x, \" \" ,y, \" \" , x>=0 or x<=infinito)\n",
    "x = 750; y = 750  \n",
    "print (x, \" \" ,y, \" \" , x>=0 or x<=infinito)\n",
    "x = 218; y = 750\n",
    "print (x, \" \" ,y, \" \" , x>=0 or x<=infinito)\n",
    "x = 218; y = 218\n",
    "print (x, \" \" ,y, \" \" , x>=0 or x<=infinito)"
   ]
  },
  {
   "cell_type": "code",
   "execution_count": 61,
   "metadata": {},
   "outputs": [
    {
     "name": "stdout",
     "output_type": "stream",
     "text": [
      "Exercicio 2.5\n",
      "x      y     a=x>0; b=y>0, not a or b\n",
      "750   218   True True True\n",
      "750   750   True True True\n",
      "218   750   True True True\n",
      "218   218   True True True\n"
     ]
    }
   ],
   "source": [
    "print (\"Exercicio 2.5\")\n",
    "print ( \"x      y     a=x>0; b=y>0, not a or b\")\n",
    "x = 750; y = 218; a=x>0; b=y>0\n",
    "print (x, \" \" ,y, \" \" , x>0, y>=0, not a or b)\n",
    "x = 750; y = 750; a=x>0; b=y>0\n",
    "print (x, \" \" ,y, \" \" , x>0, y>=0, not a or b)\n",
    "x = 218; y = 750; a=x>0; b=y>0\n",
    "print (x, \" \" ,y, \" \" , x>0, y>=0, not a or b)\n",
    "x = 218; y = 218; a=x>0; b=y>0\n",
    "print (x, \" \" ,y, \" \" , x>0, y>=0, not a or b)"
   ]
  },
  {
   "cell_type": "code",
   "execution_count": 62,
   "metadata": {},
   "outputs": [
    {
     "name": "stdout",
     "output_type": "stream",
     "text": [
      "Exercicio 2.6\n",
      "x      y     a=x<=0; b=y>=0, not a or b and not b or a\n",
      "750   218   False True True\n",
      "750   750   False True True\n",
      "218   750   False True True\n",
      "218   218   False True True\n"
     ]
    }
   ],
   "source": [
    "print (\"Exercicio 2.6\")\n",
    "print ( \"x      y     a=x<=0; b=y>=0, not a or b and not b or a\")\n",
    "x = 750; y = 218; a=x<=0; b=y>=0 \n",
    "print (x, \" \" ,y, \" \" , x<=0, y>=0, not a or b and not b or a)\n",
    "x = 750; y = 750; a=x<=0; b=y>=0 \n",
    "print (x, \" \" ,y, \" \" , x<=0, y>=0, not a or b and not b or a)\n",
    "x = 218; y = 750; a=x<=0; b=y>=0 \n",
    "print (x, \" \" ,y, \" \" , x<=0, y>=0, not a or b and not b or a)\n",
    "x = 218; y = 218; a=x<=0; b=y>=0 \n",
    "print (x, \" \" ,y, \" \" , x<=0, y>=0, not a or b and not b or a)"
   ]
  },
  {
   "cell_type": "code",
   "execution_count": 45,
   "metadata": {},
   "outputs": [
    {
     "name": "stdout",
     "output_type": "stream",
     "text": [
      "Exercicio 3.1\n",
      "Tabela de verdade da operação lógica XOR:\n",
      "False   False   False\n",
      "False   True   True\n",
      "True   False   True\n",
      "True   True   False\n"
     ]
    }
   ],
   "source": [
    "print(\"Exercicio 3.1\")\n",
    "print(\"Tabela de verdade da operação lógica XOR:\")\n",
    "a=False; b=False\n",
    "print(a,\" \",b,\" \", (a and not b) or (not a and b))\n",
    "a=False; b=True\n",
    "print(a,\" \",b,\" \", (a and not b) or (not a and b))\n",
    "a=True;  b=False\n",
    "print(a,\" \",b,\" \", (a and not b) or (not a and b))\n",
    "a=True;  b=True\n",
    "print(a,\" \",b,\" \", (a and not b) or (not a and b))"
   ]
  },
  {
   "cell_type": "code",
   "execution_count": 65,
   "metadata": {},
   "outputs": [
    {
     "name": "stdout",
     "output_type": "stream",
     "text": [
      "Exercicio 3.2\n",
      "x>0   y<0  XOR\n",
      "True False True\n",
      "True False True\n",
      "True False True\n"
     ]
    }
   ],
   "source": [
    "print(\"Exercicio 3.2\")\n",
    "print (\"x>0   y<0  XOR\")\n",
    "x=750; y=218; a=x>0; b=y<0\n",
    "print (x>0, y<0, not (a and b) and (not (not a and not b)))\n",
    "x=750; y=218; a=x>0; b=y<0\n",
    "print (x>0, y<0, not (a and b) and (not (not a and not b)))\n",
    "x=750; y=218; a=x>0; b=y<0\n",
    "print (x>0, y<0, not (a and b) and (not (not a and not b)))"
   ]
  },
  {
   "cell_type": "code",
   "execution_count": 81,
   "metadata": {},
   "outputs": [
    {
     "name": "stdout",
     "output_type": "stream",
     "text": [
      "Exercicio 4\n",
      "False   False   True\n",
      "False   True   False\n",
      "True   False   True\n",
      "True   True   True\n"
     ]
    }
   ],
   "source": [
    "print (\"Exercicio 4\")\n",
    "\n",
    "a=False; b=False\n",
    "print(a,\" \",b,\" \", (not a and not b) or (a and not b))\n",
    "a=False; b=True\n",
    "print(a,\" \",b,\" \", (not a and not b) or (a and not b))\n",
    "a=True;  b=False\n",
    "print(a,\" \",b,\" \", (not a and not b) or (a and not b))\n",
    "a=True;  b=True\n",
    "print(a,\" \",b,\" \", (not a and b) or (a and b))"
   ]
  },
  {
   "cell_type": "code",
   "execution_count": 84,
   "metadata": {},
   "outputs": [
    {
     "name": "stdout",
     "output_type": "stream",
     "text": [
      "Exercicio 5\n",
      "5.1- not(x<=y)\n",
      "5.2- not(x>y)\n",
      "5.3- x>=y and x<y\n",
      "5.4- x<=y or x>y\n",
      "5.5- x>=0 and x<=10\n",
      "5.6- a or not b\n",
      "5.7- not b or a\n",
      "5.8- not(not a or b)\n",
      "5.9- not a or not b\n"
     ]
    }
   ],
   "source": [
    "print (\"Exercicio 5\")\n",
    "\n",
    "print (\"5.1- not(x<=y)\")\n",
    "print (\"5.2- not(x>y)\")\n",
    "print (\"5.3- x>=y and x<y\")\n",
    "print (\"5.4- x<=y or x>y\")\n",
    "print (\"5.5- x>=0 and x<=10\")\n",
    "print (\"5.6- a or not b\")\n",
    "print (\"5.7- not b or a\")\n",
    "print (\"5.8- not(not a or b)\")\n",
    "print (\"5.9- not a or not b\")"
   ]
  },
  {
   "cell_type": "code",
   "execution_count": 80,
   "metadata": {},
   "outputs": [
    {
     "name": "stdout",
     "output_type": "stream",
     "text": [
      "Exercicio 6\n",
      "5.6\n",
      "True True False\n",
      "False False False\n",
      "True False True\n",
      "False True False\n",
      "--------------------------------\n",
      "5.7\n",
      "True True True\n",
      "False False True\n",
      "True False True\n",
      "False True False\n",
      "--------------------------------\n",
      "5.8\n",
      "True True False\n",
      "False False False\n",
      "True False True\n",
      "False True False\n",
      "--------------------------------\n",
      "5.9\n",
      "True True False\n",
      "False False True\n",
      "True False True\n",
      "False True True\n"
     ]
    }
   ],
   "source": [
    "print (\"Exercicio 6\")\n",
    "\n",
    "print(\"5.6\")\n",
    "x=750; y=218; a=x>0; b=y>=0\n",
    "print (x>0, y>=0, a and not b)\n",
    "x=-218; y=-750; a=x>0; b=y>=0\n",
    "print (x>0, y>=0, a and not b)\n",
    "x=218; y=-218; a=x>0; b=y>=0\n",
    "print (x>0, y>=0, a and not b)\n",
    "x=-218; y=750; a=x>0; b=y>=0\n",
    "print (x>0, y>=0, a and not b)\n",
    "print(\"--------------------------------\")\n",
    "print(\"5.7\")\n",
    "x=750; y=218; a=x>0; b=y>=0\n",
    "print (x>0, y>=0, not b or a)\n",
    "x=-218; y=-750; a=x>0; b=y>=0\n",
    "print (x>0, y>=0, not b or a)\n",
    "x=218; y=-218; a=x>0; b=y>=0\n",
    "print (x>0, y>=0, not b or a)\n",
    "x=-218; y=750; a=x>0; b=y>=0\n",
    "print (x>0, y>=0, not b or a)\n",
    "print(\"--------------------------------\")\n",
    "print(\"5.8\")\n",
    "x=750; y=218; a=x>0; b=y>=0\n",
    "print(x>0, y>=0, not(not a or b))\n",
    "x=-218; y=-750; a=x>0; b=y>=0\n",
    "print(x>0, y>=0, not(not a or b))\n",
    "x=218; y=-218; a=x>0; b=y>=0\n",
    "print(x>0, y>=0, not(not a or b))\n",
    "x=-218; y=750; a=x>0; b=y>=0\n",
    "print(x>0, y>=0, not(not a or b))\n",
    "print(\"--------------------------------\")\n",
    "print(\"5.9\")\n",
    "x=750; y=218; a=x>0; b=y>=0\n",
    "print (x>0, y>=0,not a or not b)\n",
    "x=-218; y=-750; a=x>0; b=y>=0\n",
    "print (x>0, y>=0,not a or not b)\n",
    "x=218; y=-218; a=x>0; b=y>=0\n",
    "print (x>0, y>=0,not a or not b)\n",
    "x=-218; y=750; a=x>0; b=y>=0\n",
    "print (x>0, y>=0,not a or not b)"
   ]
  },
  {
   "cell_type": "code",
   "execution_count": 86,
   "metadata": {},
   "outputs": [
    {
     "name": "stdout",
     "output_type": "stream",
     "text": [
      "Exercicio 7\n",
      "As expressoes equivalentes entre si sao expressoes que possuem formulas diferentes, porem resultam em uma mesma tabela\n",
      "5.6\n",
      "True True False\n",
      "False False False\n",
      "True False True\n",
      "False True False\n",
      "--------------------------------\n",
      "5.8\n",
      "True True False\n",
      "False False False\n",
      "True False True\n",
      "False True False\n",
      "--------------------------------\n",
      "Dessa forma, como ambas tabelas são iguais, podemos afirmar que o 5.6) e o 5.8) sao equivalentes entre si\n"
     ]
    }
   ],
   "source": [
    "print (\"Exercicio 7\")\n",
    "\n",
    "print(\"As expressoes equivalentes entre si sao expressoes que possuem formulas diferentes, porem resultam em uma mesma tabela\")\n",
    "\n",
    "print(\"5.6\")\n",
    "x=750; y=218; a=x>0; b=y>=0\n",
    "print (x>0, y>=0, a and not b)\n",
    "x=-218; y=-750; a=x>0; b=y>=0\n",
    "print (x>0, y>=0, a and not b)\n",
    "x=218; y=-218; a=x>0; b=y>=0\n",
    "print (x>0, y>=0, a and not b)\n",
    "x=-218; y=750; a=x>0; b=y>=0\n",
    "print (x>0, y>=0, a and not b)\n",
    "print(\"--------------------------------\")\n",
    "print(\"5.8\")\n",
    "x=750; y=218; a=x>0; b=y>=0\n",
    "print(x>0, y>=0, not(not a or b))\n",
    "x=-218; y=-750; a=x>0; b=y>=0\n",
    "print(x>0, y>=0, not(not a or b))\n",
    "x=218; y=-218; a=x>0; b=y>=0\n",
    "print(x>0, y>=0, not(not a or b))\n",
    "x=-218; y=750; a=x>0; b=y>=0\n",
    "print(x>0, y>=0, not(not a or b))\n",
    "print(\"--------------------------------\")\n",
    "\n",
    "print(\"Dessa forma, como ambas tabelas são iguais, podemos afirmar que o 5.6) e o 5.8) sao equivalentes entre si\")\n",
    "\n"
   ]
  },
  {
   "cell_type": "code",
   "execution_count": 89,
   "metadata": {},
   "outputs": [
    {
     "name": "stdout",
     "output_type": "stream",
     "text": [
      "Exercicio 8\n",
      "se not(a and b) é igual a (not a or not b) entao as tabelas resultantes devem ser iguais)\n",
      "--------------------------------\n",
      "tabela not(a and b)\n",
      "False   False   True\n",
      "False   True   True\n",
      "True   False   True\n",
      "True   True   False\n",
      "--------------------------------\n",
      "tabela (not a or not b)\n",
      "False   False   True\n",
      "False   True   True\n",
      "True   False   True\n",
      "True   True   False\n",
      "--------------------------------\n",
      "se not(a or b) é igual a (not a and not b) entao as tabelas resultantes devem ser iguais)\n",
      "tabela not(a or b)\n",
      "False   False   True\n",
      "False   True   False\n",
      "True   False   False\n",
      "True   True   False\n",
      "--------------------------------\n",
      "tabela (not a and not b)\n",
      "False   False   True\n",
      "False   True   False\n",
      "True   False   False\n",
      "True   True   False\n",
      "--------------------------------\n",
      "Dessa forma, se as tabelas são iguais, podemos afirmar que o Teorema de Morgan é válido\n"
     ]
    }
   ],
   "source": [
    "print (\"Exercicio 8\")\n",
    "\n",
    "print(\"se not(a and b) é igual a (not a or not b) entao as tabelas resultantes devem ser iguais)\")\n",
    "print(\"--------------------------------\")\n",
    "print(\"tabela not(a and b)\")\n",
    "a=False; b=False\n",
    "print(a,\" \",b,\" \", not(a and b))\n",
    "a=False; b=True\n",
    "print(a,\" \",b,\" \", not(a and b))\n",
    "a=True;  b=False\n",
    "print(a,\" \",b,\" \", not(a and b))\n",
    "a=True;  b=True\n",
    "print(a,\" \",b,\" \", not(a and b))\n",
    "print(\"--------------------------------\")\n",
    "print(\"tabela (not a or not b)\")\n",
    "a=False; b=False\n",
    "print(a,\" \",b,\" \", (not a or not b))\n",
    "a=False; b=True\n",
    "print(a,\" \",b,\" \", (not a or not b))\n",
    "a=True;  b=False\n",
    "print(a,\" \",b,\" \", (not a or not b))\n",
    "a=True;  b=True\n",
    "print(a,\" \",b,\" \", (not a or not b))\n",
    "print(\"--------------------------------\")\n",
    "print(\"se not(a or b) é igual a (not a and not b) entao as tabelas resultantes devem ser iguais)\")\n",
    "print(\"tabela not(a or b)\")\n",
    "a=False; b=False\n",
    "print(a,\" \",b,\" \", not(a or b))\n",
    "a=False; b=True\n",
    "print(a,\" \",b,\" \", not(a or b))\n",
    "a=True;  b=False\n",
    "print(a,\" \",b,\" \", not(a or b))\n",
    "a=True;  b=True\n",
    "print(a,\" \",b,\" \", not(a or b))\n",
    "print(\"--------------------------------\")\n",
    "print(\"tabela (not a and not b)\")\n",
    "a=False; b=False\n",
    "print(a,\" \",b,\" \", (not a and not b))\n",
    "a=False; b=True\n",
    "print(a,\" \",b,\" \", (not a and not b))\n",
    "a=True;  b=False\n",
    "print(a,\" \",b,\" \", (not a and not b))\n",
    "a=True;  b=True\n",
    "print(a,\" \",b,\" \", (not a and not b))\n",
    "print(\"--------------------------------\")\n",
    "print(\"Dessa forma, se as tabelas são iguais, podemos afirmar que o Teorema de Morgan é válido\")\n",
    "\n",
    "\n",
    "\n"
   ]
  },
  {
   "cell_type": "code",
   "execution_count": null,
   "metadata": {
    "collapsed": true
   },
   "outputs": [],
   "source": []
  }
 ],
 "metadata": {
  "kernelspec": {
   "display_name": "Python 3",
   "language": "python",
   "name": "python3"
  },
  "language_info": {
   "codemirror_mode": {
    "name": "ipython",
    "version": 3
   },
   "file_extension": ".py",
   "mimetype": "text/x-python",
   "name": "python",
   "nbconvert_exporter": "python",
   "pygments_lexer": "ipython3",
   "version": "3.6.1"
  }
 },
 "nbformat": 4,
 "nbformat_minor": 2
}
