{
 "cells": [
  {
   "cell_type": "markdown",
   "metadata": {},
   "source": [
    "# 1. Expressões com operadores lógicos"
   ]
  },
  {
   "cell_type": "markdown",
   "metadata": {},
   "source": [
    "1.1 x>=y \n",
    "1.2 x<=y \n",
    "1.3 x!=y \n",
    "1.4 x>=0 and x<=infinito\n",
    "1.5 x>0, y>=0, a=x=0, b=y>=0, not a or b\n",
    "1.6 x<=0, y>=0, a=x<=0, b=y>=0, not a or b and not b or a"
   ]
  },
  {
   "cell_type": "markdown",
   "metadata": {},
   "source": [
    "# 2. Usando números de matrícula"
   ]
  },
  {
   "cell_type": "code",
   "execution_count": 35,
   "metadata": {},
   "outputs": [
    {
     "name": "stdout",
     "output_type": "stream",
     "text": [
      "1.1\n",
      " x    y     x>=y \n",
      "855   201   True\n",
      "158   258   False\n",
      "205   851   False\n",
      ".\n",
      "1.2\n",
      " x     y      x<=y\n",
      "100   201   True\n",
      "201   158   False\n",
      "855   201   False\n",
      ".\n",
      "1.3\n",
      " x      y       x!=y\n",
      "855   855   False\n",
      ".\n",
      "1.4\n",
      " x>=0 e x<=infinito\n",
      "501 True\n",
      ".\n",
      "1.5\n",
      "True True True\n",
      "False True True\n",
      "False False True\n",
      ".\n",
      "1.6\n",
      "False True True\n",
      "True True True\n",
      "True False True\n"
     ]
    }
   ],
   "source": [
    "import math\n",
    "print (\"1.1\")\n",
    "print (\" x    y     x>=y \") \n",
    "x=855; y=201\n",
    "print (x, \" \",y, \" \", x>=y)\n",
    "x=158; y=258\n",
    "print (x, \" \",y, \" \", x>=y)\n",
    "x=205; y=851\n",
    "print (x, \" \",y, \" \", x>=y)\n",
    "x=100; y=201\n",
    "print(\".\")\n",
    "print (\"1.2\")\n",
    "print (\" x     y      x<=y\")\n",
    "print (x, \" \",y, \" \", x<=y)\n",
    "x=201; y=158\n",
    "print (x, \" \",y, \" \", x<=y )\n",
    "x=855; y=201\n",
    "print (x, \" \", y, \" \", x<=y)\n",
    "x=128; y=855\n",
    "print(\".\")\n",
    "print (\"1.3\")\n",
    "print (\" x      y       x!=y\")\n",
    "x=855; y=855\n",
    "print (x, \" \",y,\" \", x!=y)\n",
    "x=501; y=201\n",
    "print(\".\")\n",
    "print (\"1.4\")\n",
    "print (\" x>=0 e x<=infinito\")\n",
    "print(x , x>=0 and x<=math.inf)\n",
    "x=855\n",
    "print(\".\")\n",
    "print (\"1.5\")\n",
    "x=285; y=855; a=x>0; b=y>=0\n",
    "print (x>0, y>=0, not a or b)\n",
    "x=0; y=501; a=x>0; b=y>=0\n",
    "print (x>0, y>=0, not a or b)\n",
    "x=0; y=-150; a=x>0; b=y>=0\n",
    "print (x>0, y>=0, not a or b)\n",
    "print(\".\")\n",
    "print (\"1.6\")\n",
    "x=855; y=855; a=x<=0; b=y>=0\n",
    "print (x<=0, y>=0, not a or b and not b or a)\n",
    "x=-500; y=855; a=x<=0; b=y>=0\n",
    "print (x<=0, y>=0, not a or b and not b or a)\n",
    "x=-855; y=-201; a=x<=0; b=y>=0\n",
    "print (x<=0, y>=0, not a or b and not b or a)"
   ]
  },
  {
   "cell_type": "markdown",
   "metadata": {},
   "source": [
    "# 3.1. Tabela de verdade"
   ]
  },
  {
   "cell_type": "code",
   "execution_count": 27,
   "metadata": {},
   "outputs": [
    {
     "name": "stdout",
     "output_type": "stream",
     "text": [
      " a       b      a E b\n",
      "False   False   False\n",
      "False   True   False\n",
      "True   True   True\n",
      "True   False   False\n"
     ]
    }
   ],
   "source": [
    "print(\" a       b      a E b\")\n",
    "a=False; b=False\n",
    "print (a,\" \", b,\" \", a and b)\n",
    "a=False; b=True\n",
    "print (a,\" \", b,\" \", a and b)\n",
    "a=True; b=True\n",
    "print (a,\" \", b,\" \", a and b)\n",
    "a=True; b=False\n",
    "print (a,\" \", b, \" \", a and b)"
   ]
  },
  {
   "cell_type": "markdown",
   "metadata": {},
   "source": [
    "# 3.2. Tabela XOR com numeros de matricula"
   ]
  },
  {
   "cell_type": "code",
   "execution_count": 8,
   "metadata": {},
   "outputs": [
    {
     "name": "stdout",
     "output_type": "stream",
     "text": [
      "x>0   y<0  XOR\n",
      "True False True\n",
      "False True True\n",
      "False False False\n"
     ]
    }
   ],
   "source": [
    "print (\"x>0   y<0  XOR\")\n",
    "x=888; y=500; a=x>0; b=y<0\n",
    "print (x>0, y<0, not (a and b) and (not (not a and not b)))\n",
    "x=-588; y=-201; a=x>0; b=y<0\n",
    "print (x>0, y<0, not (a and b) and (not (not a and not b)))\n",
    "x=-218; y=888; a=x>0; b=y<0\n",
    "print (x>0, y<0, not (a and b) and (not (not a and not b)))"
   ]
  },
  {
   "cell_type": "markdown",
   "metadata": {},
   "source": [
    "4. Após comparar as tabelas, cheguei a conclusão de que xor equivale a [(a and not b) or (not a and b)] que, por sua vez, equivale a ^ (and)"
   ]
  },
  {
   "cell_type": "markdown",
   "metadata": {
    "collapsed": true
   },
   "source": [
    "# 5. Equivalência das expressões"
   ]
  },
  {
   "cell_type": "code",
   "execution_count": 28,
   "metadata": {},
   "outputs": [
    {
     "name": "stdout",
     "output_type": "stream",
     "text": [
      "5.1: x>y\n",
      "5.2: x<y\n",
      "5.3: x>=y and x<y\n",
      "5.4: x<=y or x>y\n",
      "5.5: x>=0 and x<=10\n",
      "5.6: a and not b\n",
      "5.7: not b or a\n",
      "5.8: not(not a or b)\n",
      "5.9: not a or not b\n"
     ]
    }
   ],
   "source": [
    "print (\"5.1: x>y\")\n",
    "print (\"5.2: x<y\")\n",
    "print (\"5.3: x>=y and x<y\")\n",
    "print (\"5.4: x<=y or x>y\")\n",
    "print (\"5.5: x>=0 and x<=10\")\n",
    "print (\"5.6: a and not b\")\n",
    "print (\"5.7: not b or a\")\n",
    "print (\"5.8: not(not a or b)\")\n",
    "print (\"5.9: not a or not b\")"
   ]
  },
  {
   "cell_type": "markdown",
   "metadata": {},
   "source": [
    "# 6. Tabelas de Verdade"
   ]
  },
  {
   "cell_type": "code",
   "execution_count": 45,
   "metadata": {},
   "outputs": [
    {
     "name": "stdout",
     "output_type": "stream",
     "text": [
      "5.6\n",
      "True True False\n",
      "False False False\n",
      "True False True\n",
      "False True False\n",
      ".\n",
      "5.7\n",
      "True True True\n",
      "False False True\n",
      "True False True\n",
      "False True False\n",
      ".\n",
      "5.8\n",
      "True True False\n",
      "False False False\n",
      "True False True\n",
      "False True False\n",
      ".\n",
      "5.9\n",
      "True True False\n",
      "False False True\n",
      "True False True\n",
      "False True True\n"
     ]
    }
   ],
   "source": [
    "print (\"5.6\")\n",
    "x=855; y=201; a=x>0; b=y>=0\n",
    "print (x>0, y>=0, a and not b)\n",
    "x=-108; y=-200; a=x>0; b=y>=0\n",
    "print (x>0, y>=0, a and not b)\n",
    "x=100; y=-100; a=x>0; b=y>=0\n",
    "print (x>0, y>=0, a and not b)\n",
    "x=-120; y=855; a=x>0; b=y>=0\n",
    "print (x>0, y>=0, a and not b)\n",
    "print (\".\")\n",
    "print (\"5.7\")\n",
    "x=855; y=201; a=x>0; b=y>=0\n",
    "print (x>0, y>=0, not b or a)\n",
    "x=-108; y=-200; a=x>0; b=y>=0\n",
    "print (x>0, y>=0, not b or a)\n",
    "x=100; y=-100; a=x>0; b=y>=0\n",
    "print (x>0, y>=0, not b or a)\n",
    "x=-120; y=855; a=x>0; b=y>=0\n",
    "print (x>0, y>=0, not b or a)\n",
    "print (\".\")\n",
    "print (\"5.8\")\n",
    "x=855; y=201; a=x>0; b=y>=0\n",
    "print(x>0, y>=0, not(not a or b))\n",
    "x=-108; y=-200; a=x>0; b=y>=0\n",
    "print(x>0, y>=0, not(not a or b))\n",
    "x=100; y=-100; a=x>0; b=y>=0\n",
    "print(x>0, y>=0, not(not a or b))\n",
    "x=-120; y=855; a=x>0; b=y>=0\n",
    "print(x>0, y>=0, not(not a or b))\n",
    "print (\".\")\n",
    "print (\"5.9\")\n",
    "x=855; y=201; a=x>0; b=y>=0\n",
    "print (x>0, y>=0,not a or not b)\n",
    "x=-108; y=-200; a=x>0; b=y>=0\n",
    "print (x>0, y>=0,not a or not b)\n",
    "x=100; y=-100; a=x>0; b=y>=0\n",
    "print (x>0, y>=0,not a or not b)\n",
    "x=-120; y=855; a=x>0; b=y>=0\n",
    "print (x>0, y>=0,not a or not b)"
   ]
  },
  {
   "cell_type": "markdown",
   "metadata": {},
   "source": [
    "7. As expressões do tópico 5.8 e 5.6 sao iguais entre si"
   ]
  },
  {
   "cell_type": "markdown",
   "metadata": {},
   "source": [
    "# 8. Tabela de Verdade do Teorema de Morgan"
   ]
  },
  {
   "cell_type": "code",
   "execution_count": 88,
   "metadata": {},
   "outputs": [
    {
     "name": "stdout",
     "output_type": "stream",
     "text": [
      "Verificar se o Teorema de Morgan é valido:\n",
      ".\n",
      "1: a negação do E é o OU das negações\n",
      ".\n",
      "[not(a and b)] equivale a [not a or not b]?\n",
      ".\n",
      "x=200, y=520, a=x>0, b=y<=0\n",
      "not (a and b)\n",
      "True False True\n",
      "not a or not b\n",
      "True False True\n",
      ".\n",
      "x=-120; y=-155; a=x>0; b=y>=0\n",
      "not (a and b)\n",
      "False False True\n",
      "not a or not b\n",
      "False False True\n",
      ".\n",
      "Conslusão: [not(a and b)] equivale a [not a or not b]\n",
      ".\n",
      ".\n",
      "2: a negação do OU é o E das negações\n",
      ".\n",
      "[not(a or b) equivale a (not a and not b)?\n",
      ".\n",
      "x=200; y=520; a=x>=0; b=y<=0\n",
      "not (a or b)\n",
      "False True True\n",
      "not a and not b\n",
      "False True True\n",
      ".\n",
      "x=-120, y=-155, a=x>0, b=y>=0\n",
      "not (a or b)\n",
      "False False True\n",
      "not a and not b\n",
      "False False True\n",
      ".\n",
      "Conclusão:[not(a or b) equivale a (not a and not b)\n",
      "Conclusão: o Teorema de Morgan é verdadeiro\n"
     ]
    }
   ],
   "source": [
    "print(\"Verificar se o Teorema de Morgan é valido:\")\n",
    "print (\".\")\n",
    "print (\"1: a negação do E é o OU das negações\") \n",
    "print (\".\")\n",
    "print (\"[not(a and b)] equivale a [not a or not b]?\")\n",
    "print (\".\")\n",
    "x=200; y=520; a=x>=0; b=y<=0\n",
    "print (\"x=200, y=520, a=x>0, b=y<=0\")\n",
    "print (\"not (a and b)\")\n",
    "print(x>=0, y<=0, not(a and b))\n",
    "print (\"not a or not b\")\n",
    "print (x>=0, y<=0, not a or not b)\n",
    "print (\".\")\n",
    "x=-120; y=-155; a=x>0; b=y>=0\n",
    "print (\"x=-120; y=-155; a=x>0; b=y>=0\")\n",
    "print (\"not (a and b)\")\n",
    "print (x>0, y>=0, not (a and b))\n",
    "print (\"not a or not b\")\n",
    "print (x>0, y>=0, not a or not b)\n",
    "print (\".\")\n",
    "print (\"Conslusão: [not(a and b)] equivale a [not a or not b]\")\n",
    "print (\".\")\n",
    "print (\".\")\n",
    "print (\"2: a negação do OU é o E das negações\")\n",
    "print (\".\")\n",
    "print (\"[not(a or b) equivale a (not a and not b)?\")\n",
    "print (\".\")\n",
    "print (\"x=200; y=520; a=x>=0; b=y<=0\")\n",
    "print (\"not (a or b)\")\n",
    "print(x>=0, y<=0, not (a or b))\n",
    "print (\"not a and not b\")\n",
    "print (x>=0, y<=0, not a and not b)\n",
    "print (\".\")\n",
    "print (\"x=-120, y=-155, a=x>0, b=y>=0\")\n",
    "print (\"not (a or b)\")\n",
    "print (x>0, y>=0, not (a or b))\n",
    "print (\"not a and not b\")\n",
    "print (x>0, y>=0, not a and not b)\n",
    "print (\".\")\n",
    "print (\"Conclusão:[not(a or b) equivale a (not a and not b)\")\n",
    "print (\"Conclusão: o Teorema de Morgan é verdadeiro\")"
   ]
  },
  {
   "cell_type": "code",
   "execution_count": null,
   "metadata": {},
   "outputs": [],
   "source": []
  }
 ],
 "metadata": {
  "kernelspec": {
   "display_name": "Python 3",
   "language": "python",
   "name": "python3"
  },
  "language_info": {
   "codemirror_mode": {
    "name": "ipython",
    "version": 3
   },
   "file_extension": ".py",
   "mimetype": "text/x-python",
   "name": "python",
   "nbconvert_exporter": "python",
   "pygments_lexer": "ipython3",
   "version": "3.7.1"
  }
 },
 "nbformat": 4,
 "nbformat_minor": 2
}
