{
 "cells": [
  {
   "cell_type": "code",
   "execution_count": null,
   "metadata": {},
   "outputs": [],
   "source": [
    "1.1 x >= y\n",
    "1.2 x <= y \n",
    "1.3 x != y\n",
    "1.4 0 <= x <= float (\"inf\") \n",
    "1.5 x <= 0 or y >= 0 \n",
    "1.6 x > 0 or y  >= 0 and y < 0 or x <= 0 "
   ]
  },
  {
   "cell_type": "code",
   "execution_count": 16,
   "metadata": {},
   "outputs": [
    {
     "name": "stdout",
     "output_type": "stream",
     "text": [
      "x >= y False\n",
      "x <= y  True\n",
      "x != y True\n",
      "0 <= x <= infinito True\n",
      "x>0 -> y >= 0 True\n",
      " x<= 0 <-> y >= 0 True\n"
     ]
    }
   ],
   "source": [
    "x = 10 \n",
    "y = 20 \n",
    "print (\"x >= y\", x > y)\n",
    "print ( \"x <= y \", x < y)\n",
    "print (\"x != y\", x != y) \n",
    "print (\"0 <= x <= infinito\", 0 <= x and x <= float(\"inf\"))\n",
    "print (\"x>0 -> y >= 0\", x <= 0 or y >= 0)\n",
    "print (\" x<= 0 <-> y >= 0\", x > 0 or y >= 0 and y < 0 or x <= 0) \n"
   ]
  },
  {
   "cell_type": "code",
   "execution_count": 17,
   "metadata": {},
   "outputs": [
    {
     "name": "stdout",
     "output_type": "stream",
     "text": [
      "False True True\n",
      "False False False\n",
      "True False True\n",
      "True True False\n"
     ]
    }
   ],
   "source": [
    "p = False\n",
    "q = True \n",
    "print (p, q , p ^ q) \n",
    "print (p, p, p ^ p) \n",
    "print (q, p, q ^ p)\n",
    "print (q, q, q ^ q)\n"
   ]
  },
  {
   "cell_type": "code",
   "execution_count": null,
   "metadata": {},
   "outputs": [],
   "source": [
    "3.2 p XOR q = (p AND NOT q) or ( NOT p AND q)"
   ]
  },
  {
   "cell_type": "code",
   "execution_count": 34,
   "metadata": {},
   "outputs": [
    {
     "name": "stdout",
     "output_type": "stream",
     "text": [
      "A <-> B = not (A) or B and not (B) or A\n",
      "a <-> b True\n",
      "a <-> b True\n",
      "a <-> b True\n",
      "a <-> b False\n"
     ]
    }
   ],
   "source": [
    "print (\"A <-> B = not (A) or B and not (B) or A\") \n",
    "a = True\n",
    "b = False \n",
    "print(\"a <-> b\", not a or b and not b or a)\n",
    "print(\"a <-> b\", not b or a and not a or b)\n",
    "print(\"a <-> b\", not b or a and not b or a)\n",
    "print(\"a <-> b\", not a or b and not a or b)\n",
    "\n",
    "\n"
   ]
  },
  {
   "cell_type": "code",
   "execution_count": 33,
   "metadata": {},
   "outputs": [
    {
     "data": {
      "text/plain": [
       "True"
      ]
     },
     "execution_count": 33,
     "metadata": {},
     "output_type": "execute_result"
    }
   ],
   "source": [
    "x > y\n",
    "x <= y \n",
    "not x <= y or x > y\n",
    "not x >=y and x < y \n",
    "x >= 0 and x <= 10\n",
    "not a and b \n",
    "a and b \n",
    "a and not b\n",
    "a or b "
   ]
  },
  {
   "cell_type": "code",
   "execution_count": 18,
   "metadata": {},
   "outputs": [
    {
     "name": "stdout",
     "output_type": "stream",
     "text": [
      "not (a or not b) True\n",
      "not (b or not b) False\n",
      "not (b or not a) False\n",
      "not (a or not a) False\n",
      "not a -> b True\n",
      "not b -> b True\n",
      "not b -> a True\n",
      "not a -> a False\n",
      "not(a ->b) False\n",
      "not(b ->b) False\n",
      "not(b ->a) True\n",
      "not(a ->a) False\n",
      "not(not a and not b) True\n",
      "not(not b and not b) True\n",
      "not(not b and not a) True\n",
      "not(not a and not a) False\n"
     ]
    }
   ],
   "source": [
    "a = False\n",
    "b = True \n",
    "\n",
    "print (\"not (a or not b)\", not a and b)\n",
    "print (\"not (b or not b)\", not b and b)\n",
    "print (\"not (b or not a)\", not b and a)\n",
    "print (\"not (a or not a)\", not a and a)\n",
    "\n",
    "\n",
    "\n",
    "print (\"not a -> b\", a or b)\n",
    "print (\"not b -> b\", b or b)\n",
    "print (\"not b -> a\", b or a)\n",
    "print (\"not a -> a\", a or a)\n",
    "\n",
    "\n",
    "print (\"not(a ->b)\", a and not b) \n",
    "print (\"not(b ->b)\", b and not b)\n",
    "print (\"not(b ->a)\", b and not a)\n",
    "print (\"not(a ->a)\", a and not a)\n",
    "\n",
    "\n",
    "print (\"not(not a and not b)\", a or b)\n",
    "print (\"not(not b and not b)\", b or b)\n",
    "print (\"not(not b and not a)\", b or a)\n",
    "print (\"not(not a and not a)\", a or a)"
   ]
  },
  {
   "cell_type": "code",
   "execution_count": null,
   "metadata": {},
   "outputs": [],
   "source": [
    "5.6 e 5.9 são equivalentes entre si. "
   ]
  },
  {
   "cell_type": "code",
   "execution_count": 27,
   "metadata": {},
   "outputs": [
    {
     "name": "stdout",
     "output_type": "stream",
     "text": [
      "not (a and b)  True\n",
      "not (b and b)  False\n",
      "not (b and a)  True\n",
      "not (a and a)  True\n",
      "not a or not b True\n",
      "not b or not b False\n",
      "not b or not a True\n",
      "not a or not a True\n",
      "---\n",
      "not(a or b) False\n",
      "not(b or b) False\n",
      "not(b or a) False\n",
      "not(a or a) True\n",
      "not a and not b False\n",
      "not b and not b False\n",
      "not b and not a False\n",
      "not a and not a True\n",
      "Logo, as relações de De Morgan são válidas\n"
     ]
    }
   ],
   "source": [
    "a = False \n",
    "b = True \n",
    "print (\"not (a and b) \", not a or not b)\n",
    "print (\"not (b and b) \", not b or not b)\n",
    "print (\"not (b and a) \", not b or not a)\n",
    "print (\"not (a and a) \", not a or not a)    \n",
    "\n",
    "\n",
    "print (\"not a or not b\", not a or not b)\n",
    "print (\"not b or not b\", not b or not b)\n",
    "print (\"not b or not a\", not b or not a)\n",
    "print (\"not a or not a\", not a or not a)\n",
    "\n",
    "print (\"---\")\n",
    "\n",
    "print(\"not(a or b)\", not(a or b))\n",
    "print(\"not(b or b)\", not(b or b))\n",
    "print(\"not(b or a)\", not(b or a))\n",
    "print(\"not(a or a)\", not(a or a))\n",
    "\n",
    "print(\"not a and not b\", not a and not b)\n",
    "print(\"not b and not b\", not b and not b)\n",
    "print(\"not b and not a\", not b and not a)\n",
    "print(\"not a and not a\", not a and not a)\n",
    "\n",
    "print (\"Logo, as relações de De Morgan são válidas\")"
   ]
  },
  {
   "cell_type": "code",
   "execution_count": null,
   "metadata": {},
   "outputs": [],
   "source": []
  }
 ],
 "metadata": {
  "kernelspec": {
   "display_name": "Python 3",
   "language": "python",
   "name": "python3"
  },
  "language_info": {
   "codemirror_mode": {
    "name": "ipython",
    "version": 3
   },
   "file_extension": ".py",
   "mimetype": "text/x-python",
   "name": "python",
   "nbconvert_exporter": "python",
   "pygments_lexer": "ipython3",
   "version": "3.7.1"
  }
 },
 "nbformat": 4,
 "nbformat_minor": 2
}
