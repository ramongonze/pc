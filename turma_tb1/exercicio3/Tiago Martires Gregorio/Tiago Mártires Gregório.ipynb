{
 "cells": [
  {
   "cell_type": "markdown",
   "metadata": {},
   "source": [
    "# Exercício 1"
   ]
  },
  {
   "cell_type": "markdown",
   "metadata": {},
   "source": [
    "(1.1) = x>y ∨ x=y\n",
    "\n",
    "(1.2) = x<y ∨ x=y\n",
    "\n",
    "(1.3) = ¬x=y\n",
    "\n",
    "(1.4) = (x>0 ∨ x=0) ∧ (x<∞ ∨ x=∞)  \n",
    "\n",
    "(1.5) = ¬x>o ∨ (y>0 ∨ y=0)\n",
    "\n",
    "(1.6) = (x>0 or (y>0 or y=0)) and (y<0 or (x<0 or x=0))"
   ]
  },
  {
   "cell_type": "markdown",
   "metadata": {},
   "source": [
    "# Exercício 2"
   ]
  },
  {
   "cell_type": "code",
   "execution_count": 13,
   "metadata": {},
   "outputs": [
    {
     "name": "stdout",
     "output_type": "stream",
     "text": [
      "x    y    x >= y\n",
      "2    1     True\n",
      "1    2     False\n",
      "2    2     True\n"
     ]
    }
   ],
   "source": [
    "print(\"x    y    x >= y\")\n",
    "x=2;y=1\n",
    "print(x,\"  \",y,\"   \",x>=y)\n",
    "x=1;y=2\n",
    "print(x,\"  \",y,\"   \",x>=y)\n",
    "x=2;y=2\n",
    "print(x,\"  \",y, \"   \", x>=y)"
   ]
  },
  {
   "cell_type": "code",
   "execution_count": 16,
   "metadata": {},
   "outputs": [
    {
     "name": "stdout",
     "output_type": "stream",
     "text": [
      "x     y  x<=y\n",
      "3     4  True\n",
      "4     3  False\n",
      "4     4  True\n"
     ]
    }
   ],
   "source": [
    "print(\"x     y  x<=y\")\n",
    "x=3;y=4\n",
    "print(x,\"   \",y,\"\",x<=y)\n",
    "x=4;y=3\n",
    "print(x,\"   \",y,\"\",x<=y)\n",
    "x=4;y=4\n",
    "print(x,\"   \",y,\"\",x<=y)"
   ]
  },
  {
   "cell_type": "code",
   "execution_count": 22,
   "metadata": {},
   "outputs": [
    {
     "name": "stdout",
     "output_type": "stream",
     "text": [
      "x    y  x!=y\n",
      "5    6  True\n",
      "6    5  True\n",
      "6    6  False\n"
     ]
    }
   ],
   "source": [
    "print(\"x    y  x!=y\")\n",
    "x=5;y=6\n",
    "print(x,\"  \",y,\"\",x!=y)\n",
    "x=6;y=5\n",
    "print(x,\"  \",y,\"\",x!=y)\n",
    "x=6;y=6\n",
    "print(x,\"  \",y,\"\",x!=y)"
   ]
  },
  {
   "cell_type": "code",
   "execution_count": 1,
   "metadata": {},
   "outputs": [
    {
     "name": "stdout",
     "output_type": "stream",
     "text": [
      " x    x>=0    x<=∞    0<=x<=∞\n",
      " 5    True    True    True\n",
      "-1    False   True    False\n"
     ]
    }
   ],
   "source": [
    "print(\" x    x>=0    x<=∞    0<=x<=∞\")\n",
    "x=5\n",
    "print(\"\",x,\"  \",x>=0,\"  \",x<=float(\"inf\"),\"  \",x>=0 and x<=float(\"inf\"))\n",
    "x=-1\n",
    "print(x,\"  \",x>=0,\" \",x<=float(\"inf\"),\"  \",x>=0 and x<=float(\"inf\"))\n",
    "      "
   ]
  },
  {
   "cell_type": "code",
   "execution_count": 38,
   "metadata": {},
   "outputs": [
    {
     "name": "stdout",
     "output_type": "stream",
     "text": [
      " x    y    x>0 → y>=0\n",
      "-1   -1       True\n",
      " 1    0       True\n",
      "-1    0       True\n",
      " 1   -1       False\n"
     ]
    }
   ],
   "source": [
    "print(\" x    y    x>0 → y>=0\")\n",
    "x=-1;y=-1\n",
    "print(x,\" \",y,\"     \",x<=0 or y>=0)\n",
    "x=1;y=0\n",
    "print(\"\",x,\"  \",y,\"     \",x<=0 or y>=0)\n",
    "x=-1;y=0 \n",
    "print(x,\"  \",y,\"     \",x<=0 or y>=0)\n",
    "x=1;y=-1\n",
    "print(\"\",x,\" \",y,\"     \",x<=0 or y>=0)"
   ]
  },
  {
   "cell_type": "code",
   "execution_count": 7,
   "metadata": {},
   "outputs": [
    {
     "name": "stdout",
     "output_type": "stream",
     "text": [
      " x    y    x<=0 ↔ y>=0 \n",
      " 1    2       False\n",
      " 0   -1       False\n",
      " 1   -1       True\n",
      " 0    1       True\n"
     ]
    }
   ],
   "source": [
    "print(\" x    y    x<=0 ↔ y>=0 \")\n",
    "x=1;y=2\n",
    "print(\"\",x,\"  \",y,\"     \",(x>0 or y>=0) and (y<0 or x<=0))\n",
    "x=0;y=-1\n",
    "print(\"\",x,\" \",y,\"     \",(x>0 or y>=0) and (y<0 or x<=0))\n",
    "x=1;y=-1\n",
    "print(\"\",x,\" \",y,\"     \",(x>0 or y>=0) and (y<0 or x<=0))\n",
    "x=0;y=1\n",
    "print(\"\",x,\"  \",y,\"     \",(x>0 or y>=0) and (y<0 or x<=0))\n"
   ]
  },
  {
   "cell_type": "markdown",
   "metadata": {},
   "source": [
    "# Exercício 3.1"
   ]
  },
  {
   "cell_type": "code",
   "execution_count": 18,
   "metadata": {},
   "outputs": [
    {
     "name": "stdout",
     "output_type": "stream",
     "text": [
      " a      b     a ⊗ b \n",
      "True  False    True\n",
      "True  True     False\n",
      "False True     True\n",
      "False False    False\n"
     ]
    }
   ],
   "source": [
    "print(\" a      b     a ⊗ b \")\n",
    "a=True; b=False\n",
    "print(a,\"\",b,\"  \",a^b)\n",
    "a=True; b=True\n",
    "print(a,\"\",b,\"   \", a^b)\n",
    "a=False; b=True\n",
    "print(a,b,\"   \", a^b)\n",
    "a=False; b=False\n",
    "print(a,b,\"  \", a^b)\n",
    "    "
   ]
  },
  {
   "cell_type": "markdown",
   "metadata": {},
   "source": [
    "# 3.2"
   ]
  },
  {
   "cell_type": "code",
   "execution_count": 7,
   "metadata": {},
   "outputs": [
    {
     "name": "stdout",
     "output_type": "stream",
     "text": [
      " a      b   (a∧¬b)∨(¬a∧b)\n",
      "True  False    True\n",
      "True  True     False\n",
      "False True     True\n",
      "False False    False\n"
     ]
    }
   ],
   "source": [
    "print(\" a      b   (a∧¬b)∨(¬a∧b)\")\n",
    "a=True;b=False\n",
    "print(a,\"\",b,\"  \",(a and not b) or (not a and b))\n",
    "a=True;b=True\n",
    "print(a,\"\",b,\"   \",(a and not b) or (not a and b))\n",
    "a=False;b=True\n",
    "print(a,b,\"   \",(a and not b) or (not a and b))\n",
    "a=False;b=False\n",
    "print(a,b,\"  \",(a and not b) or (not a and b))"
   ]
  },
  {
   "cell_type": "markdown",
   "metadata": {},
   "source": [
    "# Exercício 4\n"
   ]
  },
  {
   "cell_type": "code",
   "execution_count": 12,
   "metadata": {},
   "outputs": [
    {
     "name": "stdout",
     "output_type": "stream",
     "text": [
      " a      b     a↔b\n",
      "True  False  False\n",
      "True  True   True\n",
      "False True   False\n",
      "False False  True\n"
     ]
    }
   ],
   "source": [
    "print(\" a      b     a↔b\")\n",
    "a=True;b=False\n",
    "print(a,\"\",b,\"\",(not a or b) and (not b or a))\n",
    "a=True;b=True\n",
    "print(a,\"\",b,\" \",(not a or b) and (not b or a))\n",
    "a=False;b=True\n",
    "print(a,b,\" \",(not a or b) and (not b or a))\n",
    "a=False;b=False\n",
    "print(a,b,\"\",(not a or b) and (not b or a))"
   ]
  },
  {
   "cell_type": "markdown",
   "metadata": {},
   "source": [
    "Portanto, comparando os resultados da tabela acima(a↔b) com os resultados dos exercícios 3.1 e 3.2, podemos afirmar que a operação de equivalência é o inverso da XOR."
   ]
  },
  {
   "cell_type": "markdown",
   "metadata": {},
   "source": [
    "# Exercício 5"
   ]
  },
  {
   "cell_type": "code",
   "execution_count": null,
   "metadata": {},
   "outputs": [],
   "source": [
    "(5.1) = x>y\n",
    "(5.2) = x<=y\n",
    "(5.3) = False\n",
    "(5.4) = True\n",
    "(5.5) = x>=0 ∨ x<=10\n",
    "(5.6) = ¬a ∧ b\n",
    "(5.7) = a ∨ b\n",
    "(5.8) = a ∧ ¬b\n",
    "(5.9) = a ∨ b"
   ]
  },
  {
   "cell_type": "markdown",
   "metadata": {},
   "source": [
    "#  Exercício 6"
   ]
  },
  {
   "cell_type": "code",
   "execution_count": 13,
   "metadata": {},
   "outputs": [
    {
     "name": "stdout",
     "output_type": "stream",
     "text": [
      " a     b    ¬(a ∨ ¬b)\n",
      "True  False    False\n",
      "True  True     False\n",
      "False True     True\n",
      "False False    False\n"
     ]
    }
   ],
   "source": [
    "print(\" a     b    ¬(a ∨ ¬b)\")\n",
    "a=True;b=False\n",
    "print(a,\"\",b,\"  \",not(a or not b))\n",
    "a=True;b=True\n",
    "print(a,\"\",b,\"   \",not(a or not b))\n",
    "a=False;b=True\n",
    "print(a,b,\"   \",not(a or not b))\n",
    "a=False;b=False\n",
    "print(a,b,\"  \",not(a or not b))"
   ]
  },
  {
   "cell_type": "code",
   "execution_count": 31,
   "metadata": {},
   "outputs": [
    {
     "name": "stdout",
     "output_type": "stream",
     "text": [
      " a      b    ¬a→b\n",
      "True  False  True\n",
      "True  True   True\n",
      "False True   True\n",
      "False False  False\n"
     ]
    }
   ],
   "source": [
    "print(\" a      b    ¬a→b\")\n",
    "a=True;b=False\n",
    "print(a,\"\",b,\"\",not(not a) or b)\n",
    "a=True;b=True\n",
    "print(a,\"\",b,\" \",not(not a) or b)\n",
    "a=False;b=True\n",
    "print(a,b,\" \",not(not a) or b)\n",
    "a=False;b=False\n",
    "print(a,b,\"\",not(not a) or b)"
   ]
  },
  {
   "cell_type": "code",
   "execution_count": 23,
   "metadata": {},
   "outputs": [
    {
     "name": "stdout",
     "output_type": "stream",
     "text": [
      " a     b    ¬(a→b)\n",
      "True  False  True\n",
      "True  True   False\n",
      "False True   False\n",
      "False False  False\n"
     ]
    }
   ],
   "source": [
    "print(\" a     b    ¬(a→b)\")\n",
    "a=True;b=False\n",
    "print(a,\"\",b,\"\",not(not a or b))\n",
    "a=True;b=True\n",
    "print(a,\"\",b,\" \",not(not a or b))\n",
    "a=False;b=True\n",
    "print(a,b,\" \",not(not a or b))\n",
    "a=False;b=False\n",
    "print(a,b,\"\",not(not a or b))"
   ]
  },
  {
   "cell_type": "code",
   "execution_count": 34,
   "metadata": {},
   "outputs": [
    {
     "name": "stdout",
     "output_type": "stream",
     "text": [
      " a     b    ¬(¬a ∧ ¬b)\n",
      "True  False    True\n",
      "True  True     True\n",
      "False True     True\n",
      "False False    False\n"
     ]
    }
   ],
   "source": [
    "print(\" a     b    ¬(¬a ∧ ¬b)\")\n",
    "a=True;b=False\n",
    "print(a,\"\",b,\"  \",not(not a and not b))\n",
    "a=True;b=True\n",
    "print(a,\"\",b,\"   \",not(not a and not b))\n",
    "a=False;b=True\n",
    "print(a,b,\"   \",not(not a and not b))\n",
    "a=False;b=False\n",
    "print(a,b,\"  \",not(not a  and not b))"
   ]
  },
  {
   "cell_type": "markdown",
   "metadata": {},
   "source": [
    "# Exercício 7\n"
   ]
  },
  {
   "cell_type": "code",
   "execution_count": null,
   "metadata": {},
   "outputs": [],
   "source": [
    "Como podemos observar das tabelas montadas no exercício 6, as expressões dos itens 5.7 e 5.9 são equivalentes. "
   ]
  },
  {
   "cell_type": "markdown",
   "metadata": {},
   "source": [
    "# Exercício 8"
   ]
  },
  {
   "cell_type": "code",
   "execution_count": 70,
   "metadata": {},
   "outputs": [
    {
     "name": "stdout",
     "output_type": "stream",
     "text": [
      " A     B    ¬(A ∧ B)   ¬A ∨ ¬B    ¬(A ∨ B)    ¬A ∧ ¬B\n",
      "True  True   False      False       False      False\n",
      "True  False  True       True        False      False\n",
      "False True   True       True        False      False\n",
      "False False  True       True        True       True\n"
     ]
    }
   ],
   "source": [
    "print(\" A     B    ¬(A ∧ B)   ¬A ∨ ¬B    ¬(A ∨ B)    ¬A ∧ ¬B\") \n",
    "A=True;B=True\n",
    "print(A,\"\",B,\" \",not(A and  B),\"    \",not A or not B,\"     \",not(A or B),\"    \",not A and not B)                                                                                                                                                          \n",
    "A=True;B=False\n",
    "print(A,\"\",B,\"\",not (A and  B),\"     \",not A or not B,\"      \",not(A or B),\"    \",not A and not B)\n",
    "A=False;B=True\n",
    "print(A,B,\" \",not (A and  B),\"     \",not A or not B,\"      \",not(A or B),\"    \",not A and not B)\n",
    "A=False;B=False\n",
    "print(A,B,\"\",not (A and  B),\"     \",not A or not B,\"      \",not(A or B),\"     \",not A and not B)"
   ]
  },
  {
   "cell_type": "markdown",
   "metadata": {},
   "source": [
    "Conclusão: A comparação entre as colunas 3 e 4, assim como, entre as colunas 5 e 6, permite-nos de fato concluir que as expressões são equivalentes."
   ]
  },
  {
   "cell_type": "code",
   "execution_count": null,
   "metadata": {},
   "outputs": [],
   "source": []
  }
 ],
 "metadata": {
  "kernelspec": {
   "display_name": "Python 3",
   "language": "python",
   "name": "python3"
  },
  "language_info": {
   "codemirror_mode": {
    "name": "ipython",
    "version": 3
   },
   "file_extension": ".py",
   "mimetype": "text/x-python",
   "name": "python",
   "nbconvert_exporter": "python",
   "pygments_lexer": "ipython3",
   "version": "3.7.1"
  }
 },
 "nbformat": 4,
 "nbformat_minor": 2
}
