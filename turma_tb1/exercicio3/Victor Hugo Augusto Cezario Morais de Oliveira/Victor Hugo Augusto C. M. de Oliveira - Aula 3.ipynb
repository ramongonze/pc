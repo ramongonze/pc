{
 "cells": [
  {
   "cell_type": "markdown",
   "metadata": {},
   "source": [
    "## Victor Hugo Augusto Cezario Morais de Oliveira - Aula 3 - 2018015561"
   ]
  },
  {
   "cell_type": "markdown",
   "metadata": {},
   "source": [
    "## Exercício 1:"
   ]
  },
  {
   "cell_type": "code",
   "execution_count": 39,
   "metadata": {},
   "outputs": [
    {
     "name": "stdout",
     "output_type": "stream",
     "text": [
      "1.1) x > y or x = y.\n",
      "1.2) x<y or x = y.\n",
      "1.3) x xor y.\n",
      "1.4) (x < 0 or x = 0) or (x < y or x = y), infinito = y.\n",
      "             A                   B\n",
      "1.5) -> =  not a or b, logo, (x>0)! or (y=0 or y>0) = x<0 or (y=0 or y>0).\n",
      "1.6) <-> = not a or b and not b or a, logo, not(x = 0 or x < 0) or (y > 0 or y = 0) and (x = 0 or x < 0) or not(y = 0 or y > 0)\n",
      "                                            = (x = 0 nor x > 0) or (y > 0 or y = 0) and (x = 0 or x < 0) or (y = 0 nor y > 0).\n"
     ]
    }
   ],
   "source": [
    "print(\"1.1) x > y or x = y.\")\n",
    "print(\"1.2) x<y or x = y.\")\n",
    "print(\"1.3) x xor y.\")\n",
    "print(\"1.4) (x < 0 or x = 0) or (x < y or x = y), infinito = y.\")\n",
    "print(\"             A                   B\")\n",
    "print(\"1.5) -> =  not a or b, logo, (x>0)! or (y=0 or y>0) = x<0 or (y=0 or y>0).\")\n",
    "print(\"1.6) <-> = not a or b and not b or a, logo, not(x = 0 or x < 0) or (y > 0 or y = 0) and (x = 0 or x < 0) or not(y = 0 or y > 0)\") \n",
    "print(\"                                            = (x = 0 nor x > 0) or (y > 0 or y = 0) and (x = 0 or x < 0) or (y = 0 nor y > 0).\") \n",
    "    \n",
    "\n",
    "    "
   ]
  },
  {
   "cell_type": "markdown",
   "metadata": {},
   "source": [
    "## Exercício 2:"
   ]
  },
  {
   "cell_type": "code",
   "execution_count": 3,
   "metadata": {},
   "outputs": [
    {
     "name": "stdout",
     "output_type": "stream",
     "text": [
      "X   Y     Z\n",
      "5   1   True\n",
      "1   5   False\n",
      "1   1   True\n"
     ]
    }
   ],
   "source": [
    "print(\"X   Y     Z\")\n",
    "x = 5; y = 1\n",
    "print(x, \" \",y,\" \", x >= y)\n",
    "x = 1; y = 5\n",
    "print(x, \" \",y,\" \", x >= y)\n",
    "x = 1; y = 1\n",
    "print(x, \" \",y,\" \", x >= y) "
   ]
  },
  {
   "cell_type": "code",
   "execution_count": 4,
   "metadata": {},
   "outputs": [
    {
     "name": "stdout",
     "output_type": "stream",
     "text": [
      "X   Y     Z\n",
      "5   1   False\n",
      "1   5   True\n",
      "1   1   True\n"
     ]
    }
   ],
   "source": [
    "print(\"X   Y     Z\")\n",
    "x = 5; y = 1\n",
    "print(x, \" \",y,\" \", x <= y)\n",
    "x = 1; y = 5\n",
    "print(x, \" \",y,\" \", x <= y)\n",
    "x = 1; y = 1\n",
    "print(x, \" \",y,\" \", x <= y) "
   ]
  },
  {
   "cell_type": "code",
   "execution_count": 5,
   "metadata": {},
   "outputs": [
    {
     "name": "stdout",
     "output_type": "stream",
     "text": [
      "X   Y     Z\n",
      "7   2   True\n",
      "2   7   False\n",
      "7   7   True\n"
     ]
    }
   ],
   "source": [
    "print(\"X   Y     Z\")\n",
    "x = 7; y = 2\n",
    "print(x, \" \",y,\" \", x >= y)\n",
    "x = 2; y = 7\n",
    "print(x, \" \",y,\" \", x >= y)\n",
    "x = 7; y = 7\n",
    "print(x, \" \",y,\" \", x >= y)"
   ]
  },
  {
   "cell_type": "code",
   "execution_count": 6,
   "metadata": {},
   "outputs": [
    {
     "name": "stdout",
     "output_type": "stream",
     "text": [
      "X   Y     Z\n",
      "5   1   True\n",
      "1   1   True\n",
      "-5   5   True\n"
     ]
    }
   ],
   "source": [
    "print(\"X   Y     Z\")\n",
    "x = 5; y = 1\n",
    "print(x, \" \",y,\" \", 0 <= y <= float(\"inf\"))\n",
    "x = 1; B = 5\n",
    "print(x, \" \",y,\" \", 0 <= y <= float(\"inf\"))\n",
    "x = -5; y = 5\n",
    "print(x, \" \",y,\" \", 0 <= y <= float(\"inf\")) "
   ]
  },
  {
   "cell_type": "code",
   "execution_count": 7,
   "metadata": {},
   "outputs": [
    {
     "name": "stdout",
     "output_type": "stream",
     "text": [
      "X   Y     Z\n",
      "0   0   True\n",
      "0   1   True\n",
      "1   0   False\n",
      "1   1   True\n"
     ]
    }
   ],
   "source": [
    "print(\"X   Y     Z\")\n",
    "x = 0; y = 0\n",
    "print(x, \" \",y,\" \", not x > 0 or y > 0)\n",
    "x = 0; y = 1\n",
    "print(x, \" \",y,\" \", not x > 0 or y > 0)\n",
    "x = 1; y = 0\n",
    "print(x, \" \",y,\" \", not x > 0 or y > 0) \n",
    "x = 1; y = 1\n",
    "print(x, \" \",y,\" \", not x > 0 or y > 0)"
   ]
  },
  {
   "cell_type": "code",
   "execution_count": 11,
   "metadata": {},
   "outputs": [
    {
     "name": "stdout",
     "output_type": "stream",
     "text": [
      "A   B     C\n",
      "0   0   True\n",
      "0   1   True\n",
      "1   0   False\n",
      "1   1   False\n"
     ]
    }
   ],
   "source": [
    "print(\"A   B     C\")\n",
    "x = 0; y = 0 \n",
    "print(x, \" \",y,\" \", (not x > 0 or y > 0) and (y < 0 or x <= 0))\n",
    "x = 0; y = 1\n",
    "print(x, \" \",y,\" \", (not x > 0 or y > 0) and (y < 0 or x <= 0))\n",
    "x = 1; y = 0\n",
    "print(x, \" \",y,\" \", (not x > 0 or y > 0) and (y < 0 or x <= 0)) \n",
    "x = 1; y = 1\n",
    "print(x, \" \",y,\" \", (not x > 0 or y > 0) and (y < 0 or x <= 0)) "
   ]
  },
  {
   "cell_type": "markdown",
   "metadata": {},
   "source": [
    "## Exercício 3:"
   ]
  },
  {
   "cell_type": "code",
   "execution_count": 13,
   "metadata": {},
   "outputs": [
    {
     "name": "stdout",
     "output_type": "stream",
     "text": [
      "3.1)  x    y    z \n",
      "      0    0    0\n",
      "      0    1    1\n",
      "      1    0    1\n",
      "      1    1    0 \n"
     ]
    }
   ],
   "source": [
    "print(\"3.1)  x    y    z \")\n",
    "print(\"      0    0    0\")\n",
    "print(\"      0    1    1\")\n",
    "print(\"      1    0    1\")\n",
    "print(\"      1    1    0 \")"
   ]
  },
  {
   "cell_type": "code",
   "execution_count": 15,
   "metadata": {},
   "outputs": [
    {
     "name": "stdout",
     "output_type": "stream",
     "text": [
      " 3.2) ¬(¬a or b and ¬b or a)\n"
     ]
    }
   ],
   "source": [
    "print(\" 3.2) ¬(¬a or b and ¬b or a)\")"
   ]
  },
  {
   "cell_type": "markdown",
   "metadata": {},
   "source": [
    "## Exercício 4:"
   ]
  },
  {
   "cell_type": "code",
   "execution_count": 31,
   "metadata": {},
   "outputs": [
    {
     "name": "stdout",
     "output_type": "stream",
     "text": [
      "PROGRAMA PARA ACHAR A TABELA VERDADE DO EXERCÍCIO 4.1\n"
     ]
    },
    {
     "name": "stdin",
     "output_type": "stream",
     "text": [
      "A =  0\n",
      "B =  0\n"
     ]
    },
    {
     "name": "stdout",
     "output_type": "stream",
     "text": [
      "Indique os valores de A e B no programa.\n",
      "Use 0 para False e 1 para True\n",
      "Sua saída para 0 e 0 na expressão é:\n"
     ]
    },
    {
     "data": {
      "text/plain": [
       "True"
      ]
     },
     "execution_count": 31,
     "metadata": {},
     "output_type": "execute_result"
    }
   ],
   "source": [
    "print(\"PROGRAMA PARA ACHAR A TABELA VERDADE DO EXERCÍCIO 4.1\")\n",
    "\n",
    "a = int(input(\"A = \")) # a recebe valor desejado para as operações\n",
    "b = int(input(\"B = \")) # b ''      ''      ''     ''        ''\n",
    "\n",
    "print(\"Indique os valores de A e B no programa.\")\n",
    "print(\"Use 0 para False e 1 para True\")\n",
    "print(\"Sua saída para %d e %d na expressão é:\"  % (a,b))\n",
    "\n",
    "(not a) or b and (not b) or a          # Expressão é realizada e \n",
    "                               # saída recebe o valor final da expressão"
   ]
  },
  {
   "cell_type": "code",
   "execution_count": 34,
   "metadata": {},
   "outputs": [
    {
     "name": "stdout",
     "output_type": "stream",
     "text": [
      "para <-> temos,   a    b   ¬a or b and ¬b or a ----> XAND\n",
      "                  0    0            1\n",
      "                  0    1            0\n",
      "                  1    0            0\n",
      "                  1    1            1\n"
     ]
    }
   ],
   "source": [
    "print(\"para <-> temos,   a    b   ¬a or b and ¬b or a ----> XAND\")\n",
    "print(\"                  0    0            1\")\n",
    "print(\"                  0    1            0\")\n",
    "print(\"                  1    0            0\")\n",
    "print(\"                  1    1            1\") "
   ]
  },
  {
   "cell_type": "code",
   "execution_count": 35,
   "metadata": {},
   "outputs": [
    {
     "name": "stdout",
     "output_type": "stream",
     "text": [
      "PROGRAMA PARA ACHAR A TABELA VERDADE DO EXERCÍCIO 4.2\n"
     ]
    },
    {
     "name": "stdin",
     "output_type": "stream",
     "text": [
      "A =  0\n",
      "B =  0\n"
     ]
    },
    {
     "name": "stdout",
     "output_type": "stream",
     "text": [
      "Indique os valores de A e B no programa.\n",
      "Use 0 para False e 1 para True\n",
      "Sua saída para 0 e 0 na expressão é:\n"
     ]
    },
    {
     "data": {
      "text/plain": [
       "False"
      ]
     },
     "execution_count": 35,
     "metadata": {},
     "output_type": "execute_result"
    }
   ],
   "source": [
    "print(\"PROGRAMA PARA ACHAR A TABELA VERDADE DO EXERCÍCIO 4.2\")\n",
    "\n",
    "a = int(input(\"A = \")) # a recebe valor desejado para as operações\n",
    "b = int(input(\"B = \")) # b ''      ''      ''     ''        ''\n",
    "\n",
    "print(\"Indique os valores de A e B no programa.\")\n",
    "print(\"Use 0 para False e 1 para True\")\n",
    "print(\"Sua saída para %d e %d na expressão é:\"  % (a,b))\n",
    "\n",
    "not ((not a or b) and (not b or a))           # Expressão é realizada e \n",
    "                                             # saída recebe o valor final da expressão"
   ]
  },
  {
   "cell_type": "code",
   "execution_count": 36,
   "metadata": {},
   "outputs": [
    {
     "name": "stdout",
     "output_type": "stream",
     "text": [
      "  para XOR temos,    x    y    z           onde a XOR é apenas uma XAND invertida.\n",
      "                     0    0    0           xor = ¬(¬a or b and ¬b or a) \n",
      "                     0    1    1\n",
      "                     1    0    1\n",
      "                     1    1    0\n"
     ]
    }
   ],
   "source": [
    "print(\"  para XOR temos,    x    y    z           onde a XOR é apenas uma XAND invertida.\")\n",
    "print(\"                     0    0    0           xor = ¬(¬a or b and ¬b or a) \") \n",
    "print(\"                     0    1    1\")\n",
    "print(\"                     1    0    1\")\n",
    "print(\"                     1    1    0\")"
   ]
  },
  {
   "cell_type": "markdown",
   "metadata": {},
   "source": [
    "## Exercício 5:"
   ]
  },
  {
   "cell_type": "code",
   "execution_count": 18,
   "metadata": {},
   "outputs": [
    {
     "name": "stdout",
     "output_type": "stream",
     "text": [
      "    5.1) not x < y or not x = y\n",
      "    5.2) not x > y\n",
      "    5.3) (x > y or x = y) and (x < y)\n",
      "    5.4) (x < y or x = y) and (x > y)\n",
      "    5.5) (x = 0 or x > 0) and ( x < 10 or x = 10)\n",
      "    5.6) not (a or (not b))\n",
      "    5.7) (not not a) or b = (a or b) ---> not not a = a\n",
      "    5.8) not (not a or b)\n",
      "    5.9) a and b ----> not (a and not b) = not nand, sendo assim,\n",
      "                                           not nand = and.\n"
     ]
    }
   ],
   "source": [
    "print(\"    5.1) not x < y or not x = y\")\n",
    "print(\"    5.2) not x > y\")\n",
    "print(\"    5.3) (x > y or x = y) and (x < y)\")\n",
    "print(\"    5.4) (x < y or x = y) and (x > y)\")\n",
    "print(\"    5.5) (x = 0 or x > 0) and ( x < 10 or x = 10)\") \n",
    "print(\"    5.6) not (a or (not b))\")\n",
    "print(\"    5.7) (not not a) or b = (a or b) ---> not not a = a\")\n",
    "print(\"    5.8) not (not a or b)\")\n",
    "print(\"    5.9) a and b ----> not (a and not b) = not nand, sendo assim,\")\n",
    "print(\"                                           not nand = and.\")"
   ]
  },
  {
   "cell_type": "markdown",
   "metadata": {},
   "source": [
    "## Exercício 6:"
   ]
  },
  {
   "cell_type": "code",
   "execution_count": 19,
   "metadata": {},
   "outputs": [
    {
     "name": "stdout",
     "output_type": "stream",
     "text": [
      "AS TABELAS COMPLETAS ESTÃO NO EXERCÍCIO 7!\n",
      "PROGRAMA PARA ACHAR A TABELA VERDADE DO EXERCÍCIO 5.6\n"
     ]
    },
    {
     "name": "stdin",
     "output_type": "stream",
     "text": [
      "A =  0\n",
      "B =  0\n"
     ]
    },
    {
     "name": "stdout",
     "output_type": "stream",
     "text": [
      "Indique os valores de A e B no programa.\n",
      "Use 0 para False e 1 para True\n",
      "Sua saída para 0 e 0 na expressão é:\n"
     ]
    },
    {
     "data": {
      "text/plain": [
       "False"
      ]
     },
     "execution_count": 19,
     "metadata": {},
     "output_type": "execute_result"
    }
   ],
   "source": [
    "print(\"AS TABELAS COMPLETAS ESTÃO NO EXERCÍCIO 7!\")\n",
    "print(\"PROGRAMA PARA ACHAR A TABELA VERDADE DO EXERCÍCIO 5.6\")\n",
    "\n",
    "a = int(input(\"A = \")) # a recebe valor desejado para as operações\n",
    "b = int(input(\"B = \")) # b ''      ''      ''     ''        ''\n",
    "\n",
    "print(\"Indique os valores de A e B no programa.\")\n",
    "print(\"Use 0 para False e 1 para True\")\n",
    "print(\"Sua saída para %d e %d na expressão é:\"  % (a,b))\n",
    "\n",
    "not (a or (not b)) # Expressão é realizada e \n",
    "                   # saída recebe o valor final da expressão"
   ]
  },
  {
   "cell_type": "code",
   "execution_count": 22,
   "metadata": {},
   "outputs": [
    {
     "name": "stdout",
     "output_type": "stream",
     "text": [
      "AS TABELAS COMPLETAS ESTÃO NO EXERCÍCIO 7!\n",
      "PROGRAMA PARA ACHAR A TABELA VERDADE DO EXERCÍCIO 5.7\n"
     ]
    },
    {
     "name": "stdin",
     "output_type": "stream",
     "text": [
      "A =  0\n",
      "B =  0\n"
     ]
    },
    {
     "name": "stdout",
     "output_type": "stream",
     "text": [
      "Indique os valores de A e B no programa.\n",
      "Tendo 0 para False e 1 para True\n",
      "Sua saída para 0 e 0 na expressão é:\n"
     ]
    },
    {
     "data": {
      "text/plain": [
       "0"
      ]
     },
     "execution_count": 22,
     "metadata": {},
     "output_type": "execute_result"
    }
   ],
   "source": [
    "print(\"AS TABELAS COMPLETAS ESTÃO NO EXERCÍCIO 7!\")\n",
    "print(\"PROGRAMA PARA ACHAR A TABELA VERDADE DO EXERCÍCIO 5.7\")\n",
    "\n",
    "a = int(input(\"A = \")) # a recebe valor desejado para as operações\n",
    "b = int(input(\"B = \")) # b ''      ''      ''     ''        ''\n",
    "\n",
    "print(\"Indique os valores de A e B no programa.\")\n",
    "print(\"Tendo 0 para False e 1 para True\")\n",
    "print(\"Sua saída para %d e %d na expressão é:\"  % (a,b))\n",
    "\n",
    "not not a or b        # Expressão é realizada e \n",
    "                      # saída recebe o valor final da expressão"
   ]
  },
  {
   "cell_type": "code",
   "execution_count": 23,
   "metadata": {},
   "outputs": [
    {
     "name": "stdout",
     "output_type": "stream",
     "text": [
      "AS TABELAS COMPLETAS ESTÃO NO EXERCÍCIO 7!\n",
      "PROGRAMA PARA ACHAR A TABELA VERDADE DO EXERCÍCIO 5.8\n"
     ]
    },
    {
     "name": "stdin",
     "output_type": "stream",
     "text": [
      "A =  0\n",
      "B =  0\n"
     ]
    },
    {
     "name": "stdout",
     "output_type": "stream",
     "text": [
      "Indique os valores de A e B no programa.\n",
      "Use 0 para False e 1 para True\n",
      "Sua saída para 0 e 0 na expressão é:\n"
     ]
    },
    {
     "data": {
      "text/plain": [
       "False"
      ]
     },
     "execution_count": 23,
     "metadata": {},
     "output_type": "execute_result"
    }
   ],
   "source": [
    "print(\"AS TABELAS COMPLETAS ESTÃO NO EXERCÍCIO 7!\")\n",
    "print(\"PROGRAMA PARA ACHAR A TABELA VERDADE DO EXERCÍCIO 5.8\")\n",
    "\n",
    "a = int(input(\"A = \")) # a recebe valor desejado para as operações\n",
    "b = int(input(\"B = \")) # b ''      ''      ''     ''        ''\n",
    "\n",
    "print(\"Indique os valores de A e B no programa.\")\n",
    "print(\"Use 0 para False e 1 para True\")\n",
    "print(\"Sua saída para %d e %d na expressão é:\"  % (a,b))\n",
    "\n",
    "not (not a or b) # Expressão é realizada e \n",
    "                 # saída recebe o valor final da expressão"
   ]
  },
  {
   "cell_type": "code",
   "execution_count": 25,
   "metadata": {},
   "outputs": [
    {
     "name": "stdout",
     "output_type": "stream",
     "text": [
      "AS TABELAS COMPLETAS ESTÃO NO EXERCÍCIO 7!\n",
      "PROGRAMA PARA ACHAR A TABELA VERDADE DO EXERCÍCIO 5.9\n"
     ]
    },
    {
     "name": "stdin",
     "output_type": "stream",
     "text": [
      "A =  0\n",
      "B =  0\n"
     ]
    },
    {
     "name": "stdout",
     "output_type": "stream",
     "text": [
      "Indique os valores de A e B no programa.\n",
      "Use 0 para False e 1 para True\n",
      "Sua saída para 0 e 0 na expressão é:\n"
     ]
    },
    {
     "data": {
      "text/plain": [
       "False"
      ]
     },
     "execution_count": 25,
     "metadata": {},
     "output_type": "execute_result"
    }
   ],
   "source": [
    "print(\"AS TABELAS COMPLETAS ESTÃO NO EXERCÍCIO 7!\")\n",
    "print(\"PROGRAMA PARA ACHAR A TABELA VERDADE DO EXERCÍCIO 5.9\")\n",
    "\n",
    "a = int(input(\"A = \")) # a recebe valor desejado para as operações\n",
    "b = int(input(\"B = \")) # b ''      ''      ''     ''        ''\n",
    "\n",
    "print(\"Indique os valores de A e B no programa.\")\n",
    "print(\"Use 0 para False e 1 para True\")\n",
    "print(\"Sua saída para %d e %d na expressão é:\"  % (a,b))\n",
    "\n",
    "not (not a and not b)          # Expressão é realizada e \n",
    "                               # saída recebe o valor final da expressão"
   ]
  },
  {
   "cell_type": "code",
   "execution_count": 28,
   "metadata": {},
   "outputs": [
    {
     "name": "stdout",
     "output_type": "stream",
     "text": [
      "\n",
      "Tendo as tabelas verdades em mãos, podemos perceber que as expressões 5.7 e 5.9 são equivalentes. \n",
      "\n",
      "    TABELA VERDADE 5.6\n",
      "        A    B    C\n",
      "        0    0    0\n",
      "        0    1    1\n",
      "        1    0    0\n",
      "        1    1    0\n",
      " \n",
      "    TABELA VERDADE 5.7\n",
      "        A    B    C \n",
      "        0    0    0\n",
      "        0    1    1\n",
      "        1    0    1\n",
      "        1    1    1 \n",
      "\n",
      "    TABELA VERDADE 5.8\n",
      "        A    B    C\n",
      "        0    0    0\n",
      "        0    1    1\n",
      "        1    0    1\n",
      "        1    1    0 \n",
      "\n",
      "    TABELA VERDADE 5.9\n",
      "        A    B    C\n",
      "        0    0    0\n",
      "        0    1    1\n",
      "        1    0    1\n",
      "        1    1    1\n"
     ]
    }
   ],
   "source": [
    "print(\"\")\n",
    "print(\"Tendo as tabelas verdades em mãos, podemos perceber que as expressões 5.7 e 5.9 são equivalentes. \\n\")\n",
    "\n",
    "print(\"    TABELA VERDADE 5.6\")   \n",
    "print(\"        A    B    C\")\n",
    "print(\"        0    0    0\")\n",
    "print(\"        0    1    1\")\n",
    "print(\"        1    0    0\")\n",
    "print(\"        1    1    0\\n \")\n",
    "   \n",
    "print(\"    TABELA VERDADE 5.7\")    \n",
    "print(\"        A    B    C \")\n",
    "print(\"        0    0    0\")\n",
    "print(\"        0    1    1\")\n",
    "print(\"        1    0    1\")\n",
    "print(\"        1    1    1 \\n\")\n",
    "    \n",
    "print(\"    TABELA VERDADE 5.8\")    \n",
    "print(\"        A    B    C\")\n",
    "print(\"        0    0    0\")\n",
    "print(\"        0    1    1\")\n",
    "print(\"        1    0    1\")\n",
    "print(\"        1    1    0 \\n\")\n",
    "    \n",
    "print(\"    TABELA VERDADE 5.9\")   \n",
    "print(\"        A    B    C\")\n",
    "print(\"        0    0    0\")\n",
    "print(\"        0    1    1\")\n",
    "print(\"        1    0    1\")\n",
    "print(\"        1    1    1\")"
   ]
  },
  {
   "cell_type": "code",
   "execution_count": 20,
   "metadata": {},
   "outputs": [
    {
     "name": "stdout",
     "output_type": "stream",
     "text": [
      "PROGRAMA PARA ACHAR A TABELA VERDADE DO EXERCÍCIO 8\n",
      "TEOREMA DE De Morgan -> NEGAÇÃO DO E é o OU das negações:\n"
     ]
    },
    {
     "name": "stdin",
     "output_type": "stream",
     "text": [
      "A =  0\n",
      "B =  0\n"
     ]
    },
    {
     "name": "stdout",
     "output_type": "stream",
     "text": [
      "Indique os valores de A e B no programa.\n",
      "Use 0 para False e 1 para True\n",
      "Sua saída para 0 e 0 na expressão é:\n"
     ]
    },
    {
     "data": {
      "text/plain": [
       "True"
      ]
     },
     "execution_count": 20,
     "metadata": {},
     "output_type": "execute_result"
    }
   ],
   "source": [
    "print(\"PROGRAMA PARA ACHAR A TABELA VERDADE DO EXERCÍCIO 8\")\n",
    "print(\"TEOREMA DE De Morgan -> NEGAÇÃO DO E é o OU das negações:\")\n",
    "\n",
    "a = int(input(\"A = \")) # a recebe valor desejado para as operações\n",
    "b = int(input(\"B = \")) # b ''      ''      ''     ''        ''\n",
    "c = (not(a and b))\n",
    "d = (not a or not b)\n",
    "\n",
    "print(\"Indique os valores de A e B no programa.\")\n",
    "print(\"Use 0 para False e 1 para True\")\n",
    "print(\"Sua saída para %d e %d na expressão é:\"  % (a,b))\n",
    "\n",
    "((not c) or d) and (c or (not d))       # Expressão é realizada e \n",
    "                                        # saída recebe o valor final da expressão    "
   ]
  },
  {
   "cell_type": "code",
   "execution_count": 21,
   "metadata": {},
   "outputs": [
    {
     "name": "stdout",
     "output_type": "stream",
     "text": [
      "PROGRAMA PARA ACHAR A TABELA VERDADE DO EXERCÍCIO 8\n",
      "TEOREMA DE De Morgan -> NEGAÇÃO DO OU é o E das negações:\n"
     ]
    },
    {
     "name": "stdin",
     "output_type": "stream",
     "text": [
      "A =  0\n",
      "B =  0\n"
     ]
    },
    {
     "name": "stdout",
     "output_type": "stream",
     "text": [
      "Indique os valores de A e B no programa.\n",
      "Use 0 para False e 1 para True\n",
      "Sua saída para 0 e 0 na expressão é:\n"
     ]
    },
    {
     "data": {
      "text/plain": [
       "True"
      ]
     },
     "execution_count": 21,
     "metadata": {},
     "output_type": "execute_result"
    }
   ],
   "source": [
    "print(\"PROGRAMA PARA ACHAR A TABELA VERDADE DO EXERCÍCIO 8\")\n",
    "print(\"TEOREMA DE De Morgan -> NEGAÇÃO DO OU é o E das negações:\")\n",
    "\n",
    "a = int(input(\"A = \")) # a recebe valor desejado para as operações\n",
    "b = int(input(\"B = \")) # b ''      ''      ''     ''        ''\n",
    "c = (not (a or b))\n",
    "d = (not a and not b)\n",
    "\n",
    "print(\"Indique os valores de A e B no programa.\")\n",
    "print(\"Use 0 para False e 1 para True\")\n",
    "print(\"Sua saída para %d e %d na expressão é:\"  % (a,b))\n",
    "\n",
    "((not c) or d) and (c or (not d))       # Expressão é realizada e \n",
    "                                        # saída recebe o valor final da expressão "
   ]
  },
  {
   "cell_type": "code",
   "execution_count": null,
   "metadata": {},
   "outputs": [],
   "source": []
  }
 ],
 "metadata": {
  "kernelspec": {
   "display_name": "Python 3",
   "language": "python",
   "name": "python3"
  },
  "language_info": {
   "codemirror_mode": {
    "name": "ipython",
    "version": 3
   },
   "file_extension": ".py",
   "mimetype": "text/x-python",
   "name": "python",
   "nbconvert_exporter": "python",
   "pygments_lexer": "ipython3",
   "version": "3.7.1"
  }
 },
 "nbformat": 4,
 "nbformat_minor": 2
}
