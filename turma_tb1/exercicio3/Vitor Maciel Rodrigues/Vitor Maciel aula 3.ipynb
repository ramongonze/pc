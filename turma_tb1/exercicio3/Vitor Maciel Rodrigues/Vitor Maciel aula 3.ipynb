{
 "cells": [
  {
   "cell_type": "code",
   "execution_count": 4,
   "metadata": {},
   "outputs": [
    {
     "data": {
      "text/plain": [
       "False"
      ]
     },
     "execution_count": 4,
     "metadata": {},
     "output_type": "execute_result"
    }
   ],
   "source": [
    "#Exercicio 1.1\n",
    "x=10\n",
    "y=12\n",
    "x>=y"
   ]
  },
  {
   "cell_type": "code",
   "execution_count": 45,
   "metadata": {},
   "outputs": [
    {
     "data": {
      "text/plain": [
       "True"
      ]
     },
     "execution_count": 45,
     "metadata": {},
     "output_type": "execute_result"
    }
   ],
   "source": [
    "#Exercicio 1.2\n",
    "x=10\n",
    "y=12\n",
    "x<=y"
   ]
  },
  {
   "cell_type": "code",
   "execution_count": 6,
   "metadata": {},
   "outputs": [
    {
     "data": {
      "text/plain": [
       "True"
      ]
     },
     "execution_count": 6,
     "metadata": {},
     "output_type": "execute_result"
    }
   ],
   "source": [
    "#Exercicio 1.3\n",
    "x=10\n",
    "y=12\n",
    "x!=y"
   ]
  },
  {
   "cell_type": "code",
   "execution_count": 10,
   "metadata": {},
   "outputs": [
    {
     "data": {
      "text/plain": [
       "True"
      ]
     },
     "execution_count": 10,
     "metadata": {},
     "output_type": "execute_result"
    }
   ],
   "source": [
    "#Exercicio 1.4\n",
    "x=10\n",
    "y=0\n",
    "z=float(\"inf\")\n",
    "(x>=0)and(x<=z)"
   ]
  },
  {
   "cell_type": "code",
   "execution_count": 11,
   "metadata": {},
   "outputs": [
    {
     "data": {
      "text/plain": [
       "True"
      ]
     },
     "execution_count": 11,
     "metadata": {},
     "output_type": "execute_result"
    }
   ],
   "source": [
    "#Exercicio 1.5\n",
    "x=4\n",
    "y=x*x\n",
    "y>=0"
   ]
  },
  {
   "cell_type": "code",
   "execution_count": 1,
   "metadata": {},
   "outputs": [
    {
     "data": {
      "text/plain": [
       "True"
      ]
     },
     "execution_count": 1,
     "metadata": {},
     "output_type": "execute_result"
    }
   ],
   "source": [
    "#Exercicio 1.6\n",
    "x=-5\n",
    "y=-x\n",
    "(x<=0)and(y>=0)"
   ]
  },
  {
   "cell_type": "code",
   "execution_count": 30,
   "metadata": {},
   "outputs": [
    {
     "name": "stdout",
     "output_type": "stream",
     "text": [
      "p q p or q \n",
      "False  False  False\n",
      "False  True   True\n",
      "True   False  True\n",
      "True   True   True\n"
     ]
    }
   ],
   "source": [
    "#Exercicio 2.1\n",
    "#(x>y)or(x=y)\n",
    "print(\"p q p or q \")  \n",
    "#Seja x=15 e y=20.\n",
    "p = False; q = False \n",
    "print(p,\"\",q,\"\", p or q)\n",
    "#Seja x=15 e y=15.\n",
    "p = False; q = True \n",
    "print(p,\"\",q,\" \", p or q)\n",
    "#Seja x=16 e y=15\n",
    "p = True;  q = False \n",
    "print(p,\" \",q,\"\", p or q)\n",
    "#seja x=20 e y=15\n",
    "p = True;  q = True \n",
    "print(p,\" \",q,\" \", p or q) \n"
   ]
  },
  {
   "cell_type": "code",
   "execution_count": 29,
   "metadata": {
    "scrolled": true
   },
   "outputs": [
    {
     "name": "stdout",
     "output_type": "stream",
     "text": [
      "p q p ou q \n",
      "False  False  False\n",
      "False  True   True\n",
      "True   False  True\n",
      "True   True   True\n"
     ]
    }
   ],
   "source": [
    "#Exercicio 2.2\n",
    "#(x<y)or(x=y)\n",
    "print(\"p q p or q \")  \n",
    "#Seja x=20 e y=15.\n",
    "p = False; q = False \n",
    "print(p,\"\",q,\"\", p or q)\n",
    "#Seja x=15 e y=15.\n",
    "p = False; q = True \n",
    "print(p,\"\",q,\" \", p or q)\n",
    "#Seja x=15 e y=20\n",
    "p = True;  q = False \n",
    "print(p,\" \",q,\"\", p or q)\n",
    "#seja x=20 e y=20\n",
    "p = True;  q = True \n",
    "print(p,\" \",q,\" \", p or q) \n"
   ]
  },
  {
   "cell_type": "code",
   "execution_count": 106,
   "metadata": {},
   "outputs": [
    {
     "name": "stdout",
     "output_type": "stream",
     "text": [
      " p q p xor q \n",
      "False  False   False\n",
      "False  True    True\n",
      "True   False   True\n",
      "True   True    False\n"
     ]
    }
   ],
   "source": [
    "#Exercicio 2.3\n",
    "#Se x!=y, então ou x>y ou x<y.\n",
    "print(\" p q p xor q \")\n",
    "#Seja x=y\n",
    "p = False; q = False\n",
    "print(p,\"\",q, \" \", p != q)\n",
    "#Seja x<y\n",
    "p = False; q = True \n",
    "print(p,\"\",q, \"  \", p != q) \n",
    "#Seja X>y\n",
    "p = True; q = False \n",
    "print(p,\" \",q,\" \", p != q)\n",
    "#Se x>y and x<y\n",
    "p = True; q = True \n",
    "print(p,\" \",q,\"  \", p != q)"
   ]
  },
  {
   "cell_type": "code",
   "execution_count": 107,
   "metadata": {},
   "outputs": [
    {
     "name": "stdout",
     "output_type": "stream",
     "text": [
      "p q p or q \n",
      "False  False  False\n",
      "False  True   True\n",
      "True   False  True\n",
      "True   True   True\n"
     ]
    }
   ],
   "source": [
    "#Exercicio 2.4\n",
    "#(x>=0)or(x<=10)\n",
    "print(\"p q p or q \")  \n",
    "#Seja x=-1 e y=20.\n",
    "p = False; q = False \n",
    "print(p,\"\",q,\"\", p or q)\n",
    "#Seja x=-10 e y=5.\n",
    "p = False; q = True \n",
    "print(p,\"\",q,\" \", p or q)\n",
    "#Seja x=16 e y=15\n",
    "p = True;  q = False \n",
    "print(p,\" \",q,\"\", p or q)\n",
    "#seja x=2 e y=8\n",
    "p = True;  q = True \n",
    "print(p,\" \",q,\" \", p or q) \n"
   ]
  },
  {
   "cell_type": "code",
   "execution_count": 109,
   "metadata": {},
   "outputs": [
    {
     "name": "stdout",
     "output_type": "stream",
     "text": [
      " ~a b ~a and b \n",
      "True  True   False\n",
      "True  False  False\n",
      "True   True   True\n",
      "True   False  False\n"
     ]
    }
   ],
   "source": [
    "#Exercicio 2.5\n",
    "print(\" ~a b ~a and b \")\n",
    "p=~a\n",
    "p = False; b = True\n",
    "print(a,\"\",b, \" \", p and b)  \n",
    "p = False; b = False \n",
    "print(a,\"\",b, \"\", p and b) \n",
    "p = True; b = True \n",
    "print(a,\" \",b,\" \", p and b)\n",
    "p = True; b = False \n",
    "print(a,\" \",b,\"\", p and b)"
   ]
  },
  {
   "cell_type": "code",
   "execution_count": 108,
   "metadata": {},
   "outputs": [
    {
     "name": "stdout",
     "output_type": "stream",
     "text": [
      " p q p <-> q \n",
      "False  False   True\n",
      "False  True    False\n",
      "True   False   False\n",
      "True   True    True\n"
     ]
    }
   ],
   "source": [
    "#Exercicio 2.6\n",
    "#x<=o <-> y>=0\n",
    "print(\" p q p <-> q \")\n",
    "#Seja x=5 e Y=-5\n",
    "p = False; q = False\n",
    "print(p,\"\",q, \" \", p == q) \n",
    "#Seja x=5 e y=5\n",
    "p = False; q = True \n",
    "print(p,\"\",q, \"  \", p == q) \n",
    "#Seja x=-1 e y=-1\n",
    "p = True; q = False \n",
    "print(p,\" \",q,\" \", p == q)\n",
    "#Seja x=-5 e y=5\n",
    "p = True; q = True \n",
    "print(p,\" \",q,\"  \", p == q)"
   ]
  },
  {
   "cell_type": "code",
   "execution_count": 41,
   "metadata": {},
   "outputs": [
    {
     "name": "stdout",
     "output_type": "stream",
     "text": [
      " p q p xor q \n",
      "False  False   False\n",
      "False  True    True\n",
      "True   False   True\n",
      "True   True    False\n"
     ]
    }
   ],
   "source": [
    "#Exercicio 3.1\n",
    "print(\" p q p xor q \")  \n",
    "p = False; q = False \n",
    "print(p,\"\",q, \" \", p != q)  \n",
    "p = False; q = True \n",
    "print(p,\"\",q, \"  \", p != q) \n",
    "p = True; q = False \n",
    "print(p,\" \",q,\" \", p != q) \n",
    "p = True; q = True \n",
    "print(p,\" \",q,\"  \", p != q)"
   ]
  },
  {
   "cell_type": "code",
   "execution_count": 47,
   "metadata": {},
   "outputs": [],
   "source": [
    "#Exercicio 3.2\n",
    "#A xor B= ~(a<->b)\n",
    "#       = ~((a->b)and(b->a))\n",
    "#       = ~((~a or b)and(~a or b))\n",
    "#        = (a and ~b) or (b and ~a).\n",
    "\n"
   ]
  },
  {
   "cell_type": "code",
   "execution_count": 50,
   "metadata": {},
   "outputs": [
    {
     "name": "stdout",
     "output_type": "stream",
     "text": [
      " p q p <-> q \n",
      "False  False   True\n",
      "False  True    False\n",
      "True   False   False\n",
      "True   True    True\n"
     ]
    }
   ],
   "source": [
    "#Exercicio 4\n",
    "print(\" p q p <-> q \")  \n",
    "p = False; q = False \n",
    "print(p,\"\",q, \" \", p == q)  \n",
    "p = False; q = True \n",
    "print(p,\"\",q, \"  \", p == q) \n",
    "p = True; q = False \n",
    "print(p,\" \",q,\" \", p == q) \n",
    "p = True; q = True \n",
    "print(p,\" \",q,\"  \", p == q)"
   ]
  },
  {
   "cell_type": "code",
   "execution_count": null,
   "metadata": {},
   "outputs": [],
   "source": [
    "#Exercicio 5.1\n",
    "~x<=y = (~x<y) or (~x=y)\n",
    "#Exercicio 5.2\n",
    "~x>y \n",
    "#Exercicio 5.3\n",
    "(x>=y) and (x<y)= ~x>y\n",
    "#Exercicio 5.4\n",
    "(x<=y) or (x>y) = \n",
    "#Exercicio 5.5\n",
    "0<=x<=10 = ((x>0) or (x=0)) or ((x<10) or (x=10))\n",
    "         = (x>0) or (x<10)\n",
    "#Exercicio 5.6\n",
    "~(a or ~b) = ~a and b\n",
    "#Exercicio 5.7\n",
    "~a->b = ~(~a) or b\n",
    "      = a or b.\n",
    "#Exercicio 5.8\n",
    "~(a->b)= ~(~a or b)\n",
    "       = a and ~b\n",
    "#EXercicio 5.9\n",
    "~(~a and ~b)= a or b"
   ]
  },
  {
   "cell_type": "code",
   "execution_count": 71,
   "metadata": {},
   "outputs": [
    {
     "name": "stdout",
     "output_type": "stream",
     "text": [
      " a ~b a or ~b \n",
      "False  True   True\n",
      "False  False  False\n",
      "True   True   True\n",
      "True   False  True\n",
      " ~a b ~a and b \n",
      "True   False   False\n",
      "True   True    True\n",
      "False  False   False\n",
      "False  True    False\n"
     ]
    }
   ],
   "source": [
    "#Exercicio 6.1.1\n",
    "print(\" a ~b a or ~b \")\n",
    "q=~b\n",
    "a = False; q = True\n",
    "print(a,\"\",q, \" \", a or q)  \n",
    "a = False; q = False \n",
    "print(a,\"\",q, \"\", a or q) \n",
    "a = True; q = True \n",
    "print(a,\" \",q,\" \", a or q) \n",
    "a = True; q = False \n",
    "print(a,\" \",q,\"\", a or q)\n",
    "\n",
    "#Exercicio 6.1.2\n",
    "print(\" ~a b ~a and b \")\n",
    "p=~a\n",
    "p = True; b = False\n",
    "print(p,\" \",b, \" \", p and b)  \n",
    "p = True; b = True \n",
    "print(p,\" \",b, \"  \", p and b) \n",
    "p = False; b = False \n",
    "print(p,\"\",b,\" \", p and b) \n",
    "p = False; b = True \n",
    "print(p,\"\",b,\"  \", p and b)"
   ]
  },
  {
   "cell_type": "code",
   "execution_count": 72,
   "metadata": {},
   "outputs": [
    {
     "name": "stdout",
     "output_type": "stream",
     "text": [
      " a b a or b \n",
      "False  True   True\n",
      "False  False  False\n",
      "True   True   True\n",
      "True   False  True\n"
     ]
    }
   ],
   "source": [
    "#Exercicio 6.2.1\n",
    "print(\" a b a or b \")\n",
    "a = False; b = True\n",
    "print(a,\"\",b, \" \", a or b)  \n",
    "a = False; b = False \n",
    "print(a,\"\",b, \"\", a or b) \n",
    "a = True; b = True \n",
    "print(a,\" \",b,\" \", a or b) \n",
    "a = True; b = False \n",
    "print(a,\" \",b,\"\", a or b)"
   ]
  },
  {
   "cell_type": "code",
   "execution_count": 73,
   "metadata": {},
   "outputs": [
    {
     "name": "stdout",
     "output_type": "stream",
     "text": [
      " a ~b a and ~b \n",
      "False  True   False\n",
      "False  False  False\n",
      "True   True   True\n",
      "True   False  False\n"
     ]
    }
   ],
   "source": [
    "#Exercicio 6.3.1\n",
    "print(\" a ~b a and ~b \")\n",
    "q=~b\n",
    "a = False; q = True\n",
    "print(a,\"\",q, \" \", a and q)  \n",
    "a = False; q = False \n",
    "print(a,\"\",q, \"\", a and q) \n",
    "a = True; q = True \n",
    "print(a,\" \",q,\" \", a and q) \n",
    "a = True; q = False \n",
    "print(a,\" \",q,\"\", a and q)"
   ]
  },
  {
   "cell_type": "code",
   "execution_count": 74,
   "metadata": {},
   "outputs": [
    {
     "name": "stdout",
     "output_type": "stream",
     "text": [
      " a b a or b \n",
      "False  True   True\n",
      "False  False  False\n",
      "True   True   True\n",
      "True   False  True\n"
     ]
    }
   ],
   "source": [
    "#Exercicio 6.4.1\n",
    "print(\" a b a or b \")\n",
    "a = False; b = True\n",
    "print(a,\"\",b, \" \", a or b)  \n",
    "a = False; b = False \n",
    "print(a,\"\",b, \"\", a or b) \n",
    "a = True; b = True \n",
    "print(a,\" \",b,\" \", a or b) \n",
    "a = True; b = False \n",
    "print(a,\" \",b,\"\", a or b)"
   ]
  },
  {
   "cell_type": "code",
   "execution_count": null,
   "metadata": {},
   "outputs": [],
   "source": [
    "#Exercicio 7\n",
    "Equivalentes entre si são os exercícios 5.7 e 5.9, já que ambos tem como tabela verdade final \"a or b\""
   ]
  },
  {
   "cell_type": "code",
   "execution_count": 102,
   "metadata": {},
   "outputs": [
    {
     "name": "stdout",
     "output_type": "stream",
     "text": [
      "a       b    a and b \n",
      "False  True   False\n",
      "False  False  False\n",
      "True   True   True\n",
      "True   False  False\n",
      " ~a ~b ~a or ~b \n",
      "True   False  True\n",
      "True   True   True\n",
      "False  False  False\n",
      "False  True   True\n"
     ]
    }
   ],
   "source": [
    "#Exercicio 8.1\n",
    "print(\"a       b    a and b \")\n",
    "a = False; b = True\n",
    "print(a,\"\",b, \" \", a and b) \n",
    "a = False; b = False \n",
    "print(a,\"\",b, \"\", a and b) \n",
    "a = True; b = True \n",
    "print(a,\" \",b,\" \", a and b) \n",
    "a = True; b = False \n",
    "print(a,\" \",b,\"\", a and b)\n",
    "#Teorema de De Morgan\n",
    "\n",
    "print(\" ~a ~b ~a or ~b \")\n",
    "p=~a\n",
    "q=~b\n",
    "p = True; q = False\n",
    "print(p,\" \",q, \"\", p or q)  \n",
    "p = True; q = True \n",
    "print(p,\" \",q, \" \", p or q) \n",
    "p = False; q = False \n",
    "print(p,\"\",q,\"\", p or q) \n",
    "p = False; q = True \n",
    "print(p,\"\",q,\" \", p or q)\n",
    "#Deve-se lembrar que a primeira tabela deve ser negada. Logo, são equivalentes entre si."
   ]
  },
  {
   "cell_type": "code",
   "execution_count": 105,
   "metadata": {},
   "outputs": [
    {
     "name": "stdout",
     "output_type": "stream",
     "text": [
      "a       b    a or b \n",
      "False  True   True\n",
      "False  False  False\n",
      "True   True   True\n",
      "True   False  True\n",
      " ~a ~b ~a or ~b \n",
      "True   False  False\n",
      "True   True   True\n",
      "False  False  False\n",
      "False  True   False\n"
     ]
    }
   ],
   "source": [
    "#Exercicio 8.2\n",
    "print(\"a       b    a or b \")\n",
    "a = False; b = True\n",
    "print(a,\"\",b, \" \", a or b) \n",
    "a = False; b = False \n",
    "print(a,\"\",b, \"\", a or b) \n",
    "a = True; b = True \n",
    "print(a,\" \",b,\" \", a or b) \n",
    "a = True; b = False \n",
    "print(a,\" \",b,\"\", a or b)\n",
    "#Teorema de De Morgan\n",
    "\n",
    "print(\" ~a ~b ~a or ~b \")\n",
    "p=~a\n",
    "q=~b\n",
    "p = True; q = False\n",
    "print(p,\" \",q, \"\", p and q)  \n",
    "p = True; q = True \n",
    "print(p,\" \",q, \" \", p and q) \n",
    "p = False; q = False \n",
    "print(p,\"\",q,\"\", p and q) \n",
    "p = False; q = True \n",
    "print(p,\"\",q,\" \", p and q)\n",
    "#Deve-se lembrar que a primeira tabela deve ser negada. Logo, são equivalentes entre si."
   ]
  }
 ],
 "metadata": {
  "kernelspec": {
   "display_name": "Python 3",
   "language": "python",
   "name": "python3"
  },
  "language_info": {
   "codemirror_mode": {
    "name": "ipython",
    "version": 3
   },
   "file_extension": ".py",
   "mimetype": "text/x-python",
   "name": "python",
   "nbconvert_exporter": "python",
   "pygments_lexer": "ipython3",
   "version": "3.7.1"
  }
 },
 "nbformat": 4,
 "nbformat_minor": 2
}
