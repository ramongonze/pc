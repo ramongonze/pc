{
 "cells": [
  {
   "cell_type": "markdown",
   "metadata": {},
   "source": [
    "### 1. Como expressar as seguintes expressões matemáticas usando apenas >, <, = e operadores lógicos?\n",
    "\n",
    "1.1. x ≥ y\n",
    "\n",
    "1.2. x ≤ y\n",
    "\n",
    "1.3. x != y\n",
    "\n",
    "1.4. 0 <= x <= ∞.\n",
    "\n",
    "1.5. x > 0 → y ≥ 0.\n",
    "\n",
    "1.6. x ≤ 0 ↔ y ≥ 0."
   ]
  },
  {
   "cell_type": "markdown",
   "metadata": {},
   "source": [
    "#### Resposta\n",
    "1.1 (x > y) or (x = y)\n",
    "\n",
    "1.2 (x < y) or (x = y)\n",
    "\n",
    "1.3 (x > y) or (x < y)\n",
    "\n",
    "1.4 ((0 < x) or (0 = x)) and ((x < ∞) or (x = ∞))\n",
    "\n",
    "1.5 x > 0 → (y > 0 or y = 0)\n",
    "\n",
    "1.6. (x < 0 or x = 0) ↔ (y > 0 or y = 0)"
   ]
  },
  {
   "cell_type": "markdown",
   "metadata": {},
   "source": [
    "### 2. Escreva as tabelas de verdade para as expressões acima."
   ]
  },
  {
   "cell_type": "markdown",
   "metadata": {},
   "source": [
    "#### Resposta"
   ]
  },
  {
   "cell_type": "raw",
   "metadata": {},
   "source": [
    "\n",
    "\n",
    "1.1\n",
    "x     y     x >= y\n",
    "0     0      true\n",
    "0     1      false\n",
    "1     0      true\n",
    "\n",
    "1.2\n",
    "x     y     x <= y\n",
    "0     0      true\n",
    "0     1      true\n",
    "1     0      false\n",
    "\n",
    "1.3\n",
    "x     y     x != y\n",
    "0     0      false\n",
    "0     1      true\n",
    "1     0      true\n",
    "\n",
    "1.4\n",
    "x     0 <= x <= inf\n",
    "-1     false\n",
    " 0     true\n",
    " 1     true\n",
    " \n",
    "1.5\n",
    "x     y     x > 0 → y ≥ 0.\n",
    "0     -1      true\n",
    "0     1       true\n",
    "1     -1      false\n",
    "1     1       true\n",
    "\n",
    "1.6\n",
    "x     y     x ≤ 0 ↔ y ≥ 0.\n",
    "0     -1      false\n",
    "0     1       true\n",
    "1     -1      true\n",
    "1     1       true\n",
    "\n"
   ]
  },
  {
   "cell_type": "markdown",
   "metadata": {},
   "source": [
    "### 3. Outra operação lógica importante é “OU EXCLUSIVO”, também conhecido como “XOR” (⊗). A ⊗ B só é verdade se A e B NÃO têm o mesmo valor de verdade.\n",
    "\n",
    "3.1. Escreva a tabela de verdade da operação lógica “XOR”.\n",
    "\n",
    "3.2. Expresse o “XOR” em termos dos operadores lógicos básicos\n",
    "“E”, “OU” e “NÃO”."
   ]
  },
  {
   "cell_type": "markdown",
   "metadata": {},
   "source": [
    "#### Resposta"
   ]
  },
  {
   "cell_type": "raw",
   "metadata": {},
   "source": [
    "3.1\n",
    "a    b    x ^ b\n",
    "0    0    false\n",
    "0    1    true\n",
    "1    0    true\n",
    "1    1    false\n",
    "\n",
    "3.2\n",
    "(a and ¬b) or (¬a and b)"
   ]
  },
  {
   "cell_type": "markdown",
   "metadata": {},
   "source": [
    "### 4. Compare as tabelas de verdade em 3.1 e 3.2 com a tabela de verdade da operação lógica ↔."
   ]
  },
  {
   "cell_type": "markdown",
   "metadata": {},
   "source": [
    "#### Resposta"
   ]
  },
  {
   "cell_type": "raw",
   "metadata": {},
   "source": [
    "a     b     x ^ b   (a nd ¬b) or (¬a and b)   a ↔ b\n",
    "0     0     false            false             true \n",
    "0     1     true             true              true\n",
    "1     0     true             true              true\n",
    "1     1     false            false             true"
   ]
  },
  {
   "cell_type": "markdown",
   "metadata": {},
   "source": [
    "### 5. Qual é a expressão equivalente das seguintes expressões:\n",
    "5.1. ¬ x ≤ y\n",
    "\n",
    "5.2. ¬ x > y\n",
    "\n",
    "5.3. x ≥ y ∧ x < y\n",
    "\n",
    "5.4. x ≤ y ∨ x > y\n",
    "\n",
    "5.5. 0 ≤ x ≤ 10\n",
    "\n",
    "5.6. ¬ (a ∨ ¬ b)\n",
    "\n",
    "5.7. ¬ a → b\n",
    "\n",
    "5.8. ¬( a → b)\n",
    "\n",
    "5.9. ¬ (¬ a ∧ ¬ b)"
   ]
  },
  {
   "cell_type": "markdown",
   "metadata": {},
   "source": [
    "#### Resposta"
   ]
  },
  {
   "cell_type": "raw",
   "metadata": {},
   "source": [
    "5.1  x > y\n",
    "5.2  x <= y\n",
    "5.3  false\n",
    "5.4  true\n",
    "5.5  0 <= x and x <= 10\n",
    "5.6  ¬a ∧ b\n",
    "5.7  a v (¬a ∧ b)\n",
    "5.8  a v ¬b"
   ]
  },
  {
   "cell_type": "markdown",
   "metadata": {},
   "source": [
    "### 6. Faça as tabelas da verdade em Python dos exercícios 5.6, 5.7, 5.8 e 5.9 acima e das suas respostas, para  erificar se são idênticas."
   ]
  },
  {
   "cell_type": "markdown",
   "metadata": {},
   "source": [
    "#### Resposta"
   ]
  },
  {
   "cell_type": "raw",
   "metadata": {},
   "source": [
    "Se a pessoa acertou a 5, então acertou a 6"
   ]
  },
  {
   "cell_type": "markdown",
   "metadata": {},
   "source": [
    "### 7. Quais das expressões dos exercícios 5.6, 5.7, 5.8 e 5.9 acima são equivalentes entre si?"
   ]
  },
  {
   "cell_type": "markdown",
   "metadata": {},
   "source": [
    "#### Resposta"
   ]
  },
  {
   "cell_type": "raw",
   "metadata": {},
   "source": [
    "5.7 e 5.9 são equivalentes"
   ]
  },
  {
   "cell_type": "markdown",
   "metadata": {},
   "source": [
    "### 8. Faça as tabelas de verdade do Teorema de De Morgan em Python e verifique se o Teorema é válido."
   ]
  },
  {
   "cell_type": "markdown",
   "metadata": {},
   "source": [
    "#### Resposta"
   ]
  },
  {
   "cell_type": "code",
   "execution_count": 14,
   "metadata": {},
   "outputs": [
    {
     "name": "stdout",
     "output_type": "stream",
     "text": [
      "p     q     ¬(p or q)     ¬p and ¬q\n",
      "0     0        1             1   \n",
      "0     1        0             0   \n",
      "1     0        0             0   \n",
      "1     1        0             0   \n",
      "\n",
      "\n",
      "p     q     ¬(p and q)     ¬p or ¬q\n",
      "0     0        1             1   \n",
      "0     1        1             1   \n",
      "1     0        1             1   \n",
      "1     1        0             0   \n"
     ]
    }
   ],
   "source": [
    "# ¬(p or q) = ¬p and ¬q\n",
    "print(\"p     q     ¬(p or q)     ¬p and ¬q\")\n",
    "p, q = False, False\n",
    "print(\"%d     %d        %d             %d   \"%(p,q,(not(p or q)), (not(p) and not(q))) )\n",
    "p, q = False, True\n",
    "print(\"%d     %d        %d             %d   \"%(p,q,(not(p or q)), (not(p) and not(q))) )\n",
    "p, q = True, False\n",
    "print(\"%d     %d        %d             %d   \"%(p,q,(not(p or q)), (not(p) and not(q))) )\n",
    "p, q = True, True\n",
    "print(\"%d     %d        %d             %d   \"%(p,q,(not(p or q)), (not(p) and not(q))) )\n",
    "\n",
    "# ¬(p and q) = ¬p or ¬q\n",
    "print(\"\\n\\np     q     ¬(p and q)     ¬p or ¬q\")\n",
    "p, q = False, False\n",
    "print(\"%d     %d        %d             %d   \"%(p,q,(not(p and q)), (not(p) or not(q))) )\n",
    "p, q = False, True\n",
    "print(\"%d     %d        %d             %d   \"%(p,q,(not(p and q)), (not(p) or not(q))) )\n",
    "p, q = True, False\n",
    "print(\"%d     %d        %d             %d   \"%(p,q,(not(p and q)), (not(p) or not(q))) )\n",
    "p, q = True, True\n",
    "print(\"%d     %d        %d             %d   \"%(p,q,(not(p and q)), (not(p) or not(q))) )\n"
   ]
  },
  {
   "cell_type": "code",
   "execution_count": null,
   "metadata": {},
   "outputs": [],
   "source": []
  }
 ],
 "metadata": {
  "kernelspec": {
   "display_name": "Python 3",
   "language": "python",
   "name": "python3"
  },
  "language_info": {
   "codemirror_mode": {
    "name": "ipython",
    "version": 3
   },
   "file_extension": ".py",
   "mimetype": "text/x-python",
   "name": "python",
   "nbconvert_exporter": "python",
   "pygments_lexer": "ipython3",
   "version": "3.7.1"
  }
 },
 "nbformat": 4,
 "nbformat_minor": 2
}
