{
 "cells": [
  {
   "cell_type": "code",
   "execution_count": 1,
   "metadata": {},
   "outputs": [
    {
     "data": {
      "text/plain": [
       "[(1, 1), (2, 4), (3, 9), (4, 16), (5, 25)]"
      ]
     },
     "execution_count": 1,
     "metadata": {},
     "output_type": "execute_result"
    }
   ],
   "source": [
    "def exercicio_1(n):\n",
    "    #Cria tuplas partindo do input de 1 até n e dos quadrados dos valores\n",
    "    L=list(range(1,n+1))\n",
    "    B=list()\n",
    "    for i in range(0,(len(L))):\n",
    "        B.append(L[i]**2)\n",
    "    t=[(L[i],B[i])for i in range (0,len(L))]\n",
    "    return t\n",
    "exercicio_1(5)"
   ]
  },
  {
   "cell_type": "code",
   "execution_count": 2,
   "metadata": {},
   "outputs": [
    {
     "data": {
      "text/plain": [
       "[(1, 1, 1), (2, 4, 8), (3, 9, 27), (4, 16, 64)]"
      ]
     },
     "execution_count": 2,
     "metadata": {},
     "output_type": "execute_result"
    }
   ],
   "source": [
    "def exercicio_2(n):\n",
    "    #Cria tuplas partindo do input de 1 até n e dos quadrados dos valores\n",
    "    L=list(range(1,n+1))\n",
    "    B=list()\n",
    "    C=list()\n",
    "    for i in range(0,(len(L))):\n",
    "        B.append(L[i]**2)\n",
    "    for i in range(0,(len(L))):\n",
    "        C.append(L[i]**3)\n",
    "    t=[(L[i],B[i],C[i])for i in range (0,len(L))]\n",
    "    return t\n",
    "exercicio_2(4)"
   ]
  },
  {
   "cell_type": "code",
   "execution_count": 3,
   "metadata": {},
   "outputs": [
    {
     "name": "stdout",
     "output_type": "stream",
     "text": [
      "1 2 3 4 5 \n",
      "6 7 8 9 10 \n"
     ]
    }
   ],
   "source": [
    "def exercício_9_3():\n",
    "    #Imprime a tupla (1,2,3,4,5,6,7,8,9,10) em duas linhas em formato de string\n",
    "    t=(1,2,3,4,5,6,7,8,9,10)\n",
    "    a=\"\"\n",
    "    for i in range(0,len(t)):\n",
    "        a+=str(t[i])+\" \"\n",
    "    b=a[:10]+\"\\n\"+a[10:]\n",
    "    print(b)\n",
    "exercício_9_3()"
   ]
  },
  {
   "cell_type": "code",
   "execution_count": 4,
   "metadata": {},
   "outputs": [
    {
     "name": "stdout",
     "output_type": "stream",
     "text": [
      "(2, 4, 6)\n",
      "(1, 3, 5, 7)\n"
     ]
    }
   ],
   "source": [
    "def exercicio_9_4(t):\n",
    "    # De uma tupla inicial dada na entrada, separa em duas tuplas, uma de pares e uma de ímpares\n",
    "    impares=[]\n",
    "    pares=[]\n",
    "    for i in range(0,len(t)):\n",
    "\n",
    "        if t[i]%2!=0:\n",
    "            impares.append(t[i])\n",
    "        else:\n",
    "            pares.append(t[i])\n",
    "    impares.sort()\n",
    "    pares.sort()\n",
    "    pares=tuple(pares)\n",
    "    impares=tuple(impares)\n",
    "    print(pares)\n",
    "    print(impares)\n",
    "    return  \n",
    "exercicio_9_4((7,6,5,4,3,2,1))"
   ]
  },
  {
   "cell_type": "code",
   "execution_count": 5,
   "metadata": {},
   "outputs": [
    {
     "data": {
      "text/plain": [
       "(1, 2, 3, 4, 5)"
      ]
     },
     "execution_count": 5,
     "metadata": {},
     "output_type": "execute_result"
    }
   ],
   "source": [
    "def exercicio_9_5_1(l):\n",
    "    #Cria uma tupla de duas maneiras diferentes de uma lista de entrada\n",
    "    t=()\n",
    "    for i in range (0,(len(l)),1):\n",
    "        t+=(l[i],)\n",
    "    return t\n",
    "exercicio_9_5_1([1,2,3,4,5])\n",
    "def exercicio_9_5_2(l):\n",
    "    c=tuple(l)\n",
    "    return c\n",
    "exercicio_9_5_2([1,2,3,4,5])"
   ]
  },
  {
   "cell_type": "code",
   "execution_count": 6,
   "metadata": {},
   "outputs": [
    {
     "data": {
      "text/plain": [
       "([(1, 2, 100), (2, 4, 100), (4, 8, 100), (8, 16, 100)], 100)"
      ]
     },
     "execution_count": 6,
     "metadata": {},
     "output_type": "execute_result"
    }
   ],
   "source": [
    "def exercicio_6(l,n):\n",
    "    #Substitui o último elemento de cada tupla dentro de uma lista por um valor escolhido\n",
    "    lista1=[]\n",
    "    for i in l:\n",
    "        a=(i[0],i[1],100)\n",
    "        lista1.append(a)\n",
    "    return lista1,n\n",
    "exercicio_6([(1, 2, 3),(2, 4, 6),(4, 8, 12),(8, 16, 24)],100)"
   ]
  },
  {
   "cell_type": "code",
   "execution_count": 7,
   "metadata": {},
   "outputs": [
    {
     "data": {
      "text/plain": [
       "[((1, 5), (1, 0.2)),\n",
       " ((2, 10), (2, 0.4)),\n",
       " ((3, 15), (3, 0.6)),\n",
       " ((4, 20), (4, 0.8)),\n",
       " ((5, 25), (5, 1.0)),\n",
       " ((6, 30), (6, 1.2)),\n",
       " ((7, 35), (7, 1.4)),\n",
       " ((8, 40), (8, 1.6)),\n",
       " ((9, 45), (9, 1.8)),\n",
       " ((10, 50), (10, 2.0)),\n",
       " ((11, 55), (11, 2.2)),\n",
       " ((12, 60), (12, 2.4)),\n",
       " ((13, 65), (13, 2.6)),\n",
       " ((14, 70), (14, 2.8)),\n",
       " ((15, 75), (15, 3.0)),\n",
       " ((16, 80), (16, 3.2)),\n",
       " ((17, 85), (17, 3.4)),\n",
       " ((18, 90), (18, 3.6)),\n",
       " ((19, 95), (19, 3.8)),\n",
       " ((20, 100), (20, 4.0)),\n",
       " ((21, 105), (21, 4.2)),\n",
       " ((22, 110), (22, 4.4)),\n",
       " ((23, 115), (23, 4.6)),\n",
       " ((24, 120), (24, 4.8)),\n",
       " ((25, 125), (25, 5.0)),\n",
       " ((26, 130), (26, 5.2)),\n",
       " ((27, 135), (27, 5.4)),\n",
       " ((28, 140), (28, 5.6)),\n",
       " ((29, 145), (29, 5.8)),\n",
       " ((30, 150), (30, 6.0)),\n",
       " ((31, 155), (31, 6.2)),\n",
       " ((32, 160), (32, 6.4)),\n",
       " ((33, 165), (33, 6.6)),\n",
       " ((34, 170), (34, 6.8)),\n",
       " ((35, 175), (35, 7.0)),\n",
       " ((36, 180), (36, 7.2)),\n",
       " ((37, 185), (37, 7.4)),\n",
       " ((38, 190), (38, 7.6)),\n",
       " ((39, 195), (39, 7.8)),\n",
       " ((40, 200), (40, 8.0)),\n",
       " ((41, 205), (41, 8.2)),\n",
       " ((42, 210), (42, 8.4)),\n",
       " ((43, 215), (43, 8.6)),\n",
       " ((44, 220), (44, 8.8)),\n",
       " ((45, 225), (45, 9.0)),\n",
       " ((46, 230), (46, 9.2)),\n",
       " ((47, 235), (47, 9.4)),\n",
       " ((48, 240), (48, 9.6)),\n",
       " ((49, 245), (49, 9.8)),\n",
       " ((50, 250), (50, 10.0)),\n",
       " ((51, 255), (51, 10.2)),\n",
       " ((52, 260), (52, 10.4)),\n",
       " ((53, 265), (53, 10.6)),\n",
       " ((54, 270), (54, 10.8)),\n",
       " ((55, 275), (55, 11.0)),\n",
       " ((56, 280), (56, 11.2)),\n",
       " ((57, 285), (57, 11.4)),\n",
       " ((58, 290), (58, 11.6)),\n",
       " ((59, 295), (59, 11.8)),\n",
       " ((60, 300), (60, 12.0)),\n",
       " ((61, 305), (61, 12.2)),\n",
       " ((62, 310), (62, 12.4)),\n",
       " ((63, 315), (63, 12.6)),\n",
       " ((64, 320), (64, 12.8)),\n",
       " ((65, 325), (65, 13.0)),\n",
       " ((66, 330), (66, 13.2)),\n",
       " ((67, 335), (67, 13.4)),\n",
       " ((68, 340), (68, 13.6)),\n",
       " ((69, 345), (69, 13.8)),\n",
       " ((70, 350), (70, 14.0)),\n",
       " ((71, 355), (71, 14.2)),\n",
       " ((72, 360), (72, 14.4)),\n",
       " ((73, 365), (73, 14.6)),\n",
       " ((74, 370), (74, 14.8)),\n",
       " ((75, 375), (75, 15.0)),\n",
       " ((76, 380), (76, 15.2)),\n",
       " ((77, 385), (77, 15.4)),\n",
       " ((78, 390), (78, 15.6)),\n",
       " ((79, 395), (79, 15.8)),\n",
       " ((80, 400), (80, 16.0)),\n",
       " ((81, 405), (81, 16.2)),\n",
       " ((82, 410), (82, 16.4)),\n",
       " ((83, 415), (83, 16.6)),\n",
       " ((84, 420), (84, 16.8)),\n",
       " ((85, 425), (85, 17.0)),\n",
       " ((86, 430), (86, 17.2)),\n",
       " ((87, 435), (87, 17.4)),\n",
       " ((88, 440), (88, 17.6)),\n",
       " ((89, 445), (89, 17.8)),\n",
       " ((90, 450), (90, 18.0)),\n",
       " ((91, 455), (91, 18.2)),\n",
       " ((92, 460), (92, 18.4)),\n",
       " ((93, 465), (93, 18.6)),\n",
       " ((94, 470), (94, 18.8)),\n",
       " ((95, 475), (95, 19.0)),\n",
       " ((96, 480), (96, 19.2)),\n",
       " ((97, 485), (97, 19.4)),\n",
       " ((98, 490), (98, 19.6)),\n",
       " ((99, 495), (99, 19.8)),\n",
       " ((100, 500), (100, 20.0))]"
      ]
     },
     "execution_count": 7,
     "metadata": {},
     "output_type": "execute_result"
    }
   ],
   "source": [
    "def exercicio_9_7(cotação):\n",
    "    #Calcula a conversão de reais para dólares e de dólares para reais por um valor de entrada.\n",
    "    t=[((i,i*cotação),(i,i/cotação)) for i in range (1,101)]\n",
    "    return t\n",
    "exercicio_9_7(5)"
   ]
  },
  {
   "cell_type": "code",
   "execution_count": null,
   "metadata": {},
   "outputs": [],
   "source": []
  },
  {
   "cell_type": "code",
   "execution_count": null,
   "metadata": {},
   "outputs": [],
   "source": []
  }
 ],
 "metadata": {
  "kernelspec": {
   "display_name": "Python 3",
   "language": "python",
   "name": "python3"
  },
  "language_info": {
   "codemirror_mode": {
    "name": "ipython",
    "version": 3
   },
   "file_extension": ".py",
   "mimetype": "text/x-python",
   "name": "python",
   "nbconvert_exporter": "python",
   "pygments_lexer": "ipython3",
   "version": "3.7.1"
  }
 },
 "nbformat": 4,
 "nbformat_minor": 2
}
