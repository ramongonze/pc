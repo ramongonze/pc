{
 "cells": [
  {
   "cell_type": "code",
   "execution_count": 9,
   "metadata": {},
   "outputs": [],
   "source": [
    "#Lista 10\n",
    "\n",
    "def exercicio_1(n):\n",
    "    lista = []\n",
    "    for i in range(1, n+1):\n",
    "        tupla = i, i**2 #imprime o elemento e seu quadrado\n",
    "        lista.append(tupla)\n",
    "    return lista"
   ]
  },
  {
   "cell_type": "code",
   "execution_count": 10,
   "metadata": {},
   "outputs": [],
   "source": [
    "def exercicio_2(n):\n",
    "    lista = []\n",
    "    for i in range(1, n+1):\n",
    "        tupla = i, i**2, i**3 #imprime o elemento, seu quadrado e seu cubo\n",
    "        lista.append(tupla)\n",
    "    return lista"
   ]
  },
  {
   "cell_type": "code",
   "execution_count": 11,
   "metadata": {},
   "outputs": [],
   "source": [
    "def exercicio_3():\n",
    "    t = (1, 2, 3, 4, 5, 6, 7, 8, 9, 10)\n",
    "    return (t[0:5],t[5:])"
   ]
  },
  {
   "cell_type": "code",
   "execution_count": 12,
   "metadata": {},
   "outputs": [],
   "source": [
    "def exercicio_4(t):\n",
    "    par = [] \n",
    "    impar = [] \n",
    "    for i in t:\n",
    "        if i/2 == i//2: #se for divisível por 2, inserimos na lista par\n",
    "            par.append(i)\n",
    "        if i/2 != i//2: #se não for divisível por 2, inserimos na lista ímpar\n",
    "            impar.append(i)\n",
    "    tupla_par = tuple(par) #transformando em tupla\n",
    "    tupla_impar = tuple(impar)\n",
    "    \n",
    "    return (tupla_par, tupla_impar) #imprimindo em forma de tupla"
   ]
  },
  {
   "cell_type": "code",
   "execution_count": 13,
   "metadata": {},
   "outputs": [],
   "source": [
    "def exercicio_5_1(lista):\n",
    "    t = tuple(lista) #jeito simples de transformar lista em tupla\n",
    "    return t"
   ]
  },
  {
   "cell_type": "code",
   "execution_count": 14,
   "metadata": {},
   "outputs": [],
   "source": [
    "def exercicio_5_2(lista):\n",
    "    tupla = ()\n",
    "    for i in lista:\n",
    "        tupla += i, #cada elemento será adicionado a tupla vazia criada anteriormente\n",
    "    return tupla"
   ]
  },
  {
   "cell_type": "code",
   "execution_count": 15,
   "metadata": {},
   "outputs": [],
   "source": [
    "def exercicio_6(lista_tuplas,n):\n",
    "    alterada = [] #criando a lista que receberá as tuplas alteradas\n",
    "    for tupla in lista_tuplas:\n",
    "        valor = list(tupla)\n",
    "        valor[-1] = n #alterando o último valor para 100\n",
    "        alterada.append(tuple(valor)) #formato tupla\n",
    "    return (lista_tuplas, alterada)"
   ]
  },
  {
   "cell_type": "code",
   "execution_count": 16,
   "metadata": {},
   "outputs": [],
   "source": [
    "def exercicio_7(d):\n",
    "    s = '' #string vazio\n",
    "    for p in range(1,101): #para imprimir até o valor 100\n",
    "            s += f'US$ {p:6.2F} = R$ {p*d:6.2F}     R${p:6.2f} = US$ {p/d:6.2f}\\n' #multiplicação e divisão dos valores dólar/real real/dólar\n",
    "            s += f\"-\"*22+f\" \"*4+f\"-\"*22+\"\\n\" #tracinhos separadores\n",
    "    return s\n",
    "    #print(s)  OBSERVAÇÃO: SE USAR O PRINT S A TABELA FICA PERFEITA, MAS NÃO FUNCIONA CORRETAMENTE COM O RETURN, POIS O RETURN NÃO INTERPRETA CORRETAMENTE A QUEBRA DE LINHAS"
   ]
  },
  {
   "cell_type": "code",
   "execution_count": null,
   "metadata": {
    "collapsed": true
   },
   "outputs": [],
   "source": []
  }
 ],
 "metadata": {
  "kernelspec": {
   "display_name": "Python 3",
   "language": "python",
   "name": "python3"
  },
  "language_info": {
   "codemirror_mode": {
    "name": "ipython",
    "version": 3
   },
   "file_extension": ".py",
   "mimetype": "text/x-python",
   "name": "python",
   "nbconvert_exporter": "python",
   "pygments_lexer": "ipython3",
   "version": "3.6.5"
  }
 },
 "nbformat": 4,
 "nbformat_minor": 2
}
