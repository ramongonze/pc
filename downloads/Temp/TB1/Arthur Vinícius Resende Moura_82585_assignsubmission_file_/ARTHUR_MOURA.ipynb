{
 "cells": [
  {
   "cell_type": "markdown",
   "metadata": {},
   "source": [
    "## Exercício 1"
   ]
  },
  {
   "cell_type": "code",
   "execution_count": null,
   "metadata": {},
   "outputs": [],
   "source": [
    "def exercicio_1(n):\n",
    "    i = 1\n",
    "    tupla = ()\n",
    "    if n==0:\n",
    "        tupla = (0,0)\n",
    "    for i in range (1,n+1):\n",
    "        tupla += i,i*i\n",
    "        i += 1\n",
    "    if n < 0:\n",
    "        for n in range (n, i-1):\n",
    "            tupla += n, n*n\n",
    "            n += 1\n",
    "    return tupla"
   ]
  },
  {
   "cell_type": "markdown",
   "metadata": {},
   "source": [
    "## Exercício 2"
   ]
  },
  {
   "cell_type": "code",
   "execution_count": null,
   "metadata": {},
   "outputs": [],
   "source": [
    "def exercicio_2(n):\n",
    "    i = 1\n",
    "    tupla = ()\n",
    "    if n == 0:\n",
    "        tupla = (0,0,0)\n",
    "    for i in range (1,n+1):\n",
    "        tupla += i,i*i, i*i*i\n",
    "        i += 1\n",
    "    if n < 0:\n",
    "        for n in range (n,i-1):\n",
    "            tupla += n, n*n, n*n*n\n",
    "            n += 1\n",
    "    return tupla"
   ]
  },
  {
   "cell_type": "markdown",
   "metadata": {},
   "source": [
    "## Exercício 3"
   ]
  },
  {
   "cell_type": "code",
   "execution_count": null,
   "metadata": {},
   "outputs": [],
   "source": [
    "def exercicio_3():\n",
    "    t = (1,2,3,4,5,6,7,8,9,10)\n",
    "    t= str(t[0:5])+'\\n'+str(t[5:11])\n",
    "    return t\n",
    "lol = exercicio_3()\n",
    "print(lol)"
   ]
  },
  {
   "cell_type": "markdown",
   "metadata": {},
   "source": [
    "## Exercício 4"
   ]
  },
  {
   "cell_type": "code",
   "execution_count": null,
   "metadata": {},
   "outputs": [],
   "source": [
    "def exercicio_4(t):\n",
    "    t1=()\n",
    "    t2=()\n",
    "    for i in range (0, len(t)):\n",
    "        if t[i]%2==0:\n",
    "            t1 += t[i],\n",
    "            t1 = sorted(t1)\n",
    "            t1 = tuple(t1)\n",
    "        else:\n",
    "            t2 += t[i],\n",
    "            t2 = sorted(t2)\n",
    "            t2 = tuple(t2)\n",
    "    return (t1,t2)\n",
    "t1,t2 = exercicio_4((2,5,6,3,1,6,10))\n",
    "print(t1)\n",
    "print(t2)"
   ]
  },
  {
   "cell_type": "markdown",
   "metadata": {},
   "source": [
    "## Exercício 5"
   ]
  },
  {
   "cell_type": "code",
   "execution_count": null,
   "metadata": {},
   "outputs": [],
   "source": [
    "def exercicio_5_1(l):\n",
    "    r = tuple(l)\n",
    "    return r\n",
    "def exercicio_5_2(l):\n",
    "    tupla = ()\n",
    "    for i in range(0,len(l)):\n",
    "        tupla += l[i],\n",
    "    return tupla"
   ]
  },
  {
   "cell_type": "markdown",
   "metadata": {},
   "source": [
    "## Exercício 6"
   ]
  },
  {
   "cell_type": "code",
   "execution_count": 17,
   "metadata": {},
   "outputs": [
    {
     "data": {
      "text/plain": [
       "[(1, 2, 3, 4), (1, 2, 3, 4), (1, 2, 3, 4), 1000]"
      ]
     },
     "execution_count": 17,
     "metadata": {},
     "output_type": "execute_result"
    }
   ],
   "source": [
    "def exercicio_6(l, n):\n",
    "    lista = list()\n",
    "    i=0\n",
    "    a=0\n",
    "    for i in range (0,len(l[i])):\n",
    "        lista.append(l[a])\n",
    "    lista.pop()\n",
    "    lista.append(n)\n",
    "    return lista\n",
    "exercicio_6([(1,2,3,4),(5,6,7,8)], 1000)"
   ]
  },
  {
   "cell_type": "markdown",
   "metadata": {},
   "source": [
    "## Exercício 7"
   ]
  },
  {
   "cell_type": "code",
   "execution_count": null,
   "metadata": {},
   "outputs": [],
   "source": []
  }
 ],
 "metadata": {
  "kernelspec": {
   "display_name": "Python 3",
   "language": "python",
   "name": "python3"
  },
  "language_info": {
   "codemirror_mode": {
    "name": "ipython",
    "version": 3
   },
   "file_extension": ".py",
   "mimetype": "text/x-python",
   "name": "python",
   "nbconvert_exporter": "python",
   "pygments_lexer": "ipython3",
   "version": "3.7.1"
  }
 },
 "nbformat": 4,
 "nbformat_minor": 2
}
