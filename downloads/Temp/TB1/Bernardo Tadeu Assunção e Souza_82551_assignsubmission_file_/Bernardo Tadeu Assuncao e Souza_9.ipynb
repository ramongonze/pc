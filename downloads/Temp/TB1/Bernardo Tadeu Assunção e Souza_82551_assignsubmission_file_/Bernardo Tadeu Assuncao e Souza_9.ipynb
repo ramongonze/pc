{
 "cells": [
  {
   "cell_type": "code",
   "execution_count": 49,
   "metadata": {},
   "outputs": [
    {
     "name": "stdout",
     "output_type": "stream",
     "text": [
      "Digite um número inteiro: 3\n"
     ]
    },
    {
     "data": {
      "text/plain": [
       "[(1, 1), (2, 4), (3, 9)]"
      ]
     },
     "execution_count": 49,
     "metadata": {},
     "output_type": "execute_result"
    }
   ],
   "source": [
    "#Exercício 1\n",
    "def exercicio_1(n):\n",
    "    tupla = []\n",
    "    for i in range(1,1+n):\n",
    "        tupla += [(i, i**2)]\n",
    "    return (tupla)\n",
    "x= int(input(\"Digite um número inteiro: \"))\n",
    "exercicio_1(x)"
   ]
  },
  {
   "cell_type": "code",
   "execution_count": 50,
   "metadata": {},
   "outputs": [
    {
     "name": "stdout",
     "output_type": "stream",
     "text": [
      "Digite um número inteiro: 3\n"
     ]
    },
    {
     "data": {
      "text/plain": [
       "[(1, 1, 1), (2, 4, 8), (3, 9, 27)]"
      ]
     },
     "execution_count": 50,
     "metadata": {},
     "output_type": "execute_result"
    }
   ],
   "source": [
    "#Exercício 2\n",
    "def exercicio_2(n):\n",
    "    tupla = []\n",
    "    for i in range(1,1+n):\n",
    "        tupla += [(i, i**2, i**3)]\n",
    "    return (tupla)\n",
    "x= int(input(\"Digite um número inteiro: \"))\n",
    "exercicio_2(x)"
   ]
  },
  {
   "cell_type": "code",
   "execution_count": 58,
   "metadata": {},
   "outputs": [
    {
     "name": "stdout",
     "output_type": "stream",
     "text": [
      "(1, 2, 3, 4, 5)\n",
      "(6, 7, 8, 9, 10)\n"
     ]
    }
   ],
   "source": [
    "#Exercício 3\n",
    "def exercicio_3():\n",
    "    t = (1,2,3,4,5,6,7,8,9,10)\n",
    "    return(str(t[0:len(t)//2])+'\\n'+str(t[len(t)//2:]))\n",
    "saida = exercicio_3()\n",
    "print(saida)"
   ]
  },
  {
   "cell_type": "code",
   "execution_count": 19,
   "metadata": {},
   "outputs": [
    {
     "name": "stdout",
     "output_type": "stream",
     "text": [
      "((2, 4, 6, 8, 10), (1, 3, 5, 7, 9))\n"
     ]
    }
   ],
   "source": [
    "#Exercício 4\n",
    "def exercicio_4(t):\n",
    "    t = (10,9,8,7,6,5,4,3,2,1)\n",
    "    p = []\n",
    "    im = []\n",
    "    for i in t:\n",
    "        if i % 2 == 0:\n",
    "            p.append(i)\n",
    "        if i % 2 != 0:\n",
    "            im.append(i)\n",
    "    x = (tuple(sorted(p)))\n",
    "    y = (tuple(sorted(im)))\n",
    "    return (x,y)\n",
    "print(exercicio_4(t))"
   ]
  },
  {
   "cell_type": "code",
   "execution_count": 22,
   "metadata": {},
   "outputs": [
    {
     "name": "stdout",
     "output_type": "stream",
     "text": [
      "(5, 10, 15, 20, 25, 30)\n",
      "(30, 40, 50, 60, 70, 80)\n"
     ]
    }
   ],
   "source": [
    "#Exercício 5 \n",
    "def exercicio_5_1(l):\n",
    "    t = tuple(l)\n",
    "    return (t)\n",
    "def exercicio_5_2(l2):\n",
    "    a,b,c,d,e,f = l2\n",
    "    x = (a,b,c,d,e,f)\n",
    "    return (x)\n",
    "l = [5,10,15,20,25,30]\n",
    "l2 = [30,40,50,60,70,80]\n",
    "print(exercicio_5_1(l))\n",
    "print(exercicio_5_2(l2))"
   ]
  },
  {
   "cell_type": "code",
   "execution_count": 32,
   "metadata": {},
   "outputs": [
    {
     "name": "stdout",
     "output_type": "stream",
     "text": [
      "[((10, 20, 100), (40, 50, 100), (70, 80, 100))]\n"
     ]
    }
   ],
   "source": [
    "#Exercício 6\n",
    "def exercicio_6(l, n): \n",
    "    lista = [(10,20,30), (40,50,60), (70,80,90)]\n",
    "    a,b,c = lista\n",
    "    x = list(a)\n",
    "    x[2] = 100\n",
    "    x2 = tuple(x)\n",
    "    y = list(b)\n",
    "    y[2] = 100\n",
    "    y2 = tuple(y)\n",
    "    w = list(c)\n",
    "    w[2] = 100\n",
    "    w2 = tuple(w)\n",
    "    tupla = (x2,y2,w2)\n",
    "    lista1.append(tupla)\n",
    "    return lista1\n",
    "lista1 = []\n",
    "print(exercicio_6(lista1,100))"
   ]
  },
  {
   "cell_type": "code",
   "execution_count": 95,
   "metadata": {},
   "outputs": [
    {
     "name": "stdout",
     "output_type": "stream",
     "text": [
      "Digite o valor da cotação do dólar: 5\n",
      "US$ 1.00= R$5.00\n"
     ]
    }
   ],
   "source": [
    "#Exercício 7\n",
    "def exercicio_7(cotacao):\n",
    "    cotacao = float(input(\"Digite o valor da cotação do dólar: \"))\n",
    "    dolar = 0\n",
    "    real = 0\n",
    "    for dolar in range (1, 101):\n",
    "        real = cotacao*dolar\n",
    "        tupla = (dolar, real)\n",
    "        return (tupla)\n",
    "print (\"US$ %.2f= R$%.2f\" % exercicio_7(cotacao))"
   ]
  }
 ],
 "metadata": {
  "kernelspec": {
   "display_name": "Python 3",
   "language": "python",
   "name": "python3"
  },
  "language_info": {
   "codemirror_mode": {
    "name": "ipython",
    "version": 3
   },
   "file_extension": ".py",
   "mimetype": "text/x-python",
   "name": "python",
   "nbconvert_exporter": "python",
   "pygments_lexer": "ipython3",
   "version": "3.7.1"
  }
 },
 "nbformat": 4,
 "nbformat_minor": 2
}
