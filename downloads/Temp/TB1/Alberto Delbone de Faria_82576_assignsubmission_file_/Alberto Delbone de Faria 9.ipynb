{
 "cells": [
  {
   "cell_type": "markdown",
   "metadata": {},
   "source": [
    "Alberto Delbone de Faria 2017104277 \n",
    "Exercícios da aula 09"
   ]
  },
  {
   "cell_type": "code",
   "execution_count": 29,
   "metadata": {},
   "outputs": [],
   "source": [
    "def exercicio_1(n):\n",
    "    list = []\n",
    "    for i in range(1,n+1):\n",
    "        t = (i , i*i)\n",
    "        list.append(t)\n",
    "    return list "
   ]
  },
  {
   "cell_type": "code",
   "execution_count": 30,
   "metadata": {},
   "outputs": [],
   "source": [
    "def exercicio_2(n):\n",
    "    list = []\n",
    "    for i in range(1,n+1):\n",
    "        t = (i , i*i, i*i*i)\n",
    "        list.append(t)\n",
    "    return list "
   ]
  },
  {
   "cell_type": "code",
   "execution_count": 31,
   "metadata": {},
   "outputs": [],
   "source": [
    "def exercicio_3(tupla):\n",
    "    s = \"\"\n",
    "    r = \"\"\n",
    "    for i in tupla[:int(len(tupla)/2)]:\n",
    "        s += str(i) + \" \"\n",
    "    for i in tupla[int(len(tupla)/2):]:\n",
    "        r += str(i) + \" \"\n",
    "    return s + '\\n' + r"
   ]
  },
  {
   "cell_type": "code",
   "execution_count": 32,
   "metadata": {},
   "outputs": [],
   "source": [
    "def exercicio_4(t):\n",
    "    a = ()\n",
    "    b = ()\n",
    "    par = ()\n",
    "    imp = ()\n",
    "    for i in t:\n",
    "        if i%2 == 0:\n",
    "            a = (i,)\n",
    "            par += a\n",
    "        if i%2 != 0:\n",
    "            b = (i,)\n",
    "            imp += b\n",
    "    return par,imp"
   ]
  },
  {
   "cell_type": "code",
   "execution_count": 33,
   "metadata": {},
   "outputs": [],
   "source": [
    "def exercicio_5_1(l):\n",
    "    a = ()\n",
    "    tupla = ()\n",
    "    for i in l:\n",
    "        a = (i,)\n",
    "        tupla += a\n",
    "    return tupla \n",
    "def exercicio_5_2(l):\n",
    "    a = tuple(l)\n",
    "    return a"
   ]
  },
  {
   "cell_type": "code",
   "execution_count": 34,
   "metadata": {},
   "outputs": [],
   "source": [
    "def exercicio_6(l,n):\n",
    "    a = (n,)\n",
    "    c = []\n",
    "    for i in l:\n",
    "        b = i[:2] + a\n",
    "        c.append(b)\n",
    "    return c"
   ]
  },
  {
   "cell_type": "code",
   "execution_count": 35,
   "metadata": {},
   "outputs": [],
   "source": [
    "def exercicio_7(cotacao):\n",
    "    a = cotacao \n",
    "    e = ''\n",
    "    for i in range(1,101):\n",
    "        b = float(i)\n",
    "        c = float(i*a)\n",
    "        d = float(i/a)\n",
    "        e += 'US$ %6.2f'%(b) + ' R$ %6.2f'%(c) + '   R$ %6.2f'%(b) +' US$ %6.2f'%(d) + '\\n' + '-'*20 + '   ' + '-'*20 + '\\n'\n",
    "    return e"
   ]
  },
  {
   "cell_type": "code",
   "execution_count": null,
   "metadata": {},
   "outputs": [],
   "source": []
  }
 ],
 "metadata": {
  "kernelspec": {
   "display_name": "Python 3",
   "language": "python",
   "name": "python3"
  },
  "language_info": {
   "codemirror_mode": {
    "name": "ipython",
    "version": 3
   },
   "file_extension": ".py",
   "mimetype": "text/x-python",
   "name": "python",
   "nbconvert_exporter": "python",
   "pygments_lexer": "ipython3",
   "version": "3.7.1"
  }
 },
 "nbformat": 4,
 "nbformat_minor": 2
}
