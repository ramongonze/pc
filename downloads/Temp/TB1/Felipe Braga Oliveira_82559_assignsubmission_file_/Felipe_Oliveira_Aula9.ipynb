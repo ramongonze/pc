{
 "cells": [
  {
   "cell_type": "markdown",
   "metadata": {},
   "source": [
    "# Felipe Braga Oliveira - 201501915 \n",
    "\n",
    "# TURMA TB1"
   ]
  },
  {
   "cell_type": "markdown",
   "metadata": {},
   "source": [
    "# EXERCÍCIOS AULA 9"
   ]
  },
  {
   "cell_type": "code",
   "execution_count": 11,
   "metadata": {},
   "outputs": [],
   "source": [
    "def exercicio_1(n):\n",
    "    lista = list(range(n))\n",
    "    for i in lista:\n",
    "        lista [i] = (i+1,(i+1)**2)\n",
    "    return lista\n",
    "\n",
    "def exercicio_2(n):\n",
    "    lista = list(range(n))\n",
    "    for i in lista:\n",
    "        lista [i] = (i+1,(i+1)**2,(i+1)**3)\n",
    "    return lista\n",
    "\n",
    "def exercicio_3():\n",
    "    tupla = (1,2,3,4,5,6,7,8,9,10)\n",
    "    tupla1 = tupla[0:5] #fatiamentos são o objetivo do exercicio\n",
    "    tupla2=tupla[5:]\n",
    "    return '''1 2 3 4 5 \\n6 7 8 9 10''' #seria possivel retornar uma lista de tuplas, em vez das strings\n",
    "\n",
    "def exercicio_4(t):\n",
    "    t1=()\n",
    "    t2=()\n",
    "    for i in t:\n",
    "        if t[i] % 2 == 0: #teste de paridade\n",
    "            t1 +=t[i],\n",
    "        else:\n",
    "            t2 +=t[i], #atribuição iterativa\n",
    "    return (t1,t2)\n",
    "\n",
    "def exercicio_5_1 (l):\n",
    "    tupla = tuple(l) #conversão direta\n",
    "    return tupla \n",
    "\n",
    "def exercicio_5_2(l):\n",
    "    tupla = ()\n",
    "    for i in range(len(l)):\n",
    "        tupla += l[i], #incremento de elemento por elemento\n",
    "    return tupla\n",
    "\n",
    "def exercicio_6(l,n):\n",
    "    for i in range(len(l)):\n",
    "        aux = l[i] #variavel auxiliar para não fazer fatiamento do fatiamento, e preservar valor  da tupla\n",
    "        l[i] = aux[:2] + (n,) \n",
    "    return l\n",
    "\n",
    "def exercicio_7(cotacao):\n",
    "    lista = []\n",
    "    for i in range (1,101):\n",
    "        a =f'{float(i*cotacao):{5}.{4}}'\n",
    "        b=f'{float(i/cotacao):{5}.{3}}'\n",
    "        c=f'{float(i):{5.4}}'\n",
    "        lista.append((\"US$ {0} R$ {1}   R$ {0} US${2}\\n\").format(c,a,b))\n",
    "    tabela = \"\".join(lista)\n",
    "    return tabela"
   ]
  }
 ],
 "metadata": {
  "kernelspec": {
   "display_name": "Python 3",
   "language": "python",
   "name": "python3"
  },
  "language_info": {
   "codemirror_mode": {
    "name": "ipython",
    "version": 3
   },
   "file_extension": ".py",
   "mimetype": "text/x-python",
   "name": "python",
   "nbconvert_exporter": "python",
   "pygments_lexer": "ipython3",
   "version": "3.7.1"
  }
 },
 "nbformat": 4,
 "nbformat_minor": 2
}
