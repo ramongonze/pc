{
 "cells": [
  {
   "cell_type": "code",
   "execution_count": 18,
   "metadata": {},
   "outputs": [
    {
     "name": "stdout",
     "output_type": "stream",
     "text": [
      "[(1, 1), (2, 4), (3, 9), (4, 16)]\n"
     ]
    }
   ],
   "source": [
    "#Exercicio 1\n",
    "lista1 = (1, 2, 3, 4)\n",
    "lista2 = []\n",
    "for n in lista1:\n",
    "    tupla = (n, n*n)\n",
    "    lista2.append(tupla)\n",
    "print (lista2)"
   ]
  },
  {
   "cell_type": "code",
   "execution_count": 21,
   "metadata": {},
   "outputs": [
    {
     "name": "stdout",
     "output_type": "stream",
     "text": [
      "[(1, 1, 1), (2, 4, 8), (3, 9, 27), (4, 16, 64)]\n"
     ]
    }
   ],
   "source": [
    "#Exercicio 2\n",
    "lista1 = (1, 2, 3, 4)\n",
    "lista2 = []\n",
    "for n in lista1:\n",
    "    tupla = (n, n**2, n**3)\n",
    "    lista2.append(tupla)\n",
    "print (lista2)"
   ]
  },
  {
   "cell_type": "code",
   "execution_count": 6,
   "metadata": {},
   "outputs": [
    {
     "name": "stdout",
     "output_type": "stream",
     "text": [
      "((1, 2, 3, 4, 5), '', (6, 7, 8, 9, 10))\n"
     ]
    }
   ],
   "source": [
    "#Exercicio 3\n",
    "tupla = (1, 2, 3, 4, 5, 6, 7, 8, 9, 10)\n",
    "lista1 = tupla[0:5],'', tupla[5:10]\n",
    "print (lista1)\n"
   ]
  },
  {
   "cell_type": "code",
   "execution_count": 44,
   "metadata": {},
   "outputs": [
    {
     "name": "stdout",
     "output_type": "stream",
     "text": [
      "pares =  [2, 20]\n",
      "ímpares =  [1, 3, 5, 7, 13]\n"
     ]
    }
   ],
   "source": [
    "#Exercicio 4\n",
    "tupla = 1, 2, 3, 5, 7, 13, 20\n",
    "pares = []\n",
    "ímpares = []\n",
    "for n in tupla:\n",
    "    if n%2 == 0:\n",
    "        pares.append(n)\n",
    "    else:\n",
    "        ímpares.append(n)\n",
    "print (\"pares = \", pares)\n",
    "print (\"ímpares = \", ímpares)\n"
   ]
  },
  {
   "cell_type": "code",
   "execution_count": 1,
   "metadata": {},
   "outputs": [
    {
     "name": "stdout",
     "output_type": "stream",
     "text": [
      "(1, 2, 3, 4)\n"
     ]
    }
   ],
   "source": [
    "#Exercico 5 - parte 1\n",
    "lista = [1, 2, 3, 4]\n",
    "luiza = tuple(lista)\n",
    "print(luiza)"
   ]
  },
  {
   "cell_type": "code",
   "execution_count": 3,
   "metadata": {},
   "outputs": [
    {
     "name": "stdout",
     "output_type": "stream",
     "text": [
      "(10, 20, 30, 40, 50)\n"
     ]
    }
   ],
   "source": [
    "#Exercicio 5 - parte 2 (o retorno)\n",
    "lista = [10, 20, 30, 40, 50]\n",
    "a, b, c, d, e = lista\n",
    "luiza = a, b, c, d, e\n",
    "print(luiza)"
   ]
  },
  {
   "cell_type": "code",
   "execution_count": 1,
   "metadata": {},
   "outputs": [
    {
     "name": "stdout",
     "output_type": "stream",
     "text": [
      "[((10, 20, 100), (90, 110, 100), (200, 210, 100))]\n"
     ]
    }
   ],
   "source": [
    "#Exercicio 6\n",
    "lista = [(10, 20, 30), (90, 110, 120), (200, 210, 220)]\n",
    "luiza = []\n",
    "x,y,z = lista\n",
    "x1 = list(x)\n",
    "x1[2] = 100\n",
    "x2 = tuple(x1)\n",
    "y1 = list(y)\n",
    "y1[2] = 100\n",
    "y2 = tuple(y1)\n",
    "z1 = list(z)\n",
    "z1[2] = 100\n",
    "z2 = tuple(z1)\n",
    "tupla = (x2, y2, z2)\n",
    "luiza.append(tupla)\n",
    "print(luiza)"
   ]
  },
  {
   "cell_type": "code",
   "execution_count": 2,
   "metadata": {},
   "outputs": [
    {
     "name": "stdout",
     "output_type": "stream",
     "text": [
      "Insira a cotação atual do dólar: 3.24\n",
      "US$ 03 = R$1.00\n",
      "R$ 01 = US$3.24\n",
      "US$ 06 = R$2.00\n",
      "R$ 02 = US$6.48\n",
      "US$ 09 = R$3.00\n",
      "R$ 03 = US$9.72\n",
      "US$ 12 = R$4.00\n",
      "R$ 04 = US$12.96\n",
      "US$ 16 = R$5.00\n",
      "R$ 05 = US$16.20\n",
      "US$ 19 = R$6.00\n",
      "R$ 06 = US$19.44\n",
      "US$ 22 = R$7.00\n",
      "R$ 07 = US$22.68\n",
      "US$ 25 = R$8.00\n",
      "R$ 08 = US$25.92\n",
      "US$ 29 = R$9.00\n",
      "R$ 09 = US$29.16\n",
      "US$ 32 = R$10.00\n",
      "R$ 10 = US$32.40\n",
      "US$ 35 = R$11.00\n",
      "R$ 11 = US$35.64\n",
      "US$ 38 = R$12.00\n",
      "R$ 12 = US$38.88\n",
      "US$ 42 = R$13.00\n",
      "R$ 13 = US$42.12\n",
      "US$ 45 = R$14.00\n",
      "R$ 14 = US$45.36\n",
      "US$ 48 = R$15.00\n",
      "R$ 15 = US$48.60\n",
      "US$ 51 = R$16.00\n",
      "R$ 16 = US$51.84\n",
      "US$ 55 = R$17.00\n",
      "R$ 17 = US$55.08\n",
      "US$ 58 = R$18.00\n",
      "R$ 18 = US$58.32\n",
      "US$ 61 = R$19.00\n",
      "R$ 19 = US$61.56\n",
      "US$ 64 = R$20.00\n",
      "R$ 20 = US$64.80\n",
      "US$ 68 = R$21.00\n",
      "R$ 21 = US$68.04\n",
      "US$ 71 = R$22.00\n",
      "R$ 22 = US$71.28\n",
      "US$ 74 = R$23.00\n",
      "R$ 23 = US$74.52\n",
      "US$ 77 = R$24.00\n",
      "R$ 24 = US$77.76\n",
      "US$ 81 = R$25.00\n",
      "R$ 25 = US$81.00\n",
      "US$ 84 = R$26.00\n",
      "R$ 26 = US$84.24\n",
      "US$ 87 = R$27.00\n",
      "R$ 27 = US$87.48\n",
      "US$ 90 = R$28.00\n",
      "R$ 28 = US$90.72\n",
      "US$ 93 = R$29.00\n",
      "R$ 29 = US$93.96\n",
      "US$ 97 = R$30.00\n",
      "R$ 30 = US$97.20\n",
      "US$ 100 = R$31.00\n",
      "R$ 31 = US$100.44\n",
      "US$ 103 = R$32.00\n",
      "R$ 32 = US$103.68\n",
      "US$ 106 = R$33.00\n",
      "R$ 33 = US$106.92\n",
      "US$ 110 = R$34.00\n",
      "R$ 34 = US$110.16\n",
      "US$ 113 = R$35.00\n",
      "R$ 35 = US$113.40\n",
      "US$ 116 = R$36.00\n",
      "R$ 36 = US$116.64\n",
      "US$ 119 = R$37.00\n",
      "R$ 37 = US$119.88\n",
      "US$ 123 = R$38.00\n",
      "R$ 38 = US$123.12\n",
      "US$ 126 = R$39.00\n",
      "R$ 39 = US$126.36\n",
      "US$ 129 = R$40.00\n",
      "R$ 40 = US$129.60\n",
      "US$ 132 = R$41.00\n",
      "R$ 41 = US$132.84\n",
      "US$ 136 = R$42.00\n",
      "R$ 42 = US$136.08\n",
      "US$ 139 = R$43.00\n",
      "R$ 43 = US$139.32\n",
      "US$ 142 = R$44.00\n",
      "R$ 44 = US$142.56\n",
      "US$ 145 = R$45.00\n",
      "R$ 45 = US$145.80\n",
      "US$ 149 = R$46.00\n",
      "R$ 46 = US$149.04\n",
      "US$ 152 = R$47.00\n",
      "R$ 47 = US$152.28\n",
      "US$ 155 = R$48.00\n",
      "R$ 48 = US$155.52\n",
      "US$ 158 = R$49.00\n",
      "R$ 49 = US$158.76\n",
      "US$ 162 = R$50.00\n",
      "R$ 50 = US$162.00\n",
      "US$ 165 = R$51.00\n",
      "R$ 51 = US$165.24\n",
      "US$ 168 = R$52.00\n",
      "R$ 52 = US$168.48\n",
      "US$ 171 = R$53.00\n",
      "R$ 53 = US$171.72\n",
      "US$ 174 = R$54.00\n",
      "R$ 54 = US$174.96\n",
      "US$ 178 = R$55.00\n",
      "R$ 55 = US$178.20\n",
      "US$ 181 = R$56.00\n",
      "R$ 56 = US$181.44\n",
      "US$ 184 = R$57.00\n",
      "R$ 57 = US$184.68\n",
      "US$ 187 = R$58.00\n",
      "R$ 58 = US$187.92\n",
      "US$ 191 = R$59.00\n",
      "R$ 59 = US$191.16\n",
      "US$ 194 = R$60.00\n",
      "R$ 60 = US$194.40\n",
      "US$ 197 = R$61.00\n",
      "R$ 61 = US$197.64\n",
      "US$ 200 = R$62.00\n",
      "R$ 62 = US$200.88\n",
      "US$ 204 = R$63.00\n",
      "R$ 63 = US$204.12\n",
      "US$ 207 = R$64.00\n",
      "R$ 64 = US$207.36\n",
      "US$ 210 = R$65.00\n",
      "R$ 65 = US$210.60\n",
      "US$ 213 = R$66.00\n",
      "R$ 66 = US$213.84\n",
      "US$ 217 = R$67.00\n",
      "R$ 67 = US$217.08\n",
      "US$ 220 = R$68.00\n",
      "R$ 68 = US$220.32\n",
      "US$ 223 = R$69.00\n",
      "R$ 69 = US$223.56\n",
      "US$ 226 = R$70.00\n",
      "R$ 70 = US$226.80\n",
      "US$ 230 = R$71.00\n",
      "R$ 71 = US$230.04\n",
      "US$ 233 = R$72.00\n",
      "R$ 72 = US$233.28\n",
      "US$ 236 = R$73.00\n",
      "R$ 73 = US$236.52\n",
      "US$ 239 = R$74.00\n",
      "R$ 74 = US$239.76\n",
      "US$ 243 = R$75.00\n",
      "R$ 75 = US$243.00\n",
      "US$ 246 = R$76.00\n",
      "R$ 76 = US$246.24\n",
      "US$ 249 = R$77.00\n",
      "R$ 77 = US$249.48\n",
      "US$ 252 = R$78.00\n",
      "R$ 78 = US$252.72\n",
      "US$ 255 = R$79.00\n",
      "R$ 79 = US$255.96\n",
      "US$ 259 = R$80.00\n",
      "R$ 80 = US$259.20\n",
      "US$ 262 = R$81.00\n",
      "R$ 81 = US$262.44\n",
      "US$ 265 = R$82.00\n",
      "R$ 82 = US$265.68\n",
      "US$ 268 = R$83.00\n",
      "R$ 83 = US$268.92\n",
      "US$ 272 = R$84.00\n",
      "R$ 84 = US$272.16\n",
      "US$ 275 = R$85.00\n",
      "R$ 85 = US$275.40\n",
      "US$ 278 = R$86.00\n",
      "R$ 86 = US$278.64\n",
      "US$ 281 = R$87.00\n",
      "R$ 87 = US$281.88\n",
      "US$ 285 = R$88.00\n",
      "R$ 88 = US$285.12\n",
      "US$ 288 = R$89.00\n",
      "R$ 89 = US$288.36\n",
      "US$ 291 = R$90.00\n",
      "R$ 90 = US$291.60\n",
      "US$ 294 = R$91.00\n",
      "R$ 91 = US$294.84\n",
      "US$ 298 = R$92.00\n",
      "R$ 92 = US$298.08\n",
      "US$ 301 = R$93.00\n",
      "R$ 93 = US$301.32\n",
      "US$ 304 = R$94.00\n",
      "R$ 94 = US$304.56\n",
      "US$ 307 = R$95.00\n",
      "R$ 95 = US$307.80\n",
      "US$ 311 = R$96.00\n",
      "R$ 96 = US$311.04\n",
      "US$ 314 = R$97.00\n",
      "R$ 97 = US$314.28\n",
      "US$ 317 = R$98.00\n",
      "R$ 98 = US$317.52\n",
      "US$ 320 = R$99.00\n",
      "R$ 99 = US$320.76\n",
      "US$ 324 = R$100.00\n",
      "R$ 100 = US$324.00\n"
     ]
    }
   ],
   "source": [
    "#Exercicio 7\n",
    "\n",
    "\n",
    "c = float(input(\"Insira a cotação atual do dólar: \"))\n",
    "r = 1          \n",
    "for r in range (1, 101):\n",
    "        dólar = r*c\n",
    "        tupla = [dólar, r]\n",
    "        print(\"US$ %.2d = R$%.2f\" % (dólar, r))\n",
    "        print(\"R$ %.2d = US$%.2f\" % (r, dólar))"
   ]
  }
 ],
 "metadata": {
  "kernelspec": {
   "display_name": "Python 3",
   "language": "python",
   "name": "python3"
  },
  "language_info": {
   "codemirror_mode": {
    "name": "ipython",
    "version": 3
   },
   "file_extension": ".py",
   "mimetype": "text/x-python",
   "name": "python",
   "nbconvert_exporter": "python",
   "pygments_lexer": "ipython3",
   "version": "3.7.1"
  }
 },
 "nbformat": 4,
 "nbformat_minor": 2
}
