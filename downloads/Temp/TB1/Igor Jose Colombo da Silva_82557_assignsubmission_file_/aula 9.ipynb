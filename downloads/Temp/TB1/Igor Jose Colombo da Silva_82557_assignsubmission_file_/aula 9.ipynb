{
 "cells": [
  {
   "cell_type": "code",
   "execution_count": 37,
   "metadata": {},
   "outputs": [],
   "source": [
    "#n=int(input(\"n:\"))\n",
    "def exercicio_1(n):\n",
    "    tupla1 = ()\n",
    "    for i in range(1, n+1):\n",
    "        tupla1 += (i, i**2), \n",
    "    return tupla1   "
   ]
  },
  {
   "cell_type": "code",
   "execution_count": 36,
   "metadata": {},
   "outputs": [],
   "source": [
    "#n=int(input(\"n:\"))\n",
    "def exercicio_2(n):\n",
    "    tupla4 = ()\n",
    "    for i in range(1, n+1):\n",
    "        tupla1 = i\n",
    "        tupla2 = i**2 \n",
    "        tupla3 = i**3\n",
    "        tupla4 += (tupla1, tupla2, tupla3),\n",
    "    return  tupla4"
   ]
  },
  {
   "cell_type": "code",
   "execution_count": 24,
   "metadata": {},
   "outputs": [],
   "source": [
    "#tupla = \"a\", \"b\", \"c\", \"d\", 2, 0, 1, 8, 0, 1, 5, 2, 5, 1, \"igor\"\n",
    "def exercicio_3():\n",
    "    #Dá duas tuplas, a primeira do ínicio até a metade, a segunda da metade até o fim. \n",
    "    #Quando ímpar, descarta o valor mediano.\n",
    "    #Transformei o string e pulei uma linha. Dúvida? Como tirar os e separar por espaços? \n",
    "    a = len(tupla)\n",
    "    b = int(a/2)\n",
    "    metade1= tuple()\n",
    "    metade2= tuple()\n",
    "    for i in range(0,b):\n",
    "        metade1 += tupla[i],\n",
    "    if a%2 == 0:\n",
    "        for i in range(b,a):\n",
    "            metade2+= tupla[i],\n",
    "    if a%2 != 0:\n",
    "        for i in range(b+1,a):\n",
    "            metade2 += tupla[i],  \n",
    "    metade2 = str(metade2)\n",
    "    metade1 = str(metade1)\n",
    "    st = metade1 + '\\n' + metade2\n",
    "    return st "
   ]
  },
  {
   "cell_type": "code",
   "execution_count": 27,
   "metadata": {},
   "outputs": [
    {
     "name": "stdout",
     "output_type": "stream",
     "text": [
      "((0, 0, 2, 2, 8), (1, 1, 1, 5, 5))\n"
     ]
    }
   ],
   "source": [
    "t = 2, 0, 1, 8, 0, 1, 5, 2, 5, 1\n",
    "def exercicio_4(t):\n",
    "    #Dá 2 tuplas, uma com os valores ímpares e outra com valores pares.\n",
    "    #Dúvida: Se o usuário não digitar um número inteiro?\n",
    "    par = ()\n",
    "    impar = ()\n",
    "    for i in range(len(t)):\n",
    "        if t[i]%2==0:\n",
    "            par += t[i],\n",
    "        else:\n",
    "            impar += t[i],\n",
    "    paror = tuple(sorted(par))\n",
    "    imparor = tuple(sorted(impar))\n",
    "    return paror, imparor \n",
    "print(exercício_4(t))"
   ]
  },
  {
   "cell_type": "code",
   "execution_count": 32,
   "metadata": {},
   "outputs": [],
   "source": [
    "# = [1, 2, 3, 4, 5, 6] \n",
    "def exercicio_5_1(lista):\n",
    "    #Transforma a lista em uma tupla\n",
    "    tupla = ()\n",
    "    for i in range(len(lista)):\n",
    "        tupla += lista[i],\n",
    "    return tupla"
   ]
  },
  {
   "cell_type": "code",
   "execution_count": 31,
   "metadata": {},
   "outputs": [],
   "source": [
    "#l = [2, 0, 1, 8, 0, 1, 5, 2, 5, 1]\n",
    "def exercicio_5_2(l):\n",
    "    #transforma a lista em tupla de outra mandeira.\n",
    "    tupla = ()\n",
    "    for elemento in l:\n",
    "        tupla += elemento,\n",
    "    return tupla"
   ]
  },
  {
   "cell_type": "code",
   "execution_count": 35,
   "metadata": {},
   "outputs": [],
   "source": [
    "#l =[(10, 20, 30),(2018, 1, 52, 51),(6, 6, 1999), (\"a\", \"b\", \"c\")]\n",
    "#n =666\n",
    "def exercicio_6(l, n):\n",
    "    tupla = ()\n",
    "    #Trocar todos os últimos elementos de uma lista por um número.\n",
    "    for i in range(len(l)):\n",
    "        tupla1 = l[i]\n",
    "        tupla6 = n,  \n",
    "        tupla2 = tupla1[:-1] + tupla6,\n",
    "        tupla += tupla2[:]\n",
    "    return tupla"
   ]
  },
  {
   "cell_type": "code",
   "execution_count": 50,
   "metadata": {},
   "outputs": [
    {
     "name": "stdout",
     "output_type": "stream",
     "text": [
      "Digite a conversão da moeda3.5\n",
      "((3.5, 1), (0.2857142857142857, 3.5), (7.0, 2), (0.5714285714285714, 3.5), (10.5, 3), (0.8571428571428571, 3.5), (14.0, 4), (1.1428571428571428, 3.5), (17.5, 5), (1.4285714285714286, 3.5), (21.0, 6), (1.7142857142857142, 3.5), (24.5, 7), (2.0, 3.5), (28.0, 8), (2.2857142857142856, 3.5), (31.5, 9), (2.5714285714285716, 3.5))\n"
     ]
    }
   ],
   "source": [
    "cotacao = float(input(\"Digite a conversão da moeda\"))\n",
    "def exercicio_7(cotacao):\n",
    "    cotres = ()\n",
    "    for i in range(1,10):\n",
    "        dolar = ()\n",
    "        dolar += cotacao*i, i\n",
    "        real = ()\n",
    "        real += i/cotacao, cotacao\n",
    "        cotres += dolar, real\n",
    "    return cotres\n",
    "print(exercício_7(cotacao)) "
   ]
  },
  {
   "cell_type": "code",
   "execution_count": null,
   "metadata": {},
   "outputs": [],
   "source": []
  },
  {
   "cell_type": "code",
   "execution_count": null,
   "metadata": {},
   "outputs": [],
   "source": []
  }
 ],
 "metadata": {
  "kernelspec": {
   "display_name": "Python 3",
   "language": "python",
   "name": "python3"
  },
  "language_info": {
   "codemirror_mode": {
    "name": "ipython",
    "version": 3
   },
   "file_extension": ".py",
   "mimetype": "text/x-python",
   "name": "python",
   "nbconvert_exporter": "python",
   "pygments_lexer": "ipython3",
   "version": "3.7.1"
  }
 },
 "nbformat": 4,
 "nbformat_minor": 2
}
