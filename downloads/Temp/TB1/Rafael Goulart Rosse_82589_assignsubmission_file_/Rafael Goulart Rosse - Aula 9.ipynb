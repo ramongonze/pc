{
 "cells": [
  {
   "cell_type": "markdown",
   "metadata": {},
   "source": [
    "# Aula 9 - Exercícios"
   ]
  },
  {
   "cell_type": "markdown",
   "metadata": {},
   "source": [
    "# Questão 1"
   ]
  },
  {
   "cell_type": "code",
   "execution_count": 3,
   "metadata": {},
   "outputs": [
    {
     "data": {
      "text/plain": [
       "[(1, 1), (2, 4), (3, 9), (4, 16), (5, 25)]"
      ]
     },
     "execution_count": 3,
     "metadata": {},
     "output_type": "execute_result"
    }
   ],
   "source": [
    "def exercicio_1 (n):\n",
    "    \"Função que pede um valor inteiro de entrada e retorna uma tupla de 1 até esse valor, intercalando cada número \\\n",
    "    com o seu quadrado\"\n",
    "    lista = []\n",
    "    if n == 0:\n",
    "        lista += 0,\n",
    "    elif n > 0:\n",
    "        while n >= 1:\n",
    "            lista += (n,n*n),\n",
    "            n = n-1\n",
    "    elif n < 0:\n",
    "        while n <= -1:\n",
    "            lista += (n,n*n),\n",
    "            n = n+1\n",
    "    return lista[::-1]\n",
    "    \n",
    "\n",
    "#erro = True\n",
    "#while erro:\n",
    "        #try:\n",
    "            #n = int(input(\"Digite até qual número sua tuplas irá: \"))\n",
    "            #erro = False\n",
    "        #except:\n",
    "            #print(\"É necessário digitar um valor numérico inteiro!\")\n",
    "#exercicio_1(5)"
   ]
  },
  {
   "cell_type": "markdown",
   "metadata": {},
   "source": [
    "# Questão 2"
   ]
  },
  {
   "cell_type": "code",
   "execution_count": 4,
   "metadata": {},
   "outputs": [
    {
     "data": {
      "text/plain": [
       "[(1, 1, 1), (2, 4, 8), (3, 9, 27), (4, 16, 64), (5, 25, 125)]"
      ]
     },
     "execution_count": 4,
     "metadata": {},
     "output_type": "execute_result"
    }
   ],
   "source": [
    "def exercicio_2 (n):\n",
    "    \"Função que pede um valor inteiro de entrada e retorna uma tupla de 1 até esse valor, intercalada pelo quadrado e pelo \\\n",
    "    cubo de cada número\"\n",
    "    lista = []\n",
    "    if n == 0:\n",
    "        lista += 0,\n",
    "    elif n > 0:\n",
    "        while n >= 1:\n",
    "            lista += (n,n*n,n**3),\n",
    "            n = n-1\n",
    "    elif n < 0:\n",
    "        while n <= -1:\n",
    "            lista += (n,n*n,n**3),\n",
    "            n = n+1\n",
    "    return lista[::-1]\n",
    "\n",
    "#erro = True\n",
    "#while erro:\n",
    "        #try:\n",
    "            #n = int(input(\"Digite até qual número sua tuplas irá: \"))\n",
    "            #erro = False\n",
    "        #except:\n",
    "            #print(\"É necessário digitar um valor numérico inteiro!\")\n",
    "#exercicio_2(5)"
   ]
  },
  {
   "cell_type": "markdown",
   "metadata": {},
   "source": [
    "# Questão 3"
   ]
  },
  {
   "cell_type": "code",
   "execution_count": 35,
   "metadata": {},
   "outputs": [
    {
     "name": "stdout",
     "output_type": "stream",
     "text": [
      " 1 2 3 4 5 \n",
      " 6 7 8 9 10 \n"
     ]
    }
   ],
   "source": [
    "def exercicio_3 (t):\n",
    "    \"Função que imprime metade de uma tupla dada em uma linha e a outra metade em outra linha\"\n",
    "    l = list(t)\n",
    "    n = 0\n",
    "    resultado = ' '\n",
    "    resultado1 = ' '\n",
    "    while n < len(l)/2:\n",
    "        resultado += str(l[n]) + ' '\n",
    "        n += 1\n",
    "    while n <= len(l)-1:\n",
    "        resultado1 += str(l[n]) + ' '\n",
    "        n += 1\n",
    "    return resultado + str(\"\\n\") + resultado1\n",
    "            \n",
    "#print(exercicio_3((1,2,3,4,5,6,7,8,9,10)))"
   ]
  },
  {
   "cell_type": "markdown",
   "metadata": {},
   "source": [
    "# Questão 4"
   ]
  },
  {
   "cell_type": "code",
   "execution_count": 31,
   "metadata": {},
   "outputs": [
    {
     "name": "stdout",
     "output_type": "stream",
     "text": [
      "(22, 46, 92)\n",
      "(3, 7, 11, 15, 17, 43, 51)\n"
     ]
    }
   ],
   "source": [
    "def exercicio_4 (t):\n",
    "    \"Função que lê uma tupla na entrada e retorna duas outras tuplas: uma apenas com os valores pares da tupla \\\n",
    "    original e outra com apenas os valores ímpares da tupla original\"\n",
    "    tupla_par = ()\n",
    "    tupla_ímpar = ()\n",
    "    for valor in t:\n",
    "        if valor % 2 == 0:\n",
    "            tupla_par += valor,\n",
    "        elif valor % 2 != 0:\n",
    "            tupla_ímpar += valor,\n",
    "    t1 = tuple(sorted(tupla_par))\n",
    "    t2 = tuple(sorted(tupla_ímpar))\n",
    "    return (t1),(t2)\n",
    "\n",
    "#t1,t2 = exercicio_4((3,17,11,22,43,51,7,92,15,46))\n",
    "#print(t1)\n",
    "#print(t2)"
   ]
  },
  {
   "cell_type": "markdown",
   "metadata": {},
   "source": [
    "# Questão 5"
   ]
  },
  {
   "cell_type": "code",
   "execution_count": 64,
   "metadata": {},
   "outputs": [
    {
     "data": {
      "text/plain": [
       "(13, 22, 4233, 2332, 2123, 112, 12, 22, 32, 322323, 33, 2, 233, 1)"
      ]
     },
     "execution_count": 64,
     "metadata": {},
     "output_type": "execute_result"
    }
   ],
   "source": [
    "def exercicio_5_1 (l):\n",
    "    \"Função que transforma uma lista em uma tupla\"\n",
    "    tupla = ()\n",
    "    for valor in l:\n",
    "        tupla += valor,\n",
    "    return tupla\n",
    "\n",
    "def exercicio_5_2 (l):\n",
    "    \"Função que transforma uma lista em uma tupla\"\n",
    "    tupla = ()\n",
    "    n = len(l)-1\n",
    "    while n >= 0:\n",
    "        j = l.pop(n)\n",
    "        tupla += j,\n",
    "        n -= 1\n",
    "    return tupla[::-1]\n",
    "\n",
    "#exercicio_5_1([2,3,5,4,1,8])\n",
    "#exercicio_5_2([2,3,5,4,1,8])"
   ]
  },
  {
   "cell_type": "markdown",
   "metadata": {},
   "source": [
    "# Questão 6"
   ]
  },
  {
   "cell_type": "code",
   "execution_count": 37,
   "metadata": {},
   "outputs": [
    {
     "data": {
      "text/plain": [
       "[(1, 4, 9, 100), (1, 3, 100), (450, 82, 6, 12, 100)]"
      ]
     },
     "execution_count": 37,
     "metadata": {},
     "output_type": "execute_result"
    }
   ],
   "source": [
    "def exercicio_6 (l,n):\n",
    "    \"Função que troca o último elemento de todas as tuplas em uma lista\"\n",
    "    nova_lista = []\n",
    "    for elemento in l:\n",
    "        i = list(elemento)\n",
    "        i.remove(i[len(i)-1])\n",
    "        i.append(n)\n",
    "        novo_elemento = tuple(i)\n",
    "        nova_lista += novo_elemento,\n",
    "    return nova_lista\n",
    "\n",
    "#l = [(1,4,9,44),(1,3,2),(450,82,6,12,51)]\n",
    "#exercicio_6(l,100)"
   ]
  },
  {
   "cell_type": "markdown",
   "metadata": {},
   "source": [
    "# Questão 7"
   ]
  },
  {
   "cell_type": "code",
   "execution_count": 58,
   "metadata": {},
   "outputs": [
    {
     "name": "stdout",
     "output_type": "stream",
     "text": [
      "Digite o valor da cotação do dólar, em real e centavos: sad\n",
      "É necessário digitar um valor numérico inteiro!\n",
      "Digite o valor da cotação do dólar, em real e centavos: -9\n",
      "Digite um valor válido!\n",
      "Digite o valor da cotação do dólar, em real e centavos: 4.10\n",
      "U$   1.00 R$   4.10   R$   1.00 U$   0.24\n",
      "-------------------   -------------------\n",
      "U$   2.00 R$   8.20   R$   2.00 U$   0.49\n",
      "-------------------   -------------------\n",
      "U$   3.00 R$  12.30   R$   3.00 U$   0.73\n",
      "-------------------   -------------------\n",
      "U$   4.00 R$  16.40   R$   4.00 U$   0.98\n",
      "-------------------   -------------------\n",
      "U$   5.00 R$  20.50   R$   5.00 U$   1.22\n",
      "-------------------   -------------------\n",
      "U$   6.00 R$  24.60   R$   6.00 U$   1.46\n",
      "-------------------   -------------------\n",
      "U$   7.00 R$  28.70   R$   7.00 U$   1.71\n",
      "-------------------   -------------------\n",
      "U$   8.00 R$  32.80   R$   8.00 U$   1.95\n",
      "-------------------   -------------------\n",
      "U$   9.00 R$  36.90   R$   9.00 U$   2.20\n",
      "-------------------   -------------------\n",
      "U$  10.00 R$  41.00   R$  10.00 U$   2.44\n",
      "-------------------   -------------------\n",
      "U$  11.00 R$  45.10   R$  11.00 U$   2.68\n",
      "-------------------   -------------------\n",
      "U$  12.00 R$  49.20   R$  12.00 U$   2.93\n",
      "-------------------   -------------------\n",
      "U$  13.00 R$  53.30   R$  13.00 U$   3.17\n",
      "-------------------   -------------------\n",
      "U$  14.00 R$  57.40   R$  14.00 U$   3.41\n",
      "-------------------   -------------------\n",
      "U$  15.00 R$  61.50   R$  15.00 U$   3.66\n",
      "-------------------   -------------------\n",
      "U$  16.00 R$  65.60   R$  16.00 U$   3.90\n",
      "-------------------   -------------------\n",
      "U$  17.00 R$  69.70   R$  17.00 U$   4.15\n",
      "-------------------   -------------------\n",
      "U$  18.00 R$  73.80   R$  18.00 U$   4.39\n",
      "-------------------   -------------------\n",
      "U$  19.00 R$  77.90   R$  19.00 U$   4.63\n",
      "-------------------   -------------------\n",
      "U$  20.00 R$  82.00   R$  20.00 U$   4.88\n",
      "-------------------   -------------------\n",
      "U$  21.00 R$  86.10   R$  21.00 U$   5.12\n",
      "-------------------   -------------------\n",
      "U$  22.00 R$  90.20   R$  22.00 U$   5.37\n",
      "-------------------   -------------------\n",
      "U$  23.00 R$  94.30   R$  23.00 U$   5.61\n",
      "-------------------   -------------------\n",
      "U$  24.00 R$  98.40   R$  24.00 U$   5.85\n",
      "-------------------   -------------------\n",
      "U$  25.00 R$ 102.50   R$  25.00 U$   6.10\n",
      "-------------------   -------------------\n",
      "U$  26.00 R$ 106.60   R$  26.00 U$   6.34\n",
      "-------------------   -------------------\n",
      "U$  27.00 R$ 110.70   R$  27.00 U$   6.59\n",
      "-------------------   -------------------\n",
      "U$  28.00 R$ 114.80   R$  28.00 U$   6.83\n",
      "-------------------   -------------------\n",
      "U$  29.00 R$ 118.90   R$  29.00 U$   7.07\n",
      "-------------------   -------------------\n",
      "U$  30.00 R$ 123.00   R$  30.00 U$   7.32\n",
      "-------------------   -------------------\n",
      "U$  31.00 R$ 127.10   R$  31.00 U$   7.56\n",
      "-------------------   -------------------\n",
      "U$  32.00 R$ 131.20   R$  32.00 U$   7.80\n",
      "-------------------   -------------------\n",
      "U$  33.00 R$ 135.30   R$  33.00 U$   8.05\n",
      "-------------------   -------------------\n",
      "U$  34.00 R$ 139.40   R$  34.00 U$   8.29\n",
      "-------------------   -------------------\n",
      "U$  35.00 R$ 143.50   R$  35.00 U$   8.54\n",
      "-------------------   -------------------\n",
      "U$  36.00 R$ 147.60   R$  36.00 U$   8.78\n",
      "-------------------   -------------------\n",
      "U$  37.00 R$ 151.70   R$  37.00 U$   9.02\n",
      "-------------------   -------------------\n",
      "U$  38.00 R$ 155.80   R$  38.00 U$   9.27\n",
      "-------------------   -------------------\n",
      "U$  39.00 R$ 159.90   R$  39.00 U$   9.51\n",
      "-------------------   -------------------\n",
      "U$  40.00 R$ 164.00   R$  40.00 U$   9.76\n",
      "-------------------   -------------------\n",
      "U$  41.00 R$ 168.10   R$  41.00 U$  10.00\n",
      "-------------------   -------------------\n",
      "U$  42.00 R$ 172.20   R$  42.00 U$  10.24\n",
      "-------------------   -------------------\n",
      "U$  43.00 R$ 176.30   R$  43.00 U$  10.49\n",
      "-------------------   -------------------\n",
      "U$  44.00 R$ 180.40   R$  44.00 U$  10.73\n",
      "-------------------   -------------------\n",
      "U$  45.00 R$ 184.50   R$  45.00 U$  10.98\n",
      "-------------------   -------------------\n",
      "U$  46.00 R$ 188.60   R$  46.00 U$  11.22\n",
      "-------------------   -------------------\n",
      "U$  47.00 R$ 192.70   R$  47.00 U$  11.46\n",
      "-------------------   -------------------\n",
      "U$  48.00 R$ 196.80   R$  48.00 U$  11.71\n",
      "-------------------   -------------------\n",
      "U$  49.00 R$ 200.90   R$  49.00 U$  11.95\n",
      "-------------------   -------------------\n",
      "U$  50.00 R$ 205.00   R$  50.00 U$  12.20\n",
      "-------------------   -------------------\n",
      "U$  51.00 R$ 209.10   R$  51.00 U$  12.44\n",
      "-------------------   -------------------\n",
      "U$  52.00 R$ 213.20   R$  52.00 U$  12.68\n",
      "-------------------   -------------------\n",
      "U$  53.00 R$ 217.30   R$  53.00 U$  12.93\n",
      "-------------------   -------------------\n",
      "U$  54.00 R$ 221.40   R$  54.00 U$  13.17\n",
      "-------------------   -------------------\n",
      "U$  55.00 R$ 225.50   R$  55.00 U$  13.41\n",
      "-------------------   -------------------\n",
      "U$  56.00 R$ 229.60   R$  56.00 U$  13.66\n",
      "-------------------   -------------------\n",
      "U$  57.00 R$ 233.70   R$  57.00 U$  13.90\n",
      "-------------------   -------------------\n",
      "U$  58.00 R$ 237.80   R$  58.00 U$  14.15\n",
      "-------------------   -------------------\n",
      "U$  59.00 R$ 241.90   R$  59.00 U$  14.39\n",
      "-------------------   -------------------\n",
      "U$  60.00 R$ 246.00   R$  60.00 U$  14.63\n",
      "-------------------   -------------------\n",
      "U$  61.00 R$ 250.10   R$  61.00 U$  14.88\n",
      "-------------------   -------------------\n",
      "U$  62.00 R$ 254.20   R$  62.00 U$  15.12\n",
      "-------------------   -------------------\n",
      "U$  63.00 R$ 258.30   R$  63.00 U$  15.37\n",
      "-------------------   -------------------\n",
      "U$  64.00 R$ 262.40   R$  64.00 U$  15.61\n",
      "-------------------   -------------------\n",
      "U$  65.00 R$ 266.50   R$  65.00 U$  15.85\n",
      "-------------------   -------------------\n",
      "U$  66.00 R$ 270.60   R$  66.00 U$  16.10\n",
      "-------------------   -------------------\n",
      "U$  67.00 R$ 274.70   R$  67.00 U$  16.34\n",
      "-------------------   -------------------\n",
      "U$  68.00 R$ 278.80   R$  68.00 U$  16.59\n",
      "-------------------   -------------------\n",
      "U$  69.00 R$ 282.90   R$  69.00 U$  16.83\n",
      "-------------------   -------------------\n",
      "U$  70.00 R$ 287.00   R$  70.00 U$  17.07\n",
      "-------------------   -------------------\n",
      "U$  71.00 R$ 291.10   R$  71.00 U$  17.32\n",
      "-------------------   -------------------\n",
      "U$  72.00 R$ 295.20   R$  72.00 U$  17.56\n",
      "-------------------   -------------------\n",
      "U$  73.00 R$ 299.30   R$  73.00 U$  17.80\n",
      "-------------------   -------------------\n",
      "U$  74.00 R$ 303.40   R$  74.00 U$  18.05\n",
      "-------------------   -------------------\n",
      "U$  75.00 R$ 307.50   R$  75.00 U$  18.29\n",
      "-------------------   -------------------\n",
      "U$  76.00 R$ 311.60   R$  76.00 U$  18.54\n",
      "-------------------   -------------------\n",
      "U$  77.00 R$ 315.70   R$  77.00 U$  18.78\n",
      "-------------------   -------------------\n",
      "U$  78.00 R$ 319.80   R$  78.00 U$  19.02\n",
      "-------------------   -------------------\n",
      "U$  79.00 R$ 323.90   R$  79.00 U$  19.27\n",
      "-------------------   -------------------\n",
      "U$  80.00 R$ 328.00   R$  80.00 U$  19.51\n",
      "-------------------   -------------------\n",
      "U$  81.00 R$ 332.10   R$  81.00 U$  19.76\n",
      "-------------------   -------------------\n",
      "U$  82.00 R$ 336.20   R$  82.00 U$  20.00\n",
      "-------------------   -------------------\n",
      "U$  83.00 R$ 340.30   R$  83.00 U$  20.24\n",
      "-------------------   -------------------\n",
      "U$  84.00 R$ 344.40   R$  84.00 U$  20.49\n",
      "-------------------   -------------------\n",
      "U$  85.00 R$ 348.50   R$  85.00 U$  20.73\n",
      "-------------------   -------------------\n",
      "U$  86.00 R$ 352.60   R$  86.00 U$  20.98\n",
      "-------------------   -------------------\n",
      "U$  87.00 R$ 356.70   R$  87.00 U$  21.22\n",
      "-------------------   -------------------\n",
      "U$  88.00 R$ 360.80   R$  88.00 U$  21.46\n",
      "-------------------   -------------------\n",
      "U$  89.00 R$ 364.90   R$  89.00 U$  21.71\n",
      "-------------------   -------------------\n",
      "U$  90.00 R$ 369.00   R$  90.00 U$  21.95\n",
      "-------------------   -------------------\n",
      "U$  91.00 R$ 373.10   R$  91.00 U$  22.20\n",
      "-------------------   -------------------\n",
      "U$  92.00 R$ 377.20   R$  92.00 U$  22.44\n",
      "-------------------   -------------------\n",
      "U$  93.00 R$ 381.30   R$  93.00 U$  22.68\n",
      "-------------------   -------------------\n",
      "U$  94.00 R$ 385.40   R$  94.00 U$  22.93\n",
      "-------------------   -------------------\n",
      "U$  95.00 R$ 389.50   R$  95.00 U$  23.17\n",
      "-------------------   -------------------\n",
      "U$  96.00 R$ 393.60   R$  96.00 U$  23.41\n",
      "-------------------   -------------------\n",
      "U$  97.00 R$ 397.70   R$  97.00 U$  23.66\n",
      "-------------------   -------------------\n",
      "U$  98.00 R$ 401.80   R$  98.00 U$  23.90\n",
      "-------------------   -------------------\n",
      "U$  99.00 R$ 405.90   R$  99.00 U$  24.15\n",
      "-------------------   -------------------\n",
      "U$ 100.00 R$ 410.00   R$ 100.00 U$  24.39\n",
      "-------------------   -------------------\n"
     ]
    }
   ],
   "source": [
    "def exercicio_7 (cotacao):\n",
    "    \"Função que imprime o valor do real em dólar, e do dólar em real, levando em conta a cotação dada na entrada, \\\n",
    "    imprimindo de 1 até 100 reais\"\n",
    "    n = 1\n",
    "    tabela_dolar_para_real = ()\n",
    "    tabela_real_para_dolar = ()\n",
    "    valor_real = []\n",
    "    valor_dolar1 = []\n",
    "    valor_dolar = list(range(101))\n",
    "    valor_real1 = list(range(101))\n",
    "    for elemento in valor_dolar:\n",
    "        valor_real += elemento * (cotacao), \n",
    "    for elemento in valor_real1:\n",
    "        valor_dolar1 += elemento / (cotacao),\n",
    "    while n < len(valor_dolar) and n < len(valor_real1):\n",
    "        tabela_dolar_para_real = print('U$ %6.2f R$ %6.2f' '   ' 'R$ %6.2f U$ %6.2f''\\n'\n",
    "                                       '-------------------' '   ' '-------------------'%(valor_dolar[n],valor_real[n],valor_real1[n],valor_dolar1[n]))\n",
    "        n += 1\n",
    "    return tabela_dolar_para_real\n",
    "\n",
    "#erro = True\n",
    "#while erro:\n",
    "        #try:\n",
    "            #cotacao = float(input(\"Digite o valor da cotação do dólar, em real e centavos: \"))\n",
    "            #if cotacao <= 0:\n",
    "                #print(\"Digite um valor válido!\")\n",
    "            #if cotacao > 0:\n",
    "                #erro = False\n",
    "        #except:\n",
    "            #print(\"É necessário digitar um valor numérico inteiro!\")\n",
    "        \n",
    "#exercicio_7(cotacao)"
   ]
  }
 ],
 "metadata": {
  "kernelspec": {
   "display_name": "Python 3",
   "language": "python",
   "name": "python3"
  },
  "language_info": {
   "codemirror_mode": {
    "name": "ipython",
    "version": 3
   },
   "file_extension": ".py",
   "mimetype": "text/x-python",
   "name": "python",
   "nbconvert_exporter": "python",
   "pygments_lexer": "ipython3",
   "version": "3.7.1"
  }
 },
 "nbformat": 4,
 "nbformat_minor": 2
}
