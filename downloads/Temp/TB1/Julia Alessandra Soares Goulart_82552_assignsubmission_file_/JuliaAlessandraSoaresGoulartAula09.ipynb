{
 "cells": [
  {
   "cell_type": "markdown",
   "metadata": {},
   "source": [
    "Aluno: Júlia Alessandra Soares Goulart\n",
    "Matrícula: 2018015588\n",
    "Aula 09"
   ]
  },
  {
   "cell_type": "markdown",
   "metadata": {},
   "source": [
    "Exercício 1"
   ]
  },
  {
   "cell_type": "code",
   "execution_count": 3,
   "metadata": {},
   "outputs": [
    {
     "name": "stdout",
     "output_type": "stream",
     "text": [
      "[(1, 1), (2, 4), (3, 9), (4, 16), (5, 25)]\n"
     ]
    }
   ],
   "source": [
    "def exercicio_1(n):\n",
    "    lista = []\n",
    "    for m in range (1,n+1):\n",
    "        lista += [(m,m**2)]\n",
    "    return lista \n",
    "print(exercicio_1(5))"
   ]
  },
  {
   "cell_type": "markdown",
   "metadata": {},
   "source": [
    "Exercício 2"
   ]
  },
  {
   "cell_type": "code",
   "execution_count": 7,
   "metadata": {},
   "outputs": [
    {
     "name": "stdout",
     "output_type": "stream",
     "text": [
      "[(1, 1, 1), (2, 4, 8), (3, 9, 27), (4, 16, 64), (5, 25, 125)]\n"
     ]
    }
   ],
   "source": [
    "def exercicio_2(n):\n",
    "    lista = []\n",
    "    for m in range (1,n+1):\n",
    "        lista += [(m, m**2, m**3)]\n",
    "    return lista\n",
    "print(exercicio_2(5))"
   ]
  },
  {
   "cell_type": "markdown",
   "metadata": {},
   "source": [
    "Exercício 3"
   ]
  },
  {
   "cell_type": "code",
   "execution_count": 1,
   "metadata": {},
   "outputs": [
    {
     "name": "stdout",
     "output_type": "stream",
     "text": [
      "(1, 2, 3, 4, 5)\n",
      "(6, 7, 8, 9, 10)\n"
     ]
    }
   ],
   "source": [
    "def exercicio_3():\n",
    "    tupla = (1, 2, 3, 4, 5, 6, 7, 8, 9, 10)\n",
    "    return tupla\n",
    "print (exercicio_3()[0:5])\n",
    "print (exercicio_3()[5:10])"
   ]
  },
  {
   "cell_type": "markdown",
   "metadata": {},
   "source": [
    "Exercício 4"
   ]
  },
  {
   "cell_type": "code",
   "execution_count": 11,
   "metadata": {},
   "outputs": [
    {
     "name": "stdout",
     "output_type": "stream",
     "text": [
      "escolha um número: 1\n",
      "escolha um número: 4\n",
      "escolha um número: 6\n",
      "escolha um número: 2\n",
      "escolha um número: 7\n",
      "escolha um número: 5\n",
      "escolha um número: 8\n",
      "(4, 6, 2, 8) (1, 7, 5)\n"
     ]
    }
   ],
   "source": [
    "def exercicio_4(lista):\n",
    "    lista = [[], []]\n",
    "pares = []\n",
    "impares = []\n",
    "for m in range (1,8):\n",
    "    n = int(input('escolha um número: '))\n",
    "    if n % 2 == 0:\n",
    "        pares.append(n)\n",
    "    else:\n",
    "        impares.append(n)\n",
    "j = tuple (pares)\n",
    "l = tuple (impares)\n",
    "print (j,l)"
   ]
  },
  {
   "cell_type": "markdown",
   "metadata": {},
   "source": [
    "Exercicio 5"
   ]
  },
  {
   "cell_type": "code",
   "execution_count": 27,
   "metadata": {},
   "outputs": [
    {
     "name": "stdout",
     "output_type": "stream",
     "text": [
      "(1, 2, 3, 4, 5, 6, 7, 8, 9, 10)\n"
     ]
    }
   ],
   "source": [
    "def exercicio_5_1():\n",
    "    tupla = (1, 2, 3, 4, 5, 6, 7, 8, 9, 10)\n",
    "    return tupla\n",
    "print (exercicio_5_1())"
   ]
  },
  {
   "cell_type": "code",
   "execution_count": 26,
   "metadata": {},
   "outputs": [
    {
     "name": "stdout",
     "output_type": "stream",
     "text": [
      "[1, 2, 3, 4, 5, 6, 7, 8, 9, 10]\n"
     ]
    }
   ],
   "source": [
    "def exercicio_5_2():\n",
    "    lista = [1, 2, 3, 4, 5, 6, 7, 8, 9, 10]\n",
    "    julia = tuple(lista)\n",
    "    return lista\n",
    "print (exercicio_5_2())"
   ]
  },
  {
   "cell_type": "markdown",
   "metadata": {},
   "source": [
    "Exercicio 6"
   ]
  },
  {
   "cell_type": "code",
   "execution_count": 38,
   "metadata": {},
   "outputs": [
    {
     "name": "stdout",
     "output_type": "stream",
     "text": [
      "[((15, 58, 100), (20, 11, 100), (10, 25, 100))]\n"
     ]
    }
   ],
   "source": [
    "def exercicio_6():\n",
    "    num = 100\n",
    "lista = [(15,58,80), (20,11,28), (10,25,88)]\n",
    "lista2 =[]\n",
    "j,l,a = lista\n",
    "j1 = list(j)\n",
    "j1[2] = 100\n",
    "j2 = tuple(j1)\n",
    "l1 = list(l)\n",
    "l1[2] = 100\n",
    "l2 = tuple(l1)\n",
    "a1 = list(a)\n",
    "a1[2] = 100\n",
    "a2 = tuple(a1)\n",
    "tupla = (j2,l2,a2)\n",
    "lista2.append(tupla)\n",
    "print(lista2)"
   ]
  },
  {
   "cell_type": "markdown",
   "metadata": {},
   "source": [
    "Exercicio 7"
   ]
  },
  {
   "cell_type": "code",
   "execution_count": 38,
   "metadata": {},
   "outputs": [
    {
     "name": "stdout",
     "output_type": "stream",
     "text": [
      "Digite o valor da cotação do dólar: 4.1\n",
      "US$ 01 = R$4.10\n",
      "US$ 02 = R$8.20\n",
      "US$ 03 = R$12.30\n",
      "US$ 04 = R$16.40\n",
      "US$ 05 = R$20.50\n",
      "US$ 06 = R$24.60\n",
      "US$ 07 = R$28.70\n",
      "US$ 08 = R$32.80\n",
      "US$ 09 = R$36.90\n",
      "US$ 10 = R$41.00\n",
      "US$ 11 = R$45.10\n",
      "US$ 12 = R$49.20\n",
      "US$ 13 = R$53.30\n",
      "US$ 14 = R$57.40\n",
      "US$ 15 = R$61.50\n",
      "US$ 16 = R$65.60\n",
      "US$ 17 = R$69.70\n",
      "US$ 18 = R$73.80\n",
      "US$ 19 = R$77.90\n",
      "US$ 20 = R$82.00\n",
      "US$ 21 = R$86.10\n",
      "US$ 22 = R$90.20\n",
      "US$ 23 = R$94.30\n",
      "US$ 24 = R$98.40\n",
      "US$ 25 = R$102.50\n",
      "US$ 26 = R$106.60\n",
      "US$ 27 = R$110.70\n",
      "US$ 28 = R$114.80\n",
      "US$ 29 = R$118.90\n",
      "US$ 30 = R$123.00\n",
      "US$ 31 = R$127.10\n",
      "US$ 32 = R$131.20\n",
      "US$ 33 = R$135.30\n",
      "US$ 34 = R$139.40\n",
      "US$ 35 = R$143.50\n",
      "US$ 36 = R$147.60\n",
      "US$ 37 = R$151.70\n",
      "US$ 38 = R$155.80\n",
      "US$ 39 = R$159.90\n",
      "US$ 40 = R$164.00\n",
      "US$ 41 = R$168.10\n",
      "US$ 42 = R$172.20\n",
      "US$ 43 = R$176.30\n",
      "US$ 44 = R$180.40\n",
      "US$ 45 = R$184.50\n",
      "US$ 46 = R$188.60\n",
      "US$ 47 = R$192.70\n",
      "US$ 48 = R$196.80\n",
      "US$ 49 = R$200.90\n",
      "US$ 50 = R$205.00\n",
      "US$ 51 = R$209.10\n",
      "US$ 52 = R$213.20\n",
      "US$ 53 = R$217.30\n",
      "US$ 54 = R$221.40\n",
      "US$ 55 = R$225.50\n",
      "US$ 56 = R$229.60\n",
      "US$ 57 = R$233.70\n",
      "US$ 58 = R$237.80\n",
      "US$ 59 = R$241.90\n",
      "US$ 60 = R$246.00\n",
      "US$ 61 = R$250.10\n",
      "US$ 62 = R$254.20\n",
      "US$ 63 = R$258.30\n",
      "US$ 64 = R$262.40\n",
      "US$ 65 = R$266.50\n",
      "US$ 66 = R$270.60\n",
      "US$ 67 = R$274.70\n",
      "US$ 68 = R$278.80\n",
      "US$ 69 = R$282.90\n",
      "US$ 70 = R$287.00\n",
      "US$ 71 = R$291.10\n",
      "US$ 72 = R$295.20\n",
      "US$ 73 = R$299.30\n",
      "US$ 74 = R$303.40\n",
      "US$ 75 = R$307.50\n",
      "US$ 76 = R$311.60\n",
      "US$ 77 = R$315.70\n",
      "US$ 78 = R$319.80\n",
      "US$ 79 = R$323.90\n",
      "US$ 80 = R$328.00\n",
      "US$ 81 = R$332.10\n",
      "US$ 82 = R$336.20\n",
      "US$ 83 = R$340.30\n",
      "US$ 84 = R$344.40\n",
      "US$ 85 = R$348.50\n",
      "US$ 86 = R$352.60\n",
      "US$ 87 = R$356.70\n",
      "US$ 88 = R$360.80\n",
      "US$ 89 = R$364.90\n",
      "US$ 90 = R$369.00\n",
      "US$ 91 = R$373.10\n",
      "US$ 92 = R$377.20\n",
      "US$ 93 = R$381.30\n",
      "US$ 94 = R$385.40\n",
      "US$ 95 = R$389.50\n",
      "US$ 96 = R$393.60\n",
      "US$ 97 = R$397.70\n",
      "US$ 98 = R$401.80\n",
      "US$ 99 = R$405.90\n",
      "US$ 100 = R$410.00\n"
     ]
    }
   ],
   "source": [
    "def exercicio_7():\n",
    "    dolar = float(input(\"Digite a quantidade de dolar para conversão: \"))\n",
    "cotacao = float(input(\"Digite o valor da cotação do dólar: \"))\n",
    "real = 0\n",
    "for dolar in range (1, 101):\n",
    "    real = cotacao*dolar\n",
    "    tupla = ((dolar,real))\n",
    "    print (\"US$ %.2d = R$%.2f\" % (dolar,real))"
   ]
  },
  {
   "cell_type": "code",
   "execution_count": 7,
   "metadata": {},
   "outputs": [
    {
     "name": "stdout",
     "output_type": "stream",
     "text": [
      "Digite o valor da cotação do real: 0.24\n",
      "R$ 01 = US0.24\n",
      "R$ 02 = US0.48\n",
      "R$ 03 = US0.72\n",
      "R$ 04 = US0.96\n",
      "R$ 05 = US1.20\n",
      "R$ 06 = US1.44\n",
      "R$ 07 = US1.68\n",
      "R$ 08 = US1.92\n",
      "R$ 09 = US2.16\n",
      "R$ 10 = US2.40\n",
      "R$ 11 = US2.64\n",
      "R$ 12 = US2.88\n",
      "R$ 13 = US3.12\n",
      "R$ 14 = US3.36\n",
      "R$ 15 = US3.60\n",
      "R$ 16 = US3.84\n",
      "R$ 17 = US4.08\n",
      "R$ 18 = US4.32\n",
      "R$ 19 = US4.56\n",
      "R$ 20 = US4.80\n",
      "R$ 21 = US5.04\n",
      "R$ 22 = US5.28\n",
      "R$ 23 = US5.52\n",
      "R$ 24 = US5.76\n",
      "R$ 25 = US6.00\n",
      "R$ 26 = US6.24\n",
      "R$ 27 = US6.48\n",
      "R$ 28 = US6.72\n",
      "R$ 29 = US6.96\n",
      "R$ 30 = US7.20\n",
      "R$ 31 = US7.44\n",
      "R$ 32 = US7.68\n",
      "R$ 33 = US7.92\n",
      "R$ 34 = US8.16\n",
      "R$ 35 = US8.40\n",
      "R$ 36 = US8.64\n",
      "R$ 37 = US8.88\n",
      "R$ 38 = US9.12\n",
      "R$ 39 = US9.36\n",
      "R$ 40 = US9.60\n",
      "R$ 41 = US9.84\n",
      "R$ 42 = US10.08\n",
      "R$ 43 = US10.32\n",
      "R$ 44 = US10.56\n",
      "R$ 45 = US10.80\n",
      "R$ 46 = US11.04\n",
      "R$ 47 = US11.28\n",
      "R$ 48 = US11.52\n",
      "R$ 49 = US11.76\n",
      "R$ 50 = US12.00\n",
      "R$ 51 = US12.24\n",
      "R$ 52 = US12.48\n",
      "R$ 53 = US12.72\n",
      "R$ 54 = US12.96\n",
      "R$ 55 = US13.20\n",
      "R$ 56 = US13.44\n",
      "R$ 57 = US13.68\n",
      "R$ 58 = US13.92\n",
      "R$ 59 = US14.16\n",
      "R$ 60 = US14.40\n",
      "R$ 61 = US14.64\n",
      "R$ 62 = US14.88\n",
      "R$ 63 = US15.12\n",
      "R$ 64 = US15.36\n",
      "R$ 65 = US15.60\n",
      "R$ 66 = US15.84\n",
      "R$ 67 = US16.08\n",
      "R$ 68 = US16.32\n",
      "R$ 69 = US16.56\n",
      "R$ 70 = US16.80\n",
      "R$ 71 = US17.04\n",
      "R$ 72 = US17.28\n",
      "R$ 73 = US17.52\n",
      "R$ 74 = US17.76\n",
      "R$ 75 = US18.00\n",
      "R$ 76 = US18.24\n",
      "R$ 77 = US18.48\n",
      "R$ 78 = US18.72\n",
      "R$ 79 = US18.96\n",
      "R$ 80 = US19.20\n",
      "R$ 81 = US19.44\n",
      "R$ 82 = US19.68\n",
      "R$ 83 = US19.92\n",
      "R$ 84 = US20.16\n",
      "R$ 85 = US20.40\n",
      "R$ 86 = US20.64\n",
      "R$ 87 = US20.88\n",
      "R$ 88 = US21.12\n",
      "R$ 89 = US21.36\n",
      "R$ 90 = US21.60\n",
      "R$ 91 = US21.84\n",
      "R$ 92 = US22.08\n",
      "R$ 93 = US22.32\n",
      "R$ 94 = US22.56\n",
      "R$ 95 = US22.80\n",
      "R$ 96 = US23.04\n",
      "R$ 97 = US23.28\n",
      "R$ 98 = US23.52\n",
      "R$ 99 = US23.76\n",
      "R$ 100 = US24.00\n"
     ]
    }
   ],
   "source": [
    "def exercicio_7():\n",
    "    real = float(input(\"Digite a quantidade de real para conversão: \"))\n",
    "cotacao = float(input(\"Digite o valor da cotação do real: \"))\n",
    "dolar = 0\n",
    "for real in range (1, 101):\n",
    "    dolar = real*cotacao\n",
    "    tupla = (real,dolar)\n",
    "    print (\"R$ %.2d = US%.2f\" % (real,dolar))"
   ]
  }
 ],
 "metadata": {
  "kernelspec": {
   "display_name": "Python 3",
   "language": "python",
   "name": "python3"
  },
  "language_info": {
   "codemirror_mode": {
    "name": "ipython",
    "version": 3
   },
   "file_extension": ".py",
   "mimetype": "text/x-python",
   "name": "python",
   "nbconvert_exporter": "python",
   "pygments_lexer": "ipython3",
   "version": "3.7.1"
  }
 },
 "nbformat": 4,
 "nbformat_minor": 2
}
