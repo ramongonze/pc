{
 "cells": [
  {
   "cell_type": "markdown",
   "metadata": {},
   "source": [
    "## Questão 1"
   ]
  },
  {
   "cell_type": "code",
   "execution_count": 12,
   "metadata": {},
   "outputs": [],
   "source": [
    "def exercicio_1(n):\n",
    "    lista=[]\n",
    "    for i in range(1,n+1):\n",
    "        quadrado=i*i\n",
    "        lista.append((i, quadrado))\n",
    "    return lista\n"
   ]
  },
  {
   "cell_type": "code",
   "execution_count": 15,
   "metadata": {},
   "outputs": [],
   "source": [
    "def exercicio_2(n):\n",
    "    lista=[]\n",
    "    for i in range (1,n+1):\n",
    "        quadrado=i*i\n",
    "        cubo=i*i*i\n",
    "        lista.append((i,quadrado,cubo))\n",
    "    return lista"
   ]
  },
  {
   "cell_type": "code",
   "execution_count": 28,
   "metadata": {},
   "outputs": [],
   "source": [
    "def exercicio_3(t):\n",
    "    tamanho = int((len(t))/2)\n",
    "    primeira_metade=t[:tamanho]\n",
    "    segunda_metade=t[tamanho:]   \n",
    "    string=\"\"\n",
    "    for i in range(len(primeira_metade)):\n",
    "        string=string + str( primeira_metade[i])\n",
    "        if i!=len(primeira_metade) -1:\n",
    "            string = string + \" \"\n",
    "    string = string+\"\\n\"\n",
    "    for i in range(len(segunda_metade)):\n",
    "        string=string + str( segunda_metade[i])\n",
    "        if i!=len(segunda_metade) -1:\n",
    "            string = string + \" \"\n",
    "    return (t)\n",
    "    "
   ]
  },
  {
   "cell_type": "code",
   "execution_count": 38,
   "metadata": {},
   "outputs": [],
   "source": [
    "def exercicio_4(t):\n",
    "    t_ordenado = sorted(t)\n",
    "    pares = []\n",
    "    impares = []\n",
    "    for i in range(len(t_ordenado)):\n",
    "        if t_ordenado[i]%2 == 0:\n",
    "            pares.append(t_ordenado[i])\n",
    "        else:\n",
    "            impares.append(t_ordenado[i])\n",
    "    pares = tuple(pares)\n",
    "    impares = tuple(impares)\n",
    "    return pares, impares\n",
    "    "
   ]
  },
  {
   "cell_type": "code",
   "execution_count": 44,
   "metadata": {},
   "outputs": [],
   "source": [
    "def exercicio_5_1(t):\n",
    "    tupla1 = tuple(t)\n",
    "    return tupla1\n",
    "    "
   ]
  },
  {
   "cell_type": "code",
   "execution_count": null,
   "metadata": {},
   "outputs": [],
   "source": [
    "def exercicio_5_2(t):\n",
    "    tupla2 = tuple(t)\n",
    "    return tupla2"
   ]
  },
  {
   "cell_type": "code",
   "execution_count": 48,
   "metadata": {},
   "outputs": [],
   "source": [
    "def exercicio_6(l,n):\n",
    "    for i in range(len(l)):\n",
    "        tupla = l[i]\n",
    "        tupla = list(tupla)\n",
    "        tupla[-1] = n\n",
    "        tupla = tuple(tupla)\n",
    "        l[i] = tupla\n",
    "    return l"
   ]
  },
  {
   "cell_type": "code",
   "execution_count": 62,
   "metadata": {},
   "outputs": [],
   "source": [
    "def exercicio_7(cotacao):\n",
    "    saida = \"\"\n",
    "    for i in range(1,101):\n",
    "        real = i*cotacao    \n",
    "        dolar = i/cotacao\n",
    "        saida +=\"US$ %6.2f R$ %6.2f  R$ %6.2f US$ %6.2f\\n\"%(i,real,i,dolar)\n",
    "        saida +=\"-\"*20 + \"  \"+\"-\"*20 + \"\\n\"\n",
    "    return saida\n",
    "saida = exercicio_7(4.13)"
   ]
  },
  {
   "cell_type": "code",
   "execution_count": null,
   "metadata": {},
   "outputs": [],
   "source": []
  }
 ],
 "metadata": {
  "kernelspec": {
   "display_name": "Python 3",
   "language": "python",
   "name": "python3"
  },
  "language_info": {
   "codemirror_mode": {
    "name": "ipython",
    "version": 3
   },
   "file_extension": ".py",
   "mimetype": "text/x-python",
   "name": "python",
   "nbconvert_exporter": "python",
   "pygments_lexer": "ipython3",
   "version": "3.7.1"
  }
 },
 "nbformat": 4,
 "nbformat_minor": 2
}
