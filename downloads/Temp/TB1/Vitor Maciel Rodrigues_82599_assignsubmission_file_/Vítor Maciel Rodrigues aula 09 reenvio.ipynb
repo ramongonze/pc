{
 "cells": [
  {
   "cell_type": "code",
   "execution_count": null,
   "metadata": {},
   "outputs": [],
   "source": [
    "def exercicio_1(n):\n",
    "    lista = []\n",
    "    for i in range(1, n + 1):\n",
    "        quadrado = i*i\n",
    "        lista.append( tuple((i, quadrado)))\n",
    "    return lista"
   ]
  },
  {
   "cell_type": "code",
   "execution_count": null,
   "metadata": {},
   "outputs": [],
   "source": [
    "def exercicio_2(n):\n",
    "    lista = []\n",
    "    for i in range(1, n + 1):\n",
    "        quadrado = i*i\n",
    "        cubo = i*i*i\n",
    "        lista.append( tuple((i, quadrado, cubo)))\n",
    "    return lista"
   ]
  },
  {
   "cell_type": "code",
   "execution_count": null,
   "metadata": {},
   "outputs": [],
   "source": [
    "def exercicio_3(t):\n",
    "    tamanho = len(t)\n",
    "    tamanho = int(tamanho/2)\n",
    "    metade1 = t[:tamanho]\n",
    "    metade2 = t[tamanho:]\n",
    "    string = \"\"  \n",
    "    for i in range(len(metade1)):\n",
    "        string = string + str(metade1[i])\n",
    "        if i != len(metade1) - 1:\n",
    "            string = string + \" \"\n",
    "    string = string + \"\\n\"\n",
    "    for i in range(len(metade2)):\n",
    "        string = string + str(metade2[i])\n",
    "        if i != len(metade2) - 1:\n",
    "            string = string + \" \"\n",
    "    return (t)"
   ]
  },
  {
   "cell_type": "code",
   "execution_count": null,
   "metadata": {},
   "outputs": [],
   "source": [
    "def exercicio_4(t):\n",
    "    ordenado = sorted(t)\n",
    "    pares = []\n",
    "    impares = []\n",
    "    for i in range(len(ordenado)):\n",
    "        if ordenado[i]%2 == 0:\n",
    "            pares.append(ordenado[i])\n",
    "        else:\n",
    "            impares.append(ordenado[i])\n",
    "    pares = tuple(pares)\n",
    "    impares = tuple(impares)\n",
    "    return pares, impares"
   ]
  },
  {
   "cell_type": "code",
   "execution_count": null,
   "metadata": {},
   "outputs": [],
   "source": [
    "def exercicio_5_1(l):\n",
    "    p = tuple(l)\n",
    "    return p\n",
    "def exercicio_5_2(l):\n",
    "    p = tuple(l)\n",
    "    return p"
   ]
  },
  {
   "cell_type": "code",
   "execution_count": null,
   "metadata": {},
   "outputs": [],
   "source": [
    "def exercicio_6(l,n):\n",
    "    for i in range(len(l)):\n",
    "        tupla = l[i]\n",
    "        tupla = list(tupla)\n",
    "        tupla[-1] = n\n",
    "        tupla= tuple(tupla)\n",
    "        l[i] = tupla\n",
    "    return l"
   ]
  },
  {
   "cell_type": "code",
   "execution_count": null,
   "metadata": {},
   "outputs": [],
   "source": [
    "def exercicio_7(cotacao):\n",
    "    saida = \"\"\n",
    "    for i in range(1,101):\n",
    "        real = i*cotacao\n",
    "        dolar = i/cotacao\n",
    "        saida += \"Us$ %6.2f R$ %6.2f   R$ %6.2f US$ %6.2f\\n\"%(i, real, i, dolar)\n",
    "        saida += \"-\"*20 + \"   \" + \"-\"*20 + \"\\n\"\n",
    "    return saida"
   ]
  }
 ],
 "metadata": {
  "kernelspec": {
   "display_name": "Python 3",
   "language": "python",
   "name": "python3"
  },
  "language_info": {
   "codemirror_mode": {
    "name": "ipython",
    "version": 3
   },
   "file_extension": ".py",
   "mimetype": "text/x-python",
   "name": "python",
   "nbconvert_exporter": "python",
   "pygments_lexer": "ipython3",
   "version": "3.7.1"
  }
 },
 "nbformat": 4,
 "nbformat_minor": 2
}
