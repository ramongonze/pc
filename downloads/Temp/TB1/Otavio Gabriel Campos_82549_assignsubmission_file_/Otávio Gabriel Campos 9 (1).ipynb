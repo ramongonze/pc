{
 "cells": [
  {
   "cell_type": "markdown",
   "metadata": {},
   "source": [
    "Exercício 1"
   ]
  },
  {
   "cell_type": "code",
   "execution_count": 5,
   "metadata": {},
   "outputs": [
    {
     "data": {
      "text/plain": [
       "[(-1, 1), (-2, 4), (-3, 9), (-4, 16), (-5, 25)]"
      ]
     },
     "execution_count": 5,
     "metadata": {},
     "output_type": "execute_result"
    }
   ],
   "source": [
    "def exercicio_1(n):\n",
    "    \"Função que retorna o valor indicado e seu quadrado\"\n",
    "    lista = []\n",
    "    if n == 0:\n",
    "        lista += 0,\n",
    "    while n > 0:\n",
    "        lista += (n,n**2),\n",
    "        n = n-1\n",
    "    while n < 0:\n",
    "        lista += (n,n**2),\n",
    "        n = n+1\n",
    "    return lista[::-1]\n",
    "exercício_1(n)"
   ]
  },
  {
   "cell_type": "markdown",
   "metadata": {},
   "source": [
    "Exercício 2"
   ]
  },
  {
   "cell_type": "code",
   "execution_count": 6,
   "metadata": {},
   "outputs": [
    {
     "data": {
      "text/plain": [
       "[(-1, 1, -1), (-2, 4, -8), (-3, 9, -27), (-4, 16, -64), (-5, 25, -125)]"
      ]
     },
     "execution_count": 6,
     "metadata": {},
     "output_type": "execute_result"
    }
   ],
   "source": [
    "def exercicio_2(n):\n",
    "    \"Função que retorna o valor indicado e seu quadrado\"\n",
    "    lista = []\n",
    "    if n == 0:\n",
    "        lista += 0,\n",
    "    while n > 0:\n",
    "        lista += (n,n**2,n**3),\n",
    "        n = n-1\n",
    "    while n < 0:\n",
    "        lista += (n,n**2,n**3),\n",
    "        n = n+1\n",
    "    return lista[::-1]\n",
    "exercício_2(n)"
   ]
  },
  {
   "cell_type": "markdown",
   "metadata": {},
   "source": [
    "Exercício 3"
   ]
  },
  {
   "cell_type": "code",
   "execution_count": 25,
   "metadata": {},
   "outputs": [
    {
     "name": "stdout",
     "output_type": "stream",
     "text": [
      "(1, 2, 3, 4, 5)\n",
      "(6, 7, 8, 9, 10)\n"
     ]
    }
   ],
   "source": [
    "def exercicio_3():\n",
    "    tupla = (1,2,3,4,5,6,7,8,9,10)\n",
    "    x = str(tupla[0:5]) + '\\n' + str(tupla[5:10])\n",
    "    return str(x)\n",
    "\n",
    "print(exercício_3())"
   ]
  },
  {
   "cell_type": "markdown",
   "metadata": {},
   "source": [
    "Exercício 4"
   ]
  },
  {
   "cell_type": "code",
   "execution_count": 33,
   "metadata": {},
   "outputs": [
    {
     "name": "stdout",
     "output_type": "stream",
     "text": [
      "((2, 4, 6), (1, 3, 5, 7))\n"
     ]
    }
   ],
   "source": [
    "def exercicio_4(t):\n",
    "    tupla_par = ()\n",
    "    tupla_ímpar = ()\n",
    "    for elemento in t:\n",
    "        if elemento % 2 == 0:\n",
    "            tupla_par += elemento,\n",
    "        elif elemento % 2 != 0:\n",
    "            tupla_ímpar += elemento,\n",
    "    return tupla_par,tupla_ímpar\n",
    "print(exercício_4(t))"
   ]
  },
  {
   "cell_type": "markdown",
   "metadata": {},
   "source": [
    "Exercício 5"
   ]
  },
  {
   "cell_type": "code",
   "execution_count": null,
   "metadata": {},
   "outputs": [],
   "source": [
    "def exercicio_5_1(l):\n",
    "    return (l)\n",
    "    \n",
    "    \n",
    "def exercicio_5_2(l):\n",
    "    return (l)\n"
   ]
  },
  {
   "cell_type": "markdown",
   "metadata": {},
   "source": [
    "Exercício 6"
   ]
  },
  {
   "cell_type": "code",
   "execution_count": null,
   "metadata": {},
   "outputs": [],
   "source": [
    "def exercicio_6(l,n)\n",
    "    return (l,n)"
   ]
  },
  {
   "cell_type": "markdown",
   "metadata": {},
   "source": [
    "Exercício 7"
   ]
  },
  {
   "cell_type": "code",
   "execution_count": null,
   "metadata": {},
   "outputs": [],
   "source": [
    "def exercicio_7(cotacao):\n",
    "    return (cotacao)"
   ]
  }
 ],
 "metadata": {
  "kernelspec": {
   "display_name": "Python 3",
   "language": "python",
   "name": "python3"
  },
  "language_info": {
   "codemirror_mode": {
    "name": "ipython",
    "version": 3
   },
   "file_extension": ".py",
   "mimetype": "text/x-python",
   "name": "python",
   "nbconvert_exporter": "python",
   "pygments_lexer": "ipython3",
   "version": "3.7.1"
  }
 },
 "nbformat": 4,
 "nbformat_minor": 2
}
