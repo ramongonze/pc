{
 "cells": [
  {
   "cell_type": "markdown",
   "metadata": {},
   "source": [
    "# Luan Silva Tomaz"
   ]
  },
  {
   "cell_type": "markdown",
   "metadata": {},
   "source": [
    "# Lista aula 09"
   ]
  },
  {
   "cell_type": "markdown",
   "metadata": {},
   "source": [
    "# Exerício 01\n",
    "\n",
    "## Faça um programa Python que leia um valor n na entrada e gere uma lista de tuplas formada pelos inteiros de 1 até n e seus quadrados."
   ]
  },
  {
   "cell_type": "code",
   "execution_count": 21,
   "metadata": {},
   "outputs": [],
   "source": [
    "#Função\n",
    "def exercicio_1(n):\n",
    "    lista = []\n",
    "    Tupla = ()\n",
    "    for i in range(1,n+1):\n",
    "        Tupla += i,\n",
    "        Tupla += (i**2),\n",
    "        lista.append(Tupla)\n",
    "        Tupla = ()\n",
    "    return (lista)"
   ]
  },
  {
   "cell_type": "markdown",
   "metadata": {},
   "source": [
    "# Exerício 02\n",
    "\n",
    "## O mesmo que acima, mas as tuplas serão formadas pelos inteiros, por seus quadrados e seus cubos.\n"
   ]
  },
  {
   "cell_type": "code",
   "execution_count": 19,
   "metadata": {},
   "outputs": [],
   "source": [
    "#Função\n",
    "def exercicio_2(n):\n",
    "    Tupla = ()\n",
    "    lista = []\n",
    "    for i in range(1,n+1):\n",
    "        Tupla += (i),\n",
    "        Tupla += (i**2),\n",
    "        Tupla += (i**3),\n",
    "        lista.append(Tupla)\n",
    "        Tupla = ()\n",
    "    return (lista)"
   ]
  },
  {
   "cell_type": "markdown",
   "metadata": {},
   "source": [
    "# Exerício 03\n",
    "\n",
    "## Dada uma tupla (1,2,3,4,5,6,7,8,9,10), escreva um programa Python que imprima a primeira metade dos valores da tupla em uma linha e a outra metade na linha seguinte.\n"
   ]
  },
  {
   "cell_type": "code",
   "execution_count": 17,
   "metadata": {},
   "outputs": [],
   "source": [
    "def exercicio_3(t):\n",
    "    L1 = ''\n",
    "    L2 = ''\n",
    "    for i in range(0, len(t)):\n",
    "        if i < (len(t)//2):\n",
    "            L1 += f'{t[i]} '\n",
    "        else:\n",
    "            L2 += f'{t[i]} '\n",
    "    a = f'{L1}\\n' + f'{L2}'\n",
    "    return a"
   ]
  },
  {
   "cell_type": "markdown",
   "metadata": {},
   "source": [
    "# Exerício 04\n",
    "\n",
    "## Faça um programa Python que gere e imprima duas tuplas: uma com os valores pares da tupla original e a outra com os valores ímpares da tupla original."
   ]
  },
  {
   "cell_type": "code",
   "execution_count": 13,
   "metadata": {},
   "outputs": [],
   "source": [
    "#Função que gera 2 tuplas a partir de ma lista, \n",
    "#sendo uma de pares e outras de impares\n",
    "\n",
    "def exercicio_4(t):\n",
    "    t1 = ()\n",
    "    t2 = ()\n",
    "    for i in range(0,len(t)):\n",
    "        if t[i] % 2 == 0:\n",
    "            t1 += t[i],\n",
    "        else:\n",
    "            t2 += t[i],\n",
    "    return(t1, t2)"
   ]
  },
  {
   "cell_type": "markdown",
   "metadata": {},
   "source": [
    "# Exerício 05\n",
    "\n",
    "## Faça um programa Python para criar uma tupla a partir de uma lista de duas maneiras diferentes.\n",
    "\n"
   ]
  },
  {
   "cell_type": "code",
   "execution_count": 22,
   "metadata": {},
   "outputs": [],
   "source": [
    "\n",
    "#Método 1 - Usando for\n",
    "def exercicio_5_1(l):\n",
    "    Tupla_1 = ()\n",
    "    for i in range(0, len(l)):\n",
    "        Tupla_1 += l[i],\n",
    "    return(Tupla_1)\n",
    "\n",
    "\n",
    "#Método 2 - Usando while\n",
    "def exercicio_5_2(l):\n",
    "    k = 0\n",
    "    Tupla_2 = ()\n",
    "    while k < len(l):\n",
    "        Tupla_2 += l[k],\n",
    "        k += 1\n",
    "    return(Tupla_2)\n"
   ]
  },
  {
   "cell_type": "markdown",
   "metadata": {},
   "source": [
    "# Exerício 06\n",
    "\n",
    "## Faça um programa Python que troque o último elemento de todas tuplas em uma lista. Exemplo: dada a lista [(10, 20, 40), (40, 50, 60), (70, 80, 90)] retorne a nova lista [(10, 20, 100), (40, 50, 100), (70, 80, 100)]\n"
   ]
  },
  {
   "cell_type": "code",
   "execution_count": 23,
   "metadata": {},
   "outputs": [],
   "source": [
    "#Função\n",
    "def exercicio_6(Lista):\n",
    "    valor = 100\n",
    "    Lista_mod = []\n",
    "    \n",
    "    for i in range(0, len(Lista)):\n",
    "        #Primeiro recortei a primeira parte da lista e somei com o 100\n",
    "        Parte_1_lista = Lista[i][:len(Lista[i])-1]\n",
    "        Parte_2_lista = Parte_1_lista + (valor,)\n",
    "        Lista_mod += (Parte_2_lista,)\n",
    "    return (Lista_mod)\n",
    "\n"
   ]
  },
  {
   "cell_type": "markdown",
   "metadata": {},
   "source": [
    "# Exerício 07\n",
    "\n",
    "## Dada a cotação do dólar comercial do dia na entrada de um programa Python, imprima os valores de 1 a 100 reais em dólares como pares (dólar, real) e (real,dólar). Formato de saída desejado para o programa:\n",
    "US$ 9.00 = R$ 28.54 R$ 9.00 = US$ 2.84\n",
    "-------------------- -------------------\n",
    "US$ 10.00 = R$ 31.71 R$ 10.00 = US$ 3.15\n",
    "-------------------- -------------------\n",
    "US$ 11.00 = R$ 34.89 R$ 11.00 = US$ 3.47\n",
    "-------------------- -------------------\n",
    "US$ 12.00 = R$ 38.06 R$ 12.00 = US$ 3.78\n",
    "-------------------- -------------------"
   ]
  },
  {
   "cell_type": "code",
   "execution_count": 33,
   "metadata": {},
   "outputs": [],
   "source": [
    "#Função que retorna uma string de conversões monetárias\n",
    "def exercicio_7(cotacao):\n",
    "    string = ''\n",
    "    for i in range(1, 101):\n",
    "        DolarToReal = str(f'US$ {i:6.2f} R$ {cotacao*i:6.2f}')\n",
    "        RealToDolar = str(f'   R$ {i:6.2f} US$ {i/cotacao:6.2f}\\n')\n",
    "        str_valores = DolarToReal + RealToDolar \n",
    "        line = ('-' * 20) + (' ' * 3) + ('-' * 20)\n",
    "        string += str_valores + str(f'{line}\\n')\n",
    "    return string"
   ]
  }
 ],
 "metadata": {
  "kernelspec": {
   "display_name": "Python 3",
   "language": "python",
   "name": "python3"
  },
  "language_info": {
   "codemirror_mode": {
    "name": "ipython",
    "version": 3
   },
   "file_extension": ".py",
   "mimetype": "text/x-python",
   "name": "python",
   "nbconvert_exporter": "python",
   "pygments_lexer": "ipython3",
   "version": "3.7.1"
  }
 },
 "nbformat": 4,
 "nbformat_minor": 2
}
