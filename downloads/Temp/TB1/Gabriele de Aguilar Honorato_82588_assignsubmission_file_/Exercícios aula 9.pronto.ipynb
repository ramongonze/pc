{
 "cells": [
  {
   "cell_type": "markdown",
   "metadata": {},
   "source": [
    "Aluna: Gabriele de Aguilar Honorato\n",
    "Matrícula: 2018015871"
   ]
  },
  {
   "cell_type": "markdown",
   "metadata": {},
   "source": [
    "Exercício 1"
   ]
  },
  {
   "cell_type": "code",
   "execution_count": 24,
   "metadata": {},
   "outputs": [
    {
     "name": "stdout",
     "output_type": "stream",
     "text": [
      "[(1, 1), (2, 4), (3, 9), (4, 16), (5, 25), (6, 36), (7, 49), (8, 64)]\n"
     ]
    }
   ],
   "source": [
    "def ex_1(x):\n",
    "    lista = [] \n",
    "    for i in range (1,x+1): \n",
    "        lista += [(i, i**2)]\n",
    "    return lista\n",
    "print (ex_1(8))"
   ]
  },
  {
   "cell_type": "markdown",
   "metadata": {},
   "source": [
    "Exercício 2"
   ]
  },
  {
   "cell_type": "code",
   "execution_count": 26,
   "metadata": {},
   "outputs": [
    {
     "name": "stdout",
     "output_type": "stream",
     "text": [
      "[(1, 1, 1), (2, 4, 8), (3, 9, 27), (4, 16, 64), (5, 25, 125), (6, 36, 216), (7, 49, 343), (8, 64, 512)]\n"
     ]
    }
   ],
   "source": [
    "def ex_2(x):\n",
    "    lista = [] \n",
    "    for i in range (1,x+1): \n",
    "        lista += [(i, i**2, i**3)]\n",
    "    return lista\n",
    "print (ex_2(8))"
   ]
  },
  {
   "cell_type": "markdown",
   "metadata": {},
   "source": [
    "Exercício 3"
   ]
  },
  {
   "cell_type": "code",
   "execution_count": 10,
   "metadata": {},
   "outputs": [
    {
     "name": "stdout",
     "output_type": "stream",
     "text": [
      "(1, 2, 3, 4, 5)\n",
      "(6, 7, 8, 9, 10)\n"
     ]
    }
   ],
   "source": [
    "def ex_3():\n",
    "    tupla = (1, 2, 3, 4, 5, 6, 7, 8, 9, 10)\n",
    "    return tupla    \n",
    "print (ex_3()[0:5]) \n",
    "print (ex_3()[5:10]) "
   ]
  },
  {
   "cell_type": "markdown",
   "metadata": {},
   "source": [
    "Exercício 4"
   ]
  },
  {
   "cell_type": "code",
   "execution_count": 14,
   "metadata": {},
   "outputs": [
    {
     "name": "stdout",
     "output_type": "stream",
     "text": [
      "digite um número: 1\n",
      "digite um número: 2\n",
      "digite um número: 3\n",
      "digite um número: 4\n",
      "digite um número: 5\n",
      "digite um número: 6\n",
      "digite um número: 7\n",
      "digite um número: 8\n",
      "digite um número: 9\n",
      "digite um número: 10\n",
      "(2, 4, 6, 8, 10) (1, 3, 5, 7, 9)\n"
     ]
    }
   ],
   "source": [
    "def ex_4(lista):\n",
    "    lista = [[], []]\n",
    "pares = []\n",
    "impares = []\n",
    "for x in range(1, 11):\n",
    "    num = int(input('digite um número: '))\n",
    "    if num % 2 == 0:\n",
    "        pares.append(num)\n",
    "    else:\n",
    "        impares.append(num)\n",
    "i = tuple(pares)\n",
    "k = tuple(impares)\n",
    "print (i,k)"
   ]
  },
  {
   "cell_type": "markdown",
   "metadata": {},
   "source": [
    "Exercício 5"
   ]
  },
  {
   "cell_type": "code",
   "execution_count": 77,
   "metadata": {},
   "outputs": [
    {
     "name": "stdout",
     "output_type": "stream",
     "text": [
      "(2, 3, 5, 7, 9, 11)\n"
     ]
    }
   ],
   "source": [
    "def ex_5_1():\n",
    "    tupla = (2, 3, 5, 7, 9, 11)\n",
    "    return tupla \n",
    "print (ex_5_1())"
   ]
  },
  {
   "cell_type": "code",
   "execution_count": 79,
   "metadata": {},
   "outputs": [
    {
     "name": "stdout",
     "output_type": "stream",
     "text": [
      "(2, 3, 5, 7, 9, 11)\n"
     ]
    }
   ],
   "source": [
    "def ex_5_2():\n",
    "    lista = [2, 3, 5, 7, 9, 11] \n",
    "T = tuple(lista) \n",
    "print(T)"
   ]
  },
  {
   "cell_type": "markdown",
   "metadata": {},
   "source": [
    "Exercício 6"
   ]
  },
  {
   "cell_type": "code",
   "execution_count": 7,
   "metadata": {},
   "outputs": [
    {
     "name": "stdout",
     "output_type": "stream",
     "text": [
      "[((20, 18, 100), (8, 71, 100), (871, 12, 100))]\n"
     ]
    }
   ],
   "source": [
    "def ex_6(lista,num):\n",
    "    num = 100\n",
    "lista = [(20,18,15), (8,71,69), (871,12,23)] \n",
    "lista_2 = [] \n",
    "g,a,h = lista \n",
    "g1 = list(g)\n",
    "g1[2] = 100\n",
    "g2 = tuple(g1)\n",
    "a1 = list(a)\n",
    "a1[2] = 100\n",
    "a2 = tuple(a1)\n",
    "h1 = list(h)\n",
    "h1[2] = 100\n",
    "h2 = tuple(h1)\n",
    "tupla = (g2,a2,h2)\n",
    "lista_2.append(tupla) \n",
    "print(lista_2)"
   ]
  },
  {
   "cell_type": "markdown",
   "metadata": {},
   "source": [
    "Exercício 7"
   ]
  },
  {
   "cell_type": "code",
   "execution_count": 22,
   "metadata": {},
   "outputs": [
    {
     "name": "stdout",
     "output_type": "stream",
     "text": [
      "Informe o valor da cotação do dólar:R$ 3.71\n",
      "US$ 01 = R$3.71\n",
      "US$ 02 = R$7.42\n",
      "US$ 03 = R$11.13\n",
      "US$ 04 = R$14.84\n",
      "US$ 05 = R$18.55\n",
      "US$ 06 = R$22.26\n",
      "US$ 07 = R$25.97\n",
      "US$ 08 = R$29.68\n",
      "US$ 09 = R$33.39\n",
      "US$ 10 = R$37.10\n",
      "US$ 11 = R$40.81\n",
      "US$ 12 = R$44.52\n",
      "US$ 13 = R$48.23\n",
      "US$ 14 = R$51.94\n",
      "US$ 15 = R$55.65\n",
      "US$ 16 = R$59.36\n",
      "US$ 17 = R$63.07\n",
      "US$ 18 = R$66.78\n",
      "US$ 19 = R$70.49\n",
      "US$ 20 = R$74.20\n",
      "US$ 21 = R$77.91\n",
      "US$ 22 = R$81.62\n",
      "US$ 23 = R$85.33\n",
      "US$ 24 = R$89.04\n",
      "US$ 25 = R$92.75\n",
      "US$ 26 = R$96.46\n",
      "US$ 27 = R$100.17\n",
      "US$ 28 = R$103.88\n",
      "US$ 29 = R$107.59\n",
      "US$ 30 = R$111.30\n",
      "US$ 31 = R$115.01\n",
      "US$ 32 = R$118.72\n",
      "US$ 33 = R$122.43\n",
      "US$ 34 = R$126.14\n",
      "US$ 35 = R$129.85\n",
      "US$ 36 = R$133.56\n",
      "US$ 37 = R$137.27\n",
      "US$ 38 = R$140.98\n",
      "US$ 39 = R$144.69\n",
      "US$ 40 = R$148.40\n",
      "US$ 41 = R$152.11\n",
      "US$ 42 = R$155.82\n",
      "US$ 43 = R$159.53\n",
      "US$ 44 = R$163.24\n",
      "US$ 45 = R$166.95\n",
      "US$ 46 = R$170.66\n",
      "US$ 47 = R$174.37\n",
      "US$ 48 = R$178.08\n",
      "US$ 49 = R$181.79\n",
      "US$ 50 = R$185.50\n",
      "US$ 51 = R$189.21\n",
      "US$ 52 = R$192.92\n",
      "US$ 53 = R$196.63\n",
      "US$ 54 = R$200.34\n",
      "US$ 55 = R$204.05\n",
      "US$ 56 = R$207.76\n",
      "US$ 57 = R$211.47\n",
      "US$ 58 = R$215.18\n",
      "US$ 59 = R$218.89\n",
      "US$ 60 = R$222.60\n",
      "US$ 61 = R$226.31\n",
      "US$ 62 = R$230.02\n",
      "US$ 63 = R$233.73\n",
      "US$ 64 = R$237.44\n",
      "US$ 65 = R$241.15\n",
      "US$ 66 = R$244.86\n",
      "US$ 67 = R$248.57\n",
      "US$ 68 = R$252.28\n",
      "US$ 69 = R$255.99\n",
      "US$ 70 = R$259.70\n",
      "US$ 71 = R$263.41\n",
      "US$ 72 = R$267.12\n",
      "US$ 73 = R$270.83\n",
      "US$ 74 = R$274.54\n",
      "US$ 75 = R$278.25\n",
      "US$ 76 = R$281.96\n",
      "US$ 77 = R$285.67\n",
      "US$ 78 = R$289.38\n",
      "US$ 79 = R$293.09\n",
      "US$ 80 = R$296.80\n",
      "US$ 81 = R$300.51\n",
      "US$ 82 = R$304.22\n",
      "US$ 83 = R$307.93\n",
      "US$ 84 = R$311.64\n",
      "US$ 85 = R$315.35\n",
      "US$ 86 = R$319.06\n",
      "US$ 87 = R$322.77\n",
      "US$ 88 = R$326.48\n",
      "US$ 89 = R$330.19\n",
      "US$ 90 = R$333.90\n",
      "US$ 91 = R$337.61\n",
      "US$ 92 = R$341.32\n",
      "US$ 93 = R$345.03\n",
      "US$ 94 = R$348.74\n",
      "US$ 95 = R$352.45\n",
      "US$ 96 = R$356.16\n",
      "US$ 97 = R$359.87\n",
      "US$ 98 = R$363.58\n",
      "US$ 99 = R$367.29\n",
      "US$ 100 = R$371.00\n"
     ]
    }
   ],
   "source": [
    "def ex_7():\n",
    "    dolar = float(input(\"Informe a quantidade de dólar para conversão: US$\"))\n",
    "cotacao = float(input (\"Informe o valor da cotação do dólar:R$ \"))\n",
    "real = 0\n",
    "dolar = []\n",
    "for dolar in range (1, 101):\n",
    "    real = dolar*cotacao\n",
    "    tupla = (dolar, real)\n",
    "    print (\"US$ %.2d = R$%.2f\" % (dolar, real))"
   ]
  },
  {
   "cell_type": "code",
   "execution_count": 25,
   "metadata": {},
   "outputs": [
    {
     "name": "stdout",
     "output_type": "stream",
     "text": [
      "Informe o valor da cotação do dólar:R$ 3.71\n",
      "R$ 01 = US$3.71\n",
      "R$ 02 = US$7.42\n",
      "R$ 03 = US$11.13\n",
      "R$ 04 = US$14.84\n",
      "R$ 05 = US$18.55\n",
      "R$ 06 = US$22.26\n",
      "R$ 07 = US$25.97\n",
      "R$ 08 = US$29.68\n",
      "R$ 09 = US$33.39\n",
      "R$ 10 = US$37.10\n",
      "R$ 11 = US$40.81\n",
      "R$ 12 = US$44.52\n",
      "R$ 13 = US$48.23\n",
      "R$ 14 = US$51.94\n",
      "R$ 15 = US$55.65\n",
      "R$ 16 = US$59.36\n",
      "R$ 17 = US$63.07\n",
      "R$ 18 = US$66.78\n",
      "R$ 19 = US$70.49\n",
      "R$ 20 = US$74.20\n",
      "R$ 21 = US$77.91\n",
      "R$ 22 = US$81.62\n",
      "R$ 23 = US$85.33\n",
      "R$ 24 = US$89.04\n",
      "R$ 25 = US$92.75\n",
      "R$ 26 = US$96.46\n",
      "R$ 27 = US$100.17\n",
      "R$ 28 = US$103.88\n",
      "R$ 29 = US$107.59\n",
      "R$ 30 = US$111.30\n",
      "R$ 31 = US$115.01\n",
      "R$ 32 = US$118.72\n",
      "R$ 33 = US$122.43\n",
      "R$ 34 = US$126.14\n",
      "R$ 35 = US$129.85\n",
      "R$ 36 = US$133.56\n",
      "R$ 37 = US$137.27\n",
      "R$ 38 = US$140.98\n",
      "R$ 39 = US$144.69\n",
      "R$ 40 = US$148.40\n",
      "R$ 41 = US$152.11\n",
      "R$ 42 = US$155.82\n",
      "R$ 43 = US$159.53\n",
      "R$ 44 = US$163.24\n",
      "R$ 45 = US$166.95\n",
      "R$ 46 = US$170.66\n",
      "R$ 47 = US$174.37\n",
      "R$ 48 = US$178.08\n",
      "R$ 49 = US$181.79\n",
      "R$ 50 = US$185.50\n",
      "R$ 51 = US$189.21\n",
      "R$ 52 = US$192.92\n",
      "R$ 53 = US$196.63\n",
      "R$ 54 = US$200.34\n",
      "R$ 55 = US$204.05\n",
      "R$ 56 = US$207.76\n",
      "R$ 57 = US$211.47\n",
      "R$ 58 = US$215.18\n",
      "R$ 59 = US$218.89\n",
      "R$ 60 = US$222.60\n",
      "R$ 61 = US$226.31\n",
      "R$ 62 = US$230.02\n",
      "R$ 63 = US$233.73\n",
      "R$ 64 = US$237.44\n",
      "R$ 65 = US$241.15\n",
      "R$ 66 = US$244.86\n",
      "R$ 67 = US$248.57\n",
      "R$ 68 = US$252.28\n",
      "R$ 69 = US$255.99\n",
      "R$ 70 = US$259.70\n",
      "R$ 71 = US$263.41\n",
      "R$ 72 = US$267.12\n",
      "R$ 73 = US$270.83\n",
      "R$ 74 = US$274.54\n",
      "R$ 75 = US$278.25\n",
      "R$ 76 = US$281.96\n",
      "R$ 77 = US$285.67\n",
      "R$ 78 = US$289.38\n",
      "R$ 79 = US$293.09\n",
      "R$ 80 = US$296.80\n",
      "R$ 81 = US$300.51\n",
      "R$ 82 = US$304.22\n",
      "R$ 83 = US$307.93\n",
      "R$ 84 = US$311.64\n",
      "R$ 85 = US$315.35\n",
      "R$ 86 = US$319.06\n",
      "R$ 87 = US$322.77\n",
      "R$ 88 = US$326.48\n",
      "R$ 89 = US$330.19\n",
      "R$ 90 = US$333.90\n",
      "R$ 91 = US$337.61\n",
      "R$ 92 = US$341.32\n",
      "R$ 93 = US$345.03\n",
      "R$ 94 = US$348.74\n",
      "R$ 95 = US$352.45\n",
      "R$ 96 = US$356.16\n",
      "R$ 97 = US$359.87\n",
      "R$ 98 = US$363.58\n",
      "R$ 99 = US$367.29\n",
      "R$ 100 = US$371.00\n"
     ]
    }
   ],
   "source": [
    "def ex_7(num):\n",
    "    num = 3.71\n",
    "    dolar = float(input(\"Informe a quantidade de dólar para conversão: US$\"))\n",
    "cotacao = float(input (\"Informe o valor da cotação do dólar:R$ \"))\n",
    "real = 0\n",
    "dolar = []\n",
    "for dolar in range (1, 101):\n",
    "    real = dolar*cotacao\n",
    "    tupla = (dolar, real)\n",
    "    print (\"R$ %.2d = US$%.2f\" % (dolar, real))"
   ]
  }
 ],
 "metadata": {
  "kernelspec": {
   "display_name": "Python 3",
   "language": "python",
   "name": "python3"
  },
  "language_info": {
   "codemirror_mode": {
    "name": "ipython",
    "version": 3
   },
   "file_extension": ".py",
   "mimetype": "text/x-python",
   "name": "python",
   "nbconvert_exporter": "python",
   "pygments_lexer": "ipython3",
   "version": "3.7.1"
  }
 },
 "nbformat": 4,
 "nbformat_minor": 2
}
