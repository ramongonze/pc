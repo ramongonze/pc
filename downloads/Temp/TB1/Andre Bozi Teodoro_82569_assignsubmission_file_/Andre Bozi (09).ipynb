{
 "cells": [
  {
   "cell_type": "markdown",
   "metadata": {},
   "source": [
    "# Andre Bozi 2018015901\n"
   ]
  },
  {
   "cell_type": "markdown",
   "metadata": {},
   "source": [
    "# Exercicio 1"
   ]
  },
  {
   "cell_type": "code",
   "execution_count": 2,
   "metadata": {},
   "outputs": [
    {
     "name": "stdout",
     "output_type": "stream",
     "text": [
      "Valor de n:4\n",
      "[(0, 0), (1, 1), (2, 4), (3, 9), (4, 16)]\n"
     ]
    }
   ],
   "source": [
    "n= int(input(\"Valor de n:\"))\n",
    "lista= []\n",
    "for elemento in range (0,n+1):\n",
    "    tupla = (elemento,(elemento)**2)\n",
    "    lista.append(tupla)\n",
    "print (lista)"
   ]
  },
  {
   "cell_type": "markdown",
   "metadata": {},
   "source": [
    "# Exercicio 2"
   ]
  },
  {
   "cell_type": "code",
   "execution_count": 3,
   "metadata": {},
   "outputs": [
    {
     "name": "stdout",
     "output_type": "stream",
     "text": [
      "Valor de n:4\n",
      "[(0, 0, 0), (1, 1, 1), (2, 4, 8), (3, 9, 27), (4, 16, 64)]\n"
     ]
    }
   ],
   "source": [
    "n= int(input(\"Valor de n:\"))\n",
    "lista= []\n",
    "for elemento in range (0,n+1):\n",
    "    tupla = (elemento,(elemento)**2,(elemento)**3)\n",
    "    lista.append(tupla)\n",
    "print (lista)"
   ]
  },
  {
   "cell_type": "markdown",
   "metadata": {},
   "source": [
    "# Exercicio 3"
   ]
  },
  {
   "cell_type": "code",
   "execution_count": 5,
   "metadata": {},
   "outputs": [
    {
     "name": "stdout",
     "output_type": "stream",
     "text": [
      "(1, 2, 3, 4, 5)\n",
      "(6, 7, 8, 9, 10)\n"
     ]
    }
   ],
   "source": [
    "lista = (1, 2, 3, 4, 5, 6, 7, 8, 9, 10)\n",
    "lista1 = lista[0:5]\n",
    "lista2 = lista[5:10]\n",
    "print(lista1)\n",
    "print(lista2)\n"
   ]
  },
  {
   "cell_type": "markdown",
   "metadata": {},
   "source": [
    "# Exercicio 4\n"
   ]
  },
  {
   "cell_type": "code",
   "execution_count": 6,
   "metadata": {},
   "outputs": [
    {
     "name": "stdout",
     "output_type": "stream",
     "text": [
      "(2, 70, 94, 8) (33, 41, 55, 7)\n"
     ]
    }
   ],
   "source": [
    "lista = (2, 33, 41, 70, 94, 55, 7, 8)\n",
    "pares = []\n",
    "impares = []\n",
    "for p in lista:\n",
    "    if p % 2 ==0:\n",
    "        pares.append(p)\n",
    "    else:\n",
    "        impares.append(p)\n",
    "p = tuple(pares)\n",
    "i = tuple(impares)\n",
    "print(p,i)"
   ]
  },
  {
   "cell_type": "code",
   "execution_count": null,
   "metadata": {},
   "outputs": [],
   "source": []
  }
 ],
 "metadata": {
  "kernelspec": {
   "display_name": "Python 3",
   "language": "python",
   "name": "python3"
  },
  "language_info": {
   "codemirror_mode": {
    "name": "ipython",
    "version": 3
   },
   "file_extension": ".py",
   "mimetype": "text/x-python",
   "name": "python",
   "nbconvert_exporter": "python",
   "pygments_lexer": "ipython3",
   "version": "3.7.1"
  }
 },
 "nbformat": 4,
 "nbformat_minor": 2
}
