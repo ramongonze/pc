{
 "cells": [
  {
   "cell_type": "code",
   "execution_count": null,
   "metadata": {},
   "outputs": [],
   "source": []
  },
  {
   "cell_type": "code",
   "execution_count": 11,
   "metadata": {},
   "outputs": [
    {
     "name": "stdout",
     "output_type": "stream",
     "text": [
      "[(0, 0), (1, 1), (2, 4), (3, 9), (4, 16)]\n"
     ]
    }
   ],
   "source": [
    "#atividade 1\n",
    "def exercicio_1(n):\n",
    "    lista=[]\n",
    "    for i in range(0,n):\n",
    "        lista += [(i,i*i)]\n",
    "    return lista\n",
    "print(exercicio_1(5))"
   ]
  },
  {
   "cell_type": "code",
   "execution_count": 36,
   "metadata": {},
   "outputs": [
    {
     "name": "stdout",
     "output_type": "stream",
     "text": [
      "[(0, 0, 0), (1, 1, 1), (2, 4, 8), (3, 9, 27), (4, 16, 64)]\n"
     ]
    }
   ],
   "source": [
    "#atividade2\n",
    "def exercicio_2(n):\n",
    "    lista=[]\n",
    "    for i in range(0,n):\n",
    "        lista += [(i,i*i,i*i*i)]\n",
    "    return lista\n",
    "print(exercicio_1(5))"
   ]
  },
  {
   "cell_type": "code",
   "execution_count": 57,
   "metadata": {
    "scrolled": true
   },
   "outputs": [
    {
     "name": "stdout",
     "output_type": "stream",
     "text": [
      "(1, 2, 3, 4, 5)\n",
      "(6, 7, 8, 9, 10)\n"
     ]
    }
   ],
   "source": [
    "#atividade3\n",
    "def exercicio_3():\n",
    "    tupla=(1,2,3,4,5,6,7,8,9,10)\n",
    "    return (str (tupla[0:len(tupla)//2])+ str ('\\n') + str(tupla[len(tupla)//2:len(tupla)]))\n",
    "saida=exercicio_3()\n",
    "print (saida)"
   ]
  },
  {
   "cell_type": "code",
   "execution_count": 55,
   "metadata": {},
   "outputs": [
    {
     "name": "stdout",
     "output_type": "stream",
     "text": [
      "[2, 4, 8, 12, 178] [1, 3, 5, 9, 15, 23, 35, 47, 115, 125, 215, 1111]\n"
     ]
    }
   ],
   "source": [
    "#atividade 4\n",
    "def exercicio_4(t):\n",
    "    ordenar= sorted(t)\n",
    "    t1 = []\n",
    "    t2 = []\n",
    "    for i in ordenar:\n",
    "        if i % 2 == 0:\n",
    "            t1.append(i)\n",
    "        else:\n",
    "            t2.append(i)\n",
    "    i = tuple(t1)\n",
    "    k = tuple(t2)\n",
    "    return t1,t2\n",
    "t1, t2= exercicio_4((1,2,3,4,5,9,8,12,15,1111,47,23,35,115,178,125,215))\n",
    "print (t1,t2)"
   ]
  },
  {
   "cell_type": "code",
   "execution_count": 52,
   "metadata": {},
   "outputs": [
    {
     "data": {
      "text/plain": [
       "[10, 5, 2, 78, 45]"
      ]
     },
     "execution_count": 52,
     "metadata": {},
     "output_type": "execute_result"
    }
   ],
   "source": [
    "#atividade 5.1\n",
    "def exercicio_5_1(l):\n",
    "    tupla = tuple(l) \n",
    "    return l\n",
    "exercicio_5_1([10,5,2,78,45])\n"
   ]
  },
  {
   "cell_type": "code",
   "execution_count": 54,
   "metadata": {},
   "outputs": [
    {
     "data": {
      "text/plain": [
       "[10, 5, 2, 78, 45]"
      ]
     },
     "execution_count": 54,
     "metadata": {},
     "output_type": "execute_result"
    }
   ],
   "source": [
    "#atividade 5.2\n",
    "def exercicio_5_2(l):\n",
    "    tupla = tuple(l) \n",
    "    return l\n",
    "exercicio_5_1([10,5,2,78,45])\n"
   ]
  },
  {
   "cell_type": "code",
   "execution_count": 57,
   "metadata": {},
   "outputs": [
    {
     "data": {
      "text/plain": [
       "[((10, 20, 100), (40, 50, 100), (70, 80, 100))]"
      ]
     },
     "execution_count": 57,
     "metadata": {},
     "output_type": "execute_result"
    }
   ],
   "source": [
    "def exercicio_6(l, n):\n",
    "    lista = [] \n",
    "    x,y,w = l \n",
    "    x1 = list(x)\n",
    "    x1[2] = n\n",
    "    x2 = tuple(x1)\n",
    "    y1 = list(y)\n",
    "    y1[2] = n\n",
    "    y2 = tuple(y1)\n",
    "    w1 = list(w)\n",
    "    w1[2] = n\n",
    "    w2 = tuple(w1)\n",
    "    tupla = (x2,y2,w2)\n",
    "    lista.append(tupla)\n",
    "    return lista\n",
    "exercicio_6([(10,20,30), (40,50,60), (70,80,90)], 100)\n"
   ]
  },
  {
   "cell_type": "code",
   "execution_count": 84,
   "metadata": {},
   "outputs": [
    {
     "data": {
      "text/plain": [
       "(1, 3.98)"
      ]
     },
     "execution_count": 84,
     "metadata": {},
     "output_type": "execute_result"
    }
   ],
   "source": [
    "def exercicio_7(cotaçao):\n",
    "    dolar = 0\n",
    "    real = 0\n",
    "    for dolar in range (1, 101):\n",
    "        real = cotaçao*dolar \n",
    "        tupla = (dolar, real) \n",
    "        return tupla\n",
    "exercicio_7(3.98)"
   ]
  },
  {
   "cell_type": "code",
   "execution_count": 106,
   "metadata": {},
   "outputs": [
    {
     "data": {
      "text/plain": [
       "((1, 3.98), (3.98, 1))"
      ]
     },
     "execution_count": 106,
     "metadata": {},
     "output_type": "execute_result"
    }
   ],
   "source": [
    "def exercicio_7(cotaçao):\n",
    "    dolar = 0\n",
    "    real = 0\n",
    "    for dolar in range (1, 101):\n",
    "        real = cotaçao*dolar\n",
    "        tupla = (dolar, real)\n",
    "        tupla2 = (real,dolar)\n",
    "        return tupla, tupla2 \n",
    "exercicio_7(3.98)"
   ]
  },
  {
   "cell_type": "code",
   "execution_count": null,
   "metadata": {},
   "outputs": [],
   "source": []
  }
 ],
 "metadata": {
  "kernelspec": {
   "display_name": "Python 3",
   "language": "python",
   "name": "python3"
  },
  "language_info": {
   "codemirror_mode": {
    "name": "ipython",
    "version": 3
   },
   "file_extension": ".py",
   "mimetype": "text/x-python",
   "name": "python",
   "nbconvert_exporter": "python",
   "pygments_lexer": "ipython3",
   "version": "3.7.1"
  }
 },
 "nbformat": 4,
 "nbformat_minor": 2
}
