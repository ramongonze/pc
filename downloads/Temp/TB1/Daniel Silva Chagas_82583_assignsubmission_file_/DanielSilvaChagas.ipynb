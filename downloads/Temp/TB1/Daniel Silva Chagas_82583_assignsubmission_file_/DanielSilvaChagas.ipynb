{
 "cells": [
  {
   "cell_type": "code",
   "execution_count": null,
   "metadata": {},
   "outputs": [],
   "source": [
    "def exercicio_1(n):\n",
    "    quadrados = []\n",
    "    i = 1\n",
    "    while i <= n:\n",
    "        quadrados.append((i, i*i))\n",
    "        i += 1\n",
    "    return quadrados\n",
    "#exercicio_1(3)"
   ]
  },
  {
   "cell_type": "code",
   "execution_count": null,
   "metadata": {},
   "outputs": [],
   "source": [
    "def exercicio_2(n):\n",
    "    quadrados = []\n",
    "    i = 1\n",
    "    while i <= n:\n",
    "        quadrados.append((i, i*i, i*i*i))\n",
    "        i += 1\n",
    "    return quadrados\n",
    "#exercicio_2(3)"
   ]
  },
  {
   "cell_type": "code",
   "execution_count": 48,
   "metadata": {},
   "outputs": [],
   "source": [
    "def exercicio_3(t):\n",
    "    tupla = (1,2,3,4,5,6,7,8,9,10)\n",
    "    t = \"\"\n",
    "    for i in range(len(tupla)):\n",
    "        if i == len(tupla)/2-1:\n",
    "            t = t + str(tupla[i]) + \"\\n\"\n",
    "        else:\n",
    "            t = t + str(tupla[i]) + ' '\n",
    "    return t"
   ]
  },
  {
   "cell_type": "code",
   "execution_count": null,
   "metadata": {},
   "outputs": [],
   "source": [
    "def exercicio_4(t):\n",
    "    t1=()\n",
    "    t2=()\n",
    "    for e in t:\n",
    "        if e% 2 == 0:\n",
    "            t1 += e,\n",
    "            t1 = tuple(sorted(t1))\n",
    "        else:\n",
    "            t2 += e,\n",
    "            t2 = tuple(sorted(t2))\n",
    "    return t1, t2\n",
    "#exercicio_4((7,6,5,3,2))"
   ]
  },
  {
   "cell_type": "code",
   "execution_count": null,
   "metadata": {},
   "outputs": [],
   "source": [
    "def exercicio_5_1(l):\n",
    "    tupla = tuple(l)\n",
    "    return tupla\n",
    "#exercicio_5_1([1, 2, 3, 4])\n",
    "\n",
    "def exercicio_5_2(l):\n",
    "    tupla = ()\n",
    "    for elemento in l:\n",
    "        t += elemento,\n",
    "    return tupla\n",
    "#exercicio_5_1([1, 2, 3, 4])"
   ]
  },
  {
   "cell_type": "code",
   "execution_count": 20,
   "metadata": {},
   "outputs": [
    {
     "data": {
      "text/plain": [
       "[(70, 80, 100)]"
      ]
     },
     "execution_count": 20,
     "metadata": {},
     "output_type": "execute_result"
    }
   ],
   "source": [
    "def exercicio_6(l, n):\n",
    "    for i in l:\n",
    "        i = i[:-1] + (100,)\n",
    "        l = [i, ]\n",
    "    return l\n",
    "exercicio_6([(10,20,30), (40,50,60), (70,80,90)], 100)"
   ]
  },
  {
   "cell_type": "code",
   "execution_count": 35,
   "metadata": {},
   "outputs": [
    {
     "data": {
      "text/plain": [
       "'US$ 1.00 R$ 3.97    R$ 1.00 US$ 0.25\\n---------'"
      ]
     },
     "execution_count": 35,
     "metadata": {},
     "output_type": "execute_result"
    }
   ],
   "source": [
    "def exercicio_7(cotacao):\n",
    "    #for i in range(1, 101):\n",
    "    i = 100\n",
    "    while i != 0: \n",
    "        t1 = (i, cotacao*i)\n",
    "        t2 = (i, i/cotacao)\n",
    "        lista = t1, t2\n",
    "        #tabela = str(\"US$ %.2f  = R$ %.2f    R$ %.2f = US$ %.2f\" % (i, cotacao*i, i, i/cotacao))\n",
    "        #print(\"US$ %.2f  = R$ %.2f      R$ %.2f = US$ %.2f\" % (i, cotacao*i, i, i/cotacao))\n",
    "        #print(\"---------------------    ---------------------\")\n",
    "        #string = lista\n",
    "        string = str(\"US$ %.2f R$ %.2f    R$ %.2f US$ %.2f\"  '\\n' \"---------\" % (i, cotacao*i, i, i/cotacao))\n",
    "        i -= 1\n",
    "    return string\n",
    "exercicio_7(3.97)"
   ]
  }
 ],
 "metadata": {
  "kernelspec": {
   "display_name": "Python 3",
   "language": "python",
   "name": "python3"
  },
  "language_info": {
   "codemirror_mode": {
    "name": "ipython",
    "version": 3
   },
   "file_extension": ".py",
   "mimetype": "text/x-python",
   "name": "python",
   "nbconvert_exporter": "python",
   "pygments_lexer": "ipython3",
   "version": "3.7.1"
  }
 },
 "nbformat": 4,
 "nbformat_minor": 2
}
