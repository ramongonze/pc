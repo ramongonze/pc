{
 "cells": [
  {
   "cell_type": "markdown",
   "metadata": {},
   "source": [
    "# Questão 1"
   ]
  },
  {
   "cell_type": "code",
   "execution_count": 2,
   "metadata": {},
   "outputs": [
    {
     "name": "stdout",
     "output_type": "stream",
     "text": [
      "Insira um valor para x: 10\n",
      "[(0, 0), (1, 1), (2, 4), (3, 9), (4, 16), (5, 25), (6, 36), (7, 49), (8, 64), (9, 81), (10, 100)]\n"
     ]
    }
   ],
   "source": [
    "x = int(input(\"Insira um valor para x: \"))\n",
    "list = []\n",
    "for elemento in range (0, x + 1):\n",
    "    tupla = (elemento, (elemento)**2)\n",
    "    list.append(tupla)\n",
    "print(list)"
   ]
  },
  {
   "cell_type": "markdown",
   "metadata": {},
   "source": [
    "# Questão 2"
   ]
  },
  {
   "cell_type": "code",
   "execution_count": 3,
   "metadata": {},
   "outputs": [
    {
     "name": "stdout",
     "output_type": "stream",
     "text": [
      "Insira um valor para x: 10\n",
      "[(0, 0, 0), (1, 1, 1), (2, 4, 8), (3, 9, 27), (4, 16, 64), (5, 25, 125), (6, 36, 216), (7, 49, 343), (8, 64, 512), (9, 81, 729), (10, 100, 1000)]\n"
     ]
    }
   ],
   "source": [
    "x = int(input(\"Insira um valor para x: \"))\n",
    "list = []\n",
    "for elemento in range (0, x + 1):\n",
    "    tupla = (elemento, (elemento)**2, (elemento)**3)\n",
    "    list.append(tupla)\n",
    "print(list)"
   ]
  },
  {
   "cell_type": "markdown",
   "metadata": {},
   "source": [
    "# Questão 3"
   ]
  },
  {
   "cell_type": "code",
   "execution_count": 4,
   "metadata": {},
   "outputs": [
    {
     "name": "stdout",
     "output_type": "stream",
     "text": [
      "(1, 2, 3, 4, 5)\n",
      "(6, 7, 8, 9, 10)\n"
     ]
    }
   ],
   "source": [
    "dados = (1,2,3,4,5,6,7,8,9,10)\n",
    "list1 = dados[0:5]\n",
    "list2 = dados[5:10]\n",
    "print(list1)\n",
    "print(list2)"
   ]
  },
  {
   "cell_type": "markdown",
   "metadata": {},
   "source": [
    "# Questão 4"
   ]
  },
  {
   "cell_type": "code",
   "execution_count": 5,
   "metadata": {},
   "outputs": [
    {
     "name": "stdout",
     "output_type": "stream",
     "text": [
      "(2, 4, 6, 8, 10, 12, 14) (1, 3, 5, 7, 9, 11, 13, 15)\n"
     ]
    }
   ],
   "source": [
    "dados = (1,2,3,4,5,6,7,8,9,10,11,12,13,14,15)\n",
    "pares = []\n",
    "ímpares = []\n",
    "for i in dados:\n",
    "    if i%2 == 0:\n",
    "        pares.append(i)\n",
    "    else:\n",
    "        ímpares.append(i)\n",
    "i = tuple(pares)\n",
    "j = tuple(ímpares)\n",
    "print(i,j)"
   ]
  },
  {
   "cell_type": "markdown",
   "metadata": {},
   "source": [
    "# Questão 5.1"
   ]
  },
  {
   "cell_type": "code",
   "execution_count": 6,
   "metadata": {},
   "outputs": [
    {
     "name": "stdout",
     "output_type": "stream",
     "text": [
      "(2, 3, 5, 7, 9, 11)\n"
     ]
    }
   ],
   "source": [
    "list = [2,3,5,7,9,11]\n",
    "dados = tuple(list)\n",
    "print(dados)"
   ]
  },
  {
   "cell_type": "markdown",
   "metadata": {},
   "source": [
    "# Questão 5.2"
   ]
  },
  {
   "cell_type": "code",
   "execution_count": 7,
   "metadata": {},
   "outputs": [
    {
     "name": "stdout",
     "output_type": "stream",
     "text": [
      "(2, 3, 5, 7, 9, 11)\n"
     ]
    }
   ],
   "source": [
    "list = [2,3,5,7,9,11]\n",
    "a, b, c, d, e, f = list\n",
    "dados1 = (a, b, c, d, e, f)\n",
    "print(dados1)"
   ]
  },
  {
   "cell_type": "markdown",
   "metadata": {},
   "source": [
    "# Questão 6"
   ]
  },
  {
   "cell_type": "code",
   "execution_count": 1,
   "metadata": {},
   "outputs": [
    {
     "name": "stdout",
     "output_type": "stream",
     "text": [
      "[((10, 20, 100), (30, 40, 100), (180, 201, 100))]\n"
     ]
    }
   ],
   "source": [
    "lista = [(10,20,30), (30,40,50), (180,201,218)]\n",
    "dados = []\n",
    "x,y,z = lista\n",
    "x1 = list(x)\n",
    "x1[2] = 100\n",
    "x2 = tuple(x1)\n",
    "y1 = list(y)\n",
    "y1[2] = 100\n",
    "y2 = tuple(y1)\n",
    "z1 = list(z)\n",
    "z1[2] = 100\n",
    "z2 = tuple(z1)\n",
    "tupla = (x2, y2, z2)\n",
    "dados.append(tupla)\n",
    "print(dados)"
   ]
  },
  {
   "cell_type": "markdown",
   "metadata": {},
   "source": [
    "# Questão 7.1"
   ]
  },
  {
   "cell_type": "code",
   "execution_count": 2,
   "metadata": {},
   "outputs": [
    {
     "name": "stdout",
     "output_type": "stream",
     "text": [
      "Insira o valor da cotação do dólar: 3.24\n",
      "US$ 01 = R$3.24\n",
      "US$ 02 = R$6.48\n",
      "US$ 03 = R$9.72\n",
      "US$ 04 = R$12.96\n",
      "US$ 05 = R$16.20\n",
      "US$ 06 = R$19.44\n",
      "US$ 07 = R$22.68\n",
      "US$ 08 = R$25.92\n",
      "US$ 09 = R$29.16\n",
      "US$ 10 = R$32.40\n",
      "US$ 11 = R$35.64\n",
      "US$ 12 = R$38.88\n",
      "US$ 13 = R$42.12\n",
      "US$ 14 = R$45.36\n",
      "US$ 15 = R$48.60\n",
      "US$ 16 = R$51.84\n",
      "US$ 17 = R$55.08\n",
      "US$ 18 = R$58.32\n",
      "US$ 19 = R$61.56\n",
      "US$ 20 = R$64.80\n",
      "US$ 21 = R$68.04\n",
      "US$ 22 = R$71.28\n",
      "US$ 23 = R$74.52\n",
      "US$ 24 = R$77.76\n",
      "US$ 25 = R$81.00\n",
      "US$ 26 = R$84.24\n",
      "US$ 27 = R$87.48\n",
      "US$ 28 = R$90.72\n",
      "US$ 29 = R$93.96\n",
      "US$ 30 = R$97.20\n",
      "US$ 31 = R$100.44\n",
      "US$ 32 = R$103.68\n",
      "US$ 33 = R$106.92\n",
      "US$ 34 = R$110.16\n",
      "US$ 35 = R$113.40\n",
      "US$ 36 = R$116.64\n",
      "US$ 37 = R$119.88\n",
      "US$ 38 = R$123.12\n",
      "US$ 39 = R$126.36\n",
      "US$ 40 = R$129.60\n",
      "US$ 41 = R$132.84\n",
      "US$ 42 = R$136.08\n",
      "US$ 43 = R$139.32\n",
      "US$ 44 = R$142.56\n",
      "US$ 45 = R$145.80\n",
      "US$ 46 = R$149.04\n",
      "US$ 47 = R$152.28\n",
      "US$ 48 = R$155.52\n",
      "US$ 49 = R$158.76\n",
      "US$ 50 = R$162.00\n",
      "US$ 51 = R$165.24\n",
      "US$ 52 = R$168.48\n",
      "US$ 53 = R$171.72\n",
      "US$ 54 = R$174.96\n",
      "US$ 55 = R$178.20\n",
      "US$ 56 = R$181.44\n",
      "US$ 57 = R$184.68\n",
      "US$ 58 = R$187.92\n",
      "US$ 59 = R$191.16\n",
      "US$ 60 = R$194.40\n",
      "US$ 61 = R$197.64\n",
      "US$ 62 = R$200.88\n",
      "US$ 63 = R$204.12\n",
      "US$ 64 = R$207.36\n",
      "US$ 65 = R$210.60\n",
      "US$ 66 = R$213.84\n",
      "US$ 67 = R$217.08\n",
      "US$ 68 = R$220.32\n",
      "US$ 69 = R$223.56\n",
      "US$ 70 = R$226.80\n",
      "US$ 71 = R$230.04\n",
      "US$ 72 = R$233.28\n",
      "US$ 73 = R$236.52\n",
      "US$ 74 = R$239.76\n",
      "US$ 75 = R$243.00\n",
      "US$ 76 = R$246.24\n",
      "US$ 77 = R$249.48\n",
      "US$ 78 = R$252.72\n",
      "US$ 79 = R$255.96\n",
      "US$ 80 = R$259.20\n",
      "US$ 81 = R$262.44\n",
      "US$ 82 = R$265.68\n",
      "US$ 83 = R$268.92\n",
      "US$ 84 = R$272.16\n",
      "US$ 85 = R$275.40\n",
      "US$ 86 = R$278.64\n",
      "US$ 87 = R$281.88\n",
      "US$ 88 = R$285.12\n",
      "US$ 89 = R$288.36\n",
      "US$ 90 = R$291.60\n",
      "US$ 91 = R$294.84\n",
      "US$ 92 = R$298.08\n",
      "US$ 93 = R$301.32\n",
      "US$ 94 = R$304.56\n",
      "US$ 95 = R$307.80\n",
      "US$ 96 = R$311.04\n",
      "US$ 97 = R$314.28\n",
      "US$ 98 = R$317.52\n",
      "US$ 99 = R$320.76\n",
      "US$ 100 = R$324.00\n"
     ]
    }
   ],
   "source": [
    "cotacao = float(input(\"Insira o valor da cotação do dólar: \"))\n",
    "dolar = 0\n",
    "real = 0\n",
    "for dolar in range (1, 101):\n",
    "    real = cotacao*dolar\n",
    "    tupla = (dolar, real)\n",
    "    print (\"US$ %.2d = R$%.2f\" % (dolar, real))"
   ]
  },
  {
   "cell_type": "markdown",
   "metadata": {},
   "source": [
    "# Questão 7.2"
   ]
  },
  {
   "cell_type": "code",
   "execution_count": 3,
   "metadata": {},
   "outputs": [
    {
     "name": "stdout",
     "output_type": "stream",
     "text": [
      "Insira o valor da cotação do dólar: 3.24\n",
      "R$ 01 = US$0.31\n",
      "R$ 02 = US$0.62\n",
      "R$ 03 = US$0.93\n",
      "R$ 04 = US$1.23\n",
      "R$ 05 = US$1.54\n",
      "R$ 06 = US$1.85\n",
      "R$ 07 = US$2.16\n",
      "R$ 08 = US$2.47\n",
      "R$ 09 = US$2.78\n",
      "R$ 10 = US$3.09\n",
      "R$ 11 = US$3.40\n",
      "R$ 12 = US$3.70\n",
      "R$ 13 = US$4.01\n",
      "R$ 14 = US$4.32\n",
      "R$ 15 = US$4.63\n",
      "R$ 16 = US$4.94\n",
      "R$ 17 = US$5.25\n",
      "R$ 18 = US$5.56\n",
      "R$ 19 = US$5.86\n",
      "R$ 20 = US$6.17\n",
      "R$ 21 = US$6.48\n",
      "R$ 22 = US$6.79\n",
      "R$ 23 = US$7.10\n",
      "R$ 24 = US$7.41\n",
      "R$ 25 = US$7.72\n",
      "R$ 26 = US$8.02\n",
      "R$ 27 = US$8.33\n",
      "R$ 28 = US$8.64\n",
      "R$ 29 = US$8.95\n",
      "R$ 30 = US$9.26\n",
      "R$ 31 = US$9.57\n",
      "R$ 32 = US$9.88\n",
      "R$ 33 = US$10.19\n",
      "R$ 34 = US$10.49\n",
      "R$ 35 = US$10.80\n",
      "R$ 36 = US$11.11\n",
      "R$ 37 = US$11.42\n",
      "R$ 38 = US$11.73\n",
      "R$ 39 = US$12.04\n",
      "R$ 40 = US$12.35\n",
      "R$ 41 = US$12.65\n",
      "R$ 42 = US$12.96\n",
      "R$ 43 = US$13.27\n",
      "R$ 44 = US$13.58\n",
      "R$ 45 = US$13.89\n",
      "R$ 46 = US$14.20\n",
      "R$ 47 = US$14.51\n",
      "R$ 48 = US$14.81\n",
      "R$ 49 = US$15.12\n",
      "R$ 50 = US$15.43\n",
      "R$ 51 = US$15.74\n",
      "R$ 52 = US$16.05\n",
      "R$ 53 = US$16.36\n",
      "R$ 54 = US$16.67\n",
      "R$ 55 = US$16.98\n",
      "R$ 56 = US$17.28\n",
      "R$ 57 = US$17.59\n",
      "R$ 58 = US$17.90\n",
      "R$ 59 = US$18.21\n",
      "R$ 60 = US$18.52\n",
      "R$ 61 = US$18.83\n",
      "R$ 62 = US$19.14\n",
      "R$ 63 = US$19.44\n",
      "R$ 64 = US$19.75\n",
      "R$ 65 = US$20.06\n",
      "R$ 66 = US$20.37\n",
      "R$ 67 = US$20.68\n",
      "R$ 68 = US$20.99\n",
      "R$ 69 = US$21.30\n",
      "R$ 70 = US$21.60\n",
      "R$ 71 = US$21.91\n",
      "R$ 72 = US$22.22\n",
      "R$ 73 = US$22.53\n",
      "R$ 74 = US$22.84\n",
      "R$ 75 = US$23.15\n",
      "R$ 76 = US$23.46\n",
      "R$ 77 = US$23.77\n",
      "R$ 78 = US$24.07\n",
      "R$ 79 = US$24.38\n",
      "R$ 80 = US$24.69\n",
      "R$ 81 = US$25.00\n",
      "R$ 82 = US$25.31\n",
      "R$ 83 = US$25.62\n",
      "R$ 84 = US$25.93\n",
      "R$ 85 = US$26.23\n",
      "R$ 86 = US$26.54\n",
      "R$ 87 = US$26.85\n",
      "R$ 88 = US$27.16\n",
      "R$ 89 = US$27.47\n",
      "R$ 90 = US$27.78\n",
      "R$ 91 = US$28.09\n",
      "R$ 92 = US$28.40\n",
      "R$ 93 = US$28.70\n",
      "R$ 94 = US$29.01\n",
      "R$ 95 = US$29.32\n",
      "R$ 96 = US$29.63\n",
      "R$ 97 = US$29.94\n",
      "R$ 98 = US$30.25\n",
      "R$ 99 = US$30.56\n",
      "R$ 100 = US$30.86\n"
     ]
    }
   ],
   "source": [
    "cotacao = float(input(\"Insira o valor da cotação do dólar: \"))\n",
    "for real in range (1, 101):\n",
    "    dolar = real/cotacao\n",
    "    tupla = (real,dolar)\n",
    "    print (\"R$ %.2d = US$%.2f\" % (real, dolar))"
   ]
  }
 ],
 "metadata": {
  "kernelspec": {
   "display_name": "Python 3",
   "language": "python",
   "name": "python3"
  },
  "language_info": {
   "codemirror_mode": {
    "name": "ipython",
    "version": 3
   },
   "file_extension": ".py",
   "mimetype": "text/x-python",
   "name": "python",
   "nbconvert_exporter": "python",
   "pygments_lexer": "ipython3",
   "version": "3.6.1"
  }
 },
 "nbformat": 4,
 "nbformat_minor": 2
}
