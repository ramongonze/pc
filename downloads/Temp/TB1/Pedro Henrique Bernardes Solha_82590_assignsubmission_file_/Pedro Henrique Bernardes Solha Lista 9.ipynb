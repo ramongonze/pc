{
 "cells": [
  {
   "cell_type": "markdown",
   "metadata": {},
   "source": [
    "# Exercício 1"
   ]
  },
  {
   "cell_type": "code",
   "execution_count": 30,
   "metadata": {},
   "outputs": [
    {
     "name": "stdout",
     "output_type": "stream",
     "text": [
      "[(0, 0)]\n",
      "[(0, 0), (1, 1)]\n",
      "[(0, 0), (1, 1), (2, 4)]\n",
      "[(0, 0), (1, 1), (2, 4), (3, 9)]\n"
     ]
    }
   ],
   "source": [
    "def exercício_1(n):\n",
    "#\"\"\"Função que imprime um número n e seu quadrado em uma lista de tuplas\"\"\"\n",
    "    n = 3\n",
    "    l = []\n",
    "    for i in range(0,n+1):\n",
    "        t = (i,i**2) \n",
    "        l.append(t)\n",
    "        print(l)\n",
    "exercício_1(3)"
   ]
  },
  {
   "cell_type": "markdown",
   "metadata": {},
   "source": [
    "# Exercício 2"
   ]
  },
  {
   "cell_type": "code",
   "execution_count": 7,
   "metadata": {},
   "outputs": [
    {
     "name": "stdout",
     "output_type": "stream",
     "text": [
      "Digite um número:3\n",
      "[(0, 0, 0)]\n",
      "[(0, 0, 0), (1, 1, 1)]\n",
      "[(0, 0, 0), (1, 1, 1), (2, 4, 8)]\n",
      "[(0, 0, 0), (1, 1, 1), (2, 4, 8), (3, 9, 27)]\n"
     ]
    }
   ],
   "source": [
    "def exercício_2(n):\n",
    "#\"\"\"Função que imprime um número n, seu quadrado e seu cubo em uma lista de tuplas\"\"\"\n",
    "    n = 3\n",
    "    l = []\n",
    "    for i in range(0,n+1):\n",
    "        t = (i,i**2,i**3) \n",
    "        l.append(t)\n",
    "        print(l)\n",
    "exercício_2(3)"
   ]
  },
  {
   "cell_type": "markdown",
   "metadata": {},
   "source": [
    "# Exercício 3"
   ]
  },
  {
   "cell_type": "code",
   "execution_count": 9,
   "metadata": {},
   "outputs": [
    {
     "name": "stdout",
     "output_type": "stream",
     "text": [
      "(1, 2, 3, 4, 5)\n",
      "(6, 7, 8, 9, 10)\n"
     ]
    }
   ],
   "source": [
    "def exercício_3():\n",
    "#\"\"\"Função que imprime a tupla em duas metades, em linhas distintas\"\"\"\n",
    "    tupla = ( 1, 2, 3, 4, 5, 6, 7, 8, 9, 10)\n",
    "    print(tupla[:5])\n",
    "    print(tupla[5:10])\n",
    "    return\n",
    "exercício_3()"
   ]
  },
  {
   "cell_type": "markdown",
   "metadata": {},
   "source": [
    "# Exercícios 4"
   ]
  },
  {
   "cell_type": "code",
   "execution_count": 18,
   "metadata": {},
   "outputs": [
    {
     "name": "stdout",
     "output_type": "stream",
     "text": [
      "(27,)\n",
      "(27, 5)\n",
      "(40,)\n",
      "(27, 5, 1)\n",
      "(40, 8)\n",
      "(40, 8, 2)\n"
     ]
    },
    {
     "data": {
      "text/plain": [
       "(27, 5, 40, 1, 8, 2)"
      ]
     },
     "execution_count": 18,
     "metadata": {},
     "output_type": "execute_result"
    }
   ],
   "source": [
    "def exercício_4(t):\n",
    "#\"\"\"Função que imprime os valores pares e impares de uma tupla, separadamente\"\"\"\n",
    "    t = (27,5,40,1,8,2)\n",
    "    pares = []\n",
    "    impares = []\n",
    "    for i in t:\n",
    "        if i % 2 == 0:\n",
    "            pares.append(i)\n",
    "            print(tuple(pares))\n",
    "        elif i % 2 == 1:\n",
    "            impares.append(i)\n",
    "            print(tuple(impares))\n",
    "    return t\n",
    "exercício_4(1)"
   ]
  },
  {
   "cell_type": "markdown",
   "metadata": {
    "collapsed": true
   },
   "source": [
    "# Exercício 5"
   ]
  },
  {
   "cell_type": "code",
   "execution_count": 26,
   "metadata": {},
   "outputs": [],
   "source": [
    "def exercício_5_1(l):\n",
    "#\"\"\"Função que transforma uma lista em tupla, de uma maneira\"\"\"\n",
    "    l = [1, 45, 567, 81]\n",
    "    tupla = ()\n",
    "    for i in l:\n",
    "        tupla += i\n",
    "        print(tupla)\n",
    "    return l"
   ]
  },
  {
   "cell_type": "code",
   "execution_count": 28,
   "metadata": {},
   "outputs": [],
   "source": [
    "def exercício_5_2(l):\n",
    "#\"\"\"Função que transforma uma lista em tupla, de outra maneira\"\"\"\n",
    "    l = [1, 45, 567, 81]\n",
    "    tupla = tuple(l)\n",
    "    return l"
   ]
  },
  {
   "cell_type": "markdown",
   "metadata": {},
   "source": [
    "# Exercício 6"
   ]
  },
  {
   "cell_type": "code",
   "execution_count": 29,
   "metadata": {},
   "outputs": [],
   "source": [
    "def exercício_6(l, n):\n",
    "#\"\"\"Função que troca o último elemento de tuplas\"\"\"\n",
    "    n = int(input('Escreva um número n (por ex 100): '))\n",
    "    lista = [(10,20,40), (40,50,60), (70,80,90)]\n",
    "    lista2 = []\n",
    "    a,b,c = lista\n",
    "    a1 = list(a)\n",
    "    a1[2] = n\n",
    "    b1 = list(b)\n",
    "    b1[2] = n\n",
    "    c1 = list(c)\n",
    "    c1[2] = n\n",
    "    t = (a1,b1,c1)\n",
    "    print(t)\n",
    "    return l, n"
   ]
  },
  {
   "cell_type": "markdown",
   "metadata": {},
   "source": [
    "# Exercício 7"
   ]
  },
  {
   "cell_type": "code",
   "execution_count": null,
   "metadata": {},
   "outputs": [],
   "source": []
  }
 ],
 "metadata": {
  "kernelspec": {
   "display_name": "Python 3",
   "language": "python",
   "name": "python3"
  },
  "language_info": {
   "codemirror_mode": {
    "name": "ipython",
    "version": 3
   },
   "file_extension": ".py",
   "mimetype": "text/x-python",
   "name": "python",
   "nbconvert_exporter": "python",
   "pygments_lexer": "ipython3",
   "version": "3.7.1"
  }
 },
 "nbformat": 4,
 "nbformat_minor": 2
}
