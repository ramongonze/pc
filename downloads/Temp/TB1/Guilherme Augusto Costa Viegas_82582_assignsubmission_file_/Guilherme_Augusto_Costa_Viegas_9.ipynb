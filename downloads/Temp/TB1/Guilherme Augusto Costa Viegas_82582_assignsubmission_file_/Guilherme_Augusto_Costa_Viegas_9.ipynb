{
 "cells": [
  {
   "cell_type": "markdown",
   "metadata": {},
   "source": [
    "Exercício 1"
   ]
  },
  {
   "cell_type": "code",
   "execution_count": 166,
   "metadata": {},
   "outputs": [
    {
     "data": {
      "text/plain": [
       "((1, 1), (2, 4), (3, 9))"
      ]
     },
     "execution_count": 166,
     "metadata": {},
     "output_type": "execute_result"
    }
   ],
   "source": [
    "def exercicio_1(n):\n",
    "    tupla = ()\n",
    "    for i in range(1,n+1):\n",
    "        m = i,i**2\n",
    "        tupla += m,\n",
    "    return (tupla)\n",
    "exercicio_1(3)"
   ]
  },
  {
   "cell_type": "markdown",
   "metadata": {},
   "source": [
    "Exercício 2"
   ]
  },
  {
   "cell_type": "code",
   "execution_count": 167,
   "metadata": {},
   "outputs": [
    {
     "data": {
      "text/plain": [
       "((1, 1, 1), (2, 4, 8), (3, 9, 27))"
      ]
     },
     "execution_count": 167,
     "metadata": {},
     "output_type": "execute_result"
    }
   ],
   "source": [
    "def exercicio_1(n):\n",
    "    tupla = ()\n",
    "    for i in range(1,n+1):\n",
    "        m = i,i**2,i**3\n",
    "        tupla += m,\n",
    "    return (tupla)\n",
    "exercicio_1(3)"
   ]
  },
  {
   "cell_type": "markdown",
   "metadata": {
    "collapsed": true
   },
   "source": [
    "Exercício 3"
   ]
  },
  {
   "cell_type": "code",
   "execution_count": 92,
   "metadata": {},
   "outputs": [
    {
     "name": "stdout",
     "output_type": "stream",
     "text": [
      "(1, 2, 3, 4, 5) \n",
      " (6, 7, 8, 9, 10)\n"
     ]
    }
   ],
   "source": [
    "def exercicio_3():\n",
    "    tupla=(1,2,3,4,5,6,7,8,9,10) \n",
    "    x=()\n",
    "    y=()\n",
    "    for i in range (1,(len(tupla)+2)//2):\n",
    "        x += i,\n",
    "        string1 = (x)\n",
    "    for j in range ((len(tupla)+2)//2,len(tupla)+1):\n",
    "        y += j,\n",
    "        string2 = (y)  \n",
    "    return(\"%s \\n %s\" %(string1,string2))\n",
    "saida = exercicio_3()\n",
    "print(saida)  "
   ]
  },
  {
   "cell_type": "markdown",
   "metadata": {
    "collapsed": true
   },
   "source": [
    "Exercício 4"
   ]
  },
  {
   "cell_type": "code",
   "execution_count": 153,
   "metadata": {},
   "outputs": [
    {
     "name": "stdout",
     "output_type": "stream",
     "text": [
      "[2, 4]\n",
      "[1, 3, 5]\n"
     ]
    }
   ],
   "source": [
    "def exercicio_4(n): \n",
    "    t1 = [] \n",
    "    t2 = [] \n",
    "    for x in n: \n",
    "        if (x % 2 == 0): \n",
    "            t1.append(x) \n",
    "        else: \n",
    "            t2.append(x) \n",
    "    print(t1) \n",
    "    print(t2) \n",
    "\n",
    "n = [1, 2, 3, 4, 5] \n",
    "exercicio_4(n) "
   ]
  },
  {
   "cell_type": "markdown",
   "metadata": {},
   "source": [
    "Exercício 5"
   ]
  },
  {
   "cell_type": "code",
   "execution_count": 144,
   "metadata": {},
   "outputs": [
    {
     "data": {
      "text/plain": [
       "(1, 2, 3, 4)"
      ]
     },
     "execution_count": 144,
     "metadata": {},
     "output_type": "execute_result"
    }
   ],
   "source": [
    "def exercicio_5_1(l):\n",
    "    l = [1,2,3,4]    \n",
    "    T = tuple(l)\n",
    "    for i in range(0,len(T)):\n",
    "        return T\n",
    "exercicio_5_1(l)"
   ]
  },
  {
   "cell_type": "code",
   "execution_count": 147,
   "metadata": {},
   "outputs": [
    {
     "name": "stdout",
     "output_type": "stream",
     "text": [
      "(1, 2, 3, 4)\n"
     ]
    }
   ],
   "source": [
    "def exercicio_5_2(l): \n",
    "    return (*l, ) \n",
    "l = [1, 2, 3, 4] \n",
    "print(exercicio_5_2(l)) "
   ]
  },
  {
   "cell_type": "code",
   "execution_count": null,
   "metadata": {},
   "outputs": [],
   "source": [
    "6."
   ]
  }
 ],
 "metadata": {
  "kernelspec": {
   "display_name": "Python 3",
   "language": "python",
   "name": "python3"
  },
  "language_info": {
   "codemirror_mode": {
    "name": "ipython",
    "version": 3
   },
   "file_extension": ".py",
   "mimetype": "text/x-python",
   "name": "python",
   "nbconvert_exporter": "python",
   "pygments_lexer": "ipython3",
   "version": "3.7.1"
  }
 },
 "nbformat": 4,
 "nbformat_minor": 2
}
