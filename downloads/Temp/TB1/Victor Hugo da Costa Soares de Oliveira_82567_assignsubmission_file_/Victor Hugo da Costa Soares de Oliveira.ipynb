{
 "cells": [
  {
   "cell_type": "code",
   "execution_count": 26,
   "metadata": {},
   "outputs": [],
   "source": [
    "def exercicio_1(n):\n",
    "    t1=()\n",
    "    t2=()\n",
    "    for x in range(1,n):\n",
    "        t1+= x,\n",
    "        t2+=x*x,\n",
    "    return t1,t2\n",
    "\n",
    "n=11"
   ]
  },
  {
   "cell_type": "code",
   "execution_count": 27,
   "metadata": {},
   "outputs": [],
   "source": [
    "def exercicio_2(n):\n",
    "    t1=()\n",
    "    t2=()\n",
    "    t3=()\n",
    "    for x in range(1,n):\n",
    "        t1+= x,\n",
    "        t2+=x*x,\n",
    "        t3+=x*x*x,\n",
    "    return t1,t2, t3\n",
    "\n",
    "n=11"
   ]
  },
  {
   "cell_type": "code",
   "execution_count": 30,
   "metadata": {},
   "outputs": [],
   "source": [
    "def exercicio_3(t):\n",
    "    t1=t[:len(t)//2]\n",
    "    t2=t[len(t)//2:]\n",
    "    s=str(t1)\n",
    "    p=str(t2)\n",
    "    return s[1:-1]+ \"\\n\" +p[1:-1]\n",
    "\n",
    "\n",
    "t=1,2,3,4,5,6,7,8,9,10"
   ]
  },
  {
   "cell_type": "code",
   "execution_count": 33,
   "metadata": {},
   "outputs": [],
   "source": [
    "def exercicio_4(t):\n",
    "    t=15\n",
    "    tuplamor=()\n",
    "    for i in range(t):\n",
    "        tuplamor+=i,\n",
    "    \n",
    "    partepar = ()\n",
    "    parteimpar = ()\n",
    "\n",
    "    for p in tuplamor:\n",
    "        if p%2 == 0:\n",
    "            partepar += (p,)\n",
    "        if p%2 != 0:\n",
    "            parteimpar += (p,)\n",
    "    return str(partepar)+ \"\\n\"  +str(parteimpar)"
   ]
  },
  {
   "cell_type": "code",
   "execution_count": 12,
   "metadata": {},
   "outputs": [],
   "source": [
    "l=15\n",
    "def exercicio_5_1(l):\n",
    "    lista1=[]\n",
    "    for i in range(l):\n",
    "        lista1 +=i,\n",
    "    a=tuple(lista1)\n",
    "    return a"
   ]
  },
  {
   "cell_type": "code",
   "execution_count": 16,
   "metadata": {},
   "outputs": [],
   "source": [
    "def exercicio_5_2(l):\n",
    "    l=[]\n",
    "    tupla=()\n",
    "    \n",
    "    for i in range(10):\n",
    "        l+=i,\n",
    "    for x in l:\n",
    "        tupla+=x,\n",
    "    return tupla"
   ]
  },
  {
   "cell_type": "code",
   "execution_count": 4,
   "metadata": {},
   "outputs": [],
   "source": [
    "def Exercicio_6(l,n):\n",
    "    lista=[]\n",
    "    for i in l:\n",
    "        tupla1=list(i)\n",
    "        tupla1[-1]=n\n",
    "        tupla2=tuple(tupla1)\n",
    "        lista.append(tupla2)\n",
    "    return lista\n",
    "n=100\n",
    "l=[(10, 20,40), (40, 50, 60), (70, 80, 90)]"
   ]
  }
 ],
 "metadata": {
  "kernelspec": {
   "display_name": "Python 3",
   "language": "python",
   "name": "python3"
  },
  "language_info": {
   "codemirror_mode": {
    "name": "ipython",
    "version": 3
   },
   "file_extension": ".py",
   "mimetype": "text/x-python",
   "name": "python",
   "nbconvert_exporter": "python",
   "pygments_lexer": "ipython3",
   "version": "3.7.3"
  }
 },
 "nbformat": 4,
 "nbformat_minor": 2
}
