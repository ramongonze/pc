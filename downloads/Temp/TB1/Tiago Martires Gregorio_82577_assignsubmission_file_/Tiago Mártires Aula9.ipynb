{
 "cells": [
  {
   "cell_type": "markdown",
   "metadata": {},
   "source": [
    "## Exercício 1"
   ]
  },
  {
   "cell_type": "code",
   "execution_count": 1,
   "metadata": {},
   "outputs": [],
   "source": [
    "def exercicio_1(n):\n",
    "    lista=[]\n",
    "    for t in range(1,n+1):\n",
    "        lista+=[(t,t*t)]\n",
    "    return lista   "
   ]
  },
  {
   "cell_type": "code",
   "execution_count": 2,
   "metadata": {},
   "outputs": [
    {
     "data": {
      "text/plain": [
       "[(1, 1), (2, 4), (3, 9)]"
      ]
     },
     "execution_count": 2,
     "metadata": {},
     "output_type": "execute_result"
    }
   ],
   "source": [
    "#Exemplo de saída esperada\n",
    "exercicio_1(3)"
   ]
  },
  {
   "cell_type": "markdown",
   "metadata": {},
   "source": [
    "## Exercício 2"
   ]
  },
  {
   "cell_type": "code",
   "execution_count": 102,
   "metadata": {},
   "outputs": [],
   "source": [
    "def exercicio_2(n):\n",
    "    lista=[]\n",
    "    for t in range(1,n+1):\n",
    "        lista+=[(t,t*t,t*t*t)]\n",
    "    return lista"
   ]
  },
  {
   "cell_type": "code",
   "execution_count": 113,
   "metadata": {},
   "outputs": [
    {
     "data": {
      "text/plain": [
       "[(1, 1, 1), (2, 4, 8), (3, 9, 27)]"
      ]
     },
     "execution_count": 113,
     "metadata": {},
     "output_type": "execute_result"
    }
   ],
   "source": [
    "#Exemplo de saída esperada\n",
    "exercicio_2(3)"
   ]
  },
  {
   "cell_type": "markdown",
   "metadata": {},
   "source": [
    "## Exercício 3"
   ]
  },
  {
   "cell_type": "code",
   "execution_count": 105,
   "metadata": {},
   "outputs": [],
   "source": [
    "def exercicio_3(t):\n",
    "    saída_1=\"\"\n",
    "    saída_2=\"\"\n",
    "    t=1\n",
    "    while t<=10:\n",
    "        if t<=5:\n",
    "            saída_1+=str(t)+\" \"\n",
    "            t+=1\n",
    "        else:   \n",
    "            saída_2+=str(t)+\" \"\n",
    "            t+=1\n",
    "        saída_=saída_1+\"\\n\"+saída_2     \n",
    "    return saída_\n",
    "saída=exercício_3()"
   ]
  },
  {
   "cell_type": "code",
   "execution_count": 104,
   "metadata": {},
   "outputs": [
    {
     "name": "stdout",
     "output_type": "stream",
     "text": [
      "1 2 3 4 5 \n",
      "6 7 8 9 10 \n"
     ]
    }
   ],
   "source": [
    "# Neste exercício é necessário print. No caso, a saída esperada é:\n",
    "print(saída)"
   ]
  },
  {
   "cell_type": "markdown",
   "metadata": {},
   "source": [
    "## Exercício 4"
   ]
  },
  {
   "cell_type": "code",
   "execution_count": 106,
   "metadata": {},
   "outputs": [],
   "source": [
    "def exercicio_4(t):\n",
    "    t1=()\n",
    "    t2=()\n",
    "    for i in t:\n",
    "        if i%2==0:\n",
    "            t1+=i,\n",
    "        else:\n",
    "            t2+=i,\n",
    "    return t1,t2              "
   ]
  },
  {
   "cell_type": "code",
   "execution_count": 107,
   "metadata": {},
   "outputs": [
    {
     "data": {
      "text/plain": [
       "((2, 4), (1, 3, 5))"
      ]
     },
     "execution_count": 107,
     "metadata": {},
     "output_type": "execute_result"
    }
   ],
   "source": [
    "#Um exemplo para a saída esperada é:\n",
    "exercício_4((1,2,3,4,5))"
   ]
  },
  {
   "cell_type": "markdown",
   "metadata": {},
   "source": [
    "## Exercício 5"
   ]
  },
  {
   "cell_type": "code",
   "execution_count": 52,
   "metadata": {},
   "outputs": [],
   "source": [
    "def exercicio_5_1(l):\n",
    "    tupla_1=tuple(l) #comando tirado do slide visto em aula\n",
    "    return tupla_1\n",
    "def exercicio_5_2(l):\n",
    "    tupla_2=()\n",
    "    for n in l:\n",
    "        tupla_2+=n,\n",
    "    return tupla_2"
   ]
  },
  {
   "cell_type": "markdown",
   "metadata": {},
   "source": [
    "## Exercício 6"
   ]
  },
  {
   "cell_type": "code",
   "execution_count": 108,
   "metadata": {},
   "outputs": [],
   "source": [
    "def exercicio_6(l,n):\n",
    "    lista=()\n",
    "    for t in l:\n",
    "        lista+=(t[0:-1]+(n,)),\n",
    "        lista=list(lista)\n",
    "    return lista "
   ]
  },
  {
   "cell_type": "code",
   "execution_count": 109,
   "metadata": {},
   "outputs": [
    {
     "data": {
      "text/plain": [
       "[(4, 2, 100), (5, 7, 8, 100)]"
      ]
     },
     "execution_count": 109,
     "metadata": {},
     "output_type": "execute_result"
    }
   ],
   "source": [
    "#Um exemplo para a saída após as trocas dos últimos elementos da tupla é:\n",
    "exercicio_6([(4,2,3),(5,7,8,9)],100)"
   ]
  },
  {
   "cell_type": "markdown",
   "metadata": {},
   "source": [
    "## Exercício 7"
   ]
  },
  {
   "cell_type": "code",
   "execution_count": 110,
   "metadata": {},
   "outputs": [],
   "source": [
    "#Exercício_9_7\n",
    "def exercício_7(cotacao):\n",
    "    tupla=()\n",
    "    for t in range(1,101):\n",
    "        tupla+=((round(cotacao*t,2),t),(t,round(cotacao*t,2))),\n",
    "    lista=list(tupla)\n",
    "    return lista"
   ]
  },
  {
   "cell_type": "code",
   "execution_count": 111,
   "metadata": {},
   "outputs": [
    {
     "data": {
      "text/plain": [
       "[((3.98, 1), (1, 3.98)),\n",
       " ((7.96, 2), (2, 7.96)),\n",
       " ((11.94, 3), (3, 11.94)),\n",
       " ((15.92, 4), (4, 15.92)),\n",
       " ((19.9, 5), (5, 19.9)),\n",
       " ((23.88, 6), (6, 23.88)),\n",
       " ((27.86, 7), (7, 27.86)),\n",
       " ((31.84, 8), (8, 31.84)),\n",
       " ((35.82, 9), (9, 35.82)),\n",
       " ((39.8, 10), (10, 39.8)),\n",
       " ((43.78, 11), (11, 43.78)),\n",
       " ((47.76, 12), (12, 47.76)),\n",
       " ((51.74, 13), (13, 51.74)),\n",
       " ((55.72, 14), (14, 55.72)),\n",
       " ((59.7, 15), (15, 59.7)),\n",
       " ((63.68, 16), (16, 63.68)),\n",
       " ((67.66, 17), (17, 67.66)),\n",
       " ((71.64, 18), (18, 71.64)),\n",
       " ((75.62, 19), (19, 75.62)),\n",
       " ((79.6, 20), (20, 79.6)),\n",
       " ((83.58, 21), (21, 83.58)),\n",
       " ((87.56, 22), (22, 87.56)),\n",
       " ((91.54, 23), (23, 91.54)),\n",
       " ((95.52, 24), (24, 95.52)),\n",
       " ((99.5, 25), (25, 99.5)),\n",
       " ((103.48, 26), (26, 103.48)),\n",
       " ((107.46, 27), (27, 107.46)),\n",
       " ((111.44, 28), (28, 111.44)),\n",
       " ((115.42, 29), (29, 115.42)),\n",
       " ((119.4, 30), (30, 119.4)),\n",
       " ((123.38, 31), (31, 123.38)),\n",
       " ((127.36, 32), (32, 127.36)),\n",
       " ((131.34, 33), (33, 131.34)),\n",
       " ((135.32, 34), (34, 135.32)),\n",
       " ((139.3, 35), (35, 139.3)),\n",
       " ((143.28, 36), (36, 143.28)),\n",
       " ((147.26, 37), (37, 147.26)),\n",
       " ((151.24, 38), (38, 151.24)),\n",
       " ((155.22, 39), (39, 155.22)),\n",
       " ((159.2, 40), (40, 159.2)),\n",
       " ((163.18, 41), (41, 163.18)),\n",
       " ((167.16, 42), (42, 167.16)),\n",
       " ((171.14, 43), (43, 171.14)),\n",
       " ((175.12, 44), (44, 175.12)),\n",
       " ((179.1, 45), (45, 179.1)),\n",
       " ((183.08, 46), (46, 183.08)),\n",
       " ((187.06, 47), (47, 187.06)),\n",
       " ((191.04, 48), (48, 191.04)),\n",
       " ((195.02, 49), (49, 195.02)),\n",
       " ((199.0, 50), (50, 199.0)),\n",
       " ((202.98, 51), (51, 202.98)),\n",
       " ((206.96, 52), (52, 206.96)),\n",
       " ((210.94, 53), (53, 210.94)),\n",
       " ((214.92, 54), (54, 214.92)),\n",
       " ((218.9, 55), (55, 218.9)),\n",
       " ((222.88, 56), (56, 222.88)),\n",
       " ((226.86, 57), (57, 226.86)),\n",
       " ((230.84, 58), (58, 230.84)),\n",
       " ((234.82, 59), (59, 234.82)),\n",
       " ((238.8, 60), (60, 238.8)),\n",
       " ((242.78, 61), (61, 242.78)),\n",
       " ((246.76, 62), (62, 246.76)),\n",
       " ((250.74, 63), (63, 250.74)),\n",
       " ((254.72, 64), (64, 254.72)),\n",
       " ((258.7, 65), (65, 258.7)),\n",
       " ((262.68, 66), (66, 262.68)),\n",
       " ((266.66, 67), (67, 266.66)),\n",
       " ((270.64, 68), (68, 270.64)),\n",
       " ((274.62, 69), (69, 274.62)),\n",
       " ((278.6, 70), (70, 278.6)),\n",
       " ((282.58, 71), (71, 282.58)),\n",
       " ((286.56, 72), (72, 286.56)),\n",
       " ((290.54, 73), (73, 290.54)),\n",
       " ((294.52, 74), (74, 294.52)),\n",
       " ((298.5, 75), (75, 298.5)),\n",
       " ((302.48, 76), (76, 302.48)),\n",
       " ((306.46, 77), (77, 306.46)),\n",
       " ((310.44, 78), (78, 310.44)),\n",
       " ((314.42, 79), (79, 314.42)),\n",
       " ((318.4, 80), (80, 318.4)),\n",
       " ((322.38, 81), (81, 322.38)),\n",
       " ((326.36, 82), (82, 326.36)),\n",
       " ((330.34, 83), (83, 330.34)),\n",
       " ((334.32, 84), (84, 334.32)),\n",
       " ((338.3, 85), (85, 338.3)),\n",
       " ((342.28, 86), (86, 342.28)),\n",
       " ((346.26, 87), (87, 346.26)),\n",
       " ((350.24, 88), (88, 350.24)),\n",
       " ((354.22, 89), (89, 354.22)),\n",
       " ((358.2, 90), (90, 358.2)),\n",
       " ((362.18, 91), (91, 362.18)),\n",
       " ((366.16, 92), (92, 366.16)),\n",
       " ((370.14, 93), (93, 370.14)),\n",
       " ((374.12, 94), (94, 374.12)),\n",
       " ((378.1, 95), (95, 378.1)),\n",
       " ((382.08, 96), (96, 382.08)),\n",
       " ((386.06, 97), (97, 386.06)),\n",
       " ((390.04, 98), (98, 390.04)),\n",
       " ((394.02, 99), (99, 394.02)),\n",
       " ((398.0, 100), (100, 398.0))]"
      ]
     },
     "execution_count": 111,
     "metadata": {},
     "output_type": "execute_result"
    }
   ],
   "source": [
    "#Exemplo de valores esperados, conforme pdf de instruções:\n",
    "exercício_7(3.98)"
   ]
  },
  {
   "cell_type": "code",
   "execution_count": null,
   "metadata": {},
   "outputs": [],
   "source": []
  },
  {
   "cell_type": "code",
   "execution_count": null,
   "metadata": {},
   "outputs": [],
   "source": []
  },
  {
   "cell_type": "code",
   "execution_count": null,
   "metadata": {},
   "outputs": [],
   "source": []
  },
  {
   "cell_type": "code",
   "execution_count": null,
   "metadata": {},
   "outputs": [],
   "source": []
  },
  {
   "cell_type": "code",
   "execution_count": null,
   "metadata": {},
   "outputs": [],
   "source": []
  },
  {
   "cell_type": "code",
   "execution_count": null,
   "metadata": {},
   "outputs": [],
   "source": []
  }
 ],
 "metadata": {
  "kernelspec": {
   "display_name": "Python 3",
   "language": "python",
   "name": "python3"
  },
  "language_info": {
   "codemirror_mode": {
    "name": "ipython",
    "version": 3
   },
   "file_extension": ".py",
   "mimetype": "text/x-python",
   "name": "python",
   "nbconvert_exporter": "python",
   "pygments_lexer": "ipython3",
   "version": "3.7.1"
  }
 },
 "nbformat": 4,
 "nbformat_minor": 2
}
