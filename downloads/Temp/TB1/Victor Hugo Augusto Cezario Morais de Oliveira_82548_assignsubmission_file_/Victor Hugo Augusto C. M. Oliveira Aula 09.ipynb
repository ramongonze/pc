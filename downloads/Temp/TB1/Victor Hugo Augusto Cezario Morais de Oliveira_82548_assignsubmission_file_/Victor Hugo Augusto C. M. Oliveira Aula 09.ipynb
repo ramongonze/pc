{
 "cells": [
  {
   "cell_type": "code",
   "execution_count": 44,
   "metadata": {},
   "outputs": [
    {
     "name": "stdout",
     "output_type": "stream",
     "text": [
      "[(1, 1), (2, 4), (3, 9), (4, 16), (5, 25), (6, 36), (7, 49), (8, 64), (9, 81), (10, 100)]\n"
     ]
    }
   ],
   "source": [
    "#Exercício 1\n",
    "def exercicio_1(n):\n",
    "    lista = [] #lista vazia\n",
    "    for i in range (1,n+1):\n",
    "        lista += [(i, i*i)]\n",
    "    return lista\n",
    "print(exercicio_1(10))"
   ]
  },
  {
   "cell_type": "code",
   "execution_count": 45,
   "metadata": {},
   "outputs": [
    {
     "name": "stdout",
     "output_type": "stream",
     "text": [
      "[(1, 1, 1), (2, 4, 8), (3, 9, 27), (4, 16, 64), (5, 25, 125), (6, 36, 216), (7, 49, 343), (8, 64, 512), (9, 81, 729), (10, 100, 1000)]\n"
     ]
    }
   ],
   "source": [
    "#Exercício 2\n",
    "def exercicio_2(n):\n",
    "    lista = [] #lista vazia\n",
    "    x=0\n",
    "    for i in range (1,n+1):\n",
    "        lista += [(i, i*i,i*i*i)]\n",
    "    return lista\n",
    "print(exercicio_2(10))"
   ]
  },
  {
   "cell_type": "code",
   "execution_count": 58,
   "metadata": {},
   "outputs": [
    {
     "name": "stdout",
     "output_type": "stream",
     "text": [
      "(1, 2, 3, 4)\n",
      "(5, 6, 7, 8, 9)\n"
     ]
    }
   ],
   "source": [
    "#Exercício 3\n",
    "def exercicio_3():\n",
    "    tupla = (1,2,3,4,5,6,7,8,9,10)\n",
    "    return(str (tupla[0:len(tupla)//2])+'\\n'+str(tupla[len(tupla)//2:]))\n",
    "print(exercicio_3())"
   ]
  },
  {
   "cell_type": "code",
   "execution_count": 1,
   "metadata": {},
   "outputs": [
    {
     "name": "stdout",
     "output_type": "stream",
     "text": [
      "((2, 0, 8, 0, 6), (1, 1, 5, 5, 1))\n"
     ]
    }
   ],
   "source": [
    "#Exercício 4\n",
    "def exercicio_4(t):\n",
    "    par = []\n",
    "    impar = []\n",
    "    for i in t:\n",
    "        if i % 2 == 0:\n",
    "            par.append(i)\n",
    "        else:\n",
    "            impar.append(i)\n",
    "    v = tuple(par)\n",
    "    h = tuple(impar)\n",
    "    return v,h\n",
    "print(exercicio_4((2,0,1,8,0,1,5,5,6,1)))\n",
    "    "
   ]
  },
  {
   "cell_type": "code",
   "execution_count": 21,
   "metadata": {},
   "outputs": [
    {
     "name": "stdout",
     "output_type": "stream",
     "text": [
      "(2, 0, 1, 8, 5, 55, 61, 5, 6)\n"
     ]
    }
   ],
   "source": [
    "#Exercício 5.1\n",
    "def exercicio_5_1(l): \n",
    "    tupla = tuple(l) \n",
    "    return tupla\n",
    "print(exercicio_5_1([2,0,1,8,5,55,61,5,6]))"
   ]
  },
  {
   "cell_type": "code",
   "execution_count": null,
   "metadata": {},
   "outputs": [],
   "source": []
  },
  {
   "cell_type": "code",
   "execution_count": 43,
   "metadata": {},
   "outputs": [
    {
     "ename": "SyntaxError",
     "evalue": "unexpected EOF while parsing (<ipython-input-43-b4737ab70650>, line 16)",
     "output_type": "error",
     "traceback": [
      "\u001b[1;36m  File \u001b[1;32m\"<ipython-input-43-b4737ab70650>\"\u001b[1;36m, line \u001b[1;32m16\u001b[0m\n\u001b[1;33m    print(exercicio_6((4,3,4),6)\u001b[0m\n\u001b[1;37m                                 ^\u001b[0m\n\u001b[1;31mSyntaxError\u001b[0m\u001b[1;31m:\u001b[0m unexpected EOF while parsing\n"
     ]
    }
   ],
   "source": [
    "#Exercício 6\n",
    "def exercicio_6(l,n):\n",
    "    v,h,a = l\n",
    "    v1 = list(v)\n",
    "    v1[2] = 100\n",
    "    v2 = tuple(v1)\n",
    "    h1 = list(h)\n",
    "    h1[2] = 100\n",
    "    h2 = tuple(h1)\n",
    "    a1 = list(a)\n",
    "    a1[2] = 100\n",
    "    a2 = tuple(a1)\n",
    "    tupla = (v2,h2,a2)\n",
    "    lista.append(tupla)\n",
    "    return l\n",
    "print(exercicio_6((4,3,4),6) "
   ]
  },
  {
   "cell_type": "code",
   "execution_count": 49,
   "metadata": {},
   "outputs": [
    {
     "name": "stdout",
     "output_type": "stream",
     "text": [
      "[(2, 1), (1, 2), (4, 2), (2, 4), (6, 3), (3, 6), (8, 4), (4, 8), (10, 5), (5, 10), (12, 6), (6, 12), (14, 7), (7, 14), (16, 8), (8, 16), (18, 9), (9, 18), (20, 10), (10, 20), (22, 11), (11, 22), (24, 12), (12, 24), (26, 13), (13, 26), (28, 14), (14, 28), (30, 15), (15, 30), (32, 16), (16, 32), (34, 17), (17, 34), (36, 18), (18, 36), (38, 19), (19, 38), (40, 20), (20, 40), (42, 21), (21, 42), (44, 22), (22, 44), (46, 23), (23, 46), (48, 24), (24, 48), (50, 25), (25, 50), (52, 26), (26, 52), (54, 27), (27, 54), (56, 28), (28, 56), (58, 29), (29, 58), (60, 30), (30, 60), (62, 31), (31, 62), (64, 32), (32, 64), (66, 33), (33, 66), (68, 34), (34, 68), (70, 35), (35, 70), (72, 36), (36, 72), (74, 37), (37, 74), (76, 38), (38, 76), (78, 39), (39, 78), (80, 40), (40, 80), (82, 41), (41, 82), (84, 42), (42, 84), (86, 43), (43, 86), (88, 44), (44, 88), (90, 45), (45, 90), (92, 46), (46, 92), (94, 47), (47, 94), (96, 48), (48, 96), (98, 49), (49, 98), (100, 50), (50, 100), (102, 51), (51, 102), (104, 52), (52, 104), (106, 53), (53, 106), (108, 54), (54, 108), (110, 55), (55, 110), (112, 56), (56, 112), (114, 57), (57, 114), (116, 58), (58, 116), (118, 59), (59, 118), (120, 60), (60, 120), (122, 61), (61, 122), (124, 62), (62, 124), (126, 63), (63, 126), (128, 64), (64, 128), (130, 65), (65, 130), (132, 66), (66, 132), (134, 67), (67, 134), (136, 68), (68, 136), (138, 69), (69, 138), (140, 70), (70, 140), (142, 71), (71, 142), (144, 72), (72, 144), (146, 73), (73, 146), (148, 74), (74, 148), (150, 75), (75, 150), (152, 76), (76, 152), (154, 77), (77, 154), (156, 78), (78, 156), (158, 79), (79, 158), (160, 80), (80, 160), (162, 81), (81, 162), (164, 82), (82, 164), (166, 83), (83, 166), (168, 84), (84, 168), (170, 85), (85, 170), (172, 86), (86, 172), (174, 87), (87, 174), (176, 88), (88, 176), (178, 89), (89, 178), (180, 90), (90, 180), (182, 91), (91, 182), (184, 92), (92, 184), (186, 93), (93, 186), (188, 94), (94, 188), (190, 95), (95, 190), (192, 96), (96, 192), (194, 97), (97, 194), (196, 98), (98, 196), (198, 99), (99, 198), (200, 100), (100, 200)]\n"
     ]
    }
   ],
   "source": [
    "#Exercício 7\n",
    "def exercicio_7(cotacao):\n",
    "    dolar = 0\n",
    "    lista = []\n",
    "    real = 0\n",
    "    for dolar in range (1, 101):\n",
    "        real = cotacao*dolar \n",
    "        lista += [(real,dolar),(dolar,real)]\n",
    "    return lista\n",
    "print (exercicio_7(2))"
   ]
  },
  {
   "cell_type": "code",
   "execution_count": null,
   "metadata": {},
   "outputs": [],
   "source": []
  }
 ],
 "metadata": {
  "kernelspec": {
   "display_name": "Python 3",
   "language": "python",
   "name": "python3"
  },
  "language_info": {
   "codemirror_mode": {
    "name": "ipython",
    "version": 3
   },
   "file_extension": ".py",
   "mimetype": "text/x-python",
   "name": "python",
   "nbconvert_exporter": "python",
   "pygments_lexer": "ipython3",
   "version": "3.7.1"
  }
 },
 "nbformat": 4,
 "nbformat_minor": 2
}
