{
 "cells": [
  {
   "cell_type": "code",
   "execution_count": 1,
   "metadata": {},
   "outputs": [],
   "source": [
    "#Lista 09\n",
    "#Érika Ramos de Alvarenga"
   ]
  },
  {
   "cell_type": "code",
   "execution_count": 1,
   "metadata": {},
   "outputs": [],
   "source": [
    "#Exercicio_1\n",
    "def exercicio_1(n):\n",
    "    tupla = ()\n",
    "    lista = list()\n",
    "    for i in range(1,n+1):\n",
    "        tupla = (i,i**2)\n",
    "        lista.append(tupla)\n",
    "    return lista"
   ]
  },
  {
   "cell_type": "code",
   "execution_count": 28,
   "metadata": {},
   "outputs": [],
   "source": [
    "#Exercicio_2\n",
    "def exercicio_2(n):\n",
    "    tupla = ()\n",
    "    lista = list()\n",
    "    for i in range(1,n+1):\n",
    "        tupla = (i,i**2, i**3)\n",
    "        lista.append(tupla)\n",
    "    return lista"
   ]
  },
  {
   "cell_type": "code",
   "execution_count": 48,
   "metadata": {},
   "outputs": [],
   "source": [
    "#Exercicio_3\n",
    "def exercicio_3( ):\n",
    "    tupla = (1,2,3,4,5,6,7,8,9,10)\n",
    "    return str(tupla[0:len(tupla)//2])+ \"\\n\" + str(tupla[len(tupla)//2:])"
   ]
  },
  {
   "cell_type": "code",
   "execution_count": 64,
   "metadata": {},
   "outputs": [],
   "source": [
    "#Exercicio_4\n",
    "t=(1,2,3,4,5,6,7,8,9,10)\n",
    "def exercicio_4(t):\n",
    "    t1= list()\n",
    "    t2 = list()\n",
    "    for i in range(len(t)):\n",
    "        if t[i]%2==0:\n",
    "            par= t[i]\n",
    "            t1.append(par)\n",
    "        else:\n",
    "            impar= t[i]\n",
    "            t2.append(impar)\n",
    "    print(tuple(t1), tuple(t2))      "
   ]
  },
  {
   "cell_type": "code",
   "execution_count": null,
   "metadata": {},
   "outputs": [],
   "source": [
    "#Exercício_5\n",
    "l=[2010, 2011, 2012, 2013, 2014,2015]\n",
    "def exercício_5_1(l):\n",
    "    Tupla=( )\n",
    "    for i in l:\n",
    "        Tupla+= (i,)\n",
    "    return (Tupla)\n",
    "\n",
    "def exercício_5_2(l):\n",
    "    Tupla= tuple(l)\n",
    "    return Tupla\n",
    "    "
   ]
  },
  {
   "cell_type": "code",
   "execution_count": 23,
   "metadata": {},
   "outputs": [],
   "source": [
    "# Exercicio_6\n",
    "def exercício_6(l,n):\n",
    "    l1= []\n",
    "    t=()\n",
    "    for (a,b,c) in l:\n",
    "        t=(a, b, n)\n",
    "        l1.append(t) \n",
    "    return l1"
   ]
  },
  {
   "cell_type": "code",
   "execution_count": 80,
   "metadata": {},
   "outputs": [],
   "source": [
    "#Exercicio_7\n",
    "cotacao=3.97\n",
    "def exercicio_7(cotacao):\n",
    "    dolar=()\n",
    "    real =()\n",
    "    lista_d=list()\n",
    "    lista_r=list()\n",
    "    for i in range(1,101):\n",
    "        dolar = i/cotacao\n",
    "        real = i*cotacao\n",
    "        lista_d.append(dolar)\n",
    "        lista_r.append(real)\n",
    "        print(\"US$ %4.2f = R$ %4.2f\" \"     \" \"R$ %4.2f = US$ %4.2f \\n\" %(i, lista_d[i-1], i, lista_r[i-1]), \"-------------------\" \"  \" \" -------------------------\")"
   ]
  }
 ],
 "metadata": {
  "kernelspec": {
   "display_name": "Python 3",
   "language": "python",
   "name": "python3"
  },
  "language_info": {
   "codemirror_mode": {
    "name": "ipython",
    "version": 3
   },
   "file_extension": ".py",
   "mimetype": "text/x-python",
   "name": "python",
   "nbconvert_exporter": "python",
   "pygments_lexer": "ipython3",
   "version": "3.7.1"
  }
 },
 "nbformat": 4,
 "nbformat_minor": 2
}
