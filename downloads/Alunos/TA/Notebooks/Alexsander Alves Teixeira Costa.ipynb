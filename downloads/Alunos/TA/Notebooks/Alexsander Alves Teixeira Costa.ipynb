{
 "cells": [
  {
   "cell_type": "code",
   "execution_count": 15,
   "metadata": {},
   "outputs": [
    {
     "data": {
      "text/plain": [
       "[(0, 0), (1, 1), (2, 4), (3, 9), (4, 16)]"
      ]
     },
     "execution_count": 15,
     "metadata": {},
     "output_type": "execute_result"
    }
   ],
   "source": [
    "def exercicio_1(n):\n",
    "    m = []\n",
    "    for g in range(n+1):\n",
    "        j = g,g*g\n",
    "        m.append(j)\n",
    "    return m\n",
    "exercicio_1(4)"
   ]
  },
  {
   "cell_type": "code",
   "execution_count": 16,
   "metadata": {},
   "outputs": [
    {
     "data": {
      "text/plain": [
       "[(0, 0, 0), (1, 1, 1), (2, 4, 8), (3, 9, 27), (4, 16, 64)]"
      ]
     },
     "execution_count": 16,
     "metadata": {},
     "output_type": "execute_result"
    }
   ],
   "source": [
    "def exercicio_2(n):\n",
    "    m = []\n",
    "    for g in range(n+1):\n",
    "        j = g,g*g,g**3\n",
    "        m.append(j)\n",
    "    return m\n",
    "exercicio_2(4)"
   ]
  },
  {
   "cell_type": "code",
   "execution_count": 6,
   "metadata": {},
   "outputs": [
    {
     "name": "stdout",
     "output_type": "stream",
     "text": [
      "(1, 2, 3, 4, 5)\n",
      "(6, 7, 8, 9, 10)\n"
     ]
    }
   ],
   "source": [
    "def exercicio_3():\n",
    "    tupla = (1,2,3,4,5,6,7,8,9,10)\n",
    "    ki = str(tupla[:5]),str(tupla[5:])\n",
    "    ko = ki[0] + str('\\n') + ki[1]\n",
    "    return ko\n",
    "print(exercicio_3())"
   ]
  },
  {
   "cell_type": "code",
   "execution_count": 2,
   "metadata": {},
   "outputs": [
    {
     "name": "stdout",
     "output_type": "stream",
     "text": [
      "Entre com o 1º elemento da Tupla: 1\n",
      "Entre com o 2º elemento da Tupla: 2\n",
      "Entre com o 3º elemento da Tupla: 3\n",
      "Entre com o 4º elemento da Tupla: 4\n",
      "Entre com o 5º elemento da Tupla: 56\n",
      "Entre com o 6º elemento da Tupla: 6\n",
      "Entre com o 7º elemento da Tupla: 7\n",
      "Entre com o 8º elemento da Tupla: 8\n",
      "Entre com o 9º elemento da Tupla: 9\n",
      "Entre com o 10º elemento da Tupla: -1\n"
     ]
    },
    {
     "data": {
      "text/plain": [
       "((2, 4, 56, 6, 8), (1, 3, 7, 9))"
      ]
     },
     "execution_count": 2,
     "metadata": {},
     "output_type": "execute_result"
    }
   ],
   "source": [
    "def exercicio_4():\n",
    "    #Ao invés de colocar a tupla como argumento optei por fazer o usuário digitar uma tupla arbitrária com um sentinela\n",
    "    #que indica quando parar.\n",
    "    n = 1\n",
    "    tupla = ()\n",
    "    par = ()\n",
    "    ímpar = ()\n",
    "    while True:\n",
    "        try:\n",
    "            m = int(input(\"Entre com o %dº elemento da Tupla: \" %n)) #-1 encerra a entrada de valores\n",
    "            if m == -1:\n",
    "                break\n",
    "            n += 1\n",
    "            k = m,\n",
    "            tupla += k\n",
    "        except ValueError:\n",
    "            print(\"Digite apenas números\")\n",
    "    for i in tupla:\n",
    "        if i%2 == 0:\n",
    "            par += i,\n",
    "        else:\n",
    "            ímpar += i,\n",
    "    return par , ímpar\n",
    "exercicio_4()"
   ]
  },
  {
   "cell_type": "code",
   "execution_count": 4,
   "metadata": {},
   "outputs": [
    {
     "name": "stdout",
     "output_type": "stream",
     "text": [
      "Entre com o 1º elemento da Lista: 5\n",
      "Entre com o 2º elemento da Lista: 1\n",
      "Entre com o 3º elemento da Lista: 40\n",
      "Entre com o 4º elemento da Lista: -1\n"
     ]
    },
    {
     "data": {
      "text/plain": [
       "(5, 1, 40)"
      ]
     },
     "execution_count": 4,
     "metadata": {},
     "output_type": "execute_result"
    }
   ],
   "source": [
    "def exercicio_5_1():\n",
    "    #Assim como no exercício anterior optei por fazer com que o usuário faça sua própria lista formada por números inteiros.\n",
    "    lista = []\n",
    "    n = 1\n",
    "    tupla = ()\n",
    "    while True:\n",
    "        try:\n",
    "            m = int(input(\"Entre com o %dº elemento da Lista: \" %n)) #-1 encerra a entrada de valores\n",
    "            if m == -1:\n",
    "                break\n",
    "            n += 1\n",
    "            lista.append(m)\n",
    "        except ValueError:\n",
    "            print(\"Digite apenas números\")\n",
    "    for i in lista:\n",
    "        tupla += i,\n",
    "    return tupla\n",
    "exercicio_5_1()"
   ]
  },
  {
   "cell_type": "code",
   "execution_count": 3,
   "metadata": {},
   "outputs": [
    {
     "name": "stdout",
     "output_type": "stream",
     "text": [
      "Entre com o 1º elemento da Lista: 1\n",
      "Entre com o 2º elemento da Lista: 5\n",
      "Entre com o 3º elemento da Lista: la\n",
      "Digite apenas números\n",
      "Entre com o 3º elemento da Lista: 5\n",
      "Entre com o 4º elemento da Lista: 10\n",
      "Entre com o 5º elemento da Lista: 52\n",
      "Entre com o 6º elemento da Lista: -1\n"
     ]
    },
    {
     "data": {
      "text/plain": [
       "(1, 5, 5, 10, 52)"
      ]
     },
     "execution_count": 3,
     "metadata": {},
     "output_type": "execute_result"
    }
   ],
   "source": [
    "def exercicio_5_2():\n",
    "    lista = []\n",
    "    n = 1\n",
    "    tupla = ()\n",
    "    while True:\n",
    "        try:\n",
    "            m = int(input(\"Entre com o %dº elemento da Lista: \" %n)) #-1 encerra a entrada de valores\n",
    "            if m == -1:\n",
    "                break\n",
    "            n += 1\n",
    "            lista.append(m)\n",
    "        except ValueError:\n",
    "            print(\"Digite apenas números\")\n",
    "    for k in range(len(lista)):\n",
    "            tupla += lista[k],\n",
    "    return tupla\n",
    "exercicio_5_2()"
   ]
  },
  {
   "cell_type": "code",
   "execution_count": 7,
   "metadata": {},
   "outputs": [
    {
     "name": "stdout",
     "output_type": "stream",
     "text": [
      "Entre com o 1º elemento da 1ª Tupla: 1\n",
      "Entre com o 2º elemento da 1ª Tupla: 2\n",
      "Entre com o 3º elemento da 1ª Tupla: 3\n",
      "Entre com o 1º elemento da 2ª Tupla: 4\n",
      "Entre com o 2º elemento da 2ª Tupla: 5\n",
      "Entre com o 3º elemento da 2ª Tupla: 6\n"
     ]
    },
    {
     "data": {
      "text/plain": [
       "[(1, 2, 100), (4, 5, 100)]"
      ]
     },
     "execution_count": 7,
     "metadata": {},
     "output_type": "execute_result"
    }
   ],
   "source": [
    "def exercicio_6(tamanho,w):\n",
    "    #Função com dois parâmetros de entrada, um para determinar o número de elementos da lista 'sendo sempre cada elemento \n",
    "    #uma tupla de 3 elementos' e o outro para determinar o número que substituirá o último elemento da tupla de 3 elementos.\n",
    "    tupla = ()\n",
    "    lista = []\n",
    "    n = 1\n",
    "    p = 1\n",
    "    g = 0\n",
    "    while len(lista) < tamanho:\n",
    "        try:\n",
    "            while len(tupla) <= 3:\n",
    "                if len(tupla) == 3:\n",
    "                    lista.append(tupla)\n",
    "                    tupla = ()\n",
    "                    p += 1\n",
    "                    n = 1\n",
    "                    break\n",
    "                else:\n",
    "                    m = int(input(\"Entre com o %dº elemento da %dª Tupla: \" %(n,p)))\n",
    "                n += 1\n",
    "                k = m,\n",
    "                tupla += k\n",
    "        except ValueError:\n",
    "            print(\"Digite apenas números\")\n",
    "    for a in range(tamanho):\n",
    "                lista[a] = lista[a][:2] + (w,)\n",
    "    return lista\n",
    "exercicio_6(2,100)"
   ]
  },
  {
   "cell_type": "code",
   "execution_count": 13,
   "metadata": {},
   "outputs": [
    {
     "data": {
      "text/plain": [
       "[((3.98, 1), (1, 0.25)),\n",
       " ((7.96, 2), (2, 0.5)),\n",
       " ((11.94, 3), (3, 0.75)),\n",
       " ((15.92, 4), (4, 1.01)),\n",
       " ((19.9, 5), (5, 1.26)),\n",
       " ((23.88, 6), (6, 1.51)),\n",
       " ((27.86, 7), (7, 1.76)),\n",
       " ((31.84, 8), (8, 2.01)),\n",
       " ((35.82, 9), (9, 2.26)),\n",
       " ((39.8, 10), (10, 2.51)),\n",
       " ((43.78, 11), (11, 2.76)),\n",
       " ((47.76, 12), (12, 3.02)),\n",
       " ((51.74, 13), (13, 3.27)),\n",
       " ((55.72, 14), (14, 3.52)),\n",
       " ((59.7, 15), (15, 3.77)),\n",
       " ((63.68, 16), (16, 4.02)),\n",
       " ((67.66, 17), (17, 4.27)),\n",
       " ((71.64, 18), (18, 4.52)),\n",
       " ((75.62, 19), (19, 4.77)),\n",
       " ((79.6, 20), (20, 5.03)),\n",
       " ((83.58, 21), (21, 5.28)),\n",
       " ((87.56, 22), (22, 5.53)),\n",
       " ((91.54, 23), (23, 5.78)),\n",
       " ((95.52, 24), (24, 6.03)),\n",
       " ((99.5, 25), (25, 6.28)),\n",
       " ((103.48, 26), (26, 6.53)),\n",
       " ((107.46, 27), (27, 6.78)),\n",
       " ((111.44, 28), (28, 7.04)),\n",
       " ((115.42, 29), (29, 7.29)),\n",
       " ((119.4, 30), (30, 7.54)),\n",
       " ((123.38, 31), (31, 7.79)),\n",
       " ((127.36, 32), (32, 8.04)),\n",
       " ((131.34, 33), (33, 8.29)),\n",
       " ((135.32, 34), (34, 8.54)),\n",
       " ((139.3, 35), (35, 8.79)),\n",
       " ((143.28, 36), (36, 9.05)),\n",
       " ((147.26, 37), (37, 9.3)),\n",
       " ((151.24, 38), (38, 9.55)),\n",
       " ((155.22, 39), (39, 9.8)),\n",
       " ((159.2, 40), (40, 10.05)),\n",
       " ((163.18, 41), (41, 10.3)),\n",
       " ((167.16, 42), (42, 10.55)),\n",
       " ((171.14, 43), (43, 10.8)),\n",
       " ((175.12, 44), (44, 11.06)),\n",
       " ((179.1, 45), (45, 11.31)),\n",
       " ((183.08, 46), (46, 11.56)),\n",
       " ((187.06, 47), (47, 11.81)),\n",
       " ((191.04, 48), (48, 12.06)),\n",
       " ((195.02, 49), (49, 12.31)),\n",
       " ((199.0, 50), (50, 12.56)),\n",
       " ((202.98, 51), (51, 12.81)),\n",
       " ((206.96, 52), (52, 13.07)),\n",
       " ((210.94, 53), (53, 13.32)),\n",
       " ((214.92, 54), (54, 13.57)),\n",
       " ((218.9, 55), (55, 13.82)),\n",
       " ((222.88, 56), (56, 14.07)),\n",
       " ((226.86, 57), (57, 14.32)),\n",
       " ((230.84, 58), (58, 14.57)),\n",
       " ((234.82, 59), (59, 14.82)),\n",
       " ((238.8, 60), (60, 15.08)),\n",
       " ((242.78, 61), (61, 15.33)),\n",
       " ((246.76, 62), (62, 15.58)),\n",
       " ((250.74, 63), (63, 15.83)),\n",
       " ((254.72, 64), (64, 16.08)),\n",
       " ((258.7, 65), (65, 16.33)),\n",
       " ((262.68, 66), (66, 16.58)),\n",
       " ((266.66, 67), (67, 16.83)),\n",
       " ((270.64, 68), (68, 17.09)),\n",
       " ((274.62, 69), (69, 17.34)),\n",
       " ((278.6, 70), (70, 17.59)),\n",
       " ((282.58, 71), (71, 17.84)),\n",
       " ((286.56, 72), (72, 18.09)),\n",
       " ((290.54, 73), (73, 18.34)),\n",
       " ((294.52, 74), (74, 18.59)),\n",
       " ((298.5, 75), (75, 18.84)),\n",
       " ((302.48, 76), (76, 19.1)),\n",
       " ((306.46, 77), (77, 19.35)),\n",
       " ((310.44, 78), (78, 19.6)),\n",
       " ((314.42, 79), (79, 19.85)),\n",
       " ((318.4, 80), (80, 20.1)),\n",
       " ((322.38, 81), (81, 20.35)),\n",
       " ((326.36, 82), (82, 20.6)),\n",
       " ((330.34, 83), (83, 20.85)),\n",
       " ((334.32, 84), (84, 21.11)),\n",
       " ((338.3, 85), (85, 21.36)),\n",
       " ((342.28, 86), (86, 21.61)),\n",
       " ((346.26, 87), (87, 21.86)),\n",
       " ((350.24, 88), (88, 22.11)),\n",
       " ((354.22, 89), (89, 22.36)),\n",
       " ((358.2, 90), (90, 22.61)),\n",
       " ((362.18, 91), (91, 22.86)),\n",
       " ((366.16, 92), (92, 23.12)),\n",
       " ((370.14, 93), (93, 23.37)),\n",
       " ((374.12, 94), (94, 23.62)),\n",
       " ((378.1, 95), (95, 23.87)),\n",
       " ((382.08, 96), (96, 24.12)),\n",
       " ((386.06, 97), (97, 24.37)),\n",
       " ((390.04, 98), (98, 24.62)),\n",
       " ((394.02, 99), (99, 24.87)),\n",
       " ((398.0, 100), (100, 25.13))]"
      ]
     },
     "execution_count": 13,
     "metadata": {},
     "output_type": "execute_result"
    }
   ],
   "source": [
    "def exercicio_7(cotação):\n",
    "    #Função que retorna uma lista formada com os valores 'dólar,real' e ' real,dólar'\n",
    "    tuplar = ()\n",
    "    lista = []\n",
    "    lista1 = []\n",
    "    lista2 = []\n",
    "    for i in range(101):\n",
    "        if i != 0:\n",
    "            conversão =round(i * cotação,2)\n",
    "            tuplar = conversão,i\n",
    "            lista1.append(tuplar)\n",
    "    for t in range(1,101):\n",
    "        dólar = round(t/cotação,2)\n",
    "        tuplad = t, dólar\n",
    "        lista2.append(tuplad)\n",
    "    for t in range(100):\n",
    "        k = (lista1[t],lista2[t])\n",
    "        lista.append(k)\n",
    "    return lista\n",
    "exercicio_7(3.98)"
   ]
  },
  {
   "cell_type": "code",
   "execution_count": null,
   "metadata": {
    "collapsed": true
   },
   "outputs": [],
   "source": []
  }
 ],
 "metadata": {
  "kernelspec": {
   "display_name": "Python 3",
   "language": "python",
   "name": "python3"
  },
  "language_info": {
   "codemirror_mode": {
    "name": "ipython",
    "version": 3
   },
   "file_extension": ".py",
   "mimetype": "text/x-python",
   "name": "python",
   "nbconvert_exporter": "python",
   "pygments_lexer": "ipython3",
   "version": "3.7.1"
  }
 },
 "nbformat": 4,
 "nbformat_minor": 2
}
