{
 "cells": [
  {
   "cell_type": "code",
   "execution_count": 4,
   "metadata": {},
   "outputs": [],
   "source": [
    "def exercicio_6():\n",
    "    j = [(10, 20, 40), (40, 50, 60), (70, 80, 90)]\n",
    "    print([t[:-1] + (100,) for t in j])"
   ]
  },
  {
   "cell_type": "code",
   "execution_count": 3,
   "metadata": {},
   "outputs": [
    {
     "name": "stdout",
     "output_type": "stream",
     "text": [
      "[(10, 20, 100), (40, 50, 100), (70, 80, 100)]\n"
     ]
    }
   ],
   "source": [
    "exercicio_6()"
   ]
  },
  {
   "cell_type": "code",
   "execution_count": 2,
   "metadata": {},
   "outputs": [],
   "source": [
    "def exercicio_4():\n",
    "\n",
    "\n",
    "\n",
    "    list1 = [10, 21, 4, 45, 66, 93] \n",
    "\n",
    "\n",
    "    for num in list1: \n",
    "\n",
    "\n",
    "        if num % 2 == 0: \n",
    "           print(num, end = \" \") "
   ]
  },
  {
   "cell_type": "code",
   "execution_count": 3,
   "metadata": {},
   "outputs": [
    {
     "name": "stdout",
     "output_type": "stream",
     "text": [
      "10 4 66 "
     ]
    }
   ],
   "source": [
    "exercicio_4()"
   ]
  },
  {
   "cell_type": "code",
   "execution_count": 5,
   "metadata": {},
   "outputs": [],
   "source": [
    "def exercicio_4_2():\n",
    "\n",
    "\n",
    "\n",
    "    list1 = [10, 21, 4, 45, 66, 93] \n",
    "\n",
    "\n",
    "    for num in list1: \n",
    "\n",
    "\n",
    "        if num % 2 != 0: \n",
    "           print(num, end = \" \") \n"
   ]
  },
  {
   "cell_type": "code",
   "execution_count": 6,
   "metadata": {},
   "outputs": [
    {
     "name": "stdout",
     "output_type": "stream",
     "text": [
      "21 45 93 "
     ]
    }
   ],
   "source": [
    "exercicio_4_2()"
   ]
  },
  {
   "cell_type": "code",
   "execution_count": 42,
   "metadata": {},
   "outputs": [],
   "source": [
    "def exercicio_1():\n",
    "    z=int(input(\"INSIRA UM NUMERO: \"))\n",
    "    list = tuple (range(1,n))\n",
    "\n",
    "    res = [(val, pow(val, 2)) for val in list1] \n",
    "\n",
    "\n",
    "    print(res) \n"
   ]
  },
  {
   "cell_type": "code",
   "execution_count": 41,
   "metadata": {},
   "outputs": [
    {
     "name": "stdout",
     "output_type": "stream",
     "text": [
      "INSIRA UM NUMERO: 5\n",
      "[(10, 100), (21, 441), (4, 16), (45, 2025), (66, 4356), (93, 8649)]\n"
     ]
    }
   ],
   "source": [
    "exercicio_1()"
   ]
  },
  {
   "cell_type": "code",
   "execution_count": 37,
   "metadata": {},
   "outputs": [],
   "source": [
    "def exercicio_3():\n",
    "    tuple1 = (0 ,1, 2, 3) \n",
    "    print(tuple1[0:2])  \n",
    "    print(tuple1[2:4]) "
   ]
  },
  {
   "cell_type": "code",
   "execution_count": 38,
   "metadata": {},
   "outputs": [
    {
     "name": "stdout",
     "output_type": "stream",
     "text": [
      "(0, 1)\n",
      "(2, 3)\n"
     ]
    }
   ],
   "source": [
    "exercicio_3()"
   ]
  },
  {
   "cell_type": "code",
   "execution_count": 46,
   "metadata": {},
   "outputs": [],
   "source": [
    "def exercicio_2():\n",
    "\n",
    "\n",
    "    list1 = [1, 2, 5, 6] \n",
    "\n",
    "\n",
    "    res = [(val, pow(val, 3)) for val in list1] \n",
    "\n",
    "\n",
    "    print(res) "
   ]
  },
  {
   "cell_type": "code",
   "execution_count": 47,
   "metadata": {},
   "outputs": [
    {
     "name": "stdout",
     "output_type": "stream",
     "text": [
      "[(1, 1), (2, 8), (5, 125), (6, 216)]\n"
     ]
    }
   ],
   "source": [
    "exercicio_2()"
   ]
  },
  {
   "cell_type": "code",
   "execution_count": 48,
   "metadata": {},
   "outputs": [],
   "source": [
    "def exercicio_2_2():\n",
    "    list1 = [1, 2, 5, 6] \n",
    "\n",
    "\n",
    "    res = [(val, pow(val, 2)) for val in list1] \n",
    "\n",
    "\n",
    "    print(res) "
   ]
  },
  {
   "cell_type": "code",
   "execution_count": 49,
   "metadata": {},
   "outputs": [
    {
     "name": "stdout",
     "output_type": "stream",
     "text": [
      "[(1, 1), (2, 4), (5, 25), (6, 36)]\n"
     ]
    }
   ],
   "source": [
    "exercicio_2_2()"
   ]
  }
 ],
 "metadata": {
  "kernelspec": {
   "display_name": "Python 3",
   "language": "python",
   "name": "python3"
  },
  "language_info": {
   "codemirror_mode": {
    "name": "ipython",
    "version": 3
   },
   "file_extension": ".py",
   "mimetype": "text/x-python",
   "name": "python",
   "nbconvert_exporter": "python",
   "pygments_lexer": "ipython3",
   "version": "3.6.7"
  }
 },
 "nbformat": 4,
 "nbformat_minor": 2
}
