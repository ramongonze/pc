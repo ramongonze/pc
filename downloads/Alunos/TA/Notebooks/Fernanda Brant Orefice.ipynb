{
 "cells": [
  {
   "cell_type": "code",
   "execution_count": 6,
   "metadata": {},
   "outputs": [],
   "source": [
    "def exercicio_1(n):\n",
    "    tupla=()\n",
    "    for i in range(1,n+1):\n",
    "        tupla+=i,\n",
    "        tupla+=i**2,\n",
    "    return tupla"
   ]
  },
  {
   "cell_type": "code",
   "execution_count": null,
   "metadata": {
    "collapsed": true
   },
   "outputs": [],
   "source": [
    "def exercicio_2(n):\n",
    "    tupla=()\n",
    "    for i in range(1,n+1):\n",
    "        tupla+=i,\n",
    "        tupla+=i**2,\n",
    "        tupla+=i**3,\n",
    "    return tupla"
   ]
  },
  {
   "cell_type": "code",
   "execution_count": 22,
   "metadata": {},
   "outputs": [
    {
     "name": "stdout",
     "output_type": "stream",
     "text": [
      "(1, 2, 3, 4, 5) (6, 7, 8, 9, 10)\n"
     ]
    }
   ],
   "source": [
    "tupla=(1,2,3,4,5,6,7,8,9,10)\n",
    "a=str(tupla[:len(tupla)/2])\n",
    "b=str(tupla[len(tupla)/2:])\n",
    "print a, b\n",
    "\n"
   ]
  },
  {
   "cell_type": "code",
   "execution_count": 27,
   "metadata": {},
   "outputs": [],
   "source": [
    "def exercicio_4(t):\n",
    "    pares=()\n",
    "    impares=()\n",
    "    for elemento in t:\n",
    "        if elemento%2==0:\n",
    "            pares+=elemento,\n",
    "        else:\n",
    "            impares+=elemento,\n",
    "    return sorted(pares,impares)"
   ]
  },
  {
   "cell_type": "code",
   "execution_count": 28,
   "metadata": {},
   "outputs": [
    {
     "name": "stdout",
     "output_type": "stream",
     "text": [
      "(1, 2, 3, 4)\n"
     ]
    }
   ],
   "source": [
    "def exercicio_5_1(L):\n",
    "    T=tuple(L)\n",
    "    return T"
   ]
  },
  {
   "cell_type": "code",
   "execution_count": null,
   "metadata": {
    "collapsed": true
   },
   "outputs": [],
   "source": [
    "def exercicio_5_2(L):\n",
    "    T=tupla()\n",
    "    for elemento in L:\n",
    "        T+=elemento,\n",
    "        return T"
   ]
  },
  {
   "cell_type": "code",
   "execution_count": 32,
   "metadata": {},
   "outputs": [
    {
     "name": "stdout",
     "output_type": "stream",
     "text": [
      "3\n",
      "6\n",
      "[(1, 2, 3), (4, 5, 6)]\n"
     ]
    }
   ],
   "source": [
    "l=[(1,2,3),(4,5,6)]\n",
    "n=100\n",
    "for _,_,a in l:\n",
    "    \n",
    "print(l)"
   ]
  },
  {
   "cell_type": "code",
   "execution_count": null,
   "metadata": {
    "collapsed": true
   },
   "outputs": [],
   "source": []
  }
 ],
 "metadata": {
  "kernelspec": {
   "display_name": "Python 2",
   "language": "python",
   "name": "python2"
  },
  "language_info": {
   "codemirror_mode": {
    "name": "ipython",
    "version": 2
   },
   "file_extension": ".py",
   "mimetype": "text/x-python",
   "name": "python",
   "nbconvert_exporter": "python",
   "pygments_lexer": "ipython2",
   "version": "2.7.13"
  }
 },
 "nbformat": 4,
 "nbformat_minor": 2
}
