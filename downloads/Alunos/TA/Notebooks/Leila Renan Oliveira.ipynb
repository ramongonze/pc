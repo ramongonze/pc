{
 "cells": [
  {
   "cell_type": "code",
   "execution_count": 7,
   "metadata": {},
   "outputs": [
    {
     "data": {
      "text/plain": [
       "[(1, 1), (2, 4), (3, 9)]"
      ]
     },
     "execution_count": 7,
     "metadata": {},
     "output_type": "execute_result"
    }
   ],
   "source": [
    "def exercicio_1(n):\n",
    "    #Dado um inteiro n, a função faz uma lista de tuplas com elementos de 1 até n, onde cada tupla\n",
    "    #contém n e seu quadrado.\n",
    "    lista1 = [a for a in range(1,n+1)]\n",
    "    lista2 = [a**2 for a in range(1,n+1)]\n",
    "    resultado = [(lista1[i],lista2[i]) for i in range (0,len(lista1))]\n",
    "    return resultado"
   ]
  },
  {
   "cell_type": "code",
   "execution_count": 8,
   "metadata": {},
   "outputs": [
    {
     "data": {
      "text/plain": [
       "[(1, 1, 1), (2, 4, 8), (3, 9, 27)]"
      ]
     },
     "execution_count": 8,
     "metadata": {},
     "output_type": "execute_result"
    }
   ],
   "source": [
    "def exercicio_2(n):\n",
    "    #Dado um número inteiro n, a função faz uma lista de tuplas com elementos de 1 até n, onde cada tupla \n",
    "    #contém o valor n, seu quadrado e seu cubo.\n",
    "    lista1 = [a for a in range(1,n+1)]\n",
    "    lista2 = [a**2 for a in range(1,n+1)]\n",
    "    lista3 = [a**3 for a in range(1,n+1)]\n",
    "    resultado = [(lista1[i],lista2[i],lista3[i])for i in range (0,len(lista1))]\n",
    "    return resultado"
   ]
  },
  {
   "cell_type": "code",
   "execution_count": 4,
   "metadata": {},
   "outputs": [
    {
     "name": "stdout",
     "output_type": "stream",
     "text": [
      "1 2 3 4 5 \n",
      "6 7 8 9 10\n"
     ]
    }
   ],
   "source": [
    "def exercicio_3():\n",
    "    #Transforma a tupla em string e define a variável 'resultado' como dois strings, sendo que o primeiro é a primeira \n",
    "    #metade da tupla, e o segundo é a segunda metade da tupla.\n",
    "    tupla = (1,2,3,4,5,6,7,8,9,10)\n",
    "    s = ''\n",
    "    for i in range(0,len(tupla)-1):\n",
    "        s += str(tupla[i])+' '\n",
    "    s += str(tupla[len(tupla)-1])\n",
    "    metade1 = s[0:(len(s)//2)]\n",
    "    metade2 = s[(len(s)//2):]\n",
    "    resultado = metade1+ '\\n'+ metade2\n",
    "    return resultado"
   ]
  },
  {
   "cell_type": "code",
   "execution_count": 25,
   "metadata": {},
   "outputs": [
    {
     "data": {
      "text/plain": [
       "([4, 6, 8], [5, 7, 9])"
      ]
     },
     "execution_count": 25,
     "metadata": {},
     "output_type": "execute_result"
    }
   ],
   "source": [
    "def exercicio_4(t):\n",
    "    #A função separa uma tupla dada em duas tuplas, uma de valores pares, e outra de valores ímpares, ordenados em ordem\n",
    "    #crescente\n",
    "    t1 = ( )\n",
    "    t2 = ( )\n",
    "    for a in t:\n",
    "        if a%2 == 0:\n",
    "            t1 += a,\n",
    "        else:\n",
    "            t2 += a,\n",
    "    t1 = sorted(t1)\n",
    "    t2 = sorted(t2)\n",
    "    return (t1,t2)"
   ]
  },
  {
   "cell_type": "code",
   "execution_count": 34,
   "metadata": {},
   "outputs": [
    {
     "name": "stdout",
     "output_type": "stream",
     "text": [
      "(1, 2, 3)\n",
      "(5, 2, 3)\n"
     ]
    }
   ],
   "source": [
    "def exercicio_5_1(l):\n",
    "    #Dada uma lista de números, a função transforma a lista em uma tupla.\n",
    "    tupla = ( )\n",
    "    for i in l:\n",
    "        tupla += i,\n",
    "    return (tupla)\n",
    "\n",
    "def exercicio_5_2(l):\n",
    "    t = tuple(l)\n",
    "    return (t)"
   ]
  },
  {
   "cell_type": "code",
   "execution_count": 37,
   "metadata": {},
   "outputs": [
    {
     "data": {
      "text/plain": [
       "[(10, 20, 100), (40, 50, 100), (70, 80, 100)]"
      ]
     },
     "execution_count": 37,
     "metadata": {},
     "output_type": "execute_result"
    }
   ],
   "source": [
    "def exercicio_6(l,n):\n",
    "    #Troca o último elemento de todas as tuplas em uma lista de tuplas\n",
    "    for tupla in l:\n",
    "        l2 = [tupla[:-1]+(n,) for tupla in l]\n",
    "    return(l2)"
   ]
  },
  {
   "cell_type": "code",
   "execution_count": 1,
   "metadata": {},
   "outputs": [
    {
     "data": {
      "text/plain": [
       "[((4, 1), (1, 4)),\n",
       " ((8, 2), (2, 8)),\n",
       " ((12, 3), (3, 12)),\n",
       " ((16, 4), (4, 16)),\n",
       " ((20, 5), (5, 20)),\n",
       " ((24, 6), (6, 24)),\n",
       " ((28, 7), (7, 28)),\n",
       " ((32, 8), (8, 32)),\n",
       " ((36, 9), (9, 36)),\n",
       " ((40, 10), (10, 40)),\n",
       " ((44, 11), (11, 44)),\n",
       " ((48, 12), (12, 48)),\n",
       " ((52, 13), (13, 52)),\n",
       " ((56, 14), (14, 56)),\n",
       " ((60, 15), (15, 60)),\n",
       " ((64, 16), (16, 64)),\n",
       " ((68, 17), (17, 68)),\n",
       " ((72, 18), (18, 72)),\n",
       " ((76, 19), (19, 76)),\n",
       " ((80, 20), (20, 80)),\n",
       " ((84, 21), (21, 84)),\n",
       " ((88, 22), (22, 88)),\n",
       " ((92, 23), (23, 92)),\n",
       " ((96, 24), (24, 96)),\n",
       " ((100, 25), (25, 100)),\n",
       " ((103, 26), (26, 103)),\n",
       " ((107, 27), (27, 107)),\n",
       " ((111, 28), (28, 111)),\n",
       " ((115, 29), (29, 115)),\n",
       " ((119, 30), (30, 119)),\n",
       " ((123, 31), (31, 123)),\n",
       " ((127, 32), (32, 127)),\n",
       " ((131, 33), (33, 131)),\n",
       " ((135, 34), (34, 135)),\n",
       " ((139, 35), (35, 139)),\n",
       " ((143, 36), (36, 143)),\n",
       " ((147, 37), (37, 147)),\n",
       " ((151, 38), (38, 151)),\n",
       " ((155, 39), (39, 155)),\n",
       " ((159, 40), (40, 159)),\n",
       " ((163, 41), (41, 163)),\n",
       " ((167, 42), (42, 167)),\n",
       " ((171, 43), (43, 171)),\n",
       " ((175, 44), (44, 175)),\n",
       " ((179, 45), (45, 179)),\n",
       " ((183, 46), (46, 183)),\n",
       " ((187, 47), (47, 187)),\n",
       " ((191, 48), (48, 191)),\n",
       " ((195, 49), (49, 195)),\n",
       " ((199, 50), (50, 199)),\n",
       " ((203, 51), (51, 203)),\n",
       " ((207, 52), (52, 207)),\n",
       " ((211, 53), (53, 211)),\n",
       " ((215, 54), (54, 215)),\n",
       " ((219, 55), (55, 219)),\n",
       " ((223, 56), (56, 223)),\n",
       " ((227, 57), (57, 227)),\n",
       " ((231, 58), (58, 231)),\n",
       " ((235, 59), (59, 235)),\n",
       " ((239, 60), (60, 239)),\n",
       " ((243, 61), (61, 243)),\n",
       " ((247, 62), (62, 247)),\n",
       " ((251, 63), (63, 251)),\n",
       " ((255, 64), (64, 255)),\n",
       " ((259, 65), (65, 259)),\n",
       " ((263, 66), (66, 263)),\n",
       " ((267, 67), (67, 267)),\n",
       " ((271, 68), (68, 271)),\n",
       " ((275, 69), (69, 275)),\n",
       " ((279, 70), (70, 279)),\n",
       " ((283, 71), (71, 283)),\n",
       " ((287, 72), (72, 287)),\n",
       " ((291, 73), (73, 291)),\n",
       " ((295, 74), (74, 295)),\n",
       " ((298, 75), (75, 298)),\n",
       " ((302, 76), (76, 302)),\n",
       " ((306, 77), (77, 306)),\n",
       " ((310, 78), (78, 310)),\n",
       " ((314, 79), (79, 314)),\n",
       " ((318, 80), (80, 318)),\n",
       " ((322, 81), (81, 322)),\n",
       " ((326, 82), (82, 326)),\n",
       " ((330, 83), (83, 330)),\n",
       " ((334, 84), (84, 334)),\n",
       " ((338, 85), (85, 338)),\n",
       " ((342, 86), (86, 342)),\n",
       " ((346, 87), (87, 346)),\n",
       " ((350, 88), (88, 350)),\n",
       " ((354, 89), (89, 354)),\n",
       " ((358, 90), (90, 358)),\n",
       " ((362, 91), (91, 362)),\n",
       " ((366, 92), (92, 366)),\n",
       " ((370, 93), (93, 370)),\n",
       " ((374, 94), (94, 374)),\n",
       " ((378, 95), (95, 378)),\n",
       " ((382, 96), (96, 382)),\n",
       " ((386, 97), (97, 386)),\n",
       " ((390, 98), (98, 390)),\n",
       " ((394, 99), (99, 394)),\n",
       " ((398, 100), (100, 398))]"
      ]
     },
     "execution_count": 1,
     "metadata": {},
     "output_type": "execute_result"
    }
   ],
   "source": [
    "def exercicio_7(cotacao):\n",
    "    #Fornece a conversão dólar-real dado um valor para a cotação do dólar.\n",
    "    real = [a for a in range (1,101)]\n",
    "    dolar = [a*cotacao for a in range (1,101)]\n",
    "    r1 = [(round(dolar[i]),round(real[i])) for i in range (0,len(real))]\n",
    "    r2 = [(round(real[i]),round(dolar[i])) for i in range (0,len(real))]\n",
    "    resultado = [(r1[i],r2[i]) for i in range (0,len(r1))]\n",
    "    return (resultado)"
   ]
  },
  {
   "cell_type": "code",
   "execution_count": null,
   "metadata": {},
   "outputs": [],
   "source": []
  }
 ],
 "metadata": {
  "kernelspec": {
   "display_name": "Python 3",
   "language": "python",
   "name": "python3"
  },
  "language_info": {
   "codemirror_mode": {
    "name": "ipython",
    "version": 3
   },
   "file_extension": ".py",
   "mimetype": "text/x-python",
   "name": "python",
   "nbconvert_exporter": "python",
   "pygments_lexer": "ipython3",
   "version": "3.7.1"
  }
 },
 "nbformat": 4,
 "nbformat_minor": 2
}
