{
 "cells": [
  {
   "cell_type": "code",
   "execution_count": 10,
   "metadata": {},
   "outputs": [],
   "source": [
    "def exercício_1(numero):\n",
    "    if numero<0:\n",
    "        print('Você entrou com um número negativo, entre com um natural')\n",
    "        return\n",
    "    listainteiros=list()\n",
    "    Listaquadrado=list()\n",
    "    for i in range(1, numero+1):\n",
    "        listainteiros.append(i)\n",
    "    Tupladeinteiros=tuple(listainteiros)\n",
    "    for i in range(1, numero+1):\n",
    "        Listaquadrado.append(i**2)\n",
    "    tupladequadrados=tuple(Listaquadrado)\n",
    "    return Tupladeinteiros,tupladequadrados\n",
    "#Outra forma que fiz a questão 1:\n",
    "#def exercício_1_forma2(numero):\n",
    "    #if numero<0:\n",
    "        #print('Você entrou com um número negativo, entre com um natural')\n",
    "        #return\n",
    "    #listainteiros=list()\n",
    "    #Listaquadrados=list()\n",
    "    #for i in range(1, numero+1):\n",
    "        #listainteiros.append(i)\n",
    "    #Tupladeinteiros=tuple(listainteiros)\n",
    "    #for i in range(1, numero+1):\n",
    "        #Listaquadrados.append(i**2)\n",
    "    #tupladequadrados=tuple(Listaquadrados)\n",
    "    #return str(Tupladeinteiros)+'\\n' + str(tupladequadrados)\n",
    "#def exercício_3(tupla1inteiros,tupla2quadrados):\n",
    "    #return str(tupla1inteiros)+'\\n' + str(tupla2quadrados)"
   ]
  },
  {
   "cell_type": "code",
   "execution_count": 3,
   "metadata": {},
   "outputs": [],
   "source": [
    "def exercício_2(numero):\n",
    "    if numero<0:\n",
    "        print('Você entrou com um número negativo, entre com um natural')\n",
    "        return\n",
    "    listainteiros=list()\n",
    "    Listaquadrado=list()\n",
    "    Listacubos=list()\n",
    "    for i in range(1, numero+1):\n",
    "        listainteiros.append(i)\n",
    "    Tupladeinteiros=tuple(listainteiros)\n",
    "    for i in range(1, numero+1):\n",
    "        Listaquadrado.append(i**2)\n",
    "    tupladequadrados=tuple(Listaquadrado)\n",
    "    for i in range(1, numero+1):\n",
    "        Listacubos.append(i**3)\n",
    "    tupladecubos=tuple(Listacubos)\n",
    "    return Tupladeinteiros,tupladequadrados,tupladecubos\n",
    "#Outra forma que fiz a questão 2:\n",
    "#def exercício_2_forma2(numero):\n",
    "    #if numero<0:\n",
    "        #print('Você entrou com um número negativo, entre com um natural')\n",
    "        #return\n",
    "    #listainteiros=list()\n",
    "    #Listaquadrados=list()\n",
    "    #for i in range(1, numero+1):\n",
    "        #listainteiros.append(i)\n",
    "    #Tupladeinteiros=tuple(listainteiros)\n",
    "    #for i in range(1, numero+1):\n",
    "        #Listaquadrados.append(i**2)\n",
    "    #tupladequadrados=tuple(Listaquadrados)\n",
    "    #for i in range(1, numero+1):\n",
    "        #Listacubos.append(i**3)\n",
    "    #tupladecubos=tuple(Listacubos)\n",
    "    #return Tupladeinteiros,tupladequadrados,tupladecubos\n",
    "#def exercício_3(tupla1inteiros,tupla2quadrados,tupla3cubos):\n",
    "    #return str(tupla1inteiros)+'\\n' + str(tupla2quadrados)+'\\n' + str(tupla3cubos)"
   ]
  },
  {
   "cell_type": "code",
   "execution_count": 5,
   "metadata": {},
   "outputs": [],
   "source": [
    "def exercício_3(tupla):\n",
    "    x=str(tupla[:(int(len(tupla)/2))])\n",
    "    y=str(tupla[(int(len(tupla)/2)):])\n",
    "    a= x+'\\n' + y\n",
    "    return a"
   ]
  },
  {
   "cell_type": "code",
   "execution_count": 6,
   "metadata": {},
   "outputs": [],
   "source": [
    "def exercício_4(ntamanho):\n",
    "    ntamanho=int(input('Digite o tamanho da sua lista: '))\n",
    "    pares=()\n",
    "    impares=()\n",
    "    Numerosdalistadetuplas=list()\n",
    "    for i in range (0,ntamanho):\n",
    "        Numerosdalistadetuplas.append(int(input('Digite um numero da lista: ')))\n",
    "    lista=list(Numerosdalistadetuplas)\n",
    "    T=tuple(lista)\n",
    "    for valores in T:\n",
    "        if valores%2==0:\n",
    "            pares+=valores,\n",
    "        if valores%2!=0:\n",
    "            impares+= valores,\n",
    "    return pares,impares\n",
    "def exercício_3(tupla1pares,tupla2impares):\n",
    "    return str(tupla1pares)+'\\n' + str(tupla2impares)\n",
    "#Outra forma que fiz a questão 4:\n",
    "#def exercício_4_forma2(ntamanho):\n",
    "    #ntamanho=int(input('Digite o tamanho da sua lista: '))\n",
    "    #pares=()\n",
    "    #impares=()\n",
    "    #Numerosdalistadetuplas=list()\n",
    "    #for i in range (0,ntamanho):\n",
    "        #Numerosdalistadetuplas.append(int(input('Digite um numero da lista: ')))\n",
    "    #lista=list(Numerosdalistadetuplas)\n",
    "    #T=tuple(lista)\n",
    "    #for valores in T:\n",
    "        #if valores%2==0:\n",
    "            #pares+=valores,\n",
    "        #if valores%2!=0:\n",
    "            #impares+= valores,\n",
    "    #return pares,impares"
   ]
  },
  {
   "cell_type": "code",
   "execution_count": 7,
   "metadata": {},
   "outputs": [],
   "source": [
    "def exercício_5_1(ntamanho):\n",
    "    Numerosdalistadetuplas=list()\n",
    "    for i in range (0,ntamanho):\n",
    "        Numerosdalistadetuplas.append(int(input('Digite um numero da lista: ')))\n",
    "    lista=list(Numerosdalistadetuplas)\n",
    "    T=tuple(lista)\n",
    "    return T"
   ]
  },
  {
   "cell_type": "code",
   "execution_count": null,
   "metadata": {},
   "outputs": [],
   "source": [
    "def exercício_5_2(listaqualquer):\n",
    "    listaqualquer=[0,2,9,29,43]\n",
    "    tupla=()\n",
    "    for elemento in listaqualquer:\n",
    "        tupla += elemento,\n",
    "    return tupla"
   ]
  },
  {
   "cell_type": "code",
   "execution_count": null,
   "metadata": {},
   "outputs": [],
   "source": [
    "def exercício_6(lista):\n",
    "    lista[0]=(10,20,100)\n",
    "    lista[1]=(40,50,100)\n",
    "    lista[2]=(70,80,100)\n",
    "    return lista"
   ]
  },
  {
   "cell_type": "code",
   "execution_count": 11,
   "metadata": {},
   "outputs": [],
   "source": [
    "def exercício_7(cotação):\n",
    "    '%.2f'%cotaçãodólar\n",
    "    tupla=()\n",
    "    print(\"           Real/Dolar                  Dolar/Real\")\n",
    "    for y in range(1,100+1):\n",
    "        a=(\"US$ %.2F = R$ %.2F\"%(y,y*cotaçãodólar), \"   R$%.2f = US$ %.2f\"%(y,y/cotaçãodólar))\n",
    "        b=(\"-\"*19,\" \",\"-\"*19)\n",
    "    return a,b"
   ]
  }
 ],
 "metadata": {
  "kernelspec": {
   "display_name": "Python 3",
   "language": "python",
   "name": "python3"
  },
  "language_info": {
   "codemirror_mode": {
    "name": "ipython",
    "version": 3
   },
   "file_extension": ".py",
   "mimetype": "text/x-python",
   "name": "python",
   "nbconvert_exporter": "python",
   "pygments_lexer": "ipython3",
   "version": "3.7.1"
  }
 },
 "nbformat": 4,
 "nbformat_minor": 2
}
