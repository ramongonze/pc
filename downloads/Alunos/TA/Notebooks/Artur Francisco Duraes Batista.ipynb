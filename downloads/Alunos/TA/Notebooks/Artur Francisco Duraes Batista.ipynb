{
 "cells": [
  {
   "cell_type": "markdown",
   "metadata": {},
   "source": [
    "Questão 01"
   ]
  },
  {
   "cell_type": "code",
   "execution_count": 1,
   "metadata": {},
   "outputs": [
    {
     "name": "stdout",
     "output_type": "stream",
     "text": [
      "Digite um número natural: 5\n",
      "[1, 2, 3, 4, 5, 1, 4, 9, 16, 25]\n"
     ]
    }
   ],
   "source": [
    "n = int(input(\"Digite um número natural: \"))\n",
    "Exercício_9_1_tupla1 = tuple(range(1,n+1))\n",
    "Exercício_9_1_tupla2 = ()\n",
    "for i in Exercício_9_1_tupla1 :\n",
    "    Exercício_9_1_tupla2 += (i*i,)\n",
    "Exercício_9_1_lista_tuplas = list(Exercício_9_1_tupla1+Exercício_9_1_tupla2)\n",
    "print(Exercício_9_1_lista_tuplas)\n"
   ]
  },
  {
   "cell_type": "markdown",
   "metadata": {},
   "source": [
    "Questão 02"
   ]
  },
  {
   "cell_type": "code",
   "execution_count": 2,
   "metadata": {},
   "outputs": [
    {
     "name": "stdout",
     "output_type": "stream",
     "text": [
      "Digite um número natural: 3\n",
      "[1, 2, 3, 1, 4, 9, 1, 8, 27]\n"
     ]
    }
   ],
   "source": [
    "n = int(input(\"Digite um número natural: \"))\n",
    "Exercício_9_2_tupla1 = tuple(range(1,n+1))\n",
    "Exercício_9_2_tupla2 = ()\n",
    "Exercício_9_2_tupla3 = ()\n",
    "for i in Exercício_9_2_tupla1 :\n",
    "    Exercício_9_2_tupla2 += (i*i,)\n",
    "for i in Exercício_9_2_tupla1 :\n",
    "    Exercício_9_2_tupla3 += (i*i*i,)\n",
    "Exercício_9_2_lista_tuplas = list(Exercício_9_2_tupla1+Exercício_9_2_tupla2+Exercício_9_2_tupla3)\n",
    "print(Exercício_9_2_lista_tuplas)"
   ]
  },
  {
   "cell_type": "markdown",
   "metadata": {},
   "source": [
    "Questão 03"
   ]
  },
  {
   "cell_type": "code",
   "execution_count": 3,
   "metadata": {},
   "outputs": [
    {
     "name": "stdout",
     "output_type": "stream",
     "text": [
      "(1, 2, 3, 4, 5)\n",
      "(6, 7, 8, 9, 10)\n"
     ]
    }
   ],
   "source": [
    "Exercício_9_3_tupla_original = tuple(range(1,11))\n",
    "len(Exercício_9_3_tupla_original)\n",
    "Exercício_9_3_tupla_metade1 = ()\n",
    "Exercício_9_3_tupla_metade2 = ()\n",
    "for i in range(1,6) :\n",
    "    Exercício_9_3_tupla_metade1 += (i,)\n",
    "for i in range(6,11) :\n",
    "    Exercício_9_3_tupla_metade2 += (i,)\n",
    "print(Exercício_9_3_tupla_metade1)\n",
    "print(Exercício_9_3_tupla_metade2)\n"
   ]
  },
  {
   "cell_type": "markdown",
   "metadata": {},
   "source": [
    "Questão 04"
   ]
  },
  {
   "cell_type": "code",
   "execution_count": 4,
   "metadata": {},
   "outputs": [
    {
     "name": "stdout",
     "output_type": "stream",
     "text": [
      "(2, 4, 6, 8, 10)\n",
      "(3, 5, 7, 9)\n"
     ]
    }
   ],
   "source": [
    "Exercício_9_4_tupla_original = tuple(range(2,11))\n",
    "Exercício_9_4_tupla_par = ()\n",
    "Exercício_9_4_tupla_impar = ()\n",
    "for i in range(2,11):\n",
    "    if i % 2 == 0:\n",
    "        Exercício_9_4_tupla_par += (i,)\n",
    "    if i % 2 == 1:\n",
    "        Exercício_9_4_tupla_impar += (i,)\n",
    "print(Exercício_9_4_tupla_par)\n",
    "print(Exercício_9_4_tupla_impar)\n"
   ]
  },
  {
   "cell_type": "markdown",
   "metadata": {},
   "source": [
    "Questão 05"
   ]
  },
  {
   "cell_type": "markdown",
   "metadata": {},
   "source": [
    "Primeira maneira"
   ]
  },
  {
   "cell_type": "code",
   "execution_count": 5,
   "metadata": {},
   "outputs": [
    {
     "name": "stdout",
     "output_type": "stream",
     "text": [
      "(1, 2, 3, 4, 5)\n"
     ]
    }
   ],
   "source": [
    "Exercício_9_5_1_lista = [1,2,3,4,5]\n",
    "Exercício_9_5_1_tupla = tuple(Exercício_9_5_1_lista)\n",
    "print(Exercício_9_5_1_tupla)\n"
   ]
  },
  {
   "cell_type": "markdown",
   "metadata": {},
   "source": [
    "Segunda maneira"
   ]
  },
  {
   "cell_type": "code",
   "execution_count": 6,
   "metadata": {},
   "outputs": [
    {
     "name": "stdout",
     "output_type": "stream",
     "text": [
      "(0, 1, 2, 3, 4, 5)\n"
     ]
    }
   ],
   "source": [
    "Exercício_9_5_2_tupla = ()\n",
    "for i in range(0,6):\n",
    "    Exercício_9_5_2_tupla += (i,)\n",
    "print(Exercício_9_5_2_tupla)\n"
   ]
  },
  {
   "cell_type": "markdown",
   "metadata": {},
   "source": [
    "Criação de tupla em uma faixa a partir de uma tupla vazia"
   ]
  },
  {
   "cell_type": "markdown",
   "metadata": {},
   "source": [
    "Questão 06"
   ]
  },
  {
   "cell_type": "code",
   "execution_count": 7,
   "metadata": {},
   "outputs": [
    {
     "name": "stdout",
     "output_type": "stream",
     "text": [
      "[(10, 20, 100), (40, 50, 100), (70, 80, 100)]\n"
     ]
    }
   ],
   "source": [
    "Exercício_9_6_lista = [(10,20,40),(40,50,60),(70,80,90)]\n",
    "Exercício_9_6_lista1 = []\n",
    "for i in Exercício_9_6_lista :\n",
    "    Exercício_9_6_lista1 += [i[:-1] + (100,)]\n",
    "print(Exercício_9_6_lista1)"
   ]
  }
 ],
 "metadata": {
  "kernelspec": {
   "display_name": "Python 3",
   "language": "python",
   "name": "python3"
  },
  "language_info": {
   "codemirror_mode": {
    "name": "ipython",
    "version": 3
   },
   "file_extension": ".py",
   "mimetype": "text/x-python",
   "name": "python",
   "nbconvert_exporter": "python",
   "pygments_lexer": "ipython3",
   "version": "3.6.5"
  }
 },
 "nbformat": 4,
 "nbformat_minor": 2
}
