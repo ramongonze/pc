{
 "cells": [
  {
   "cell_type": "code",
   "execution_count": 8,
   "metadata": {},
   "outputs": [
    {
     "ename": "SyntaxError",
     "evalue": "invalid syntax (<ipython-input-8-5fa4ab1ebb6f>, line 1)",
     "output_type": "error",
     "traceback": [
      "\u001b[1;36m  File \u001b[1;32m\"<ipython-input-8-5fa4ab1ebb6f>\"\u001b[1;36m, line \u001b[1;32m1\u001b[0m\n\u001b[1;33m    def exercicio_1(7)\u001b[0m\n\u001b[1;37m                    ^\u001b[0m\n\u001b[1;31mSyntaxError\u001b[0m\u001b[1;31m:\u001b[0m invalid syntax\n"
     ]
    }
   ],
   "source": [
    "def exercicio_1(7)\n",
    "    n == 7\n",
    "    numeros = tuple (range(1,n))\n",
    "    quadrados = tuple (numeros*numeros for numeros in numeros)\n",
    "    mista = [numeros, quadrados]\n",
    "    print(mista)\n"
   ]
  },
  {
   "cell_type": "code",
   "execution_count": 13,
   "metadata": {},
   "outputs": [
    {
     "ename": "IndentationError",
     "evalue": "unexpected indent (<ipython-input-13-a64cdc12113e>, line 2)",
     "output_type": "error",
     "traceback": [
      "\u001b[1;36m  File \u001b[1;32m\"<ipython-input-13-a64cdc12113e>\"\u001b[1;36m, line \u001b[1;32m2\u001b[0m\n\u001b[1;33m    n == 7\u001b[0m\n\u001b[1;37m    ^\u001b[0m\n\u001b[1;31mIndentationError\u001b[0m\u001b[1;31m:\u001b[0m unexpected indent\n"
     ]
    }
   ],
   "source": [
    "def exercicio_2(n)\n",
    "    n == 7\n",
    "    numeros = tuple (range(1,n))\n",
    "    quadrados = tuple (numeros*numeros for numeros in numeros)\n",
    "    cubos = tuple (numeros*numeros*numeros for numeros in numeros)\n",
    "    mista = [numeros, quadrados, cubos]\n",
    "    print (mista)"
   ]
  },
  {
   "cell_type": "code",
   "execution_count": 12,
   "metadata": {},
   "outputs": [
    {
     "ename": "SyntaxError",
     "evalue": "invalid syntax (<ipython-input-12-01e9dd1074ab>, line 1)",
     "output_type": "error",
     "traceback": [
      "\u001b[1;36m  File \u001b[1;32m\"<ipython-input-12-01e9dd1074ab>\"\u001b[1;36m, line \u001b[1;32m1\u001b[0m\n\u001b[1;33m    def exercicio_3()\u001b[0m\n\u001b[1;37m                     ^\u001b[0m\n\u001b[1;31mSyntaxError\u001b[0m\u001b[1;31m:\u001b[0m invalid syntax\n"
     ]
    }
   ],
   "source": [
    "def exercicio_3()\n",
    "    tuple=(1,2,3,4,5,6,7,8,9,10)\n",
    "    print(tuple[0:5])\n",
    "    print(tuple[5:10])"
   ]
  },
  {
   "cell_type": "code",
   "execution_count": 14,
   "metadata": {},
   "outputs": [
    {
     "ename": "SyntaxError",
     "evalue": "invalid syntax (<ipython-input-14-6862aa1c58ec>, line 1)",
     "output_type": "error",
     "traceback": [
      "\u001b[1;36m  File \u001b[1;32m\"<ipython-input-14-6862aa1c58ec>\"\u001b[1;36m, line \u001b[1;32m1\u001b[0m\n\u001b[1;33m    def exercicio_4(t)\u001b[0m\n\u001b[1;37m                      ^\u001b[0m\n\u001b[1;31mSyntaxError\u001b[0m\u001b[1;31m:\u001b[0m invalid syntax\n"
     ]
    }
   ],
   "source": [
    "def exercicio_4(t)\n",
    "    def encontra_impares( tupla ):\n",
    "\n",
    "    lista = []\n",
    "\n",
    "    for n in tupla:\n",
    "        if n % 2 != 0:\n",
    "            lista.append(n)\n",
    "\n",
    "    return lista\n",
    "\n",
    "\n",
    "    tpl = (1,2,3,4,5,6,7,8,9)\n",
    "    lst = encontra_impares( tpl )\n",
    "\n",
    "    def encontra_pares( tupla ):\n",
    "\n",
    "        list2 = []\n",
    "\n",
    "        for t in tupla:\n",
    "            if t % 2 == 0:\n",
    "                list2.append(t)\n",
    "\n",
    "        return list2\n",
    "\n",
    "\n",
    "    tpl = (1,2,3,4,5,6,7,8,9)\n",
    "    lst2 = encontra_pares( tpl )\n",
    "\n",
    "    print(lst2)\n",
    "    print(lst)"
   ]
  },
  {
   "cell_type": "code",
   "execution_count": 15,
   "metadata": {},
   "outputs": [
    {
     "ename": "SyntaxError",
     "evalue": "invalid syntax (<ipython-input-15-e05c58ce1341>, line 1)",
     "output_type": "error",
     "traceback": [
      "\u001b[1;36m  File \u001b[1;32m\"<ipython-input-15-e05c58ce1341>\"\u001b[1;36m, line \u001b[1;32m1\u001b[0m\n\u001b[1;33m    def exercicio_5_1(1)\u001b[0m\n\u001b[1;37m                      ^\u001b[0m\n\u001b[1;31mSyntaxError\u001b[0m\u001b[1;31m:\u001b[0m invalid syntax\n"
     ]
    }
   ],
   "source": [
    "def exercicio_5_1(1)\n",
    "    li = [0,1,2,3,4,5,6]\n",
    "    tuple = ()\n",
    "    tuple = li\n",
    "    print(tuple)"
   ]
  },
  {
   "cell_type": "code",
   "execution_count": 16,
   "metadata": {},
   "outputs": [
    {
     "ename": "SyntaxError",
     "evalue": "invalid syntax (<ipython-input-16-fecfdca46971>, line 1)",
     "output_type": "error",
     "traceback": [
      "\u001b[1;36m  File \u001b[1;32m\"<ipython-input-16-fecfdca46971>\"\u001b[1;36m, line \u001b[1;32m1\u001b[0m\n\u001b[1;33m    def exercicio_5_2(1)\u001b[0m\n\u001b[1;37m                      ^\u001b[0m\n\u001b[1;31mSyntaxError\u001b[0m\u001b[1;31m:\u001b[0m invalid syntax\n"
     ]
    }
   ],
   "source": [
    "def exercicio_5_2(1)\n",
    "    lista=(0,1,2,3,4,5,6)\n",
    "    print(tuple(lista))"
   ]
  },
  {
   "cell_type": "code",
   "execution_count": 17,
   "metadata": {},
   "outputs": [
    {
     "ename": "SyntaxError",
     "evalue": "invalid syntax (<ipython-input-17-64e272bb1723>, line 1)",
     "output_type": "error",
     "traceback": [
      "\u001b[1;36m  File \u001b[1;32m\"<ipython-input-17-64e272bb1723>\"\u001b[1;36m, line \u001b[1;32m1\u001b[0m\n\u001b[1;33m    def exercicio_6(1,n)\u001b[0m\n\u001b[1;37m                    ^\u001b[0m\n\u001b[1;31mSyntaxError\u001b[0m\u001b[1;31m:\u001b[0m invalid syntax\n"
     ]
    }
   ],
   "source": [
    "def exercicio_6(1,n)\n",
    "    tuple = ([12,56,5],[0,71,43],[26,81,100])\n",
    "    print (tuple)\n",
    "    n = int (input(\"Número para substituir o último: \"))\n",
    "    for listas in tuple:\n",
    "        listas.pop()\n",
    "        listas.append(n)\n",
    "    print (tuple)"
   ]
  },
  {
   "cell_type": "code",
   "execution_count": null,
   "metadata": {},
   "outputs": [],
   "source": []
  }
 ],
 "metadata": {
  "kernelspec": {
   "display_name": "Python 3",
   "language": "python",
   "name": "python3"
  },
  "language_info": {
   "codemirror_mode": {
    "name": "ipython",
    "version": 3
   },
   "file_extension": ".py",
   "mimetype": "text/x-python",
   "name": "python",
   "nbconvert_exporter": "python",
   "pygments_lexer": "ipython3",
   "version": "3.7.1"
  }
 },
 "nbformat": 4,
 "nbformat_minor": 2
}
