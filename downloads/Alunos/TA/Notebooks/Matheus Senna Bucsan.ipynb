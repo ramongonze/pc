{
 "cells": [
  {
   "cell_type": "code",
   "execution_count": 25,
   "metadata": {},
   "outputs": [],
   "source": [
    "def exercicio_1():\n",
    "    x=3\n",
    "    lista=list(range(1,x+1))\n",
    "    a=lista\n",
    "    quadrado = tuple(a*a for a in a)\n",
    "    mista = [lista, quadrado]\n",
    "    print (mista)"
   ]
  },
  {
   "cell_type": "code",
   "execution_count": 26,
   "metadata": {},
   "outputs": [
    {
     "name": "stdout",
     "output_type": "stream",
     "text": [
      "[[1, 2, 3], (1, 4, 9)]\n"
     ]
    }
   ],
   "source": [
    "exercicio_1()"
   ]
  },
  {
   "cell_type": "code",
   "execution_count": 35,
   "metadata": {},
   "outputs": [],
   "source": [
    "def exercicio_2():\n",
    "    x=3\n",
    "    lista=list(range(1,x+1))\n",
    "    a=lista\n",
    "    q = tuple(a*a for a in a)\n",
    "    c = tuple(a*a*a for a in a)\n",
    "    mista = [a, q, c]\n",
    "    print (mista)"
   ]
  },
  {
   "cell_type": "code",
   "execution_count": 36,
   "metadata": {},
   "outputs": [
    {
     "name": "stdout",
     "output_type": "stream",
     "text": [
      "[[1, 2, 3], (1, 4, 9), (1, 8, 27)]\n"
     ]
    }
   ],
   "source": [
    "exercicio_2()"
   ]
  },
  {
   "cell_type": "code",
   "execution_count": 70,
   "metadata": {},
   "outputs": [],
   "source": [
    "def exercicio_3():\n",
    "    lista = \"1 2 3 4 5 6 7 8 9 10\"\n",
    "    print(lista[0:9])\n",
    "    print(lista[10:21])"
   ]
  },
  {
   "cell_type": "code",
   "execution_count": 71,
   "metadata": {},
   "outputs": [
    {
     "name": "stdout",
     "output_type": "stream",
     "text": [
      "1 2 3 4 5\n",
      "6 7 8 9 10\n"
     ]
    }
   ],
   "source": [
    "exercicio_3()"
   ]
  },
  {
   "cell_type": "code",
   "execution_count": 150,
   "metadata": {},
   "outputs": [],
   "source": [
    "def exercicio_4():\n",
    "    tupla = [1, 2, 3, 4, 5, 6, 7, 8, 9]\n",
    "    print(tupla[::2])\n",
    "    lista = []\n",
    "    if lista "
   ]
  },
  {
   "cell_type": "code",
   "execution_count": 151,
   "metadata": {},
   "outputs": [
    {
     "name": "stdout",
     "output_type": "stream",
     "text": [
      "[1, 3, 5, 7, 9]\n"
     ]
    }
   ],
   "source": [
    "exercicio_4()"
   ]
  },
  {
   "cell_type": "code",
   "execution_count": 208,
   "metadata": {},
   "outputs": [],
   "source": [
    "def exercicio_5_1():\n",
    "    lista = (1,2,3,4,5,6)\n",
    "    tupla = lista[::-1]\n",
    "    print(tupla)"
   ]
  },
  {
   "cell_type": "code",
   "execution_count": 209,
   "metadata": {},
   "outputs": [
    {
     "name": "stdout",
     "output_type": "stream",
     "text": [
      "(6, 5, 4, 3, 2, 1)\n"
     ]
    }
   ],
   "source": [
    "exercicio_5_1()"
   ]
  },
  {
   "cell_type": "code",
   "execution_count": 218,
   "metadata": {},
   "outputs": [],
   "source": [
    "def exercicio_5_2():   \n",
    "    lista = (1,2,3,4,5,6)\n",
    "    tupla = lista[::2]\n",
    "    print(tupla)"
   ]
  },
  {
   "cell_type": "code",
   "execution_count": 219,
   "metadata": {},
   "outputs": [
    {
     "name": "stdout",
     "output_type": "stream",
     "text": [
      "(1, 3, 5)\n"
     ]
    }
   ],
   "source": [
    "exercicio_5_2()"
   ]
  },
  {
   "cell_type": "code",
   "execution_count": 204,
   "metadata": {},
   "outputs": [],
   "source": [
    "def exercicio_6():\n",
    "    listas = [(40, 80, 120), (50, 90, 150), (110, 150, 200)]\n",
    "    print([s[:-1] + (200,) for s in listas])"
   ]
  },
  {
   "cell_type": "code",
   "execution_count": 205,
   "metadata": {},
   "outputs": [
    {
     "name": "stdout",
     "output_type": "stream",
     "text": [
      "[(40, 80, 200), (50, 90, 200), (110, 150, 200)]\n"
     ]
    }
   ],
   "source": [
    "exercicio_6()"
   ]
  },
  {
   "cell_type": "code",
   "execution_count": null,
   "metadata": {},
   "outputs": [],
   "source": []
  },
  {
   "cell_type": "code",
   "execution_count": null,
   "metadata": {},
   "outputs": [],
   "source": []
  }
 ],
 "metadata": {
  "kernelspec": {
   "display_name": "Python 3",
   "language": "python",
   "name": "python3"
  },
  "language_info": {
   "codemirror_mode": {
    "name": "ipython",
    "version": 3
   },
   "file_extension": ".py",
   "mimetype": "text/x-python",
   "name": "python",
   "nbconvert_exporter": "python",
   "pygments_lexer": "ipython3",
   "version": "3.7.1"
  }
 },
 "nbformat": 4,
 "nbformat_minor": 2
}
