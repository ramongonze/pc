{
 "cells": [
  {
   "cell_type": "code",
   "execution_count": 35,
   "metadata": {},
   "outputs": [
    {
     "name": "stdout",
     "output_type": "stream",
     "text": [
      "Insira um valor inteiro positivo:10\n",
      "[(1, 1), (2, 4), (3, 9), (4, 16), (5, 25), (6, 36), (7, 49), (8, 64), (9, 81), (10, 100)]\n"
     ]
    }
   ],
   "source": [
    "#atividade 1\n",
    "def exercicio_1(n):\n",
    "    \"\"\" Função que lê um valor n e gera uma lista de tuplas formada pelos\n",
    "    inteiros de 1 a n e seus quadrados\n",
    "    \"\"\"\n",
    "    lista = []\n",
    "    if n > 0:\n",
    "        for a in range(1,n+1):\n",
    "            tupla = (a, (a*a))\n",
    "            lista.append(tupla)\n",
    "    return lista"
   ]
  },
  {
   "cell_type": "code",
   "execution_count": 75,
   "metadata": {},
   "outputs": [
    {
     "name": "stdout",
     "output_type": "stream",
     "text": [
      "Insira um valor inteiro positivo:4\n",
      "[(1, 1, 1), (2, 4, 8), (3, 9, 27), (4, 16, 64)]\n"
     ]
    }
   ],
   "source": [
    "#atividade 2\n",
    "def exercicio_2(n):\n",
    "    \"\"\" Função que lê um valor n e gera uma lista de tuplas formada pelos\n",
    "    inteiros de 1 a n, seus quadrados e seus cubos\n",
    "    \"\"\"\n",
    "    lista = []\n",
    "    if n > 0:\n",
    "        for a in range(1,n+1):\n",
    "            tupla = (a, (a*a), (a*a*a))\n",
    "            lista.append(tupla)\n",
    "    return lista"
   ]
  },
  {
   "cell_type": "code",
   "execution_count": 5,
   "metadata": {},
   "outputs": [
    {
     "name": "stdout",
     "output_type": "stream",
     "text": [
      "(1, 2, 3, 4, 5)\n",
      "(6, 7, 8, 9, 10)\n"
     ]
    }
   ],
   "source": [
    "#atividade 3\n",
    "def exercicio_3(t):\n",
    "    \"\"\" Função que lê uma tupla n e imprime metade dos valores dela em\n",
    "    uma linha e metade em outra.\n",
    "    \"\"\"\n",
    "    tupla1 = ()\n",
    "    tupla2 = ()\n",
    "    media = int((len(t)/2))\n",
    "    fim = int(len(t))\n",
    "    for a in range (1,media+1):\n",
    "        tupla1 += a,\n",
    "    for b in range (media+1,fim + 1):\n",
    "        tupla2 += b,\n",
    "    tupla_quebrada = \"%s\\n%s\"%(tupla1, tupla2)\n",
    "    return tupla_quebrada"
   ]
  },
  {
   "cell_type": "code",
   "execution_count": 8,
   "metadata": {},
   "outputs": [
    {
     "name": "stdout",
     "output_type": "stream",
     "text": [
      "(1, 3, 5)\n"
     ]
    }
   ],
   "source": [
    "#atividade 4\n",
    "def exercicio_4(t):\n",
    "    \"\"\" Função que lê uma tupla n e imprime uma tupla com os valores pares e\n",
    "    outra com valores ímpares da original.\n",
    "    \"\"\"\n",
    "    tupla1 = ()\n",
    "    tupla2 = ()\n",
    "    for c in t:\n",
    "        if c % 2 == 0:\n",
    "            tupla1 += c,\n",
    "        else:\n",
    "            tupla2 += c,\n",
    "    return tupla1, tupla2"
   ]
  },
  {
   "cell_type": "code",
   "execution_count": 10,
   "metadata": {},
   "outputs": [
    {
     "name": "stdout",
     "output_type": "stream",
     "text": [
      "(1, 2, 3, 4, 5, 6, 7, 8, 9, 10)\n",
      "(1, 2, 3, 4, 5, 6, 7, 8, 9, 10)\n"
     ]
    }
   ],
   "source": [
    "#atividade 5\n",
    "def exercicio_5_1(l):\n",
    "    \"\"\" Função que lê uma lista n e imprime uma tupla a partir de n,\n",
    "    \"\"\"\n",
    "    tupla1 = ()\n",
    "    for d in l:\n",
    "        tupla1 += d,\n",
    "    return tupla1\n",
    "\n",
    "def exercicio_5_2(l):\n",
    "    \"\"\" Função que lê uma lista n e imprime uma tupla a partir de n\n",
    "    \"\"\"\n",
    "    tupla2 = ()\n",
    "    for e in range(0,len(l)):\n",
    "        tupla2 += l[e],\n",
    "    return tupla2"
   ]
  },
  {
   "cell_type": "code",
   "execution_count": 15,
   "metadata": {},
   "outputs": [
    {
     "name": "stdout",
     "output_type": "stream",
     "text": [
      "[(1, 2, 'birl'), ('a', 'birl'), ('g', 8, 'k', 'birl')]\n"
     ]
    }
   ],
   "source": [
    "#atividade 6\n",
    "lista = [(1,2,3),(\"a\",\"b\"),(\"g\",8,\"k\",10)]\n",
    "def exercicio_6(l, n):\n",
    "    \"\"\" Função que lê uma lista de tuplas l as imprime, mas com o último\n",
    "    valor de cada tupla trocado por n\n",
    "    \"\"\"\n",
    "    for f in range(0,len(l)):\n",
    "        lista_copia = list(l[f])\n",
    "        lista_copia[((len(lista_copia))-1)] = n\n",
    "        nova_tupla = ()\n",
    "        for g in lista_copia:\n",
    "            nova_tupla += g,\n",
    "        l[f] = nova_tupla\n",
    "    return l"
   ]
  },
  {
   "cell_type": "code",
   "execution_count": 46,
   "metadata": {},
   "outputs": [],
   "source": [
    "#atividade 7\n",
    "def exercicio_7(cotacao):\n",
    "    \"\"\" Função cria uma tabela com a cotação do dolar em real, n , fornecida na entrada, \n",
    "    para valores de 1 a 100 dólares e vice-versa\n",
    "    \"\"\"\n",
    "    lista_dolar = []\n",
    "    lista_real = []\n",
    "    resultado = \"\"\n",
    "    for g in range(1,101):\n",
    "        g_em_real = g*cotacao\n",
    "        tupla_arbitraria = (g,g_em_real)\n",
    "        lista_dolar.append(tupla_arbitraria)\n",
    "    for h in range(1,101):\n",
    "        h_em_dolar = h/cotacao\n",
    "        tupla_arbitraria = (h,h_em_dolar)\n",
    "        lista_real.append(tupla_arbitraria)\n",
    "    for i in range(0,100):\n",
    "        tupla = ((\"US$%6.2f R$%6.2f\" %(lista_dolar[i][0],lista_dolar[i][1])),(\"R$%6.2f US$%6.2f\" %(lista_real[i][0],lista_real[i][1])))\n",
    "        a = (\"%18s   %s\" %(tupla[0], tupla[1]))\n",
    "        b = \"------------------   ------------------\"\n",
    "        resultado += \"%s\\n%s\\n\"%(a,b)\n",
    "    return resultado"
   ]
  },
  {
   "cell_type": "code",
   "execution_count": null,
   "metadata": {},
   "outputs": [],
   "source": []
  }
 ],
 "metadata": {
  "kernelspec": {
   "display_name": "Python 3",
   "language": "python",
   "name": "python3"
  },
  "language_info": {
   "codemirror_mode": {
    "name": "ipython",
    "version": 3
   },
   "file_extension": ".py",
   "mimetype": "text/x-python",
   "name": "python",
   "nbconvert_exporter": "python",
   "pygments_lexer": "ipython3",
   "version": "3.7.1"
  }
 },
 "nbformat": 4,
 "nbformat_minor": 2
}
