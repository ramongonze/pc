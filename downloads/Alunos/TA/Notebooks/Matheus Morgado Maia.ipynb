{
 "cells": [
  {
   "cell_type": "code",
   "execution_count": null,
   "metadata": {},
   "outputs": [],
   "source": [
    "exercicio_1=[]\n",
    "n=(int(input(\"Insira o número de inteiros: \")))\n",
    "\n",
    "for a in range(1,n+1):\n",
    "     exercicio_1.append((a,a**2))\n",
    "\n",
    "print(\"\\nInteiros e seus quadrados:\\n\" , exercicio_1)"
   ]
  },
  {
   "cell_type": "code",
   "execution_count": null,
   "metadata": {},
   "outputs": [],
   "source": [
    "exercicio_2=[]\n",
    "n=(int(input(\"Insira o número de inteiros: \")))\n",
    "\n",
    "for a in range(1,n+1):\n",
    "    \n",
    "    exercicio_2.append((a,a**2,a**3))\n",
    "\n",
    "print(\"\\nInteiros, seus quadrados e seus cubos:\\n\", exercicio_2)"
   ]
  },
  {
   "cell_type": "code",
   "execution_count": null,
   "metadata": {},
   "outputs": [],
   "source": [
    "exercicio_3=(1,2,3,4,5,6,7,8,9,10)\n",
    "\n",
    "meio=len(exercicio_3)//2\n",
    "\n",
    "print(\"*A primeira metade:\",  exercicio_3[0:meio])\n",
    "\n",
    "print(\"\\n*A outra metade:\",  exercicio_3[meio:])"
   ]
  },
  {
   "cell_type": "code",
   "execution_count": null,
   "metadata": {},
   "outputs": [],
   "source": [
    "exercicio_4=(int(input(\"Entre com o número de elementos da tupla: \")))\n",
    "\n",
    "t1=[x for x in range(exercicio_4) if x % 2 == 0]\n",
    "\n",
    "t2=[x for x in range(exercicio_4) if x % 2 != 0]\n",
    "\n",
    "print(\"\\nPares: \",t1)\n",
    "\n",
    "print(\"\\nÍmpares: \",t2)"
   ]
  },
  {
   "cell_type": "code",
   "execution_count": null,
   "metadata": {},
   "outputs": [],
   "source": [
    "exercicio_5_1= ('Lucas','Débora','Matheus','Leticia')\n",
    "\n",
    "exercicio_5_2=exercicio_5_1\n",
    "\n",
    "print(\"*1ª forma:\", exercicio_5_2)\n",
    "\n",
    "print(\"\\n*2ª forma:\",exercicio_5_1[0:])"
   ]
  },
  {
   "cell_type": "code",
   "execution_count": null,
   "metadata": {},
   "outputs": [],
   "source": [
    "exercicio_6=[(10, 20, 40), (40, 50, 60), (70, 80, 90)]\n",
    "\n",
    "print(\"Tuplas originais:\\n\", exercicio_6)\n",
    "\n",
    "print(\"\\nTuplas com último elemento trocado:\\n\",[a[:-1]+(100,) for a in  exercicio_6 ])\n"
   ]
  },
  {
   "cell_type": "code",
   "execution_count": null,
   "metadata": {},
   "outputs": [],
   "source": [
    "exercicio_7 = 3.40\n",
    "\n",
    "for x in range(1,101):\n",
    "    print(\"US$ {0} = R${1:7.2f} --------------------> R${2} = US${3:7.2f}\".format(x,exercicio_7*x,x,x/exercicio_7))"
   ]
  }
 ],
 "metadata": {
  "kernelspec": {
   "display_name": "Python 3",
   "language": "python",
   "name": "python3"
  },
  "language_info": {
   "codemirror_mode": {
    "name": "ipython",
    "version": 3
   },
   "file_extension": ".py",
   "mimetype": "text/x-python",
   "name": "python",
   "nbconvert_exporter": "python",
   "pygments_lexer": "ipython3",
   "version": "3.7.1"
  }
 },
 "nbformat": 4,
 "nbformat_minor": 2
}
